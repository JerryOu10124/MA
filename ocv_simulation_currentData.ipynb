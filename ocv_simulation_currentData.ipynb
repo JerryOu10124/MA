{
 "cells": [
  {
   "cell_type": "code",
   "id": "initial_id",
   "metadata": {
    "collapsed": true,
    "ExecuteTime": {
     "end_time": "2024-06-14T08:01:20.665632Z",
     "start_time": "2024-06-14T08:01:20.661803Z"
    }
   },
   "source": [
    "import pybamm\n",
    "import numpy as np\n",
    "import matplotlib.pyplot as plt\n",
    "import pandas as pd"
   ],
   "outputs": [],
   "execution_count": 59
  },
  {
   "metadata": {
    "ExecuteTime": {
     "end_time": "2024-06-14T08:01:21.438029Z",
     "start_time": "2024-06-14T08:01:21.390331Z"
    }
   },
   "cell_type": "code",
   "source": "df = pd.read_csv(\"filtered_data.csv\")",
   "id": "658126a42693e60a",
   "outputs": [],
   "execution_count": 60
  },
  {
   "metadata": {
    "ExecuteTime": {
     "end_time": "2024-06-14T08:01:35.768140Z",
     "start_time": "2024-06-14T08:01:35.760928Z"
    }
   },
   "cell_type": "code",
   "source": [
    "new_time = np.arange(0, len(df['Testtime [s]']))\n",
    "df['Testtime [s]'] = new_time\n",
    "drive_cycle = df.to_numpy()\n",
    "time_data = drive_cycle[:, 1]  # Time data in seconds\n",
    "current_data = -drive_cycle[:, 3]  # Current data in amperes"
   ],
   "id": "67b8a5e832d79779",
   "outputs": [],
   "execution_count": 63
  },
  {
   "metadata": {
    "ExecuteTime": {
     "end_time": "2024-06-14T08:01:36.507856Z",
     "start_time": "2024-06-14T08:01:36.295226Z"
    }
   },
   "cell_type": "code",
   "source": "plt.plot(time_data, current_data)",
   "id": "8a85bcc92d2ae876",
   "outputs": [
    {
     "data": {
      "text/plain": [
       "[<matplotlib.lines.Line2D at 0x13c561950>]"
      ]
     },
     "execution_count": 64,
     "metadata": {},
     "output_type": "execute_result"
    },
    {
     "data": {
      "text/plain": [
       "<Figure size 640x480 with 1 Axes>"
      ],
      "image/png": "[encoded data removed]"
     },
     "metadata": {},
     "output_type": "display_data"
    }
   ],
   "execution_count": 64
  },
  {
   "metadata": {
    "ExecuteTime": {
     "end_time": "2024-06-13T12:04:49.775077Z",
     "start_time": "2024-06-13T12:04:49.767002Z"
    }
   },
   "cell_type": "code",
   "source": "time_data.shape[0]",
   "id": "d25068275d8f05ee",
   "outputs": [
    {
     "data": {
      "text/plain": [
       "63519"
      ]
     },
     "execution_count": 36,
     "metadata": {},
     "output_type": "execute_result"
    }
   ],
   "execution_count": 36
  },
  {
   "metadata": {
    "ExecuteTime": {
     "end_time": "2024-06-13T12:04:54.099497Z",
     "start_time": "2024-06-13T12:04:50.036478Z"
    }
   },
   "cell_type": "code",
   "source": [
    "# Step 1：Creating Interpolation Functions\n",
    "# Creating interpolant functions with pybamm.Interpolant\n",
    "current_interpolant = pybamm.Interpolant(time_data, current_data, pybamm.t)\n",
    "\n",
    "# Step 2：Using Interpolation Functions in Models\n",
    "# Create a simple DFN model\n",
    "model = pybamm.lithium_ion.DFN()\n",
    "\n",
    "# Setting the current function）\n",
    "param = pybamm.ParameterValues(\"OKane2022\")\n",
    "param[\"Current function [A]\"] = current_interpolant\n",
    "\n",
    "# Creating Simulation Objects\n",
    "solver = pybamm.CasadiSolver(mode=\"fast\")\n",
    "simulation = pybamm.Simulation(model, parameter_values=param, solver=solver)\n",
    "\n",
    "# Running simulations with time ranges consistent with data\n",
    "solution = simulation.solve()  \n",
    "# simulation.plot()\n",
    "\n",
    "# Getting results\n",
    "time = solution[\"Time [s]\"].entries\n",
    "current = solution[\"Current [A]\"].entries\n",
    "voltage = solution[\"Terminal voltage [V]\"].entries\n"
   ],
   "id": "88458632f4ae2cdc",
   "outputs": [],
   "execution_count": 51
  },
  {
   "metadata": {
    "ExecuteTime": {
     "end_time": "2024-06-13T12:12:24.865164Z",
     "start_time": "2024-06-13T12:12:24.802387Z"
    }
   },
   "cell_type": "code",
   "source": [
    "#\n",
    "voltage_ex = df[\"Voltage[V]\"].to_numpy()\n",
    "time_ex = df[\"Testtime [s]\"].to_numpy()"
   ],
   "id": "e00ebd3d287a328a",
   "outputs": [
    {
     "ename": "KeyError",
     "evalue": "'Voltage[V]'",
     "output_type": "error",
     "traceback": [
      "\u001B[0;31m---------------------------------------------------------------------------\u001B[0m",
      "\u001B[0;31mKeyError\u001B[0m                                  Traceback (most recent call last)",
      "File \u001B[0;32m/opt/anaconda3/envs/PyBamm/lib/python3.11/site-packages/pandas/core/indexes/base.py:3805\u001B[0m, in \u001B[0;36mIndex.get_loc\u001B[0;34m(self, key)\u001B[0m\n\u001B[1;32m   3804\u001B[0m \u001B[38;5;28;01mtry\u001B[39;00m:\n\u001B[0;32m-> 3805\u001B[0m     \u001B[38;5;28;01mreturn\u001B[39;00m \u001B[38;5;28mself\u001B[39m\u001B[38;5;241m.\u001B[39m_engine\u001B[38;5;241m.\u001B[39mget_loc(casted_key)\n\u001B[1;32m   3806\u001B[0m \u001B[38;5;28;01mexcept\u001B[39;00m \u001B[38;5;167;01mKeyError\u001B[39;00m \u001B[38;5;28;01mas\u001B[39;00m err:\n",
      "File \u001B[0;32mindex.pyx:167\u001B[0m, in \u001B[0;36mpandas._libs.index.IndexEngine.get_loc\u001B[0;34m()\u001B[0m\n",
      "File \u001B[0;32mindex.pyx:196\u001B[0m, in \u001B[0;36mpandas._libs.index.IndexEngine.get_loc\u001B[0;34m()\u001B[0m\n",
      "File \u001B[0;32mpandas/_libs/hashtable_class_helper.pxi:7081\u001B[0m, in \u001B[0;36mpandas._libs.hashtable.PyObjectHashTable.get_item\u001B[0;34m()\u001B[0m\n",
      "File \u001B[0;32mpandas/_libs/hashtable_class_helper.pxi:7089\u001B[0m, in \u001B[0;36mpandas._libs.hashtable.PyObjectHashTable.get_item\u001B[0;34m()\u001B[0m\n",
      "\u001B[0;31mKeyError\u001B[0m: 'Voltage[V]'",
      "\nThe above exception was the direct cause of the following exception:\n",
      "\u001B[0;31mKeyError\u001B[0m                                  Traceback (most recent call last)",
      "Cell \u001B[0;32mIn[52], line 2\u001B[0m\n\u001B[1;32m      1\u001B[0m \u001B[38;5;66;03m#\u001B[39;00m\n\u001B[0;32m----> 2\u001B[0m voltage_ex \u001B[38;5;241m=\u001B[39m df[\u001B[38;5;124m\"\u001B[39m\u001B[38;5;124mVoltage[V]\u001B[39m\u001B[38;5;124m\"\u001B[39m]\u001B[38;5;241m.\u001B[39mto_numpy()\n\u001B[1;32m      3\u001B[0m time_ex \u001B[38;5;241m=\u001B[39m df[\u001B[38;5;124m\"\u001B[39m\u001B[38;5;124mTesttime [s]\u001B[39m\u001B[38;5;124m\"\u001B[39m]\u001B[38;5;241m.\u001B[39mto_numpy()\n",
      "File \u001B[0;32m/opt/anaconda3/envs/PyBamm/lib/python3.11/site-packages/pandas/core/frame.py:4090\u001B[0m, in \u001B[0;36mDataFrame.__getitem__\u001B[0;34m(self, key)\u001B[0m\n\u001B[1;32m   4088\u001B[0m \u001B[38;5;28;01mif\u001B[39;00m \u001B[38;5;28mself\u001B[39m\u001B[38;5;241m.\u001B[39mcolumns\u001B[38;5;241m.\u001B[39mnlevels \u001B[38;5;241m>\u001B[39m \u001B[38;5;241m1\u001B[39m:\n\u001B[1;32m   4089\u001B[0m     \u001B[38;5;28;01mreturn\u001B[39;00m \u001B[38;5;28mself\u001B[39m\u001B[38;5;241m.\u001B[39m_getitem_multilevel(key)\n\u001B[0;32m-> 4090\u001B[0m indexer \u001B[38;5;241m=\u001B[39m \u001B[38;5;28mself\u001B[39m\u001B[38;5;241m.\u001B[39mcolumns\u001B[38;5;241m.\u001B[39mget_loc(key)\n\u001B[1;32m   4091\u001B[0m \u001B[38;5;28;01mif\u001B[39;00m is_integer(indexer):\n\u001B[1;32m   4092\u001B[0m     indexer \u001B[38;5;241m=\u001B[39m [indexer]\n",
      "File \u001B[0;32m/opt/anaconda3/envs/PyBamm/lib/python3.11/site-packages/pandas/core/indexes/base.py:3812\u001B[0m, in \u001B[0;36mIndex.get_loc\u001B[0;34m(self, key)\u001B[0m\n\u001B[1;32m   3807\u001B[0m     \u001B[38;5;28;01mif\u001B[39;00m \u001B[38;5;28misinstance\u001B[39m(casted_key, \u001B[38;5;28mslice\u001B[39m) \u001B[38;5;129;01mor\u001B[39;00m (\n\u001B[1;32m   3808\u001B[0m         \u001B[38;5;28misinstance\u001B[39m(casted_key, abc\u001B[38;5;241m.\u001B[39mIterable)\n\u001B[1;32m   3809\u001B[0m         \u001B[38;5;129;01mand\u001B[39;00m \u001B[38;5;28many\u001B[39m(\u001B[38;5;28misinstance\u001B[39m(x, \u001B[38;5;28mslice\u001B[39m) \u001B[38;5;28;01mfor\u001B[39;00m x \u001B[38;5;129;01min\u001B[39;00m casted_key)\n\u001B[1;32m   3810\u001B[0m     ):\n\u001B[1;32m   3811\u001B[0m         \u001B[38;5;28;01mraise\u001B[39;00m InvalidIndexError(key)\n\u001B[0;32m-> 3812\u001B[0m     \u001B[38;5;28;01mraise\u001B[39;00m \u001B[38;5;167;01mKeyError\u001B[39;00m(key) \u001B[38;5;28;01mfrom\u001B[39;00m \u001B[38;5;21;01merr\u001B[39;00m\n\u001B[1;32m   3813\u001B[0m \u001B[38;5;28;01mexcept\u001B[39;00m \u001B[38;5;167;01mTypeError\u001B[39;00m:\n\u001B[1;32m   3814\u001B[0m     \u001B[38;5;66;03m# If we have a listlike key, _check_indexing_error will raise\u001B[39;00m\n\u001B[1;32m   3815\u001B[0m     \u001B[38;5;66;03m#  InvalidIndexError. Otherwise we fall through and re-raise\u001B[39;00m\n\u001B[1;32m   3816\u001B[0m     \u001B[38;5;66;03m#  the TypeError.\u001B[39;00m\n\u001B[1;32m   3817\u001B[0m     \u001B[38;5;28mself\u001B[39m\u001B[38;5;241m.\u001B[39m_check_indexing_error(key)\n",
      "\u001B[0;31mKeyError\u001B[0m: 'Voltage[V]'"
     ]
    }
   ],
   "execution_count": 52
  },
  {
   "metadata": {
    "ExecuteTime": {
     "end_time": "2024-06-13T12:12:25.448740Z",
     "start_time": "2024-06-13T12:12:25.443875Z"
    }
   },
   "cell_type": "code",
   "source": "df.shape[0]",
   "id": "bb7e45164d0c8db6",
   "outputs": [
    {
     "data": {
      "text/plain": [
       "63519"
      ]
     },
     "execution_count": 53,
     "metadata": {},
     "output_type": "execute_result"
    }
   ],
   "execution_count": 53
  },
  {
   "metadata": {
    "ExecuteTime": {
     "end_time": "2024-06-13T12:12:26.327606Z",
     "start_time": "2024-06-13T12:12:26.178247Z"
    }
   },
   "cell_type": "code",
   "source": [
    "df_sim = pd.DataFrame()\n",
    "df_sim[\"Testtime [s]\"] = time\n",
    "df_sim[\"Voltage[V]\"] = voltage\n",
    "df_sim.to_csv(\"data/data_ocv_sim.csv\", index=False)"
   ],
   "id": "88e036a92dbc6946",
   "outputs": [],
   "execution_count": 54
  },
  {
   "metadata": {
    "ExecuteTime": {
     "end_time": "2024-06-13T12:12:30.183511Z",
     "start_time": "2024-06-13T12:12:29.656460Z"
    }
   },
   "cell_type": "code",
   "source": [
    "plt.plot(time_ex, voltage_ex, label='experimental OCV')\n",
    "plt.plot(time, voltage, label='Simulated OCV')\n",
    "plt.xlabel('Time [s]')\n",
    "plt.ylabel('OCV [V]')\n",
    "plt.title('Comparison of OCV-simulation and OCV-experiment-extract')\n",
    "plt.legend()\n",
    "plt.show()\n"
   ],
   "id": "6f12ec8fb3d39201",
   "outputs": [
    {
     "data": {
      "text/plain": [
       "<Figure size 640x480 with 1 Axes>"
      ],
      "image/png": "[encoded data removed]"
     },
     "metadata": {},
     "output_type": "display_data"
    }
   ],
   "execution_count": 55
  },
  {
   "metadata": {
    "ExecuteTime": {
     "end_time": "2024-06-13T12:11:45.252054Z",
     "start_time": "2024-06-13T12:11:45.211177Z"
    }
   },
   "cell_type": "code",
   "source": [
    "# Reading CSV files\n",
    "df1 = pd.read_csv('data/data_ocv_ex.csv')\n",
    "df2 = pd.read_csv('data/data_ocv_sim.csv')\n",
    "\n",
    "# Extract the columns to be compared\n",
    "ex = df1['Testtime [s]']\n",
    "sim = df2['Testtime [s]']\n",
    "\n",
    "# Compare two columns of data to see if they are identical\n",
    "if ex.equals(sim):\n",
    "    print('The columns are exactly the same.')\n",
    "else:\n",
    "    print('The columns are different.')\n"
   ],
   "id": "e18d407eab9de1f2",
   "outputs": [
    {
     "name": "stdout",
     "output_type": "stream",
     "text": [
      "The columns are different.\n"
     ]
    }
   ],
   "execution_count": 50
  },
  {
   "metadata": {
    "ExecuteTime": {
     "end_time": "2024-06-12T09:06:57.343668Z",
     "start_time": "2024-06-12T09:06:57.337738Z"
    }
   },
   "cell_type": "code",
   "source": "ex.shape[0]\n",
   "id": "616d6cb6c36adf75",
   "outputs": [
    {
     "data": {
      "text/plain": [
       "63519"
      ]
     },
     "execution_count": 15,
     "metadata": {},
     "output_type": "execute_result"
    }
   ],
   "execution_count": 15
  },
  {
   "metadata": {
    "ExecuteTime": {
     "end_time": "2024-06-12T09:06:58.198782Z",
     "start_time": "2024-06-12T09:06:58.193856Z"
    }
   },
   "cell_type": "code",
   "source": "sim.shape[0]",
   "id": "e5130bdee5586cdd",
   "outputs": [
    {
     "data": {
      "text/plain": [
       "63386"
      ]
     },
     "execution_count": 16,
     "metadata": {},
     "output_type": "execute_result"
    }
   ],
   "execution_count": 16
  },
  {
   "metadata": {},
   "cell_type": "code",
   "outputs": [],
   "execution_count": null,
   "source": "",
   "id": "93e9cf92771f20ba"
  }
 ],
 "metadata": {
  "kernelspec": {
   "display_name": "Python 3",
   "language": "python",
   "name": "python3"
  },
  "language_info": {
   "codemirror_mode": {
    "name": "ipython",
    "version": 2
   },
   "file_extension": ".py",
   "mimetype": "text/x-python",
   "name": "python",
   "nbconvert_exporter": "python",
   "pygments_lexer": "ipython2",
   "version": "2.7.6"
  }
 },
 "nbformat": 4,
 "nbformat_minor": 5
}
