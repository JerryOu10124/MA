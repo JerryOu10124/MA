{
 "cells": [
  {
   "cell_type": "code",
   "execution_count": 10,
   "id": "initial_id",
   "metadata": {
    "collapsed": true,
    "ExecuteTime": {
     "end_time": "2024-07-15T10:45:04.664498700Z",
     "start_time": "2024-07-15T10:45:04.657495300Z"
    }
   },
   "outputs": [],
   "source": [
    "import pybamm\n",
    "import numpy as np\n",
    "import matplotlib.pyplot as plt\n",
    "import pandas as pd\n",
    "import scipy.special as sc_special\n",
    "from sklearn.metrics import mean_squared_error"
   ]
  },
  {
   "cell_type": "code",
   "outputs": [],
   "source": [
    "def cuckoo_search(n, m, fit_func, lower_boundary, upper_boundary, iter_num=100, pa=0.25, beta=1.5, step_size=0.1):\n",
    "    nests = generate_nests(n, m, lower_boundary, upper_boundary)\n",
    "    fitness = calc_fitness(fit_func, nests)\n",
    "\n",
    "    best_nest_index = np.argmax(fitness)\n",
    "    best_fitness = fitness[best_nest_index]\n",
    "    best_nest = nests[best_nest_index].copy()\n",
    "\n",
    "    for _ in range(iter_num):\n",
    "        nests = update_nests(fit_func, lower_boundary, upper_boundary, nests, best_nest, fitness, step_size)\n",
    "        nests = abandon_nests(nests, lower_boundary, upper_boundary, pa)\n",
    "        fitness = calc_fitness(fit_func, nests)\n",
    "        \n",
    "        max_nest_index = np.argmax(fitness)\n",
    "        max_fitness = fitness[max_nest_index]\n",
    "        max_nest = nests[max_nest_index]\n",
    "\n",
    "        if (max_fitness > best_fitness):\n",
    "            best_nest = max_nest.copy()\n",
    "            best_fitness = max_fitness\n",
    "\n",
    "    return best_nest, best_fitness"
   ],
   "metadata": {
    "collapsed": false,
    "ExecuteTime": {
     "end_time": "2024-07-15T10:45:05.255049600Z",
     "start_time": "2024-07-15T10:45:05.251771600Z"
    }
   },
   "id": "dc2140995149b299",
   "execution_count": 11
  },
  {
   "cell_type": "code",
   "outputs": [],
   "source": [
    "def generate_nests(n, m, lower_boundary, upper_boundary):\n",
    "    lower_boundary = np.array(lower_boundary)\n",
    "    upper_boundary = np.array(upper_boundary)\n",
    "    nests = np.empty((n, m))\n",
    "\n",
    "    for each_nest in range(n):\n",
    "        nests[each_nest] = lower_boundary + np.random.rand(m) * (upper_boundary - lower_boundary)\n",
    "\n",
    "    return nests"
   ],
   "metadata": {
    "collapsed": false,
    "ExecuteTime": {
     "end_time": "2024-07-15T10:45:05.703752200Z",
     "start_time": "2024-07-15T10:45:05.699092900Z"
    }
   },
   "id": "61fdbc4ce8ffeaa3",
   "execution_count": 12
  },
  {
   "cell_type": "code",
   "outputs": [],
   "source": [
    "def update_nests(fit_func, lower_boundary, upper_boundary, nests, best_nest, fitness, step_coefficient):\n",
    "    lower_boundary = np.array(lower_boundary)\n",
    "    upper_boundary = np.array(upper_boundary)\n",
    "    n, m = nests.shape\n",
    "    steps = levy_flight(n, m, 1.5)\n",
    "    new_nests = nests.copy()\n",
    "\n",
    "    for each_nest in range(n):\n",
    "        step_size = step_coefficient * steps[each_nest] * (nests[each_nest] - best_nest)\n",
    "        step_direction = np.random.rand(m)\n",
    "        new_nests[each_nest] += step_size * step_direction\n",
    "        # 更新部分：用 np.clip 限制新的巢穴位置\n",
    "        new_nests[each_nest] = np.clip(new_nests[each_nest], lower_boundary, upper_boundary)\n",
    "\n",
    "    new_fitness = calc_fitness(fit_func, new_nests)\n",
    "    nests[new_fitness > fitness] = new_nests[new_fitness > fitness]\n",
    "    \n",
    "    return nests"
   ],
   "metadata": {
    "collapsed": false,
    "ExecuteTime": {
     "end_time": "2024-07-15T10:45:06.096964200Z",
     "start_time": "2024-07-15T10:45:06.088893200Z"
    }
   },
   "id": "b3db0ff481d1ae4a",
   "execution_count": 13
  },
  {
   "cell_type": "code",
   "outputs": [],
   "source": [
    "def abandon_nests(nests, lower_boundary, upper_boundary, pa):\n",
    "    lower_boundary = np.array(lower_boundary)\n",
    "    upper_boundary = np.array(upper_boundary)\n",
    "    n, m = nests.shape\n",
    "    for each_nest in range(n):\n",
    "        if np.random.rand() < pa:\n",
    "            step_size = np.random.rand() * (nests[np.random.randint(0, n)] - nests[np.random.randint(0, n)])\n",
    "            nests[each_nest] += step_size\n",
    "            # 更新部分：用 np.clip 限制新的巢穴位置\n",
    "            nests[each_nest] = np.clip(nests[each_nest], lower_boundary, upper_boundary)\n",
    "    \n",
    "    return nests"
   ],
   "metadata": {
    "collapsed": false,
    "ExecuteTime": {
     "end_time": "2024-07-15T10:45:06.534643500Z",
     "start_time": "2024-07-15T10:45:06.531121400Z"
    }
   },
   "id": "99345ee3e40a6f18",
   "execution_count": 14
  },
  {
   "cell_type": "code",
   "outputs": [],
   "source": [
    "def levy_flight(n, m, beta):\n",
    "    sigma_u = (sc_special.gamma(1+beta)*np.sin(np.pi*beta/2)/(sc_special.gamma((1+beta)/2)*beta*(2**((beta-1)/2))))**(1/beta)\n",
    "    sigma_v = 1\n",
    "\n",
    "    u =  np.random.normal(0, sigma_u, (n, m))\n",
    "    v = np.random.normal(0, sigma_v, (n, m))\n",
    "\n",
    "    steps = u/((np.abs(v))**(1/beta))\n",
    "\n",
    "    return steps"
   ],
   "metadata": {
    "collapsed": false,
    "ExecuteTime": {
     "end_time": "2024-07-15T10:45:06.982923900Z",
     "start_time": "2024-07-15T10:45:06.977928Z"
    }
   },
   "id": "5d85f62a8a4a234d",
   "execution_count": 15
  },
  {
   "cell_type": "code",
   "outputs": [],
   "source": [
    "def calc_fitness(fit_func, nests):\n",
    "    n, m = nests.shape\n",
    "    fitness = np.empty(n)\n",
    "\n",
    "    for each_nest in range(n):\n",
    "        fitness[each_nest] = fit_func(nests[each_nest])\n",
    "\n",
    "    return fitness"
   ],
   "metadata": {
    "collapsed": false,
    "ExecuteTime": {
     "end_time": "2024-07-15T10:45:07.642190200Z",
     "start_time": "2024-07-15T10:45:07.628477200Z"
    }
   },
   "id": "95fbe80142677407",
   "execution_count": 16
  },
  {
   "cell_type": "code",
   "outputs": [],
   "source": [
    "def fit_func(nest):\n",
    "    A, l_pos, epsilon_f_pos, c_s_pos_max, l_neg, epsilon_f_neg, c_s_neg_max = nest\n",
    "    df_ex = pd.read_csv('data/data_ocv_ex.csv')\n",
    "    df_sim = pd.read_csv('data/data_ocv_sim_ex.csv')\n",
    "\n",
    "    v_t = df_ex['Voltage[V]']\n",
    "    v_hat_t = df_sim['Voltage[V]']\n",
    "    \n",
    "    FF_V = mean_squared_error(v_t, v_hat_t)\n",
    "\n",
    "    F = 96485.33212\n",
    "    theta_0_pos = 0.915\n",
    "    theta_0_neg = 0.008\n",
    "    theta_100_pos = 0.254\n",
    "    theta_100_neg = 0.855\n",
    "    FF_C = np.abs((A * l_pos * epsilon_f_pos * F * c_s_pos_max * (theta_0_pos - theta_100_pos) / 3600) - \n",
    "                  (A * l_neg * epsilon_f_neg * F * c_s_neg_max * (theta_100_neg - theta_0_neg) / 3600))\n",
    "    \n",
    "    # 更新部分：归一化 FF_V 和 FF_C，并检查分母是否为零\n",
    "    if np.max(v_t) != np.min(v_t):\n",
    "        FF_V_norm = (FF_V - np.min(v_t)) / (np.max(v_t) - np.min(v_t))\n",
    "    else:\n",
    "        FF_V_norm = 0\n",
    "\n",
    "    if np.max(FF_C) != np.min(FF_C):\n",
    "        FF_C_norm = (FF_C - np.min(FF_C)) / (np.max(FF_C) - np.min(FF_C))\n",
    "    else:\n",
    "        FF_C_norm = 0\n",
    "    \n",
    "    w_Vn = 0.2\n",
    "    w_c = 1 - w_Vn\n",
    "    FF_M = w_Vn * FF_V_norm + w_c * FF_C_norm\n",
    "    \n",
    "    return FF_M"
   ],
   "metadata": {
    "collapsed": false,
    "ExecuteTime": {
     "end_time": "2024-07-15T10:45:08.633991900Z",
     "start_time": "2024-07-15T10:45:08.627463600Z"
    }
   },
   "id": "c45c9d95bad34472",
   "execution_count": 17
  },
  {
   "cell_type": "code",
   "outputs": [
    {
     "name": "stdout",
     "output_type": "stream",
     "text": [
      "Max fitness: -0.29407, Best nest position: (A: 0.39409, l_pos: 51.94488, epsilon_f_pos: 0.39544, c_s_pos_max: 5.14199, l_neg: 47.91502, epsilon_f_neg: 0.45741, c_s_neg_max: 2.95426)\n"
     ]
    }
   ],
   "source": [
    "if __name__ == '__main__':\n",
    "    lower_bounds = [0.378, 35, 0.35, 4.8, 35, 0.4, 2.9]\n",
    "    upper_bounds = [0.395, 79, 0.5, 5.2, 79, 0.5, 3.3]\n",
    "\n",
    "    best_nest, best_fitness = cuckoo_search(50, 7, fit_func, lower_bounds, upper_bounds, step_size=0.4)\n",
    "\n",
    "    print('Max fitness: %.5f, Best nest position: (A: %.5f, l_pos: %.5f, epsilon_f_pos: %.5f, c_s_pos_max: %.5f, l_neg: %.5f, epsilon_f_neg: %.5f, c_s_neg_max: %.5f)' \n",
    "          % (best_fitness, best_nest[0], best_nest[1], best_nest[2], best_nest[3], best_nest[4], best_nest[5], best_nest[6]))"
   ],
   "metadata": {
    "collapsed": false,
    "ExecuteTime": {
     "end_time": "2024-07-15T10:50:02.857572Z",
     "start_time": "2024-07-15T10:45:10.522074Z"
    }
   },
   "id": "a11cbdd265a8c734",
   "execution_count": 18
  },
  {
   "cell_type": "code",
   "outputs": [],
   "source": [
    "def fit_func(nest):\n",
    "    A, l_pos, epsilon_f_pos, c_s_pos_max, l_neg, epsilon_f_neg, c_s_neg_max = nest\n",
    "    df_ex = pd.read_csv('data/data_ocv_ex.csv')\n",
    "    df_sim = pd.read_csv('data/data_ocv_sim_ex.csv')\n",
    "\n",
    "    v_t = df_ex['Voltage[V]']\n",
    "    v_hat_t = df_sim['Voltage[V]']\n",
    "    \n",
    "    FF_V = mean_squared_error(v_t, v_hat_t)\n",
    "\n",
    "    F = 96485.33212\n",
    "    theta_0_pos = 0.915\n",
    "    theta_0_neg = 0.008\n",
    "    theta_100_pos = 0.254\n",
    "    theta_100_neg = 0.855\n",
    "    FF_C = np.abs((A * l_pos * epsilon_f_pos * F * c_s_pos_max * (theta_0_pos - theta_100_pos) / 3600) - \n",
    "                  (A * l_neg * epsilon_f_neg * F * c_s_neg_max * (theta_100_neg - theta_0_neg) / 3600))\n",
    "    \n",
    "    # 更新部分：归一化 FF_V 和 FF_C，并检查分母是否为零\n",
    "    if np.max(v_t) != np.min(v_t):\n",
    "        FF_V_norm = (FF_V - np.min(v_t)) / (np.max(v_t) - np.min(v_t))\n",
    "    else:\n",
    "        FF_V_norm = 0\n",
    "\n",
    "    if np.max(FF_C) != np.min(FF_C):\n",
    "        FF_C_norm = (FF_C - np.min(FF_C)) / (np.max(FF_C) - np.min(FF_C))\n",
    "    else:\n",
    "        FF_C_norm = 0\n",
    "    \n",
    "    w_Vn = 0.8\n",
    "    w_c = 1 - w_Vn\n",
    "    FF_M = w_Vn * FF_V_norm + w_c * FF_C_norm\n",
    "    \n",
    "    return FF_M"
   ],
   "metadata": {
    "collapsed": false,
    "ExecuteTime": {
     "end_time": "2024-07-15T11:32:51.773430200Z",
     "start_time": "2024-07-15T11:32:51.770923800Z"
    }
   },
   "id": "397627a24fcc0c6",
   "execution_count": 28
  },
  {
   "cell_type": "code",
   "outputs": [
    {
     "name": "stdout",
     "output_type": "stream",
     "text": [
      "Max fitness: -1.17627, Best nest position: (A: 0.37820, l_pos: 65.41416, epsilon_f_pos: 0.49169, c_s_pos_max: 4.88187, l_neg: 59.39536, epsilon_f_neg: 0.48402, c_s_neg_max: 3.12161)\n"
     ]
    }
   ],
   "source": [
    "if __name__ == '__main__':\n",
    "    lower_bounds = [0.378, 35, 0.35, 4.8, 35, 0.4, 2.9]\n",
    "    upper_bounds = [0.395, 79, 0.5, 5.2, 79, 0.5, 3.3]\n",
    "\n",
    "    best_nest, best_fitness = cuckoo_search(50, 7, fit_func, lower_bounds, upper_bounds, step_size=0.4)\n",
    "\n",
    "    print('Max fitness: %.5f, Best nest position: (A: %.5f, l_pos: %.5f, epsilon_f_pos: %.5f, c_s_pos_max: %.5f, l_neg: %.5f, epsilon_f_neg: %.5f, c_s_neg_max: %.5f)' \n",
    "          % (best_fitness, best_nest[0], best_nest[1], best_nest[2], best_nest[3], best_nest[4], best_nest[5], best_nest[6]))"
   ],
   "metadata": {
    "collapsed": false,
    "ExecuteTime": {
     "end_time": "2024-07-15T11:37:56.049313500Z",
     "start_time": "2024-07-15T11:33:02.426315500Z"
    }
   },
   "id": "63efb4fd7fc9a76f",
   "execution_count": 29
  },
  {
   "cell_type": "code",
   "outputs": [],
   "source": [
    "# 加载数据\n",
    "df_ex = pd.read_csv('data/data_ocv_ex.csv')\n",
    "df_sim = pd.read_csv('data/data_ocv_sim_ex.csv')\n",
    "\n",
    "v_t = df_ex['Voltage[V]']\n",
    "v_hat_t = df_sim['Voltage[V]']\n",
    "\n",
    "# 计算优化前后的MSE\n",
    "initial_mse = mean_squared_error(v_t, v_hat_t)\n"
   ],
   "metadata": {
    "collapsed": false,
    "ExecuteTime": {
     "end_time": "2024-07-15T10:56:10.237044100Z",
     "start_time": "2024-07-15T10:56:10.203391Z"
    }
   },
   "id": "7b80cd9da1a4b12a",
   "execution_count": 20
  },
  {
   "cell_type": "code",
   "outputs": [],
   "source": [
    "l_pos = 51.94488e-6    #\n",
    "epsilon_f_pos = 0.39544\n",
    "c_s_pos_max = 5.14199e4\n",
    "l_neg = 47.91502e-6    #\n",
    "epsilon_f_neg = 0.45741\n",
    "c_s_neg_max = 2.95426e4"
   ],
   "metadata": {
    "collapsed": false,
    "ExecuteTime": {
     "end_time": "2024-07-15T11:09:34.381502700Z",
     "start_time": "2024-07-15T11:09:34.378001600Z"
    }
   },
   "id": "dc277581f1973c05",
   "execution_count": 26
  },
  {
   "cell_type": "code",
   "outputs": [
    {
     "data": {
      "text/plain": "{'Ambient temperature [K]': 298.15,\n 'Boltzmann constant [J.K-1]': 1.380649e-23,\n 'Bulk solvent concentration [mol.m-3]': 2636.0,\n 'Cation transference number': 0.2594,\n 'Cell cooling surface area [m2]': 0.00531,\n 'Cell thermal expansion coefficient [m.K-1]': 1.1e-06,\n 'Cell volume [m3]': 2.42e-05,\n 'Contact resistance [Ohm]': 0,\n 'Current function [A]': 5.0,\n 'Dead lithium decay constant [s-1]': 1e-06,\n 'Dead lithium decay rate [s-1]': <function SEI_limited_dead_lithium_OKane2022 at 0x0000018FC7B42AC0>,\n 'EC diffusivity [m2.s-1]': 2e-18,\n 'EC initial concentration in electrolyte [mol.m-3]': 4541.0,\n 'Electrode height [m]': 0.065,\n 'Electrode width [m]': 1.58,\n 'Electrolyte conductivity [S.m-1]': <function electrolyte_conductivity_Nyman2008_arrhenius at 0x0000018FC7B43420>,\n 'Electrolyte diffusivity [m2.s-1]': <function electrolyte_diffusivity_Nyman2008_arrhenius at 0x0000018FC7B43380>,\n 'Electron charge [C]': 1.602176634e-19,\n 'Exchange-current density for plating [A.m-2]': <function plating_exchange_current_density_OKane2020 at 0x0000018FC7B42A20>,\n 'Exchange-current density for stripping [A.m-2]': <function stripping_exchange_current_density_OKane2020 at 0x0000018FC7B42980>,\n 'Faraday constant [C.mol-1]': 96485.33212,\n 'Ideal gas constant [J.K-1.mol-1]': 8.314462618,\n 'Initial concentration in electrolyte [mol.m-3]': 1000.0,\n 'Initial concentration in negative electrode [mol.m-3]': 29866.0,\n 'Initial concentration in positive electrode [mol.m-3]': 17038.0,\n 'Initial inner SEI thickness [m]': 0.0,\n 'Initial outer SEI thickness [m]': 5e-09,\n 'Initial plated lithium concentration [mol.m-3]': 0.0,\n 'Initial temperature [K]': 298.15,\n 'Inner SEI electron conductivity [S.m-1]': 8.95e-14,\n 'Inner SEI lithium interstitial diffusivity [m2.s-1]': 1e-20,\n 'Inner SEI open-circuit potential [V]': 0.1,\n 'Inner SEI partial molar volume [m3.mol-1]': 9.585e-05,\n 'Inner SEI reaction proportion': 0.0,\n 'Lithium interstitial reference concentration [mol.m-3]': 15.0,\n 'Lithium metal partial molar volume [m3.mol-1]': 1.3e-05,\n 'Lithium plating kinetic rate constant [m.s-1]': 1e-09,\n 'Lithium plating transfer coefficient': 0.65,\n 'Lower voltage cut-off [V]': 2.5,\n 'Maximum concentration in negative electrode [mol.m-3]': 33133.0,\n 'Maximum concentration in positive electrode [mol.m-3]': 63104.0,\n 'Negative current collector conductivity [S.m-1]': 58411000.0,\n 'Negative current collector density [kg.m-3]': 8960.0,\n 'Negative current collector specific heat capacity [J.kg-1.K-1]': 385.0,\n 'Negative current collector thermal conductivity [W.m-1.K-1]': 401.0,\n 'Negative current collector thickness [m]': 1.2e-05,\n 'Negative electrode Bruggeman coefficient (electrode)': 1.5,\n 'Negative electrode Bruggeman coefficient (electrolyte)': 1.5,\n 'Negative electrode LAM constant exponential term': 2.0,\n 'Negative electrode LAM constant proportional term [s-1]': 2.7778e-07,\n 'Negative electrode OCP [V]': <function graphite_LGM50_ocp_Chen2020 at 0x0000018FC7B43560>,\n 'Negative electrode OCP entropic change [V.K-1]': 0.0,\n \"Negative electrode Paris' law constant b\": 1.12,\n \"Negative electrode Paris' law constant m\": 2.2,\n \"Negative electrode Poisson's ratio\": 0.3,\n \"Negative electrode Young's modulus [Pa]\": 15000000000.0,\n 'Negative electrode active material volume fraction': 0.75,\n 'Negative electrode charge transfer coefficient': 0.5,\n 'Negative electrode conductivity [S.m-1]': 215.0,\n 'Negative electrode cracking rate': <function graphite_cracking_rate_Ai2020 at 0x0000018FC7B42FC0>,\n 'Negative electrode critical stress [Pa]': 60000000.0,\n 'Negative electrode density [kg.m-3]': 1657.0,\n 'Negative electrode diffusivity [m2.s-1]': <function graphite_LGM50_diffusivity_Chen2020 at 0x0000018FC7B42D40>,\n 'Negative electrode double-layer capacity [F.m-2]': 0.2,\n 'Negative electrode exchange-current density [A.m-2]': <function graphite_LGM50_electrolyte_exchange_current_density_Chen2020 at 0x0000018FC7B42E80>,\n 'Negative electrode initial crack length [m]': 2e-08,\n 'Negative electrode initial crack width [m]': 1.5e-08,\n 'Negative electrode number of cracks per unit area [m-2]': 3180000000000000.0,\n 'Negative electrode partial molar volume [m3.mol-1]': 3.1e-06,\n 'Negative electrode porosity': 0.25,\n 'Negative electrode reaction-driven LAM factor [m3.mol-1]': 0.0,\n 'Negative electrode reference concentration for free of deformation [mol.m-3]': 0.0,\n 'Negative electrode specific heat capacity [J.kg-1.K-1]': 700.0,\n 'Negative electrode thermal conductivity [W.m-1.K-1]': 1.7,\n 'Negative electrode thickness [m]': 8.52e-05,\n 'Negative electrode volume change': <function graphite_volume_change_Ai2020 at 0x0000018FC7B42F20>,\n 'Negative particle radius [m]': 5.86e-06,\n 'Nominal cell capacity [A.h]': 5.0,\n 'Number of cells connected in series to make a battery': 1.0,\n 'Number of electrodes connected in parallel to make a cell': 1.0,\n 'Open-circuit voltage at 0% SOC [V]': 2.5,\n 'Open-circuit voltage at 100% SOC [V]': 4.2,\n 'Outer SEI open-circuit potential [V]': 0.8,\n 'Outer SEI partial molar volume [m3.mol-1]': 9.585e-05,\n 'Outer SEI solvent diffusivity [m2.s-1]': 2.5000000000000002e-22,\n 'Positive current collector conductivity [S.m-1]': 36914000.0,\n 'Positive current collector density [kg.m-3]': 2700.0,\n 'Positive current collector specific heat capacity [J.kg-1.K-1]': 897.0,\n 'Positive current collector thermal conductivity [W.m-1.K-1]': 237.0,\n 'Positive current collector thickness [m]': 1.6e-05,\n 'Positive electrode Bruggeman coefficient (electrode)': 1.5,\n 'Positive electrode Bruggeman coefficient (electrolyte)': 1.5,\n 'Positive electrode LAM constant exponential term': 2.0,\n 'Positive electrode LAM constant proportional term [s-1]': 2.7778e-07,\n 'Positive electrode OCP [V]': <function nmc_LGM50_ocp_Chen2020 at 0x0000018FC7B43100>,\n 'Positive electrode OCP entropic change [V.K-1]': 0.0,\n \"Positive electrode Paris' law constant b\": 1.12,\n \"Positive electrode Paris' law constant m\": 2.2,\n \"Positive electrode Poisson's ratio\": 0.2,\n \"Positive electrode Young's modulus [Pa]\": 375000000000.0,\n 'Positive electrode active material volume fraction': 0.665,\n 'Positive electrode charge transfer coefficient': 0.5,\n 'Positive electrode conductivity [S.m-1]': 0.18,\n 'Positive electrode cracking rate': <function cracking_rate_Ai2020 at 0x0000018FC7B432E0>,\n 'Positive electrode critical stress [Pa]': 375000000.0,\n 'Positive electrode density [kg.m-3]': 3262.0,\n 'Positive electrode diffusivity [m2.s-1]': <function nmc_LGM50_diffusivity_Chen2020 at 0x0000018FC7B43060>,\n 'Positive electrode double-layer capacity [F.m-2]': 0.2,\n 'Positive electrode exchange-current density [A.m-2]': <function nmc_LGM50_electrolyte_exchange_current_density_Chen2020 at 0x0000018FC7B431A0>,\n 'Positive electrode initial crack length [m]': 2e-08,\n 'Positive electrode initial crack width [m]': 1.5e-08,\n 'Positive electrode number of cracks per unit area [m-2]': 3180000000000000.0,\n 'Positive electrode partial molar volume [m3.mol-1]': 1.25e-05,\n 'Positive electrode porosity': 0.335,\n 'Positive electrode reaction-driven LAM factor [m3.mol-1]': 0.0,\n 'Positive electrode reference concentration for free of deformation [mol.m-3]': 0.0,\n 'Positive electrode specific heat capacity [J.kg-1.K-1]': 700.0,\n 'Positive electrode thermal conductivity [W.m-1.K-1]': 2.1,\n 'Positive electrode thickness [m]': 7.56e-05,\n 'Positive electrode volume change': <function volume_change_Ai2020 at 0x0000018FC7B43240>,\n 'Positive particle radius [m]': 5.22e-06,\n 'Ratio of lithium moles to SEI moles': 1.0,\n 'Reference temperature [K]': 298.15,\n 'SEI growth activation energy [J.mol-1]': 38000.0,\n 'SEI kinetic rate constant [m.s-1]': 1e-12,\n 'SEI open-circuit potential [V]': 0.4,\n 'SEI reaction exchange current density [A.m-2]': 1.5e-07,\n 'SEI resistivity [Ohm.m]': 200000.0,\n 'Separator Bruggeman coefficient (electrolyte)': 1.5,\n 'Separator density [kg.m-3]': 397.0,\n 'Separator porosity': 0.47,\n 'Separator specific heat capacity [J.kg-1.K-1]': 700.0,\n 'Separator thermal conductivity [W.m-1.K-1]': 0.16,\n 'Separator thickness [m]': 1.2e-05,\n 'Thermodynamic factor': 1.0,\n 'Total heat transfer coefficient [W.m-2.K-1]': 10.0,\n 'Typical plated lithium concentration [mol.m-3]': 1000.0,\n 'Upper voltage cut-off [V]': 4.2,\n 'citations': ['OKane2022',\n               'OKane2020',\n               'Chen2020']}"
     },
     "execution_count": 22,
     "metadata": {},
     "output_type": "execute_result"
    }
   ],
   "source": [
    "param = pybamm.ParameterValues(\"OKane2022\")\n",
    "param"
   ],
   "metadata": {
    "collapsed": false,
    "ExecuteTime": {
     "end_time": "2024-07-15T11:01:01.466708200Z",
     "start_time": "2024-07-15T11:01:01.420879200Z"
    }
   },
   "id": "4fe879659f2fed22",
   "execution_count": 22
  },
  {
   "cell_type": "code",
   "outputs": [
    {
     "name": "stdout",
     "output_type": "stream",
     "text": [
      "Maximum concentration in negative electrode [mol.m-3]\t33133.0\n",
      "Maximum concentration in positive electrode [mol.m-3]\t63104.0\n"
     ]
    }
   ],
   "source": [
    "param.search(\"maximum\")"
   ],
   "metadata": {
    "collapsed": false,
    "ExecuteTime": {
     "end_time": "2024-07-15T11:06:45.301088600Z",
     "start_time": "2024-07-15T11:06:45.295081800Z"
    }
   },
   "id": "f224c61b05b2cffc",
   "execution_count": 25
  },
  {
   "cell_type": "code",
   "outputs": [
    {
     "name": "stderr",
     "output_type": "stream",
     "text": [
      "At t = 63.0824 and h = 1.89556e-14, the corrector convergence failed repeatedly or with |h| = hmin.\n",
      "2024-07-15 13:53:46.367 - [ERROR] callbacks.on_experiment_error(224): Simulation error: Error in Function::call for 'F' [IdasInterface] at .../casadi/core/function.cpp:1401:\n",
      "Error in Function::call for 'F' [IdasInterface] at .../casadi/core/function.cpp:330:\n",
      ".../casadi/interfaces/sundials/idas_interface.cpp:596: IDASolve returned \"IDA_CONV_FAIL\". Consult IDAS documentation.\n"
     ]
    }
   ],
   "source": [
    "# Create a simple DFN model\n",
    "model = pybamm.lithium_ion.DFN()\n",
    "# create experiment\n",
    "experiment = pybamm.Experiment(\n",
    "    [\"Rest for 901 s\",\n",
    "        (\n",
    "            \"Discharge at 0.96 A for 147 s\",\n",
    "            \"Rest for 361 s\",\n",
    "        ) * 123,\n",
    "     \"Discharge at 0.96 A for 134 s\"\n",
    "    ]\n",
    "    \n",
    ")\n",
    "# Setting the current function）\n",
    "param = pybamm.ParameterValues(\"OKane2022\")\n",
    "param[\"Negative electrode thickness [m]\"] = l_pos\n",
    "param[\"Positive electrode thickness [m]\"] = l_neg\n",
    "param[\"Negative electrode active material volume fraction\"] = epsilon_f_neg\n",
    "param[\"Positive electrode active material volume fraction\"] = epsilon_f_pos\n",
    "# param[\"Maximum concentration in negative electrode [mol.m-3]\"] = c_s_neg_max\n",
    "# param[\"Maximum concentration in positive electrode [mol.m-3]\"] = c_s_pos_max\n",
    "\n",
    "\n",
    "# Creating Simulation Objects\n",
    "solver = pybamm.CasadiSolver(mode=\"fast\")\n",
    "simulation = pybamm.Simulation(model, parameter_values=param, solver=solver, experiment=experiment)\n",
    "\n",
    "# Running simulations with time ranges consistent with data\n",
    "solution = simulation.solve()  \n",
    "# Getting results\n",
    "time_opt = solution[\"Time [s]\"].entries\n",
    "# current = solution[\"Current [A]\"].entries\n",
    "voltage_opt = solution[\"Terminal voltage [V]\"].entries"
   ],
   "metadata": {
    "collapsed": false,
    "ExecuteTime": {
     "end_time": "2024-07-15T11:53:46.722533Z",
     "start_time": "2024-07-15T11:53:40.812106700Z"
    }
   },
   "id": "6af49497053629a0",
   "execution_count": 32
  },
  {
   "cell_type": "code",
   "outputs": [],
   "source": [],
   "metadata": {
    "collapsed": false
   },
   "id": "5f3054661b4b3f9a"
  }
 ],
 "metadata": {
  "kernelspec": {
   "display_name": "Python 3",
   "language": "python",
   "name": "python3"
  },
  "language_info": {
   "codemirror_mode": {
    "name": "ipython",
    "version": 2
   },
   "file_extension": ".py",
   "mimetype": "text/x-python",
   "name": "python",
   "nbconvert_exporter": "python",
   "pygments_lexer": "ipython2",
   "version": "2.7.6"
  }
 },
 "nbformat": 4,
 "nbformat_minor": 5
}
