{
 "cells": [
  {
   "cell_type": "code",
   "execution_count": 1,
   "id": "initial_id",
   "metadata": {
    "collapsed": true,
    "ExecuteTime": {
     "end_time": "2024-08-08T09:49:03.328014Z",
     "start_time": "2024-08-08T09:48:41.629782900Z"
    }
   },
   "outputs": [],
   "source": [
    "import pybamm\n",
    "import numpy as np\n",
    "import matplotlib.pyplot as plt\n",
    "import pandas as pd\n",
    "import scipy.special as sc_special\n",
    "from scipy.interpolate import interp1d\n",
    "from sklearn.metrics import mean_squared_error"
   ]
  },
  {
   "cell_type": "code",
   "outputs": [],
   "source": [
    "def cuckoo_search(n, m, fit_func, lower_boundary, upper_boundary, iter_num=100, pa=0.25, beta=1.5, step_size=0.1):\n",
    "    nests = generate_nests(n, m, lower_boundary, upper_boundary)\n",
    "    fitness = calc_fitness(fit_func, nests)\n",
    "\n",
    "    best_nest_index = np.argmax(fitness)\n",
    "    best_fitness = fitness[best_nest_index]\n",
    "    best_nest = nests[best_nest_index].copy()\n",
    "\n",
    "    for _ in range(iter_num):\n",
    "        nests = update_nests(fit_func, lower_boundary, upper_boundary, nests, best_nest, fitness, step_size)\n",
    "        nests = abandon_nests(nests, lower_boundary, upper_boundary, pa)\n",
    "        fitness = calc_fitness(fit_func, nests)\n",
    "        \n",
    "        max_nest_index = np.argmax(fitness)\n",
    "        max_fitness = fitness[max_nest_index]\n",
    "        max_nest = nests[max_nest_index]\n",
    "\n",
    "        if (max_fitness > best_fitness):\n",
    "            best_nest = max_nest.copy()\n",
    "            best_fitness = max_fitness\n",
    "\n",
    "    return best_nest, best_fitness"
   ],
   "metadata": {
    "collapsed": false,
    "ExecuteTime": {
     "end_time": "2024-08-08T09:49:05.059678Z",
     "start_time": "2024-08-08T09:49:05.028637200Z"
    }
   },
   "id": "dc2140995149b299",
   "execution_count": 2
  },
  {
   "cell_type": "code",
   "outputs": [],
   "source": [
    "def generate_nests(n, m, lower_boundary, upper_boundary):\n",
    "    lower_boundary = np.array(lower_boundary)\n",
    "    upper_boundary = np.array(upper_boundary)\n",
    "    nests = np.empty((n, m))\n",
    "\n",
    "    for each_nest in range(n):\n",
    "        nests[each_nest] = lower_boundary + np.random.rand(m) * (upper_boundary - lower_boundary)\n",
    "\n",
    "    return nests"
   ],
   "metadata": {
    "collapsed": false,
    "ExecuteTime": {
     "end_time": "2024-08-08T09:49:05.491708600Z",
     "start_time": "2024-08-08T09:49:05.462771700Z"
    }
   },
   "id": "61fdbc4ce8ffeaa3",
   "execution_count": 3
  },
  {
   "cell_type": "code",
   "outputs": [],
   "source": [
    "def update_nests(fit_func, lower_boundary, upper_boundary, nests, best_nest, fitness, step_coefficient):\n",
    "    lower_boundary = np.array(lower_boundary)\n",
    "    upper_boundary = np.array(upper_boundary)\n",
    "    n, m = nests.shape\n",
    "    steps = levy_flight(n, m, 1.5)\n",
    "    new_nests = nests.copy()\n",
    "\n",
    "    for each_nest in range(n):\n",
    "        step_size = step_coefficient * steps[each_nest] * (nests[each_nest] - best_nest)\n",
    "        step_direction = np.random.rand(m)\n",
    "        new_nests[each_nest] += step_size * step_direction\n",
    "        # Updated section: limiting new nest locations with np.clip\n",
    "        new_nests[each_nest] = np.clip(new_nests[each_nest], lower_boundary, upper_boundary)\n",
    "\n",
    "    new_fitness = calc_fitness(fit_func, new_nests)\n",
    "    nests[new_fitness > fitness] = new_nests[new_fitness > fitness]\n",
    "    \n",
    "    return nests"
   ],
   "metadata": {
    "collapsed": false,
    "ExecuteTime": {
     "end_time": "2024-08-08T09:49:06.526009800Z",
     "start_time": "2024-08-08T09:49:06.507651Z"
    }
   },
   "id": "b3db0ff481d1ae4a",
   "execution_count": 4
  },
  {
   "cell_type": "code",
   "outputs": [],
   "source": [
    "def abandon_nests(nests, lower_boundary, upper_boundary, pa):\n",
    "    lower_boundary = np.array(lower_boundary)\n",
    "    upper_boundary = np.array(upper_boundary)\n",
    "    n, m = nests.shape\n",
    "    for each_nest in range(n):\n",
    "        if np.random.rand() < pa:\n",
    "            step_size = np.random.rand() * (nests[np.random.randint(0, n)] - nests[np.random.randint(0, n)])\n",
    "            nests[each_nest] += step_size\n",
    "            # Updated section: limiting new nest locations with np.clip\n",
    "            nests[each_nest] = np.clip(nests[each_nest], lower_boundary, upper_boundary)\n",
    "    \n",
    "    return nests"
   ],
   "metadata": {
    "collapsed": false,
    "ExecuteTime": {
     "end_time": "2024-08-08T09:49:07.194626400Z",
     "start_time": "2024-08-08T09:49:07.170521300Z"
    }
   },
   "id": "99345ee3e40a6f18",
   "execution_count": 5
  },
  {
   "cell_type": "code",
   "outputs": [],
   "source": [
    "def levy_flight(n, m, beta):\n",
    "    sigma_u = (sc_special.gamma(1+beta)*np.sin(np.pi*beta/2)/(sc_special.gamma((1+beta)/2)*beta*(2**((beta-1)/2))))**(1/beta)\n",
    "    sigma_v = 1\n",
    "\n",
    "    u =  np.random.normal(0, sigma_u, (n, m))\n",
    "    v = np.random.normal(0, sigma_v, (n, m))\n",
    "\n",
    "    steps = u/((np.abs(v))**(1/beta))\n",
    "\n",
    "    return steps"
   ],
   "metadata": {
    "collapsed": false,
    "ExecuteTime": {
     "end_time": "2024-08-08T09:49:07.783799800Z",
     "start_time": "2024-08-08T09:49:07.760152700Z"
    }
   },
   "id": "5d85f62a8a4a234d",
   "execution_count": 6
  },
  {
   "cell_type": "code",
   "outputs": [],
   "source": [
    "def calc_fitness(fit_func, nests):\n",
    "    n, m = nests.shape\n",
    "    fitness = np.empty(n)\n",
    "\n",
    "    for each_nest in range(n):\n",
    "        fitness[each_nest] = fit_func(nests[each_nest])\n",
    "\n",
    "    return fitness"
   ],
   "metadata": {
    "collapsed": false,
    "ExecuteTime": {
     "end_time": "2024-08-08T09:49:08.796857100Z",
     "start_time": "2024-08-08T09:49:08.783332700Z"
    }
   },
   "id": "95fbe80142677407",
   "execution_count": 7
  },
  {
   "cell_type": "code",
   "outputs": [],
   "source": [
    "#08\n",
    "def fit_func(nest):\n",
    "    A, l_pos, epsilon_f_pos, l_neg, epsilon_f_neg = nest\n",
    "    df_ex = pd.read_csv('data/data_ocv_ex.csv')\n",
    "    df_sim = pd.read_csv('data/data_ocv_sim_ex.csv')\n",
    "\n",
    "    v_t = df_ex['Voltage[V]']\n",
    "    v_hat_t = df_sim['Voltage[V]']\n",
    "    \n",
    "    FF_V = mean_squared_error(v_t, v_hat_t)\n",
    "\n",
    "    F = 96485.33212\n",
    "    theta_0_pos = 0.915\n",
    "    theta_0_neg = 0.008\n",
    "    theta_100_pos = 0.254\n",
    "    theta_100_neg = 0.855\n",
    "    c_s_pos_max = 63104.0\n",
    "    c_s_neg_max = 33133.0\n",
    "    FF_C = np.abs((A * l_pos * epsilon_f_pos * F * c_s_pos_max * (theta_0_pos - theta_100_pos) / 3600) - \n",
    "                  (A * l_neg * epsilon_f_neg * F * c_s_neg_max * (theta_100_neg - theta_0_neg) / 3600))\n",
    "    \n",
    "    # Update section: normalise FF_V and FF_C and check that the denominator is zero\n",
    "    if np.max(v_t) != np.min(v_t):\n",
    "        FF_V_norm = (FF_V - np.min(v_t)) / (np.max(v_t) - np.min(v_t))\n",
    "    else:\n",
    "        FF_V_norm = 0\n",
    "\n",
    "    if np.max(FF_C) != np.min(FF_C):\n",
    "        FF_C_norm = (FF_C - np.min(FF_C)) / (np.max(FF_C) - np.min(FF_C))\n",
    "    else:\n",
    "        FF_C_norm = 0\n",
    "    \n",
    "    w_Vn = 1\n",
    "    w_c = 1 - w_Vn\n",
    "    FF_M = w_Vn * FF_V_norm + w_c * FF_C_norm\n",
    "    \n",
    "    return FF_M"
   ],
   "metadata": {
    "collapsed": false,
    "ExecuteTime": {
     "end_time": "2024-08-08T10:22:26.868908700Z",
     "start_time": "2024-08-08T10:22:26.827597400Z"
    }
   },
   "id": "c45c9d95bad34472",
   "execution_count": 48
  },
  {
   "cell_type": "code",
   "outputs": [
    {
     "name": "stdout",
     "output_type": "stream",
     "text": [
      "Max fitness: -1.47034, Best nest position: (A: 0.38153, l_pos: 64.12110, epsilon_f_pos: 0.48222,l_neg: 38.76274, epsilon_f_neg: 0.44770)\n"
     ]
    }
   ],
   "source": [
    "if __name__ == '__main__':\n",
    "    lower_bounds = [0.378, 35, 0.35, 35, 0.4]\n",
    "    upper_bounds = [0.395, 79, 0.5, 79, 0.5,]\n",
    "\n",
    "    best_nest, best_fitness = cuckoo_search(50, 5, fit_func, lower_bounds, upper_bounds, step_size=0.4)\n",
    "\n",
    "    print('Max fitness: %.5f, Best nest position: (A: %.5f, l_pos: %.5f, epsilon_f_pos: %.5f,l_neg: %.5f, epsilon_f_neg: %.5f)' \n",
    "          % (best_fitness, best_nest[0], best_nest[1], best_nest[2], best_nest[3], best_nest[4]))"
   ],
   "metadata": {
    "collapsed": false,
    "ExecuteTime": {
     "end_time": "2024-08-08T10:27:11.339100600Z",
     "start_time": "2024-08-08T10:22:30.013727200Z"
    }
   },
   "id": "a11cbdd265a8c734",
   "execution_count": 49
  },
  {
   "cell_type": "code",
   "outputs": [],
   "source": [
    "#02\n",
    "def fit_func(nest):\n",
    "    A, l_pos, epsilon_f_pos, l_neg, epsilon_f_neg = nest\n",
    "    df_ex = pd.read_csv('data/data_ocv_ex.csv')\n",
    "    df_sim = pd.read_csv('data/data_ocv_sim_ex.csv')\n",
    "\n",
    "    v_t = df_ex['Voltage[V]']\n",
    "    v_hat_t = df_sim['Voltage[V]']\n",
    "    \n",
    "    FF_V = mean_squared_error(v_t, v_hat_t)\n",
    "\n",
    "    F = 96485.33212\n",
    "    theta_0_pos = 0.915\n",
    "    theta_0_neg = 0.008\n",
    "    theta_100_pos = 0.254\n",
    "    theta_100_neg = 0.855\n",
    "    c_s_pos_max = 63104.0\n",
    "    c_s_neg_max = 33133.0\n",
    "    FF_C = np.abs((A * l_pos * epsilon_f_pos * F * c_s_pos_max * (theta_0_pos - theta_100_pos) / 3600) - \n",
    "                  (A * l_neg * epsilon_f_neg * F * c_s_neg_max * (theta_100_neg - theta_0_neg) / 3600))\n",
    "    \n",
    "    # Update section: normalise FF_V and FF_C and check that the denominator is zero\n",
    "    if np.max(v_t) != np.min(v_t):\n",
    "        FF_V_norm = (FF_V - np.min(v_t)) / (np.max(v_t) - np.min(v_t))\n",
    "    else:\n",
    "        FF_V_norm = 0\n",
    "\n",
    "    if np.max(FF_C) != np.min(FF_C):\n",
    "        FF_C_norm = (FF_C - np.min(FF_C)) / (np.max(FF_C) - np.min(FF_C))\n",
    "    else:\n",
    "        FF_C_norm = 0\n",
    "    \n",
    "    w_Vn = 0.2\n",
    "    w_c = 1 - w_Vn\n",
    "    FF_M = w_Vn * FF_V_norm + w_c * FF_C_norm\n",
    "    \n",
    "    return FF_M"
   ],
   "metadata": {
    "collapsed": false,
    "ExecuteTime": {
     "end_time": "2024-08-08T09:56:33.308982400Z",
     "start_time": "2024-08-08T09:56:33.283990700Z"
    }
   },
   "id": "397627a24fcc0c6",
   "execution_count": 20
  },
  {
   "cell_type": "code",
   "outputs": [
    {
     "name": "stdout",
     "output_type": "stream",
     "text": [
      "Max fitness: -0.29407, Best nest position: (A: 0.39341, l_pos: 72.19385, epsilon_f_pos: 0.40361,l_neg: 54.28259, epsilon_f_neg: 0.45363)\n"
     ]
    }
   ],
   "source": [
    "if __name__ == '__main__':\n",
    "    lower_bounds = [0.378, 35, 0.35, 35, 0.4]\n",
    "    upper_bounds = [0.395, 79, 0.5, 79, 0.5,]\n",
    "\n",
    "    best_nest, best_fitness = cuckoo_search(50, 5, fit_func, lower_bounds, upper_bounds, step_size=0.4)\n",
    "\n",
    "    print('Max fitness: %.5f, Best nest position: (A: %.5f, l_pos: %.5f, epsilon_f_pos: %.5f,l_neg: %.5f, epsilon_f_neg: %.5f)' \n",
    "          % (best_fitness, best_nest[0], best_nest[1], best_nest[2], best_nest[3], best_nest[4]))"
   ],
   "metadata": {
    "collapsed": false,
    "ExecuteTime": {
     "end_time": "2024-08-08T10:01:22.165736800Z",
     "start_time": "2024-08-08T09:57:07.475950400Z"
    }
   },
   "id": "63efb4fd7fc9a76f",
   "execution_count": 21
  },
  {
   "cell_type": "code",
   "outputs": [],
   "source": [
    "l_pos = best_nest[1] * 1e-6\n",
    "epsilon_f_pos = best_nest[2]\n",
    "l_neg = best_nest[3] * 1e-6\n",
    "epsilon_f_neg = best_nest[4]"
   ],
   "metadata": {
    "collapsed": false,
    "ExecuteTime": {
     "end_time": "2024-08-08T10:27:21.468071Z",
     "start_time": "2024-08-08T10:27:21.451506800Z"
    }
   },
   "id": "10e54af2cdd678f2",
   "execution_count": 50
  },
  {
   "cell_type": "code",
   "outputs": [
    {
     "name": "stdout",
     "output_type": "stream",
     "text": [
      "MSE: 0.0012508164464828703\n"
     ]
    }
   ],
   "source": [
    "# 加载数据\n",
    "df_ex = pd.read_csv('data/data_ocv_ex.csv')\n",
    "df_sim = pd.read_csv('data/data_ocv_sim_ex.csv')\n",
    "\n",
    "v_t = df_ex['Voltage[V]']\n",
    "v_hat_t = df_sim['Voltage[V]']\n",
    "\n",
    "# 计算优化前后的MSE\n",
    "initial_mse = mean_squared_error(v_t, v_hat_t)\n",
    "print(f'MSE: {initial_mse}')"
   ],
   "metadata": {
    "collapsed": false,
    "ExecuteTime": {
     "end_time": "2024-08-08T09:55:02.912865800Z",
     "start_time": "2024-08-08T09:55:02.869307900Z"
    }
   },
   "id": "7b80cd9da1a4b12a",
   "execution_count": 11
  },
  {
   "cell_type": "code",
   "outputs": [],
   "source": [
    "l_pos_002 = best_nest[1] * 1e-6\n",
    "epsilon_f_pos_002 = best_nest[2]\n",
    "l_neg_002 = best_nest[3] * 1e-6\n",
    "epsilon_f_neg_002 = best_nest[4]"
   ],
   "metadata": {
    "collapsed": false,
    "ExecuteTime": {
     "end_time": "2024-07-29T22:59:54.150610Z",
     "start_time": "2024-07-29T22:59:54.131062500Z"
    }
   },
   "id": "dc277581f1973c05",
   "execution_count": 44
  },
  {
   "cell_type": "code",
   "outputs": [
    {
     "data": {
      "text/plain": "{'Ambient temperature [K]': 298.15,\n 'Boltzmann constant [J.K-1]': 1.380649e-23,\n 'Bulk solvent concentration [mol.m-3]': 2636.0,\n 'Cation transference number': 0.2594,\n 'Cell cooling surface area [m2]': 0.00531,\n 'Cell thermal expansion coefficient [m.K-1]': 1.1e-06,\n 'Cell volume [m3]': 2.42e-05,\n 'Contact resistance [Ohm]': 0,\n 'Current function [A]': 5.0,\n 'Dead lithium decay constant [s-1]': 1e-06,\n 'Dead lithium decay rate [s-1]': <function SEI_limited_dead_lithium_OKane2022 at 0x00000281BEB84680>,\n 'EC diffusivity [m2.s-1]': 2e-18,\n 'EC initial concentration in electrolyte [mol.m-3]': 4541.0,\n 'Electrode height [m]': 0.065,\n 'Electrode width [m]': 1.58,\n 'Electrolyte conductivity [S.m-1]': <function electrolyte_conductivity_Nyman2008_arrhenius at 0x00000281BEB84E00>,\n 'Electrolyte diffusivity [m2.s-1]': <function electrolyte_diffusivity_Nyman2008_arrhenius at 0x00000281BEB84D60>,\n 'Electron charge [C]': 1.602176634e-19,\n 'Exchange-current density for plating [A.m-2]': <function plating_exchange_current_density_OKane2020 at 0x00000281BEB845E0>,\n 'Exchange-current density for stripping [A.m-2]': <function stripping_exchange_current_density_OKane2020 at 0x00000281BEB84540>,\n 'Faraday constant [C.mol-1]': 96485.33212,\n 'Ideal gas constant [J.K-1.mol-1]': 8.314462618,\n 'Initial concentration in electrolyte [mol.m-3]': 1000.0,\n 'Initial concentration in negative electrode [mol.m-3]': 29866.0,\n 'Initial concentration in positive electrode [mol.m-3]': 17038.0,\n 'Initial inner SEI thickness [m]': 0.0,\n 'Initial outer SEI thickness [m]': 5e-09,\n 'Initial plated lithium concentration [mol.m-3]': 0.0,\n 'Initial temperature [K]': 298.15,\n 'Inner SEI electron conductivity [S.m-1]': 8.95e-14,\n 'Inner SEI lithium interstitial diffusivity [m2.s-1]': 1e-20,\n 'Inner SEI open-circuit potential [V]': 0.1,\n 'Inner SEI partial molar volume [m3.mol-1]': 9.585e-05,\n 'Inner SEI reaction proportion': 0.0,\n 'Lithium interstitial reference concentration [mol.m-3]': 15.0,\n 'Lithium metal partial molar volume [m3.mol-1]': 1.3e-05,\n 'Lithium plating kinetic rate constant [m.s-1]': 1e-09,\n 'Lithium plating transfer coefficient': 0.65,\n 'Lower voltage cut-off [V]': 2.5,\n 'Maximum concentration in negative electrode [mol.m-3]': 33133.0,\n 'Maximum concentration in positive electrode [mol.m-3]': 63104.0,\n 'Negative current collector conductivity [S.m-1]': 58411000.0,\n 'Negative current collector density [kg.m-3]': 8960.0,\n 'Negative current collector specific heat capacity [J.kg-1.K-1]': 385.0,\n 'Negative current collector thermal conductivity [W.m-1.K-1]': 401.0,\n 'Negative current collector thickness [m]': 1.2e-05,\n 'Negative electrode Bruggeman coefficient (electrode)': 1.5,\n 'Negative electrode Bruggeman coefficient (electrolyte)': 1.5,\n 'Negative electrode LAM constant exponential term': 2.0,\n 'Negative electrode LAM constant proportional term [s-1]': 2.7778e-07,\n 'Negative electrode OCP [V]': <function graphite_LGM50_ocp_Chen2020 at 0x00000281BEB84F40>,\n 'Negative electrode OCP entropic change [V.K-1]': 0.0,\n \"Negative electrode Paris' law constant b\": 1.12,\n \"Negative electrode Paris' law constant m\": 2.2,\n \"Negative electrode Poisson's ratio\": 0.3,\n \"Negative electrode Young's modulus [Pa]\": 15000000000.0,\n 'Negative electrode active material volume fraction': 0.75,\n 'Negative electrode charge transfer coefficient': 0.5,\n 'Negative electrode conductivity [S.m-1]': 215.0,\n 'Negative electrode cracking rate': <function graphite_cracking_rate_Ai2020 at 0x00000281BEB849A0>,\n 'Negative electrode critical stress [Pa]': 60000000.0,\n 'Negative electrode density [kg.m-3]': 1657.0,\n 'Negative electrode diffusivity [m2.s-1]': <function graphite_LGM50_diffusivity_Chen2020 at 0x00000281BEB84720>,\n 'Negative electrode double-layer capacity [F.m-2]': 0.2,\n 'Negative electrode exchange-current density [A.m-2]': <function graphite_LGM50_electrolyte_exchange_current_density_Chen2020 at 0x00000281BEB84860>,\n 'Negative electrode initial crack length [m]': 2e-08,\n 'Negative electrode initial crack width [m]': 1.5e-08,\n 'Negative electrode number of cracks per unit area [m-2]': 3180000000000000.0,\n 'Negative electrode partial molar volume [m3.mol-1]': 3.1e-06,\n 'Negative electrode porosity': 0.25,\n 'Negative electrode reaction-driven LAM factor [m3.mol-1]': 0.0,\n 'Negative electrode reference concentration for free of deformation [mol.m-3]': 0.0,\n 'Negative electrode specific heat capacity [J.kg-1.K-1]': 700.0,\n 'Negative electrode thermal conductivity [W.m-1.K-1]': 1.7,\n 'Negative electrode thickness [m]': 8.52e-05,\n 'Negative electrode volume change': <function graphite_volume_change_Ai2020 at 0x00000281BEB84900>,\n 'Negative particle radius [m]': 5.86e-06,\n 'Nominal cell capacity [A.h]': 5.0,\n 'Number of cells connected in series to make a battery': 1.0,\n 'Number of electrodes connected in parallel to make a cell': 1.0,\n 'Open-circuit voltage at 0% SOC [V]': 2.5,\n 'Open-circuit voltage at 100% SOC [V]': 4.2,\n 'Outer SEI open-circuit potential [V]': 0.8,\n 'Outer SEI partial molar volume [m3.mol-1]': 9.585e-05,\n 'Outer SEI solvent diffusivity [m2.s-1]': 2.5000000000000002e-22,\n 'Positive current collector conductivity [S.m-1]': 36914000.0,\n 'Positive current collector density [kg.m-3]': 2700.0,\n 'Positive current collector specific heat capacity [J.kg-1.K-1]': 897.0,\n 'Positive current collector thermal conductivity [W.m-1.K-1]': 237.0,\n 'Positive current collector thickness [m]': 1.6e-05,\n 'Positive electrode Bruggeman coefficient (electrode)': 1.5,\n 'Positive electrode Bruggeman coefficient (electrolyte)': 1.5,\n 'Positive electrode LAM constant exponential term': 2.0,\n 'Positive electrode LAM constant proportional term [s-1]': 2.7778e-07,\n 'Positive electrode OCP [V]': <function nmc_LGM50_ocp_Chen2020 at 0x00000281BEB84AE0>,\n 'Positive electrode OCP entropic change [V.K-1]': 0.0,\n \"Positive electrode Paris' law constant b\": 1.12,\n \"Positive electrode Paris' law constant m\": 2.2,\n \"Positive electrode Poisson's ratio\": 0.2,\n \"Positive electrode Young's modulus [Pa]\": 375000000000.0,\n 'Positive electrode active material volume fraction': 0.665,\n 'Positive electrode charge transfer coefficient': 0.5,\n 'Positive electrode conductivity [S.m-1]': 0.18,\n 'Positive electrode cracking rate': <function cracking_rate_Ai2020 at 0x00000281BEB84CC0>,\n 'Positive electrode critical stress [Pa]': 375000000.0,\n 'Positive electrode density [kg.m-3]': 3262.0,\n 'Positive electrode diffusivity [m2.s-1]': <function nmc_LGM50_diffusivity_Chen2020 at 0x00000281BEB84A40>,\n 'Positive electrode double-layer capacity [F.m-2]': 0.2,\n 'Positive electrode exchange-current density [A.m-2]': <function nmc_LGM50_electrolyte_exchange_current_density_Chen2020 at 0x00000281BEB84B80>,\n 'Positive electrode initial crack length [m]': 2e-08,\n 'Positive electrode initial crack width [m]': 1.5e-08,\n 'Positive electrode number of cracks per unit area [m-2]': 3180000000000000.0,\n 'Positive electrode partial molar volume [m3.mol-1]': 1.25e-05,\n 'Positive electrode porosity': 0.335,\n 'Positive electrode reaction-driven LAM factor [m3.mol-1]': 0.0,\n 'Positive electrode reference concentration for free of deformation [mol.m-3]': 0.0,\n 'Positive electrode specific heat capacity [J.kg-1.K-1]': 700.0,\n 'Positive electrode thermal conductivity [W.m-1.K-1]': 2.1,\n 'Positive electrode thickness [m]': 7.56e-05,\n 'Positive electrode volume change': <function volume_change_Ai2020 at 0x00000281BEB84C20>,\n 'Positive particle radius [m]': 5.22e-06,\n 'Ratio of lithium moles to SEI moles': 1.0,\n 'Reference temperature [K]': 298.15,\n 'SEI growth activation energy [J.mol-1]': 38000.0,\n 'SEI kinetic rate constant [m.s-1]': 1e-12,\n 'SEI open-circuit potential [V]': 0.4,\n 'SEI reaction exchange current density [A.m-2]': 1.5e-07,\n 'SEI resistivity [Ohm.m]': 200000.0,\n 'Separator Bruggeman coefficient (electrolyte)': 1.5,\n 'Separator density [kg.m-3]': 397.0,\n 'Separator porosity': 0.47,\n 'Separator specific heat capacity [J.kg-1.K-1]': 700.0,\n 'Separator thermal conductivity [W.m-1.K-1]': 0.16,\n 'Separator thickness [m]': 1.2e-05,\n 'Thermodynamic factor': 1.0,\n 'Total heat transfer coefficient [W.m-2.K-1]': 10.0,\n 'Typical plated lithium concentration [mol.m-3]': 1000.0,\n 'Upper voltage cut-off [V]': 4.2,\n 'citations': ['OKane2022',\n               'OKane2020',\n               'Chen2020']}"
     },
     "execution_count": 45,
     "metadata": {},
     "output_type": "execute_result"
    }
   ],
   "source": [
    "param = pybamm.ParameterValues(\"OKane2022\")\n",
    "param"
   ],
   "metadata": {
    "collapsed": false,
    "ExecuteTime": {
     "end_time": "2024-07-29T22:59:55.229071700Z",
     "start_time": "2024-07-29T22:59:55.214015700Z"
    }
   },
   "id": "4fe879659f2fed22",
   "execution_count": 45
  },
  {
   "cell_type": "code",
   "outputs": [
    {
     "name": "stdout",
     "output_type": "stream",
     "text": [
      "Maximum concentration in negative electrode [mol.m-3]\t33133.0\n",
      "Maximum concentration in positive electrode [mol.m-3]\t63104.0\n"
     ]
    }
   ],
   "source": [
    "param_1 = pybamm.ParameterValues(\"OKane2022\")\n",
    "param_1.search(\"Maximum concentration\")"
   ],
   "metadata": {
    "collapsed": false,
    "ExecuteTime": {
     "end_time": "2024-07-29T22:59:56.211537400Z",
     "start_time": "2024-07-29T22:59:56.188646200Z"
    }
   },
   "id": "f224c61b05b2cffc",
   "execution_count": 46
  },
  {
   "cell_type": "code",
   "outputs": [],
   "source": [
    "# Create a simple DFN model\n",
    "model = pybamm.lithium_ion.DFN()\n",
    "# create experiment\n",
    "experiment = pybamm.Experiment(\n",
    "    [\"Rest for 901 s\",\n",
    "        (\n",
    "            \"Discharge at 0.96 A for 147 s\",\n",
    "            \"Rest for 361 s\",\n",
    "        ) * 10,\n",
    "     \"Discharge at 0.96 A for 134 s\"\n",
    "    ]\n",
    "    \n",
    ")\n",
    "# Setting the current function）\n",
    "param = pybamm.ParameterValues(\"OKane2022\")\n",
    "param[\"Positive electrode thickness [m]\"] = l_pos\n",
    "param[\"Positive electrode active material volume fraction\"] = epsilon_f_pos\n",
    "param[\"Negative electrode thickness [m]\"] = l_neg\n",
    "param[\"Negative electrode active material volume fraction\"] = epsilon_f_neg\n",
    "\n",
    "# Creating Simulation Objects\n",
    "solver = pybamm.CasadiSolver(mode=\"safe\")\n",
    "simulation = pybamm.Simulation(model, parameter_values=param, solver=solver, experiment=experiment)\n",
    "\n",
    "# Running simulations with time ranges consistent with data\n",
    "solution = simulation.solve(calc_esoh=False)  \n",
    "# Getting results\n",
    "time_opt = solution[\"Time [s]\"].entries\n",
    "# current = solution[\"Current [A]\"].entries\n",
    "voltage_opt = solution[\"Terminal voltage [V]\"].entries"
   ],
   "metadata": {
    "collapsed": false,
    "ExecuteTime": {
     "end_time": "2024-08-08T10:27:26.678816800Z",
     "start_time": "2024-08-08T10:27:24.565378100Z"
    }
   },
   "id": "6af49497053629a0",
   "execution_count": 51
  },
  {
   "cell_type": "code",
   "outputs": [],
   "source": [
    "# 插值到每秒一个数据点\n",
    "# 以下为示例数据\n",
    "new_time = np.linspace(1, 6115, num=6115)\n",
    "# 创建插值函数\n",
    "interp_function = interp1d(time_opt, voltage_opt, kind='linear', fill_value=\"extrapolate\")\n",
    "# 使用插值函数获取新时间点的电压值\n",
    "new_voltage_opt_08 = interp_function(new_time)"
   ],
   "metadata": {
    "collapsed": false,
    "ExecuteTime": {
     "end_time": "2024-08-08T09:55:20.702002800Z",
     "start_time": "2024-08-08T09:55:20.685640500Z"
    }
   },
   "id": "4a362f27bfd5eddb",
   "execution_count": 13
  },
  {
   "cell_type": "code",
   "outputs": [],
   "source": [
    "# 插值到每秒一个数据点\n",
    "# 以下为示例数据\n",
    "new_time = np.linspace(1, 6115, num=6115)\n",
    "# 创建插值函数\n",
    "interp_function = interp1d(time_opt, voltage_opt, kind='linear', fill_value=\"extrapolate\")\n",
    "# 使用插值函数获取新时间点的电压值\n",
    "new_voltage_opt_02 = interp_function(new_time)"
   ],
   "metadata": {
    "collapsed": false,
    "ExecuteTime": {
     "end_time": "2024-08-08T10:02:16.332360700Z",
     "start_time": "2024-08-08T10:02:16.309767700Z"
    }
   },
   "id": "ca0d61de033aba98",
   "execution_count": 24
  },
  {
   "cell_type": "code",
   "outputs": [],
   "source": [
    "# 插值到每秒一个数据点\n",
    "# 以下为示例数据\n",
    "new_time = np.linspace(1, 6115, num=6115)\n",
    "# 创建插值函数\n",
    "interp_function = interp1d(time_opt, voltage_opt, kind='linear', fill_value=\"extrapolate\")\n",
    "# 使用插值函数获取新时间点的电压值\n",
    "new_voltage_opt_002 = interp_function(new_time)"
   ],
   "metadata": {
    "collapsed": false,
    "ExecuteTime": {
     "end_time": "2024-08-08T10:08:28.922765600Z",
     "start_time": "2024-08-08T10:08:28.902900500Z"
    }
   },
   "id": "bfd75beb18648edc",
   "execution_count": 31
  },
  {
   "cell_type": "code",
   "outputs": [],
   "source": [
    "# 插值到每秒一个数据点\n",
    "# 以下为示例数据\n",
    "new_time = np.linspace(1, 6115, num=6115)\n",
    "# 创建插值函数\n",
    "interp_function = interp1d(time_opt, voltage_opt, kind='linear', fill_value=\"extrapolate\")\n",
    "# 使用插值函数获取新时间点的电压值\n",
    "new_voltage_opt_0002 = interp_function(new_time)"
   ],
   "metadata": {
    "collapsed": false,
    "ExecuteTime": {
     "end_time": "2024-08-08T10:15:37.369667Z",
     "start_time": "2024-08-08T10:15:37.342878800Z"
    }
   },
   "id": "d0eea911d3bf6b03",
   "execution_count": 38
  },
  {
   "cell_type": "code",
   "outputs": [],
   "source": [
    "# 插值到每秒一个数据点\n",
    "# 以下为示例数据\n",
    "new_time = np.linspace(1, 6115, num=6115)\n",
    "# 创建插值函数\n",
    "interp_function = interp1d(time_opt, voltage_opt, kind='linear', fill_value=\"extrapolate\")\n",
    "# 使用插值函数获取新时间点的电压值\n",
    "new_voltage_opt_00 = interp_function(new_time)"
   ],
   "metadata": {
    "collapsed": false,
    "ExecuteTime": {
     "end_time": "2024-08-08T10:21:49.538565500Z",
     "start_time": "2024-08-08T10:21:49.523975700Z"
    }
   },
   "id": "8776b333b49d6c07",
   "execution_count": 45
  },
  {
   "cell_type": "code",
   "outputs": [],
   "source": [
    "# 插值到每秒一个数据点\n",
    "# 以下为示例数据\n",
    "new_time = np.linspace(1, 6115, num=6115)\n",
    "# 创建插值函数\n",
    "interp_function = interp1d(time_opt, voltage_opt, kind='linear', fill_value=\"extrapolate\")\n",
    "# 使用插值函数获取新时间点的电压值\n",
    "new_voltage_opt_1 = interp_function(new_time)"
   ],
   "metadata": {
    "collapsed": false,
    "ExecuteTime": {
     "end_time": "2024-08-08T10:27:31.124832700Z",
     "start_time": "2024-08-08T10:27:31.110992800Z"
    }
   },
   "id": "bdc3b871758e7d29",
   "execution_count": 52
  },
  {
   "cell_type": "code",
   "outputs": [],
   "source": [
    "df_ex_6115 = df_ex.head(6115)\n",
    "votage_ex = df_ex_6115['Voltage[V]']"
   ],
   "metadata": {
    "collapsed": false,
    "ExecuteTime": {
     "end_time": "2024-08-08T09:55:35.261173400Z",
     "start_time": "2024-08-08T09:55:35.236228600Z"
    }
   },
   "id": "42594b0962a4812b",
   "execution_count": 15
  },
  {
   "cell_type": "code",
   "outputs": [
    {
     "name": "stdout",
     "output_type": "stream",
     "text": [
      "MSE: 0.00051543928616657\n"
     ]
    }
   ],
   "source": [
    "# Calculating MSE\n",
    "mse = mean_squared_error(votage_ex, new_voltage_opt_08)\n",
    "print(f'MSE: {mse}')"
   ],
   "metadata": {
    "collapsed": false,
    "ExecuteTime": {
     "end_time": "2024-08-08T09:55:36.322179Z",
     "start_time": "2024-08-08T09:55:36.302475600Z"
    }
   },
   "id": "eb6da3c952f47ff2",
   "execution_count": 16
  },
  {
   "cell_type": "code",
   "outputs": [
    {
     "name": "stdout",
     "output_type": "stream",
     "text": [
      "MSE: 0.0011993526294246306\n"
     ]
    }
   ],
   "source": [
    "# Calculating MSE\n",
    "mse = mean_squared_error(votage_ex, new_voltage_opt_02)\n",
    "print(f'MSE: {mse}')"
   ],
   "metadata": {
    "collapsed": false,
    "ExecuteTime": {
     "end_time": "2024-08-08T10:02:20.881937200Z",
     "start_time": "2024-08-08T10:02:20.859543500Z"
    }
   },
   "id": "e6adaa9729078fed",
   "execution_count": 25
  },
  {
   "cell_type": "code",
   "outputs": [
    {
     "name": "stdout",
     "output_type": "stream",
     "text": [
      "MSE: 0.00418671544407111\n"
     ]
    }
   ],
   "source": [
    "# Calculating MSE\n",
    "mse = mean_squared_error(votage_ex, new_voltage_opt_002)\n",
    "print(f'MSE: {mse}')"
   ],
   "metadata": {
    "collapsed": false,
    "ExecuteTime": {
     "end_time": "2024-08-08T10:08:33.921966800Z",
     "start_time": "2024-08-08T10:08:33.909411600Z"
    }
   },
   "id": "74607cab69049c7d",
   "execution_count": 32
  },
  {
   "cell_type": "code",
   "outputs": [
    {
     "name": "stdout",
     "output_type": "stream",
     "text": [
      "MSE: 0.001061064747443319\n"
     ]
    }
   ],
   "source": [
    "# Calculating MSE\n",
    "mse = mean_squared_error(votage_ex, new_voltage_opt_0002)\n",
    "print(f'MSE: {mse}')"
   ],
   "metadata": {
    "collapsed": false,
    "ExecuteTime": {
     "end_time": "2024-08-08T10:15:41.641977300Z",
     "start_time": "2024-08-08T10:15:41.629867300Z"
    }
   },
   "id": "7c56cc8d0afe4b40",
   "execution_count": 39
  },
  {
   "cell_type": "code",
   "outputs": [
    {
     "name": "stdout",
     "output_type": "stream",
     "text": [
      "MSE: 0.001564927523691181\n"
     ]
    }
   ],
   "source": [
    "# Calculating MSE\n",
    "mse = mean_squared_error(votage_ex, new_voltage_opt_00)\n",
    "print(f'MSE: {mse}')"
   ],
   "metadata": {
    "collapsed": false,
    "ExecuteTime": {
     "end_time": "2024-08-08T10:21:55.245431100Z",
     "start_time": "2024-08-08T10:21:55.222754400Z"
    }
   },
   "id": "88a6133b0f8c96f",
   "execution_count": 46
  },
  {
   "cell_type": "code",
   "outputs": [
    {
     "name": "stdout",
     "output_type": "stream",
     "text": [
      "MSE: 0.0014974229869581012\n"
     ]
    }
   ],
   "source": [
    "# Calculating MSE\n",
    "mse = mean_squared_error(votage_ex, new_voltage_opt_1)\n",
    "print(f'MSE: {mse}')"
   ],
   "metadata": {
    "collapsed": false,
    "ExecuteTime": {
     "end_time": "2024-08-08T10:27:39.272774800Z",
     "start_time": "2024-08-08T10:27:39.256651300Z"
    }
   },
   "id": "4c604c55524107b",
   "execution_count": 53
  },
  {
   "cell_type": "code",
   "outputs": [],
   "source": [
    "df_sim_6115 = df_sim.head(6115)\n",
    "voltage_sim = df_sim_6115['Voltage[V]']"
   ],
   "metadata": {
    "collapsed": false,
    "ExecuteTime": {
     "end_time": "2024-08-08T09:56:01.278367700Z",
     "start_time": "2024-08-08T09:56:01.246328300Z"
    }
   },
   "id": "44d94eff420d2459",
   "execution_count": 18
  },
  {
   "cell_type": "code",
   "outputs": [
    {
     "name": "stdout",
     "output_type": "stream",
     "text": [
      "MSE: 9.433915857337991e-05\n"
     ]
    }
   ],
   "source": [
    "# Calculating MSE\n",
    "mse = mean_squared_error(votage_ex, voltage_sim)\n",
    "print(f'MSE: {mse}')"
   ],
   "metadata": {
    "collapsed": false,
    "ExecuteTime": {
     "end_time": "2024-07-29T20:06:17.463248800Z",
     "start_time": "2024-07-29T20:06:17.451463600Z"
    }
   },
   "id": "f0e82ab5110e60f6",
   "execution_count": 51
  },
  {
   "cell_type": "code",
   "outputs": [],
   "source": [
    "# Plotting comparisons\n",
    "plt.figure(figsize=(10, 6))\n",
    "# plt.plot(time_real, voltage_real, label='Real Data')\n",
    "plt.plot(new_time, new_voltage_opt_08, label='Optimised simulation data(w_Vn = 0.8)')\n",
    "plt.plot(new_time, new_voltage_opt_02, label='Optimised simulation data(w_Vn = 0.2)')\n",
    "plt.plot(new_time, new_voltage_opt_002, label='Optimised simulation data(w_Vn = 0.02)')\n",
    "plt.plot(new_time, new_voltage_opt_0002, label='Optimised simulation data(w_Vn = 0.002)')\n",
    "plt.plot(new_time, new_voltage_opt_00, label='Optimised simulation data(w_Vn = 0)')\n",
    "plt.plot(new_time, new_voltage_opt_1, label='Optimised simulation data(w_Vn = 1)')\n",
    "plt.plot(new_time, votage_ex, label='Real Data')\n",
    "plt.plot(new_time, voltage_sim, label='Simulated Data')\n",
    "plt.xlabel('Time [s]')\n",
    "plt.ylabel('OCV [V]')\n",
    "plt.title('OCV Comparison')\n",
    "plt.legend()\n",
    "plt.show()"
   ],
   "metadata": {
    "collapsed": false,
    "is_executing": true
   },
   "id": "755696901746e661",
   "execution_count": null
  },
  {
   "cell_type": "code",
   "outputs": [],
   "source": [
    "# l_pos = best_nest[1] * 1e-6\n",
    "# epsilon_f_pos = best_nest[2]\n",
    "# l_neg = best_nest[3] * 1e-6\n",
    "# epsilon_f_neg = best_nest[4]"
   ],
   "metadata": {
    "collapsed": false,
    "ExecuteTime": {
     "end_time": "2024-07-22T16:11:47.051168900Z",
     "start_time": "2024-07-22T16:11:47.031796500Z"
    }
   },
   "id": "282350957299eea1",
   "execution_count": 23
  },
  {
   "cell_type": "code",
   "outputs": [],
   "source": [
    "# # 创建DFN模型\n",
    "# model = pybamm.lithium_ion.DFN()"
   ],
   "metadata": {
    "collapsed": false,
    "ExecuteTime": {
     "end_time": "2024-07-22T16:12:00.393989100Z",
     "start_time": "2024-07-22T16:12:00.340645100Z"
    }
   },
   "id": "5548107282ebf9a1",
   "execution_count": 25
  },
  {
   "cell_type": "code",
   "outputs": [],
   "source": [
    "# # 创建实验\n",
    "# experiment = pybamm.Experiment(\n",
    "#     [\"Rest for 901 s\",\n",
    "#         (\n",
    "#             \"Discharge at 0.96 A for 147 s\",\n",
    "#             \"Rest for 361 s\",\n",
    "#         ) * 123,\n",
    "#      \"Discharge at 0.96 A for 134 s\"\n",
    "#     ]\n",
    "#     \n",
    "# )"
   ],
   "metadata": {
    "collapsed": false,
    "ExecuteTime": {
     "end_time": "2024-07-22T16:12:48.633796500Z",
     "start_time": "2024-07-22T16:12:48.564020800Z"
    }
   },
   "id": "d0eafc36f6452ee7",
   "execution_count": 26
  },
  {
   "cell_type": "code",
   "outputs": [],
   "source": [
    "# # 设置模型参数\n",
    "# param = pybamm.ParameterValues(\"OKane2022\")\n",
    "# param[\"Positive electrode thickness [m]\"] = l_pos\n",
    "# param[\"Positive electrode active material volume fraction\"] = epsilon_f_pos\n",
    "# param[\"Negative electrode thickness [m]\"] = l_neg\n",
    "# param[\"Negative electrode active material volume fraction\"] = epsilon_f_neg\n"
   ],
   "metadata": {
    "collapsed": false,
    "ExecuteTime": {
     "end_time": "2024-07-22T16:13:07.066063100Z",
     "start_time": "2024-07-22T16:13:07.047798Z"
    }
   },
   "id": "fcc81d5414063a30",
   "execution_count": 27
  },
  {
   "cell_type": "code",
   "outputs": [
    {
     "name": "stderr",
     "output_type": "stream",
     "text": [
      "At t = 38.7391 and h = 1.86406e-14, the corrector convergence failed repeatedly or with |h| = hmin.\n",
      "2024-07-22 18:13:42.308 - [ERROR] callbacks.on_experiment_error(224): Simulation error: Error in Function::call for 'F' [IdasInterface] at .../casadi/core/function.cpp:1401:\n",
      "Error in Function::call for 'F' [IdasInterface] at .../casadi/core/function.cpp:330:\n",
      ".../casadi/interfaces/sundials/idas_interface.cpp:596: IDASolve returned \"IDA_CONV_FAIL\". Consult IDAS documentation.\n"
     ]
    }
   ],
   "source": [
    "# # 创建仿真对象\n",
    "# solver = pybamm.CasadiSolver(mode=\"fast\")\n",
    "# simulation = pybamm.Simulation(model, parameter_values=param, solver=solver, experiment=experiment)\n",
    "# # 运行仿真\n",
    "# solution = simulation.solve()\n",
    "# \n",
    "# # 获取结果\n",
    "# time_opt = solution[\"Time [s]\"].entries\n",
    "# voltage_opt = solution[\"Terminal voltage [V]\"].entries"
   ],
   "metadata": {
    "collapsed": false,
    "ExecuteTime": {
     "end_time": "2024-07-22T16:13:42.677286900Z",
     "start_time": "2024-07-22T16:13:37.022419300Z"
    }
   },
   "id": "beaddbfe620cdc55",
   "execution_count": 28
  },
  {
   "cell_type": "code",
   "outputs": [],
   "source": [
    "# 插值到每秒一个数据点\n",
    "# 以下为示例数据\n",
    "time_opt = np.linspace(0, 63519, 526)  # 模拟时间\n",
    "time_new = np.arange(1, 63520, 1)\n",
    "interp_func = interp1d(time_opt, voltage_opt, kind='linear', fill_value=\"extrapolate\")\n",
    "voltage_new = interp_func(time_new)"
   ],
   "metadata": {
    "collapsed": false,
    "ExecuteTime": {
     "end_time": "2024-07-22T16:27:59.166271900Z",
     "start_time": "2024-07-22T16:27:59.136093Z"
    }
   },
   "id": "5cfec68cbff02bb4",
   "execution_count": 32
  },
  {
   "cell_type": "code",
   "outputs": [],
   "source": [
    "# # Load Measurement Data\n",
    "# real_data = pd.read_csv('data/data_ocv_ex.csv')\n",
    "# # new_time = np.arange(0, len(real_data['Testtime [s]']))\n",
    "# # new_time = real_data['Testtime [s]']-min(real_data['Testtime [s]'])\n",
    "# time_real = time_new\n",
    "# voltage_real = real_data['Voltage[V]'].values"
   ],
   "metadata": {
    "collapsed": false,
    "ExecuteTime": {
     "end_time": "2024-07-22T16:28:25.452179900Z",
     "start_time": "2024-07-22T16:28:25.423150100Z"
    }
   },
   "id": "5093216c12e9277",
   "execution_count": 34
  },
  {
   "cell_type": "code",
   "outputs": [
    {
     "data": {
      "text/plain": "<Figure size 1000x600 with 1 Axes>",
      "image/png": "[encoded data removed]"
     },
     "metadata": {},
     "output_type": "display_data"
    }
   ],
   "source": [
    "# # 绘制结果\n",
    "# plt.figure(figsize=(10, 6))\n",
    "# plt.plot(time_real, voltage_real, label='Real Data')\n",
    "# plt.plot(time_new, voltage_new, label=\"Optimized OCV\")\n",
    "# plt.xlabel(\"Time [s]\")\n",
    "# plt.ylabel(\"Terminal voltage [V]\")\n",
    "# plt.title(\"OCV Simulation with Optimized Parameters\")\n",
    "# plt.legend()\n",
    "# plt.show()"
   ],
   "metadata": {
    "collapsed": false,
    "ExecuteTime": {
     "end_time": "2024-07-22T16:28:56.525301300Z",
     "start_time": "2024-07-22T16:28:56.351058700Z"
    }
   },
   "id": "82ee1adf7f8ca9b6",
   "execution_count": 35
  },
  {
   "cell_type": "code",
   "outputs": [
    {
     "name": "stdout",
     "output_type": "stream",
     "text": [
      "MSE: 0.0283874030766705\n"
     ]
    }
   ],
   "source": [
    "# Calculating MSE\n",
    "mse = mean_squared_error(voltage_real, voltage_new)\n",
    "print(f'MSE: {mse}')"
   ],
   "metadata": {
    "collapsed": false,
    "ExecuteTime": {
     "end_time": "2024-07-22T16:30:19.548606400Z",
     "start_time": "2024-07-22T16:30:19.523553600Z"
    }
   },
   "id": "4876fb11e4fc3566",
   "execution_count": 36
  },
  {
   "cell_type": "code",
   "outputs": [],
   "source": [],
   "metadata": {
    "collapsed": false
   },
   "id": "83f5e5051d936372"
  }
 ],
 "metadata": {
  "kernelspec": {
   "display_name": "Python 3",
   "language": "python",
   "name": "python3"
  },
  "language_info": {
   "codemirror_mode": {
    "name": "ipython",
    "version": 2
   },
   "file_extension": ".py",
   "mimetype": "text/x-python",
   "name": "python",
   "nbconvert_exporter": "python",
   "pygments_lexer": "ipython2",
   "version": "2.7.6"
  }
 },
 "nbformat": 4,
 "nbformat_minor": 5
}
