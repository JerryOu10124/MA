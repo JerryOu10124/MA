{
 "cells": [
  {
   "cell_type": "code",
   "id": "initial_id",
   "metadata": {
    "collapsed": true,
    "ExecuteTime": {
     "end_time": "2024-06-17T08:54:04.786514Z",
     "start_time": "2024-06-17T08:54:04.781967Z"
    }
   },
   "source": [
    "import pybamm\n",
    "import numpy as np\n",
    "from SALib.sample import saltelli\n",
    "from SALib.analyze import sobol\n",
    "import matplotlib.pyplot as plt\n",
    "import pandas as pd"
   ],
   "outputs": [],
   "execution_count": 86
  },
  {
   "metadata": {
    "ExecuteTime": {
     "end_time": "2024-06-17T08:54:05.246392Z",
     "start_time": "2024-06-17T08:54:05.200348Z"
    }
   },
   "cell_type": "code",
   "source": "df = pd.read_csv(\"filtered_data.csv\")",
   "id": "950cd9a8c955d98e",
   "outputs": [],
   "execution_count": 87
  },
  {
   "metadata": {
    "ExecuteTime": {
     "end_time": "2024-06-17T08:54:05.609411Z",
     "start_time": "2024-06-17T08:54:05.601830Z"
    }
   },
   "cell_type": "code",
   "source": [
    "new_time = np.arange(0, len(df['Testtime [s]']))\n",
    "df['Testtime [s]'] = new_time\n",
    "drive_cycle = df.to_numpy()\n",
    "time_data = drive_cycle[:, 1]  # Time data in seconds\n",
    "current_data = drive_cycle[:, 3]  # Current data in amperes"
   ],
   "id": "b7972a16c42b3ee4",
   "outputs": [],
   "execution_count": 88
  },
  {
   "metadata": {
    "ExecuteTime": {
     "end_time": "2024-06-17T08:54:06.028811Z",
     "start_time": "2024-06-17T08:54:06.023700Z"
    }
   },
   "cell_type": "code",
   "source": [
    "param = pybamm.ParameterValues(\"OKane2022\")\n",
    "print(param)"
   ],
   "id": "9e21238cdc416e02",
   "outputs": [
    {
     "name": "stdout",
     "output_type": "stream",
     "text": [
      "{'Ambient temperature [K]': 298.15,\n",
      " 'Boltzmann constant [J.K-1]': 1.380649e-23,\n",
      " 'Bulk solvent concentration [mol.m-3]': 2636.0,\n",
      " 'Cation transference number': 0.2594,\n",
      " 'Cell cooling surface area [m2]': 0.00531,\n",
      " 'Cell thermal expansion coefficient [m.K-1]': 1.1e-06,\n",
      " 'Cell volume [m3]': 2.42e-05,\n",
      " 'Contact resistance [Ohm]': 0,\n",
      " 'Current function [A]': 5.0,\n",
      " 'Dead lithium decay constant [s-1]': 1e-06,\n",
      " 'Dead lithium decay rate [s-1]': <function SEI_limited_dead_lithium_OKane2022 at 0x13cf26b60>,\n",
      " 'EC diffusivity [m2.s-1]': 2e-18,\n",
      " 'EC initial concentration in electrolyte [mol.m-3]': 4541.0,\n",
      " 'Electrode height [m]': 0.065,\n",
      " 'Electrode width [m]': 1.58,\n",
      " 'Electrolyte conductivity [S.m-1]': <function electrolyte_conductivity_Nyman2008_arrhenius at 0x13cf27240>,\n",
      " 'Electrolyte diffusivity [m2.s-1]': <function electrolyte_diffusivity_Nyman2008_arrhenius at 0x13cf271a0>,\n",
      " 'Electron charge [C]': 1.602176634e-19,\n",
      " 'Exchange-current density for plating [A.m-2]': <function plating_exchange_current_density_OKane2020 at 0x13cf263e0>,\n",
      " 'Exchange-current density for stripping [A.m-2]': <function stripping_exchange_current_density_OKane2020 at 0x13cf26520>,\n",
      " 'Faraday constant [C.mol-1]': 96485.33212,\n",
      " 'Ideal gas constant [J.K-1.mol-1]': 8.314462618,\n",
      " 'Initial concentration in electrolyte [mol.m-3]': 1000.0,\n",
      " 'Initial concentration in negative electrode [mol.m-3]': 29866.0,\n",
      " 'Initial concentration in positive electrode [mol.m-3]': 17038.0,\n",
      " 'Initial inner SEI thickness [m]': 0.0,\n",
      " 'Initial outer SEI thickness [m]': 5e-09,\n",
      " 'Initial plated lithium concentration [mol.m-3]': 0.0,\n",
      " 'Initial temperature [K]': 298.15,\n",
      " 'Inner SEI electron conductivity [S.m-1]': 8.95e-14,\n",
      " 'Inner SEI lithium interstitial diffusivity [m2.s-1]': 1e-20,\n",
      " 'Inner SEI open-circuit potential [V]': 0.1,\n",
      " 'Inner SEI partial molar volume [m3.mol-1]': 9.585e-05,\n",
      " 'Inner SEI reaction proportion': 0.0,\n",
      " 'Lithium interstitial reference concentration [mol.m-3]': 15.0,\n",
      " 'Lithium metal partial molar volume [m3.mol-1]': 1.3e-05,\n",
      " 'Lithium plating kinetic rate constant [m.s-1]': 1e-09,\n",
      " 'Lithium plating transfer coefficient': 0.65,\n",
      " 'Lower voltage cut-off [V]': 2.5,\n",
      " 'Maximum concentration in negative electrode [mol.m-3]': 33133.0,\n",
      " 'Maximum concentration in positive electrode [mol.m-3]': 63104.0,\n",
      " 'Negative current collector conductivity [S.m-1]': 58411000.0,\n",
      " 'Negative current collector density [kg.m-3]': 8960.0,\n",
      " 'Negative current collector specific heat capacity [J.kg-1.K-1]': 385.0,\n",
      " 'Negative current collector thermal conductivity [W.m-1.K-1]': 401.0,\n",
      " 'Negative current collector thickness [m]': 1.2e-05,\n",
      " 'Negative electrode Bruggeman coefficient (electrode)': 1.5,\n",
      " 'Negative electrode Bruggeman coefficient (electrolyte)': 1.5,\n",
      " 'Negative electrode LAM constant exponential term': 2.0,\n",
      " 'Negative electrode LAM constant proportional term [s-1]': 2.7778e-07,\n",
      " 'Negative electrode OCP [V]': <function graphite_LGM50_ocp_Chen2020 at 0x13cf272e0>,\n",
      " 'Negative electrode OCP entropic change [V.K-1]': 0.0,\n",
      " \"Negative electrode Paris' law constant b\": 1.12,\n",
      " \"Negative electrode Paris' law constant m\": 2.2,\n",
      " \"Negative electrode Poisson's ratio\": 0.3,\n",
      " \"Negative electrode Young's modulus [Pa]\": 15000000000.0,\n",
      " 'Negative electrode active material volume fraction': 0.75,\n",
      " 'Negative electrode charge transfer coefficient': 0.5,\n",
      " 'Negative electrode conductivity [S.m-1]': 215.0,\n",
      " 'Negative electrode cracking rate': <function graphite_cracking_rate_Ai2020 at 0x13cf26e80>,\n",
      " 'Negative electrode critical stress [Pa]': 60000000.0,\n",
      " 'Negative electrode density [kg.m-3]': 1657.0,\n",
      " 'Negative electrode diffusivity [m2.s-1]': <function graphite_LGM50_diffusivity_Chen2020 at 0x13cf26ca0>,\n",
      " 'Negative electrode double-layer capacity [F.m-2]': 0.2,\n",
      " 'Negative electrode exchange-current density [A.m-2]': <function graphite_LGM50_electrolyte_exchange_current_density_Chen2020 at 0x13cf24d60>,\n",
      " 'Negative electrode initial crack length [m]': 2e-08,\n",
      " 'Negative electrode initial crack width [m]': 1.5e-08,\n",
      " 'Negative electrode number of cracks per unit area [m-2]': 3180000000000000.0,\n",
      " 'Negative electrode partial molar volume [m3.mol-1]': 3.1e-06,\n",
      " 'Negative electrode porosity': 0.25,\n",
      " 'Negative electrode reaction-driven LAM factor [m3.mol-1]': 0.0,\n",
      " 'Negative electrode reference concentration for free of deformation [mol.m-3]': 0.0,\n",
      " 'Negative electrode specific heat capacity [J.kg-1.K-1]': 700.0,\n",
      " 'Negative electrode thermal conductivity [W.m-1.K-1]': 1.7,\n",
      " 'Negative electrode thickness [m]': 8.52e-05,\n",
      " 'Negative electrode volume change': <function graphite_volume_change_Ai2020 at 0x13cf26de0>,\n",
      " 'Negative particle radius [m]': 5.86e-06,\n",
      " 'Nominal cell capacity [A.h]': 5.0,\n",
      " 'Number of cells connected in series to make a battery': 1.0,\n",
      " 'Number of electrodes connected in parallel to make a cell': 1.0,\n",
      " 'Open-circuit voltage at 0% SOC [V]': 2.5,\n",
      " 'Open-circuit voltage at 100% SOC [V]': 4.2,\n",
      " 'Outer SEI open-circuit potential [V]': 0.8,\n",
      " 'Outer SEI partial molar volume [m3.mol-1]': 9.585e-05,\n",
      " 'Outer SEI solvent diffusivity [m2.s-1]': 2.5000000000000002e-22,\n",
      " 'Positive current collector conductivity [S.m-1]': 36914000.0,\n",
      " 'Positive current collector density [kg.m-3]': 2700.0,\n",
      " 'Positive current collector specific heat capacity [J.kg-1.K-1]': 897.0,\n",
      " 'Positive current collector thermal conductivity [W.m-1.K-1]': 237.0,\n",
      " 'Positive current collector thickness [m]': 1.6e-05,\n",
      " 'Positive electrode Bruggeman coefficient (electrode)': 1.5,\n",
      " 'Positive electrode Bruggeman coefficient (electrolyte)': 1.5,\n",
      " 'Positive electrode LAM constant exponential term': 2.0,\n",
      " 'Positive electrode LAM constant proportional term [s-1]': 2.7778e-07,\n",
      " 'Positive electrode OCP [V]': <function nmc_LGM50_ocp_Chen2020 at 0x13cf26480>,\n",
      " 'Positive electrode OCP entropic change [V.K-1]': 0.0,\n",
      " \"Positive electrode Paris' law constant b\": 1.12,\n",
      " \"Positive electrode Paris' law constant m\": 2.2,\n",
      " \"Positive electrode Poisson's ratio\": 0.2,\n",
      " \"Positive electrode Young's modulus [Pa]\": 375000000000.0,\n",
      " 'Positive electrode active material volume fraction': 0.665,\n",
      " 'Positive electrode charge transfer coefficient': 0.5,\n",
      " 'Positive electrode conductivity [S.m-1]': 0.18,\n",
      " 'Positive electrode cracking rate': <function cracking_rate_Ai2020 at 0x13cf27100>,\n",
      " 'Positive electrode critical stress [Pa]': 375000000.0,\n",
      " 'Positive electrode density [kg.m-3]': 3262.0,\n",
      " 'Positive electrode diffusivity [m2.s-1]': <function nmc_LGM50_diffusivity_Chen2020 at 0x13cf26fc0>,\n",
      " 'Positive electrode double-layer capacity [F.m-2]': 0.2,\n",
      " 'Positive electrode exchange-current density [A.m-2]': <function nmc_LGM50_electrolyte_exchange_current_density_Chen2020 at 0x13cf26f20>,\n",
      " 'Positive electrode initial crack length [m]': 2e-08,\n",
      " 'Positive electrode initial crack width [m]': 1.5e-08,\n",
      " 'Positive electrode number of cracks per unit area [m-2]': 3180000000000000.0,\n",
      " 'Positive electrode partial molar volume [m3.mol-1]': 1.25e-05,\n",
      " 'Positive electrode porosity': 0.335,\n",
      " 'Positive electrode reaction-driven LAM factor [m3.mol-1]': 0.0,\n",
      " 'Positive electrode reference concentration for free of deformation [mol.m-3]': 0.0,\n",
      " 'Positive electrode specific heat capacity [J.kg-1.K-1]': 700.0,\n",
      " 'Positive electrode thermal conductivity [W.m-1.K-1]': 2.1,\n",
      " 'Positive electrode thickness [m]': 7.56e-05,\n",
      " 'Positive electrode volume change': <function volume_change_Ai2020 at 0x13cf27060>,\n",
      " 'Positive particle radius [m]': 5.22e-06,\n",
      " 'Ratio of lithium moles to SEI moles': 1.0,\n",
      " 'Reference temperature [K]': 298.15,\n",
      " 'SEI growth activation energy [J.mol-1]': 38000.0,\n",
      " 'SEI kinetic rate constant [m.s-1]': 1e-12,\n",
      " 'SEI open-circuit potential [V]': 0.4,\n",
      " 'SEI reaction exchange current density [A.m-2]': 1.5e-07,\n",
      " 'SEI resistivity [Ohm.m]': 200000.0,\n",
      " 'Separator Bruggeman coefficient (electrolyte)': 1.5,\n",
      " 'Separator density [kg.m-3]': 397.0,\n",
      " 'Separator porosity': 0.47,\n",
      " 'Separator specific heat capacity [J.kg-1.K-1]': 700.0,\n",
      " 'Separator thermal conductivity [W.m-1.K-1]': 0.16,\n",
      " 'Separator thickness [m]': 1.2e-05,\n",
      " 'Thermodynamic factor': 1.0,\n",
      " 'Total heat transfer coefficient [W.m-2.K-1]': 10.0,\n",
      " 'Typical plated lithium concentration [mol.m-3]': 1000.0,\n",
      " 'Upper voltage cut-off [V]': 4.2,\n",
      " 'citations': ['OKane2022',\n",
      "               'OKane2020',\n",
      "               'Chen2020']}\n"
     ]
    }
   ],
   "execution_count": 89
  },
  {
   "metadata": {
    "ExecuteTime": {
     "end_time": "2024-06-17T08:54:06.828241Z",
     "start_time": "2024-06-17T08:54:06.823669Z"
    }
   },
   "cell_type": "code",
   "source": "param.search(\"coefficient\")",
   "id": "a3df21f8ba3f3123",
   "outputs": [
    {
     "name": "stdout",
     "output_type": "stream",
     "text": [
      "Cell thermal expansion coefficient [m.K-1]\t1.1e-06\n",
      "Lithium plating transfer coefficient\t0.65\n",
      "Negative electrode Bruggeman coefficient (electrode)\t1.5\n",
      "Negative electrode Bruggeman coefficient (electrolyte)\t1.5\n",
      "Negative electrode charge transfer coefficient\t0.5\n",
      "Positive electrode Bruggeman coefficient (electrode)\t1.5\n",
      "Positive electrode Bruggeman coefficient (electrolyte)\t1.5\n",
      "Positive electrode charge transfer coefficient\t0.5\n",
      "Separator Bruggeman coefficient (electrolyte)\t1.5\n",
      "Total heat transfer coefficient [W.m-2.K-1]\t10.0\n"
     ]
    }
   ],
   "execution_count": 90
  },
  {
   "metadata": {
    "ExecuteTime": {
     "end_time": "2024-06-17T09:13:03.614074Z",
     "start_time": "2024-06-17T09:13:03.606651Z"
    }
   },
   "cell_type": "code",
   "source": [
    "def battery_model(parameters):\n",
    "    # 创建DFN模型\n",
    "    model = pybamm.lithium_ion.DFN()\n",
    "    \n",
    "    # 加载\"OKane2022\"参数集\n",
    "    param = pybamm.ParameterValues(\"OKane2022\")\n",
    "    \n",
    "    # 更新参数\n",
    "    param.update({\n",
    "        \"Negative electrode thickness [m]\": parameters[0], #l_neg :Anode thickness 35-79e-6\n",
    "        \"Positive electrode thickness [m]\": parameters[1], #l_pos :Cathode thickness 35-79e-6\n",
    "        \"Separator thickness [m]\": parameters[2], #l_sep :Separator thickness 10-30e-6\n",
    "        \"Negative electrode active material volume fraction\": parameters[3], \n",
    "        #epsilon_f_neg: Anode active material volume fraction 0.4-0.5\n",
    "        \"Positive electrode active material volume fraction\": parameters[4],\n",
    "        #epsilon_f_pos: Cathode active material volume fraction 0.35-0.5\n",
    "        \"Negative particle radius [m]\": parameters[5], #Rp_neg: 1-11e-6\n",
    "        \"Positive particle radius [m]\": parameters[6], #Rp_pos: 1-11e-6\n",
    "        \"Initial concentration in electrolyte [mol.m-3]\": parameters[7], #c0: 1000-1200\n",
    "        \n",
    "    })\n",
    "    # 创建Casadi求解器并设置选项\n",
    "    solver = pybamm.CasadiSolver(mode=\"safe\", dt_max=0.01, max_step_decrease_count=2000, atol=1e-1, rtol=1e-1, return_solution_if_failed_early=True)\n",
    "    # solver = pybamm.CasadiSolver(mode=\"safe\", atol=1e-6, rtol=1e-6)\n",
    "    # 创建ScikitsOdeSolver求解器并设置选项\n",
    "    # solver = pybamm.ScikitsOdeSolver(method=\"bdf\", atol=1e-4, rtol=1e-4)\n",
    "    \n",
    "    # 创建仿真\n",
    "    sim = pybamm.Simulation(model, parameter_values=param, solver=solver)\n",
    "    \n",
    "    # 运行仿真\n",
    "    try:\n",
    "        \"\"\"原模拟时间为3600s，缩短为1800s\"\"\"\n",
    "        sim.solve([0, 1800])  # 模拟时间范围，单位为秒/\n",
    "    except pybamm.SolverError as e:\n",
    "        print(f\"Solver failed for parameters: {parameters} with error: {e}\")\n",
    "        return np.nan  # 返回NaN以继续处理其他参数组合\n",
    "    \n",
    "    # 提取仿真结果\n",
    "    solution = sim.solution\n",
    "    voltage = solution[\"Terminal voltage [V]\"].entries\n",
    "    \n",
    "    # 返回仿真结束时的电压\n",
    "    return voltage[-1]\n"
   ],
   "id": "5350a7b18631183d",
   "outputs": [],
   "execution_count": 112
  },
  {
   "metadata": {
    "ExecuteTime": {
     "end_time": "2024-06-17T09:13:04.817003Z",
     "start_time": "2024-06-17T09:13:04.811489Z"
    }
   },
   "cell_type": "code",
   "source": [
    "# 定义参数空间\n",
    "problem = {\n",
    "    'num_vars': 8,\n",
    "    'names': ['Negative electrode thickness [m]', \n",
    "              'Positive electrode thickness [m]', \n",
    "              'Separator thickness [m]',\n",
    "              'Negative electrode active material volume fraction',\n",
    "              'Positive electrode active material volume fraction',\n",
    "              'Negative particle radius [m]',\n",
    "              'Positive particle radius [m]',\n",
    "              'Initial concentration in electrolyte [mol.m-3]',],\n",
    "    'bounds': [[35e-6, 79e-6],  # Negative electrode thickness\n",
    "               [35e-6, 79e-6],  # Positive electrode thickness\n",
    "               [10e-6, 30e-6],  # Separator thickness\n",
    "               [0.4, 0.5],      # Negative electrode active material volume fraction\n",
    "               [0.35, 0.5],     # Positive electrode active material volume fraction\n",
    "               [1e-6, 11e-6],   # Negative particle radius\n",
    "               [1e-6, 11e-6],   # Positive particle radius\n",
    "               [1e3, 1.2e3]     # Initial concentration in electrolyte\n",
    "               ]       \n",
    "}"
   ],
   "id": "1e85d39369b0725f",
   "outputs": [],
   "execution_count": 113
  },
  {
   "metadata": {
    "ExecuteTime": {
     "end_time": "2024-06-17T09:13:05.243604Z",
     "start_time": "2024-06-17T09:13:05.207297Z"
    }
   },
   "cell_type": "code",
   "source": [
    "# 生成样本\n",
    "\"\"\"原样本生产为1024，现缩减为256\"\"\"\n",
    "param_values = saltelli.sample(problem, 256)"
   ],
   "id": "a1c3c9688e999f58",
   "outputs": [],
   "execution_count": 114
  },
  {
   "metadata": {
    "ExecuteTime": {
     "end_time": "2024-06-17T09:13:05.563809Z",
     "start_time": "2024-06-17T09:13:05.559148Z"
    }
   },
   "cell_type": "code",
   "source": "print(param_values)",
   "id": "3fb491a850400c9b",
   "outputs": [
    {
     "name": "stdout",
     "output_type": "stream",
     "text": [
      "[[3.52578125e-05 5.69140625e-05 2.35546875e-05 ... 2.07421875e-06\n",
      "  4.65234375e-06 1.07148438e+03]\n",
      " [4.76328125e-05 5.69140625e-05 2.35546875e-05 ... 2.07421875e-06\n",
      "  4.65234375e-06 1.07148438e+03]\n",
      " [3.52578125e-05 5.29609375e-05 2.35546875e-05 ... 2.07421875e-06\n",
      "  4.65234375e-06 1.07148438e+03]\n",
      " ...\n",
      " [4.47109375e-05 4.38515625e-05 1.68359375e-05 ... 1.04335937e-05\n",
      "  8.44140625e-06 1.12929688e+03]\n",
      " [4.47109375e-05 4.38515625e-05 1.68359375e-05 ... 1.04335937e-05\n",
      "  2.19140625e-06 1.09257812e+03]\n",
      " [4.47109375e-05 4.38515625e-05 1.68359375e-05 ... 1.04335937e-05\n",
      "  2.19140625e-06 1.12929688e+03]]\n"
     ]
    }
   ],
   "execution_count": 115
  },
  {
   "metadata": {
    "ExecuteTime": {
     "end_time": "2024-06-17T10:23:21.829428Z",
     "start_time": "2024-06-17T09:13:05.979688Z"
    }
   },
   "cell_type": "code",
   "source": [
    "# 运行模型并获取结果\n",
    "Y = []\n",
    "\n",
    "for i, params in enumerate(param_values):\n",
    "    try:\n",
    "        result = battery_model(params)\n",
    "        Y.append(result)\n",
    "    except Exception as e:\n",
    "        print(f\"Error for sample {i} with parameters {params}: {e}\")\n",
    "        Y.append(np.nan)  # 返回NaN以继续处理其他参数组合\n",
    "\n",
    "Y = np.array(Y)"
   ],
   "id": "51f0622ab5df0f11",
   "outputs": [],
   "execution_count": null
  },
  {
   "metadata": {
    "ExecuteTime": {
     "end_time": "2024-06-17T10:25:33.332829Z",
     "start_time": "2024-06-17T10:25:33.314829Z"
    }
   },
   "cell_type": "code",
   "source": "",
   "id": "228fb47a13d3563c",
   "outputs": [
    {
     "ename": "TypeError",
     "evalue": "only integer scalar arrays can be converted to a scalar index",
     "output_type": "error",
     "traceback": [
      "\u001B[0;31m---------------------------------------------------------------------------\u001B[0m",
      "\u001B[0;31mTypeError\u001B[0m                                 Traceback (most recent call last)",
      "Cell \u001B[0;32mIn[118], line 2\u001B[0m\n\u001B[1;32m      1\u001B[0m valid_indices \u001B[38;5;241m=\u001B[39m \u001B[38;5;241m~\u001B[39mnp\u001B[38;5;241m.\u001B[39misnan(Y)\n\u001B[0;32m----> 2\u001B[0m Y_valid \u001B[38;5;241m=\u001B[39m Y[valid_indices]\n\u001B[1;32m      3\u001B[0m param_values_valid \u001B[38;5;241m=\u001B[39m param_values[valid_indices]\n",
      "\u001B[0;31mTypeError\u001B[0m: only integer scalar arrays can be converted to a scalar index"
     ]
    }
   ],
   "execution_count": 118
  },
  {
   "metadata": {
    "ExecuteTime": {
     "end_time": "2024-06-17T10:23:46.178440Z",
     "start_time": "2024-06-17T10:23:46.139500Z"
    }
   },
   "cell_type": "code",
   "source": [
    "# 执行灵敏度分析\n",
    "Si = sobol.analyze(problem, Y)"
   ],
   "id": "51049dae9bb4a10c",
   "outputs": [
    {
     "ename": "AttributeError",
     "evalue": "'list' object has no attribute 'size'",
     "output_type": "error",
     "traceback": [
      "\u001B[0;31m---------------------------------------------------------------------------\u001B[0m",
      "\u001B[0;31mAttributeError\u001B[0m                            Traceback (most recent call last)",
      "Cell \u001B[0;32mIn[117], line 2\u001B[0m\n\u001B[1;32m      1\u001B[0m \u001B[38;5;66;03m# 执行灵敏度分析\u001B[39;00m\n\u001B[0;32m----> 2\u001B[0m Si \u001B[38;5;241m=\u001B[39m sobol\u001B[38;5;241m.\u001B[39manalyze(problem, Y)\n",
      "File \u001B[0;32m/opt/anaconda3/envs/PyBamm/lib/python3.11/site-packages/SALib/analyze/sobol.py:114\u001B[0m, in \u001B[0;36manalyze\u001B[0;34m(problem, Y, calc_second_order, num_resamples, conf_level, print_to_console, parallel, n_processors, keep_resamples, seed)\u001B[0m\n\u001B[1;32m    111\u001B[0m \u001B[38;5;28;01melse\u001B[39;00m:\n\u001B[1;32m    112\u001B[0m     _, D \u001B[38;5;241m=\u001B[39m extract_group_names(groups)\n\u001B[0;32m--> 114\u001B[0m \u001B[38;5;28;01mif\u001B[39;00m calc_second_order \u001B[38;5;129;01mand\u001B[39;00m Y\u001B[38;5;241m.\u001B[39msize \u001B[38;5;241m%\u001B[39m (\u001B[38;5;241m2\u001B[39m \u001B[38;5;241m*\u001B[39m D \u001B[38;5;241m+\u001B[39m \u001B[38;5;241m2\u001B[39m) \u001B[38;5;241m==\u001B[39m \u001B[38;5;241m0\u001B[39m:\n\u001B[1;32m    115\u001B[0m     N \u001B[38;5;241m=\u001B[39m \u001B[38;5;28mint\u001B[39m(Y\u001B[38;5;241m.\u001B[39msize \u001B[38;5;241m/\u001B[39m (\u001B[38;5;241m2\u001B[39m \u001B[38;5;241m*\u001B[39m D \u001B[38;5;241m+\u001B[39m \u001B[38;5;241m2\u001B[39m))\n\u001B[1;32m    116\u001B[0m \u001B[38;5;28;01melif\u001B[39;00m \u001B[38;5;129;01mnot\u001B[39;00m calc_second_order \u001B[38;5;129;01mand\u001B[39;00m Y\u001B[38;5;241m.\u001B[39msize \u001B[38;5;241m%\u001B[39m (D \u001B[38;5;241m+\u001B[39m \u001B[38;5;241m2\u001B[39m) \u001B[38;5;241m==\u001B[39m \u001B[38;5;241m0\u001B[39m:\n",
      "\u001B[0;31mAttributeError\u001B[0m: 'list' object has no attribute 'size'"
     ]
    }
   ],
   "execution_count": 117
  },
  {
   "metadata": {},
   "cell_type": "code",
   "outputs": [],
   "execution_count": null,
   "source": "",
   "id": "a7583c57232d4c4f"
  }
 ],
 "metadata": {
  "kernelspec": {
   "display_name": "Python 3",
   "language": "python",
   "name": "python3"
  },
  "language_info": {
   "codemirror_mode": {
    "name": "ipython",
    "version": 2
   },
   "file_extension": ".py",
   "mimetype": "text/x-python",
   "name": "python",
   "nbconvert_exporter": "python",
   "pygments_lexer": "ipython2",
   "version": "2.7.6"
  }
 },
 "nbformat": 4,
 "nbformat_minor": 5
}
