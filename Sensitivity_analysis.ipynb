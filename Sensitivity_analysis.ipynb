{
 "cells": [
  {
   "cell_type": "code",
   "id": "initial_id",
   "metadata": {
    "collapsed": true,
    "ExecuteTime": {
     "end_time": "2024-06-28T08:05:39.257452Z",
     "start_time": "2024-06-28T08:05:39.207597Z"
    }
   },
   "source": [
    "import pybamm\n",
    "import numpy as np\n",
    "from SALib.sample import saltelli\n",
    "from SALib.analyze import sobol\n",
    "import matplotlib.pyplot as plt\n",
    "import pandas as pd"
   ],
   "outputs": [],
   "execution_count": 119
  },
  {
   "metadata": {
    "ExecuteTime": {
     "end_time": "2024-06-28T08:05:39.883779Z",
     "start_time": "2024-06-28T08:05:39.875947Z"
    }
   },
   "cell_type": "code",
   "source": [
    "param = pybamm.ParameterValues(\"OKane2022\")\n",
    "print(param)"
   ],
   "id": "9e21238cdc416e02",
   "outputs": [
    {
     "name": "stdout",
     "output_type": "stream",
     "text": [
      "{'Ambient temperature [K]': 298.15,\n",
      " 'Boltzmann constant [J.K-1]': 1.380649e-23,\n",
      " 'Bulk solvent concentration [mol.m-3]': 2636.0,\n",
      " 'Cation transference number': 0.2594,\n",
      " 'Cell cooling surface area [m2]': 0.00531,\n",
      " 'Cell thermal expansion coefficient [m.K-1]': 1.1e-06,\n",
      " 'Cell volume [m3]': 2.42e-05,\n",
      " 'Contact resistance [Ohm]': 0,\n",
      " 'Current function [A]': 5.0,\n",
      " 'Dead lithium decay constant [s-1]': 1e-06,\n",
      " 'Dead lithium decay rate [s-1]': <function SEI_limited_dead_lithium_OKane2022 at 0x13cf26b60>,\n",
      " 'EC diffusivity [m2.s-1]': 2e-18,\n",
      " 'EC initial concentration in electrolyte [mol.m-3]': 4541.0,\n",
      " 'Electrode height [m]': 0.065,\n",
      " 'Electrode width [m]': 1.58,\n",
      " 'Electrolyte conductivity [S.m-1]': <function electrolyte_conductivity_Nyman2008_arrhenius at 0x13cf27240>,\n",
      " 'Electrolyte diffusivity [m2.s-1]': <function electrolyte_diffusivity_Nyman2008_arrhenius at 0x13cf271a0>,\n",
      " 'Electron charge [C]': 1.602176634e-19,\n",
      " 'Exchange-current density for plating [A.m-2]': <function plating_exchange_current_density_OKane2020 at 0x13cf263e0>,\n",
      " 'Exchange-current density for stripping [A.m-2]': <function stripping_exchange_current_density_OKane2020 at 0x13cf26520>,\n",
      " 'Faraday constant [C.mol-1]': 96485.33212,\n",
      " 'Ideal gas constant [J.K-1.mol-1]': 8.314462618,\n",
      " 'Initial concentration in electrolyte [mol.m-3]': 1000.0,\n",
      " 'Initial concentration in negative electrode [mol.m-3]': 29866.0,\n",
      " 'Initial concentration in positive electrode [mol.m-3]': 17038.0,\n",
      " 'Initial inner SEI thickness [m]': 0.0,\n",
      " 'Initial outer SEI thickness [m]': 5e-09,\n",
      " 'Initial plated lithium concentration [mol.m-3]': 0.0,\n",
      " 'Initial temperature [K]': 298.15,\n",
      " 'Inner SEI electron conductivity [S.m-1]': 8.95e-14,\n",
      " 'Inner SEI lithium interstitial diffusivity [m2.s-1]': 1e-20,\n",
      " 'Inner SEI open-circuit potential [V]': 0.1,\n",
      " 'Inner SEI partial molar volume [m3.mol-1]': 9.585e-05,\n",
      " 'Inner SEI reaction proportion': 0.0,\n",
      " 'Lithium interstitial reference concentration [mol.m-3]': 15.0,\n",
      " 'Lithium metal partial molar volume [m3.mol-1]': 1.3e-05,\n",
      " 'Lithium plating kinetic rate constant [m.s-1]': 1e-09,\n",
      " 'Lithium plating transfer coefficient': 0.65,\n",
      " 'Lower voltage cut-off [V]': 2.5,\n",
      " 'Maximum concentration in negative electrode [mol.m-3]': 33133.0,\n",
      " 'Maximum concentration in positive electrode [mol.m-3]': 63104.0,\n",
      " 'Negative current collector conductivity [S.m-1]': 58411000.0,\n",
      " 'Negative current collector density [kg.m-3]': 8960.0,\n",
      " 'Negative current collector specific heat capacity [J.kg-1.K-1]': 385.0,\n",
      " 'Negative current collector thermal conductivity [W.m-1.K-1]': 401.0,\n",
      " 'Negative current collector thickness [m]': 1.2e-05,\n",
      " 'Negative electrode Bruggeman coefficient (electrode)': 1.5,\n",
      " 'Negative electrode Bruggeman coefficient (electrolyte)': 1.5,\n",
      " 'Negative electrode LAM constant exponential term': 2.0,\n",
      " 'Negative electrode LAM constant proportional term [s-1]': 2.7778e-07,\n",
      " 'Negative electrode OCP [V]': <function graphite_LGM50_ocp_Chen2020 at 0x13cf272e0>,\n",
      " 'Negative electrode OCP entropic change [V.K-1]': 0.0,\n",
      " \"Negative electrode Paris' law constant b\": 1.12,\n",
      " \"Negative electrode Paris' law constant m\": 2.2,\n",
      " \"Negative electrode Poisson's ratio\": 0.3,\n",
      " \"Negative electrode Young's modulus [Pa]\": 15000000000.0,\n",
      " 'Negative electrode active material volume fraction': 0.75,\n",
      " 'Negative electrode charge transfer coefficient': 0.5,\n",
      " 'Negative electrode conductivity [S.m-1]': 215.0,\n",
      " 'Negative electrode cracking rate': <function graphite_cracking_rate_Ai2020 at 0x13cf26e80>,\n",
      " 'Negative electrode critical stress [Pa]': 60000000.0,\n",
      " 'Negative electrode density [kg.m-3]': 1657.0,\n",
      " 'Negative electrode diffusivity [m2.s-1]': <function graphite_LGM50_diffusivity_Chen2020 at 0x13cf26ca0>,\n",
      " 'Negative electrode double-layer capacity [F.m-2]': 0.2,\n",
      " 'Negative electrode exchange-current density [A.m-2]': <function graphite_LGM50_electrolyte_exchange_current_density_Chen2020 at 0x13cf24d60>,\n",
      " 'Negative electrode initial crack length [m]': 2e-08,\n",
      " 'Negative electrode initial crack width [m]': 1.5e-08,\n",
      " 'Negative electrode number of cracks per unit area [m-2]': 3180000000000000.0,\n",
      " 'Negative electrode partial molar volume [m3.mol-1]': 3.1e-06,\n",
      " 'Negative electrode porosity': 0.25,\n",
      " 'Negative electrode reaction-driven LAM factor [m3.mol-1]': 0.0,\n",
      " 'Negative electrode reference concentration for free of deformation [mol.m-3]': 0.0,\n",
      " 'Negative electrode specific heat capacity [J.kg-1.K-1]': 700.0,\n",
      " 'Negative electrode thermal conductivity [W.m-1.K-1]': 1.7,\n",
      " 'Negative electrode thickness [m]': 8.52e-05,\n",
      " 'Negative electrode volume change': <function graphite_volume_change_Ai2020 at 0x13cf26de0>,\n",
      " 'Negative particle radius [m]': 5.86e-06,\n",
      " 'Nominal cell capacity [A.h]': 5.0,\n",
      " 'Number of cells connected in series to make a battery': 1.0,\n",
      " 'Number of electrodes connected in parallel to make a cell': 1.0,\n",
      " 'Open-circuit voltage at 0% SOC [V]': 2.5,\n",
      " 'Open-circuit voltage at 100% SOC [V]': 4.2,\n",
      " 'Outer SEI open-circuit potential [V]': 0.8,\n",
      " 'Outer SEI partial molar volume [m3.mol-1]': 9.585e-05,\n",
      " 'Outer SEI solvent diffusivity [m2.s-1]': 2.5000000000000002e-22,\n",
      " 'Positive current collector conductivity [S.m-1]': 36914000.0,\n",
      " 'Positive current collector density [kg.m-3]': 2700.0,\n",
      " 'Positive current collector specific heat capacity [J.kg-1.K-1]': 897.0,\n",
      " 'Positive current collector thermal conductivity [W.m-1.K-1]': 237.0,\n",
      " 'Positive current collector thickness [m]': 1.6e-05,\n",
      " 'Positive electrode Bruggeman coefficient (electrode)': 1.5,\n",
      " 'Positive electrode Bruggeman coefficient (electrolyte)': 1.5,\n",
      " 'Positive electrode LAM constant exponential term': 2.0,\n",
      " 'Positive electrode LAM constant proportional term [s-1]': 2.7778e-07,\n",
      " 'Positive electrode OCP [V]': <function nmc_LGM50_ocp_Chen2020 at 0x13cf26480>,\n",
      " 'Positive electrode OCP entropic change [V.K-1]': 0.0,\n",
      " \"Positive electrode Paris' law constant b\": 1.12,\n",
      " \"Positive electrode Paris' law constant m\": 2.2,\n",
      " \"Positive electrode Poisson's ratio\": 0.2,\n",
      " \"Positive electrode Young's modulus [Pa]\": 375000000000.0,\n",
      " 'Positive electrode active material volume fraction': 0.665,\n",
      " 'Positive electrode charge transfer coefficient': 0.5,\n",
      " 'Positive electrode conductivity [S.m-1]': 0.18,\n",
      " 'Positive electrode cracking rate': <function cracking_rate_Ai2020 at 0x13cf27100>,\n",
      " 'Positive electrode critical stress [Pa]': 375000000.0,\n",
      " 'Positive electrode density [kg.m-3]': 3262.0,\n",
      " 'Positive electrode diffusivity [m2.s-1]': <function nmc_LGM50_diffusivity_Chen2020 at 0x13cf26fc0>,\n",
      " 'Positive electrode double-layer capacity [F.m-2]': 0.2,\n",
      " 'Positive electrode exchange-current density [A.m-2]': <function nmc_LGM50_electrolyte_exchange_current_density_Chen2020 at 0x13cf26f20>,\n",
      " 'Positive electrode initial crack length [m]': 2e-08,\n",
      " 'Positive electrode initial crack width [m]': 1.5e-08,\n",
      " 'Positive electrode number of cracks per unit area [m-2]': 3180000000000000.0,\n",
      " 'Positive electrode partial molar volume [m3.mol-1]': 1.25e-05,\n",
      " 'Positive electrode porosity': 0.335,\n",
      " 'Positive electrode reaction-driven LAM factor [m3.mol-1]': 0.0,\n",
      " 'Positive electrode reference concentration for free of deformation [mol.m-3]': 0.0,\n",
      " 'Positive electrode specific heat capacity [J.kg-1.K-1]': 700.0,\n",
      " 'Positive electrode thermal conductivity [W.m-1.K-1]': 2.1,\n",
      " 'Positive electrode thickness [m]': 7.56e-05,\n",
      " 'Positive electrode volume change': <function volume_change_Ai2020 at 0x13cf27060>,\n",
      " 'Positive particle radius [m]': 5.22e-06,\n",
      " 'Ratio of lithium moles to SEI moles': 1.0,\n",
      " 'Reference temperature [K]': 298.15,\n",
      " 'SEI growth activation energy [J.mol-1]': 38000.0,\n",
      " 'SEI kinetic rate constant [m.s-1]': 1e-12,\n",
      " 'SEI open-circuit potential [V]': 0.4,\n",
      " 'SEI reaction exchange current density [A.m-2]': 1.5e-07,\n",
      " 'SEI resistivity [Ohm.m]': 200000.0,\n",
      " 'Separator Bruggeman coefficient (electrolyte)': 1.5,\n",
      " 'Separator density [kg.m-3]': 397.0,\n",
      " 'Separator porosity': 0.47,\n",
      " 'Separator specific heat capacity [J.kg-1.K-1]': 700.0,\n",
      " 'Separator thermal conductivity [W.m-1.K-1]': 0.16,\n",
      " 'Separator thickness [m]': 1.2e-05,\n",
      " 'Thermodynamic factor': 1.0,\n",
      " 'Total heat transfer coefficient [W.m-2.K-1]': 10.0,\n",
      " 'Typical plated lithium concentration [mol.m-3]': 1000.0,\n",
      " 'Upper voltage cut-off [V]': 4.2,\n",
      " 'citations': ['OKane2022',\n",
      "               'OKane2020',\n",
      "               'Chen2020']}\n"
     ]
    }
   ],
   "execution_count": 120
  },
  {
   "cell_type": "code",
   "source": [
    "param.search(\"Maximum\")"
   ],
   "metadata": {
    "collapsed": false,
    "ExecuteTime": {
     "end_time": "2024-06-28T08:05:40.352190Z",
     "start_time": "2024-06-28T08:05:40.345280Z"
    }
   },
   "id": "69b89a5ddc896bb9",
   "outputs": [
    {
     "name": "stdout",
     "output_type": "stream",
     "text": [
      "Maximum concentration in negative electrode [mol.m-3]\t33133.0\n",
      "Maximum concentration in positive electrode [mol.m-3]\t63104.0\n"
     ]
    }
   ],
   "execution_count": 121
  },
  {
   "cell_type": "code",
   "source": [
    "model = pybamm.lithium_ion.DFN()\n",
    "param_del = model.default_parameter_values\n",
    "print(param_del)"
   ],
   "metadata": {
    "collapsed": false,
    "ExecuteTime": {
     "end_time": "2024-06-28T08:05:40.879804Z",
     "start_time": "2024-06-28T08:05:40.748415Z"
    }
   },
   "id": "aba76240ca529128",
   "outputs": [
    {
     "name": "stdout",
     "output_type": "stream",
     "text": [
      "{'Ambient temperature [K]': 298.15,\n",
      " 'Boltzmann constant [J.K-1]': 1.380649e-23,\n",
      " 'Bulk solvent concentration [mol.m-3]': 2636.0,\n",
      " 'Cation transference number': 0.4,\n",
      " 'Cell cooling surface area [m2]': 0.0569,\n",
      " 'Cell volume [m3]': 7.8e-06,\n",
      " 'Contact resistance [Ohm]': 0,\n",
      " 'Current function [A]': 0.680616,\n",
      " 'EC diffusivity [m2.s-1]': 2e-18,\n",
      " 'EC initial concentration in electrolyte [mol.m-3]': 4541.0,\n",
      " 'Edge heat transfer coefficient [W.m-2.K-1]': 0.3,\n",
      " 'Electrode height [m]': 0.137,\n",
      " 'Electrode width [m]': 0.207,\n",
      " 'Electrolyte conductivity [S.m-1]': <function electrolyte_conductivity_Capiglia1999 at 0x1435b7380>,\n",
      " 'Electrolyte diffusivity [m2.s-1]': <function electrolyte_diffusivity_Capiglia1999 at 0x1435b4040>,\n",
      " 'Electron charge [C]': 1.602176634e-19,\n",
      " 'Faraday constant [C.mol-1]': 96485.33212,\n",
      " 'Ideal gas constant [J.K-1.mol-1]': 8.314462618,\n",
      " 'Initial concentration in electrolyte [mol.m-3]': 1000.0,\n",
      " 'Initial concentration in negative electrode [mol.m-3]': 19986.609595075,\n",
      " 'Initial concentration in positive electrode [mol.m-3]': 30730.7554385565,\n",
      " 'Initial inner SEI thickness [m]': 2.5e-09,\n",
      " 'Initial outer SEI thickness [m]': 2.5e-09,\n",
      " 'Initial temperature [K]': 298.15,\n",
      " 'Inner SEI electron conductivity [S.m-1]': 8.95e-14,\n",
      " 'Inner SEI lithium interstitial diffusivity [m2.s-1]': 1e-20,\n",
      " 'Inner SEI open-circuit potential [V]': 0.1,\n",
      " 'Inner SEI partial molar volume [m3.mol-1]': 9.585e-05,\n",
      " 'Inner SEI reaction proportion': 0.5,\n",
      " 'Lithium interstitial reference concentration [mol.m-3]': 15.0,\n",
      " 'Lower voltage cut-off [V]': 3.105,\n",
      " 'Maximum concentration in negative electrode [mol.m-3]': 24983.2619938437,\n",
      " 'Maximum concentration in positive electrode [mol.m-3]': 51217.9257309275,\n",
      " 'Negative current collector conductivity [S.m-1]': 59600000.0,\n",
      " 'Negative current collector density [kg.m-3]': 8954.0,\n",
      " 'Negative current collector specific heat capacity [J.kg-1.K-1]': 385.0,\n",
      " 'Negative current collector surface heat transfer coefficient [W.m-2.K-1]': 0.0,\n",
      " 'Negative current collector thermal conductivity [W.m-1.K-1]': 401.0,\n",
      " 'Negative current collector thickness [m]': 2.5e-05,\n",
      " 'Negative electrode Bruggeman coefficient (electrode)': 1.5,\n",
      " 'Negative electrode Bruggeman coefficient (electrolyte)': 1.5,\n",
      " 'Negative electrode OCP [V]': <function graphite_mcmb2528_ocp_Dualfoil1998 at 0x13dd2b920>,\n",
      " 'Negative electrode OCP entropic change [V.K-1]': <function graphite_entropic_change_Moura2016 at 0x13dd2bba0>,\n",
      " 'Negative electrode active material volume fraction': 0.6,\n",
      " 'Negative electrode charge transfer coefficient': 0.5,\n",
      " 'Negative electrode conductivity [S.m-1]': 100.0,\n",
      " 'Negative electrode density [kg.m-3]': 1657.0,\n",
      " 'Negative electrode diffusivity [m2.s-1]': <function graphite_mcmb2528_diffusivity_Dualfoil1998 at 0x1431a62a0>,\n",
      " 'Negative electrode double-layer capacity [F.m-2]': 0.2,\n",
      " 'Negative electrode exchange-current density [A.m-2]': <function graphite_electrolyte_exchange_current_density_Dualfoil1998 at 0x13dd2b100>,\n",
      " 'Negative electrode porosity': 0.3,\n",
      " 'Negative electrode reaction-driven LAM factor [m3.mol-1]': 0.0,\n",
      " 'Negative electrode specific heat capacity [J.kg-1.K-1]': 700.0,\n",
      " 'Negative electrode thermal conductivity [W.m-1.K-1]': 1.7,\n",
      " 'Negative electrode thickness [m]': 0.0001,\n",
      " 'Negative particle radius [m]': 1e-05,\n",
      " 'Negative tab centre y-coordinate [m]': 0.06,\n",
      " 'Negative tab centre z-coordinate [m]': 0.137,\n",
      " 'Negative tab heat transfer coefficient [W.m-2.K-1]': 10.0,\n",
      " 'Negative tab width [m]': 0.04,\n",
      " 'Nominal cell capacity [A.h]': 0.680616,\n",
      " 'Number of cells connected in series to make a battery': 1.0,\n",
      " 'Number of electrodes connected in parallel to make a cell': 1.0,\n",
      " 'Open-circuit voltage at 0% SOC [V]': 3.105,\n",
      " 'Open-circuit voltage at 100% SOC [V]': 4.1,\n",
      " 'Outer SEI open-circuit potential [V]': 0.8,\n",
      " 'Outer SEI partial molar volume [m3.mol-1]': 9.585e-05,\n",
      " 'Outer SEI solvent diffusivity [m2.s-1]': 2.5000000000000002e-22,\n",
      " 'Positive current collector conductivity [S.m-1]': 35500000.0,\n",
      " 'Positive current collector density [kg.m-3]': 2707.0,\n",
      " 'Positive current collector specific heat capacity [J.kg-1.K-1]': 897.0,\n",
      " 'Positive current collector surface heat transfer coefficient [W.m-2.K-1]': 0.0,\n",
      " 'Positive current collector thermal conductivity [W.m-1.K-1]': 237.0,\n",
      " 'Positive current collector thickness [m]': 2.5e-05,\n",
      " 'Positive electrode Bruggeman coefficient (electrode)': 1.5,\n",
      " 'Positive electrode Bruggeman coefficient (electrolyte)': 1.5,\n",
      " 'Positive electrode OCP [V]': <function lico2_ocp_Dualfoil1998 at 0x13dd2b9c0>,\n",
      " 'Positive electrode OCP entropic change [V.K-1]': <function lico2_entropic_change_Moura2016 at 0x1435b5b20>,\n",
      " 'Positive electrode active material volume fraction': 0.5,\n",
      " 'Positive electrode charge transfer coefficient': 0.5,\n",
      " 'Positive electrode conductivity [S.m-1]': 10.0,\n",
      " 'Positive electrode density [kg.m-3]': 3262.0,\n",
      " 'Positive electrode diffusivity [m2.s-1]': <function lico2_diffusivity_Dualfoil1998 at 0x13dd2bec0>,\n",
      " 'Positive electrode double-layer capacity [F.m-2]': 0.2,\n",
      " 'Positive electrode exchange-current density [A.m-2]': <function lico2_electrolyte_exchange_current_density_Dualfoil1998 at 0x13dd2ba60>,\n",
      " 'Positive electrode porosity': 0.3,\n",
      " 'Positive electrode reaction-driven LAM factor [m3.mol-1]': 0.0,\n",
      " 'Positive electrode specific heat capacity [J.kg-1.K-1]': 700.0,\n",
      " 'Positive electrode thermal conductivity [W.m-1.K-1]': 2.1,\n",
      " 'Positive electrode thickness [m]': 0.0001,\n",
      " 'Positive particle radius [m]': 1e-05,\n",
      " 'Positive tab centre y-coordinate [m]': 0.147,\n",
      " 'Positive tab centre z-coordinate [m]': 0.137,\n",
      " 'Positive tab heat transfer coefficient [W.m-2.K-1]': 10.0,\n",
      " 'Positive tab width [m]': 0.04,\n",
      " 'Ratio of lithium moles to SEI moles': 2.0,\n",
      " 'Reference temperature [K]': 298.15,\n",
      " 'SEI growth activation energy [J.mol-1]': 0.0,\n",
      " 'SEI growth transfer coefficient': 0.5,\n",
      " 'SEI kinetic rate constant [m.s-1]': 1e-12,\n",
      " 'SEI open-circuit potential [V]': 0.4,\n",
      " 'SEI reaction exchange current density [A.m-2]': 1.5e-07,\n",
      " 'SEI resistivity [Ohm.m]': 200000.0,\n",
      " 'Separator Bruggeman coefficient (electrolyte)': 1.5,\n",
      " 'Separator density [kg.m-3]': 397.0,\n",
      " 'Separator porosity': 1.0,\n",
      " 'Separator specific heat capacity [J.kg-1.K-1]': 700.0,\n",
      " 'Separator thermal conductivity [W.m-1.K-1]': 0.16,\n",
      " 'Separator thickness [m]': 2.5e-05,\n",
      " 'Thermodynamic factor': 1.0,\n",
      " 'Total heat transfer coefficient [W.m-2.K-1]': 10.0,\n",
      " 'Upper voltage cut-off [V]': 4.1,\n",
      " 'citations': ['Marquis2019']}\n"
     ]
    }
   ],
   "execution_count": 122
  },
  {
   "metadata": {
    "ExecuteTime": {
     "end_time": "2024-06-28T08:05:41.711225Z",
     "start_time": "2024-06-28T08:05:41.705784Z"
    }
   },
   "cell_type": "code",
   "source": [
    "param_del.search(\"max\")"
   ],
   "id": "a3df21f8ba3f3123",
   "outputs": [
    {
     "name": "stdout",
     "output_type": "stream",
     "text": [
      "Maximum concentration in negative electrode [mol.m-3]\t24983.2619938437\n",
      "Maximum concentration in positive electrode [mol.m-3]\t51217.9257309275\n"
     ]
    }
   ],
   "execution_count": 123
  },
  {
   "metadata": {
    "ExecuteTime": {
     "end_time": "2024-06-28T08:05:42.204050Z",
     "start_time": "2024-06-28T08:05:42.188371Z"
    }
   },
   "cell_type": "code",
   "source": [
    "# Define the model\n",
    "def battery_model(parameters):\n",
    "    # Creating a DFN model\n",
    "    model = pybamm.lithium_ion.DFN()\n",
    "    \n",
    "    # Loading the default parameter set\n",
    "    param = pybamm.ParameterValues(\"OKane2022\")\n",
    "    \n",
    "    # Updating parameters\n",
    "    param.update({\n",
    "        \"Negative electrode thickness [m]\": parameters[0],\n",
    "        \"Positive electrode thickness [m]\": parameters[1],\n",
    "        \"Separator thickness [m]\": parameters[2],\n",
    "        \"Negative electrode active material volume fraction\": parameters[3],\n",
    "        \"Positive electrode active material volume fraction\": parameters[4],\n",
    "        \"Negative particle radius [m]\": parameters[5],\n",
    "        \"Positive particle radius [m]\": parameters[6],\n",
    "        \"Initial concentration in electrolyte [mol.m-3]\": parameters[7],\n",
    "        \"Negative electrode conductivity [S.m-1]\": parameters[8],\n",
    "        \"Positive electrode conductivity [S.m-1]\": parameters[9],\n",
    "        \"Negative electrode Bruggeman coefficient (electrode)\": parameters[10],\n",
    "        \"Positive electrode Bruggeman coefficient (electrode)\": parameters[11],\n",
    "        \"Separator Bruggeman coefficient (electrolyte)\": parameters[12],\n",
    "        \"Maximum concentration in negative electrode [mol.m-3]\": parameters[13],\n",
    "        \"Maximum concentration in positive electrode [mol.m-3]\": parameters[14]\n",
    "    })\n",
    "    \n",
    "    # Creating a Casadi solver and setting options\n",
    "    solver = pybamm.CasadiSolver(\n",
    "        mode=\"safe\", \n",
    "        atol=1e-1, \n",
    "        rtol=1e-1, \n",
    "        dt_max=0.01,  # Decrease the maximum time step\n",
    "        max_step_decrease_count=2000  # Increase in step size decrease in frequency\n",
    "    )\n",
    "    \n",
    "    # Creating a Simulation\n",
    "    sim = pybamm.Simulation(model, parameter_values=param, solver=solver)\n",
    "    \n",
    "    # running simulation\n",
    "    try:\n",
    "        sim.solve([0, 450])  # Reduced simulation time range of 450 seconds\n",
    "    except pybamm.SolverError as e:\n",
    "        print(f\"Solver failed for parameters: {parameters} with error: {e}\")\n",
    "        return np.nan  # Returns NaN to continue processing other combinations of parameters\n",
    "    \n",
    "    # Extract simulation results\n",
    "    solution = sim.solution\n",
    "    voltage = solution[\"Terminal voltage [V]\"].entries\n",
    "    \n",
    "    # Returns the voltage at the end of the simulation\n",
    "    return voltage[-1]\n"
   ],
   "id": "5350a7b18631183d",
   "outputs": [],
   "execution_count": 124
  },
  {
   "metadata": {
    "ExecuteTime": {
     "end_time": "2024-06-28T08:05:43.182002Z",
     "start_time": "2024-06-28T08:05:43.175619Z"
    }
   },
   "cell_type": "code",
   "source": [
    "# Defining the parameter space\n",
    "problem = {\n",
    "    'num_vars': 15,\n",
    "    'names': ['Negative electrode thickness [m]', \n",
    "              'Positive electrode thickness [m]', \n",
    "              'Separator thickness [m]',\n",
    "              'Negative electrode active material volume fraction',\n",
    "              'Positive electrode active material volume fraction',\n",
    "              'Negative particle radius [m]',\n",
    "              'Positive particle radius [m]',\n",
    "              'Initial concentration in electrolyte [mol.m-3]',\n",
    "              'Negative electrode conductivity [S.m-1]',\n",
    "              'Positive electrode conductivity [S.m-1]',\n",
    "              'Negative electrode Bruggeman coefficient (electrode)',\n",
    "              'Positive electrode Bruggeman coefficient (electrode)',\n",
    "              'Separator Bruggeman coefficient (electrolyte)',\n",
    "              'Maximum concentration in negative electrode [mol.m-3]',\n",
    "              'Maximum concentration in positive electrode [mol.m-3]'\n",
    "              ],\n",
    "    'bounds': [[5e-5, 8.6e-5],  # Narrowing down the parameters  8.52e-05\n",
    "               [5e-5, 7.6e-5],  #7.56e-05\n",
    "               [1e-5, 2e-5],    #1.2e-05\n",
    "               [0.7, 0.8],      #0.75\n",
    "               [0.5, 0.7],      #0.665\n",
    "               [4e-6, 6e-6],    #5.86e-06\n",
    "               [4e-6, 6e-6],    #5.22e-06\n",
    "               [0.9e3, 1.2e3],     # Initial concentration in electrolyte 1000\n",
    "               [1e2, 3e2],      #215.0\n",
    "               [0, 10],         #0.18\n",
    "               [1.3, 1.7],      #1.5\n",
    "               [1.3, 1.7],      #1.5\n",
    "               [1.3, 1.7],      #1.5\n",
    "               [2.3e4, 3.4e4],  #33133.0\n",
    "               [5.0e4, 6.5e4]   #63104.0\n",
    "               ]       \n",
    "}"
   ],
   "id": "1e85d39369b0725f",
   "outputs": [],
   "execution_count": 125
  },
  {
   "metadata": {
    "ExecuteTime": {
     "end_time": "2024-06-28T08:05:44.052601Z",
     "start_time": "2024-06-28T08:05:44.000770Z"
    }
   },
   "cell_type": "code",
   "source": [
    "# Generate a sample\n",
    "\"\"\"原样本生产为1024，现缩减为256\"\"\"\n",
    "param_values = saltelli.sample(problem, 128)"
   ],
   "id": "a1c3c9688e999f58",
   "outputs": [],
   "execution_count": 126
  },
  {
   "metadata": {
    "ExecuteTime": {
     "end_time": "2024-06-28T08:05:44.715922Z",
     "start_time": "2024-06-28T08:05:44.710300Z"
    }
   },
   "cell_type": "code",
   "source": [
    "print(param_values)"
   ],
   "id": "3fb491a850400c9b",
   "outputs": [
    {
     "name": "stdout",
     "output_type": "stream",
     "text": [
      "[[5.04218750e-05 5.86328125e-05 1.29296875e-05 ... 1.62656250e+00\n",
      "  3.26679688e+04 5.04101562e+04]\n",
      " [7.74218750e-05 5.86328125e-05 1.29296875e-05 ... 1.62656250e+00\n",
      "  3.26679688e+04 5.04101562e+04]\n",
      " [5.04218750e-05 6.47265625e-05 1.29296875e-05 ... 1.62656250e+00\n",
      "  3.26679688e+04 5.04101562e+04]\n",
      " ...\n",
      " [6.87031250e-05 6.04609375e-05 1.42578125e-05 ... 1.58281250e+00\n",
      "  3.00039062e+04 5.01757812e+04]\n",
      " [6.87031250e-05 6.04609375e-05 1.42578125e-05 ... 1.58281250e+00\n",
      "  3.36132812e+04 5.91992188e+04]\n",
      " [6.87031250e-05 6.04609375e-05 1.42578125e-05 ... 1.58281250e+00\n",
      "  3.36132812e+04 5.01757812e+04]]\n"
     ]
    }
   ],
   "execution_count": 127
  },
  {
   "metadata": {
    "ExecuteTime": {
     "end_time": "2024-06-28T08:17:01.384626Z",
     "start_time": "2024-06-28T08:05:45.309578Z"
    }
   },
   "cell_type": "code",
   "source": [
    "# Run the model and get the results\n",
    "Y = []\n",
    "\n",
    "for i, params in enumerate(param_values):\n",
    "    try:\n",
    "        result = battery_model(params)\n",
    "        Y.append(result)\n",
    "    except Exception as e:\n",
    "        print(f\"Error for sample {i} with parameters {params}: {e}\")\n",
    "        Y.append(np.nan)  # Returns NaN to continue processing other combinations of parameters\n",
    "\n",
    "# Converting Y to a NumPy array and filtering NaN values\n",
    "Y = np.array(Y)\n",
    "valid_indices = ~np.isnan(Y)\n",
    "Y_valid = Y[valid_indices]\n",
    "param_values_valid = param_values[valid_indices]"
   ],
   "id": "51f0622ab5df0f11",
   "outputs": [
    {
     "name": "stderr",
     "output_type": "stream",
     "text": [
      "CasADi - 2024-06-28 10:06:06 WARNING(\"roots:g failed: Inf detected for output x, at (row 0, col 0).\") [.../casadi/core/oracle_function.cpp:326]\n",
      "CasADi - 2024-06-28 10:06:06 WARNING(\"roots:g failed: Inf detected for output x, at (row 0, col 0).\") [.../casadi/core/oracle_function.cpp:326]\n",
      "CasADi - 2024-06-28 10:06:06 WARNING(\"roots:g failed: Inf detected for output x, at (row 0, col 0).\") [.../casadi/core/oracle_function.cpp:326]\n",
      "CasADi - 2024-06-28 10:06:06 WARNING(\"roots:g failed: Inf detected for output x, at (row 0, col 0).\") [.../casadi/core/oracle_function.cpp:326]\n",
      "CasADi - 2024-06-28 10:06:06 WARNING(\"roots:g failed: Inf detected for output x, at (row 0, col 0).\") [.../casadi/core/oracle_function.cpp:326]\n"
     ]
    },
    {
     "name": "stdout",
     "output_type": "stream",
     "text": [
      "Solver failed for parameters: [5.04218750e-05 5.86328125e-05 1.29296875e-05 7.19140625e-01\n",
      " 6.80468750e-01 5.35156250e-06 5.72656250e-06 9.73828125e+02\n",
      " 1.21093750e+02 8.16406250e+00 1.59531250e+00 1.59531250e+00\n",
      " 1.62656250e+00 2.85429688e+04 5.04101562e+04] with error: Events ['Maximum voltage [V]'] are non-positive at initial conditions\n"
     ]
    },
    {
     "name": "stderr",
     "output_type": "stream",
     "text": [
      "CasADi - 2024-06-28 10:06:07 WARNING(\"roots:g failed: Inf detected for output x, at (row 0, col 0).\") [.../casadi/core/oracle_function.cpp:326]\n",
      "CasADi - 2024-06-28 10:06:07 WARNING(\"roots:g failed: Inf detected for output x, at (row 0, col 0).\") [.../casadi/core/oracle_function.cpp:326]\n",
      "CasADi - 2024-06-28 10:06:07 WARNING(\"roots:g failed: Inf detected for output x, at (row 0, col 0).\") [.../casadi/core/oracle_function.cpp:326]\n",
      "CasADi - 2024-06-28 10:06:07 WARNING(\"roots:g failed: Inf detected for output x, at (row 0, col 0).\") [.../casadi/core/oracle_function.cpp:326]\n",
      "CasADi - 2024-06-28 10:06:07 WARNING(\"roots:g failed: Inf detected for output x, at (row 0, col 0).\") [.../casadi/core/oracle_function.cpp:326]\n"
     ]
    },
    {
     "name": "stdout",
     "output_type": "stream",
     "text": [
      "Solver failed for parameters: [5.04218750e-05 6.47265625e-05 1.35546875e-05 7.08203125e-01\n",
      " 6.11718750e-01 5.71093750e-06 4.11718750e-06 1.16601562e+03\n",
      " 2.86718750e+02 6.67968750e+00 1.57343750e+00 1.33593750e+00\n",
      " 1.58593750e+00 2.85429688e+04 5.47460938e+04] with error: Events ['Maximum voltage [V]'] are non-positive at initial conditions\n"
     ]
    },
    {
     "name": "stderr",
     "output_type": "stream",
     "text": [
      "CasADi - 2024-06-28 10:06:08 WARNING(\"roots:g failed: Inf detected for output x, at (row 0, col 0).\") [.../casadi/core/oracle_function.cpp:326]\n",
      "CasADi - 2024-06-28 10:06:08 WARNING(\"roots:g failed: Inf detected for output x, at (row 0, col 0).\") [.../casadi/core/oracle_function.cpp:326]\n",
      "CasADi - 2024-06-28 10:06:08 WARNING(\"roots:g failed: Inf detected for output x, at (row 0, col 0).\") [.../casadi/core/oracle_function.cpp:326]\n",
      "CasADi - 2024-06-28 10:06:08 WARNING(\"roots:g failed: Inf detected for output x, at (row 0, col 0).\") [.../casadi/core/oracle_function.cpp:326]\n",
      "CasADi - 2024-06-28 10:06:08 WARNING(\"roots:g failed: Inf detected for output x, at (row 0, col 0).\") [.../casadi/core/oracle_function.cpp:326]\n"
     ]
    },
    {
     "name": "stdout",
     "output_type": "stream",
     "text": [
      "Solver failed for parameters: [7.74218750e-05 5.86328125e-05 1.35546875e-05 7.08203125e-01\n",
      " 6.11718750e-01 5.71093750e-06 4.11718750e-06 1.16601562e+03\n",
      " 2.86718750e+02 6.67968750e+00 1.57343750e+00 1.33593750e+00\n",
      " 1.58593750e+00 2.85429688e+04 5.47460938e+04] with error: Events ['Maximum voltage [V]'] are non-positive at initial conditions\n"
     ]
    },
    {
     "name": "stderr",
     "output_type": "stream",
     "text": [
      "CasADi - 2024-06-28 10:06:08 WARNING(\"roots:g failed: Inf detected for output x, at (row 0, col 0).\") [.../casadi/core/oracle_function.cpp:326]\n",
      "CasADi - 2024-06-28 10:06:08 WARNING(\"roots:g failed: Inf detected for output x, at (row 0, col 0).\") [.../casadi/core/oracle_function.cpp:326]\n",
      "CasADi - 2024-06-28 10:06:08 WARNING(\"roots:g failed: Inf detected for output x, at (row 0, col 0).\") [.../casadi/core/oracle_function.cpp:326]\n",
      "CasADi - 2024-06-28 10:06:08 WARNING(\"roots:g failed: Inf detected for output x, at (row 0, col 0).\") [.../casadi/core/oracle_function.cpp:326]\n",
      "CasADi - 2024-06-28 10:06:08 WARNING(\"roots:g failed: Inf detected for output x, at (row 0, col 0).\") [.../casadi/core/oracle_function.cpp:326]\n"
     ]
    },
    {
     "name": "stdout",
     "output_type": "stream",
     "text": [
      "Solver failed for parameters: [7.74218750e-05 6.47265625e-05 1.29296875e-05 7.08203125e-01\n",
      " 6.11718750e-01 5.71093750e-06 4.11718750e-06 1.16601562e+03\n",
      " 2.86718750e+02 6.67968750e+00 1.57343750e+00 1.33593750e+00\n",
      " 1.58593750e+00 2.85429688e+04 5.47460938e+04] with error: Events ['Maximum voltage [V]'] are non-positive at initial conditions\n"
     ]
    },
    {
     "name": "stderr",
     "output_type": "stream",
     "text": [
      "CasADi - 2024-06-28 10:06:09 WARNING(\"roots:g failed: Inf detected for output x, at (row 0, col 0).\") [.../casadi/core/oracle_function.cpp:326]\n",
      "CasADi - 2024-06-28 10:06:09 WARNING(\"roots:g failed: Inf detected for output x, at (row 0, col 0).\") [.../casadi/core/oracle_function.cpp:326]\n",
      "CasADi - 2024-06-28 10:06:09 WARNING(\"roots:g failed: Inf detected for output x, at (row 0, col 0).\") [.../casadi/core/oracle_function.cpp:326]\n",
      "CasADi - 2024-06-28 10:06:09 WARNING(\"roots:g failed: Inf detected for output x, at (row 0, col 0).\") [.../casadi/core/oracle_function.cpp:326]\n",
      "CasADi - 2024-06-28 10:06:09 WARNING(\"roots:g failed: Inf detected for output x, at (row 0, col 0).\") [.../casadi/core/oracle_function.cpp:326]\n"
     ]
    },
    {
     "name": "stdout",
     "output_type": "stream",
     "text": [
      "Solver failed for parameters: [7.74218750e-05 6.47265625e-05 1.35546875e-05 7.19140625e-01\n",
      " 6.11718750e-01 5.71093750e-06 4.11718750e-06 1.16601562e+03\n",
      " 2.86718750e+02 6.67968750e+00 1.57343750e+00 1.33593750e+00\n",
      " 1.58593750e+00 2.85429688e+04 5.47460938e+04] with error: Events ['Maximum voltage [V]'] are non-positive at initial conditions\n"
     ]
    },
    {
     "name": "stderr",
     "output_type": "stream",
     "text": [
      "CasADi - 2024-06-28 10:06:10 WARNING(\"roots:g failed: Inf detected for output x, at (row 0, col 0).\") [.../casadi/core/oracle_function.cpp:326]\n",
      "CasADi - 2024-06-28 10:06:10 WARNING(\"roots:g failed: Inf detected for output x, at (row 0, col 0).\") [.../casadi/core/oracle_function.cpp:326]\n",
      "CasADi - 2024-06-28 10:06:10 WARNING(\"roots:g failed: Inf detected for output x, at (row 0, col 0).\") [.../casadi/core/oracle_function.cpp:326]\n",
      "CasADi - 2024-06-28 10:06:10 WARNING(\"roots:g failed: Inf detected for output x, at (row 0, col 0).\") [.../casadi/core/oracle_function.cpp:326]\n",
      "CasADi - 2024-06-28 10:06:10 WARNING(\"roots:g failed: Inf detected for output x, at (row 0, col 0).\") [.../casadi/core/oracle_function.cpp:326]\n"
     ]
    },
    {
     "name": "stdout",
     "output_type": "stream",
     "text": [
      "Solver failed for parameters: [7.74218750e-05 6.47265625e-05 1.35546875e-05 7.08203125e-01\n",
      " 6.80468750e-01 5.71093750e-06 4.11718750e-06 1.16601562e+03\n",
      " 2.86718750e+02 6.67968750e+00 1.57343750e+00 1.33593750e+00\n",
      " 1.58593750e+00 2.85429688e+04 5.47460938e+04] with error: Events ['Maximum voltage [V]'] are non-positive at initial conditions\n"
     ]
    },
    {
     "name": "stderr",
     "output_type": "stream",
     "text": [
      "CasADi - 2024-06-28 10:06:10 WARNING(\"roots:g failed: Inf detected for output x, at (row 0, col 0).\") [.../casadi/core/oracle_function.cpp:326]\n",
      "CasADi - 2024-06-28 10:06:10 WARNING(\"roots:g failed: Inf detected for output x, at (row 0, col 0).\") [.../casadi/core/oracle_function.cpp:326]\n",
      "CasADi - 2024-06-28 10:06:10 WARNING(\"roots:g failed: Inf detected for output x, at (row 0, col 0).\") [.../casadi/core/oracle_function.cpp:326]\n",
      "CasADi - 2024-06-28 10:06:10 WARNING(\"roots:g failed: Inf detected for output x, at (row 0, col 0).\") [.../casadi/core/oracle_function.cpp:326]\n",
      "CasADi - 2024-06-28 10:06:10 WARNING(\"roots:g failed: Inf detected for output x, at (row 0, col 0).\") [.../casadi/core/oracle_function.cpp:326]\n"
     ]
    },
    {
     "name": "stdout",
     "output_type": "stream",
     "text": [
      "Solver failed for parameters: [7.74218750e-05 6.47265625e-05 1.35546875e-05 7.08203125e-01\n",
      " 6.11718750e-01 5.35156250e-06 4.11718750e-06 1.16601562e+03\n",
      " 2.86718750e+02 6.67968750e+00 1.57343750e+00 1.33593750e+00\n",
      " 1.58593750e+00 2.85429688e+04 5.47460938e+04] with error: Events ['Maximum voltage [V]'] are non-positive at initial conditions\n"
     ]
    },
    {
     "name": "stderr",
     "output_type": "stream",
     "text": [
      "CasADi - 2024-06-28 10:06:11 WARNING(\"roots:g failed: Inf detected for output x, at (row 0, col 0).\") [.../casadi/core/oracle_function.cpp:326]\n",
      "CasADi - 2024-06-28 10:06:11 WARNING(\"roots:g failed: Inf detected for output x, at (row 0, col 0).\") [.../casadi/core/oracle_function.cpp:326]\n",
      "CasADi - 2024-06-28 10:06:11 WARNING(\"roots:g failed: Inf detected for output x, at (row 0, col 0).\") [.../casadi/core/oracle_function.cpp:326]\n",
      "CasADi - 2024-06-28 10:06:11 WARNING(\"roots:g failed: Inf detected for output x, at (row 0, col 0).\") [.../casadi/core/oracle_function.cpp:326]\n",
      "CasADi - 2024-06-28 10:06:11 WARNING(\"roots:g failed: Inf detected for output x, at (row 0, col 0).\") [.../casadi/core/oracle_function.cpp:326]\n"
     ]
    },
    {
     "name": "stdout",
     "output_type": "stream",
     "text": [
      "Solver failed for parameters: [7.74218750e-05 6.47265625e-05 1.35546875e-05 7.08203125e-01\n",
      " 6.11718750e-01 5.71093750e-06 5.72656250e-06 1.16601562e+03\n",
      " 2.86718750e+02 6.67968750e+00 1.57343750e+00 1.33593750e+00\n",
      " 1.58593750e+00 2.85429688e+04 5.47460938e+04] with error: Events ['Maximum voltage [V]'] are non-positive at initial conditions\n"
     ]
    },
    {
     "name": "stderr",
     "output_type": "stream",
     "text": [
      "CasADi - 2024-06-28 10:06:11 WARNING(\"roots:g failed: Inf detected for output x, at (row 0, col 0).\") [.../casadi/core/oracle_function.cpp:326]\n",
      "CasADi - 2024-06-28 10:06:11 WARNING(\"roots:g failed: Inf detected for output x, at (row 0, col 0).\") [.../casadi/core/oracle_function.cpp:326]\n",
      "CasADi - 2024-06-28 10:06:11 WARNING(\"roots:g failed: Inf detected for output x, at (row 0, col 0).\") [.../casadi/core/oracle_function.cpp:326]\n",
      "CasADi - 2024-06-28 10:06:11 WARNING(\"roots:g failed: Inf detected for output x, at (row 0, col 0).\") [.../casadi/core/oracle_function.cpp:326]\n",
      "CasADi - 2024-06-28 10:06:11 WARNING(\"roots:g failed: Inf detected for output x, at (row 0, col 0).\") [.../casadi/core/oracle_function.cpp:326]\n"
     ]
    },
    {
     "name": "stdout",
     "output_type": "stream",
     "text": [
      "Solver failed for parameters: [7.74218750e-05 6.47265625e-05 1.35546875e-05 7.08203125e-01\n",
      " 6.11718750e-01 5.71093750e-06 4.11718750e-06 9.73828125e+02\n",
      " 2.86718750e+02 6.67968750e+00 1.57343750e+00 1.33593750e+00\n",
      " 1.58593750e+00 2.85429688e+04 5.47460938e+04] with error: Events ['Maximum voltage [V]'] are non-positive at initial conditions\n"
     ]
    },
    {
     "name": "stderr",
     "output_type": "stream",
     "text": [
      "CasADi - 2024-06-28 10:06:12 WARNING(\"roots:g failed: Inf detected for output x, at (row 0, col 0).\") [.../casadi/core/oracle_function.cpp:326]\n",
      "CasADi - 2024-06-28 10:06:12 WARNING(\"roots:g failed: Inf detected for output x, at (row 0, col 0).\") [.../casadi/core/oracle_function.cpp:326]\n",
      "CasADi - 2024-06-28 10:06:12 WARNING(\"roots:g failed: Inf detected for output x, at (row 0, col 0).\") [.../casadi/core/oracle_function.cpp:326]\n",
      "CasADi - 2024-06-28 10:06:12 WARNING(\"roots:g failed: Inf detected for output x, at (row 0, col 0).\") [.../casadi/core/oracle_function.cpp:326]\n",
      "CasADi - 2024-06-28 10:06:12 WARNING(\"roots:g failed: Inf detected for output x, at (row 0, col 0).\") [.../casadi/core/oracle_function.cpp:326]\n"
     ]
    },
    {
     "name": "stdout",
     "output_type": "stream",
     "text": [
      "Solver failed for parameters: [7.74218750e-05 6.47265625e-05 1.35546875e-05 7.08203125e-01\n",
      " 6.11718750e-01 5.71093750e-06 4.11718750e-06 1.16601562e+03\n",
      " 1.21093750e+02 6.67968750e+00 1.57343750e+00 1.33593750e+00\n",
      " 1.58593750e+00 2.85429688e+04 5.47460938e+04] with error: Events ['Maximum voltage [V]'] are non-positive at initial conditions\n"
     ]
    },
    {
     "name": "stderr",
     "output_type": "stream",
     "text": [
      "CasADi - 2024-06-28 10:06:12 WARNING(\"roots:g failed: Inf detected for output x, at (row 0, col 0).\") [.../casadi/core/oracle_function.cpp:326]\n",
      "CasADi - 2024-06-28 10:06:12 WARNING(\"roots:g failed: Inf detected for output x, at (row 0, col 0).\") [.../casadi/core/oracle_function.cpp:326]\n",
      "CasADi - 2024-06-28 10:06:12 WARNING(\"roots:g failed: Inf detected for output x, at (row 0, col 0).\") [.../casadi/core/oracle_function.cpp:326]\n",
      "CasADi - 2024-06-28 10:06:12 WARNING(\"roots:g failed: Inf detected for output x, at (row 0, col 0).\") [.../casadi/core/oracle_function.cpp:326]\n",
      "CasADi - 2024-06-28 10:06:12 WARNING(\"roots:g failed: Inf detected for output x, at (row 0, col 0).\") [.../casadi/core/oracle_function.cpp:326]\n"
     ]
    },
    {
     "name": "stdout",
     "output_type": "stream",
     "text": [
      "Solver failed for parameters: [7.74218750e-05 6.47265625e-05 1.35546875e-05 7.08203125e-01\n",
      " 6.11718750e-01 5.71093750e-06 4.11718750e-06 1.16601562e+03\n",
      " 2.86718750e+02 8.16406250e+00 1.57343750e+00 1.33593750e+00\n",
      " 1.58593750e+00 2.85429688e+04 5.47460938e+04] with error: Events ['Maximum voltage [V]'] are non-positive at initial conditions\n"
     ]
    },
    {
     "name": "stderr",
     "output_type": "stream",
     "text": [
      "CasADi - 2024-06-28 10:06:12 WARNING(\"roots:g failed: Inf detected for output x, at (row 0, col 0).\") [.../casadi/core/oracle_function.cpp:326]\n",
      "CasADi - 2024-06-28 10:06:12 WARNING(\"roots:g failed: Inf detected for output x, at (row 0, col 0).\") [.../casadi/core/oracle_function.cpp:326]\n",
      "CasADi - 2024-06-28 10:06:12 WARNING(\"roots:g failed: Inf detected for output x, at (row 0, col 0).\") [.../casadi/core/oracle_function.cpp:326]\n",
      "CasADi - 2024-06-28 10:06:12 WARNING(\"roots:g failed: Inf detected for output x, at (row 0, col 0).\") [.../casadi/core/oracle_function.cpp:326]\n",
      "CasADi - 2024-06-28 10:06:12 WARNING(\"roots:g failed: Inf detected for output x, at (row 0, col 0).\") [.../casadi/core/oracle_function.cpp:326]\n"
     ]
    },
    {
     "name": "stdout",
     "output_type": "stream",
     "text": [
      "Solver failed for parameters: [7.74218750e-05 6.47265625e-05 1.35546875e-05 7.08203125e-01\n",
      " 6.11718750e-01 5.71093750e-06 4.11718750e-06 1.16601562e+03\n",
      " 2.86718750e+02 6.67968750e+00 1.59531250e+00 1.33593750e+00\n",
      " 1.58593750e+00 2.85429688e+04 5.47460938e+04] with error: Events ['Maximum voltage [V]'] are non-positive at initial conditions\n"
     ]
    },
    {
     "name": "stderr",
     "output_type": "stream",
     "text": [
      "CasADi - 2024-06-28 10:06:13 WARNING(\"roots:g failed: Inf detected for output x, at (row 0, col 0).\") [.../casadi/core/oracle_function.cpp:326]\n",
      "CasADi - 2024-06-28 10:06:13 WARNING(\"roots:g failed: Inf detected for output x, at (row 0, col 0).\") [.../casadi/core/oracle_function.cpp:326]\n",
      "CasADi - 2024-06-28 10:06:13 WARNING(\"roots:g failed: Inf detected for output x, at (row 0, col 0).\") [.../casadi/core/oracle_function.cpp:326]\n",
      "CasADi - 2024-06-28 10:06:13 WARNING(\"roots:g failed: Inf detected for output x, at (row 0, col 0).\") [.../casadi/core/oracle_function.cpp:326]\n",
      "CasADi - 2024-06-28 10:06:13 WARNING(\"roots:g failed: Inf detected for output x, at (row 0, col 0).\") [.../casadi/core/oracle_function.cpp:326]\n"
     ]
    },
    {
     "name": "stdout",
     "output_type": "stream",
     "text": [
      "Solver failed for parameters: [7.74218750e-05 6.47265625e-05 1.35546875e-05 7.08203125e-01\n",
      " 6.11718750e-01 5.71093750e-06 4.11718750e-06 1.16601562e+03\n",
      " 2.86718750e+02 6.67968750e+00 1.57343750e+00 1.59531250e+00\n",
      " 1.58593750e+00 2.85429688e+04 5.47460938e+04] with error: Events ['Maximum voltage [V]'] are non-positive at initial conditions\n"
     ]
    },
    {
     "name": "stderr",
     "output_type": "stream",
     "text": [
      "CasADi - 2024-06-28 10:06:13 WARNING(\"roots:g failed: Inf detected for output x, at (row 0, col 0).\") [.../casadi/core/oracle_function.cpp:326]\n",
      "CasADi - 2024-06-28 10:06:13 WARNING(\"roots:g failed: Inf detected for output x, at (row 0, col 0).\") [.../casadi/core/oracle_function.cpp:326]\n",
      "CasADi - 2024-06-28 10:06:13 WARNING(\"roots:g failed: Inf detected for output x, at (row 0, col 0).\") [.../casadi/core/oracle_function.cpp:326]\n",
      "CasADi - 2024-06-28 10:06:13 WARNING(\"roots:g failed: Inf detected for output x, at (row 0, col 0).\") [.../casadi/core/oracle_function.cpp:326]\n",
      "CasADi - 2024-06-28 10:06:13 WARNING(\"roots:g failed: Inf detected for output x, at (row 0, col 0).\") [.../casadi/core/oracle_function.cpp:326]\n"
     ]
    },
    {
     "name": "stdout",
     "output_type": "stream",
     "text": [
      "Solver failed for parameters: [7.74218750e-05 6.47265625e-05 1.35546875e-05 7.08203125e-01\n",
      " 6.11718750e-01 5.71093750e-06 4.11718750e-06 1.16601562e+03\n",
      " 2.86718750e+02 6.67968750e+00 1.57343750e+00 1.33593750e+00\n",
      " 1.62656250e+00 2.85429688e+04 5.47460938e+04] with error: Events ['Maximum voltage [V]'] are non-positive at initial conditions\n"
     ]
    },
    {
     "name": "stderr",
     "output_type": "stream",
     "text": [
      "CasADi - 2024-06-28 10:06:15 WARNING(\"roots:g failed: Inf detected for output x, at (row 0, col 0).\") [.../casadi/core/oracle_function.cpp:326]\n",
      "CasADi - 2024-06-28 10:06:15 WARNING(\"roots:g failed: Inf detected for output x, at (row 0, col 0).\") [.../casadi/core/oracle_function.cpp:326]\n",
      "CasADi - 2024-06-28 10:06:15 WARNING(\"roots:g failed: Inf detected for output x, at (row 0, col 0).\") [.../casadi/core/oracle_function.cpp:326]\n",
      "CasADi - 2024-06-28 10:06:15 WARNING(\"roots:g failed: Inf detected for output x, at (row 0, col 0).\") [.../casadi/core/oracle_function.cpp:326]\n",
      "CasADi - 2024-06-28 10:06:15 WARNING(\"roots:g failed: Inf detected for output x, at (row 0, col 0).\") [.../casadi/core/oracle_function.cpp:326]\n"
     ]
    },
    {
     "name": "stdout",
     "output_type": "stream",
     "text": [
      "Solver failed for parameters: [7.74218750e-05 6.47265625e-05 1.35546875e-05 7.08203125e-01\n",
      " 6.11718750e-01 5.71093750e-06 4.11718750e-06 1.16601562e+03\n",
      " 2.86718750e+02 6.67968750e+00 1.57343750e+00 1.33593750e+00\n",
      " 1.58593750e+00 2.85429688e+04 5.04101562e+04] with error: Events ['Maximum voltage [V]'] are non-positive at initial conditions\n"
     ]
    },
    {
     "name": "stderr",
     "output_type": "stream",
     "text": [
      "CasADi - 2024-06-28 10:06:16 WARNING(\"roots:g failed: Inf detected for output x, at (row 0, col 0).\") [.../casadi/core/oracle_function.cpp:326]\n",
      "CasADi - 2024-06-28 10:06:16 WARNING(\"roots:g failed: Inf detected for output x, at (row 0, col 0).\") [.../casadi/core/oracle_function.cpp:326]\n",
      "CasADi - 2024-06-28 10:06:16 WARNING(\"roots:g failed: Inf detected for output x, at (row 0, col 0).\") [.../casadi/core/oracle_function.cpp:326]\n",
      "CasADi - 2024-06-28 10:06:16 WARNING(\"roots:g failed: Inf detected for output x, at (row 0, col 0).\") [.../casadi/core/oracle_function.cpp:326]\n",
      "CasADi - 2024-06-28 10:06:16 WARNING(\"roots:g failed: Inf detected for output x, at (row 0, col 0).\") [.../casadi/core/oracle_function.cpp:326]\n"
     ]
    },
    {
     "name": "stdout",
     "output_type": "stream",
     "text": [
      "Solver failed for parameters: [7.74218750e-05 6.47265625e-05 1.35546875e-05 7.08203125e-01\n",
      " 6.11718750e-01 5.71093750e-06 4.11718750e-06 1.16601562e+03\n",
      " 2.86718750e+02 6.67968750e+00 1.57343750e+00 1.33593750e+00\n",
      " 1.58593750e+00 2.85429688e+04 5.47460938e+04] with error: Events ['Maximum voltage [V]'] are non-positive at initial conditions\n"
     ]
    },
    {
     "name": "stderr",
     "output_type": "stream",
     "text": [
      "CasADi - 2024-06-28 10:06:17 WARNING(\"roots:g failed: Inf detected for output x, at (row 0, col 0).\") [.../casadi/core/oracle_function.cpp:326]\n",
      "CasADi - 2024-06-28 10:06:17 WARNING(\"roots:g failed: Inf detected for output x, at (row 0, col 0).\") [.../casadi/core/oracle_function.cpp:326]\n",
      "CasADi - 2024-06-28 10:06:17 WARNING(\"roots:g failed: Inf detected for output x, at (row 0, col 0).\") [.../casadi/core/oracle_function.cpp:326]\n",
      "CasADi - 2024-06-28 10:06:17 WARNING(\"roots:g failed: Inf detected for output x, at (row 0, col 0).\") [.../casadi/core/oracle_function.cpp:326]\n",
      "CasADi - 2024-06-28 10:06:17 WARNING(\"roots:g failed: Inf detected for output x, at (row 0, col 0).\") [.../casadi/core/oracle_function.cpp:326]\n"
     ]
    },
    {
     "name": "stdout",
     "output_type": "stream",
     "text": [
      "Solver failed for parameters: [6.84218750e-05 7.16328125e-05 1.79296875e-05 7.69140625e-01\n",
      " 5.80468750e-01 4.35156250e-06 4.72656250e-06 1.12382812e+03\n",
      " 2.21093750e+02 3.16406250e+00 1.39531250e+00 1.39531250e+00\n",
      " 1.42656250e+00 2.71679688e+04 5.79101562e+04] with error: Events ['Maximum voltage [V]'] are non-positive at initial conditions\n"
     ]
    },
    {
     "name": "stderr",
     "output_type": "stream",
     "text": [
      "CasADi - 2024-06-28 10:06:17 WARNING(\"roots:g failed: Inf detected for output x, at (row 0, col 0).\") [.../casadi/core/oracle_function.cpp:326]\n",
      "CasADi - 2024-06-28 10:06:17 WARNING(\"roots:g failed: Inf detected for output x, at (row 0, col 0).\") [.../casadi/core/oracle_function.cpp:326]\n",
      "CasADi - 2024-06-28 10:06:17 WARNING(\"roots:g failed: Inf detected for output x, at (row 0, col 0).\") [.../casadi/core/oracle_function.cpp:326]\n",
      "CasADi - 2024-06-28 10:06:17 WARNING(\"roots:g failed: Inf detected for output x, at (row 0, col 0).\") [.../casadi/core/oracle_function.cpp:326]\n",
      "CasADi - 2024-06-28 10:06:17 WARNING(\"roots:g failed: Inf detected for output x, at (row 0, col 0).\") [.../casadi/core/oracle_function.cpp:326]\n"
     ]
    },
    {
     "name": "stdout",
     "output_type": "stream",
     "text": [
      "Solver failed for parameters: [5.94218750e-05 7.16328125e-05 1.79296875e-05 7.69140625e-01\n",
      " 5.80468750e-01 4.35156250e-06 4.72656250e-06 1.12382812e+03\n",
      " 2.21093750e+02 3.16406250e+00 1.39531250e+00 1.39531250e+00\n",
      " 1.42656250e+00 2.71679688e+04 5.79101562e+04] with error: Events ['Maximum voltage [V]'] are non-positive at initial conditions\n"
     ]
    },
    {
     "name": "stderr",
     "output_type": "stream",
     "text": [
      "CasADi - 2024-06-28 10:06:18 WARNING(\"roots:g failed: Inf detected for output x, at (row 0, col 0).\") [.../casadi/core/oracle_function.cpp:326]\n",
      "CasADi - 2024-06-28 10:06:18 WARNING(\"roots:g failed: Inf detected for output x, at (row 0, col 0).\") [.../casadi/core/oracle_function.cpp:326]\n",
      "CasADi - 2024-06-28 10:06:18 WARNING(\"roots:g failed: Inf detected for output x, at (row 0, col 0).\") [.../casadi/core/oracle_function.cpp:326]\n",
      "CasADi - 2024-06-28 10:06:18 WARNING(\"roots:g failed: Inf detected for output x, at (row 0, col 0).\") [.../casadi/core/oracle_function.cpp:326]\n",
      "CasADi - 2024-06-28 10:06:18 WARNING(\"roots:g failed: Inf detected for output x, at (row 0, col 0).\") [.../casadi/core/oracle_function.cpp:326]\n"
     ]
    },
    {
     "name": "stdout",
     "output_type": "stream",
     "text": [
      "Solver failed for parameters: [6.84218750e-05 5.17265625e-05 1.79296875e-05 7.69140625e-01\n",
      " 5.80468750e-01 4.35156250e-06 4.72656250e-06 1.12382812e+03\n",
      " 2.21093750e+02 3.16406250e+00 1.39531250e+00 1.39531250e+00\n",
      " 1.42656250e+00 2.71679688e+04 5.79101562e+04] with error: Events ['Maximum voltage [V]'] are non-positive at initial conditions\n"
     ]
    },
    {
     "name": "stderr",
     "output_type": "stream",
     "text": [
      "CasADi - 2024-06-28 10:06:18 WARNING(\"roots:g failed: Inf detected for output x, at (row 0, col 0).\") [.../casadi/core/oracle_function.cpp:326]\n",
      "CasADi - 2024-06-28 10:06:18 WARNING(\"roots:g failed: Inf detected for output x, at (row 0, col 0).\") [.../casadi/core/oracle_function.cpp:326]\n",
      "CasADi - 2024-06-28 10:06:18 WARNING(\"roots:g failed: Inf detected for output x, at (row 0, col 0).\") [.../casadi/core/oracle_function.cpp:326]\n",
      "CasADi - 2024-06-28 10:06:18 WARNING(\"roots:g failed: Inf detected for output x, at (row 0, col 0).\") [.../casadi/core/oracle_function.cpp:326]\n",
      "CasADi - 2024-06-28 10:06:18 WARNING(\"roots:g failed: Inf detected for output x, at (row 0, col 0).\") [.../casadi/core/oracle_function.cpp:326]\n"
     ]
    },
    {
     "name": "stdout",
     "output_type": "stream",
     "text": [
      "Solver failed for parameters: [6.84218750e-05 7.16328125e-05 1.85546875e-05 7.69140625e-01\n",
      " 5.80468750e-01 4.35156250e-06 4.72656250e-06 1.12382812e+03\n",
      " 2.21093750e+02 3.16406250e+00 1.39531250e+00 1.39531250e+00\n",
      " 1.42656250e+00 2.71679688e+04 5.79101562e+04] with error: Events ['Maximum voltage [V]'] are non-positive at initial conditions\n"
     ]
    },
    {
     "name": "stderr",
     "output_type": "stream",
     "text": [
      "CasADi - 2024-06-28 10:06:19 WARNING(\"roots:g failed: Inf detected for output x, at (row 0, col 0).\") [.../casadi/core/oracle_function.cpp:326]\n",
      "CasADi - 2024-06-28 10:06:19 WARNING(\"roots:g failed: Inf detected for output x, at (row 0, col 0).\") [.../casadi/core/oracle_function.cpp:326]\n",
      "CasADi - 2024-06-28 10:06:19 WARNING(\"roots:g failed: Inf detected for output x, at (row 0, col 0).\") [.../casadi/core/oracle_function.cpp:326]\n",
      "CasADi - 2024-06-28 10:06:19 WARNING(\"roots:g failed: Inf detected for output x, at (row 0, col 0).\") [.../casadi/core/oracle_function.cpp:326]\n",
      "CasADi - 2024-06-28 10:06:19 WARNING(\"roots:g failed: Inf detected for output x, at (row 0, col 0).\") [.../casadi/core/oracle_function.cpp:326]\n"
     ]
    },
    {
     "name": "stdout",
     "output_type": "stream",
     "text": [
      "Solver failed for parameters: [6.84218750e-05 7.16328125e-05 1.79296875e-05 7.58203125e-01\n",
      " 5.80468750e-01 4.35156250e-06 4.72656250e-06 1.12382812e+03\n",
      " 2.21093750e+02 3.16406250e+00 1.39531250e+00 1.39531250e+00\n",
      " 1.42656250e+00 2.71679688e+04 5.79101562e+04] with error: Events ['Maximum voltage [V]'] are non-positive at initial conditions\n"
     ]
    },
    {
     "name": "stderr",
     "output_type": "stream",
     "text": [
      "CasADi - 2024-06-28 10:06:19 WARNING(\"roots:g failed: Inf detected for output x, at (row 0, col 0).\") [.../casadi/core/oracle_function.cpp:326]\n",
      "CasADi - 2024-06-28 10:06:19 WARNING(\"roots:g failed: Inf detected for output x, at (row 0, col 0).\") [.../casadi/core/oracle_function.cpp:326]\n",
      "CasADi - 2024-06-28 10:06:19 WARNING(\"roots:g failed: Inf detected for output x, at (row 0, col 0).\") [.../casadi/core/oracle_function.cpp:326]\n",
      "CasADi - 2024-06-28 10:06:19 WARNING(\"roots:g failed: Inf detected for output x, at (row 0, col 0).\") [.../casadi/core/oracle_function.cpp:326]\n",
      "CasADi - 2024-06-28 10:06:19 WARNING(\"roots:g failed: Inf detected for output x, at (row 0, col 0).\") [.../casadi/core/oracle_function.cpp:326]\n"
     ]
    },
    {
     "name": "stdout",
     "output_type": "stream",
     "text": [
      "Solver failed for parameters: [6.84218750e-05 7.16328125e-05 1.79296875e-05 7.69140625e-01\n",
      " 5.11718750e-01 4.35156250e-06 4.72656250e-06 1.12382812e+03\n",
      " 2.21093750e+02 3.16406250e+00 1.39531250e+00 1.39531250e+00\n",
      " 1.42656250e+00 2.71679688e+04 5.79101562e+04] with error: Events ['Maximum voltage [V]'] are non-positive at initial conditions\n"
     ]
    },
    {
     "name": "stderr",
     "output_type": "stream",
     "text": [
      "CasADi - 2024-06-28 10:06:20 WARNING(\"roots:g failed: Inf detected for output x, at (row 0, col 0).\") [.../casadi/core/oracle_function.cpp:326]\n",
      "CasADi - 2024-06-28 10:06:20 WARNING(\"roots:g failed: Inf detected for output x, at (row 0, col 0).\") [.../casadi/core/oracle_function.cpp:326]\n",
      "CasADi - 2024-06-28 10:06:20 WARNING(\"roots:g failed: Inf detected for output x, at (row 0, col 0).\") [.../casadi/core/oracle_function.cpp:326]\n",
      "CasADi - 2024-06-28 10:06:20 WARNING(\"roots:g failed: Inf detected for output x, at (row 0, col 0).\") [.../casadi/core/oracle_function.cpp:326]\n",
      "CasADi - 2024-06-28 10:06:20 WARNING(\"roots:g failed: Inf detected for output x, at (row 0, col 0).\") [.../casadi/core/oracle_function.cpp:326]\n"
     ]
    },
    {
     "name": "stdout",
     "output_type": "stream",
     "text": [
      "Solver failed for parameters: [6.84218750e-05 7.16328125e-05 1.79296875e-05 7.69140625e-01\n",
      " 5.80468750e-01 4.71093750e-06 4.72656250e-06 1.12382812e+03\n",
      " 2.21093750e+02 3.16406250e+00 1.39531250e+00 1.39531250e+00\n",
      " 1.42656250e+00 2.71679688e+04 5.79101562e+04] with error: Events ['Maximum voltage [V]'] are non-positive at initial conditions\n"
     ]
    },
    {
     "name": "stderr",
     "output_type": "stream",
     "text": [
      "CasADi - 2024-06-28 10:06:20 WARNING(\"roots:g failed: Inf detected for output x, at (row 0, col 0).\") [.../casadi/core/oracle_function.cpp:326]\n",
      "CasADi - 2024-06-28 10:06:20 WARNING(\"roots:g failed: Inf detected for output x, at (row 0, col 0).\") [.../casadi/core/oracle_function.cpp:326]\n",
      "CasADi - 2024-06-28 10:06:20 WARNING(\"roots:g failed: Inf detected for output x, at (row 0, col 0).\") [.../casadi/core/oracle_function.cpp:326]\n",
      "CasADi - 2024-06-28 10:06:20 WARNING(\"roots:g failed: Inf detected for output x, at (row 0, col 0).\") [.../casadi/core/oracle_function.cpp:326]\n",
      "CasADi - 2024-06-28 10:06:20 WARNING(\"roots:g failed: Inf detected for output x, at (row 0, col 0).\") [.../casadi/core/oracle_function.cpp:326]\n"
     ]
    },
    {
     "name": "stdout",
     "output_type": "stream",
     "text": [
      "Solver failed for parameters: [6.84218750e-05 7.16328125e-05 1.79296875e-05 7.69140625e-01\n",
      " 5.80468750e-01 4.35156250e-06 5.11718750e-06 1.12382812e+03\n",
      " 2.21093750e+02 3.16406250e+00 1.39531250e+00 1.39531250e+00\n",
      " 1.42656250e+00 2.71679688e+04 5.79101562e+04] with error: Events ['Maximum voltage [V]'] are non-positive at initial conditions\n"
     ]
    },
    {
     "name": "stderr",
     "output_type": "stream",
     "text": [
      "CasADi - 2024-06-28 10:06:21 WARNING(\"roots:g failed: Inf detected for output x, at (row 0, col 0).\") [.../casadi/core/oracle_function.cpp:326]\n",
      "CasADi - 2024-06-28 10:06:21 WARNING(\"roots:g failed: Inf detected for output x, at (row 0, col 0).\") [.../casadi/core/oracle_function.cpp:326]\n",
      "CasADi - 2024-06-28 10:06:21 WARNING(\"roots:g failed: Inf detected for output x, at (row 0, col 0).\") [.../casadi/core/oracle_function.cpp:326]\n",
      "CasADi - 2024-06-28 10:06:21 WARNING(\"roots:g failed: Inf detected for output x, at (row 0, col 0).\") [.../casadi/core/oracle_function.cpp:326]\n",
      "CasADi - 2024-06-28 10:06:21 WARNING(\"roots:g failed: Inf detected for output x, at (row 0, col 0).\") [.../casadi/core/oracle_function.cpp:326]\n"
     ]
    },
    {
     "name": "stdout",
     "output_type": "stream",
     "text": [
      "Solver failed for parameters: [6.84218750e-05 7.16328125e-05 1.79296875e-05 7.69140625e-01\n",
      " 5.80468750e-01 4.35156250e-06 4.72656250e-06 1.01601562e+03\n",
      " 2.21093750e+02 3.16406250e+00 1.39531250e+00 1.39531250e+00\n",
      " 1.42656250e+00 2.71679688e+04 5.79101562e+04] with error: Events ['Maximum voltage [V]'] are non-positive at initial conditions\n"
     ]
    },
    {
     "name": "stderr",
     "output_type": "stream",
     "text": [
      "CasADi - 2024-06-28 10:06:21 WARNING(\"roots:g failed: Inf detected for output x, at (row 0, col 0).\") [.../casadi/core/oracle_function.cpp:326]\n",
      "CasADi - 2024-06-28 10:06:21 WARNING(\"roots:g failed: Inf detected for output x, at (row 0, col 0).\") [.../casadi/core/oracle_function.cpp:326]\n",
      "CasADi - 2024-06-28 10:06:21 WARNING(\"roots:g failed: Inf detected for output x, at (row 0, col 0).\") [.../casadi/core/oracle_function.cpp:326]\n",
      "CasADi - 2024-06-28 10:06:21 WARNING(\"roots:g failed: Inf detected for output x, at (row 0, col 0).\") [.../casadi/core/oracle_function.cpp:326]\n",
      "CasADi - 2024-06-28 10:06:21 WARNING(\"roots:g failed: Inf detected for output x, at (row 0, col 0).\") [.../casadi/core/oracle_function.cpp:326]\n"
     ]
    },
    {
     "name": "stdout",
     "output_type": "stream",
     "text": [
      "Solver failed for parameters: [6.84218750e-05 7.16328125e-05 1.79296875e-05 7.69140625e-01\n",
      " 5.80468750e-01 4.35156250e-06 4.72656250e-06 1.12382812e+03\n",
      " 1.86718750e+02 3.16406250e+00 1.39531250e+00 1.39531250e+00\n",
      " 1.42656250e+00 2.71679688e+04 5.79101562e+04] with error: Events ['Maximum voltage [V]'] are non-positive at initial conditions\n"
     ]
    },
    {
     "name": "stderr",
     "output_type": "stream",
     "text": [
      "CasADi - 2024-06-28 10:06:22 WARNING(\"roots:g failed: Inf detected for output x, at (row 0, col 0).\") [.../casadi/core/oracle_function.cpp:326]\n",
      "CasADi - 2024-06-28 10:06:22 WARNING(\"roots:g failed: Inf detected for output x, at (row 0, col 0).\") [.../casadi/core/oracle_function.cpp:326]\n",
      "CasADi - 2024-06-28 10:06:22 WARNING(\"roots:g failed: Inf detected for output x, at (row 0, col 0).\") [.../casadi/core/oracle_function.cpp:326]\n",
      "CasADi - 2024-06-28 10:06:22 WARNING(\"roots:g failed: Inf detected for output x, at (row 0, col 0).\") [.../casadi/core/oracle_function.cpp:326]\n",
      "CasADi - 2024-06-28 10:06:22 WARNING(\"roots:g failed: Inf detected for output x, at (row 0, col 0).\") [.../casadi/core/oracle_function.cpp:326]\n"
     ]
    },
    {
     "name": "stdout",
     "output_type": "stream",
     "text": [
      "Solver failed for parameters: [6.84218750e-05 7.16328125e-05 1.79296875e-05 7.69140625e-01\n",
      " 5.80468750e-01 4.35156250e-06 4.72656250e-06 1.12382812e+03\n",
      " 2.21093750e+02 1.67968750e+00 1.39531250e+00 1.39531250e+00\n",
      " 1.42656250e+00 2.71679688e+04 5.79101562e+04] with error: Events ['Maximum voltage [V]'] are non-positive at initial conditions\n"
     ]
    },
    {
     "name": "stderr",
     "output_type": "stream",
     "text": [
      "CasADi - 2024-06-28 10:06:22 WARNING(\"roots:g failed: Inf detected for output x, at (row 0, col 0).\") [.../casadi/core/oracle_function.cpp:326]\n",
      "CasADi - 2024-06-28 10:06:22 WARNING(\"roots:g failed: Inf detected for output x, at (row 0, col 0).\") [.../casadi/core/oracle_function.cpp:326]\n",
      "CasADi - 2024-06-28 10:06:22 WARNING(\"roots:g failed: Inf detected for output x, at (row 0, col 0).\") [.../casadi/core/oracle_function.cpp:326]\n",
      "CasADi - 2024-06-28 10:06:22 WARNING(\"roots:g failed: Inf detected for output x, at (row 0, col 0).\") [.../casadi/core/oracle_function.cpp:326]\n",
      "CasADi - 2024-06-28 10:06:22 WARNING(\"roots:g failed: Inf detected for output x, at (row 0, col 0).\") [.../casadi/core/oracle_function.cpp:326]\n"
     ]
    },
    {
     "name": "stdout",
     "output_type": "stream",
     "text": [
      "Solver failed for parameters: [6.84218750e-05 7.16328125e-05 1.79296875e-05 7.69140625e-01\n",
      " 5.80468750e-01 4.35156250e-06 4.72656250e-06 1.12382812e+03\n",
      " 2.21093750e+02 3.16406250e+00 1.37343750e+00 1.39531250e+00\n",
      " 1.42656250e+00 2.71679688e+04 5.79101562e+04] with error: Events ['Maximum voltage [V]'] are non-positive at initial conditions\n"
     ]
    },
    {
     "name": "stderr",
     "output_type": "stream",
     "text": [
      "CasADi - 2024-06-28 10:06:23 WARNING(\"roots:g failed: Inf detected for output x, at (row 0, col 0).\") [.../casadi/core/oracle_function.cpp:326]\n",
      "CasADi - 2024-06-28 10:06:23 WARNING(\"roots:g failed: Inf detected for output x, at (row 0, col 0).\") [.../casadi/core/oracle_function.cpp:326]\n",
      "CasADi - 2024-06-28 10:06:23 WARNING(\"roots:g failed: Inf detected for output x, at (row 0, col 0).\") [.../casadi/core/oracle_function.cpp:326]\n",
      "CasADi - 2024-06-28 10:06:23 WARNING(\"roots:g failed: Inf detected for output x, at (row 0, col 0).\") [.../casadi/core/oracle_function.cpp:326]\n",
      "CasADi - 2024-06-28 10:06:23 WARNING(\"roots:g failed: Inf detected for output x, at (row 0, col 0).\") [.../casadi/core/oracle_function.cpp:326]\n"
     ]
    },
    {
     "name": "stdout",
     "output_type": "stream",
     "text": [
      "Solver failed for parameters: [6.84218750e-05 7.16328125e-05 1.79296875e-05 7.69140625e-01\n",
      " 5.80468750e-01 4.35156250e-06 4.72656250e-06 1.12382812e+03\n",
      " 2.21093750e+02 3.16406250e+00 1.39531250e+00 1.53593750e+00\n",
      " 1.42656250e+00 2.71679688e+04 5.79101562e+04] with error: Events ['Maximum voltage [V]'] are non-positive at initial conditions\n"
     ]
    },
    {
     "name": "stderr",
     "output_type": "stream",
     "text": [
      "CasADi - 2024-06-28 10:06:23 WARNING(\"roots:g failed: Inf detected for output x, at (row 0, col 0).\") [.../casadi/core/oracle_function.cpp:326]\n",
      "CasADi - 2024-06-28 10:06:23 WARNING(\"roots:g failed: Inf detected for output x, at (row 0, col 0).\") [.../casadi/core/oracle_function.cpp:326]\n",
      "CasADi - 2024-06-28 10:06:23 WARNING(\"roots:g failed: Inf detected for output x, at (row 0, col 0).\") [.../casadi/core/oracle_function.cpp:326]\n",
      "CasADi - 2024-06-28 10:06:23 WARNING(\"roots:g failed: Inf detected for output x, at (row 0, col 0).\") [.../casadi/core/oracle_function.cpp:326]\n",
      "CasADi - 2024-06-28 10:06:23 WARNING(\"roots:g failed: Inf detected for output x, at (row 0, col 0).\") [.../casadi/core/oracle_function.cpp:326]\n"
     ]
    },
    {
     "name": "stdout",
     "output_type": "stream",
     "text": [
      "Solver failed for parameters: [6.84218750e-05 7.16328125e-05 1.79296875e-05 7.69140625e-01\n",
      " 5.80468750e-01 4.35156250e-06 4.72656250e-06 1.12382812e+03\n",
      " 2.21093750e+02 3.16406250e+00 1.39531250e+00 1.39531250e+00\n",
      " 1.38593750e+00 2.71679688e+04 5.79101562e+04] with error: Events ['Maximum voltage [V]'] are non-positive at initial conditions\n"
     ]
    },
    {
     "name": "stderr",
     "output_type": "stream",
     "text": [
      "CasADi - 2024-06-28 10:06:23 WARNING(\"roots:g failed: Inf detected for output x, at (row 0, col 0).\") [.../casadi/core/oracle_function.cpp:326]\n",
      "CasADi - 2024-06-28 10:06:23 WARNING(\"roots:g failed: Inf detected for output x, at (row 0, col 0).\") [.../casadi/core/oracle_function.cpp:326]\n",
      "CasADi - 2024-06-28 10:06:23 WARNING(\"roots:g failed: Inf detected for output x, at (row 0, col 0).\") [.../casadi/core/oracle_function.cpp:326]\n",
      "CasADi - 2024-06-28 10:06:23 WARNING(\"roots:g failed: Inf detected for output x, at (row 0, col 0).\") [.../casadi/core/oracle_function.cpp:326]\n",
      "CasADi - 2024-06-28 10:06:23 WARNING(\"roots:g failed: Inf detected for output x, at (row 0, col 0).\") [.../casadi/core/oracle_function.cpp:326]\n"
     ]
    },
    {
     "name": "stdout",
     "output_type": "stream",
     "text": [
      "Solver failed for parameters: [6.84218750e-05 7.16328125e-05 1.79296875e-05 7.69140625e-01\n",
      " 5.80468750e-01 4.35156250e-06 4.72656250e-06 1.12382812e+03\n",
      " 2.21093750e+02 3.16406250e+00 1.39531250e+00 1.39531250e+00\n",
      " 1.42656250e+00 2.30429688e+04 5.79101562e+04] with error: Events ['Maximum voltage [V]'] are non-positive at initial conditions\n"
     ]
    },
    {
     "name": "stderr",
     "output_type": "stream",
     "text": [
      "CasADi - 2024-06-28 10:06:24 WARNING(\"roots:g failed: Inf detected for output x, at (row 0, col 0).\") [.../casadi/core/oracle_function.cpp:326]\n",
      "CasADi - 2024-06-28 10:06:24 WARNING(\"roots:g failed: Inf detected for output x, at (row 0, col 0).\") [.../casadi/core/oracle_function.cpp:326]\n",
      "CasADi - 2024-06-28 10:06:24 WARNING(\"roots:g failed: Inf detected for output x, at (row 0, col 0).\") [.../casadi/core/oracle_function.cpp:326]\n",
      "CasADi - 2024-06-28 10:06:24 WARNING(\"roots:g failed: Inf detected for output x, at (row 0, col 0).\") [.../casadi/core/oracle_function.cpp:326]\n",
      "CasADi - 2024-06-28 10:06:24 WARNING(\"roots:g failed: Inf detected for output x, at (row 0, col 0).\") [.../casadi/core/oracle_function.cpp:326]\n"
     ]
    },
    {
     "name": "stdout",
     "output_type": "stream",
     "text": [
      "Solver failed for parameters: [6.84218750e-05 7.16328125e-05 1.79296875e-05 7.69140625e-01\n",
      " 5.80468750e-01 4.35156250e-06 4.72656250e-06 1.12382812e+03\n",
      " 2.21093750e+02 3.16406250e+00 1.39531250e+00 1.39531250e+00\n",
      " 1.42656250e+00 2.71679688e+04 6.22460938e+04] with error: Events ['Maximum voltage [V]'] are non-positive at initial conditions\n"
     ]
    },
    {
     "name": "stderr",
     "output_type": "stream",
     "text": [
      "CasADi - 2024-06-28 10:06:24 WARNING(\"roots:g failed: Inf detected for output x, at (row 0, col 0).\") [.../casadi/core/oracle_function.cpp:326]\n",
      "CasADi - 2024-06-28 10:06:24 WARNING(\"roots:g failed: Inf detected for output x, at (row 0, col 0).\") [.../casadi/core/oracle_function.cpp:326]\n",
      "CasADi - 2024-06-28 10:06:24 WARNING(\"roots:g failed: Inf detected for output x, at (row 0, col 0).\") [.../casadi/core/oracle_function.cpp:326]\n",
      "CasADi - 2024-06-28 10:06:24 WARNING(\"roots:g failed: Inf detected for output x, at (row 0, col 0).\") [.../casadi/core/oracle_function.cpp:326]\n",
      "CasADi - 2024-06-28 10:06:24 WARNING(\"roots:g failed: Inf detected for output x, at (row 0, col 0).\") [.../casadi/core/oracle_function.cpp:326]\n"
     ]
    },
    {
     "name": "stdout",
     "output_type": "stream",
     "text": [
      "Solver failed for parameters: [6.84218750e-05 5.17265625e-05 1.85546875e-05 7.58203125e-01\n",
      " 5.11718750e-01 4.71093750e-06 5.11718750e-06 1.01601562e+03\n",
      " 1.86718750e+02 1.67968750e+00 1.37343750e+00 1.53593750e+00\n",
      " 1.38593750e+00 2.30429688e+04 6.22460938e+04] with error: Events ['Maximum voltage [V]'] are non-positive at initial conditions\n"
     ]
    },
    {
     "name": "stderr",
     "output_type": "stream",
     "text": [
      "CasADi - 2024-06-28 10:06:25 WARNING(\"roots:g failed: Inf detected for output x, at (row 0, col 0).\") [.../casadi/core/oracle_function.cpp:326]\n",
      "CasADi - 2024-06-28 10:06:25 WARNING(\"roots:g failed: Inf detected for output x, at (row 0, col 0).\") [.../casadi/core/oracle_function.cpp:326]\n",
      "CasADi - 2024-06-28 10:06:25 WARNING(\"roots:g failed: Inf detected for output x, at (row 0, col 0).\") [.../casadi/core/oracle_function.cpp:326]\n",
      "CasADi - 2024-06-28 10:06:25 WARNING(\"roots:g failed: Inf detected for output x, at (row 0, col 0).\") [.../casadi/core/oracle_function.cpp:326]\n",
      "CasADi - 2024-06-28 10:06:25 WARNING(\"roots:g failed: Inf detected for output x, at (row 0, col 0).\") [.../casadi/core/oracle_function.cpp:326]\n"
     ]
    },
    {
     "name": "stdout",
     "output_type": "stream",
     "text": [
      "Solver failed for parameters: [5.94218750e-05 7.16328125e-05 1.85546875e-05 7.58203125e-01\n",
      " 5.11718750e-01 4.71093750e-06 5.11718750e-06 1.01601562e+03\n",
      " 1.86718750e+02 1.67968750e+00 1.37343750e+00 1.53593750e+00\n",
      " 1.38593750e+00 2.30429688e+04 6.22460938e+04] with error: Events ['Maximum voltage [V]'] are non-positive at initial conditions\n"
     ]
    },
    {
     "name": "stderr",
     "output_type": "stream",
     "text": [
      "CasADi - 2024-06-28 10:06:25 WARNING(\"roots:g failed: Inf detected for output x, at (row 0, col 0).\") [.../casadi/core/oracle_function.cpp:326]\n",
      "CasADi - 2024-06-28 10:06:25 WARNING(\"roots:g failed: Inf detected for output x, at (row 0, col 0).\") [.../casadi/core/oracle_function.cpp:326]\n",
      "CasADi - 2024-06-28 10:06:25 WARNING(\"roots:g failed: Inf detected for output x, at (row 0, col 0).\") [.../casadi/core/oracle_function.cpp:326]\n",
      "CasADi - 2024-06-28 10:06:25 WARNING(\"roots:g failed: Inf detected for output x, at (row 0, col 0).\") [.../casadi/core/oracle_function.cpp:326]\n",
      "CasADi - 2024-06-28 10:06:25 WARNING(\"roots:g failed: Inf detected for output x, at (row 0, col 0).\") [.../casadi/core/oracle_function.cpp:326]\n"
     ]
    },
    {
     "name": "stdout",
     "output_type": "stream",
     "text": [
      "Solver failed for parameters: [5.94218750e-05 5.17265625e-05 1.79296875e-05 7.58203125e-01\n",
      " 5.11718750e-01 4.71093750e-06 5.11718750e-06 1.01601562e+03\n",
      " 1.86718750e+02 1.67968750e+00 1.37343750e+00 1.53593750e+00\n",
      " 1.38593750e+00 2.30429688e+04 6.22460938e+04] with error: Events ['Maximum voltage [V]'] are non-positive at initial conditions\n"
     ]
    },
    {
     "name": "stderr",
     "output_type": "stream",
     "text": [
      "CasADi - 2024-06-28 10:06:26 WARNING(\"roots:g failed: Inf detected for output x, at (row 0, col 0).\") [.../casadi/core/oracle_function.cpp:326]\n",
      "CasADi - 2024-06-28 10:06:26 WARNING(\"roots:g failed: Inf detected for output x, at (row 0, col 0).\") [.../casadi/core/oracle_function.cpp:326]\n",
      "CasADi - 2024-06-28 10:06:26 WARNING(\"roots:g failed: Inf detected for output x, at (row 0, col 0).\") [.../casadi/core/oracle_function.cpp:326]\n",
      "CasADi - 2024-06-28 10:06:26 WARNING(\"roots:g failed: Inf detected for output x, at (row 0, col 0).\") [.../casadi/core/oracle_function.cpp:326]\n",
      "CasADi - 2024-06-28 10:06:26 WARNING(\"roots:g failed: Inf detected for output x, at (row 0, col 0).\") [.../casadi/core/oracle_function.cpp:326]\n"
     ]
    },
    {
     "name": "stdout",
     "output_type": "stream",
     "text": [
      "Solver failed for parameters: [5.94218750e-05 5.17265625e-05 1.85546875e-05 7.69140625e-01\n",
      " 5.11718750e-01 4.71093750e-06 5.11718750e-06 1.01601562e+03\n",
      " 1.86718750e+02 1.67968750e+00 1.37343750e+00 1.53593750e+00\n",
      " 1.38593750e+00 2.30429688e+04 6.22460938e+04] with error: Events ['Maximum voltage [V]'] are non-positive at initial conditions\n"
     ]
    },
    {
     "name": "stderr",
     "output_type": "stream",
     "text": [
      "CasADi - 2024-06-28 10:06:26 WARNING(\"roots:g failed: Inf detected for output x, at (row 0, col 0).\") [.../casadi/core/oracle_function.cpp:326]\n",
      "CasADi - 2024-06-28 10:06:26 WARNING(\"roots:g failed: Inf detected for output x, at (row 0, col 0).\") [.../casadi/core/oracle_function.cpp:326]\n",
      "CasADi - 2024-06-28 10:06:26 WARNING(\"roots:g failed: Inf detected for output x, at (row 0, col 0).\") [.../casadi/core/oracle_function.cpp:326]\n",
      "CasADi - 2024-06-28 10:06:26 WARNING(\"roots:g failed: Inf detected for output x, at (row 0, col 0).\") [.../casadi/core/oracle_function.cpp:326]\n",
      "CasADi - 2024-06-28 10:06:26 WARNING(\"roots:g failed: Inf detected for output x, at (row 0, col 0).\") [.../casadi/core/oracle_function.cpp:326]\n"
     ]
    },
    {
     "name": "stdout",
     "output_type": "stream",
     "text": [
      "Solver failed for parameters: [5.94218750e-05 5.17265625e-05 1.85546875e-05 7.58203125e-01\n",
      " 5.80468750e-01 4.71093750e-06 5.11718750e-06 1.01601562e+03\n",
      " 1.86718750e+02 1.67968750e+00 1.37343750e+00 1.53593750e+00\n",
      " 1.38593750e+00 2.30429688e+04 6.22460938e+04] with error: Events ['Maximum voltage [V]'] are non-positive at initial conditions\n"
     ]
    },
    {
     "name": "stderr",
     "output_type": "stream",
     "text": [
      "CasADi - 2024-06-28 10:06:27 WARNING(\"roots:g failed: Inf detected for output x, at (row 0, col 0).\") [.../casadi/core/oracle_function.cpp:326]\n",
      "CasADi - 2024-06-28 10:06:27 WARNING(\"roots:g failed: Inf detected for output x, at (row 0, col 0).\") [.../casadi/core/oracle_function.cpp:326]\n",
      "CasADi - 2024-06-28 10:06:27 WARNING(\"roots:g failed: Inf detected for output x, at (row 0, col 0).\") [.../casadi/core/oracle_function.cpp:326]\n",
      "CasADi - 2024-06-28 10:06:27 WARNING(\"roots:g failed: Inf detected for output x, at (row 0, col 0).\") [.../casadi/core/oracle_function.cpp:326]\n",
      "CasADi - 2024-06-28 10:06:27 WARNING(\"roots:g failed: Inf detected for output x, at (row 0, col 0).\") [.../casadi/core/oracle_function.cpp:326]\n"
     ]
    },
    {
     "name": "stdout",
     "output_type": "stream",
     "text": [
      "Solver failed for parameters: [5.94218750e-05 5.17265625e-05 1.85546875e-05 7.58203125e-01\n",
      " 5.11718750e-01 4.35156250e-06 5.11718750e-06 1.01601562e+03\n",
      " 1.86718750e+02 1.67968750e+00 1.37343750e+00 1.53593750e+00\n",
      " 1.38593750e+00 2.30429688e+04 6.22460938e+04] with error: Events ['Maximum voltage [V]'] are non-positive at initial conditions\n"
     ]
    },
    {
     "name": "stderr",
     "output_type": "stream",
     "text": [
      "CasADi - 2024-06-28 10:06:27 WARNING(\"roots:g failed: Inf detected for output x, at (row 0, col 0).\") [.../casadi/core/oracle_function.cpp:326]\n",
      "CasADi - 2024-06-28 10:06:27 WARNING(\"roots:g failed: Inf detected for output x, at (row 0, col 0).\") [.../casadi/core/oracle_function.cpp:326]\n",
      "CasADi - 2024-06-28 10:06:27 WARNING(\"roots:g failed: Inf detected for output x, at (row 0, col 0).\") [.../casadi/core/oracle_function.cpp:326]\n",
      "CasADi - 2024-06-28 10:06:27 WARNING(\"roots:g failed: Inf detected for output x, at (row 0, col 0).\") [.../casadi/core/oracle_function.cpp:326]\n",
      "CasADi - 2024-06-28 10:06:27 WARNING(\"roots:g failed: Inf detected for output x, at (row 0, col 0).\") [.../casadi/core/oracle_function.cpp:326]\n"
     ]
    },
    {
     "name": "stdout",
     "output_type": "stream",
     "text": [
      "Solver failed for parameters: [5.94218750e-05 5.17265625e-05 1.85546875e-05 7.58203125e-01\n",
      " 5.11718750e-01 4.71093750e-06 4.72656250e-06 1.01601562e+03\n",
      " 1.86718750e+02 1.67968750e+00 1.37343750e+00 1.53593750e+00\n",
      " 1.38593750e+00 2.30429688e+04 6.22460938e+04] with error: Events ['Maximum voltage [V]'] are non-positive at initial conditions\n"
     ]
    },
    {
     "name": "stderr",
     "output_type": "stream",
     "text": [
      "CasADi - 2024-06-28 10:06:28 WARNING(\"roots:g failed: Inf detected for output x, at (row 0, col 0).\") [.../casadi/core/oracle_function.cpp:326]\n",
      "CasADi - 2024-06-28 10:06:28 WARNING(\"roots:g failed: Inf detected for output x, at (row 0, col 0).\") [.../casadi/core/oracle_function.cpp:326]\n",
      "CasADi - 2024-06-28 10:06:28 WARNING(\"roots:g failed: Inf detected for output x, at (row 0, col 0).\") [.../casadi/core/oracle_function.cpp:326]\n",
      "CasADi - 2024-06-28 10:06:28 WARNING(\"roots:g failed: Inf detected for output x, at (row 0, col 0).\") [.../casadi/core/oracle_function.cpp:326]\n",
      "CasADi - 2024-06-28 10:06:28 WARNING(\"roots:g failed: Inf detected for output x, at (row 0, col 0).\") [.../casadi/core/oracle_function.cpp:326]\n"
     ]
    },
    {
     "name": "stdout",
     "output_type": "stream",
     "text": [
      "Solver failed for parameters: [5.94218750e-05 5.17265625e-05 1.85546875e-05 7.58203125e-01\n",
      " 5.11718750e-01 4.71093750e-06 5.11718750e-06 1.12382812e+03\n",
      " 1.86718750e+02 1.67968750e+00 1.37343750e+00 1.53593750e+00\n",
      " 1.38593750e+00 2.30429688e+04 6.22460938e+04] with error: Events ['Maximum voltage [V]'] are non-positive at initial conditions\n"
     ]
    },
    {
     "name": "stderr",
     "output_type": "stream",
     "text": [
      "CasADi - 2024-06-28 10:06:28 WARNING(\"roots:g failed: Inf detected for output x, at (row 0, col 0).\") [.../casadi/core/oracle_function.cpp:326]\n",
      "CasADi - 2024-06-28 10:06:28 WARNING(\"roots:g failed: Inf detected for output x, at (row 0, col 0).\") [.../casadi/core/oracle_function.cpp:326]\n",
      "CasADi - 2024-06-28 10:06:28 WARNING(\"roots:g failed: Inf detected for output x, at (row 0, col 0).\") [.../casadi/core/oracle_function.cpp:326]\n",
      "CasADi - 2024-06-28 10:06:28 WARNING(\"roots:g failed: Inf detected for output x, at (row 0, col 0).\") [.../casadi/core/oracle_function.cpp:326]\n",
      "CasADi - 2024-06-28 10:06:28 WARNING(\"roots:g failed: Inf detected for output x, at (row 0, col 0).\") [.../casadi/core/oracle_function.cpp:326]\n"
     ]
    },
    {
     "name": "stdout",
     "output_type": "stream",
     "text": [
      "Solver failed for parameters: [5.94218750e-05 5.17265625e-05 1.85546875e-05 7.58203125e-01\n",
      " 5.11718750e-01 4.71093750e-06 5.11718750e-06 1.01601562e+03\n",
      " 2.21093750e+02 1.67968750e+00 1.37343750e+00 1.53593750e+00\n",
      " 1.38593750e+00 2.30429688e+04 6.22460938e+04] with error: Events ['Maximum voltage [V]'] are non-positive at initial conditions\n"
     ]
    },
    {
     "name": "stderr",
     "output_type": "stream",
     "text": [
      "CasADi - 2024-06-28 10:06:29 WARNING(\"roots:g failed: Inf detected for output x, at (row 0, col 0).\") [.../casadi/core/oracle_function.cpp:326]\n",
      "CasADi - 2024-06-28 10:06:29 WARNING(\"roots:g failed: Inf detected for output x, at (row 0, col 0).\") [.../casadi/core/oracle_function.cpp:326]\n",
      "CasADi - 2024-06-28 10:06:29 WARNING(\"roots:g failed: Inf detected for output x, at (row 0, col 0).\") [.../casadi/core/oracle_function.cpp:326]\n",
      "CasADi - 2024-06-28 10:06:29 WARNING(\"roots:g failed: Inf detected for output x, at (row 0, col 0).\") [.../casadi/core/oracle_function.cpp:326]\n",
      "CasADi - 2024-06-28 10:06:29 WARNING(\"roots:g failed: Inf detected for output x, at (row 0, col 0).\") [.../casadi/core/oracle_function.cpp:326]\n"
     ]
    },
    {
     "name": "stdout",
     "output_type": "stream",
     "text": [
      "Solver failed for parameters: [5.94218750e-05 5.17265625e-05 1.85546875e-05 7.58203125e-01\n",
      " 5.11718750e-01 4.71093750e-06 5.11718750e-06 1.01601562e+03\n",
      " 1.86718750e+02 3.16406250e+00 1.37343750e+00 1.53593750e+00\n",
      " 1.38593750e+00 2.30429688e+04 6.22460938e+04] with error: Events ['Maximum voltage [V]'] are non-positive at initial conditions\n"
     ]
    },
    {
     "name": "stderr",
     "output_type": "stream",
     "text": [
      "CasADi - 2024-06-28 10:06:29 WARNING(\"roots:g failed: Inf detected for output x, at (row 0, col 0).\") [.../casadi/core/oracle_function.cpp:326]\n",
      "CasADi - 2024-06-28 10:06:29 WARNING(\"roots:g failed: Inf detected for output x, at (row 0, col 0).\") [.../casadi/core/oracle_function.cpp:326]\n",
      "CasADi - 2024-06-28 10:06:29 WARNING(\"roots:g failed: Inf detected for output x, at (row 0, col 0).\") [.../casadi/core/oracle_function.cpp:326]\n",
      "CasADi - 2024-06-28 10:06:29 WARNING(\"roots:g failed: Inf detected for output x, at (row 0, col 0).\") [.../casadi/core/oracle_function.cpp:326]\n",
      "CasADi - 2024-06-28 10:06:29 WARNING(\"roots:g failed: Inf detected for output x, at (row 0, col 0).\") [.../casadi/core/oracle_function.cpp:326]\n"
     ]
    },
    {
     "name": "stdout",
     "output_type": "stream",
     "text": [
      "Solver failed for parameters: [5.94218750e-05 5.17265625e-05 1.85546875e-05 7.58203125e-01\n",
      " 5.11718750e-01 4.71093750e-06 5.11718750e-06 1.01601562e+03\n",
      " 1.86718750e+02 1.67968750e+00 1.39531250e+00 1.53593750e+00\n",
      " 1.38593750e+00 2.30429688e+04 6.22460938e+04] with error: Events ['Maximum voltage [V]'] are non-positive at initial conditions\n"
     ]
    },
    {
     "name": "stderr",
     "output_type": "stream",
     "text": [
      "CasADi - 2024-06-28 10:06:30 WARNING(\"roots:g failed: Inf detected for output x, at (row 0, col 0).\") [.../casadi/core/oracle_function.cpp:326]\n",
      "CasADi - 2024-06-28 10:06:30 WARNING(\"roots:g failed: Inf detected for output x, at (row 0, col 0).\") [.../casadi/core/oracle_function.cpp:326]\n",
      "CasADi - 2024-06-28 10:06:30 WARNING(\"roots:g failed: Inf detected for output x, at (row 0, col 0).\") [.../casadi/core/oracle_function.cpp:326]\n",
      "CasADi - 2024-06-28 10:06:30 WARNING(\"roots:g failed: Inf detected for output x, at (row 0, col 0).\") [.../casadi/core/oracle_function.cpp:326]\n",
      "CasADi - 2024-06-28 10:06:30 WARNING(\"roots:g failed: Inf detected for output x, at (row 0, col 0).\") [.../casadi/core/oracle_function.cpp:326]\n"
     ]
    },
    {
     "name": "stdout",
     "output_type": "stream",
     "text": [
      "Solver failed for parameters: [5.94218750e-05 5.17265625e-05 1.85546875e-05 7.58203125e-01\n",
      " 5.11718750e-01 4.71093750e-06 5.11718750e-06 1.01601562e+03\n",
      " 1.86718750e+02 1.67968750e+00 1.37343750e+00 1.39531250e+00\n",
      " 1.38593750e+00 2.30429688e+04 6.22460938e+04] with error: Events ['Maximum voltage [V]'] are non-positive at initial conditions\n"
     ]
    },
    {
     "name": "stderr",
     "output_type": "stream",
     "text": [
      "CasADi - 2024-06-28 10:06:30 WARNING(\"roots:g failed: Inf detected for output x, at (row 0, col 0).\") [.../casadi/core/oracle_function.cpp:326]\n",
      "CasADi - 2024-06-28 10:06:30 WARNING(\"roots:g failed: Inf detected for output x, at (row 0, col 0).\") [.../casadi/core/oracle_function.cpp:326]\n",
      "CasADi - 2024-06-28 10:06:30 WARNING(\"roots:g failed: Inf detected for output x, at (row 0, col 0).\") [.../casadi/core/oracle_function.cpp:326]\n",
      "CasADi - 2024-06-28 10:06:30 WARNING(\"roots:g failed: Inf detected for output x, at (row 0, col 0).\") [.../casadi/core/oracle_function.cpp:326]\n",
      "CasADi - 2024-06-28 10:06:30 WARNING(\"roots:g failed: Inf detected for output x, at (row 0, col 0).\") [.../casadi/core/oracle_function.cpp:326]\n"
     ]
    },
    {
     "name": "stdout",
     "output_type": "stream",
     "text": [
      "Solver failed for parameters: [5.94218750e-05 5.17265625e-05 1.85546875e-05 7.58203125e-01\n",
      " 5.11718750e-01 4.71093750e-06 5.11718750e-06 1.01601562e+03\n",
      " 1.86718750e+02 1.67968750e+00 1.37343750e+00 1.53593750e+00\n",
      " 1.42656250e+00 2.30429688e+04 6.22460938e+04] with error: Events ['Maximum voltage [V]'] are non-positive at initial conditions\n"
     ]
    },
    {
     "name": "stderr",
     "output_type": "stream",
     "text": [
      "CasADi - 2024-06-28 10:06:31 WARNING(\"roots:g failed: Inf detected for output x, at (row 0, col 0).\") [.../casadi/core/oracle_function.cpp:326]\n",
      "CasADi - 2024-06-28 10:06:31 WARNING(\"roots:g failed: Inf detected for output x, at (row 0, col 0).\") [.../casadi/core/oracle_function.cpp:326]\n",
      "CasADi - 2024-06-28 10:06:31 WARNING(\"roots:g failed: Inf detected for output x, at (row 0, col 0).\") [.../casadi/core/oracle_function.cpp:326]\n",
      "CasADi - 2024-06-28 10:06:31 WARNING(\"roots:g failed: Inf detected for output x, at (row 0, col 0).\") [.../casadi/core/oracle_function.cpp:326]\n",
      "CasADi - 2024-06-28 10:06:31 WARNING(\"roots:g failed: Inf detected for output x, at (row 0, col 0).\") [.../casadi/core/oracle_function.cpp:326]\n"
     ]
    },
    {
     "name": "stdout",
     "output_type": "stream",
     "text": [
      "Solver failed for parameters: [5.94218750e-05 5.17265625e-05 1.85546875e-05 7.58203125e-01\n",
      " 5.11718750e-01 4.71093750e-06 5.11718750e-06 1.01601562e+03\n",
      " 1.86718750e+02 1.67968750e+00 1.37343750e+00 1.53593750e+00\n",
      " 1.38593750e+00 2.71679688e+04 6.22460938e+04] with error: Events ['Maximum voltage [V]'] are non-positive at initial conditions\n"
     ]
    },
    {
     "name": "stderr",
     "output_type": "stream",
     "text": [
      "CasADi - 2024-06-28 10:06:31 WARNING(\"roots:g failed: Inf detected for output x, at (row 0, col 0).\") [.../casadi/core/oracle_function.cpp:326]\n",
      "CasADi - 2024-06-28 10:06:31 WARNING(\"roots:g failed: Inf detected for output x, at (row 0, col 0).\") [.../casadi/core/oracle_function.cpp:326]\n",
      "CasADi - 2024-06-28 10:06:31 WARNING(\"roots:g failed: Inf detected for output x, at (row 0, col 0).\") [.../casadi/core/oracle_function.cpp:326]\n",
      "CasADi - 2024-06-28 10:06:31 WARNING(\"roots:g failed: Inf detected for output x, at (row 0, col 0).\") [.../casadi/core/oracle_function.cpp:326]\n",
      "CasADi - 2024-06-28 10:06:31 WARNING(\"roots:g failed: Inf detected for output x, at (row 0, col 0).\") [.../casadi/core/oracle_function.cpp:326]\n"
     ]
    },
    {
     "name": "stdout",
     "output_type": "stream",
     "text": [
      "Solver failed for parameters: [5.94218750e-05 5.17265625e-05 1.85546875e-05 7.58203125e-01\n",
      " 5.11718750e-01 4.71093750e-06 5.11718750e-06 1.01601562e+03\n",
      " 1.86718750e+02 1.67968750e+00 1.37343750e+00 1.53593750e+00\n",
      " 1.38593750e+00 2.30429688e+04 5.79101562e+04] with error: Events ['Maximum voltage [V]'] are non-positive at initial conditions\n"
     ]
    },
    {
     "name": "stderr",
     "output_type": "stream",
     "text": [
      "CasADi - 2024-06-28 10:06:31 WARNING(\"roots:g failed: Inf detected for output x, at (row 0, col 0).\") [.../casadi/core/oracle_function.cpp:326]\n",
      "CasADi - 2024-06-28 10:06:31 WARNING(\"roots:g failed: Inf detected for output x, at (row 0, col 0).\") [.../casadi/core/oracle_function.cpp:326]\n",
      "CasADi - 2024-06-28 10:06:31 WARNING(\"roots:g failed: Inf detected for output x, at (row 0, col 0).\") [.../casadi/core/oracle_function.cpp:326]\n",
      "CasADi - 2024-06-28 10:06:31 WARNING(\"roots:g failed: Inf detected for output x, at (row 0, col 0).\") [.../casadi/core/oracle_function.cpp:326]\n",
      "CasADi - 2024-06-28 10:06:31 WARNING(\"roots:g failed: Inf detected for output x, at (row 0, col 0).\") [.../casadi/core/oracle_function.cpp:326]\n"
     ]
    },
    {
     "name": "stdout",
     "output_type": "stream",
     "text": [
      "Solver failed for parameters: [5.94218750e-05 5.17265625e-05 1.85546875e-05 7.58203125e-01\n",
      " 5.11718750e-01 4.71093750e-06 5.11718750e-06 1.01601562e+03\n",
      " 1.86718750e+02 1.67968750e+00 1.37343750e+00 1.53593750e+00\n",
      " 1.38593750e+00 2.30429688e+04 6.22460938e+04] with error: Events ['Maximum voltage [V]'] are non-positive at initial conditions\n"
     ]
    },
    {
     "name": "stderr",
     "output_type": "stream",
     "text": [
      "CasADi - 2024-06-28 10:07:14 WARNING(\"roots:g failed: Inf detected for output x, at (row 0, col 0).\") [.../casadi/core/oracle_function.cpp:326]\n",
      "CasADi - 2024-06-28 10:07:14 WARNING(\"roots:g failed: Inf detected for output x, at (row 0, col 0).\") [.../casadi/core/oracle_function.cpp:326]\n",
      "CasADi - 2024-06-28 10:07:14 WARNING(\"roots:g failed: Inf detected for output x, at (row 0, col 0).\") [.../casadi/core/oracle_function.cpp:326]\n",
      "CasADi - 2024-06-28 10:07:14 WARNING(\"roots:g failed: Inf detected for output x, at (row 0, col 0).\") [.../casadi/core/oracle_function.cpp:326]\n",
      "CasADi - 2024-06-28 10:07:14 WARNING(\"roots:g failed: Inf detected for output x, at (row 0, col 0).\") [.../casadi/core/oracle_function.cpp:326]\n"
     ]
    },
    {
     "name": "stdout",
     "output_type": "stream",
     "text": [
      "Solver failed for parameters: [5.94218750e-05 6.51328125e-05 1.54296875e-05 7.94140625e-01\n",
      " 6.30468750e-01 5.85156250e-06 4.22656250e-06 1.04882812e+03\n",
      " 1.71093750e+02 5.66406250e+00 1.69531250e+00 1.69531250e+00\n",
      " 1.32656250e+00 2.44179688e+04 5.41601562e+04] with error: Events ['Maximum voltage [V]'] are non-positive at initial conditions\n"
     ]
    },
    {
     "name": "stderr",
     "output_type": "stream",
     "text": [
      "CasADi - 2024-06-28 10:07:14 WARNING(\"roots:g failed: Inf detected for output x, at (row 0, col 0).\") [.../casadi/core/oracle_function.cpp:326]\n",
      "CasADi - 2024-06-28 10:07:14 WARNING(\"roots:g failed: Inf detected for output x, at (row 0, col 0).\") [.../casadi/core/oracle_function.cpp:326]\n",
      "CasADi - 2024-06-28 10:07:14 WARNING(\"roots:g failed: Inf detected for output x, at (row 0, col 0).\") [.../casadi/core/oracle_function.cpp:326]\n",
      "CasADi - 2024-06-28 10:07:14 WARNING(\"roots:g failed: Inf detected for output x, at (row 0, col 0).\") [.../casadi/core/oracle_function.cpp:326]\n",
      "CasADi - 2024-06-28 10:07:14 WARNING(\"roots:g failed: Inf detected for output x, at (row 0, col 0).\") [.../casadi/core/oracle_function.cpp:326]\n",
      "CasADi - 2024-06-28 10:07:14 WARNING(\"roots:g failed: Inf detected for output x, at (row 0, col 0).\") [.../casadi/core/oracle_function.cpp:326]\n"
     ]
    },
    {
     "name": "stdout",
     "output_type": "stream",
     "text": [
      "Solver failed for parameters: [5.04218750e-05 6.51328125e-05 1.54296875e-05 7.94140625e-01\n",
      " 6.30468750e-01 5.85156250e-06 4.22656250e-06 1.04882812e+03\n",
      " 1.71093750e+02 5.66406250e+00 1.69531250e+00 1.69531250e+00\n",
      " 1.32656250e+00 2.44179688e+04 5.41601562e+04] with error: Events ['Maximum voltage [V]'] are non-positive at initial conditions\n"
     ]
    },
    {
     "name": "stderr",
     "output_type": "stream",
     "text": [
      "CasADi - 2024-06-28 10:07:15 WARNING(\"roots:g failed: Inf detected for output x, at (row 0, col 0).\") [.../casadi/core/oracle_function.cpp:326]\n",
      "CasADi - 2024-06-28 10:07:15 WARNING(\"roots:g failed: Inf detected for output x, at (row 0, col 0).\") [.../casadi/core/oracle_function.cpp:326]\n",
      "CasADi - 2024-06-28 10:07:15 WARNING(\"roots:g failed: Inf detected for output x, at (row 0, col 0).\") [.../casadi/core/oracle_function.cpp:326]\n",
      "CasADi - 2024-06-28 10:07:15 WARNING(\"roots:g failed: Inf detected for output x, at (row 0, col 0).\") [.../casadi/core/oracle_function.cpp:326]\n",
      "CasADi - 2024-06-28 10:07:15 WARNING(\"roots:g failed: Inf detected for output x, at (row 0, col 0).\") [.../casadi/core/oracle_function.cpp:326]\n"
     ]
    },
    {
     "name": "stdout",
     "output_type": "stream",
     "text": [
      "Solver failed for parameters: [5.94218750e-05 7.12265625e-05 1.54296875e-05 7.94140625e-01\n",
      " 6.30468750e-01 5.85156250e-06 4.22656250e-06 1.04882812e+03\n",
      " 1.71093750e+02 5.66406250e+00 1.69531250e+00 1.69531250e+00\n",
      " 1.32656250e+00 2.44179688e+04 5.41601562e+04] with error: Events ['Maximum voltage [V]'] are non-positive at initial conditions\n"
     ]
    },
    {
     "name": "stderr",
     "output_type": "stream",
     "text": [
      "CasADi - 2024-06-28 10:07:15 WARNING(\"roots:g failed: Inf detected for output x, at (row 0, col 0).\") [.../casadi/core/oracle_function.cpp:326]\n",
      "CasADi - 2024-06-28 10:07:15 WARNING(\"roots:g failed: Inf detected for output x, at (row 0, col 0).\") [.../casadi/core/oracle_function.cpp:326]\n",
      "CasADi - 2024-06-28 10:07:15 WARNING(\"roots:g failed: Inf detected for output x, at (row 0, col 0).\") [.../casadi/core/oracle_function.cpp:326]\n",
      "CasADi - 2024-06-28 10:07:15 WARNING(\"roots:g failed: Inf detected for output x, at (row 0, col 0).\") [.../casadi/core/oracle_function.cpp:326]\n",
      "CasADi - 2024-06-28 10:07:15 WARNING(\"roots:g failed: Inf detected for output x, at (row 0, col 0).\") [.../casadi/core/oracle_function.cpp:326]\n"
     ]
    },
    {
     "name": "stdout",
     "output_type": "stream",
     "text": [
      "Solver failed for parameters: [5.94218750e-05 6.51328125e-05 1.60546875e-05 7.94140625e-01\n",
      " 6.30468750e-01 5.85156250e-06 4.22656250e-06 1.04882812e+03\n",
      " 1.71093750e+02 5.66406250e+00 1.69531250e+00 1.69531250e+00\n",
      " 1.32656250e+00 2.44179688e+04 5.41601562e+04] with error: Events ['Maximum voltage [V]'] are non-positive at initial conditions\n"
     ]
    },
    {
     "name": "stderr",
     "output_type": "stream",
     "text": [
      "CasADi - 2024-06-28 10:07:16 WARNING(\"roots:g failed: Inf detected for output x, at (row 0, col 0).\") [.../casadi/core/oracle_function.cpp:326]\n",
      "CasADi - 2024-06-28 10:07:16 WARNING(\"roots:g failed: Inf detected for output x, at (row 0, col 0).\") [.../casadi/core/oracle_function.cpp:326]\n",
      "CasADi - 2024-06-28 10:07:16 WARNING(\"roots:g failed: Inf detected for output x, at (row 0, col 0).\") [.../casadi/core/oracle_function.cpp:326]\n",
      "CasADi - 2024-06-28 10:07:16 WARNING(\"roots:g failed: Inf detected for output x, at (row 0, col 0).\") [.../casadi/core/oracle_function.cpp:326]\n",
      "CasADi - 2024-06-28 10:07:16 WARNING(\"roots:g failed: Inf detected for output x, at (row 0, col 0).\") [.../casadi/core/oracle_function.cpp:326]\n"
     ]
    },
    {
     "name": "stdout",
     "output_type": "stream",
     "text": [
      "Solver failed for parameters: [5.94218750e-05 6.51328125e-05 1.54296875e-05 7.33203125e-01\n",
      " 6.30468750e-01 5.85156250e-06 4.22656250e-06 1.04882812e+03\n",
      " 1.71093750e+02 5.66406250e+00 1.69531250e+00 1.69531250e+00\n",
      " 1.32656250e+00 2.44179688e+04 5.41601562e+04] with error: Events ['Maximum voltage [V]'] are non-positive at initial conditions\n"
     ]
    },
    {
     "name": "stderr",
     "output_type": "stream",
     "text": [
      "CasADi - 2024-06-28 10:07:16 WARNING(\"roots:g failed: Inf detected for output x, at (row 0, col 0).\") [.../casadi/core/oracle_function.cpp:326]\n",
      "CasADi - 2024-06-28 10:07:16 WARNING(\"roots:g failed: Inf detected for output x, at (row 0, col 0).\") [.../casadi/core/oracle_function.cpp:326]\n",
      "CasADi - 2024-06-28 10:07:16 WARNING(\"roots:g failed: Inf detected for output x, at (row 0, col 0).\") [.../casadi/core/oracle_function.cpp:326]\n",
      "CasADi - 2024-06-28 10:07:16 WARNING(\"roots:g failed: Inf detected for output x, at (row 0, col 0).\") [.../casadi/core/oracle_function.cpp:326]\n",
      "CasADi - 2024-06-28 10:07:16 WARNING(\"roots:g failed: Inf detected for output x, at (row 0, col 0).\") [.../casadi/core/oracle_function.cpp:326]\n"
     ]
    },
    {
     "name": "stdout",
     "output_type": "stream",
     "text": [
      "Solver failed for parameters: [5.94218750e-05 6.51328125e-05 1.54296875e-05 7.94140625e-01\n",
      " 5.61718750e-01 5.85156250e-06 4.22656250e-06 1.04882812e+03\n",
      " 1.71093750e+02 5.66406250e+00 1.69531250e+00 1.69531250e+00\n",
      " 1.32656250e+00 2.44179688e+04 5.41601562e+04] with error: Events ['Maximum voltage [V]'] are non-positive at initial conditions\n"
     ]
    },
    {
     "name": "stderr",
     "output_type": "stream",
     "text": [
      "CasADi - 2024-06-28 10:07:17 WARNING(\"roots:g failed: Inf detected for output x, at (row 0, col 0).\") [.../casadi/core/oracle_function.cpp:326]\n",
      "CasADi - 2024-06-28 10:07:17 WARNING(\"roots:g failed: Inf detected for output x, at (row 0, col 0).\") [.../casadi/core/oracle_function.cpp:326]\n",
      "CasADi - 2024-06-28 10:07:17 WARNING(\"roots:g failed: Inf detected for output x, at (row 0, col 0).\") [.../casadi/core/oracle_function.cpp:326]\n",
      "CasADi - 2024-06-28 10:07:17 WARNING(\"roots:g failed: Inf detected for output x, at (row 0, col 0).\") [.../casadi/core/oracle_function.cpp:326]\n",
      "CasADi - 2024-06-28 10:07:17 WARNING(\"roots:g failed: Inf detected for output x, at (row 0, col 0).\") [.../casadi/core/oracle_function.cpp:326]\n"
     ]
    },
    {
     "name": "stdout",
     "output_type": "stream",
     "text": [
      "Solver failed for parameters: [5.94218750e-05 6.51328125e-05 1.54296875e-05 7.94140625e-01\n",
      " 6.30468750e-01 4.21093750e-06 4.22656250e-06 1.04882812e+03\n",
      " 1.71093750e+02 5.66406250e+00 1.69531250e+00 1.69531250e+00\n",
      " 1.32656250e+00 2.44179688e+04 5.41601562e+04] with error: Events ['Maximum voltage [V]'] are non-positive at initial conditions\n"
     ]
    },
    {
     "name": "stderr",
     "output_type": "stream",
     "text": [
      "CasADi - 2024-06-28 10:07:17 WARNING(\"roots:g failed: Inf detected for output x, at (row 0, col 0).\") [.../casadi/core/oracle_function.cpp:326]\n",
      "CasADi - 2024-06-28 10:07:17 WARNING(\"roots:g failed: Inf detected for output x, at (row 0, col 0).\") [.../casadi/core/oracle_function.cpp:326]\n",
      "CasADi - 2024-06-28 10:07:17 WARNING(\"roots:g failed: Inf detected for output x, at (row 0, col 0).\") [.../casadi/core/oracle_function.cpp:326]\n",
      "CasADi - 2024-06-28 10:07:17 WARNING(\"roots:g failed: Inf detected for output x, at (row 0, col 0).\") [.../casadi/core/oracle_function.cpp:326]\n",
      "CasADi - 2024-06-28 10:07:17 WARNING(\"roots:g failed: Inf detected for output x, at (row 0, col 0).\") [.../casadi/core/oracle_function.cpp:326]\n"
     ]
    },
    {
     "name": "stdout",
     "output_type": "stream",
     "text": [
      "Solver failed for parameters: [5.94218750e-05 6.51328125e-05 1.54296875e-05 7.94140625e-01\n",
      " 6.30468750e-01 5.85156250e-06 4.61718750e-06 1.04882812e+03\n",
      " 1.71093750e+02 5.66406250e+00 1.69531250e+00 1.69531250e+00\n",
      " 1.32656250e+00 2.44179688e+04 5.41601562e+04] with error: Events ['Maximum voltage [V]'] are non-positive at initial conditions\n"
     ]
    },
    {
     "name": "stderr",
     "output_type": "stream",
     "text": [
      "CasADi - 2024-06-28 10:07:17 WARNING(\"roots:g failed: Inf detected for output x, at (row 0, col 0).\") [.../casadi/core/oracle_function.cpp:326]\n",
      "CasADi - 2024-06-28 10:07:17 WARNING(\"roots:g failed: Inf detected for output x, at (row 0, col 0).\") [.../casadi/core/oracle_function.cpp:326]\n",
      "CasADi - 2024-06-28 10:07:17 WARNING(\"roots:g failed: Inf detected for output x, at (row 0, col 0).\") [.../casadi/core/oracle_function.cpp:326]\n",
      "CasADi - 2024-06-28 10:07:17 WARNING(\"roots:g failed: Inf detected for output x, at (row 0, col 0).\") [.../casadi/core/oracle_function.cpp:326]\n",
      "CasADi - 2024-06-28 10:07:17 WARNING(\"roots:g failed: Inf detected for output x, at (row 0, col 0).\") [.../casadi/core/oracle_function.cpp:326]\n"
     ]
    },
    {
     "name": "stdout",
     "output_type": "stream",
     "text": [
      "Solver failed for parameters: [5.94218750e-05 6.51328125e-05 1.54296875e-05 7.94140625e-01\n",
      " 6.30468750e-01 5.85156250e-06 4.22656250e-06 9.41015625e+02\n",
      " 1.71093750e+02 5.66406250e+00 1.69531250e+00 1.69531250e+00\n",
      " 1.32656250e+00 2.44179688e+04 5.41601562e+04] with error: Events ['Maximum voltage [V]'] are non-positive at initial conditions\n"
     ]
    },
    {
     "name": "stderr",
     "output_type": "stream",
     "text": [
      "CasADi - 2024-06-28 10:07:18 WARNING(\"roots:g failed: Inf detected for output x, at (row 0, col 0).\") [.../casadi/core/oracle_function.cpp:326]\n",
      "CasADi - 2024-06-28 10:07:18 WARNING(\"roots:g failed: Inf detected for output x, at (row 0, col 0).\") [.../casadi/core/oracle_function.cpp:326]\n",
      "CasADi - 2024-06-28 10:07:18 WARNING(\"roots:g failed: Inf detected for output x, at (row 0, col 0).\") [.../casadi/core/oracle_function.cpp:326]\n",
      "CasADi - 2024-06-28 10:07:18 WARNING(\"roots:g failed: Inf detected for output x, at (row 0, col 0).\") [.../casadi/core/oracle_function.cpp:326]\n",
      "CasADi - 2024-06-28 10:07:18 WARNING(\"roots:g failed: Inf detected for output x, at (row 0, col 0).\") [.../casadi/core/oracle_function.cpp:326]\n"
     ]
    },
    {
     "name": "stdout",
     "output_type": "stream",
     "text": [
      "Solver failed for parameters: [5.94218750e-05 6.51328125e-05 1.54296875e-05 7.94140625e-01\n",
      " 6.30468750e-01 5.85156250e-06 4.22656250e-06 1.04882812e+03\n",
      " 1.36718750e+02 5.66406250e+00 1.69531250e+00 1.69531250e+00\n",
      " 1.32656250e+00 2.44179688e+04 5.41601562e+04] with error: Events ['Maximum voltage [V]'] are non-positive at initial conditions\n"
     ]
    },
    {
     "name": "stderr",
     "output_type": "stream",
     "text": [
      "CasADi - 2024-06-28 10:07:19 WARNING(\"roots:g failed: Inf detected for output x, at (row 0, col 0).\") [.../casadi/core/oracle_function.cpp:326]\n",
      "CasADi - 2024-06-28 10:07:19 WARNING(\"roots:g failed: Inf detected for output x, at (row 0, col 0).\") [.../casadi/core/oracle_function.cpp:326]\n",
      "CasADi - 2024-06-28 10:07:19 WARNING(\"roots:g failed: Inf detected for output x, at (row 0, col 0).\") [.../casadi/core/oracle_function.cpp:326]\n",
      "CasADi - 2024-06-28 10:07:19 WARNING(\"roots:g failed: Inf detected for output x, at (row 0, col 0).\") [.../casadi/core/oracle_function.cpp:326]\n",
      "CasADi - 2024-06-28 10:07:19 WARNING(\"roots:g failed: Inf detected for output x, at (row 0, col 0).\") [.../casadi/core/oracle_function.cpp:326]\n"
     ]
    },
    {
     "name": "stdout",
     "output_type": "stream",
     "text": [
      "Solver failed for parameters: [5.94218750e-05 6.51328125e-05 1.54296875e-05 7.94140625e-01\n",
      " 6.30468750e-01 5.85156250e-06 4.22656250e-06 1.04882812e+03\n",
      " 1.71093750e+02 4.17968750e+00 1.69531250e+00 1.69531250e+00\n",
      " 1.32656250e+00 2.44179688e+04 5.41601562e+04] with error: Events ['Maximum voltage [V]'] are non-positive at initial conditions\n"
     ]
    },
    {
     "name": "stderr",
     "output_type": "stream",
     "text": [
      "CasADi - 2024-06-28 10:07:19 WARNING(\"roots:g failed: Inf detected for output x, at (row 0, col 0).\") [.../casadi/core/oracle_function.cpp:326]\n",
      "CasADi - 2024-06-28 10:07:19 WARNING(\"roots:g failed: Inf detected for output x, at (row 0, col 0).\") [.../casadi/core/oracle_function.cpp:326]\n",
      "CasADi - 2024-06-28 10:07:19 WARNING(\"roots:g failed: Inf detected for output x, at (row 0, col 0).\") [.../casadi/core/oracle_function.cpp:326]\n",
      "CasADi - 2024-06-28 10:07:19 WARNING(\"roots:g failed: Inf detected for output x, at (row 0, col 0).\") [.../casadi/core/oracle_function.cpp:326]\n",
      "CasADi - 2024-06-28 10:07:19 WARNING(\"roots:g failed: Inf detected for output x, at (row 0, col 0).\") [.../casadi/core/oracle_function.cpp:326]\n"
     ]
    },
    {
     "name": "stdout",
     "output_type": "stream",
     "text": [
      "Solver failed for parameters: [5.94218750e-05 6.51328125e-05 1.54296875e-05 7.94140625e-01\n",
      " 6.30468750e-01 5.85156250e-06 4.22656250e-06 1.04882812e+03\n",
      " 1.71093750e+02 5.66406250e+00 1.67343750e+00 1.69531250e+00\n",
      " 1.32656250e+00 2.44179688e+04 5.41601562e+04] with error: Events ['Maximum voltage [V]'] are non-positive at initial conditions\n"
     ]
    },
    {
     "name": "stderr",
     "output_type": "stream",
     "text": [
      "CasADi - 2024-06-28 10:07:20 WARNING(\"roots:g failed: Inf detected for output x, at (row 0, col 0).\") [.../casadi/core/oracle_function.cpp:326]\n",
      "CasADi - 2024-06-28 10:07:20 WARNING(\"roots:g failed: Inf detected for output x, at (row 0, col 0).\") [.../casadi/core/oracle_function.cpp:326]\n",
      "CasADi - 2024-06-28 10:07:20 WARNING(\"roots:g failed: Inf detected for output x, at (row 0, col 0).\") [.../casadi/core/oracle_function.cpp:326]\n",
      "CasADi - 2024-06-28 10:07:20 WARNING(\"roots:g failed: Inf detected for output x, at (row 0, col 0).\") [.../casadi/core/oracle_function.cpp:326]\n",
      "CasADi - 2024-06-28 10:07:20 WARNING(\"roots:g failed: Inf detected for output x, at (row 0, col 0).\") [.../casadi/core/oracle_function.cpp:326]\n"
     ]
    },
    {
     "name": "stdout",
     "output_type": "stream",
     "text": [
      "Solver failed for parameters: [5.94218750e-05 6.51328125e-05 1.54296875e-05 7.94140625e-01\n",
      " 6.30468750e-01 5.85156250e-06 4.22656250e-06 1.04882812e+03\n",
      " 1.71093750e+02 5.66406250e+00 1.69531250e+00 1.63593750e+00\n",
      " 1.32656250e+00 2.44179688e+04 5.41601562e+04] with error: Events ['Maximum voltage [V]'] are non-positive at initial conditions\n"
     ]
    },
    {
     "name": "stderr",
     "output_type": "stream",
     "text": [
      "CasADi - 2024-06-28 10:07:20 WARNING(\"roots:g failed: Inf detected for output x, at (row 0, col 0).\") [.../casadi/core/oracle_function.cpp:326]\n",
      "CasADi - 2024-06-28 10:07:20 WARNING(\"roots:g failed: Inf detected for output x, at (row 0, col 0).\") [.../casadi/core/oracle_function.cpp:326]\n",
      "CasADi - 2024-06-28 10:07:20 WARNING(\"roots:g failed: Inf detected for output x, at (row 0, col 0).\") [.../casadi/core/oracle_function.cpp:326]\n",
      "CasADi - 2024-06-28 10:07:20 WARNING(\"roots:g failed: Inf detected for output x, at (row 0, col 0).\") [.../casadi/core/oracle_function.cpp:326]\n",
      "CasADi - 2024-06-28 10:07:20 WARNING(\"roots:g failed: Inf detected for output x, at (row 0, col 0).\") [.../casadi/core/oracle_function.cpp:326]\n"
     ]
    },
    {
     "name": "stdout",
     "output_type": "stream",
     "text": [
      "Solver failed for parameters: [5.94218750e-05 6.51328125e-05 1.54296875e-05 7.94140625e-01\n",
      " 6.30468750e-01 5.85156250e-06 4.22656250e-06 1.04882812e+03\n",
      " 1.71093750e+02 5.66406250e+00 1.69531250e+00 1.69531250e+00\n",
      " 1.68593750e+00 2.44179688e+04 5.41601562e+04] with error: Events ['Maximum voltage [V]'] are non-positive at initial conditions\n"
     ]
    },
    {
     "name": "stderr",
     "output_type": "stream",
     "text": [
      "CasADi - 2024-06-28 10:07:20 WARNING(\"roots:g failed: Inf detected for output x, at (row 0, col 0).\") [.../casadi/core/oracle_function.cpp:326]\n",
      "CasADi - 2024-06-28 10:07:20 WARNING(\"roots:g failed: Inf detected for output x, at (row 0, col 0).\") [.../casadi/core/oracle_function.cpp:326]\n",
      "CasADi - 2024-06-28 10:07:20 WARNING(\"roots:g failed: Inf detected for output x, at (row 0, col 0).\") [.../casadi/core/oracle_function.cpp:326]\n",
      "CasADi - 2024-06-28 10:07:20 WARNING(\"roots:g failed: Inf detected for output x, at (row 0, col 0).\") [.../casadi/core/oracle_function.cpp:326]\n",
      "CasADi - 2024-06-28 10:07:20 WARNING(\"roots:g failed: Inf detected for output x, at (row 0, col 0).\") [.../casadi/core/oracle_function.cpp:326]\n"
     ]
    },
    {
     "name": "stdout",
     "output_type": "stream",
     "text": [
      "Solver failed for parameters: [5.94218750e-05 6.51328125e-05 1.54296875e-05 7.94140625e-01\n",
      " 6.30468750e-01 5.85156250e-06 4.22656250e-06 1.04882812e+03\n",
      " 1.71093750e+02 5.66406250e+00 1.69531250e+00 1.69531250e+00\n",
      " 1.32656250e+00 2.57929688e+04 5.41601562e+04] with error: Events ['Maximum voltage [V]'] are non-positive at initial conditions\n"
     ]
    },
    {
     "name": "stderr",
     "output_type": "stream",
     "text": [
      "CasADi - 2024-06-28 10:07:21 WARNING(\"roots:g failed: Inf detected for output x, at (row 0, col 0).\") [.../casadi/core/oracle_function.cpp:326]\n",
      "CasADi - 2024-06-28 10:07:21 WARNING(\"roots:g failed: Inf detected for output x, at (row 0, col 0).\") [.../casadi/core/oracle_function.cpp:326]\n",
      "CasADi - 2024-06-28 10:07:21 WARNING(\"roots:g failed: Inf detected for output x, at (row 0, col 0).\") [.../casadi/core/oracle_function.cpp:326]\n",
      "CasADi - 2024-06-28 10:07:21 WARNING(\"roots:g failed: Inf detected for output x, at (row 0, col 0).\") [.../casadi/core/oracle_function.cpp:326]\n",
      "CasADi - 2024-06-28 10:07:21 WARNING(\"roots:g failed: Inf detected for output x, at (row 0, col 0).\") [.../casadi/core/oracle_function.cpp:326]\n"
     ]
    },
    {
     "name": "stdout",
     "output_type": "stream",
     "text": [
      "Solver failed for parameters: [5.94218750e-05 6.51328125e-05 1.54296875e-05 7.94140625e-01\n",
      " 6.30468750e-01 5.85156250e-06 4.22656250e-06 1.04882812e+03\n",
      " 1.71093750e+02 5.66406250e+00 1.69531250e+00 1.69531250e+00\n",
      " 1.32656250e+00 2.44179688e+04 5.09960938e+04] with error: Events ['Maximum voltage [V]'] are non-positive at initial conditions\n"
     ]
    },
    {
     "name": "stderr",
     "output_type": "stream",
     "text": [
      "CasADi - 2024-06-28 10:07:21 WARNING(\"roots:g failed: Inf detected for output x, at (row 0, col 0).\") [.../casadi/core/oracle_function.cpp:326]\n",
      "CasADi - 2024-06-28 10:07:21 WARNING(\"roots:g failed: Inf detected for output x, at (row 0, col 0).\") [.../casadi/core/oracle_function.cpp:326]\n",
      "CasADi - 2024-06-28 10:07:21 WARNING(\"roots:g failed: Inf detected for output x, at (row 0, col 0).\") [.../casadi/core/oracle_function.cpp:326]\n",
      "CasADi - 2024-06-28 10:07:21 WARNING(\"roots:g failed: Inf detected for output x, at (row 0, col 0).\") [.../casadi/core/oracle_function.cpp:326]\n",
      "CasADi - 2024-06-28 10:07:21 WARNING(\"roots:g failed: Inf detected for output x, at (row 0, col 0).\") [.../casadi/core/oracle_function.cpp:326]\n"
     ]
    },
    {
     "name": "stdout",
     "output_type": "stream",
     "text": [
      "Solver failed for parameters: [5.94218750e-05 7.12265625e-05 1.60546875e-05 7.33203125e-01\n",
      " 5.61718750e-01 4.21093750e-06 4.61718750e-06 9.41015625e+02\n",
      " 1.36718750e+02 4.17968750e+00 1.67343750e+00 1.63593750e+00\n",
      " 1.68593750e+00 2.57929688e+04 5.09960938e+04] with error: Events ['Maximum voltage [V]'] are non-positive at initial conditions\n"
     ]
    },
    {
     "name": "stderr",
     "output_type": "stream",
     "text": [
      "CasADi - 2024-06-28 10:07:22 WARNING(\"roots:g failed: Inf detected for output x, at (row 0, col 0).\") [.../casadi/core/oracle_function.cpp:326]\n",
      "CasADi - 2024-06-28 10:07:22 WARNING(\"roots:g failed: Inf detected for output x, at (row 0, col 0).\") [.../casadi/core/oracle_function.cpp:326]\n",
      "CasADi - 2024-06-28 10:07:22 WARNING(\"roots:g failed: Inf detected for output x, at (row 0, col 0).\") [.../casadi/core/oracle_function.cpp:326]\n",
      "CasADi - 2024-06-28 10:07:22 WARNING(\"roots:g failed: Inf detected for output x, at (row 0, col 0).\") [.../casadi/core/oracle_function.cpp:326]\n",
      "CasADi - 2024-06-28 10:07:22 WARNING(\"roots:g failed: Inf detected for output x, at (row 0, col 0).\") [.../casadi/core/oracle_function.cpp:326]\n"
     ]
    },
    {
     "name": "stdout",
     "output_type": "stream",
     "text": [
      "Solver failed for parameters: [5.04218750e-05 6.51328125e-05 1.60546875e-05 7.33203125e-01\n",
      " 5.61718750e-01 4.21093750e-06 4.61718750e-06 9.41015625e+02\n",
      " 1.36718750e+02 4.17968750e+00 1.67343750e+00 1.63593750e+00\n",
      " 1.68593750e+00 2.57929688e+04 5.09960938e+04] with error: Events ['Maximum voltage [V]'] are non-positive at initial conditions\n"
     ]
    },
    {
     "name": "stderr",
     "output_type": "stream",
     "text": [
      "CasADi - 2024-06-28 10:07:22 WARNING(\"roots:g failed: Inf detected for output x, at (row 0, col 0).\") [.../casadi/core/oracle_function.cpp:326]\n",
      "CasADi - 2024-06-28 10:07:22 WARNING(\"roots:g failed: Inf detected for output x, at (row 0, col 0).\") [.../casadi/core/oracle_function.cpp:326]\n",
      "CasADi - 2024-06-28 10:07:22 WARNING(\"roots:g failed: Inf detected for output x, at (row 0, col 0).\") [.../casadi/core/oracle_function.cpp:326]\n",
      "CasADi - 2024-06-28 10:07:22 WARNING(\"roots:g failed: Inf detected for output x, at (row 0, col 0).\") [.../casadi/core/oracle_function.cpp:326]\n",
      "CasADi - 2024-06-28 10:07:22 WARNING(\"roots:g failed: Inf detected for output x, at (row 0, col 0).\") [.../casadi/core/oracle_function.cpp:326]\n"
     ]
    },
    {
     "name": "stdout",
     "output_type": "stream",
     "text": [
      "Solver failed for parameters: [5.04218750e-05 7.12265625e-05 1.54296875e-05 7.33203125e-01\n",
      " 5.61718750e-01 4.21093750e-06 4.61718750e-06 9.41015625e+02\n",
      " 1.36718750e+02 4.17968750e+00 1.67343750e+00 1.63593750e+00\n",
      " 1.68593750e+00 2.57929688e+04 5.09960938e+04] with error: Events ['Maximum voltage [V]'] are non-positive at initial conditions\n"
     ]
    },
    {
     "name": "stderr",
     "output_type": "stream",
     "text": [
      "CasADi - 2024-06-28 10:07:23 WARNING(\"roots:g failed: Inf detected for output x, at (row 0, col 0).\") [.../casadi/core/oracle_function.cpp:326]\n",
      "CasADi - 2024-06-28 10:07:23 WARNING(\"roots:g failed: Inf detected for output x, at (row 0, col 0).\") [.../casadi/core/oracle_function.cpp:326]\n",
      "CasADi - 2024-06-28 10:07:23 WARNING(\"roots:g failed: Inf detected for output x, at (row 0, col 0).\") [.../casadi/core/oracle_function.cpp:326]\n",
      "CasADi - 2024-06-28 10:07:23 WARNING(\"roots:g failed: Inf detected for output x, at (row 0, col 0).\") [.../casadi/core/oracle_function.cpp:326]\n",
      "CasADi - 2024-06-28 10:07:23 WARNING(\"roots:g failed: Inf detected for output x, at (row 0, col 0).\") [.../casadi/core/oracle_function.cpp:326]\n"
     ]
    },
    {
     "name": "stdout",
     "output_type": "stream",
     "text": [
      "Solver failed for parameters: [5.04218750e-05 7.12265625e-05 1.60546875e-05 7.94140625e-01\n",
      " 5.61718750e-01 4.21093750e-06 4.61718750e-06 9.41015625e+02\n",
      " 1.36718750e+02 4.17968750e+00 1.67343750e+00 1.63593750e+00\n",
      " 1.68593750e+00 2.57929688e+04 5.09960938e+04] with error: Events ['Maximum voltage [V]'] are non-positive at initial conditions\n"
     ]
    },
    {
     "name": "stderr",
     "output_type": "stream",
     "text": [
      "CasADi - 2024-06-28 10:07:23 WARNING(\"roots:g failed: Inf detected for output x, at (row 0, col 0).\") [.../casadi/core/oracle_function.cpp:326]\n",
      "CasADi - 2024-06-28 10:07:23 WARNING(\"roots:g failed: Inf detected for output x, at (row 0, col 0).\") [.../casadi/core/oracle_function.cpp:326]\n",
      "CasADi - 2024-06-28 10:07:23 WARNING(\"roots:g failed: Inf detected for output x, at (row 0, col 0).\") [.../casadi/core/oracle_function.cpp:326]\n",
      "CasADi - 2024-06-28 10:07:23 WARNING(\"roots:g failed: Inf detected for output x, at (row 0, col 0).\") [.../casadi/core/oracle_function.cpp:326]\n",
      "CasADi - 2024-06-28 10:07:23 WARNING(\"roots:g failed: Inf detected for output x, at (row 0, col 0).\") [.../casadi/core/oracle_function.cpp:326]\n"
     ]
    },
    {
     "name": "stdout",
     "output_type": "stream",
     "text": [
      "Solver failed for parameters: [5.04218750e-05 7.12265625e-05 1.60546875e-05 7.33203125e-01\n",
      " 6.30468750e-01 4.21093750e-06 4.61718750e-06 9.41015625e+02\n",
      " 1.36718750e+02 4.17968750e+00 1.67343750e+00 1.63593750e+00\n",
      " 1.68593750e+00 2.57929688e+04 5.09960938e+04] with error: Events ['Maximum voltage [V]'] are non-positive at initial conditions\n"
     ]
    },
    {
     "name": "stderr",
     "output_type": "stream",
     "text": [
      "CasADi - 2024-06-28 10:07:24 WARNING(\"roots:g failed: Inf detected for output x, at (row 0, col 0).\") [.../casadi/core/oracle_function.cpp:326]\n",
      "CasADi - 2024-06-28 10:07:24 WARNING(\"roots:g failed: Inf detected for output x, at (row 0, col 0).\") [.../casadi/core/oracle_function.cpp:326]\n",
      "CasADi - 2024-06-28 10:07:24 WARNING(\"roots:g failed: Inf detected for output x, at (row 0, col 0).\") [.../casadi/core/oracle_function.cpp:326]\n",
      "CasADi - 2024-06-28 10:07:24 WARNING(\"roots:g failed: Inf detected for output x, at (row 0, col 0).\") [.../casadi/core/oracle_function.cpp:326]\n",
      "CasADi - 2024-06-28 10:07:24 WARNING(\"roots:g failed: Inf detected for output x, at (row 0, col 0).\") [.../casadi/core/oracle_function.cpp:326]\n",
      "CasADi - 2024-06-28 10:07:24 WARNING(\"roots:g failed: Inf detected for output x, at (row 0, col 0).\") [.../casadi/core/oracle_function.cpp:326]\n"
     ]
    },
    {
     "name": "stdout",
     "output_type": "stream",
     "text": [
      "Solver failed for parameters: [5.04218750e-05 7.12265625e-05 1.60546875e-05 7.33203125e-01\n",
      " 5.61718750e-01 5.85156250e-06 4.61718750e-06 9.41015625e+02\n",
      " 1.36718750e+02 4.17968750e+00 1.67343750e+00 1.63593750e+00\n",
      " 1.68593750e+00 2.57929688e+04 5.09960938e+04] with error: Events ['Maximum voltage [V]'] are non-positive at initial conditions\n"
     ]
    },
    {
     "name": "stderr",
     "output_type": "stream",
     "text": [
      "CasADi - 2024-06-28 10:07:24 WARNING(\"roots:g failed: Inf detected for output x, at (row 0, col 0).\") [.../casadi/core/oracle_function.cpp:326]\n",
      "CasADi - 2024-06-28 10:07:24 WARNING(\"roots:g failed: Inf detected for output x, at (row 0, col 0).\") [.../casadi/core/oracle_function.cpp:326]\n",
      "CasADi - 2024-06-28 10:07:24 WARNING(\"roots:g failed: Inf detected for output x, at (row 0, col 0).\") [.../casadi/core/oracle_function.cpp:326]\n",
      "CasADi - 2024-06-28 10:07:24 WARNING(\"roots:g failed: Inf detected for output x, at (row 0, col 0).\") [.../casadi/core/oracle_function.cpp:326]\n",
      "CasADi - 2024-06-28 10:07:24 WARNING(\"roots:g failed: Inf detected for output x, at (row 0, col 0).\") [.../casadi/core/oracle_function.cpp:326]\n"
     ]
    },
    {
     "name": "stdout",
     "output_type": "stream",
     "text": [
      "Solver failed for parameters: [5.04218750e-05 7.12265625e-05 1.60546875e-05 7.33203125e-01\n",
      " 5.61718750e-01 4.21093750e-06 4.22656250e-06 9.41015625e+02\n",
      " 1.36718750e+02 4.17968750e+00 1.67343750e+00 1.63593750e+00\n",
      " 1.68593750e+00 2.57929688e+04 5.09960938e+04] with error: Events ['Maximum voltage [V]'] are non-positive at initial conditions\n"
     ]
    },
    {
     "name": "stderr",
     "output_type": "stream",
     "text": [
      "CasADi - 2024-06-28 10:07:25 WARNING(\"roots:g failed: Inf detected for output x, at (row 0, col 0).\") [.../casadi/core/oracle_function.cpp:326]\n",
      "CasADi - 2024-06-28 10:07:25 WARNING(\"roots:g failed: Inf detected for output x, at (row 0, col 0).\") [.../casadi/core/oracle_function.cpp:326]\n",
      "CasADi - 2024-06-28 10:07:25 WARNING(\"roots:g failed: Inf detected for output x, at (row 0, col 0).\") [.../casadi/core/oracle_function.cpp:326]\n",
      "CasADi - 2024-06-28 10:07:25 WARNING(\"roots:g failed: Inf detected for output x, at (row 0, col 0).\") [.../casadi/core/oracle_function.cpp:326]\n",
      "CasADi - 2024-06-28 10:07:25 WARNING(\"roots:g failed: Inf detected for output x, at (row 0, col 0).\") [.../casadi/core/oracle_function.cpp:326]\n"
     ]
    },
    {
     "name": "stdout",
     "output_type": "stream",
     "text": [
      "Solver failed for parameters: [5.04218750e-05 7.12265625e-05 1.60546875e-05 7.33203125e-01\n",
      " 5.61718750e-01 4.21093750e-06 4.61718750e-06 1.04882812e+03\n",
      " 1.36718750e+02 4.17968750e+00 1.67343750e+00 1.63593750e+00\n",
      " 1.68593750e+00 2.57929688e+04 5.09960938e+04] with error: Events ['Maximum voltage [V]'] are non-positive at initial conditions\n"
     ]
    },
    {
     "name": "stderr",
     "output_type": "stream",
     "text": [
      "CasADi - 2024-06-28 10:07:25 WARNING(\"roots:g failed: Inf detected for output x, at (row 0, col 0).\") [.../casadi/core/oracle_function.cpp:326]\n",
      "CasADi - 2024-06-28 10:07:25 WARNING(\"roots:g failed: Inf detected for output x, at (row 0, col 0).\") [.../casadi/core/oracle_function.cpp:326]\n",
      "CasADi - 2024-06-28 10:07:25 WARNING(\"roots:g failed: Inf detected for output x, at (row 0, col 0).\") [.../casadi/core/oracle_function.cpp:326]\n",
      "CasADi - 2024-06-28 10:07:25 WARNING(\"roots:g failed: Inf detected for output x, at (row 0, col 0).\") [.../casadi/core/oracle_function.cpp:326]\n",
      "CasADi - 2024-06-28 10:07:25 WARNING(\"roots:g failed: Inf detected for output x, at (row 0, col 0).\") [.../casadi/core/oracle_function.cpp:326]\n"
     ]
    },
    {
     "name": "stdout",
     "output_type": "stream",
     "text": [
      "Solver failed for parameters: [5.04218750e-05 7.12265625e-05 1.60546875e-05 7.33203125e-01\n",
      " 5.61718750e-01 4.21093750e-06 4.61718750e-06 9.41015625e+02\n",
      " 1.71093750e+02 4.17968750e+00 1.67343750e+00 1.63593750e+00\n",
      " 1.68593750e+00 2.57929688e+04 5.09960938e+04] with error: Events ['Maximum voltage [V]'] are non-positive at initial conditions\n"
     ]
    },
    {
     "name": "stderr",
     "output_type": "stream",
     "text": [
      "CasADi - 2024-06-28 10:07:26 WARNING(\"roots:g failed: Inf detected for output x, at (row 0, col 0).\") [.../casadi/core/oracle_function.cpp:326]\n",
      "CasADi - 2024-06-28 10:07:26 WARNING(\"roots:g failed: Inf detected for output x, at (row 0, col 0).\") [.../casadi/core/oracle_function.cpp:326]\n",
      "CasADi - 2024-06-28 10:07:26 WARNING(\"roots:g failed: Inf detected for output x, at (row 0, col 0).\") [.../casadi/core/oracle_function.cpp:326]\n",
      "CasADi - 2024-06-28 10:07:26 WARNING(\"roots:g failed: Inf detected for output x, at (row 0, col 0).\") [.../casadi/core/oracle_function.cpp:326]\n",
      "CasADi - 2024-06-28 10:07:26 WARNING(\"roots:g failed: Inf detected for output x, at (row 0, col 0).\") [.../casadi/core/oracle_function.cpp:326]\n"
     ]
    },
    {
     "name": "stdout",
     "output_type": "stream",
     "text": [
      "Solver failed for parameters: [5.04218750e-05 7.12265625e-05 1.60546875e-05 7.33203125e-01\n",
      " 5.61718750e-01 4.21093750e-06 4.61718750e-06 9.41015625e+02\n",
      " 1.36718750e+02 5.66406250e+00 1.67343750e+00 1.63593750e+00\n",
      " 1.68593750e+00 2.57929688e+04 5.09960938e+04] with error: Events ['Maximum voltage [V]'] are non-positive at initial conditions\n"
     ]
    },
    {
     "name": "stderr",
     "output_type": "stream",
     "text": [
      "CasADi - 2024-06-28 10:07:26 WARNING(\"roots:g failed: Inf detected for output x, at (row 0, col 0).\") [.../casadi/core/oracle_function.cpp:326]\n",
      "CasADi - 2024-06-28 10:07:26 WARNING(\"roots:g failed: Inf detected for output x, at (row 0, col 0).\") [.../casadi/core/oracle_function.cpp:326]\n",
      "CasADi - 2024-06-28 10:07:26 WARNING(\"roots:g failed: Inf detected for output x, at (row 0, col 0).\") [.../casadi/core/oracle_function.cpp:326]\n",
      "CasADi - 2024-06-28 10:07:26 WARNING(\"roots:g failed: Inf detected for output x, at (row 0, col 0).\") [.../casadi/core/oracle_function.cpp:326]\n",
      "CasADi - 2024-06-28 10:07:26 WARNING(\"roots:g failed: Inf detected for output x, at (row 0, col 0).\") [.../casadi/core/oracle_function.cpp:326]\n"
     ]
    },
    {
     "name": "stdout",
     "output_type": "stream",
     "text": [
      "Solver failed for parameters: [5.04218750e-05 7.12265625e-05 1.60546875e-05 7.33203125e-01\n",
      " 5.61718750e-01 4.21093750e-06 4.61718750e-06 9.41015625e+02\n",
      " 1.36718750e+02 4.17968750e+00 1.69531250e+00 1.63593750e+00\n",
      " 1.68593750e+00 2.57929688e+04 5.09960938e+04] with error: Events ['Maximum voltage [V]'] are non-positive at initial conditions\n"
     ]
    },
    {
     "name": "stderr",
     "output_type": "stream",
     "text": [
      "CasADi - 2024-06-28 10:07:27 WARNING(\"roots:g failed: Inf detected for output x, at (row 0, col 0).\") [.../casadi/core/oracle_function.cpp:326]\n",
      "CasADi - 2024-06-28 10:07:27 WARNING(\"roots:g failed: Inf detected for output x, at (row 0, col 0).\") [.../casadi/core/oracle_function.cpp:326]\n",
      "CasADi - 2024-06-28 10:07:27 WARNING(\"roots:g failed: Inf detected for output x, at (row 0, col 0).\") [.../casadi/core/oracle_function.cpp:326]\n",
      "CasADi - 2024-06-28 10:07:27 WARNING(\"roots:g failed: Inf detected for output x, at (row 0, col 0).\") [.../casadi/core/oracle_function.cpp:326]\n",
      "CasADi - 2024-06-28 10:07:27 WARNING(\"roots:g failed: Inf detected for output x, at (row 0, col 0).\") [.../casadi/core/oracle_function.cpp:326]\n"
     ]
    },
    {
     "name": "stdout",
     "output_type": "stream",
     "text": [
      "Solver failed for parameters: [5.04218750e-05 7.12265625e-05 1.60546875e-05 7.33203125e-01\n",
      " 5.61718750e-01 4.21093750e-06 4.61718750e-06 9.41015625e+02\n",
      " 1.36718750e+02 4.17968750e+00 1.67343750e+00 1.69531250e+00\n",
      " 1.68593750e+00 2.57929688e+04 5.09960938e+04] with error: Events ['Maximum voltage [V]'] are non-positive at initial conditions\n"
     ]
    },
    {
     "name": "stderr",
     "output_type": "stream",
     "text": [
      "CasADi - 2024-06-28 10:07:27 WARNING(\"roots:g failed: Inf detected for output x, at (row 0, col 0).\") [.../casadi/core/oracle_function.cpp:326]\n",
      "CasADi - 2024-06-28 10:07:27 WARNING(\"roots:g failed: Inf detected for output x, at (row 0, col 0).\") [.../casadi/core/oracle_function.cpp:326]\n",
      "CasADi - 2024-06-28 10:07:27 WARNING(\"roots:g failed: Inf detected for output x, at (row 0, col 0).\") [.../casadi/core/oracle_function.cpp:326]\n",
      "CasADi - 2024-06-28 10:07:27 WARNING(\"roots:g failed: Inf detected for output x, at (row 0, col 0).\") [.../casadi/core/oracle_function.cpp:326]\n",
      "CasADi - 2024-06-28 10:07:27 WARNING(\"roots:g failed: Inf detected for output x, at (row 0, col 0).\") [.../casadi/core/oracle_function.cpp:326]\n"
     ]
    },
    {
     "name": "stdout",
     "output_type": "stream",
     "text": [
      "Solver failed for parameters: [5.04218750e-05 7.12265625e-05 1.60546875e-05 7.33203125e-01\n",
      " 5.61718750e-01 4.21093750e-06 4.61718750e-06 9.41015625e+02\n",
      " 1.36718750e+02 4.17968750e+00 1.67343750e+00 1.63593750e+00\n",
      " 1.32656250e+00 2.57929688e+04 5.09960938e+04] with error: Events ['Maximum voltage [V]'] are non-positive at initial conditions\n"
     ]
    },
    {
     "name": "stderr",
     "output_type": "stream",
     "text": [
      "CasADi - 2024-06-28 10:07:27 WARNING(\"roots:g failed: Inf detected for output x, at (row 0, col 0).\") [.../casadi/core/oracle_function.cpp:326]\n",
      "CasADi - 2024-06-28 10:07:27 WARNING(\"roots:g failed: Inf detected for output x, at (row 0, col 0).\") [.../casadi/core/oracle_function.cpp:326]\n",
      "CasADi - 2024-06-28 10:07:27 WARNING(\"roots:g failed: Inf detected for output x, at (row 0, col 0).\") [.../casadi/core/oracle_function.cpp:326]\n",
      "CasADi - 2024-06-28 10:07:27 WARNING(\"roots:g failed: Inf detected for output x, at (row 0, col 0).\") [.../casadi/core/oracle_function.cpp:326]\n",
      "CasADi - 2024-06-28 10:07:27 WARNING(\"roots:g failed: Inf detected for output x, at (row 0, col 0).\") [.../casadi/core/oracle_function.cpp:326]\n"
     ]
    },
    {
     "name": "stdout",
     "output_type": "stream",
     "text": [
      "Solver failed for parameters: [5.04218750e-05 7.12265625e-05 1.60546875e-05 7.33203125e-01\n",
      " 5.61718750e-01 4.21093750e-06 4.61718750e-06 9.41015625e+02\n",
      " 1.36718750e+02 4.17968750e+00 1.67343750e+00 1.63593750e+00\n",
      " 1.68593750e+00 2.44179688e+04 5.09960938e+04] with error: Events ['Maximum voltage [V]'] are non-positive at initial conditions\n"
     ]
    },
    {
     "name": "stderr",
     "output_type": "stream",
     "text": [
      "CasADi - 2024-06-28 10:07:28 WARNING(\"roots:g failed: Inf detected for output x, at (row 0, col 0).\") [.../casadi/core/oracle_function.cpp:326]\n",
      "CasADi - 2024-06-28 10:07:28 WARNING(\"roots:g failed: Inf detected for output x, at (row 0, col 0).\") [.../casadi/core/oracle_function.cpp:326]\n",
      "CasADi - 2024-06-28 10:07:28 WARNING(\"roots:g failed: Inf detected for output x, at (row 0, col 0).\") [.../casadi/core/oracle_function.cpp:326]\n",
      "CasADi - 2024-06-28 10:07:28 WARNING(\"roots:g failed: Inf detected for output x, at (row 0, col 0).\") [.../casadi/core/oracle_function.cpp:326]\n",
      "CasADi - 2024-06-28 10:07:28 WARNING(\"roots:g failed: Inf detected for output x, at (row 0, col 0).\") [.../casadi/core/oracle_function.cpp:326]\n"
     ]
    },
    {
     "name": "stdout",
     "output_type": "stream",
     "text": [
      "Solver failed for parameters: [5.04218750e-05 7.12265625e-05 1.60546875e-05 7.33203125e-01\n",
      " 5.61718750e-01 4.21093750e-06 4.61718750e-06 9.41015625e+02\n",
      " 1.36718750e+02 4.17968750e+00 1.67343750e+00 1.63593750e+00\n",
      " 1.68593750e+00 2.57929688e+04 5.41601562e+04] with error: Events ['Maximum voltage [V]'] are non-positive at initial conditions\n"
     ]
    },
    {
     "name": "stderr",
     "output_type": "stream",
     "text": [
      "CasADi - 2024-06-28 10:07:28 WARNING(\"roots:g failed: Inf detected for output x, at (row 0, col 0).\") [.../casadi/core/oracle_function.cpp:326]\n",
      "CasADi - 2024-06-28 10:07:28 WARNING(\"roots:g failed: Inf detected for output x, at (row 0, col 0).\") [.../casadi/core/oracle_function.cpp:326]\n",
      "CasADi - 2024-06-28 10:07:28 WARNING(\"roots:g failed: Inf detected for output x, at (row 0, col 0).\") [.../casadi/core/oracle_function.cpp:326]\n",
      "CasADi - 2024-06-28 10:07:28 WARNING(\"roots:g failed: Inf detected for output x, at (row 0, col 0).\") [.../casadi/core/oracle_function.cpp:326]\n",
      "CasADi - 2024-06-28 10:07:28 WARNING(\"roots:g failed: Inf detected for output x, at (row 0, col 0).\") [.../casadi/core/oracle_function.cpp:326]\n"
     ]
    },
    {
     "name": "stdout",
     "output_type": "stream",
     "text": [
      "Solver failed for parameters: [5.04218750e-05 7.12265625e-05 1.60546875e-05 7.33203125e-01\n",
      " 5.61718750e-01 4.21093750e-06 4.61718750e-06 9.41015625e+02\n",
      " 1.36718750e+02 4.17968750e+00 1.67343750e+00 1.63593750e+00\n",
      " 1.68593750e+00 2.57929688e+04 5.09960938e+04] with error: Events ['Maximum voltage [V]'] are non-positive at initial conditions\n"
     ]
    },
    {
     "name": "stderr",
     "output_type": "stream",
     "text": [
      "CasADi - 2024-06-28 10:07:29 WARNING(\"roots:g failed: Inf detected for output x, at (row 0, col 0).\") [.../casadi/core/oracle_function.cpp:326]\n",
      "CasADi - 2024-06-28 10:07:29 WARNING(\"roots:g failed: Inf detected for output x, at (row 0, col 0).\") [.../casadi/core/oracle_function.cpp:326]\n",
      "CasADi - 2024-06-28 10:07:29 WARNING(\"roots:g failed: Inf detected for output x, at (row 0, col 0).\") [.../casadi/core/oracle_function.cpp:326]\n",
      "CasADi - 2024-06-28 10:07:29 WARNING(\"roots:g failed: Inf detected for output x, at (row 0, col 0).\") [.../casadi/core/oracle_function.cpp:326]\n",
      "CasADi - 2024-06-28 10:07:29 WARNING(\"roots:g failed: Inf detected for output x, at (row 0, col 0).\") [.../casadi/core/oracle_function.cpp:326]\n"
     ]
    },
    {
     "name": "stdout",
     "output_type": "stream",
     "text": [
      "Solver failed for parameters: [6.39218750e-05 5.53828125e-05 1.91796875e-05 7.81640625e-01\n",
      " 6.05468750e-01 5.10156250e-06 5.47656250e-06 1.16132812e+03\n",
      " 2.96093750e+02 4.41406250e+00 1.44531250e+00 1.64531250e+00\n",
      " 1.57656250e+00 2.57929688e+04 5.60351562e+04] with error: Events ['Maximum voltage [V]'] are non-positive at initial conditions\n"
     ]
    },
    {
     "name": "stderr",
     "output_type": "stream",
     "text": [
      "CasADi - 2024-06-28 10:07:29 WARNING(\"roots:g failed: Inf detected for output x, at (row 0, col 0).\") [.../casadi/core/oracle_function.cpp:326]\n",
      "CasADi - 2024-06-28 10:07:29 WARNING(\"roots:g failed: Inf detected for output x, at (row 0, col 0).\") [.../casadi/core/oracle_function.cpp:326]\n",
      "CasADi - 2024-06-28 10:07:29 WARNING(\"roots:g failed: Inf detected for output x, at (row 0, col 0).\") [.../casadi/core/oracle_function.cpp:326]\n",
      "CasADi - 2024-06-28 10:07:29 WARNING(\"roots:g failed: Inf detected for output x, at (row 0, col 0).\") [.../casadi/core/oracle_function.cpp:326]\n",
      "CasADi - 2024-06-28 10:07:29 WARNING(\"roots:g failed: Inf detected for output x, at (row 0, col 0).\") [.../casadi/core/oracle_function.cpp:326]\n"
     ]
    },
    {
     "name": "stdout",
     "output_type": "stream",
     "text": [
      "Solver failed for parameters: [5.49218750e-05 5.53828125e-05 1.91796875e-05 7.81640625e-01\n",
      " 6.05468750e-01 5.10156250e-06 5.47656250e-06 1.16132812e+03\n",
      " 2.96093750e+02 4.41406250e+00 1.44531250e+00 1.64531250e+00\n",
      " 1.57656250e+00 2.57929688e+04 5.60351562e+04] with error: Events ['Maximum voltage [V]'] are non-positive at initial conditions\n"
     ]
    },
    {
     "name": "stderr",
     "output_type": "stream",
     "text": [
      "CasADi - 2024-06-28 10:07:30 WARNING(\"roots:g failed: Inf detected for output x, at (row 0, col 0).\") [.../casadi/core/oracle_function.cpp:326]\n",
      "CasADi - 2024-06-28 10:07:30 WARNING(\"roots:g failed: Inf detected for output x, at (row 0, col 0).\") [.../casadi/core/oracle_function.cpp:326]\n",
      "CasADi - 2024-06-28 10:07:30 WARNING(\"roots:g failed: Inf detected for output x, at (row 0, col 0).\") [.../casadi/core/oracle_function.cpp:326]\n",
      "CasADi - 2024-06-28 10:07:30 WARNING(\"roots:g failed: Inf detected for output x, at (row 0, col 0).\") [.../casadi/core/oracle_function.cpp:326]\n",
      "CasADi - 2024-06-28 10:07:30 WARNING(\"roots:g failed: Inf detected for output x, at (row 0, col 0).\") [.../casadi/core/oracle_function.cpp:326]\n"
     ]
    },
    {
     "name": "stdout",
     "output_type": "stream",
     "text": [
      "Solver failed for parameters: [6.39218750e-05 7.44765625e-05 1.91796875e-05 7.81640625e-01\n",
      " 6.05468750e-01 5.10156250e-06 5.47656250e-06 1.16132812e+03\n",
      " 2.96093750e+02 4.41406250e+00 1.44531250e+00 1.64531250e+00\n",
      " 1.57656250e+00 2.57929688e+04 5.60351562e+04] with error: Events ['Maximum voltage [V]'] are non-positive at initial conditions\n"
     ]
    },
    {
     "name": "stderr",
     "output_type": "stream",
     "text": [
      "CasADi - 2024-06-28 10:07:30 WARNING(\"roots:g failed: Inf detected for output x, at (row 0, col 0).\") [.../casadi/core/oracle_function.cpp:326]\n",
      "CasADi - 2024-06-28 10:07:30 WARNING(\"roots:g failed: Inf detected for output x, at (row 0, col 0).\") [.../casadi/core/oracle_function.cpp:326]\n",
      "CasADi - 2024-06-28 10:07:30 WARNING(\"roots:g failed: Inf detected for output x, at (row 0, col 0).\") [.../casadi/core/oracle_function.cpp:326]\n",
      "CasADi - 2024-06-28 10:07:30 WARNING(\"roots:g failed: Inf detected for output x, at (row 0, col 0).\") [.../casadi/core/oracle_function.cpp:326]\n",
      "CasADi - 2024-06-28 10:07:30 WARNING(\"roots:g failed: Inf detected for output x, at (row 0, col 0).\") [.../casadi/core/oracle_function.cpp:326]\n"
     ]
    },
    {
     "name": "stdout",
     "output_type": "stream",
     "text": [
      "Solver failed for parameters: [6.39218750e-05 5.53828125e-05 1.73046875e-05 7.81640625e-01\n",
      " 6.05468750e-01 5.10156250e-06 5.47656250e-06 1.16132812e+03\n",
      " 2.96093750e+02 4.41406250e+00 1.44531250e+00 1.64531250e+00\n",
      " 1.57656250e+00 2.57929688e+04 5.60351562e+04] with error: Events ['Maximum voltage [V]'] are non-positive at initial conditions\n"
     ]
    },
    {
     "name": "stderr",
     "output_type": "stream",
     "text": [
      "CasADi - 2024-06-28 10:07:31 WARNING(\"roots:g failed: Inf detected for output x, at (row 0, col 0).\") [.../casadi/core/oracle_function.cpp:326]\n",
      "CasADi - 2024-06-28 10:07:31 WARNING(\"roots:g failed: Inf detected for output x, at (row 0, col 0).\") [.../casadi/core/oracle_function.cpp:326]\n",
      "CasADi - 2024-06-28 10:07:31 WARNING(\"roots:g failed: Inf detected for output x, at (row 0, col 0).\") [.../casadi/core/oracle_function.cpp:326]\n",
      "CasADi - 2024-06-28 10:07:31 WARNING(\"roots:g failed: Inf detected for output x, at (row 0, col 0).\") [.../casadi/core/oracle_function.cpp:326]\n",
      "CasADi - 2024-06-28 10:07:31 WARNING(\"roots:g failed: Inf detected for output x, at (row 0, col 0).\") [.../casadi/core/oracle_function.cpp:326]\n"
     ]
    },
    {
     "name": "stdout",
     "output_type": "stream",
     "text": [
      "Solver failed for parameters: [6.39218750e-05 5.53828125e-05 1.91796875e-05 7.95703125e-01\n",
      " 6.05468750e-01 5.10156250e-06 5.47656250e-06 1.16132812e+03\n",
      " 2.96093750e+02 4.41406250e+00 1.44531250e+00 1.64531250e+00\n",
      " 1.57656250e+00 2.57929688e+04 5.60351562e+04] with error: Events ['Maximum voltage [V]'] are non-positive at initial conditions\n"
     ]
    },
    {
     "name": "stderr",
     "output_type": "stream",
     "text": [
      "CasADi - 2024-06-28 10:07:31 WARNING(\"roots:g failed: Inf detected for output x, at (row 0, col 0).\") [.../casadi/core/oracle_function.cpp:326]\n",
      "CasADi - 2024-06-28 10:07:31 WARNING(\"roots:g failed: Inf detected for output x, at (row 0, col 0).\") [.../casadi/core/oracle_function.cpp:326]\n",
      "CasADi - 2024-06-28 10:07:31 WARNING(\"roots:g failed: Inf detected for output x, at (row 0, col 0).\") [.../casadi/core/oracle_function.cpp:326]\n",
      "CasADi - 2024-06-28 10:07:31 WARNING(\"roots:g failed: Inf detected for output x, at (row 0, col 0).\") [.../casadi/core/oracle_function.cpp:326]\n",
      "CasADi - 2024-06-28 10:07:31 WARNING(\"roots:g failed: Inf detected for output x, at (row 0, col 0).\") [.../casadi/core/oracle_function.cpp:326]\n"
     ]
    },
    {
     "name": "stdout",
     "output_type": "stream",
     "text": [
      "Solver failed for parameters: [6.39218750e-05 5.53828125e-05 1.91796875e-05 7.81640625e-01\n",
      " 6.36718750e-01 5.10156250e-06 5.47656250e-06 1.16132812e+03\n",
      " 2.96093750e+02 4.41406250e+00 1.44531250e+00 1.64531250e+00\n",
      " 1.57656250e+00 2.57929688e+04 5.60351562e+04] with error: Events ['Maximum voltage [V]'] are non-positive at initial conditions\n"
     ]
    },
    {
     "name": "stderr",
     "output_type": "stream",
     "text": [
      "CasADi - 2024-06-28 10:07:32 WARNING(\"roots:g failed: Inf detected for output x, at (row 0, col 0).\") [.../casadi/core/oracle_function.cpp:326]\n",
      "CasADi - 2024-06-28 10:07:32 WARNING(\"roots:g failed: Inf detected for output x, at (row 0, col 0).\") [.../casadi/core/oracle_function.cpp:326]\n",
      "CasADi - 2024-06-28 10:07:32 WARNING(\"roots:g failed: Inf detected for output x, at (row 0, col 0).\") [.../casadi/core/oracle_function.cpp:326]\n",
      "CasADi - 2024-06-28 10:07:32 WARNING(\"roots:g failed: Inf detected for output x, at (row 0, col 0).\") [.../casadi/core/oracle_function.cpp:326]\n",
      "CasADi - 2024-06-28 10:07:32 WARNING(\"roots:g failed: Inf detected for output x, at (row 0, col 0).\") [.../casadi/core/oracle_function.cpp:326]\n"
     ]
    },
    {
     "name": "stdout",
     "output_type": "stream",
     "text": [
      "Solver failed for parameters: [6.39218750e-05 5.53828125e-05 1.91796875e-05 7.81640625e-01\n",
      " 6.05468750e-01 5.96093750e-06 5.47656250e-06 1.16132812e+03\n",
      " 2.96093750e+02 4.41406250e+00 1.44531250e+00 1.64531250e+00\n",
      " 1.57656250e+00 2.57929688e+04 5.60351562e+04] with error: Events ['Maximum voltage [V]'] are non-positive at initial conditions\n"
     ]
    },
    {
     "name": "stderr",
     "output_type": "stream",
     "text": [
      "CasADi - 2024-06-28 10:07:32 WARNING(\"roots:g failed: Inf detected for output x, at (row 0, col 0).\") [.../casadi/core/oracle_function.cpp:326]\n",
      "CasADi - 2024-06-28 10:07:32 WARNING(\"roots:g failed: Inf detected for output x, at (row 0, col 0).\") [.../casadi/core/oracle_function.cpp:326]\n",
      "CasADi - 2024-06-28 10:07:32 WARNING(\"roots:g failed: Inf detected for output x, at (row 0, col 0).\") [.../casadi/core/oracle_function.cpp:326]\n",
      "CasADi - 2024-06-28 10:07:32 WARNING(\"roots:g failed: Inf detected for output x, at (row 0, col 0).\") [.../casadi/core/oracle_function.cpp:326]\n",
      "CasADi - 2024-06-28 10:07:32 WARNING(\"roots:g failed: Inf detected for output x, at (row 0, col 0).\") [.../casadi/core/oracle_function.cpp:326]\n"
     ]
    },
    {
     "name": "stdout",
     "output_type": "stream",
     "text": [
      "Solver failed for parameters: [6.39218750e-05 5.53828125e-05 1.91796875e-05 7.81640625e-01\n",
      " 6.05468750e-01 5.10156250e-06 4.36718750e-06 1.16132812e+03\n",
      " 2.96093750e+02 4.41406250e+00 1.44531250e+00 1.64531250e+00\n",
      " 1.57656250e+00 2.57929688e+04 5.60351562e+04] with error: Events ['Maximum voltage [V]'] are non-positive at initial conditions\n"
     ]
    },
    {
     "name": "stderr",
     "output_type": "stream",
     "text": [
      "CasADi - 2024-06-28 10:07:33 WARNING(\"roots:g failed: Inf detected for output x, at (row 0, col 0).\") [.../casadi/core/oracle_function.cpp:326]\n",
      "CasADi - 2024-06-28 10:07:33 WARNING(\"roots:g failed: Inf detected for output x, at (row 0, col 0).\") [.../casadi/core/oracle_function.cpp:326]\n",
      "CasADi - 2024-06-28 10:07:33 WARNING(\"roots:g failed: Inf detected for output x, at (row 0, col 0).\") [.../casadi/core/oracle_function.cpp:326]\n",
      "CasADi - 2024-06-28 10:07:33 WARNING(\"roots:g failed: Inf detected for output x, at (row 0, col 0).\") [.../casadi/core/oracle_function.cpp:326]\n",
      "CasADi - 2024-06-28 10:07:33 WARNING(\"roots:g failed: Inf detected for output x, at (row 0, col 0).\") [.../casadi/core/oracle_function.cpp:326]\n"
     ]
    },
    {
     "name": "stdout",
     "output_type": "stream",
     "text": [
      "Solver failed for parameters: [6.39218750e-05 5.53828125e-05 1.91796875e-05 7.81640625e-01\n",
      " 6.05468750e-01 5.10156250e-06 5.47656250e-06 1.05351562e+03\n",
      " 2.96093750e+02 4.41406250e+00 1.44531250e+00 1.64531250e+00\n",
      " 1.57656250e+00 2.57929688e+04 5.60351562e+04] with error: Events ['Maximum voltage [V]'] are non-positive at initial conditions\n"
     ]
    },
    {
     "name": "stderr",
     "output_type": "stream",
     "text": [
      "CasADi - 2024-06-28 10:07:33 WARNING(\"roots:g failed: Inf detected for output x, at (row 0, col 0).\") [.../casadi/core/oracle_function.cpp:326]\n",
      "CasADi - 2024-06-28 10:07:33 WARNING(\"roots:g failed: Inf detected for output x, at (row 0, col 0).\") [.../casadi/core/oracle_function.cpp:326]\n",
      "CasADi - 2024-06-28 10:07:33 WARNING(\"roots:g failed: Inf detected for output x, at (row 0, col 0).\") [.../casadi/core/oracle_function.cpp:326]\n",
      "CasADi - 2024-06-28 10:07:33 WARNING(\"roots:g failed: Inf detected for output x, at (row 0, col 0).\") [.../casadi/core/oracle_function.cpp:326]\n",
      "CasADi - 2024-06-28 10:07:33 WARNING(\"roots:g failed: Inf detected for output x, at (row 0, col 0).\") [.../casadi/core/oracle_function.cpp:326]\n"
     ]
    },
    {
     "name": "stdout",
     "output_type": "stream",
     "text": [
      "Solver failed for parameters: [6.39218750e-05 5.53828125e-05 1.91796875e-05 7.81640625e-01\n",
      " 6.05468750e-01 5.10156250e-06 5.47656250e-06 1.16132812e+03\n",
      " 1.11718750e+02 4.41406250e+00 1.44531250e+00 1.64531250e+00\n",
      " 1.57656250e+00 2.57929688e+04 5.60351562e+04] with error: Events ['Maximum voltage [V]'] are non-positive at initial conditions\n"
     ]
    },
    {
     "name": "stderr",
     "output_type": "stream",
     "text": [
      "CasADi - 2024-06-28 10:07:34 WARNING(\"roots:g failed: Inf detected for output x, at (row 0, col 0).\") [.../casadi/core/oracle_function.cpp:326]\n",
      "CasADi - 2024-06-28 10:07:34 WARNING(\"roots:g failed: Inf detected for output x, at (row 0, col 0).\") [.../casadi/core/oracle_function.cpp:326]\n",
      "CasADi - 2024-06-28 10:07:34 WARNING(\"roots:g failed: Inf detected for output x, at (row 0, col 0).\") [.../casadi/core/oracle_function.cpp:326]\n",
      "CasADi - 2024-06-28 10:07:34 WARNING(\"roots:g failed: Inf detected for output x, at (row 0, col 0).\") [.../casadi/core/oracle_function.cpp:326]\n",
      "CasADi - 2024-06-28 10:07:34 WARNING(\"roots:g failed: Inf detected for output x, at (row 0, col 0).\") [.../casadi/core/oracle_function.cpp:326]\n"
     ]
    },
    {
     "name": "stdout",
     "output_type": "stream",
     "text": [
      "Solver failed for parameters: [6.39218750e-05 5.53828125e-05 1.91796875e-05 7.81640625e-01\n",
      " 6.05468750e-01 5.10156250e-06 5.47656250e-06 1.16132812e+03\n",
      " 2.96093750e+02 2.92968750e+00 1.44531250e+00 1.64531250e+00\n",
      " 1.57656250e+00 2.57929688e+04 5.60351562e+04] with error: Events ['Maximum voltage [V]'] are non-positive at initial conditions\n"
     ]
    },
    {
     "name": "stderr",
     "output_type": "stream",
     "text": [
      "CasADi - 2024-06-28 10:07:34 WARNING(\"roots:g failed: Inf detected for output x, at (row 0, col 0).\") [.../casadi/core/oracle_function.cpp:326]\n",
      "CasADi - 2024-06-28 10:07:34 WARNING(\"roots:g failed: Inf detected for output x, at (row 0, col 0).\") [.../casadi/core/oracle_function.cpp:326]\n",
      "CasADi - 2024-06-28 10:07:34 WARNING(\"roots:g failed: Inf detected for output x, at (row 0, col 0).\") [.../casadi/core/oracle_function.cpp:326]\n",
      "CasADi - 2024-06-28 10:07:34 WARNING(\"roots:g failed: Inf detected for output x, at (row 0, col 0).\") [.../casadi/core/oracle_function.cpp:326]\n",
      "CasADi - 2024-06-28 10:07:34 WARNING(\"roots:g failed: Inf detected for output x, at (row 0, col 0).\") [.../casadi/core/oracle_function.cpp:326]\n"
     ]
    },
    {
     "name": "stdout",
     "output_type": "stream",
     "text": [
      "Solver failed for parameters: [6.39218750e-05 5.53828125e-05 1.91796875e-05 7.81640625e-01\n",
      " 6.05468750e-01 5.10156250e-06 5.47656250e-06 1.16132812e+03\n",
      " 2.96093750e+02 4.41406250e+00 1.42343750e+00 1.64531250e+00\n",
      " 1.57656250e+00 2.57929688e+04 5.60351562e+04] with error: Events ['Maximum voltage [V]'] are non-positive at initial conditions\n"
     ]
    },
    {
     "name": "stderr",
     "output_type": "stream",
     "text": [
      "CasADi - 2024-06-28 10:07:34 WARNING(\"roots:g failed: Inf detected for output x, at (row 0, col 0).\") [.../casadi/core/oracle_function.cpp:326]\n",
      "CasADi - 2024-06-28 10:07:34 WARNING(\"roots:g failed: Inf detected for output x, at (row 0, col 0).\") [.../casadi/core/oracle_function.cpp:326]\n",
      "CasADi - 2024-06-28 10:07:34 WARNING(\"roots:g failed: Inf detected for output x, at (row 0, col 0).\") [.../casadi/core/oracle_function.cpp:326]\n",
      "CasADi - 2024-06-28 10:07:34 WARNING(\"roots:g failed: Inf detected for output x, at (row 0, col 0).\") [.../casadi/core/oracle_function.cpp:326]\n",
      "CasADi - 2024-06-28 10:07:34 WARNING(\"roots:g failed: Inf detected for output x, at (row 0, col 0).\") [.../casadi/core/oracle_function.cpp:326]\n"
     ]
    },
    {
     "name": "stdout",
     "output_type": "stream",
     "text": [
      "Solver failed for parameters: [6.39218750e-05 5.53828125e-05 1.91796875e-05 7.81640625e-01\n",
      " 6.05468750e-01 5.10156250e-06 5.47656250e-06 1.16132812e+03\n",
      " 2.96093750e+02 4.41406250e+00 1.44531250e+00 1.48593750e+00\n",
      " 1.57656250e+00 2.57929688e+04 5.60351562e+04] with error: Events ['Maximum voltage [V]'] are non-positive at initial conditions\n"
     ]
    },
    {
     "name": "stderr",
     "output_type": "stream",
     "text": [
      "CasADi - 2024-06-28 10:07:35 WARNING(\"roots:g failed: Inf detected for output x, at (row 0, col 0).\") [.../casadi/core/oracle_function.cpp:326]\n",
      "CasADi - 2024-06-28 10:07:35 WARNING(\"roots:g failed: Inf detected for output x, at (row 0, col 0).\") [.../casadi/core/oracle_function.cpp:326]\n",
      "CasADi - 2024-06-28 10:07:35 WARNING(\"roots:g failed: Inf detected for output x, at (row 0, col 0).\") [.../casadi/core/oracle_function.cpp:326]\n",
      "CasADi - 2024-06-28 10:07:35 WARNING(\"roots:g failed: Inf detected for output x, at (row 0, col 0).\") [.../casadi/core/oracle_function.cpp:326]\n",
      "CasADi - 2024-06-28 10:07:35 WARNING(\"roots:g failed: Inf detected for output x, at (row 0, col 0).\") [.../casadi/core/oracle_function.cpp:326]\n"
     ]
    },
    {
     "name": "stdout",
     "output_type": "stream",
     "text": [
      "Solver failed for parameters: [6.39218750e-05 5.53828125e-05 1.91796875e-05 7.81640625e-01\n",
      " 6.05468750e-01 5.10156250e-06 5.47656250e-06 1.16132812e+03\n",
      " 2.96093750e+02 4.41406250e+00 1.44531250e+00 1.64531250e+00\n",
      " 1.33593750e+00 2.57929688e+04 5.60351562e+04] with error: Events ['Maximum voltage [V]'] are non-positive at initial conditions\n"
     ]
    },
    {
     "name": "stderr",
     "output_type": "stream",
     "text": [
      "CasADi - 2024-06-28 10:07:37 WARNING(\"roots:g failed: Inf detected for output x, at (row 0, col 0).\") [.../casadi/core/oracle_function.cpp:326]\n",
      "CasADi - 2024-06-28 10:07:37 WARNING(\"roots:g failed: Inf detected for output x, at (row 0, col 0).\") [.../casadi/core/oracle_function.cpp:326]\n",
      "CasADi - 2024-06-28 10:07:37 WARNING(\"roots:g failed: Inf detected for output x, at (row 0, col 0).\") [.../casadi/core/oracle_function.cpp:326]\n",
      "CasADi - 2024-06-28 10:07:37 WARNING(\"roots:g failed: Inf detected for output x, at (row 0, col 0).\") [.../casadi/core/oracle_function.cpp:326]\n",
      "CasADi - 2024-06-28 10:07:37 WARNING(\"roots:g failed: Inf detected for output x, at (row 0, col 0).\") [.../casadi/core/oracle_function.cpp:326]\n"
     ]
    },
    {
     "name": "stdout",
     "output_type": "stream",
     "text": [
      "Solver failed for parameters: [6.39218750e-05 5.53828125e-05 1.91796875e-05 7.81640625e-01\n",
      " 6.05468750e-01 5.10156250e-06 5.47656250e-06 1.16132812e+03\n",
      " 2.96093750e+02 4.41406250e+00 1.44531250e+00 1.64531250e+00\n",
      " 1.57656250e+00 2.57929688e+04 5.66210938e+04] with error: Events ['Maximum voltage [V]'] are non-positive at initial conditions\n"
     ]
    },
    {
     "name": "stderr",
     "output_type": "stream",
     "text": [
      "CasADi - 2024-06-28 10:07:54 WARNING(\"roots:g failed: Inf detected for output x, at (row 0, col 0).\") [.../casadi/core/oracle_function.cpp:326]\n",
      "CasADi - 2024-06-28 10:07:54 WARNING(\"roots:g failed: Inf detected for output x, at (row 0, col 0).\") [.../casadi/core/oracle_function.cpp:326]\n",
      "CasADi - 2024-06-28 10:07:54 WARNING(\"roots:g failed: Inf detected for output x, at (row 0, col 0).\") [.../casadi/core/oracle_function.cpp:326]\n",
      "CasADi - 2024-06-28 10:07:54 WARNING(\"roots:g failed: Inf detected for output x, at (row 0, col 0).\") [.../casadi/core/oracle_function.cpp:326]\n",
      "CasADi - 2024-06-28 10:07:54 WARNING(\"roots:g failed: Inf detected for output x, at (row 0, col 0).\") [.../casadi/core/oracle_function.cpp:326]\n"
     ]
    },
    {
     "name": "stdout",
     "output_type": "stream",
     "text": [
      "Solver failed for parameters: [5.49218750e-05 7.44765625e-05 1.73046875e-05 7.95703125e-01\n",
      " 6.36718750e-01 5.96093750e-06 4.36718750e-06 1.05351562e+03\n",
      " 1.11718750e+02 2.92968750e+00 1.42343750e+00 1.48593750e+00\n",
      " 1.33593750e+00 2.57929688e+04 5.66210938e+04] with error: Events ['Maximum voltage [V]'] are non-positive at initial conditions\n"
     ]
    },
    {
     "name": "stderr",
     "output_type": "stream",
     "text": [
      "CasADi - 2024-06-28 10:08:16 WARNING(\"roots:g failed: Inf detected for output x, at (row 0, col 0).\") [.../casadi/core/oracle_function.cpp:326]\n",
      "CasADi - 2024-06-28 10:08:16 WARNING(\"roots:g failed: Inf detected for output x, at (row 0, col 0).\") [.../casadi/core/oracle_function.cpp:326]\n",
      "CasADi - 2024-06-28 10:08:16 WARNING(\"roots:g failed: Inf detected for output x, at (row 0, col 0).\") [.../casadi/core/oracle_function.cpp:326]\n",
      "CasADi - 2024-06-28 10:08:16 WARNING(\"roots:g failed: Inf detected for output x, at (row 0, col 0).\") [.../casadi/core/oracle_function.cpp:326]\n"
     ]
    },
    {
     "name": "stdout",
     "output_type": "stream",
     "text": [
      "Solver failed for parameters: [8.19218750e-05 6.83828125e-05 1.41796875e-05 7.31640625e-01\n",
      " 5.05468750e-01 4.10156250e-06 4.47656250e-06 1.01132812e+03\n",
      " 1.96093750e+02 9.41406250e+00 1.64531250e+00 1.44531250e+00\n",
      " 1.37656250e+00 2.44179688e+04 6.35351562e+04] with error: Events ['Maximum voltage [V]'] are non-positive at initial conditions\n"
     ]
    },
    {
     "name": "stderr",
     "output_type": "stream",
     "text": [
      "CasADi - 2024-06-28 10:08:18 WARNING(\"roots:g failed: Inf detected for output x, at (row 0, col 0).\") [.../casadi/core/oracle_function.cpp:326]\n",
      "CasADi - 2024-06-28 10:08:18 WARNING(\"roots:g failed: Inf detected for output x, at (row 0, col 0).\") [.../casadi/core/oracle_function.cpp:326]\n",
      "CasADi - 2024-06-28 10:08:18 WARNING(\"roots:g failed: Inf detected for output x, at (row 0, col 0).\") [.../casadi/core/oracle_function.cpp:326]\n",
      "CasADi - 2024-06-28 10:08:18 WARNING(\"roots:g failed: Inf detected for output x, at (row 0, col 0).\") [.../casadi/core/oracle_function.cpp:326]\n",
      "CasADi - 2024-06-28 10:08:18 WARNING(\"roots:g failed: Inf detected for output x, at (row 0, col 0).\") [.../casadi/core/oracle_function.cpp:326]\n"
     ]
    },
    {
     "name": "stdout",
     "output_type": "stream",
     "text": [
      "Solver failed for parameters: [8.19218750e-05 6.14765625e-05 1.23046875e-05 7.45703125e-01\n",
      " 5.36718750e-01 4.96093750e-06 5.36718750e-06 9.03515625e+02\n",
      " 2.11718750e+02 7.92968750e+00 1.62343750e+00 1.68593750e+00\n",
      " 1.53593750e+00 2.44179688e+04 6.41210938e+04] with error: Events ['Maximum voltage [V]'] are non-positive at initial conditions\n"
     ]
    },
    {
     "name": "stderr",
     "output_type": "stream",
     "text": [
      "CasADi - 2024-06-28 10:08:18 WARNING(\"roots:g failed: Inf detected for output x, at (row 0, col 0).\") [.../casadi/core/oracle_function.cpp:326]\n",
      "CasADi - 2024-06-28 10:08:18 WARNING(\"roots:g failed: Inf detected for output x, at (row 0, col 0).\") [.../casadi/core/oracle_function.cpp:326]\n",
      "CasADi - 2024-06-28 10:08:18 WARNING(\"roots:g failed: Inf detected for output x, at (row 0, col 0).\") [.../casadi/core/oracle_function.cpp:326]\n",
      "CasADi - 2024-06-28 10:08:18 WARNING(\"roots:g failed: Inf detected for output x, at (row 0, col 0).\") [.../casadi/core/oracle_function.cpp:326]\n",
      "CasADi - 2024-06-28 10:08:18 WARNING(\"roots:g failed: Inf detected for output x, at (row 0, col 0).\") [.../casadi/core/oracle_function.cpp:326]\n"
     ]
    },
    {
     "name": "stdout",
     "output_type": "stream",
     "text": [
      "Solver failed for parameters: [7.29218750e-05 6.83828125e-05 1.23046875e-05 7.45703125e-01\n",
      " 5.36718750e-01 4.96093750e-06 5.36718750e-06 9.03515625e+02\n",
      " 2.11718750e+02 7.92968750e+00 1.62343750e+00 1.68593750e+00\n",
      " 1.53593750e+00 2.44179688e+04 6.41210938e+04] with error: Events ['Maximum voltage [V]'] are non-positive at initial conditions\n"
     ]
    },
    {
     "name": "stderr",
     "output_type": "stream",
     "text": [
      "CasADi - 2024-06-28 10:08:18 WARNING(\"roots:g failed: Inf detected for output x, at (row 0, col 0).\") [.../casadi/core/oracle_function.cpp:326]\n",
      "CasADi - 2024-06-28 10:08:18 WARNING(\"roots:g failed: Inf detected for output x, at (row 0, col 0).\") [.../casadi/core/oracle_function.cpp:326]\n",
      "CasADi - 2024-06-28 10:08:18 WARNING(\"roots:g failed: Inf detected for output x, at (row 0, col 0).\") [.../casadi/core/oracle_function.cpp:326]\n",
      "CasADi - 2024-06-28 10:08:18 WARNING(\"roots:g failed: Inf detected for output x, at (row 0, col 0).\") [.../casadi/core/oracle_function.cpp:326]\n",
      "CasADi - 2024-06-28 10:08:18 WARNING(\"roots:g failed: Inf detected for output x, at (row 0, col 0).\") [.../casadi/core/oracle_function.cpp:326]\n"
     ]
    },
    {
     "name": "stdout",
     "output_type": "stream",
     "text": [
      "Solver failed for parameters: [7.29218750e-05 6.14765625e-05 1.41796875e-05 7.45703125e-01\n",
      " 5.36718750e-01 4.96093750e-06 5.36718750e-06 9.03515625e+02\n",
      " 2.11718750e+02 7.92968750e+00 1.62343750e+00 1.68593750e+00\n",
      " 1.53593750e+00 2.44179688e+04 6.41210938e+04] with error: Events ['Maximum voltage [V]'] are non-positive at initial conditions\n"
     ]
    },
    {
     "name": "stderr",
     "output_type": "stream",
     "text": [
      "CasADi - 2024-06-28 10:08:19 WARNING(\"roots:g failed: Inf detected for output x, at (row 0, col 0).\") [.../casadi/core/oracle_function.cpp:326]\n",
      "CasADi - 2024-06-28 10:08:19 WARNING(\"roots:g failed: Inf detected for output x, at (row 0, col 0).\") [.../casadi/core/oracle_function.cpp:326]\n",
      "CasADi - 2024-06-28 10:08:19 WARNING(\"roots:g failed: Inf detected for output x, at (row 0, col 0).\") [.../casadi/core/oracle_function.cpp:326]\n",
      "CasADi - 2024-06-28 10:08:19 WARNING(\"roots:g failed: Inf detected for output x, at (row 0, col 0).\") [.../casadi/core/oracle_function.cpp:326]\n",
      "CasADi - 2024-06-28 10:08:19 WARNING(\"roots:g failed: Inf detected for output x, at (row 0, col 0).\") [.../casadi/core/oracle_function.cpp:326]\n"
     ]
    },
    {
     "name": "stdout",
     "output_type": "stream",
     "text": [
      "Solver failed for parameters: [7.29218750e-05 6.14765625e-05 1.23046875e-05 7.31640625e-01\n",
      " 5.36718750e-01 4.96093750e-06 5.36718750e-06 9.03515625e+02\n",
      " 2.11718750e+02 7.92968750e+00 1.62343750e+00 1.68593750e+00\n",
      " 1.53593750e+00 2.44179688e+04 6.41210938e+04] with error: Events ['Maximum voltage [V]'] are non-positive at initial conditions\n"
     ]
    },
    {
     "name": "stderr",
     "output_type": "stream",
     "text": [
      "CasADi - 2024-06-28 10:08:19 WARNING(\"roots:g failed: Inf detected for output x, at (row 0, col 0).\") [.../casadi/core/oracle_function.cpp:326]\n",
      "CasADi - 2024-06-28 10:08:19 WARNING(\"roots:g failed: Inf detected for output x, at (row 0, col 0).\") [.../casadi/core/oracle_function.cpp:326]\n",
      "CasADi - 2024-06-28 10:08:19 WARNING(\"roots:g failed: Inf detected for output x, at (row 0, col 0).\") [.../casadi/core/oracle_function.cpp:326]\n",
      "CasADi - 2024-06-28 10:08:19 WARNING(\"roots:g failed: Inf detected for output x, at (row 0, col 0).\") [.../casadi/core/oracle_function.cpp:326]\n",
      "CasADi - 2024-06-28 10:08:19 WARNING(\"roots:g failed: Inf detected for output x, at (row 0, col 0).\") [.../casadi/core/oracle_function.cpp:326]\n"
     ]
    },
    {
     "name": "stdout",
     "output_type": "stream",
     "text": [
      "Solver failed for parameters: [7.29218750e-05 6.14765625e-05 1.23046875e-05 7.45703125e-01\n",
      " 5.05468750e-01 4.96093750e-06 5.36718750e-06 9.03515625e+02\n",
      " 2.11718750e+02 7.92968750e+00 1.62343750e+00 1.68593750e+00\n",
      " 1.53593750e+00 2.44179688e+04 6.41210938e+04] with error: Events ['Maximum voltage [V]'] are non-positive at initial conditions\n"
     ]
    },
    {
     "name": "stderr",
     "output_type": "stream",
     "text": [
      "CasADi - 2024-06-28 10:08:20 WARNING(\"roots:g failed: Inf detected for output x, at (row 0, col 0).\") [.../casadi/core/oracle_function.cpp:326]\n",
      "CasADi - 2024-06-28 10:08:20 WARNING(\"roots:g failed: Inf detected for output x, at (row 0, col 0).\") [.../casadi/core/oracle_function.cpp:326]\n",
      "CasADi - 2024-06-28 10:08:20 WARNING(\"roots:g failed: Inf detected for output x, at (row 0, col 0).\") [.../casadi/core/oracle_function.cpp:326]\n",
      "CasADi - 2024-06-28 10:08:20 WARNING(\"roots:g failed: Inf detected for output x, at (row 0, col 0).\") [.../casadi/core/oracle_function.cpp:326]\n",
      "CasADi - 2024-06-28 10:08:20 WARNING(\"roots:g failed: Inf detected for output x, at (row 0, col 0).\") [.../casadi/core/oracle_function.cpp:326]\n"
     ]
    },
    {
     "name": "stdout",
     "output_type": "stream",
     "text": [
      "Solver failed for parameters: [7.29218750e-05 6.14765625e-05 1.23046875e-05 7.45703125e-01\n",
      " 5.36718750e-01 4.10156250e-06 5.36718750e-06 9.03515625e+02\n",
      " 2.11718750e+02 7.92968750e+00 1.62343750e+00 1.68593750e+00\n",
      " 1.53593750e+00 2.44179688e+04 6.41210938e+04] with error: Events ['Maximum voltage [V]'] are non-positive at initial conditions\n"
     ]
    },
    {
     "name": "stderr",
     "output_type": "stream",
     "text": [
      "CasADi - 2024-06-28 10:08:20 WARNING(\"roots:g failed: Inf detected for output x, at (row 0, col 0).\") [.../casadi/core/oracle_function.cpp:326]\n",
      "CasADi - 2024-06-28 10:08:20 WARNING(\"roots:g failed: Inf detected for output x, at (row 0, col 0).\") [.../casadi/core/oracle_function.cpp:326]\n",
      "CasADi - 2024-06-28 10:08:20 WARNING(\"roots:g failed: Inf detected for output x, at (row 0, col 0).\") [.../casadi/core/oracle_function.cpp:326]\n",
      "CasADi - 2024-06-28 10:08:20 WARNING(\"roots:g failed: Inf detected for output x, at (row 0, col 0).\") [.../casadi/core/oracle_function.cpp:326]\n",
      "CasADi - 2024-06-28 10:08:20 WARNING(\"roots:g failed: Inf detected for output x, at (row 0, col 0).\") [.../casadi/core/oracle_function.cpp:326]\n"
     ]
    },
    {
     "name": "stdout",
     "output_type": "stream",
     "text": [
      "Solver failed for parameters: [7.29218750e-05 6.14765625e-05 1.23046875e-05 7.45703125e-01\n",
      " 5.36718750e-01 4.96093750e-06 4.47656250e-06 9.03515625e+02\n",
      " 2.11718750e+02 7.92968750e+00 1.62343750e+00 1.68593750e+00\n",
      " 1.53593750e+00 2.44179688e+04 6.41210938e+04] with error: Events ['Maximum voltage [V]'] are non-positive at initial conditions\n"
     ]
    },
    {
     "name": "stderr",
     "output_type": "stream",
     "text": [
      "CasADi - 2024-06-28 10:08:21 WARNING(\"roots:g failed: Inf detected for output x, at (row 0, col 0).\") [.../casadi/core/oracle_function.cpp:326]\n",
      "CasADi - 2024-06-28 10:08:21 WARNING(\"roots:g failed: Inf detected for output x, at (row 0, col 0).\") [.../casadi/core/oracle_function.cpp:326]\n",
      "CasADi - 2024-06-28 10:08:21 WARNING(\"roots:g failed: Inf detected for output x, at (row 0, col 0).\") [.../casadi/core/oracle_function.cpp:326]\n",
      "CasADi - 2024-06-28 10:08:21 WARNING(\"roots:g failed: Inf detected for output x, at (row 0, col 0).\") [.../casadi/core/oracle_function.cpp:326]\n",
      "CasADi - 2024-06-28 10:08:21 WARNING(\"roots:g failed: Inf detected for output x, at (row 0, col 0).\") [.../casadi/core/oracle_function.cpp:326]\n"
     ]
    },
    {
     "name": "stdout",
     "output_type": "stream",
     "text": [
      "Solver failed for parameters: [7.29218750e-05 6.14765625e-05 1.23046875e-05 7.45703125e-01\n",
      " 5.36718750e-01 4.96093750e-06 5.36718750e-06 1.01132812e+03\n",
      " 2.11718750e+02 7.92968750e+00 1.62343750e+00 1.68593750e+00\n",
      " 1.53593750e+00 2.44179688e+04 6.41210938e+04] with error: Events ['Maximum voltage [V]'] are non-positive at initial conditions\n"
     ]
    },
    {
     "name": "stderr",
     "output_type": "stream",
     "text": [
      "CasADi - 2024-06-28 10:08:21 WARNING(\"roots:g failed: Inf detected for output x, at (row 0, col 0).\") [.../casadi/core/oracle_function.cpp:326]\n",
      "CasADi - 2024-06-28 10:08:21 WARNING(\"roots:g failed: Inf detected for output x, at (row 0, col 0).\") [.../casadi/core/oracle_function.cpp:326]\n",
      "CasADi - 2024-06-28 10:08:21 WARNING(\"roots:g failed: Inf detected for output x, at (row 0, col 0).\") [.../casadi/core/oracle_function.cpp:326]\n",
      "CasADi - 2024-06-28 10:08:21 WARNING(\"roots:g failed: Inf detected for output x, at (row 0, col 0).\") [.../casadi/core/oracle_function.cpp:326]\n",
      "CasADi - 2024-06-28 10:08:21 WARNING(\"roots:g failed: Inf detected for output x, at (row 0, col 0).\") [.../casadi/core/oracle_function.cpp:326]\n"
     ]
    },
    {
     "name": "stdout",
     "output_type": "stream",
     "text": [
      "Solver failed for parameters: [7.29218750e-05 6.14765625e-05 1.23046875e-05 7.45703125e-01\n",
      " 5.36718750e-01 4.96093750e-06 5.36718750e-06 9.03515625e+02\n",
      " 1.96093750e+02 7.92968750e+00 1.62343750e+00 1.68593750e+00\n",
      " 1.53593750e+00 2.44179688e+04 6.41210938e+04] with error: Events ['Maximum voltage [V]'] are non-positive at initial conditions\n"
     ]
    },
    {
     "name": "stderr",
     "output_type": "stream",
     "text": [
      "CasADi - 2024-06-28 10:08:22 WARNING(\"roots:g failed: Inf detected for output x, at (row 0, col 0).\") [.../casadi/core/oracle_function.cpp:326]\n",
      "CasADi - 2024-06-28 10:08:22 WARNING(\"roots:g failed: Inf detected for output x, at (row 0, col 0).\") [.../casadi/core/oracle_function.cpp:326]\n",
      "CasADi - 2024-06-28 10:08:22 WARNING(\"roots:g failed: Inf detected for output x, at (row 0, col 0).\") [.../casadi/core/oracle_function.cpp:326]\n",
      "CasADi - 2024-06-28 10:08:22 WARNING(\"roots:g failed: Inf detected for output x, at (row 0, col 0).\") [.../casadi/core/oracle_function.cpp:326]\n",
      "CasADi - 2024-06-28 10:08:22 WARNING(\"roots:g failed: Inf detected for output x, at (row 0, col 0).\") [.../casadi/core/oracle_function.cpp:326]\n"
     ]
    },
    {
     "name": "stdout",
     "output_type": "stream",
     "text": [
      "Solver failed for parameters: [7.29218750e-05 6.14765625e-05 1.23046875e-05 7.45703125e-01\n",
      " 5.36718750e-01 4.96093750e-06 5.36718750e-06 9.03515625e+02\n",
      " 2.11718750e+02 9.41406250e+00 1.62343750e+00 1.68593750e+00\n",
      " 1.53593750e+00 2.44179688e+04 6.41210938e+04] with error: Events ['Maximum voltage [V]'] are non-positive at initial conditions\n"
     ]
    },
    {
     "name": "stderr",
     "output_type": "stream",
     "text": [
      "CasADi - 2024-06-28 10:08:22 WARNING(\"roots:g failed: Inf detected for output x, at (row 0, col 0).\") [.../casadi/core/oracle_function.cpp:326]\n",
      "CasADi - 2024-06-28 10:08:22 WARNING(\"roots:g failed: Inf detected for output x, at (row 0, col 0).\") [.../casadi/core/oracle_function.cpp:326]\n",
      "CasADi - 2024-06-28 10:08:22 WARNING(\"roots:g failed: Inf detected for output x, at (row 0, col 0).\") [.../casadi/core/oracle_function.cpp:326]\n",
      "CasADi - 2024-06-28 10:08:22 WARNING(\"roots:g failed: Inf detected for output x, at (row 0, col 0).\") [.../casadi/core/oracle_function.cpp:326]\n",
      "CasADi - 2024-06-28 10:08:22 WARNING(\"roots:g failed: Inf detected for output x, at (row 0, col 0).\") [.../casadi/core/oracle_function.cpp:326]\n"
     ]
    },
    {
     "name": "stdout",
     "output_type": "stream",
     "text": [
      "Solver failed for parameters: [7.29218750e-05 6.14765625e-05 1.23046875e-05 7.45703125e-01\n",
      " 5.36718750e-01 4.96093750e-06 5.36718750e-06 9.03515625e+02\n",
      " 2.11718750e+02 7.92968750e+00 1.64531250e+00 1.68593750e+00\n",
      " 1.53593750e+00 2.44179688e+04 6.41210938e+04] with error: Events ['Maximum voltage [V]'] are non-positive at initial conditions\n"
     ]
    },
    {
     "name": "stderr",
     "output_type": "stream",
     "text": [
      "CasADi - 2024-06-28 10:08:23 WARNING(\"roots:g failed: Inf detected for output x, at (row 0, col 0).\") [.../casadi/core/oracle_function.cpp:326]\n",
      "CasADi - 2024-06-28 10:08:23 WARNING(\"roots:g failed: Inf detected for output x, at (row 0, col 0).\") [.../casadi/core/oracle_function.cpp:326]\n",
      "CasADi - 2024-06-28 10:08:23 WARNING(\"roots:g failed: Inf detected for output x, at (row 0, col 0).\") [.../casadi/core/oracle_function.cpp:326]\n",
      "CasADi - 2024-06-28 10:08:23 WARNING(\"roots:g failed: Inf detected for output x, at (row 0, col 0).\") [.../casadi/core/oracle_function.cpp:326]\n",
      "CasADi - 2024-06-28 10:08:23 WARNING(\"roots:g failed: Inf detected for output x, at (row 0, col 0).\") [.../casadi/core/oracle_function.cpp:326]\n"
     ]
    },
    {
     "name": "stdout",
     "output_type": "stream",
     "text": [
      "Solver failed for parameters: [7.29218750e-05 6.14765625e-05 1.23046875e-05 7.45703125e-01\n",
      " 5.36718750e-01 4.96093750e-06 5.36718750e-06 9.03515625e+02\n",
      " 2.11718750e+02 7.92968750e+00 1.62343750e+00 1.44531250e+00\n",
      " 1.53593750e+00 2.44179688e+04 6.41210938e+04] with error: Events ['Maximum voltage [V]'] are non-positive at initial conditions\n"
     ]
    },
    {
     "name": "stderr",
     "output_type": "stream",
     "text": [
      "CasADi - 2024-06-28 10:08:23 WARNING(\"roots:g failed: Inf detected for output x, at (row 0, col 0).\") [.../casadi/core/oracle_function.cpp:326]\n",
      "CasADi - 2024-06-28 10:08:23 WARNING(\"roots:g failed: Inf detected for output x, at (row 0, col 0).\") [.../casadi/core/oracle_function.cpp:326]\n",
      "CasADi - 2024-06-28 10:08:23 WARNING(\"roots:g failed: Inf detected for output x, at (row 0, col 0).\") [.../casadi/core/oracle_function.cpp:326]\n",
      "CasADi - 2024-06-28 10:08:23 WARNING(\"roots:g failed: Inf detected for output x, at (row 0, col 0).\") [.../casadi/core/oracle_function.cpp:326]\n",
      "CasADi - 2024-06-28 10:08:23 WARNING(\"roots:g failed: Inf detected for output x, at (row 0, col 0).\") [.../casadi/core/oracle_function.cpp:326]\n"
     ]
    },
    {
     "name": "stdout",
     "output_type": "stream",
     "text": [
      "Solver failed for parameters: [7.29218750e-05 6.14765625e-05 1.23046875e-05 7.45703125e-01\n",
      " 5.36718750e-01 4.96093750e-06 5.36718750e-06 9.03515625e+02\n",
      " 2.11718750e+02 7.92968750e+00 1.62343750e+00 1.68593750e+00\n",
      " 1.37656250e+00 2.44179688e+04 6.41210938e+04] with error: Events ['Maximum voltage [V]'] are non-positive at initial conditions\n"
     ]
    },
    {
     "name": "stderr",
     "output_type": "stream",
     "text": [
      "CasADi - 2024-06-28 10:08:25 WARNING(\"roots:g failed: Inf detected for output x, at (row 0, col 0).\") [.../casadi/core/oracle_function.cpp:326]\n",
      "CasADi - 2024-06-28 10:08:25 WARNING(\"roots:g failed: Inf detected for output x, at (row 0, col 0).\") [.../casadi/core/oracle_function.cpp:326]\n",
      "CasADi - 2024-06-28 10:08:25 WARNING(\"roots:g failed: Inf detected for output x, at (row 0, col 0).\") [.../casadi/core/oracle_function.cpp:326]\n",
      "CasADi - 2024-06-28 10:08:25 WARNING(\"roots:g failed: Inf detected for output x, at (row 0, col 0).\") [.../casadi/core/oracle_function.cpp:326]\n",
      "CasADi - 2024-06-28 10:08:25 WARNING(\"roots:g failed: Inf detected for output x, at (row 0, col 0).\") [.../casadi/core/oracle_function.cpp:326]\n"
     ]
    },
    {
     "name": "stdout",
     "output_type": "stream",
     "text": [
      "Solver failed for parameters: [7.29218750e-05 6.14765625e-05 1.23046875e-05 7.45703125e-01\n",
      " 5.36718750e-01 4.96093750e-06 5.36718750e-06 9.03515625e+02\n",
      " 2.11718750e+02 7.92968750e+00 1.62343750e+00 1.68593750e+00\n",
      " 1.53593750e+00 2.44179688e+04 6.35351562e+04] with error: Events ['Maximum voltage [V]'] are non-positive at initial conditions\n"
     ]
    },
    {
     "name": "stderr",
     "output_type": "stream",
     "text": [
      "CasADi - 2024-06-28 10:08:25 WARNING(\"roots:g failed: Inf detected for output x, at (row 0, col 0).\") [.../casadi/core/oracle_function.cpp:326]\n",
      "CasADi - 2024-06-28 10:08:25 WARNING(\"roots:g failed: Inf detected for output x, at (row 0, col 0).\") [.../casadi/core/oracle_function.cpp:326]\n",
      "CasADi - 2024-06-28 10:08:25 WARNING(\"roots:g failed: Inf detected for output x, at (row 0, col 0).\") [.../casadi/core/oracle_function.cpp:326]\n",
      "CasADi - 2024-06-28 10:08:25 WARNING(\"roots:g failed: Inf detected for output x, at (row 0, col 0).\") [.../casadi/core/oracle_function.cpp:326]\n",
      "CasADi - 2024-06-28 10:08:25 WARNING(\"roots:g failed: Inf detected for output x, at (row 0, col 0).\") [.../casadi/core/oracle_function.cpp:326]\n"
     ]
    },
    {
     "name": "stdout",
     "output_type": "stream",
     "text": [
      "Solver failed for parameters: [7.29218750e-05 6.14765625e-05 1.23046875e-05 7.45703125e-01\n",
      " 5.36718750e-01 4.96093750e-06 5.36718750e-06 9.03515625e+02\n",
      " 2.11718750e+02 7.92968750e+00 1.62343750e+00 1.68593750e+00\n",
      " 1.53593750e+00 2.44179688e+04 6.41210938e+04] with error: Events ['Maximum voltage [V]'] are non-positive at initial conditions\n"
     ]
    },
    {
     "name": "stderr",
     "output_type": "stream",
     "text": [
      "CasADi - 2024-06-28 10:08:26 WARNING(\"roots:g failed: Inf detected for output x, at (row 0, col 0).\") [.../casadi/core/oracle_function.cpp:326]\n",
      "CasADi - 2024-06-28 10:08:26 WARNING(\"roots:g failed: Inf detected for output x, at (row 0, col 0).\") [.../casadi/core/oracle_function.cpp:326]\n",
      "CasADi - 2024-06-28 10:08:26 WARNING(\"roots:g failed: Inf detected for output x, at (row 0, col 0).\") [.../casadi/core/oracle_function.cpp:326]\n",
      "CasADi - 2024-06-28 10:08:26 WARNING(\"roots:g failed: Inf detected for output x, at (row 0, col 0).\") [.../casadi/core/oracle_function.cpp:326]\n",
      "CasADi - 2024-06-28 10:08:26 WARNING(\"roots:g failed: Inf detected for output x, at (row 0, col 0).\") [.../casadi/core/oracle_function.cpp:326]\n"
     ]
    },
    {
     "name": "stdout",
     "output_type": "stream",
     "text": [
      "Solver failed for parameters: [7.29218750e-05 6.18828125e-05 1.66796875e-05 7.56640625e-01\n",
      " 5.55468750e-01 4.60156250e-06 5.97656250e-06 9.36328125e+02\n",
      " 1.46093750e+02 6.91406250e+00 1.54531250e+00 1.34531250e+00\n",
      " 1.67656250e+00 2.30429688e+04 5.97851562e+04] with error: Events ['Maximum voltage [V]'] are non-positive at initial conditions\n"
     ]
    },
    {
     "name": "stderr",
     "output_type": "stream",
     "text": [
      "CasADi - 2024-06-28 10:08:26 WARNING(\"roots:g failed: Inf detected for output x, at (row 0, col 0).\") [.../casadi/core/oracle_function.cpp:326]\n",
      "CasADi - 2024-06-28 10:08:26 WARNING(\"roots:g failed: Inf detected for output x, at (row 0, col 0).\") [.../casadi/core/oracle_function.cpp:326]\n",
      "CasADi - 2024-06-28 10:08:26 WARNING(\"roots:g failed: Inf detected for output x, at (row 0, col 0).\") [.../casadi/core/oracle_function.cpp:326]\n",
      "CasADi - 2024-06-28 10:08:26 WARNING(\"roots:g failed: Inf detected for output x, at (row 0, col 0).\") [.../casadi/core/oracle_function.cpp:326]\n",
      "CasADi - 2024-06-28 10:08:26 WARNING(\"roots:g failed: Inf detected for output x, at (row 0, col 0).\") [.../casadi/core/oracle_function.cpp:326]\n"
     ]
    },
    {
     "name": "stdout",
     "output_type": "stream",
     "text": [
      "Solver failed for parameters: [6.39218750e-05 6.18828125e-05 1.66796875e-05 7.56640625e-01\n",
      " 5.55468750e-01 4.60156250e-06 5.97656250e-06 9.36328125e+02\n",
      " 1.46093750e+02 6.91406250e+00 1.54531250e+00 1.34531250e+00\n",
      " 1.67656250e+00 2.30429688e+04 5.97851562e+04] with error: Events ['Maximum voltage [V]'] are non-positive at initial conditions\n"
     ]
    },
    {
     "name": "stderr",
     "output_type": "stream",
     "text": [
      "CasADi - 2024-06-28 10:08:27 WARNING(\"roots:g failed: Inf detected for output x, at (row 0, col 0).\") [.../casadi/core/oracle_function.cpp:326]\n",
      "CasADi - 2024-06-28 10:08:27 WARNING(\"roots:g failed: Inf detected for output x, at (row 0, col 0).\") [.../casadi/core/oracle_function.cpp:326]\n",
      "CasADi - 2024-06-28 10:08:27 WARNING(\"roots:g failed: Inf detected for output x, at (row 0, col 0).\") [.../casadi/core/oracle_function.cpp:326]\n",
      "CasADi - 2024-06-28 10:08:27 WARNING(\"roots:g failed: Inf detected for output x, at (row 0, col 0).\") [.../casadi/core/oracle_function.cpp:326]\n",
      "CasADi - 2024-06-28 10:08:27 WARNING(\"roots:g failed: Inf detected for output x, at (row 0, col 0).\") [.../casadi/core/oracle_function.cpp:326]\n"
     ]
    },
    {
     "name": "stdout",
     "output_type": "stream",
     "text": [
      "Solver failed for parameters: [7.29218750e-05 5.49765625e-05 1.66796875e-05 7.56640625e-01\n",
      " 5.55468750e-01 4.60156250e-06 5.97656250e-06 9.36328125e+02\n",
      " 1.46093750e+02 6.91406250e+00 1.54531250e+00 1.34531250e+00\n",
      " 1.67656250e+00 2.30429688e+04 5.97851562e+04] with error: Events ['Maximum voltage [V]'] are non-positive at initial conditions\n"
     ]
    },
    {
     "name": "stderr",
     "output_type": "stream",
     "text": [
      "CasADi - 2024-06-28 10:08:27 WARNING(\"roots:g failed: Inf detected for output x, at (row 0, col 0).\") [.../casadi/core/oracle_function.cpp:326]\n",
      "CasADi - 2024-06-28 10:08:27 WARNING(\"roots:g failed: Inf detected for output x, at (row 0, col 0).\") [.../casadi/core/oracle_function.cpp:326]\n",
      "CasADi - 2024-06-28 10:08:27 WARNING(\"roots:g failed: Inf detected for output x, at (row 0, col 0).\") [.../casadi/core/oracle_function.cpp:326]\n",
      "CasADi - 2024-06-28 10:08:27 WARNING(\"roots:g failed: Inf detected for output x, at (row 0, col 0).\") [.../casadi/core/oracle_function.cpp:326]\n",
      "CasADi - 2024-06-28 10:08:27 WARNING(\"roots:g failed: Inf detected for output x, at (row 0, col 0).\") [.../casadi/core/oracle_function.cpp:326]\n"
     ]
    },
    {
     "name": "stdout",
     "output_type": "stream",
     "text": [
      "Solver failed for parameters: [7.29218750e-05 6.18828125e-05 1.98046875e-05 7.56640625e-01\n",
      " 5.55468750e-01 4.60156250e-06 5.97656250e-06 9.36328125e+02\n",
      " 1.46093750e+02 6.91406250e+00 1.54531250e+00 1.34531250e+00\n",
      " 1.67656250e+00 2.30429688e+04 5.97851562e+04] with error: Events ['Maximum voltage [V]'] are non-positive at initial conditions\n"
     ]
    },
    {
     "name": "stderr",
     "output_type": "stream",
     "text": [
      "CasADi - 2024-06-28 10:08:28 WARNING(\"roots:g failed: Inf detected for output x, at (row 0, col 0).\") [.../casadi/core/oracle_function.cpp:326]\n",
      "CasADi - 2024-06-28 10:08:28 WARNING(\"roots:g failed: Inf detected for output x, at (row 0, col 0).\") [.../casadi/core/oracle_function.cpp:326]\n",
      "CasADi - 2024-06-28 10:08:28 WARNING(\"roots:g failed: Inf detected for output x, at (row 0, col 0).\") [.../casadi/core/oracle_function.cpp:326]\n",
      "CasADi - 2024-06-28 10:08:28 WARNING(\"roots:g failed: Inf detected for output x, at (row 0, col 0).\") [.../casadi/core/oracle_function.cpp:326]\n",
      "CasADi - 2024-06-28 10:08:28 WARNING(\"roots:g failed: Inf detected for output x, at (row 0, col 0).\") [.../casadi/core/oracle_function.cpp:326]\n"
     ]
    },
    {
     "name": "stdout",
     "output_type": "stream",
     "text": [
      "Solver failed for parameters: [7.29218750e-05 6.18828125e-05 1.66796875e-05 7.20703125e-01\n",
      " 5.55468750e-01 4.60156250e-06 5.97656250e-06 9.36328125e+02\n",
      " 1.46093750e+02 6.91406250e+00 1.54531250e+00 1.34531250e+00\n",
      " 1.67656250e+00 2.30429688e+04 5.97851562e+04] with error: Events ['Maximum voltage [V]'] are non-positive at initial conditions\n"
     ]
    },
    {
     "name": "stderr",
     "output_type": "stream",
     "text": [
      "CasADi - 2024-06-28 10:08:28 WARNING(\"roots:g failed: Inf detected for output x, at (row 0, col 0).\") [.../casadi/core/oracle_function.cpp:326]\n",
      "CasADi - 2024-06-28 10:08:28 WARNING(\"roots:g failed: Inf detected for output x, at (row 0, col 0).\") [.../casadi/core/oracle_function.cpp:326]\n",
      "CasADi - 2024-06-28 10:08:28 WARNING(\"roots:g failed: Inf detected for output x, at (row 0, col 0).\") [.../casadi/core/oracle_function.cpp:326]\n",
      "CasADi - 2024-06-28 10:08:28 WARNING(\"roots:g failed: Inf detected for output x, at (row 0, col 0).\") [.../casadi/core/oracle_function.cpp:326]\n",
      "CasADi - 2024-06-28 10:08:28 WARNING(\"roots:g failed: Inf detected for output x, at (row 0, col 0).\") [.../casadi/core/oracle_function.cpp:326]\n"
     ]
    },
    {
     "name": "stdout",
     "output_type": "stream",
     "text": [
      "Solver failed for parameters: [7.29218750e-05 6.18828125e-05 1.66796875e-05 7.56640625e-01\n",
      " 6.86718750e-01 4.60156250e-06 5.97656250e-06 9.36328125e+02\n",
      " 1.46093750e+02 6.91406250e+00 1.54531250e+00 1.34531250e+00\n",
      " 1.67656250e+00 2.30429688e+04 5.97851562e+04] with error: Events ['Maximum voltage [V]'] are non-positive at initial conditions\n"
     ]
    },
    {
     "name": "stderr",
     "output_type": "stream",
     "text": [
      "CasADi - 2024-06-28 10:08:29 WARNING(\"roots:g failed: Inf detected for output x, at (row 0, col 0).\") [.../casadi/core/oracle_function.cpp:326]\n",
      "CasADi - 2024-06-28 10:08:29 WARNING(\"roots:g failed: Inf detected for output x, at (row 0, col 0).\") [.../casadi/core/oracle_function.cpp:326]\n",
      "CasADi - 2024-06-28 10:08:29 WARNING(\"roots:g failed: Inf detected for output x, at (row 0, col 0).\") [.../casadi/core/oracle_function.cpp:326]\n",
      "CasADi - 2024-06-28 10:08:29 WARNING(\"roots:g failed: Inf detected for output x, at (row 0, col 0).\") [.../casadi/core/oracle_function.cpp:326]\n",
      "CasADi - 2024-06-28 10:08:29 WARNING(\"roots:g failed: Inf detected for output x, at (row 0, col 0).\") [.../casadi/core/oracle_function.cpp:326]\n"
     ]
    },
    {
     "name": "stdout",
     "output_type": "stream",
     "text": [
      "Solver failed for parameters: [7.29218750e-05 6.18828125e-05 1.66796875e-05 7.56640625e-01\n",
      " 5.55468750e-01 5.46093750e-06 5.97656250e-06 9.36328125e+02\n",
      " 1.46093750e+02 6.91406250e+00 1.54531250e+00 1.34531250e+00\n",
      " 1.67656250e+00 2.30429688e+04 5.97851562e+04] with error: Events ['Maximum voltage [V]'] are non-positive at initial conditions\n"
     ]
    },
    {
     "name": "stderr",
     "output_type": "stream",
     "text": [
      "CasADi - 2024-06-28 10:08:29 WARNING(\"roots:g failed: Inf detected for output x, at (row 0, col 0).\") [.../casadi/core/oracle_function.cpp:326]\n",
      "CasADi - 2024-06-28 10:08:29 WARNING(\"roots:g failed: Inf detected for output x, at (row 0, col 0).\") [.../casadi/core/oracle_function.cpp:326]\n",
      "CasADi - 2024-06-28 10:08:29 WARNING(\"roots:g failed: Inf detected for output x, at (row 0, col 0).\") [.../casadi/core/oracle_function.cpp:326]\n",
      "CasADi - 2024-06-28 10:08:29 WARNING(\"roots:g failed: Inf detected for output x, at (row 0, col 0).\") [.../casadi/core/oracle_function.cpp:326]\n",
      "CasADi - 2024-06-28 10:08:29 WARNING(\"roots:g failed: Inf detected for output x, at (row 0, col 0).\") [.../casadi/core/oracle_function.cpp:326]\n"
     ]
    },
    {
     "name": "stdout",
     "output_type": "stream",
     "text": [
      "Solver failed for parameters: [7.29218750e-05 6.18828125e-05 1.66796875e-05 7.56640625e-01\n",
      " 5.55468750e-01 4.60156250e-06 5.86718750e-06 9.36328125e+02\n",
      " 1.46093750e+02 6.91406250e+00 1.54531250e+00 1.34531250e+00\n",
      " 1.67656250e+00 2.30429688e+04 5.97851562e+04] with error: Events ['Maximum voltage [V]'] are non-positive at initial conditions\n"
     ]
    },
    {
     "name": "stderr",
     "output_type": "stream",
     "text": [
      "CasADi - 2024-06-28 10:08:30 WARNING(\"roots:g failed: Inf detected for output x, at (row 0, col 0).\") [.../casadi/core/oracle_function.cpp:326]\n",
      "CasADi - 2024-06-28 10:08:30 WARNING(\"roots:g failed: Inf detected for output x, at (row 0, col 0).\") [.../casadi/core/oracle_function.cpp:326]\n",
      "CasADi - 2024-06-28 10:08:30 WARNING(\"roots:g failed: Inf detected for output x, at (row 0, col 0).\") [.../casadi/core/oracle_function.cpp:326]\n",
      "CasADi - 2024-06-28 10:08:30 WARNING(\"roots:g failed: Inf detected for output x, at (row 0, col 0).\") [.../casadi/core/oracle_function.cpp:326]\n",
      "CasADi - 2024-06-28 10:08:30 WARNING(\"roots:g failed: Inf detected for output x, at (row 0, col 0).\") [.../casadi/core/oracle_function.cpp:326]\n"
     ]
    },
    {
     "name": "stdout",
     "output_type": "stream",
     "text": [
      "Solver failed for parameters: [7.29218750e-05 6.18828125e-05 1.66796875e-05 7.56640625e-01\n",
      " 5.55468750e-01 4.60156250e-06 5.97656250e-06 1.12851562e+03\n",
      " 1.46093750e+02 6.91406250e+00 1.54531250e+00 1.34531250e+00\n",
      " 1.67656250e+00 2.30429688e+04 5.97851562e+04] with error: Events ['Maximum voltage [V]'] are non-positive at initial conditions\n"
     ]
    },
    {
     "name": "stderr",
     "output_type": "stream",
     "text": [
      "CasADi - 2024-06-28 10:08:30 WARNING(\"roots:g failed: Inf detected for output x, at (row 0, col 0).\") [.../casadi/core/oracle_function.cpp:326]\n",
      "CasADi - 2024-06-28 10:08:30 WARNING(\"roots:g failed: Inf detected for output x, at (row 0, col 0).\") [.../casadi/core/oracle_function.cpp:326]\n",
      "CasADi - 2024-06-28 10:08:30 WARNING(\"roots:g failed: Inf detected for output x, at (row 0, col 0).\") [.../casadi/core/oracle_function.cpp:326]\n",
      "CasADi - 2024-06-28 10:08:30 WARNING(\"roots:g failed: Inf detected for output x, at (row 0, col 0).\") [.../casadi/core/oracle_function.cpp:326]\n",
      "CasADi - 2024-06-28 10:08:30 WARNING(\"roots:g failed: Inf detected for output x, at (row 0, col 0).\") [.../casadi/core/oracle_function.cpp:326]\n"
     ]
    },
    {
     "name": "stdout",
     "output_type": "stream",
     "text": [
      "Solver failed for parameters: [7.29218750e-05 6.18828125e-05 1.66796875e-05 7.56640625e-01\n",
      " 5.55468750e-01 4.60156250e-06 5.97656250e-06 9.36328125e+02\n",
      " 1.61718750e+02 6.91406250e+00 1.54531250e+00 1.34531250e+00\n",
      " 1.67656250e+00 2.30429688e+04 5.97851562e+04] with error: Events ['Maximum voltage [V]'] are non-positive at initial conditions\n"
     ]
    },
    {
     "name": "stderr",
     "output_type": "stream",
     "text": [
      "CasADi - 2024-06-28 10:08:31 WARNING(\"roots:g failed: Inf detected for output x, at (row 0, col 0).\") [.../casadi/core/oracle_function.cpp:326]\n",
      "CasADi - 2024-06-28 10:08:31 WARNING(\"roots:g failed: Inf detected for output x, at (row 0, col 0).\") [.../casadi/core/oracle_function.cpp:326]\n",
      "CasADi - 2024-06-28 10:08:31 WARNING(\"roots:g failed: Inf detected for output x, at (row 0, col 0).\") [.../casadi/core/oracle_function.cpp:326]\n",
      "CasADi - 2024-06-28 10:08:31 WARNING(\"roots:g failed: Inf detected for output x, at (row 0, col 0).\") [.../casadi/core/oracle_function.cpp:326]\n",
      "CasADi - 2024-06-28 10:08:31 WARNING(\"roots:g failed: Inf detected for output x, at (row 0, col 0).\") [.../casadi/core/oracle_function.cpp:326]\n"
     ]
    },
    {
     "name": "stdout",
     "output_type": "stream",
     "text": [
      "Solver failed for parameters: [7.29218750e-05 6.18828125e-05 1.66796875e-05 7.56640625e-01\n",
      " 5.55468750e-01 4.60156250e-06 5.97656250e-06 9.36328125e+02\n",
      " 1.46093750e+02 4.29687500e-01 1.54531250e+00 1.34531250e+00\n",
      " 1.67656250e+00 2.30429688e+04 5.97851562e+04] with error: Events ['Maximum voltage [V]'] are non-positive at initial conditions\n"
     ]
    },
    {
     "name": "stderr",
     "output_type": "stream",
     "text": [
      "CasADi - 2024-06-28 10:08:31 WARNING(\"roots:g failed: Inf detected for output x, at (row 0, col 0).\") [.../casadi/core/oracle_function.cpp:326]\n",
      "CasADi - 2024-06-28 10:08:31 WARNING(\"roots:g failed: Inf detected for output x, at (row 0, col 0).\") [.../casadi/core/oracle_function.cpp:326]\n",
      "CasADi - 2024-06-28 10:08:31 WARNING(\"roots:g failed: Inf detected for output x, at (row 0, col 0).\") [.../casadi/core/oracle_function.cpp:326]\n",
      "CasADi - 2024-06-28 10:08:31 WARNING(\"roots:g failed: Inf detected for output x, at (row 0, col 0).\") [.../casadi/core/oracle_function.cpp:326]\n",
      "CasADi - 2024-06-28 10:08:31 WARNING(\"roots:g failed: Inf detected for output x, at (row 0, col 0).\") [.../casadi/core/oracle_function.cpp:326]\n"
     ]
    },
    {
     "name": "stdout",
     "output_type": "stream",
     "text": [
      "Solver failed for parameters: [7.29218750e-05 6.18828125e-05 1.66796875e-05 7.56640625e-01\n",
      " 5.55468750e-01 4.60156250e-06 5.97656250e-06 9.36328125e+02\n",
      " 1.46093750e+02 6.91406250e+00 1.52343750e+00 1.34531250e+00\n",
      " 1.67656250e+00 2.30429688e+04 5.97851562e+04] with error: Events ['Maximum voltage [V]'] are non-positive at initial conditions\n"
     ]
    },
    {
     "name": "stderr",
     "output_type": "stream",
     "text": [
      "CasADi - 2024-06-28 10:08:31 WARNING(\"roots:g failed: Inf detected for output x, at (row 0, col 0).\") [.../casadi/core/oracle_function.cpp:326]\n",
      "CasADi - 2024-06-28 10:08:31 WARNING(\"roots:g failed: Inf detected for output x, at (row 0, col 0).\") [.../casadi/core/oracle_function.cpp:326]\n",
      "CasADi - 2024-06-28 10:08:31 WARNING(\"roots:g failed: Inf detected for output x, at (row 0, col 0).\") [.../casadi/core/oracle_function.cpp:326]\n",
      "CasADi - 2024-06-28 10:08:31 WARNING(\"roots:g failed: Inf detected for output x, at (row 0, col 0).\") [.../casadi/core/oracle_function.cpp:326]\n",
      "CasADi - 2024-06-28 10:08:31 WARNING(\"roots:g failed: Inf detected for output x, at (row 0, col 0).\") [.../casadi/core/oracle_function.cpp:326]\n"
     ]
    },
    {
     "name": "stdout",
     "output_type": "stream",
     "text": [
      "Solver failed for parameters: [7.29218750e-05 6.18828125e-05 1.66796875e-05 7.56640625e-01\n",
      " 5.55468750e-01 4.60156250e-06 5.97656250e-06 9.36328125e+02\n",
      " 1.46093750e+02 6.91406250e+00 1.54531250e+00 1.38593750e+00\n",
      " 1.67656250e+00 2.30429688e+04 5.97851562e+04] with error: Events ['Maximum voltage [V]'] are non-positive at initial conditions\n"
     ]
    },
    {
     "name": "stderr",
     "output_type": "stream",
     "text": [
      "CasADi - 2024-06-28 10:08:32 WARNING(\"roots:g failed: Inf detected for output x, at (row 0, col 0).\") [.../casadi/core/oracle_function.cpp:326]\n",
      "CasADi - 2024-06-28 10:08:32 WARNING(\"roots:g failed: Inf detected for output x, at (row 0, col 0).\") [.../casadi/core/oracle_function.cpp:326]\n",
      "CasADi - 2024-06-28 10:08:32 WARNING(\"roots:g failed: Inf detected for output x, at (row 0, col 0).\") [.../casadi/core/oracle_function.cpp:326]\n",
      "CasADi - 2024-06-28 10:08:32 WARNING(\"roots:g failed: Inf detected for output x, at (row 0, col 0).\") [.../casadi/core/oracle_function.cpp:326]\n",
      "CasADi - 2024-06-28 10:08:32 WARNING(\"roots:g failed: Inf detected for output x, at (row 0, col 0).\") [.../casadi/core/oracle_function.cpp:326]\n"
     ]
    },
    {
     "name": "stdout",
     "output_type": "stream",
     "text": [
      "Solver failed for parameters: [7.29218750e-05 6.18828125e-05 1.66796875e-05 7.56640625e-01\n",
      " 5.55468750e-01 4.60156250e-06 5.97656250e-06 9.36328125e+02\n",
      " 1.46093750e+02 6.91406250e+00 1.54531250e+00 1.34531250e+00\n",
      " 1.63593750e+00 2.30429688e+04 5.97851562e+04] with error: Events ['Maximum voltage [V]'] are non-positive at initial conditions\n"
     ]
    },
    {
     "name": "stderr",
     "output_type": "stream",
     "text": [
      "CasADi - 2024-06-28 10:08:34 WARNING(\"roots:g failed: Inf detected for output x, at (row 0, col 0).\") [.../casadi/core/oracle_function.cpp:326]\n",
      "CasADi - 2024-06-28 10:08:34 WARNING(\"roots:g failed: Inf detected for output x, at (row 0, col 0).\") [.../casadi/core/oracle_function.cpp:326]\n",
      "CasADi - 2024-06-28 10:08:34 WARNING(\"roots:g failed: Inf detected for output x, at (row 0, col 0).\") [.../casadi/core/oracle_function.cpp:326]\n",
      "CasADi - 2024-06-28 10:08:34 WARNING(\"roots:g failed: Inf detected for output x, at (row 0, col 0).\") [.../casadi/core/oracle_function.cpp:326]\n",
      "CasADi - 2024-06-28 10:08:34 WARNING(\"roots:g failed: Inf detected for output x, at (row 0, col 0).\") [.../casadi/core/oracle_function.cpp:326]\n"
     ]
    },
    {
     "name": "stdout",
     "output_type": "stream",
     "text": [
      "Solver failed for parameters: [7.29218750e-05 6.18828125e-05 1.66796875e-05 7.56640625e-01\n",
      " 5.55468750e-01 4.60156250e-06 5.97656250e-06 9.36328125e+02\n",
      " 1.46093750e+02 6.91406250e+00 1.54531250e+00 1.34531250e+00\n",
      " 1.67656250e+00 2.30429688e+04 6.03710938e+04] with error: Events ['Maximum voltage [V]'] are non-positive at initial conditions\n"
     ]
    },
    {
     "name": "stderr",
     "output_type": "stream",
     "text": [
      "CasADi - 2024-06-28 10:08:51 WARNING(\"roots:g failed: Inf detected for output x, at (row 0, col 0).\") [.../casadi/core/oracle_function.cpp:326]\n",
      "CasADi - 2024-06-28 10:08:51 WARNING(\"roots:g failed: Inf detected for output x, at (row 0, col 0).\") [.../casadi/core/oracle_function.cpp:326]\n",
      "CasADi - 2024-06-28 10:08:51 WARNING(\"roots:g failed: Inf detected for output x, at (row 0, col 0).\") [.../casadi/core/oracle_function.cpp:326]\n",
      "CasADi - 2024-06-28 10:08:51 WARNING(\"roots:g failed: Inf detected for output x, at (row 0, col 0).\") [.../casadi/core/oracle_function.cpp:326]\n",
      "CasADi - 2024-06-28 10:08:51 WARNING(\"roots:g failed: Inf detected for output x, at (row 0, col 0).\") [.../casadi/core/oracle_function.cpp:326]\n"
     ]
    },
    {
     "name": "stdout",
     "output_type": "stream",
     "text": [
      "Solver failed for parameters: [6.39218750e-05 5.49765625e-05 1.98046875e-05 7.20703125e-01\n",
      " 6.86718750e-01 5.46093750e-06 5.86718750e-06 1.12851562e+03\n",
      " 1.61718750e+02 4.29687500e-01 1.52343750e+00 1.38593750e+00\n",
      " 1.63593750e+00 2.30429688e+04 6.03710938e+04] with error: Events ['Maximum voltage [V]'] are non-positive at initial conditions\n"
     ]
    },
    {
     "name": "stderr",
     "output_type": "stream",
     "text": [
      "CasADi - 2024-06-28 10:08:54 WARNING(\"roots:g failed: Inf detected for output x, at (row 0, col 0).\") [.../casadi/core/oracle_function.cpp:326]\n",
      "CasADi - 2024-06-28 10:08:54 WARNING(\"roots:g failed: Inf detected for output x, at (row 0, col 0).\") [.../casadi/core/oracle_function.cpp:326]\n",
      "CasADi - 2024-06-28 10:08:54 WARNING(\"roots:g failed: Inf detected for output x, at (row 0, col 0).\") [.../casadi/core/oracle_function.cpp:326]\n",
      "CasADi - 2024-06-28 10:08:54 WARNING(\"roots:g failed: Inf detected for output x, at (row 0, col 0).\") [.../casadi/core/oracle_function.cpp:326]\n",
      "CasADi - 2024-06-28 10:08:54 WARNING(\"roots:g failed: Inf detected for output x, at (row 0, col 0).\") [.../casadi/core/oracle_function.cpp:326]\n"
     ]
    },
    {
     "name": "stdout",
     "output_type": "stream",
     "text": [
      "Solver failed for parameters: [5.49218750e-05 7.48828125e-05 1.16796875e-05 7.06640625e-01\n",
      " 6.55468750e-01 5.60156250e-06 4.97656250e-06 1.08632812e+03\n",
      " 2.46093750e+02 1.91406250e+00 1.34531250e+00 1.54531250e+00\n",
      " 1.47656250e+00 2.85429688e+04 5.22851562e+04] with error: Events ['Maximum voltage [V]'] are non-positive at initial conditions\n"
     ]
    },
    {
     "name": "stderr",
     "output_type": "stream",
     "text": [
      "CasADi - 2024-06-28 10:08:55 WARNING(\"roots:g failed: Inf detected for output x, at (row 0, col 0).\") [.../casadi/core/oracle_function.cpp:326]\n",
      "CasADi - 2024-06-28 10:08:55 WARNING(\"roots:g failed: Inf detected for output x, at (row 0, col 0).\") [.../casadi/core/oracle_function.cpp:326]\n",
      "CasADi - 2024-06-28 10:08:55 WARNING(\"roots:g failed: Inf detected for output x, at (row 0, col 0).\") [.../casadi/core/oracle_function.cpp:326]\n",
      "CasADi - 2024-06-28 10:08:55 WARNING(\"roots:g failed: Inf detected for output x, at (row 0, col 0).\") [.../casadi/core/oracle_function.cpp:326]\n",
      "CasADi - 2024-06-28 10:08:55 WARNING(\"roots:g failed: Inf detected for output x, at (row 0, col 0).\") [.../casadi/core/oracle_function.cpp:326]\n"
     ]
    },
    {
     "name": "stdout",
     "output_type": "stream",
     "text": [
      "Solver failed for parameters: [8.19218750e-05 7.48828125e-05 1.16796875e-05 7.06640625e-01\n",
      " 6.55468750e-01 5.60156250e-06 4.97656250e-06 1.08632812e+03\n",
      " 2.46093750e+02 1.91406250e+00 1.34531250e+00 1.54531250e+00\n",
      " 1.47656250e+00 2.85429688e+04 5.22851562e+04] with error: Events ['Maximum voltage [V]'] are non-positive at initial conditions\n"
     ]
    },
    {
     "name": "stderr",
     "output_type": "stream",
     "text": [
      "CasADi - 2024-06-28 10:08:55 WARNING(\"roots:g failed: Inf detected for output x, at (row 0, col 0).\") [.../casadi/core/oracle_function.cpp:326]\n",
      "CasADi - 2024-06-28 10:08:55 WARNING(\"roots:g failed: Inf detected for output x, at (row 0, col 0).\") [.../casadi/core/oracle_function.cpp:326]\n",
      "CasADi - 2024-06-28 10:08:55 WARNING(\"roots:g failed: Inf detected for output x, at (row 0, col 0).\") [.../casadi/core/oracle_function.cpp:326]\n",
      "CasADi - 2024-06-28 10:08:55 WARNING(\"roots:g failed: Inf detected for output x, at (row 0, col 0).\") [.../casadi/core/oracle_function.cpp:326]\n",
      "CasADi - 2024-06-28 10:08:55 WARNING(\"roots:g failed: Inf detected for output x, at (row 0, col 0).\") [.../casadi/core/oracle_function.cpp:326]\n"
     ]
    },
    {
     "name": "stdout",
     "output_type": "stream",
     "text": [
      "Solver failed for parameters: [5.49218750e-05 6.79765625e-05 1.16796875e-05 7.06640625e-01\n",
      " 6.55468750e-01 5.60156250e-06 4.97656250e-06 1.08632812e+03\n",
      " 2.46093750e+02 1.91406250e+00 1.34531250e+00 1.54531250e+00\n",
      " 1.47656250e+00 2.85429688e+04 5.22851562e+04] with error: Events ['Maximum voltage [V]'] are non-positive at initial conditions\n"
     ]
    },
    {
     "name": "stderr",
     "output_type": "stream",
     "text": [
      "CasADi - 2024-06-28 10:08:56 WARNING(\"roots:g failed: Inf detected for output x, at (row 0, col 0).\") [.../casadi/core/oracle_function.cpp:326]\n",
      "CasADi - 2024-06-28 10:08:56 WARNING(\"roots:g failed: Inf detected for output x, at (row 0, col 0).\") [.../casadi/core/oracle_function.cpp:326]\n",
      "CasADi - 2024-06-28 10:08:56 WARNING(\"roots:g failed: Inf detected for output x, at (row 0, col 0).\") [.../casadi/core/oracle_function.cpp:326]\n",
      "CasADi - 2024-06-28 10:08:56 WARNING(\"roots:g failed: Inf detected for output x, at (row 0, col 0).\") [.../casadi/core/oracle_function.cpp:326]\n",
      "CasADi - 2024-06-28 10:08:56 WARNING(\"roots:g failed: Inf detected for output x, at (row 0, col 0).\") [.../casadi/core/oracle_function.cpp:326]\n"
     ]
    },
    {
     "name": "stdout",
     "output_type": "stream",
     "text": [
      "Solver failed for parameters: [5.49218750e-05 7.48828125e-05 1.48046875e-05 7.06640625e-01\n",
      " 6.55468750e-01 5.60156250e-06 4.97656250e-06 1.08632812e+03\n",
      " 2.46093750e+02 1.91406250e+00 1.34531250e+00 1.54531250e+00\n",
      " 1.47656250e+00 2.85429688e+04 5.22851562e+04] with error: Events ['Maximum voltage [V]'] are non-positive at initial conditions\n"
     ]
    },
    {
     "name": "stderr",
     "output_type": "stream",
     "text": [
      "CasADi - 2024-06-28 10:08:56 WARNING(\"roots:g failed: Inf detected for output x, at (row 0, col 0).\") [.../casadi/core/oracle_function.cpp:326]\n",
      "CasADi - 2024-06-28 10:08:56 WARNING(\"roots:g failed: Inf detected for output x, at (row 0, col 0).\") [.../casadi/core/oracle_function.cpp:326]\n",
      "CasADi - 2024-06-28 10:08:56 WARNING(\"roots:g failed: Inf detected for output x, at (row 0, col 0).\") [.../casadi/core/oracle_function.cpp:326]\n",
      "CasADi - 2024-06-28 10:08:56 WARNING(\"roots:g failed: Inf detected for output x, at (row 0, col 0).\") [.../casadi/core/oracle_function.cpp:326]\n",
      "CasADi - 2024-06-28 10:08:56 WARNING(\"roots:g failed: Inf detected for output x, at (row 0, col 0).\") [.../casadi/core/oracle_function.cpp:326]\n"
     ]
    },
    {
     "name": "stdout",
     "output_type": "stream",
     "text": [
      "Solver failed for parameters: [5.49218750e-05 7.48828125e-05 1.16796875e-05 7.70703125e-01\n",
      " 6.55468750e-01 5.60156250e-06 4.97656250e-06 1.08632812e+03\n",
      " 2.46093750e+02 1.91406250e+00 1.34531250e+00 1.54531250e+00\n",
      " 1.47656250e+00 2.85429688e+04 5.22851562e+04] with error: Events ['Maximum voltage [V]'] are non-positive at initial conditions\n"
     ]
    },
    {
     "name": "stderr",
     "output_type": "stream",
     "text": [
      "CasADi - 2024-06-28 10:08:57 WARNING(\"roots:g failed: Inf detected for output x, at (row 0, col 0).\") [.../casadi/core/oracle_function.cpp:326]\n",
      "CasADi - 2024-06-28 10:08:57 WARNING(\"roots:g failed: Inf detected for output x, at (row 0, col 0).\") [.../casadi/core/oracle_function.cpp:326]\n",
      "CasADi - 2024-06-28 10:08:57 WARNING(\"roots:g failed: Inf detected for output x, at (row 0, col 0).\") [.../casadi/core/oracle_function.cpp:326]\n",
      "CasADi - 2024-06-28 10:08:57 WARNING(\"roots:g failed: Inf detected for output x, at (row 0, col 0).\") [.../casadi/core/oracle_function.cpp:326]\n",
      "CasADi - 2024-06-28 10:08:57 WARNING(\"roots:g failed: Inf detected for output x, at (row 0, col 0).\") [.../casadi/core/oracle_function.cpp:326]\n"
     ]
    },
    {
     "name": "stdout",
     "output_type": "stream",
     "text": [
      "Solver failed for parameters: [5.49218750e-05 7.48828125e-05 1.16796875e-05 7.06640625e-01\n",
      " 5.86718750e-01 5.60156250e-06 4.97656250e-06 1.08632812e+03\n",
      " 2.46093750e+02 1.91406250e+00 1.34531250e+00 1.54531250e+00\n",
      " 1.47656250e+00 2.85429688e+04 5.22851562e+04] with error: Events ['Maximum voltage [V]'] are non-positive at initial conditions\n"
     ]
    },
    {
     "name": "stderr",
     "output_type": "stream",
     "text": [
      "CasADi - 2024-06-28 10:08:57 WARNING(\"roots:g failed: Inf detected for output x, at (row 0, col 0).\") [.../casadi/core/oracle_function.cpp:326]\n",
      "CasADi - 2024-06-28 10:08:57 WARNING(\"roots:g failed: Inf detected for output x, at (row 0, col 0).\") [.../casadi/core/oracle_function.cpp:326]\n",
      "CasADi - 2024-06-28 10:08:57 WARNING(\"roots:g failed: Inf detected for output x, at (row 0, col 0).\") [.../casadi/core/oracle_function.cpp:326]\n",
      "CasADi - 2024-06-28 10:08:57 WARNING(\"roots:g failed: Inf detected for output x, at (row 0, col 0).\") [.../casadi/core/oracle_function.cpp:326]\n",
      "CasADi - 2024-06-28 10:08:57 WARNING(\"roots:g failed: Inf detected for output x, at (row 0, col 0).\") [.../casadi/core/oracle_function.cpp:326]\n"
     ]
    },
    {
     "name": "stdout",
     "output_type": "stream",
     "text": [
      "Solver failed for parameters: [5.49218750e-05 7.48828125e-05 1.16796875e-05 7.06640625e-01\n",
      " 6.55468750e-01 4.46093750e-06 4.97656250e-06 1.08632812e+03\n",
      " 2.46093750e+02 1.91406250e+00 1.34531250e+00 1.54531250e+00\n",
      " 1.47656250e+00 2.85429688e+04 5.22851562e+04] with error: Events ['Maximum voltage [V]'] are non-positive at initial conditions\n"
     ]
    },
    {
     "name": "stderr",
     "output_type": "stream",
     "text": [
      "CasADi - 2024-06-28 10:08:58 WARNING(\"roots:g failed: Inf detected for output x, at (row 0, col 0).\") [.../casadi/core/oracle_function.cpp:326]\n",
      "CasADi - 2024-06-28 10:08:58 WARNING(\"roots:g failed: Inf detected for output x, at (row 0, col 0).\") [.../casadi/core/oracle_function.cpp:326]\n",
      "CasADi - 2024-06-28 10:08:58 WARNING(\"roots:g failed: Inf detected for output x, at (row 0, col 0).\") [.../casadi/core/oracle_function.cpp:326]\n",
      "CasADi - 2024-06-28 10:08:58 WARNING(\"roots:g failed: Inf detected for output x, at (row 0, col 0).\") [.../casadi/core/oracle_function.cpp:326]\n",
      "CasADi - 2024-06-28 10:08:58 WARNING(\"roots:g failed: Inf detected for output x, at (row 0, col 0).\") [.../casadi/core/oracle_function.cpp:326]\n"
     ]
    },
    {
     "name": "stdout",
     "output_type": "stream",
     "text": [
      "Solver failed for parameters: [5.49218750e-05 7.48828125e-05 1.16796875e-05 7.06640625e-01\n",
      " 6.55468750e-01 5.60156250e-06 4.86718750e-06 1.08632812e+03\n",
      " 2.46093750e+02 1.91406250e+00 1.34531250e+00 1.54531250e+00\n",
      " 1.47656250e+00 2.85429688e+04 5.22851562e+04] with error: Events ['Maximum voltage [V]'] are non-positive at initial conditions\n"
     ]
    },
    {
     "name": "stderr",
     "output_type": "stream",
     "text": [
      "CasADi - 2024-06-28 10:08:58 WARNING(\"roots:g failed: Inf detected for output x, at (row 0, col 0).\") [.../casadi/core/oracle_function.cpp:326]\n",
      "CasADi - 2024-06-28 10:08:58 WARNING(\"roots:g failed: Inf detected for output x, at (row 0, col 0).\") [.../casadi/core/oracle_function.cpp:326]\n",
      "CasADi - 2024-06-28 10:08:58 WARNING(\"roots:g failed: Inf detected for output x, at (row 0, col 0).\") [.../casadi/core/oracle_function.cpp:326]\n",
      "CasADi - 2024-06-28 10:08:58 WARNING(\"roots:g failed: Inf detected for output x, at (row 0, col 0).\") [.../casadi/core/oracle_function.cpp:326]\n",
      "CasADi - 2024-06-28 10:08:58 WARNING(\"roots:g failed: Inf detected for output x, at (row 0, col 0).\") [.../casadi/core/oracle_function.cpp:326]\n"
     ]
    },
    {
     "name": "stdout",
     "output_type": "stream",
     "text": [
      "Solver failed for parameters: [5.49218750e-05 7.48828125e-05 1.16796875e-05 7.06640625e-01\n",
      " 6.55468750e-01 5.60156250e-06 4.97656250e-06 9.78515625e+02\n",
      " 2.46093750e+02 1.91406250e+00 1.34531250e+00 1.54531250e+00\n",
      " 1.47656250e+00 2.85429688e+04 5.22851562e+04] with error: Events ['Maximum voltage [V]'] are non-positive at initial conditions\n"
     ]
    },
    {
     "name": "stderr",
     "output_type": "stream",
     "text": [
      "CasADi - 2024-06-28 10:08:59 WARNING(\"roots:g failed: Inf detected for output x, at (row 0, col 0).\") [.../casadi/core/oracle_function.cpp:326]\n",
      "CasADi - 2024-06-28 10:08:59 WARNING(\"roots:g failed: Inf detected for output x, at (row 0, col 0).\") [.../casadi/core/oracle_function.cpp:326]\n",
      "CasADi - 2024-06-28 10:08:59 WARNING(\"roots:g failed: Inf detected for output x, at (row 0, col 0).\") [.../casadi/core/oracle_function.cpp:326]\n",
      "CasADi - 2024-06-28 10:08:59 WARNING(\"roots:g failed: Inf detected for output x, at (row 0, col 0).\") [.../casadi/core/oracle_function.cpp:326]\n",
      "CasADi - 2024-06-28 10:08:59 WARNING(\"roots:g failed: Inf detected for output x, at (row 0, col 0).\") [.../casadi/core/oracle_function.cpp:326]\n"
     ]
    },
    {
     "name": "stdout",
     "output_type": "stream",
     "text": [
      "Solver failed for parameters: [5.49218750e-05 7.48828125e-05 1.16796875e-05 7.06640625e-01\n",
      " 6.55468750e-01 5.60156250e-06 4.97656250e-06 1.08632812e+03\n",
      " 2.61718750e+02 1.91406250e+00 1.34531250e+00 1.54531250e+00\n",
      " 1.47656250e+00 2.85429688e+04 5.22851562e+04] with error: Events ['Maximum voltage [V]'] are non-positive at initial conditions\n"
     ]
    },
    {
     "name": "stderr",
     "output_type": "stream",
     "text": [
      "CasADi - 2024-06-28 10:08:59 WARNING(\"roots:g failed: Inf detected for output x, at (row 0, col 0).\") [.../casadi/core/oracle_function.cpp:326]\n",
      "CasADi - 2024-06-28 10:08:59 WARNING(\"roots:g failed: Inf detected for output x, at (row 0, col 0).\") [.../casadi/core/oracle_function.cpp:326]\n",
      "CasADi - 2024-06-28 10:08:59 WARNING(\"roots:g failed: Inf detected for output x, at (row 0, col 0).\") [.../casadi/core/oracle_function.cpp:326]\n",
      "CasADi - 2024-06-28 10:08:59 WARNING(\"roots:g failed: Inf detected for output x, at (row 0, col 0).\") [.../casadi/core/oracle_function.cpp:326]\n",
      "CasADi - 2024-06-28 10:08:59 WARNING(\"roots:g failed: Inf detected for output x, at (row 0, col 0).\") [.../casadi/core/oracle_function.cpp:326]\n"
     ]
    },
    {
     "name": "stdout",
     "output_type": "stream",
     "text": [
      "Solver failed for parameters: [5.49218750e-05 7.48828125e-05 1.16796875e-05 7.06640625e-01\n",
      " 6.55468750e-01 5.60156250e-06 4.97656250e-06 1.08632812e+03\n",
      " 2.46093750e+02 5.42968750e+00 1.34531250e+00 1.54531250e+00\n",
      " 1.47656250e+00 2.85429688e+04 5.22851562e+04] with error: Events ['Maximum voltage [V]'] are non-positive at initial conditions\n"
     ]
    },
    {
     "name": "stderr",
     "output_type": "stream",
     "text": [
      "CasADi - 2024-06-28 10:08:59 WARNING(\"roots:g failed: Inf detected for output x, at (row 0, col 0).\") [.../casadi/core/oracle_function.cpp:326]\n",
      "CasADi - 2024-06-28 10:08:59 WARNING(\"roots:g failed: Inf detected for output x, at (row 0, col 0).\") [.../casadi/core/oracle_function.cpp:326]\n",
      "CasADi - 2024-06-28 10:08:59 WARNING(\"roots:g failed: Inf detected for output x, at (row 0, col 0).\") [.../casadi/core/oracle_function.cpp:326]\n",
      "CasADi - 2024-06-28 10:08:59 WARNING(\"roots:g failed: Inf detected for output x, at (row 0, col 0).\") [.../casadi/core/oracle_function.cpp:326]\n",
      "CasADi - 2024-06-28 10:08:59 WARNING(\"roots:g failed: Inf detected for output x, at (row 0, col 0).\") [.../casadi/core/oracle_function.cpp:326]\n"
     ]
    },
    {
     "name": "stdout",
     "output_type": "stream",
     "text": [
      "Solver failed for parameters: [5.49218750e-05 7.48828125e-05 1.16796875e-05 7.06640625e-01\n",
      " 6.55468750e-01 5.60156250e-06 4.97656250e-06 1.08632812e+03\n",
      " 2.46093750e+02 1.91406250e+00 1.32343750e+00 1.54531250e+00\n",
      " 1.47656250e+00 2.85429688e+04 5.22851562e+04] with error: Events ['Maximum voltage [V]'] are non-positive at initial conditions\n"
     ]
    },
    {
     "name": "stderr",
     "output_type": "stream",
     "text": [
      "CasADi - 2024-06-28 10:09:00 WARNING(\"roots:g failed: Inf detected for output x, at (row 0, col 0).\") [.../casadi/core/oracle_function.cpp:326]\n",
      "CasADi - 2024-06-28 10:09:00 WARNING(\"roots:g failed: Inf detected for output x, at (row 0, col 0).\") [.../casadi/core/oracle_function.cpp:326]\n",
      "CasADi - 2024-06-28 10:09:00 WARNING(\"roots:g failed: Inf detected for output x, at (row 0, col 0).\") [.../casadi/core/oracle_function.cpp:326]\n",
      "CasADi - 2024-06-28 10:09:00 WARNING(\"roots:g failed: Inf detected for output x, at (row 0, col 0).\") [.../casadi/core/oracle_function.cpp:326]\n",
      "CasADi - 2024-06-28 10:09:00 WARNING(\"roots:g failed: Inf detected for output x, at (row 0, col 0).\") [.../casadi/core/oracle_function.cpp:326]\n"
     ]
    },
    {
     "name": "stdout",
     "output_type": "stream",
     "text": [
      "Solver failed for parameters: [5.49218750e-05 7.48828125e-05 1.16796875e-05 7.06640625e-01\n",
      " 6.55468750e-01 5.60156250e-06 4.97656250e-06 1.08632812e+03\n",
      " 2.46093750e+02 1.91406250e+00 1.34531250e+00 1.58593750e+00\n",
      " 1.47656250e+00 2.85429688e+04 5.22851562e+04] with error: Events ['Maximum voltage [V]'] are non-positive at initial conditions\n"
     ]
    },
    {
     "name": "stderr",
     "output_type": "stream",
     "text": [
      "CasADi - 2024-06-28 10:09:01 WARNING(\"roots:g failed: Inf detected for output x, at (row 0, col 0).\") [.../casadi/core/oracle_function.cpp:326]\n",
      "CasADi - 2024-06-28 10:09:01 WARNING(\"roots:g failed: Inf detected for output x, at (row 0, col 0).\") [.../casadi/core/oracle_function.cpp:326]\n",
      "CasADi - 2024-06-28 10:09:01 WARNING(\"roots:g failed: Inf detected for output x, at (row 0, col 0).\") [.../casadi/core/oracle_function.cpp:326]\n",
      "CasADi - 2024-06-28 10:09:01 WARNING(\"roots:g failed: Inf detected for output x, at (row 0, col 0).\") [.../casadi/core/oracle_function.cpp:326]\n",
      "CasADi - 2024-06-28 10:09:01 WARNING(\"roots:g failed: Inf detected for output x, at (row 0, col 0).\") [.../casadi/core/oracle_function.cpp:326]\n"
     ]
    },
    {
     "name": "stdout",
     "output_type": "stream",
     "text": [
      "Solver failed for parameters: [5.49218750e-05 7.48828125e-05 1.16796875e-05 7.06640625e-01\n",
      " 6.55468750e-01 5.60156250e-06 4.97656250e-06 1.08632812e+03\n",
      " 2.46093750e+02 1.91406250e+00 1.34531250e+00 1.54531250e+00\n",
      " 1.43593750e+00 2.85429688e+04 5.22851562e+04] with error: Events ['Maximum voltage [V]'] are non-positive at initial conditions\n"
     ]
    },
    {
     "name": "stderr",
     "output_type": "stream",
     "text": [
      "CasADi - 2024-06-28 10:09:01 WARNING(\"roots:g failed: Inf detected for output x, at (row 0, col 0).\") [.../casadi/core/oracle_function.cpp:326]\n",
      "CasADi - 2024-06-28 10:09:01 WARNING(\"roots:g failed: Inf detected for output x, at (row 0, col 0).\") [.../casadi/core/oracle_function.cpp:326]\n",
      "CasADi - 2024-06-28 10:09:01 WARNING(\"roots:g failed: Inf detected for output x, at (row 0, col 0).\") [.../casadi/core/oracle_function.cpp:326]\n",
      "CasADi - 2024-06-28 10:09:01 WARNING(\"roots:g failed: Inf detected for output x, at (row 0, col 0).\") [.../casadi/core/oracle_function.cpp:326]\n",
      "CasADi - 2024-06-28 10:09:01 WARNING(\"roots:g failed: Inf detected for output x, at (row 0, col 0).\") [.../casadi/core/oracle_function.cpp:326]\n"
     ]
    },
    {
     "name": "stdout",
     "output_type": "stream",
     "text": [
      "Solver failed for parameters: [5.49218750e-05 7.48828125e-05 1.16796875e-05 7.06640625e-01\n",
      " 6.55468750e-01 5.60156250e-06 4.97656250e-06 1.08632812e+03\n",
      " 2.46093750e+02 1.91406250e+00 1.34531250e+00 1.54531250e+00\n",
      " 1.47656250e+00 2.71679688e+04 5.22851562e+04] with error: Events ['Maximum voltage [V]'] are non-positive at initial conditions\n"
     ]
    },
    {
     "name": "stderr",
     "output_type": "stream",
     "text": [
      "CasADi - 2024-06-28 10:09:02 WARNING(\"roots:g failed: Inf detected for output x, at (row 0, col 0).\") [.../casadi/core/oracle_function.cpp:326]\n",
      "CasADi - 2024-06-28 10:09:02 WARNING(\"roots:g failed: Inf detected for output x, at (row 0, col 0).\") [.../casadi/core/oracle_function.cpp:326]\n",
      "CasADi - 2024-06-28 10:09:02 WARNING(\"roots:g failed: Inf detected for output x, at (row 0, col 0).\") [.../casadi/core/oracle_function.cpp:326]\n",
      "CasADi - 2024-06-28 10:09:02 WARNING(\"roots:g failed: Inf detected for output x, at (row 0, col 0).\") [.../casadi/core/oracle_function.cpp:326]\n",
      "CasADi - 2024-06-28 10:09:02 WARNING(\"roots:g failed: Inf detected for output x, at (row 0, col 0).\") [.../casadi/core/oracle_function.cpp:326]\n"
     ]
    },
    {
     "name": "stdout",
     "output_type": "stream",
     "text": [
      "Solver failed for parameters: [5.49218750e-05 7.48828125e-05 1.16796875e-05 7.06640625e-01\n",
      " 6.55468750e-01 5.60156250e-06 4.97656250e-06 1.08632812e+03\n",
      " 2.46093750e+02 1.91406250e+00 1.34531250e+00 1.54531250e+00\n",
      " 1.47656250e+00 2.85429688e+04 5.28710938e+04] with error: Events ['Maximum voltage [V]'] are non-positive at initial conditions\n"
     ]
    },
    {
     "name": "stderr",
     "output_type": "stream",
     "text": [
      "CasADi - 2024-06-28 10:09:02 WARNING(\"roots:g failed: Inf detected for output x, at (row 0, col 0).\") [.../casadi/core/oracle_function.cpp:326]\n",
      "CasADi - 2024-06-28 10:09:02 WARNING(\"roots:g failed: Inf detected for output x, at (row 0, col 0).\") [.../casadi/core/oracle_function.cpp:326]\n",
      "CasADi - 2024-06-28 10:09:02 WARNING(\"roots:g failed: Inf detected for output x, at (row 0, col 0).\") [.../casadi/core/oracle_function.cpp:326]\n",
      "CasADi - 2024-06-28 10:09:02 WARNING(\"roots:g failed: Inf detected for output x, at (row 0, col 0).\") [.../casadi/core/oracle_function.cpp:326]\n",
      "CasADi - 2024-06-28 10:09:02 WARNING(\"roots:g failed: Inf detected for output x, at (row 0, col 0).\") [.../casadi/core/oracle_function.cpp:326]\n"
     ]
    },
    {
     "name": "stdout",
     "output_type": "stream",
     "text": [
      "Solver failed for parameters: [5.49218750e-05 6.79765625e-05 1.48046875e-05 7.70703125e-01\n",
      " 5.86718750e-01 4.46093750e-06 4.86718750e-06 9.78515625e+02\n",
      " 2.61718750e+02 5.42968750e+00 1.32343750e+00 1.58593750e+00\n",
      " 1.43593750e+00 2.71679688e+04 5.28710938e+04] with error: Events ['Maximum voltage [V]'] are non-positive at initial conditions\n"
     ]
    },
    {
     "name": "stderr",
     "output_type": "stream",
     "text": [
      "CasADi - 2024-06-28 10:09:02 WARNING(\"roots:g failed: Inf detected for output x, at (row 0, col 0).\") [.../casadi/core/oracle_function.cpp:326]\n",
      "CasADi - 2024-06-28 10:09:02 WARNING(\"roots:g failed: Inf detected for output x, at (row 0, col 0).\") [.../casadi/core/oracle_function.cpp:326]\n",
      "CasADi - 2024-06-28 10:09:02 WARNING(\"roots:g failed: Inf detected for output x, at (row 0, col 0).\") [.../casadi/core/oracle_function.cpp:326]\n",
      "CasADi - 2024-06-28 10:09:02 WARNING(\"roots:g failed: Inf detected for output x, at (row 0, col 0).\") [.../casadi/core/oracle_function.cpp:326]\n"
     ]
    },
    {
     "name": "stdout",
     "output_type": "stream",
     "text": [
      "Solver failed for parameters: [8.19218750e-05 7.48828125e-05 1.48046875e-05 7.70703125e-01\n",
      " 5.86718750e-01 4.46093750e-06 4.86718750e-06 9.78515625e+02\n",
      " 2.61718750e+02 5.42968750e+00 1.32343750e+00 1.58593750e+00\n",
      " 1.43593750e+00 2.71679688e+04 5.28710938e+04] with error: Events ['Maximum voltage [V]'] are non-positive at initial conditions\n"
     ]
    },
    {
     "name": "stderr",
     "output_type": "stream",
     "text": [
      "CasADi - 2024-06-28 10:09:03 WARNING(\"roots:g failed: Inf detected for output x, at (row 0, col 0).\") [.../casadi/core/oracle_function.cpp:326]\n",
      "CasADi - 2024-06-28 10:09:03 WARNING(\"roots:g failed: Inf detected for output x, at (row 0, col 0).\") [.../casadi/core/oracle_function.cpp:326]\n",
      "CasADi - 2024-06-28 10:09:03 WARNING(\"roots:g failed: Inf detected for output x, at (row 0, col 0).\") [.../casadi/core/oracle_function.cpp:326]\n",
      "CasADi - 2024-06-28 10:09:03 WARNING(\"roots:g failed: Inf detected for output x, at (row 0, col 0).\") [.../casadi/core/oracle_function.cpp:326]\n"
     ]
    },
    {
     "name": "stdout",
     "output_type": "stream",
     "text": [
      "Solver failed for parameters: [8.19218750e-05 6.79765625e-05 1.16796875e-05 7.70703125e-01\n",
      " 5.86718750e-01 4.46093750e-06 4.86718750e-06 9.78515625e+02\n",
      " 2.61718750e+02 5.42968750e+00 1.32343750e+00 1.58593750e+00\n",
      " 1.43593750e+00 2.71679688e+04 5.28710938e+04] with error: Events ['Maximum voltage [V]'] are non-positive at initial conditions\n"
     ]
    },
    {
     "name": "stderr",
     "output_type": "stream",
     "text": [
      "CasADi - 2024-06-28 10:09:03 WARNING(\"roots:g failed: Inf detected for output x, at (row 0, col 0).\") [.../casadi/core/oracle_function.cpp:326]\n",
      "CasADi - 2024-06-28 10:09:03 WARNING(\"roots:g failed: Inf detected for output x, at (row 0, col 0).\") [.../casadi/core/oracle_function.cpp:326]\n",
      "CasADi - 2024-06-28 10:09:03 WARNING(\"roots:g failed: Inf detected for output x, at (row 0, col 0).\") [.../casadi/core/oracle_function.cpp:326]\n",
      "CasADi - 2024-06-28 10:09:03 WARNING(\"roots:g failed: Inf detected for output x, at (row 0, col 0).\") [.../casadi/core/oracle_function.cpp:326]\n"
     ]
    },
    {
     "name": "stdout",
     "output_type": "stream",
     "text": [
      "Solver failed for parameters: [8.19218750e-05 6.79765625e-05 1.48046875e-05 7.06640625e-01\n",
      " 5.86718750e-01 4.46093750e-06 4.86718750e-06 9.78515625e+02\n",
      " 2.61718750e+02 5.42968750e+00 1.32343750e+00 1.58593750e+00\n",
      " 1.43593750e+00 2.71679688e+04 5.28710938e+04] with error: Events ['Maximum voltage [V]'] are non-positive at initial conditions\n"
     ]
    },
    {
     "name": "stderr",
     "output_type": "stream",
     "text": [
      "CasADi - 2024-06-28 10:09:04 WARNING(\"roots:g failed: Inf detected for output x, at (row 0, col 0).\") [.../casadi/core/oracle_function.cpp:326]\n",
      "CasADi - 2024-06-28 10:09:04 WARNING(\"roots:g failed: Inf detected for output x, at (row 0, col 0).\") [.../casadi/core/oracle_function.cpp:326]\n",
      "CasADi - 2024-06-28 10:09:04 WARNING(\"roots:g failed: Inf detected for output x, at (row 0, col 0).\") [.../casadi/core/oracle_function.cpp:326]\n",
      "CasADi - 2024-06-28 10:09:04 WARNING(\"roots:g failed: Inf detected for output x, at (row 0, col 0).\") [.../casadi/core/oracle_function.cpp:326]\n"
     ]
    },
    {
     "name": "stdout",
     "output_type": "stream",
     "text": [
      "Solver failed for parameters: [8.19218750e-05 6.79765625e-05 1.48046875e-05 7.70703125e-01\n",
      " 6.55468750e-01 4.46093750e-06 4.86718750e-06 9.78515625e+02\n",
      " 2.61718750e+02 5.42968750e+00 1.32343750e+00 1.58593750e+00\n",
      " 1.43593750e+00 2.71679688e+04 5.28710938e+04] with error: Events ['Maximum voltage [V]'] are non-positive at initial conditions\n"
     ]
    },
    {
     "name": "stderr",
     "output_type": "stream",
     "text": [
      "CasADi - 2024-06-28 10:09:04 WARNING(\"roots:g failed: Inf detected for output x, at (row 0, col 0).\") [.../casadi/core/oracle_function.cpp:326]\n",
      "CasADi - 2024-06-28 10:09:04 WARNING(\"roots:g failed: Inf detected for output x, at (row 0, col 0).\") [.../casadi/core/oracle_function.cpp:326]\n",
      "CasADi - 2024-06-28 10:09:04 WARNING(\"roots:g failed: Inf detected for output x, at (row 0, col 0).\") [.../casadi/core/oracle_function.cpp:326]\n",
      "CasADi - 2024-06-28 10:09:04 WARNING(\"roots:g failed: Inf detected for output x, at (row 0, col 0).\") [.../casadi/core/oracle_function.cpp:326]\n",
      "CasADi - 2024-06-28 10:09:04 WARNING(\"roots:g failed: Inf detected for output x, at (row 0, col 0).\") [.../casadi/core/oracle_function.cpp:326]\n"
     ]
    },
    {
     "name": "stdout",
     "output_type": "stream",
     "text": [
      "Solver failed for parameters: [8.19218750e-05 6.79765625e-05 1.48046875e-05 7.70703125e-01\n",
      " 5.86718750e-01 5.60156250e-06 4.86718750e-06 9.78515625e+02\n",
      " 2.61718750e+02 5.42968750e+00 1.32343750e+00 1.58593750e+00\n",
      " 1.43593750e+00 2.71679688e+04 5.28710938e+04] with error: Events ['Maximum voltage [V]'] are non-positive at initial conditions\n"
     ]
    },
    {
     "name": "stderr",
     "output_type": "stream",
     "text": [
      "CasADi - 2024-06-28 10:09:05 WARNING(\"roots:g failed: Inf detected for output x, at (row 0, col 0).\") [.../casadi/core/oracle_function.cpp:326]\n",
      "CasADi - 2024-06-28 10:09:05 WARNING(\"roots:g failed: Inf detected for output x, at (row 0, col 0).\") [.../casadi/core/oracle_function.cpp:326]\n",
      "CasADi - 2024-06-28 10:09:05 WARNING(\"roots:g failed: Inf detected for output x, at (row 0, col 0).\") [.../casadi/core/oracle_function.cpp:326]\n",
      "CasADi - 2024-06-28 10:09:05 WARNING(\"roots:g failed: Inf detected for output x, at (row 0, col 0).\") [.../casadi/core/oracle_function.cpp:326]\n"
     ]
    },
    {
     "name": "stdout",
     "output_type": "stream",
     "text": [
      "Solver failed for parameters: [8.19218750e-05 6.79765625e-05 1.48046875e-05 7.70703125e-01\n",
      " 5.86718750e-01 4.46093750e-06 4.97656250e-06 9.78515625e+02\n",
      " 2.61718750e+02 5.42968750e+00 1.32343750e+00 1.58593750e+00\n",
      " 1.43593750e+00 2.71679688e+04 5.28710938e+04] with error: Events ['Maximum voltage [V]'] are non-positive at initial conditions\n"
     ]
    },
    {
     "name": "stderr",
     "output_type": "stream",
     "text": [
      "CasADi - 2024-06-28 10:09:05 WARNING(\"roots:g failed: Inf detected for output x, at (row 0, col 0).\") [.../casadi/core/oracle_function.cpp:326]\n",
      "CasADi - 2024-06-28 10:09:05 WARNING(\"roots:g failed: Inf detected for output x, at (row 0, col 0).\") [.../casadi/core/oracle_function.cpp:326]\n",
      "CasADi - 2024-06-28 10:09:05 WARNING(\"roots:g failed: Inf detected for output x, at (row 0, col 0).\") [.../casadi/core/oracle_function.cpp:326]\n",
      "CasADi - 2024-06-28 10:09:05 WARNING(\"roots:g failed: Inf detected for output x, at (row 0, col 0).\") [.../casadi/core/oracle_function.cpp:326]\n"
     ]
    },
    {
     "name": "stdout",
     "output_type": "stream",
     "text": [
      "Solver failed for parameters: [8.19218750e-05 6.79765625e-05 1.48046875e-05 7.70703125e-01\n",
      " 5.86718750e-01 4.46093750e-06 4.86718750e-06 1.08632812e+03\n",
      " 2.61718750e+02 5.42968750e+00 1.32343750e+00 1.58593750e+00\n",
      " 1.43593750e+00 2.71679688e+04 5.28710938e+04] with error: Events ['Maximum voltage [V]'] are non-positive at initial conditions\n"
     ]
    },
    {
     "name": "stderr",
     "output_type": "stream",
     "text": [
      "CasADi - 2024-06-28 10:09:06 WARNING(\"roots:g failed: Inf detected for output x, at (row 0, col 0).\") [.../casadi/core/oracle_function.cpp:326]\n",
      "CasADi - 2024-06-28 10:09:06 WARNING(\"roots:g failed: Inf detected for output x, at (row 0, col 0).\") [.../casadi/core/oracle_function.cpp:326]\n",
      "CasADi - 2024-06-28 10:09:06 WARNING(\"roots:g failed: Inf detected for output x, at (row 0, col 0).\") [.../casadi/core/oracle_function.cpp:326]\n",
      "CasADi - 2024-06-28 10:09:06 WARNING(\"roots:g failed: Inf detected for output x, at (row 0, col 0).\") [.../casadi/core/oracle_function.cpp:326]\n"
     ]
    },
    {
     "name": "stdout",
     "output_type": "stream",
     "text": [
      "Solver failed for parameters: [8.19218750e-05 6.79765625e-05 1.48046875e-05 7.70703125e-01\n",
      " 5.86718750e-01 4.46093750e-06 4.86718750e-06 9.78515625e+02\n",
      " 2.46093750e+02 5.42968750e+00 1.32343750e+00 1.58593750e+00\n",
      " 1.43593750e+00 2.71679688e+04 5.28710938e+04] with error: Events ['Maximum voltage [V]'] are non-positive at initial conditions\n"
     ]
    },
    {
     "name": "stderr",
     "output_type": "stream",
     "text": [
      "CasADi - 2024-06-28 10:09:06 WARNING(\"roots:g failed: Inf detected for output x, at (row 0, col 0).\") [.../casadi/core/oracle_function.cpp:326]\n",
      "CasADi - 2024-06-28 10:09:06 WARNING(\"roots:g failed: Inf detected for output x, at (row 0, col 0).\") [.../casadi/core/oracle_function.cpp:326]\n",
      "CasADi - 2024-06-28 10:09:06 WARNING(\"roots:g failed: Inf detected for output x, at (row 0, col 0).\") [.../casadi/core/oracle_function.cpp:326]\n",
      "CasADi - 2024-06-28 10:09:06 WARNING(\"roots:g failed: Inf detected for output x, at (row 0, col 0).\") [.../casadi/core/oracle_function.cpp:326]\n"
     ]
    },
    {
     "name": "stdout",
     "output_type": "stream",
     "text": [
      "Solver failed for parameters: [8.19218750e-05 6.79765625e-05 1.48046875e-05 7.70703125e-01\n",
      " 5.86718750e-01 4.46093750e-06 4.86718750e-06 9.78515625e+02\n",
      " 2.61718750e+02 1.91406250e+00 1.32343750e+00 1.58593750e+00\n",
      " 1.43593750e+00 2.71679688e+04 5.28710938e+04] with error: Events ['Maximum voltage [V]'] are non-positive at initial conditions\n"
     ]
    },
    {
     "name": "stderr",
     "output_type": "stream",
     "text": [
      "CasADi - 2024-06-28 10:09:07 WARNING(\"roots:g failed: Inf detected for output x, at (row 0, col 0).\") [.../casadi/core/oracle_function.cpp:326]\n",
      "CasADi - 2024-06-28 10:09:07 WARNING(\"roots:g failed: Inf detected for output x, at (row 0, col 0).\") [.../casadi/core/oracle_function.cpp:326]\n",
      "CasADi - 2024-06-28 10:09:07 WARNING(\"roots:g failed: Inf detected for output x, at (row 0, col 0).\") [.../casadi/core/oracle_function.cpp:326]\n",
      "CasADi - 2024-06-28 10:09:07 WARNING(\"roots:g failed: Inf detected for output x, at (row 0, col 0).\") [.../casadi/core/oracle_function.cpp:326]\n"
     ]
    },
    {
     "name": "stdout",
     "output_type": "stream",
     "text": [
      "Solver failed for parameters: [8.19218750e-05 6.79765625e-05 1.48046875e-05 7.70703125e-01\n",
      " 5.86718750e-01 4.46093750e-06 4.86718750e-06 9.78515625e+02\n",
      " 2.61718750e+02 5.42968750e+00 1.34531250e+00 1.58593750e+00\n",
      " 1.43593750e+00 2.71679688e+04 5.28710938e+04] with error: Events ['Maximum voltage [V]'] are non-positive at initial conditions\n"
     ]
    },
    {
     "name": "stderr",
     "output_type": "stream",
     "text": [
      "CasADi - 2024-06-28 10:09:07 WARNING(\"roots:g failed: Inf detected for output x, at (row 0, col 0).\") [.../casadi/core/oracle_function.cpp:326]\n",
      "CasADi - 2024-06-28 10:09:07 WARNING(\"roots:g failed: Inf detected for output x, at (row 0, col 0).\") [.../casadi/core/oracle_function.cpp:326]\n",
      "CasADi - 2024-06-28 10:09:07 WARNING(\"roots:g failed: Inf detected for output x, at (row 0, col 0).\") [.../casadi/core/oracle_function.cpp:326]\n",
      "CasADi - 2024-06-28 10:09:07 WARNING(\"roots:g failed: Inf detected for output x, at (row 0, col 0).\") [.../casadi/core/oracle_function.cpp:326]\n"
     ]
    },
    {
     "name": "stdout",
     "output_type": "stream",
     "text": [
      "Solver failed for parameters: [8.19218750e-05 6.79765625e-05 1.48046875e-05 7.70703125e-01\n",
      " 5.86718750e-01 4.46093750e-06 4.86718750e-06 9.78515625e+02\n",
      " 2.61718750e+02 5.42968750e+00 1.32343750e+00 1.54531250e+00\n",
      " 1.43593750e+00 2.71679688e+04 5.28710938e+04] with error: Events ['Maximum voltage [V]'] are non-positive at initial conditions\n"
     ]
    },
    {
     "name": "stderr",
     "output_type": "stream",
     "text": [
      "CasADi - 2024-06-28 10:09:08 WARNING(\"roots:g failed: Inf detected for output x, at (row 0, col 0).\") [.../casadi/core/oracle_function.cpp:326]\n",
      "CasADi - 2024-06-28 10:09:08 WARNING(\"roots:g failed: Inf detected for output x, at (row 0, col 0).\") [.../casadi/core/oracle_function.cpp:326]\n",
      "CasADi - 2024-06-28 10:09:08 WARNING(\"roots:g failed: Inf detected for output x, at (row 0, col 0).\") [.../casadi/core/oracle_function.cpp:326]\n",
      "CasADi - 2024-06-28 10:09:08 WARNING(\"roots:g failed: Inf detected for output x, at (row 0, col 0).\") [.../casadi/core/oracle_function.cpp:326]\n"
     ]
    },
    {
     "name": "stdout",
     "output_type": "stream",
     "text": [
      "Solver failed for parameters: [8.19218750e-05 6.79765625e-05 1.48046875e-05 7.70703125e-01\n",
      " 5.86718750e-01 4.46093750e-06 4.86718750e-06 9.78515625e+02\n",
      " 2.61718750e+02 5.42968750e+00 1.32343750e+00 1.58593750e+00\n",
      " 1.47656250e+00 2.71679688e+04 5.28710938e+04] with error: Events ['Maximum voltage [V]'] are non-positive at initial conditions\n"
     ]
    },
    {
     "name": "stderr",
     "output_type": "stream",
     "text": [
      "CasADi - 2024-06-28 10:09:08 WARNING(\"roots:g failed: Inf detected for output x, at (row 0, col 0).\") [.../casadi/core/oracle_function.cpp:326]\n",
      "CasADi - 2024-06-28 10:09:08 WARNING(\"roots:g failed: Inf detected for output x, at (row 0, col 0).\") [.../casadi/core/oracle_function.cpp:326]\n",
      "CasADi - 2024-06-28 10:09:08 WARNING(\"roots:g failed: Inf detected for output x, at (row 0, col 0).\") [.../casadi/core/oracle_function.cpp:326]\n",
      "CasADi - 2024-06-28 10:09:08 WARNING(\"roots:g failed: Inf detected for output x, at (row 0, col 0).\") [.../casadi/core/oracle_function.cpp:326]\n"
     ]
    },
    {
     "name": "stdout",
     "output_type": "stream",
     "text": [
      "Solver failed for parameters: [8.19218750e-05 6.79765625e-05 1.48046875e-05 7.70703125e-01\n",
      " 5.86718750e-01 4.46093750e-06 4.86718750e-06 9.78515625e+02\n",
      " 2.61718750e+02 5.42968750e+00 1.32343750e+00 1.58593750e+00\n",
      " 1.43593750e+00 2.85429688e+04 5.28710938e+04] with error: Events ['Maximum voltage [V]'] are non-positive at initial conditions\n"
     ]
    },
    {
     "name": "stderr",
     "output_type": "stream",
     "text": [
      "CasADi - 2024-06-28 10:09:08 WARNING(\"roots:g failed: Inf detected for output x, at (row 0, col 0).\") [.../casadi/core/oracle_function.cpp:326]\n",
      "CasADi - 2024-06-28 10:09:08 WARNING(\"roots:g failed: Inf detected for output x, at (row 0, col 0).\") [.../casadi/core/oracle_function.cpp:326]\n",
      "CasADi - 2024-06-28 10:09:08 WARNING(\"roots:g failed: Inf detected for output x, at (row 0, col 0).\") [.../casadi/core/oracle_function.cpp:326]\n",
      "CasADi - 2024-06-28 10:09:08 WARNING(\"roots:g failed: Inf detected for output x, at (row 0, col 0).\") [.../casadi/core/oracle_function.cpp:326]\n"
     ]
    },
    {
     "name": "stdout",
     "output_type": "stream",
     "text": [
      "Solver failed for parameters: [8.19218750e-05 6.79765625e-05 1.48046875e-05 7.70703125e-01\n",
      " 5.86718750e-01 4.46093750e-06 4.86718750e-06 9.78515625e+02\n",
      " 2.61718750e+02 5.42968750e+00 1.32343750e+00 1.58593750e+00\n",
      " 1.43593750e+00 2.71679688e+04 5.22851562e+04] with error: Events ['Maximum voltage [V]'] are non-positive at initial conditions\n"
     ]
    },
    {
     "name": "stderr",
     "output_type": "stream",
     "text": [
      "CasADi - 2024-06-28 10:09:09 WARNING(\"roots:g failed: Inf detected for output x, at (row 0, col 0).\") [.../casadi/core/oracle_function.cpp:326]\n",
      "CasADi - 2024-06-28 10:09:09 WARNING(\"roots:g failed: Inf detected for output x, at (row 0, col 0).\") [.../casadi/core/oracle_function.cpp:326]\n",
      "CasADi - 2024-06-28 10:09:09 WARNING(\"roots:g failed: Inf detected for output x, at (row 0, col 0).\") [.../casadi/core/oracle_function.cpp:326]\n",
      "CasADi - 2024-06-28 10:09:09 WARNING(\"roots:g failed: Inf detected for output x, at (row 0, col 0).\") [.../casadi/core/oracle_function.cpp:326]\n"
     ]
    },
    {
     "name": "stdout",
     "output_type": "stream",
     "text": [
      "Solver failed for parameters: [8.19218750e-05 6.79765625e-05 1.48046875e-05 7.70703125e-01\n",
      " 5.86718750e-01 4.46093750e-06 4.86718750e-06 9.78515625e+02\n",
      " 2.61718750e+02 5.42968750e+00 1.32343750e+00 1.58593750e+00\n",
      " 1.43593750e+00 2.71679688e+04 5.28710938e+04] with error: Events ['Maximum voltage [V]'] are non-positive at initial conditions\n"
     ]
    },
    {
     "name": "stderr",
     "output_type": "stream",
     "text": [
      "CasADi - 2024-06-28 10:09:09 WARNING(\"roots:g failed: Inf detected for output x, at (row 0, col 0).\") [.../casadi/core/oracle_function.cpp:326]\n",
      "CasADi - 2024-06-28 10:09:09 WARNING(\"roots:g failed: Inf detected for output x, at (row 0, col 0).\") [.../casadi/core/oracle_function.cpp:326]\n",
      "CasADi - 2024-06-28 10:09:09 WARNING(\"roots:g failed: Inf detected for output x, at (row 0, col 0).\") [.../casadi/core/oracle_function.cpp:326]\n",
      "CasADi - 2024-06-28 10:09:09 WARNING(\"roots:g failed: Inf detected for output x, at (row 0, col 0).\") [.../casadi/core/oracle_function.cpp:326]\n",
      "CasADi - 2024-06-28 10:09:09 WARNING(\"roots:g failed: Inf detected for output x, at (row 0, col 0).\") [.../casadi/core/oracle_function.cpp:326]\n"
     ]
    },
    {
     "name": "stdout",
     "output_type": "stream",
     "text": [
      "Solver failed for parameters: [5.71718750e-05 5.05078125e-05 1.73046875e-05 7.25390625e-01\n",
      " 5.92968750e-01 5.97656250e-06 5.35156250e-06 1.14257812e+03\n",
      " 2.83593750e+02 5.03906250e+00 1.32031250e+00 1.57031250e+00\n",
      " 1.35156250e+00 2.37304688e+04 6.25976562e+04] with error: Events ['Maximum voltage [V]'] are non-positive at initial conditions\n"
     ]
    },
    {
     "name": "stderr",
     "output_type": "stream",
     "text": [
      "CasADi - 2024-06-28 10:09:10 WARNING(\"roots:g failed: Inf detected for output x, at (row 0, col 0).\") [.../casadi/core/oracle_function.cpp:326]\n",
      "CasADi - 2024-06-28 10:09:10 WARNING(\"roots:g failed: Inf detected for output x, at (row 0, col 0).\") [.../casadi/core/oracle_function.cpp:326]\n",
      "CasADi - 2024-06-28 10:09:10 WARNING(\"roots:g failed: Inf detected for output x, at (row 0, col 0).\") [.../casadi/core/oracle_function.cpp:326]\n",
      "CasADi - 2024-06-28 10:09:10 WARNING(\"roots:g failed: Inf detected for output x, at (row 0, col 0).\") [.../casadi/core/oracle_function.cpp:326]\n",
      "CasADi - 2024-06-28 10:09:10 WARNING(\"roots:g failed: Inf detected for output x, at (row 0, col 0).\") [.../casadi/core/oracle_function.cpp:326]\n"
     ]
    },
    {
     "name": "stdout",
     "output_type": "stream",
     "text": [
      "Solver failed for parameters: [5.71718750e-05 5.05078125e-05 1.73046875e-05 7.25390625e-01\n",
      " 5.92968750e-01 5.97656250e-06 5.35156250e-06 1.14257812e+03\n",
      " 2.83593750e+02 5.03906250e+00 1.32031250e+00 1.57031250e+00\n",
      " 1.35156250e+00 2.37304688e+04 6.25976562e+04] with error: Events ['Maximum voltage [V]'] are non-positive at initial conditions\n"
     ]
    },
    {
     "name": "stderr",
     "output_type": "stream",
     "text": [
      "CasADi - 2024-06-28 10:09:10 WARNING(\"roots:g failed: Inf detected for output x, at (row 0, col 0).\") [.../casadi/core/oracle_function.cpp:326]\n",
      "CasADi - 2024-06-28 10:09:10 WARNING(\"roots:g failed: Inf detected for output x, at (row 0, col 0).\") [.../casadi/core/oracle_function.cpp:326]\n",
      "CasADi - 2024-06-28 10:09:10 WARNING(\"roots:g failed: Inf detected for output x, at (row 0, col 0).\") [.../casadi/core/oracle_function.cpp:326]\n",
      "CasADi - 2024-06-28 10:09:10 WARNING(\"roots:g failed: Inf detected for output x, at (row 0, col 0).\") [.../casadi/core/oracle_function.cpp:326]\n",
      "CasADi - 2024-06-28 10:09:10 WARNING(\"roots:g failed: Inf detected for output x, at (row 0, col 0).\") [.../casadi/core/oracle_function.cpp:326]\n"
     ]
    },
    {
     "name": "stdout",
     "output_type": "stream",
     "text": [
      "Solver failed for parameters: [5.71718750e-05 5.66015625e-05 1.73046875e-05 7.25390625e-01\n",
      " 5.92968750e-01 5.97656250e-06 5.35156250e-06 1.14257812e+03\n",
      " 2.83593750e+02 5.03906250e+00 1.32031250e+00 1.57031250e+00\n",
      " 1.35156250e+00 2.37304688e+04 6.25976562e+04] with error: Events ['Maximum voltage [V]'] are non-positive at initial conditions\n"
     ]
    },
    {
     "name": "stderr",
     "output_type": "stream",
     "text": [
      "CasADi - 2024-06-28 10:09:11 WARNING(\"roots:g failed: Inf detected for output x, at (row 0, col 0).\") [.../casadi/core/oracle_function.cpp:326]\n",
      "CasADi - 2024-06-28 10:09:11 WARNING(\"roots:g failed: Inf detected for output x, at (row 0, col 0).\") [.../casadi/core/oracle_function.cpp:326]\n",
      "CasADi - 2024-06-28 10:09:11 WARNING(\"roots:g failed: Inf detected for output x, at (row 0, col 0).\") [.../casadi/core/oracle_function.cpp:326]\n",
      "CasADi - 2024-06-28 10:09:11 WARNING(\"roots:g failed: Inf detected for output x, at (row 0, col 0).\") [.../casadi/core/oracle_function.cpp:326]\n",
      "CasADi - 2024-06-28 10:09:11 WARNING(\"roots:g failed: Inf detected for output x, at (row 0, col 0).\") [.../casadi/core/oracle_function.cpp:326]\n"
     ]
    },
    {
     "name": "stdout",
     "output_type": "stream",
     "text": [
      "Solver failed for parameters: [5.71718750e-05 5.05078125e-05 1.54296875e-05 7.25390625e-01\n",
      " 5.92968750e-01 5.97656250e-06 5.35156250e-06 1.14257812e+03\n",
      " 2.83593750e+02 5.03906250e+00 1.32031250e+00 1.57031250e+00\n",
      " 1.35156250e+00 2.37304688e+04 6.25976562e+04] with error: Events ['Maximum voltage [V]'] are non-positive at initial conditions\n"
     ]
    },
    {
     "name": "stderr",
     "output_type": "stream",
     "text": [
      "CasADi - 2024-06-28 10:09:11 WARNING(\"roots:g failed: Inf detected for output x, at (row 0, col 0).\") [.../casadi/core/oracle_function.cpp:326]\n",
      "CasADi - 2024-06-28 10:09:11 WARNING(\"roots:g failed: Inf detected for output x, at (row 0, col 0).\") [.../casadi/core/oracle_function.cpp:326]\n",
      "CasADi - 2024-06-28 10:09:11 WARNING(\"roots:g failed: Inf detected for output x, at (row 0, col 0).\") [.../casadi/core/oracle_function.cpp:326]\n",
      "CasADi - 2024-06-28 10:09:11 WARNING(\"roots:g failed: Inf detected for output x, at (row 0, col 0).\") [.../casadi/core/oracle_function.cpp:326]\n",
      "CasADi - 2024-06-28 10:09:11 WARNING(\"roots:g failed: Inf detected for output x, at (row 0, col 0).\") [.../casadi/core/oracle_function.cpp:326]\n"
     ]
    },
    {
     "name": "stdout",
     "output_type": "stream",
     "text": [
      "Solver failed for parameters: [5.71718750e-05 5.05078125e-05 1.73046875e-05 7.89453125e-01\n",
      " 5.92968750e-01 5.97656250e-06 5.35156250e-06 1.14257812e+03\n",
      " 2.83593750e+02 5.03906250e+00 1.32031250e+00 1.57031250e+00\n",
      " 1.35156250e+00 2.37304688e+04 6.25976562e+04] with error: Events ['Maximum voltage [V]'] are non-positive at initial conditions\n"
     ]
    },
    {
     "name": "stderr",
     "output_type": "stream",
     "text": [
      "CasADi - 2024-06-28 10:09:12 WARNING(\"roots:g failed: Inf detected for output x, at (row 0, col 0).\") [.../casadi/core/oracle_function.cpp:326]\n",
      "CasADi - 2024-06-28 10:09:12 WARNING(\"roots:g failed: Inf detected for output x, at (row 0, col 0).\") [.../casadi/core/oracle_function.cpp:326]\n",
      "CasADi - 2024-06-28 10:09:12 WARNING(\"roots:g failed: Inf detected for output x, at (row 0, col 0).\") [.../casadi/core/oracle_function.cpp:326]\n",
      "CasADi - 2024-06-28 10:09:12 WARNING(\"roots:g failed: Inf detected for output x, at (row 0, col 0).\") [.../casadi/core/oracle_function.cpp:326]\n",
      "CasADi - 2024-06-28 10:09:12 WARNING(\"roots:g failed: Inf detected for output x, at (row 0, col 0).\") [.../casadi/core/oracle_function.cpp:326]\n"
     ]
    },
    {
     "name": "stdout",
     "output_type": "stream",
     "text": [
      "Solver failed for parameters: [5.71718750e-05 5.05078125e-05 1.73046875e-05 7.25390625e-01\n",
      " 6.74218750e-01 5.97656250e-06 5.35156250e-06 1.14257812e+03\n",
      " 2.83593750e+02 5.03906250e+00 1.32031250e+00 1.57031250e+00\n",
      " 1.35156250e+00 2.37304688e+04 6.25976562e+04] with error: Events ['Maximum voltage [V]'] are non-positive at initial conditions\n"
     ]
    },
    {
     "name": "stderr",
     "output_type": "stream",
     "text": [
      "CasADi - 2024-06-28 10:09:12 WARNING(\"roots:g failed: Inf detected for output x, at (row 0, col 0).\") [.../casadi/core/oracle_function.cpp:326]\n",
      "CasADi - 2024-06-28 10:09:12 WARNING(\"roots:g failed: Inf detected for output x, at (row 0, col 0).\") [.../casadi/core/oracle_function.cpp:326]\n",
      "CasADi - 2024-06-28 10:09:12 WARNING(\"roots:g failed: Inf detected for output x, at (row 0, col 0).\") [.../casadi/core/oracle_function.cpp:326]\n",
      "CasADi - 2024-06-28 10:09:12 WARNING(\"roots:g failed: Inf detected for output x, at (row 0, col 0).\") [.../casadi/core/oracle_function.cpp:326]\n",
      "CasADi - 2024-06-28 10:09:12 WARNING(\"roots:g failed: Inf detected for output x, at (row 0, col 0).\") [.../casadi/core/oracle_function.cpp:326]\n"
     ]
    },
    {
     "name": "stdout",
     "output_type": "stream",
     "text": [
      "Solver failed for parameters: [5.71718750e-05 5.05078125e-05 1.73046875e-05 7.25390625e-01\n",
      " 5.92968750e-01 5.83593750e-06 5.35156250e-06 1.14257812e+03\n",
      " 2.83593750e+02 5.03906250e+00 1.32031250e+00 1.57031250e+00\n",
      " 1.35156250e+00 2.37304688e+04 6.25976562e+04] with error: Events ['Maximum voltage [V]'] are non-positive at initial conditions\n"
     ]
    },
    {
     "name": "stderr",
     "output_type": "stream",
     "text": [
      "CasADi - 2024-06-28 10:09:13 WARNING(\"roots:g failed: Inf detected for output x, at (row 0, col 0).\") [.../casadi/core/oracle_function.cpp:326]\n",
      "CasADi - 2024-06-28 10:09:13 WARNING(\"roots:g failed: Inf detected for output x, at (row 0, col 0).\") [.../casadi/core/oracle_function.cpp:326]\n",
      "CasADi - 2024-06-28 10:09:13 WARNING(\"roots:g failed: Inf detected for output x, at (row 0, col 0).\") [.../casadi/core/oracle_function.cpp:326]\n",
      "CasADi - 2024-06-28 10:09:13 WARNING(\"roots:g failed: Inf detected for output x, at (row 0, col 0).\") [.../casadi/core/oracle_function.cpp:326]\n",
      "CasADi - 2024-06-28 10:09:13 WARNING(\"roots:g failed: Inf detected for output x, at (row 0, col 0).\") [.../casadi/core/oracle_function.cpp:326]\n"
     ]
    },
    {
     "name": "stdout",
     "output_type": "stream",
     "text": [
      "Solver failed for parameters: [5.71718750e-05 5.05078125e-05 1.73046875e-05 7.25390625e-01\n",
      " 5.92968750e-01 5.97656250e-06 5.49218750e-06 1.14257812e+03\n",
      " 2.83593750e+02 5.03906250e+00 1.32031250e+00 1.57031250e+00\n",
      " 1.35156250e+00 2.37304688e+04 6.25976562e+04] with error: Events ['Maximum voltage [V]'] are non-positive at initial conditions\n"
     ]
    },
    {
     "name": "stderr",
     "output_type": "stream",
     "text": [
      "CasADi - 2024-06-28 10:09:13 WARNING(\"roots:g failed: Inf detected for output x, at (row 0, col 0).\") [.../casadi/core/oracle_function.cpp:326]\n",
      "CasADi - 2024-06-28 10:09:13 WARNING(\"roots:g failed: Inf detected for output x, at (row 0, col 0).\") [.../casadi/core/oracle_function.cpp:326]\n",
      "CasADi - 2024-06-28 10:09:13 WARNING(\"roots:g failed: Inf detected for output x, at (row 0, col 0).\") [.../casadi/core/oracle_function.cpp:326]\n",
      "CasADi - 2024-06-28 10:09:13 WARNING(\"roots:g failed: Inf detected for output x, at (row 0, col 0).\") [.../casadi/core/oracle_function.cpp:326]\n",
      "CasADi - 2024-06-28 10:09:13 WARNING(\"roots:g failed: Inf detected for output x, at (row 0, col 0).\") [.../casadi/core/oracle_function.cpp:326]\n"
     ]
    },
    {
     "name": "stdout",
     "output_type": "stream",
     "text": [
      "Solver failed for parameters: [5.71718750e-05 5.05078125e-05 1.73046875e-05 7.25390625e-01\n",
      " 5.92968750e-01 5.97656250e-06 5.35156250e-06 1.14726562e+03\n",
      " 2.83593750e+02 5.03906250e+00 1.32031250e+00 1.57031250e+00\n",
      " 1.35156250e+00 2.37304688e+04 6.25976562e+04] with error: Events ['Maximum voltage [V]'] are non-positive at initial conditions\n"
     ]
    },
    {
     "name": "stderr",
     "output_type": "stream",
     "text": [
      "CasADi - 2024-06-28 10:09:14 WARNING(\"roots:g failed: Inf detected for output x, at (row 0, col 0).\") [.../casadi/core/oracle_function.cpp:326]\n",
      "CasADi - 2024-06-28 10:09:14 WARNING(\"roots:g failed: Inf detected for output x, at (row 0, col 0).\") [.../casadi/core/oracle_function.cpp:326]\n",
      "CasADi - 2024-06-28 10:09:14 WARNING(\"roots:g failed: Inf detected for output x, at (row 0, col 0).\") [.../casadi/core/oracle_function.cpp:326]\n",
      "CasADi - 2024-06-28 10:09:14 WARNING(\"roots:g failed: Inf detected for output x, at (row 0, col 0).\") [.../casadi/core/oracle_function.cpp:326]\n",
      "CasADi - 2024-06-28 10:09:14 WARNING(\"roots:g failed: Inf detected for output x, at (row 0, col 0).\") [.../casadi/core/oracle_function.cpp:326]\n"
     ]
    },
    {
     "name": "stdout",
     "output_type": "stream",
     "text": [
      "Solver failed for parameters: [5.71718750e-05 5.05078125e-05 1.73046875e-05 7.25390625e-01\n",
      " 5.92968750e-01 5.97656250e-06 5.35156250e-06 1.14257812e+03\n",
      " 1.24218750e+02 5.03906250e+00 1.32031250e+00 1.57031250e+00\n",
      " 1.35156250e+00 2.37304688e+04 6.25976562e+04] with error: Events ['Maximum voltage [V]'] are non-positive at initial conditions\n"
     ]
    },
    {
     "name": "stderr",
     "output_type": "stream",
     "text": [
      "CasADi - 2024-06-28 10:09:14 WARNING(\"roots:g failed: Inf detected for output x, at (row 0, col 0).\") [.../casadi/core/oracle_function.cpp:326]\n",
      "CasADi - 2024-06-28 10:09:14 WARNING(\"roots:g failed: Inf detected for output x, at (row 0, col 0).\") [.../casadi/core/oracle_function.cpp:326]\n",
      "CasADi - 2024-06-28 10:09:14 WARNING(\"roots:g failed: Inf detected for output x, at (row 0, col 0).\") [.../casadi/core/oracle_function.cpp:326]\n",
      "CasADi - 2024-06-28 10:09:14 WARNING(\"roots:g failed: Inf detected for output x, at (row 0, col 0).\") [.../casadi/core/oracle_function.cpp:326]\n",
      "CasADi - 2024-06-28 10:09:14 WARNING(\"roots:g failed: Inf detected for output x, at (row 0, col 0).\") [.../casadi/core/oracle_function.cpp:326]\n"
     ]
    },
    {
     "name": "stdout",
     "output_type": "stream",
     "text": [
      "Solver failed for parameters: [5.71718750e-05 5.05078125e-05 1.73046875e-05 7.25390625e-01\n",
      " 5.92968750e-01 5.97656250e-06 5.35156250e-06 1.14257812e+03\n",
      " 2.83593750e+02 8.55468750e+00 1.32031250e+00 1.57031250e+00\n",
      " 1.35156250e+00 2.37304688e+04 6.25976562e+04] with error: Events ['Maximum voltage [V]'] are non-positive at initial conditions\n"
     ]
    },
    {
     "name": "stderr",
     "output_type": "stream",
     "text": [
      "CasADi - 2024-06-28 10:09:14 WARNING(\"roots:g failed: Inf detected for output x, at (row 0, col 0).\") [.../casadi/core/oracle_function.cpp:326]\n",
      "CasADi - 2024-06-28 10:09:14 WARNING(\"roots:g failed: Inf detected for output x, at (row 0, col 0).\") [.../casadi/core/oracle_function.cpp:326]\n",
      "CasADi - 2024-06-28 10:09:14 WARNING(\"roots:g failed: Inf detected for output x, at (row 0, col 0).\") [.../casadi/core/oracle_function.cpp:326]\n",
      "CasADi - 2024-06-28 10:09:14 WARNING(\"roots:g failed: Inf detected for output x, at (row 0, col 0).\") [.../casadi/core/oracle_function.cpp:326]\n",
      "CasADi - 2024-06-28 10:09:14 WARNING(\"roots:g failed: Inf detected for output x, at (row 0, col 0).\") [.../casadi/core/oracle_function.cpp:326]\n"
     ]
    },
    {
     "name": "stdout",
     "output_type": "stream",
     "text": [
      "Solver failed for parameters: [5.71718750e-05 5.05078125e-05 1.73046875e-05 7.25390625e-01\n",
      " 5.92968750e-01 5.97656250e-06 5.35156250e-06 1.14257812e+03\n",
      " 2.83593750e+02 5.03906250e+00 1.59843750e+00 1.57031250e+00\n",
      " 1.35156250e+00 2.37304688e+04 6.25976562e+04] with error: Events ['Maximum voltage [V]'] are non-positive at initial conditions\n"
     ]
    },
    {
     "name": "stderr",
     "output_type": "stream",
     "text": [
      "CasADi - 2024-06-28 10:09:15 WARNING(\"roots:g failed: Inf detected for output x, at (row 0, col 0).\") [.../casadi/core/oracle_function.cpp:326]\n",
      "CasADi - 2024-06-28 10:09:15 WARNING(\"roots:g failed: Inf detected for output x, at (row 0, col 0).\") [.../casadi/core/oracle_function.cpp:326]\n",
      "CasADi - 2024-06-28 10:09:15 WARNING(\"roots:g failed: Inf detected for output x, at (row 0, col 0).\") [.../casadi/core/oracle_function.cpp:326]\n",
      "CasADi - 2024-06-28 10:09:15 WARNING(\"roots:g failed: Inf detected for output x, at (row 0, col 0).\") [.../casadi/core/oracle_function.cpp:326]\n",
      "CasADi - 2024-06-28 10:09:15 WARNING(\"roots:g failed: Inf detected for output x, at (row 0, col 0).\") [.../casadi/core/oracle_function.cpp:326]\n"
     ]
    },
    {
     "name": "stdout",
     "output_type": "stream",
     "text": [
      "Solver failed for parameters: [5.71718750e-05 5.05078125e-05 1.73046875e-05 7.25390625e-01\n",
      " 5.92968750e-01 5.97656250e-06 5.35156250e-06 1.14257812e+03\n",
      " 2.83593750e+02 5.03906250e+00 1.32031250e+00 1.51093750e+00\n",
      " 1.35156250e+00 2.37304688e+04 6.25976562e+04] with error: Events ['Maximum voltage [V]'] are non-positive at initial conditions\n"
     ]
    },
    {
     "name": "stderr",
     "output_type": "stream",
     "text": [
      "CasADi - 2024-06-28 10:09:15 WARNING(\"roots:g failed: Inf detected for output x, at (row 0, col 0).\") [.../casadi/core/oracle_function.cpp:326]\n",
      "CasADi - 2024-06-28 10:09:15 WARNING(\"roots:g failed: Inf detected for output x, at (row 0, col 0).\") [.../casadi/core/oracle_function.cpp:326]\n",
      "CasADi - 2024-06-28 10:09:15 WARNING(\"roots:g failed: Inf detected for output x, at (row 0, col 0).\") [.../casadi/core/oracle_function.cpp:326]\n",
      "CasADi - 2024-06-28 10:09:15 WARNING(\"roots:g failed: Inf detected for output x, at (row 0, col 0).\") [.../casadi/core/oracle_function.cpp:326]\n",
      "CasADi - 2024-06-28 10:09:15 WARNING(\"roots:g failed: Inf detected for output x, at (row 0, col 0).\") [.../casadi/core/oracle_function.cpp:326]\n"
     ]
    },
    {
     "name": "stdout",
     "output_type": "stream",
     "text": [
      "Solver failed for parameters: [5.71718750e-05 5.05078125e-05 1.73046875e-05 7.25390625e-01\n",
      " 5.92968750e-01 5.97656250e-06 5.35156250e-06 1.14257812e+03\n",
      " 2.83593750e+02 5.03906250e+00 1.32031250e+00 1.57031250e+00\n",
      " 1.51093750e+00 2.37304688e+04 6.25976562e+04] with error: Events ['Maximum voltage [V]'] are non-positive at initial conditions\n"
     ]
    },
    {
     "name": "stderr",
     "output_type": "stream",
     "text": [
      "CasADi - 2024-06-28 10:09:16 WARNING(\"roots:g failed: Inf detected for output x, at (row 0, col 0).\") [.../casadi/core/oracle_function.cpp:326]\n",
      "CasADi - 2024-06-28 10:09:16 WARNING(\"roots:g failed: Inf detected for output x, at (row 0, col 0).\") [.../casadi/core/oracle_function.cpp:326]\n",
      "CasADi - 2024-06-28 10:09:16 WARNING(\"roots:g failed: Inf detected for output x, at (row 0, col 0).\") [.../casadi/core/oracle_function.cpp:326]\n",
      "CasADi - 2024-06-28 10:09:16 WARNING(\"roots:g failed: Inf detected for output x, at (row 0, col 0).\") [.../casadi/core/oracle_function.cpp:326]\n",
      "CasADi - 2024-06-28 10:09:16 WARNING(\"roots:g failed: Inf detected for output x, at (row 0, col 0).\") [.../casadi/core/oracle_function.cpp:326]\n"
     ]
    },
    {
     "name": "stdout",
     "output_type": "stream",
     "text": [
      "Solver failed for parameters: [5.71718750e-05 5.05078125e-05 1.73046875e-05 7.25390625e-01\n",
      " 5.92968750e-01 5.97656250e-06 5.35156250e-06 1.14257812e+03\n",
      " 2.83593750e+02 5.03906250e+00 1.32031250e+00 1.57031250e+00\n",
      " 1.35156250e+00 2.51054688e+04 6.25976562e+04] with error: Events ['Maximum voltage [V]'] are non-positive at initial conditions\n"
     ]
    },
    {
     "name": "stderr",
     "output_type": "stream",
     "text": [
      "CasADi - 2024-06-28 10:09:17 WARNING(\"roots:g failed: Inf detected for output x, at (row 0, col 0).\") [.../casadi/core/oracle_function.cpp:326]\n",
      "CasADi - 2024-06-28 10:09:17 WARNING(\"roots:g failed: Inf detected for output x, at (row 0, col 0).\") [.../casadi/core/oracle_function.cpp:326]\n",
      "CasADi - 2024-06-28 10:09:17 WARNING(\"roots:g failed: Inf detected for output x, at (row 0, col 0).\") [.../casadi/core/oracle_function.cpp:326]\n",
      "CasADi - 2024-06-28 10:09:17 WARNING(\"roots:g failed: Inf detected for output x, at (row 0, col 0).\") [.../casadi/core/oracle_function.cpp:326]\n",
      "CasADi - 2024-06-28 10:09:17 WARNING(\"roots:g failed: Inf detected for output x, at (row 0, col 0).\") [.../casadi/core/oracle_function.cpp:326]\n"
     ]
    },
    {
     "name": "stdout",
     "output_type": "stream",
     "text": [
      "Solver failed for parameters: [5.71718750e-05 5.05078125e-05 1.73046875e-05 7.25390625e-01\n",
      " 5.92968750e-01 5.97656250e-06 5.35156250e-06 1.14257812e+03\n",
      " 2.83593750e+02 5.03906250e+00 1.32031250e+00 1.57031250e+00\n",
      " 1.35156250e+00 2.37304688e+04 5.94335938e+04] with error: Events ['Maximum voltage [V]'] are non-positive at initial conditions\n"
     ]
    },
    {
     "name": "stderr",
     "output_type": "stream",
     "text": [
      "CasADi - 2024-06-28 10:09:17 WARNING(\"roots:g failed: Inf detected for output x, at (row 0, col 0).\") [.../casadi/core/oracle_function.cpp:326]\n",
      "CasADi - 2024-06-28 10:09:17 WARNING(\"roots:g failed: Inf detected for output x, at (row 0, col 0).\") [.../casadi/core/oracle_function.cpp:326]\n",
      "CasADi - 2024-06-28 10:09:17 WARNING(\"roots:g failed: Inf detected for output x, at (row 0, col 0).\") [.../casadi/core/oracle_function.cpp:326]\n",
      "CasADi - 2024-06-28 10:09:17 WARNING(\"roots:g failed: Inf detected for output x, at (row 0, col 0).\") [.../casadi/core/oracle_function.cpp:326]\n",
      "CasADi - 2024-06-28 10:09:17 WARNING(\"roots:g failed: Inf detected for output x, at (row 0, col 0).\") [.../casadi/core/oracle_function.cpp:326]\n"
     ]
    },
    {
     "name": "stdout",
     "output_type": "stream",
     "text": [
      "Solver failed for parameters: [5.71718750e-05 5.66015625e-05 1.54296875e-05 7.89453125e-01\n",
      " 6.74218750e-01 5.83593750e-06 5.49218750e-06 1.14726562e+03\n",
      " 1.24218750e+02 8.55468750e+00 1.59843750e+00 1.51093750e+00\n",
      " 1.51093750e+00 2.51054688e+04 5.94335938e+04] with error: Events ['Maximum voltage [V]'] are non-positive at initial conditions\n"
     ]
    },
    {
     "name": "stderr",
     "output_type": "stream",
     "text": [
      "CasADi - 2024-06-28 10:09:17 WARNING(\"roots:g failed: Inf detected for output x, at (row 0, col 0).\") [.../casadi/core/oracle_function.cpp:326]\n",
      "CasADi - 2024-06-28 10:09:17 WARNING(\"roots:g failed: Inf detected for output x, at (row 0, col 0).\") [.../casadi/core/oracle_function.cpp:326]\n",
      "CasADi - 2024-06-28 10:09:17 WARNING(\"roots:g failed: Inf detected for output x, at (row 0, col 0).\") [.../casadi/core/oracle_function.cpp:326]\n",
      "CasADi - 2024-06-28 10:09:17 WARNING(\"roots:g failed: Inf detected for output x, at (row 0, col 0).\") [.../casadi/core/oracle_function.cpp:326]\n",
      "CasADi - 2024-06-28 10:09:17 WARNING(\"roots:g failed: Inf detected for output x, at (row 0, col 0).\") [.../casadi/core/oracle_function.cpp:326]\n"
     ]
    },
    {
     "name": "stdout",
     "output_type": "stream",
     "text": [
      "Solver failed for parameters: [5.71718750e-05 5.05078125e-05 1.54296875e-05 7.89453125e-01\n",
      " 6.74218750e-01 5.83593750e-06 5.49218750e-06 1.14726562e+03\n",
      " 1.24218750e+02 8.55468750e+00 1.59843750e+00 1.51093750e+00\n",
      " 1.51093750e+00 2.51054688e+04 5.94335938e+04] with error: Events ['Maximum voltage [V]'] are non-positive at initial conditions\n"
     ]
    },
    {
     "name": "stderr",
     "output_type": "stream",
     "text": [
      "CasADi - 2024-06-28 10:09:18 WARNING(\"roots:g failed: Inf detected for output x, at (row 0, col 0).\") [.../casadi/core/oracle_function.cpp:326]\n",
      "CasADi - 2024-06-28 10:09:18 WARNING(\"roots:g failed: Inf detected for output x, at (row 0, col 0).\") [.../casadi/core/oracle_function.cpp:326]\n",
      "CasADi - 2024-06-28 10:09:18 WARNING(\"roots:g failed: Inf detected for output x, at (row 0, col 0).\") [.../casadi/core/oracle_function.cpp:326]\n",
      "CasADi - 2024-06-28 10:09:18 WARNING(\"roots:g failed: Inf detected for output x, at (row 0, col 0).\") [.../casadi/core/oracle_function.cpp:326]\n",
      "CasADi - 2024-06-28 10:09:18 WARNING(\"roots:g failed: Inf detected for output x, at (row 0, col 0).\") [.../casadi/core/oracle_function.cpp:326]\n"
     ]
    },
    {
     "name": "stdout",
     "output_type": "stream",
     "text": [
      "Solver failed for parameters: [5.71718750e-05 5.66015625e-05 1.73046875e-05 7.89453125e-01\n",
      " 6.74218750e-01 5.83593750e-06 5.49218750e-06 1.14726562e+03\n",
      " 1.24218750e+02 8.55468750e+00 1.59843750e+00 1.51093750e+00\n",
      " 1.51093750e+00 2.51054688e+04 5.94335938e+04] with error: Events ['Maximum voltage [V]'] are non-positive at initial conditions\n"
     ]
    },
    {
     "name": "stderr",
     "output_type": "stream",
     "text": [
      "CasADi - 2024-06-28 10:09:18 WARNING(\"roots:g failed: Inf detected for output x, at (row 0, col 0).\") [.../casadi/core/oracle_function.cpp:326]\n",
      "CasADi - 2024-06-28 10:09:18 WARNING(\"roots:g failed: Inf detected for output x, at (row 0, col 0).\") [.../casadi/core/oracle_function.cpp:326]\n",
      "CasADi - 2024-06-28 10:09:18 WARNING(\"roots:g failed: Inf detected for output x, at (row 0, col 0).\") [.../casadi/core/oracle_function.cpp:326]\n",
      "CasADi - 2024-06-28 10:09:18 WARNING(\"roots:g failed: Inf detected for output x, at (row 0, col 0).\") [.../casadi/core/oracle_function.cpp:326]\n",
      "CasADi - 2024-06-28 10:09:18 WARNING(\"roots:g failed: Inf detected for output x, at (row 0, col 0).\") [.../casadi/core/oracle_function.cpp:326]\n"
     ]
    },
    {
     "name": "stdout",
     "output_type": "stream",
     "text": [
      "Solver failed for parameters: [5.71718750e-05 5.66015625e-05 1.54296875e-05 7.25390625e-01\n",
      " 6.74218750e-01 5.83593750e-06 5.49218750e-06 1.14726562e+03\n",
      " 1.24218750e+02 8.55468750e+00 1.59843750e+00 1.51093750e+00\n",
      " 1.51093750e+00 2.51054688e+04 5.94335938e+04] with error: Events ['Maximum voltage [V]'] are non-positive at initial conditions\n"
     ]
    },
    {
     "name": "stderr",
     "output_type": "stream",
     "text": [
      "CasADi - 2024-06-28 10:09:19 WARNING(\"roots:g failed: Inf detected for output x, at (row 0, col 0).\") [.../casadi/core/oracle_function.cpp:326]\n",
      "CasADi - 2024-06-28 10:09:19 WARNING(\"roots:g failed: Inf detected for output x, at (row 0, col 0).\") [.../casadi/core/oracle_function.cpp:326]\n",
      "CasADi - 2024-06-28 10:09:19 WARNING(\"roots:g failed: Inf detected for output x, at (row 0, col 0).\") [.../casadi/core/oracle_function.cpp:326]\n",
      "CasADi - 2024-06-28 10:09:19 WARNING(\"roots:g failed: Inf detected for output x, at (row 0, col 0).\") [.../casadi/core/oracle_function.cpp:326]\n",
      "CasADi - 2024-06-28 10:09:19 WARNING(\"roots:g failed: Inf detected for output x, at (row 0, col 0).\") [.../casadi/core/oracle_function.cpp:326]\n"
     ]
    },
    {
     "name": "stdout",
     "output_type": "stream",
     "text": [
      "Solver failed for parameters: [5.71718750e-05 5.66015625e-05 1.54296875e-05 7.89453125e-01\n",
      " 5.92968750e-01 5.83593750e-06 5.49218750e-06 1.14726562e+03\n",
      " 1.24218750e+02 8.55468750e+00 1.59843750e+00 1.51093750e+00\n",
      " 1.51093750e+00 2.51054688e+04 5.94335938e+04] with error: Events ['Maximum voltage [V]'] are non-positive at initial conditions\n"
     ]
    },
    {
     "name": "stderr",
     "output_type": "stream",
     "text": [
      "CasADi - 2024-06-28 10:09:19 WARNING(\"roots:g failed: Inf detected for output x, at (row 0, col 0).\") [.../casadi/core/oracle_function.cpp:326]\n",
      "CasADi - 2024-06-28 10:09:19 WARNING(\"roots:g failed: Inf detected for output x, at (row 0, col 0).\") [.../casadi/core/oracle_function.cpp:326]\n",
      "CasADi - 2024-06-28 10:09:19 WARNING(\"roots:g failed: Inf detected for output x, at (row 0, col 0).\") [.../casadi/core/oracle_function.cpp:326]\n",
      "CasADi - 2024-06-28 10:09:19 WARNING(\"roots:g failed: Inf detected for output x, at (row 0, col 0).\") [.../casadi/core/oracle_function.cpp:326]\n",
      "CasADi - 2024-06-28 10:09:19 WARNING(\"roots:g failed: Inf detected for output x, at (row 0, col 0).\") [.../casadi/core/oracle_function.cpp:326]\n"
     ]
    },
    {
     "name": "stdout",
     "output_type": "stream",
     "text": [
      "Solver failed for parameters: [5.71718750e-05 5.66015625e-05 1.54296875e-05 7.89453125e-01\n",
      " 6.74218750e-01 5.97656250e-06 5.49218750e-06 1.14726562e+03\n",
      " 1.24218750e+02 8.55468750e+00 1.59843750e+00 1.51093750e+00\n",
      " 1.51093750e+00 2.51054688e+04 5.94335938e+04] with error: Events ['Maximum voltage [V]'] are non-positive at initial conditions\n"
     ]
    },
    {
     "name": "stderr",
     "output_type": "stream",
     "text": [
      "CasADi - 2024-06-28 10:09:20 WARNING(\"roots:g failed: Inf detected for output x, at (row 0, col 0).\") [.../casadi/core/oracle_function.cpp:326]\n",
      "CasADi - 2024-06-28 10:09:20 WARNING(\"roots:g failed: Inf detected for output x, at (row 0, col 0).\") [.../casadi/core/oracle_function.cpp:326]\n",
      "CasADi - 2024-06-28 10:09:20 WARNING(\"roots:g failed: Inf detected for output x, at (row 0, col 0).\") [.../casadi/core/oracle_function.cpp:326]\n",
      "CasADi - 2024-06-28 10:09:20 WARNING(\"roots:g failed: Inf detected for output x, at (row 0, col 0).\") [.../casadi/core/oracle_function.cpp:326]\n",
      "CasADi - 2024-06-28 10:09:20 WARNING(\"roots:g failed: Inf detected for output x, at (row 0, col 0).\") [.../casadi/core/oracle_function.cpp:326]\n"
     ]
    },
    {
     "name": "stdout",
     "output_type": "stream",
     "text": [
      "Solver failed for parameters: [5.71718750e-05 5.66015625e-05 1.54296875e-05 7.89453125e-01\n",
      " 6.74218750e-01 5.83593750e-06 5.35156250e-06 1.14726562e+03\n",
      " 1.24218750e+02 8.55468750e+00 1.59843750e+00 1.51093750e+00\n",
      " 1.51093750e+00 2.51054688e+04 5.94335938e+04] with error: Events ['Maximum voltage [V]'] are non-positive at initial conditions\n"
     ]
    },
    {
     "name": "stderr",
     "output_type": "stream",
     "text": [
      "CasADi - 2024-06-28 10:09:20 WARNING(\"roots:g failed: Inf detected for output x, at (row 0, col 0).\") [.../casadi/core/oracle_function.cpp:326]\n",
      "CasADi - 2024-06-28 10:09:20 WARNING(\"roots:g failed: Inf detected for output x, at (row 0, col 0).\") [.../casadi/core/oracle_function.cpp:326]\n",
      "CasADi - 2024-06-28 10:09:20 WARNING(\"roots:g failed: Inf detected for output x, at (row 0, col 0).\") [.../casadi/core/oracle_function.cpp:326]\n",
      "CasADi - 2024-06-28 10:09:20 WARNING(\"roots:g failed: Inf detected for output x, at (row 0, col 0).\") [.../casadi/core/oracle_function.cpp:326]\n",
      "CasADi - 2024-06-28 10:09:20 WARNING(\"roots:g failed: Inf detected for output x, at (row 0, col 0).\") [.../casadi/core/oracle_function.cpp:326]\n"
     ]
    },
    {
     "name": "stdout",
     "output_type": "stream",
     "text": [
      "Solver failed for parameters: [5.71718750e-05 5.66015625e-05 1.54296875e-05 7.89453125e-01\n",
      " 6.74218750e-01 5.83593750e-06 5.49218750e-06 1.14257812e+03\n",
      " 1.24218750e+02 8.55468750e+00 1.59843750e+00 1.51093750e+00\n",
      " 1.51093750e+00 2.51054688e+04 5.94335938e+04] with error: Events ['Maximum voltage [V]'] are non-positive at initial conditions\n"
     ]
    },
    {
     "name": "stderr",
     "output_type": "stream",
     "text": [
      "CasADi - 2024-06-28 10:09:21 WARNING(\"roots:g failed: Inf detected for output x, at (row 0, col 0).\") [.../casadi/core/oracle_function.cpp:326]\n",
      "CasADi - 2024-06-28 10:09:21 WARNING(\"roots:g failed: Inf detected for output x, at (row 0, col 0).\") [.../casadi/core/oracle_function.cpp:326]\n",
      "CasADi - 2024-06-28 10:09:21 WARNING(\"roots:g failed: Inf detected for output x, at (row 0, col 0).\") [.../casadi/core/oracle_function.cpp:326]\n",
      "CasADi - 2024-06-28 10:09:21 WARNING(\"roots:g failed: Inf detected for output x, at (row 0, col 0).\") [.../casadi/core/oracle_function.cpp:326]\n",
      "CasADi - 2024-06-28 10:09:21 WARNING(\"roots:g failed: Inf detected for output x, at (row 0, col 0).\") [.../casadi/core/oracle_function.cpp:326]\n"
     ]
    },
    {
     "name": "stdout",
     "output_type": "stream",
     "text": [
      "Solver failed for parameters: [5.71718750e-05 5.66015625e-05 1.54296875e-05 7.89453125e-01\n",
      " 6.74218750e-01 5.83593750e-06 5.49218750e-06 1.14726562e+03\n",
      " 2.83593750e+02 8.55468750e+00 1.59843750e+00 1.51093750e+00\n",
      " 1.51093750e+00 2.51054688e+04 5.94335938e+04] with error: Events ['Maximum voltage [V]'] are non-positive at initial conditions\n"
     ]
    },
    {
     "name": "stderr",
     "output_type": "stream",
     "text": [
      "CasADi - 2024-06-28 10:09:21 WARNING(\"roots:g failed: Inf detected for output x, at (row 0, col 0).\") [.../casadi/core/oracle_function.cpp:326]\n",
      "CasADi - 2024-06-28 10:09:21 WARNING(\"roots:g failed: Inf detected for output x, at (row 0, col 0).\") [.../casadi/core/oracle_function.cpp:326]\n",
      "CasADi - 2024-06-28 10:09:21 WARNING(\"roots:g failed: Inf detected for output x, at (row 0, col 0).\") [.../casadi/core/oracle_function.cpp:326]\n",
      "CasADi - 2024-06-28 10:09:21 WARNING(\"roots:g failed: Inf detected for output x, at (row 0, col 0).\") [.../casadi/core/oracle_function.cpp:326]\n",
      "CasADi - 2024-06-28 10:09:21 WARNING(\"roots:g failed: Inf detected for output x, at (row 0, col 0).\") [.../casadi/core/oracle_function.cpp:326]\n"
     ]
    },
    {
     "name": "stdout",
     "output_type": "stream",
     "text": [
      "Solver failed for parameters: [5.71718750e-05 5.66015625e-05 1.54296875e-05 7.89453125e-01\n",
      " 6.74218750e-01 5.83593750e-06 5.49218750e-06 1.14726562e+03\n",
      " 1.24218750e+02 5.03906250e+00 1.59843750e+00 1.51093750e+00\n",
      " 1.51093750e+00 2.51054688e+04 5.94335938e+04] with error: Events ['Maximum voltage [V]'] are non-positive at initial conditions\n"
     ]
    },
    {
     "name": "stderr",
     "output_type": "stream",
     "text": [
      "CasADi - 2024-06-28 10:09:21 WARNING(\"roots:g failed: Inf detected for output x, at (row 0, col 0).\") [.../casadi/core/oracle_function.cpp:326]\n",
      "CasADi - 2024-06-28 10:09:21 WARNING(\"roots:g failed: Inf detected for output x, at (row 0, col 0).\") [.../casadi/core/oracle_function.cpp:326]\n",
      "CasADi - 2024-06-28 10:09:21 WARNING(\"roots:g failed: Inf detected for output x, at (row 0, col 0).\") [.../casadi/core/oracle_function.cpp:326]\n",
      "CasADi - 2024-06-28 10:09:21 WARNING(\"roots:g failed: Inf detected for output x, at (row 0, col 0).\") [.../casadi/core/oracle_function.cpp:326]\n",
      "CasADi - 2024-06-28 10:09:21 WARNING(\"roots:g failed: Inf detected for output x, at (row 0, col 0).\") [.../casadi/core/oracle_function.cpp:326]\n"
     ]
    },
    {
     "name": "stdout",
     "output_type": "stream",
     "text": [
      "Solver failed for parameters: [5.71718750e-05 5.66015625e-05 1.54296875e-05 7.89453125e-01\n",
      " 6.74218750e-01 5.83593750e-06 5.49218750e-06 1.14726562e+03\n",
      " 1.24218750e+02 8.55468750e+00 1.32031250e+00 1.51093750e+00\n",
      " 1.51093750e+00 2.51054688e+04 5.94335938e+04] with error: Events ['Maximum voltage [V]'] are non-positive at initial conditions\n"
     ]
    },
    {
     "name": "stderr",
     "output_type": "stream",
     "text": [
      "CasADi - 2024-06-28 10:09:22 WARNING(\"roots:g failed: Inf detected for output x, at (row 0, col 0).\") [.../casadi/core/oracle_function.cpp:326]\n",
      "CasADi - 2024-06-28 10:09:22 WARNING(\"roots:g failed: Inf detected for output x, at (row 0, col 0).\") [.../casadi/core/oracle_function.cpp:326]\n",
      "CasADi - 2024-06-28 10:09:22 WARNING(\"roots:g failed: Inf detected for output x, at (row 0, col 0).\") [.../casadi/core/oracle_function.cpp:326]\n",
      "CasADi - 2024-06-28 10:09:22 WARNING(\"roots:g failed: Inf detected for output x, at (row 0, col 0).\") [.../casadi/core/oracle_function.cpp:326]\n",
      "CasADi - 2024-06-28 10:09:22 WARNING(\"roots:g failed: Inf detected for output x, at (row 0, col 0).\") [.../casadi/core/oracle_function.cpp:326]\n"
     ]
    },
    {
     "name": "stdout",
     "output_type": "stream",
     "text": [
      "Solver failed for parameters: [5.71718750e-05 5.66015625e-05 1.54296875e-05 7.89453125e-01\n",
      " 6.74218750e-01 5.83593750e-06 5.49218750e-06 1.14726562e+03\n",
      " 1.24218750e+02 8.55468750e+00 1.59843750e+00 1.57031250e+00\n",
      " 1.51093750e+00 2.51054688e+04 5.94335938e+04] with error: Events ['Maximum voltage [V]'] are non-positive at initial conditions\n"
     ]
    },
    {
     "name": "stderr",
     "output_type": "stream",
     "text": [
      "CasADi - 2024-06-28 10:09:23 WARNING(\"roots:g failed: Inf detected for output x, at (row 0, col 0).\") [.../casadi/core/oracle_function.cpp:326]\n",
      "CasADi - 2024-06-28 10:09:23 WARNING(\"roots:g failed: Inf detected for output x, at (row 0, col 0).\") [.../casadi/core/oracle_function.cpp:326]\n",
      "CasADi - 2024-06-28 10:09:23 WARNING(\"roots:g failed: Inf detected for output x, at (row 0, col 0).\") [.../casadi/core/oracle_function.cpp:326]\n",
      "CasADi - 2024-06-28 10:09:23 WARNING(\"roots:g failed: Inf detected for output x, at (row 0, col 0).\") [.../casadi/core/oracle_function.cpp:326]\n",
      "CasADi - 2024-06-28 10:09:23 WARNING(\"roots:g failed: Inf detected for output x, at (row 0, col 0).\") [.../casadi/core/oracle_function.cpp:326]\n"
     ]
    },
    {
     "name": "stdout",
     "output_type": "stream",
     "text": [
      "Solver failed for parameters: [5.71718750e-05 5.66015625e-05 1.54296875e-05 7.89453125e-01\n",
      " 6.74218750e-01 5.83593750e-06 5.49218750e-06 1.14726562e+03\n",
      " 1.24218750e+02 8.55468750e+00 1.59843750e+00 1.51093750e+00\n",
      " 1.35156250e+00 2.51054688e+04 5.94335938e+04] with error: Events ['Maximum voltage [V]'] are non-positive at initial conditions\n"
     ]
    },
    {
     "name": "stderr",
     "output_type": "stream",
     "text": [
      "CasADi - 2024-06-28 10:09:23 WARNING(\"roots:g failed: Inf detected for output x, at (row 0, col 0).\") [.../casadi/core/oracle_function.cpp:326]\n",
      "CasADi - 2024-06-28 10:09:23 WARNING(\"roots:g failed: Inf detected for output x, at (row 0, col 0).\") [.../casadi/core/oracle_function.cpp:326]\n",
      "CasADi - 2024-06-28 10:09:23 WARNING(\"roots:g failed: Inf detected for output x, at (row 0, col 0).\") [.../casadi/core/oracle_function.cpp:326]\n",
      "CasADi - 2024-06-28 10:09:23 WARNING(\"roots:g failed: Inf detected for output x, at (row 0, col 0).\") [.../casadi/core/oracle_function.cpp:326]\n",
      "CasADi - 2024-06-28 10:09:23 WARNING(\"roots:g failed: Inf detected for output x, at (row 0, col 0).\") [.../casadi/core/oracle_function.cpp:326]\n"
     ]
    },
    {
     "name": "stdout",
     "output_type": "stream",
     "text": [
      "Solver failed for parameters: [5.71718750e-05 5.66015625e-05 1.54296875e-05 7.89453125e-01\n",
      " 6.74218750e-01 5.83593750e-06 5.49218750e-06 1.14726562e+03\n",
      " 1.24218750e+02 8.55468750e+00 1.59843750e+00 1.51093750e+00\n",
      " 1.51093750e+00 2.37304688e+04 5.94335938e+04] with error: Events ['Maximum voltage [V]'] are non-positive at initial conditions\n"
     ]
    },
    {
     "name": "stderr",
     "output_type": "stream",
     "text": [
      "CasADi - 2024-06-28 10:09:24 WARNING(\"roots:g failed: Inf detected for output x, at (row 0, col 0).\") [.../casadi/core/oracle_function.cpp:326]\n",
      "CasADi - 2024-06-28 10:09:24 WARNING(\"roots:g failed: Inf detected for output x, at (row 0, col 0).\") [.../casadi/core/oracle_function.cpp:326]\n",
      "CasADi - 2024-06-28 10:09:24 WARNING(\"roots:g failed: Inf detected for output x, at (row 0, col 0).\") [.../casadi/core/oracle_function.cpp:326]\n",
      "CasADi - 2024-06-28 10:09:24 WARNING(\"roots:g failed: Inf detected for output x, at (row 0, col 0).\") [.../casadi/core/oracle_function.cpp:326]\n",
      "CasADi - 2024-06-28 10:09:24 WARNING(\"roots:g failed: Inf detected for output x, at (row 0, col 0).\") [.../casadi/core/oracle_function.cpp:326]\n"
     ]
    },
    {
     "name": "stdout",
     "output_type": "stream",
     "text": [
      "Solver failed for parameters: [5.71718750e-05 5.66015625e-05 1.54296875e-05 7.89453125e-01\n",
      " 6.74218750e-01 5.83593750e-06 5.49218750e-06 1.14726562e+03\n",
      " 1.24218750e+02 8.55468750e+00 1.59843750e+00 1.51093750e+00\n",
      " 1.51093750e+00 2.51054688e+04 6.25976562e+04] with error: Events ['Maximum voltage [V]'] are non-positive at initial conditions\n"
     ]
    },
    {
     "name": "stderr",
     "output_type": "stream",
     "text": [
      "CasADi - 2024-06-28 10:09:24 WARNING(\"roots:g failed: Inf detected for output x, at (row 0, col 0).\") [.../casadi/core/oracle_function.cpp:326]\n",
      "CasADi - 2024-06-28 10:09:24 WARNING(\"roots:g failed: Inf detected for output x, at (row 0, col 0).\") [.../casadi/core/oracle_function.cpp:326]\n",
      "CasADi - 2024-06-28 10:09:24 WARNING(\"roots:g failed: Inf detected for output x, at (row 0, col 0).\") [.../casadi/core/oracle_function.cpp:326]\n",
      "CasADi - 2024-06-28 10:09:24 WARNING(\"roots:g failed: Inf detected for output x, at (row 0, col 0).\") [.../casadi/core/oracle_function.cpp:326]\n",
      "CasADi - 2024-06-28 10:09:24 WARNING(\"roots:g failed: Inf detected for output x, at (row 0, col 0).\") [.../casadi/core/oracle_function.cpp:326]\n"
     ]
    },
    {
     "name": "stdout",
     "output_type": "stream",
     "text": [
      "Solver failed for parameters: [5.71718750e-05 5.66015625e-05 1.54296875e-05 7.89453125e-01\n",
      " 6.74218750e-01 5.83593750e-06 5.49218750e-06 1.14726562e+03\n",
      " 1.24218750e+02 8.55468750e+00 1.59843750e+00 1.51093750e+00\n",
      " 1.51093750e+00 2.51054688e+04 5.94335938e+04] with error: Events ['Maximum voltage [V]'] are non-positive at initial conditions\n"
     ]
    },
    {
     "name": "stderr",
     "output_type": "stream",
     "text": [
      "CasADi - 2024-06-28 10:09:24 WARNING(\"roots:g failed: Inf detected for output x, at (row 0, col 0).\") [.../casadi/core/oracle_function.cpp:326]\n",
      "CasADi - 2024-06-28 10:09:24 WARNING(\"roots:g failed: Inf detected for output x, at (row 0, col 0).\") [.../casadi/core/oracle_function.cpp:326]\n",
      "CasADi - 2024-06-28 10:09:24 WARNING(\"roots:g failed: Inf detected for output x, at (row 0, col 0).\") [.../casadi/core/oracle_function.cpp:326]\n",
      "CasADi - 2024-06-28 10:09:24 WARNING(\"roots:g failed: Inf detected for output x, at (row 0, col 0).\") [.../casadi/core/oracle_function.cpp:326]\n",
      "CasADi - 2024-06-28 10:09:24 WARNING(\"roots:g failed: Inf detected for output x, at (row 0, col 0).\") [.../casadi/core/oracle_function.cpp:326]\n"
     ]
    },
    {
     "name": "stdout",
     "output_type": "stream",
     "text": [
      "Solver failed for parameters: [7.51718750e-05 6.35078125e-05 1.23046875e-05 7.75390625e-01\n",
      " 6.92968750e-01 4.97656250e-06 4.35156250e-06 9.92578125e+02\n",
      " 1.83593750e+02 3.90625000e-02 1.52031250e+00 1.37031250e+00\n",
      " 1.55156250e+00 2.92304688e+04 5.50976562e+04] with error: Events ['Maximum voltage [V]'] are non-positive at initial conditions\n"
     ]
    },
    {
     "name": "stderr",
     "output_type": "stream",
     "text": [
      "CasADi - 2024-06-28 10:09:25 WARNING(\"roots:g failed: Inf detected for output x, at (row 0, col 0).\") [.../casadi/core/oracle_function.cpp:326]\n",
      "CasADi - 2024-06-28 10:09:25 WARNING(\"roots:g failed: Inf detected for output x, at (row 0, col 0).\") [.../casadi/core/oracle_function.cpp:326]\n",
      "CasADi - 2024-06-28 10:09:25 WARNING(\"roots:g failed: Inf detected for output x, at (row 0, col 0).\") [.../casadi/core/oracle_function.cpp:326]\n",
      "CasADi - 2024-06-28 10:09:25 WARNING(\"roots:g failed: Inf detected for output x, at (row 0, col 0).\") [.../casadi/core/oracle_function.cpp:326]\n",
      "CasADi - 2024-06-28 10:09:25 WARNING(\"roots:g failed: Inf detected for output x, at (row 0, col 0).\") [.../casadi/core/oracle_function.cpp:326]\n"
     ]
    },
    {
     "name": "stdout",
     "output_type": "stream",
     "text": [
      "Solver failed for parameters: [7.51718750e-05 6.35078125e-05 1.23046875e-05 7.75390625e-01\n",
      " 6.92968750e-01 4.97656250e-06 4.35156250e-06 9.92578125e+02\n",
      " 1.83593750e+02 3.90625000e-02 1.52031250e+00 1.37031250e+00\n",
      " 1.55156250e+00 2.92304688e+04 5.50976562e+04] with error: Events ['Maximum voltage [V]'] are non-positive at initial conditions\n"
     ]
    },
    {
     "name": "stderr",
     "output_type": "stream",
     "text": [
      "CasADi - 2024-06-28 10:09:25 WARNING(\"roots:g failed: Inf detected for output x, at (row 0, col 0).\") [.../casadi/core/oracle_function.cpp:326]\n",
      "CasADi - 2024-06-28 10:09:25 WARNING(\"roots:g failed: Inf detected for output x, at (row 0, col 0).\") [.../casadi/core/oracle_function.cpp:326]\n",
      "CasADi - 2024-06-28 10:09:25 WARNING(\"roots:g failed: Inf detected for output x, at (row 0, col 0).\") [.../casadi/core/oracle_function.cpp:326]\n",
      "CasADi - 2024-06-28 10:09:25 WARNING(\"roots:g failed: Inf detected for output x, at (row 0, col 0).\") [.../casadi/core/oracle_function.cpp:326]\n",
      "CasADi - 2024-06-28 10:09:25 WARNING(\"roots:g failed: Inf detected for output x, at (row 0, col 0).\") [.../casadi/core/oracle_function.cpp:326]\n"
     ]
    },
    {
     "name": "stdout",
     "output_type": "stream",
     "text": [
      "Solver failed for parameters: [7.51718750e-05 6.96015625e-05 1.23046875e-05 7.75390625e-01\n",
      " 6.92968750e-01 4.97656250e-06 4.35156250e-06 9.92578125e+02\n",
      " 1.83593750e+02 3.90625000e-02 1.52031250e+00 1.37031250e+00\n",
      " 1.55156250e+00 2.92304688e+04 5.50976562e+04] with error: Events ['Maximum voltage [V]'] are non-positive at initial conditions\n"
     ]
    },
    {
     "name": "stderr",
     "output_type": "stream",
     "text": [
      "CasADi - 2024-06-28 10:09:26 WARNING(\"roots:g failed: Inf detected for output x, at (row 0, col 0).\") [.../casadi/core/oracle_function.cpp:326]\n",
      "CasADi - 2024-06-28 10:09:26 WARNING(\"roots:g failed: Inf detected for output x, at (row 0, col 0).\") [.../casadi/core/oracle_function.cpp:326]\n",
      "CasADi - 2024-06-28 10:09:26 WARNING(\"roots:g failed: Inf detected for output x, at (row 0, col 0).\") [.../casadi/core/oracle_function.cpp:326]\n",
      "CasADi - 2024-06-28 10:09:26 WARNING(\"roots:g failed: Inf detected for output x, at (row 0, col 0).\") [.../casadi/core/oracle_function.cpp:326]\n",
      "CasADi - 2024-06-28 10:09:26 WARNING(\"roots:g failed: Inf detected for output x, at (row 0, col 0).\") [.../casadi/core/oracle_function.cpp:326]\n"
     ]
    },
    {
     "name": "stdout",
     "output_type": "stream",
     "text": [
      "Solver failed for parameters: [7.51718750e-05 6.35078125e-05 1.04296875e-05 7.75390625e-01\n",
      " 6.92968750e-01 4.97656250e-06 4.35156250e-06 9.92578125e+02\n",
      " 1.83593750e+02 3.90625000e-02 1.52031250e+00 1.37031250e+00\n",
      " 1.55156250e+00 2.92304688e+04 5.50976562e+04] with error: Events ['Maximum voltage [V]'] are non-positive at initial conditions\n"
     ]
    },
    {
     "name": "stderr",
     "output_type": "stream",
     "text": [
      "CasADi - 2024-06-28 10:09:26 WARNING(\"roots:g failed: Inf detected for output x, at (row 0, col 0).\") [.../casadi/core/oracle_function.cpp:326]\n",
      "CasADi - 2024-06-28 10:09:26 WARNING(\"roots:g failed: Inf detected for output x, at (row 0, col 0).\") [.../casadi/core/oracle_function.cpp:326]\n",
      "CasADi - 2024-06-28 10:09:26 WARNING(\"roots:g failed: Inf detected for output x, at (row 0, col 0).\") [.../casadi/core/oracle_function.cpp:326]\n",
      "CasADi - 2024-06-28 10:09:26 WARNING(\"roots:g failed: Inf detected for output x, at (row 0, col 0).\") [.../casadi/core/oracle_function.cpp:326]\n",
      "CasADi - 2024-06-28 10:09:26 WARNING(\"roots:g failed: Inf detected for output x, at (row 0, col 0).\") [.../casadi/core/oracle_function.cpp:326]\n"
     ]
    },
    {
     "name": "stdout",
     "output_type": "stream",
     "text": [
      "Solver failed for parameters: [7.51718750e-05 6.35078125e-05 1.23046875e-05 7.39453125e-01\n",
      " 6.92968750e-01 4.97656250e-06 4.35156250e-06 9.92578125e+02\n",
      " 1.83593750e+02 3.90625000e-02 1.52031250e+00 1.37031250e+00\n",
      " 1.55156250e+00 2.92304688e+04 5.50976562e+04] with error: Events ['Maximum voltage [V]'] are non-positive at initial conditions\n"
     ]
    },
    {
     "name": "stderr",
     "output_type": "stream",
     "text": [
      "CasADi - 2024-06-28 10:09:27 WARNING(\"roots:g failed: Inf detected for output x, at (row 0, col 0).\") [.../casadi/core/oracle_function.cpp:326]\n",
      "CasADi - 2024-06-28 10:09:27 WARNING(\"roots:g failed: Inf detected for output x, at (row 0, col 0).\") [.../casadi/core/oracle_function.cpp:326]\n",
      "CasADi - 2024-06-28 10:09:27 WARNING(\"roots:g failed: Inf detected for output x, at (row 0, col 0).\") [.../casadi/core/oracle_function.cpp:326]\n",
      "CasADi - 2024-06-28 10:09:27 WARNING(\"roots:g failed: Inf detected for output x, at (row 0, col 0).\") [.../casadi/core/oracle_function.cpp:326]\n",
      "CasADi - 2024-06-28 10:09:27 WARNING(\"roots:g failed: Inf detected for output x, at (row 0, col 0).\") [.../casadi/core/oracle_function.cpp:326]\n"
     ]
    },
    {
     "name": "stdout",
     "output_type": "stream",
     "text": [
      "Solver failed for parameters: [7.51718750e-05 6.35078125e-05 1.23046875e-05 7.75390625e-01\n",
      " 5.74218750e-01 4.97656250e-06 4.35156250e-06 9.92578125e+02\n",
      " 1.83593750e+02 3.90625000e-02 1.52031250e+00 1.37031250e+00\n",
      " 1.55156250e+00 2.92304688e+04 5.50976562e+04] with error: Events ['Maximum voltage [V]'] are non-positive at initial conditions\n"
     ]
    },
    {
     "name": "stderr",
     "output_type": "stream",
     "text": [
      "CasADi - 2024-06-28 10:09:27 WARNING(\"roots:g failed: Inf detected for output x, at (row 0, col 0).\") [.../casadi/core/oracle_function.cpp:326]\n",
      "CasADi - 2024-06-28 10:09:27 WARNING(\"roots:g failed: Inf detected for output x, at (row 0, col 0).\") [.../casadi/core/oracle_function.cpp:326]\n",
      "CasADi - 2024-06-28 10:09:27 WARNING(\"roots:g failed: Inf detected for output x, at (row 0, col 0).\") [.../casadi/core/oracle_function.cpp:326]\n",
      "CasADi - 2024-06-28 10:09:27 WARNING(\"roots:g failed: Inf detected for output x, at (row 0, col 0).\") [.../casadi/core/oracle_function.cpp:326]\n"
     ]
    },
    {
     "name": "stdout",
     "output_type": "stream",
     "text": [
      "Solver failed for parameters: [7.51718750e-05 6.35078125e-05 1.23046875e-05 7.75390625e-01\n",
      " 6.92968750e-01 4.83593750e-06 4.35156250e-06 9.92578125e+02\n",
      " 1.83593750e+02 3.90625000e-02 1.52031250e+00 1.37031250e+00\n",
      " 1.55156250e+00 2.92304688e+04 5.50976562e+04] with error: Events ['Maximum voltage [V]'] are non-positive at initial conditions\n"
     ]
    },
    {
     "name": "stderr",
     "output_type": "stream",
     "text": [
      "CasADi - 2024-06-28 10:09:28 WARNING(\"roots:g failed: Inf detected for output x, at (row 0, col 0).\") [.../casadi/core/oracle_function.cpp:326]\n",
      "CasADi - 2024-06-28 10:09:28 WARNING(\"roots:g failed: Inf detected for output x, at (row 0, col 0).\") [.../casadi/core/oracle_function.cpp:326]\n",
      "CasADi - 2024-06-28 10:09:28 WARNING(\"roots:g failed: Inf detected for output x, at (row 0, col 0).\") [.../casadi/core/oracle_function.cpp:326]\n",
      "CasADi - 2024-06-28 10:09:28 WARNING(\"roots:g failed: Inf detected for output x, at (row 0, col 0).\") [.../casadi/core/oracle_function.cpp:326]\n",
      "CasADi - 2024-06-28 10:09:28 WARNING(\"roots:g failed: Inf detected for output x, at (row 0, col 0).\") [.../casadi/core/oracle_function.cpp:326]\n"
     ]
    },
    {
     "name": "stdout",
     "output_type": "stream",
     "text": [
      "Solver failed for parameters: [7.51718750e-05 6.35078125e-05 1.23046875e-05 7.75390625e-01\n",
      " 6.92968750e-01 4.97656250e-06 4.49218750e-06 9.92578125e+02\n",
      " 1.83593750e+02 3.90625000e-02 1.52031250e+00 1.37031250e+00\n",
      " 1.55156250e+00 2.92304688e+04 5.50976562e+04] with error: Events ['Maximum voltage [V]'] are non-positive at initial conditions\n"
     ]
    },
    {
     "name": "stderr",
     "output_type": "stream",
     "text": [
      "CasADi - 2024-06-28 10:09:28 WARNING(\"roots:g failed: Inf detected for output x, at (row 0, col 0).\") [.../casadi/core/oracle_function.cpp:326]\n",
      "CasADi - 2024-06-28 10:09:28 WARNING(\"roots:g failed: Inf detected for output x, at (row 0, col 0).\") [.../casadi/core/oracle_function.cpp:326]\n",
      "CasADi - 2024-06-28 10:09:28 WARNING(\"roots:g failed: Inf detected for output x, at (row 0, col 0).\") [.../casadi/core/oracle_function.cpp:326]\n",
      "CasADi - 2024-06-28 10:09:28 WARNING(\"roots:g failed: Inf detected for output x, at (row 0, col 0).\") [.../casadi/core/oracle_function.cpp:326]\n",
      "CasADi - 2024-06-28 10:09:28 WARNING(\"roots:g failed: Inf detected for output x, at (row 0, col 0).\") [.../casadi/core/oracle_function.cpp:326]\n"
     ]
    },
    {
     "name": "stdout",
     "output_type": "stream",
     "text": [
      "Solver failed for parameters: [7.51718750e-05 6.35078125e-05 1.23046875e-05 7.75390625e-01\n",
      " 6.92968750e-01 4.97656250e-06 4.35156250e-06 9.97265625e+02\n",
      " 1.83593750e+02 3.90625000e-02 1.52031250e+00 1.37031250e+00\n",
      " 1.55156250e+00 2.92304688e+04 5.50976562e+04] with error: Events ['Maximum voltage [V]'] are non-positive at initial conditions\n"
     ]
    },
    {
     "name": "stderr",
     "output_type": "stream",
     "text": [
      "CasADi - 2024-06-28 10:09:29 WARNING(\"roots:g failed: Inf detected for output x, at (row 0, col 0).\") [.../casadi/core/oracle_function.cpp:326]\n",
      "CasADi - 2024-06-28 10:09:29 WARNING(\"roots:g failed: Inf detected for output x, at (row 0, col 0).\") [.../casadi/core/oracle_function.cpp:326]\n",
      "CasADi - 2024-06-28 10:09:29 WARNING(\"roots:g failed: Inf detected for output x, at (row 0, col 0).\") [.../casadi/core/oracle_function.cpp:326]\n",
      "CasADi - 2024-06-28 10:09:29 WARNING(\"roots:g failed: Inf detected for output x, at (row 0, col 0).\") [.../casadi/core/oracle_function.cpp:326]\n",
      "CasADi - 2024-06-28 10:09:29 WARNING(\"roots:g failed: Inf detected for output x, at (row 0, col 0).\") [.../casadi/core/oracle_function.cpp:326]\n"
     ]
    },
    {
     "name": "stdout",
     "output_type": "stream",
     "text": [
      "Solver failed for parameters: [7.51718750e-05 6.35078125e-05 1.23046875e-05 7.75390625e-01\n",
      " 6.92968750e-01 4.97656250e-06 4.35156250e-06 9.92578125e+02\n",
      " 2.24218750e+02 3.90625000e-02 1.52031250e+00 1.37031250e+00\n",
      " 1.55156250e+00 2.92304688e+04 5.50976562e+04] with error: Events ['Maximum voltage [V]'] are non-positive at initial conditions\n"
     ]
    },
    {
     "name": "stderr",
     "output_type": "stream",
     "text": [
      "CasADi - 2024-06-28 10:09:29 WARNING(\"roots:g failed: Inf detected for output x, at (row 0, col 0).\") [.../casadi/core/oracle_function.cpp:326]\n",
      "CasADi - 2024-06-28 10:09:29 WARNING(\"roots:g failed: Inf detected for output x, at (row 0, col 0).\") [.../casadi/core/oracle_function.cpp:326]\n",
      "CasADi - 2024-06-28 10:09:29 WARNING(\"roots:g failed: Inf detected for output x, at (row 0, col 0).\") [.../casadi/core/oracle_function.cpp:326]\n",
      "CasADi - 2024-06-28 10:09:29 WARNING(\"roots:g failed: Inf detected for output x, at (row 0, col 0).\") [.../casadi/core/oracle_function.cpp:326]\n",
      "CasADi - 2024-06-28 10:09:29 WARNING(\"roots:g failed: Inf detected for output x, at (row 0, col 0).\") [.../casadi/core/oracle_function.cpp:326]\n"
     ]
    },
    {
     "name": "stdout",
     "output_type": "stream",
     "text": [
      "Solver failed for parameters: [7.51718750e-05 6.35078125e-05 1.23046875e-05 7.75390625e-01\n",
      " 6.92968750e-01 4.97656250e-06 4.35156250e-06 9.92578125e+02\n",
      " 1.83593750e+02 3.55468750e+00 1.52031250e+00 1.37031250e+00\n",
      " 1.55156250e+00 2.92304688e+04 5.50976562e+04] with error: Events ['Maximum voltage [V]'] are non-positive at initial conditions\n"
     ]
    },
    {
     "name": "stderr",
     "output_type": "stream",
     "text": [
      "CasADi - 2024-06-28 10:09:30 WARNING(\"roots:g failed: Inf detected for output x, at (row 0, col 0).\") [.../casadi/core/oracle_function.cpp:326]\n",
      "CasADi - 2024-06-28 10:09:30 WARNING(\"roots:g failed: Inf detected for output x, at (row 0, col 0).\") [.../casadi/core/oracle_function.cpp:326]\n",
      "CasADi - 2024-06-28 10:09:30 WARNING(\"roots:g failed: Inf detected for output x, at (row 0, col 0).\") [.../casadi/core/oracle_function.cpp:326]\n",
      "CasADi - 2024-06-28 10:09:30 WARNING(\"roots:g failed: Inf detected for output x, at (row 0, col 0).\") [.../casadi/core/oracle_function.cpp:326]\n",
      "CasADi - 2024-06-28 10:09:30 WARNING(\"roots:g failed: Inf detected for output x, at (row 0, col 0).\") [.../casadi/core/oracle_function.cpp:326]\n"
     ]
    },
    {
     "name": "stdout",
     "output_type": "stream",
     "text": [
      "Solver failed for parameters: [7.51718750e-05 6.35078125e-05 1.23046875e-05 7.75390625e-01\n",
      " 6.92968750e-01 4.97656250e-06 4.35156250e-06 9.92578125e+02\n",
      " 1.83593750e+02 3.90625000e-02 1.39843750e+00 1.37031250e+00\n",
      " 1.55156250e+00 2.92304688e+04 5.50976562e+04] with error: Events ['Maximum voltage [V]'] are non-positive at initial conditions\n"
     ]
    },
    {
     "name": "stderr",
     "output_type": "stream",
     "text": [
      "CasADi - 2024-06-28 10:09:30 WARNING(\"roots:g failed: Inf detected for output x, at (row 0, col 0).\") [.../casadi/core/oracle_function.cpp:326]\n",
      "CasADi - 2024-06-28 10:09:30 WARNING(\"roots:g failed: Inf detected for output x, at (row 0, col 0).\") [.../casadi/core/oracle_function.cpp:326]\n",
      "CasADi - 2024-06-28 10:09:30 WARNING(\"roots:g failed: Inf detected for output x, at (row 0, col 0).\") [.../casadi/core/oracle_function.cpp:326]\n",
      "CasADi - 2024-06-28 10:09:30 WARNING(\"roots:g failed: Inf detected for output x, at (row 0, col 0).\") [.../casadi/core/oracle_function.cpp:326]\n",
      "CasADi - 2024-06-28 10:09:30 WARNING(\"roots:g failed: Inf detected for output x, at (row 0, col 0).\") [.../casadi/core/oracle_function.cpp:326]\n"
     ]
    },
    {
     "name": "stdout",
     "output_type": "stream",
     "text": [
      "Solver failed for parameters: [7.51718750e-05 6.35078125e-05 1.23046875e-05 7.75390625e-01\n",
      " 6.92968750e-01 4.97656250e-06 4.35156250e-06 9.92578125e+02\n",
      " 1.83593750e+02 3.90625000e-02 1.52031250e+00 1.31093750e+00\n",
      " 1.55156250e+00 2.92304688e+04 5.50976562e+04] with error: Events ['Maximum voltage [V]'] are non-positive at initial conditions\n"
     ]
    },
    {
     "name": "stderr",
     "output_type": "stream",
     "text": [
      "CasADi - 2024-06-28 10:09:30 WARNING(\"roots:g failed: Inf detected for output x, at (row 0, col 0).\") [.../casadi/core/oracle_function.cpp:326]\n",
      "CasADi - 2024-06-28 10:09:30 WARNING(\"roots:g failed: Inf detected for output x, at (row 0, col 0).\") [.../casadi/core/oracle_function.cpp:326]\n",
      "CasADi - 2024-06-28 10:09:30 WARNING(\"roots:g failed: Inf detected for output x, at (row 0, col 0).\") [.../casadi/core/oracle_function.cpp:326]\n",
      "CasADi - 2024-06-28 10:09:30 WARNING(\"roots:g failed: Inf detected for output x, at (row 0, col 0).\") [.../casadi/core/oracle_function.cpp:326]\n",
      "CasADi - 2024-06-28 10:09:30 WARNING(\"roots:g failed: Inf detected for output x, at (row 0, col 0).\") [.../casadi/core/oracle_function.cpp:326]\n"
     ]
    },
    {
     "name": "stdout",
     "output_type": "stream",
     "text": [
      "Solver failed for parameters: [7.51718750e-05 6.35078125e-05 1.23046875e-05 7.75390625e-01\n",
      " 6.92968750e-01 4.97656250e-06 4.35156250e-06 9.92578125e+02\n",
      " 1.83593750e+02 3.90625000e-02 1.52031250e+00 1.37031250e+00\n",
      " 1.31093750e+00 2.92304688e+04 5.50976562e+04] with error: Events ['Maximum voltage [V]'] are non-positive at initial conditions\n"
     ]
    },
    {
     "name": "stderr",
     "output_type": "stream",
     "text": [
      "CasADi - 2024-06-28 10:09:32 WARNING(\"roots:g failed: Inf detected for output x, at (row 0, col 0).\") [.../casadi/core/oracle_function.cpp:326]\n",
      "CasADi - 2024-06-28 10:09:32 WARNING(\"roots:g failed: Inf detected for output x, at (row 0, col 0).\") [.../casadi/core/oracle_function.cpp:326]\n",
      "CasADi - 2024-06-28 10:09:32 WARNING(\"roots:g failed: Inf detected for output x, at (row 0, col 0).\") [.../casadi/core/oracle_function.cpp:326]\n",
      "CasADi - 2024-06-28 10:09:32 WARNING(\"roots:g failed: Inf detected for output x, at (row 0, col 0).\") [.../casadi/core/oracle_function.cpp:326]\n",
      "CasADi - 2024-06-28 10:09:32 WARNING(\"roots:g failed: Inf detected for output x, at (row 0, col 0).\") [.../casadi/core/oracle_function.cpp:326]\n"
     ]
    },
    {
     "name": "stdout",
     "output_type": "stream",
     "text": [
      "Solver failed for parameters: [7.51718750e-05 6.35078125e-05 1.23046875e-05 7.75390625e-01\n",
      " 6.92968750e-01 4.97656250e-06 4.35156250e-06 9.92578125e+02\n",
      " 1.83593750e+02 3.90625000e-02 1.52031250e+00 1.37031250e+00\n",
      " 1.55156250e+00 2.92304688e+04 5.19335938e+04] with error: Events ['Maximum voltage [V]'] are non-positive at initial conditions\n"
     ]
    },
    {
     "name": "stderr",
     "output_type": "stream",
     "text": [
      "CasADi - 2024-06-28 10:09:50 WARNING(\"roots:g failed: Inf detected for output x, at (row 0, col 0).\") [.../casadi/core/oracle_function.cpp:326]\n",
      "CasADi - 2024-06-28 10:09:50 WARNING(\"roots:g failed: Inf detected for output x, at (row 0, col 0).\") [.../casadi/core/oracle_function.cpp:326]\n",
      "CasADi - 2024-06-28 10:09:50 WARNING(\"roots:g failed: Inf detected for output x, at (row 0, col 0).\") [.../casadi/core/oracle_function.cpp:326]\n",
      "CasADi - 2024-06-28 10:09:50 WARNING(\"roots:g failed: Inf detected for output x, at (row 0, col 0).\") [.../casadi/core/oracle_function.cpp:326]\n",
      "CasADi - 2024-06-28 10:09:50 WARNING(\"roots:g failed: Inf detected for output x, at (row 0, col 0).\") [.../casadi/core/oracle_function.cpp:326]\n"
     ]
    },
    {
     "name": "stdout",
     "output_type": "stream",
     "text": [
      "Solver failed for parameters: [7.51718750e-05 6.96015625e-05 1.04296875e-05 7.39453125e-01\n",
      " 5.74218750e-01 4.83593750e-06 4.49218750e-06 9.97265625e+02\n",
      " 2.24218750e+02 3.55468750e+00 1.39843750e+00 1.31093750e+00\n",
      " 1.31093750e+00 2.92304688e+04 5.19335938e+04] with error: Events ['Maximum voltage [V]'] are non-positive at initial conditions\n"
     ]
    },
    {
     "name": "stderr",
     "output_type": "stream",
     "text": [
      "CasADi - 2024-06-28 10:09:53 WARNING(\"roots:g failed: Inf detected for output x, at (row 0, col 0).\") [.../casadi/core/oracle_function.cpp:326]\n",
      "CasADi - 2024-06-28 10:09:53 WARNING(\"roots:g failed: Inf detected for output x, at (row 0, col 0).\") [.../casadi/core/oracle_function.cpp:326]\n",
      "CasADi - 2024-06-28 10:09:53 WARNING(\"roots:g failed: Inf detected for output x, at (row 0, col 0).\") [.../casadi/core/oracle_function.cpp:326]\n",
      "CasADi - 2024-06-28 10:09:53 WARNING(\"roots:g failed: Inf detected for output x, at (row 0, col 0).\") [.../casadi/core/oracle_function.cpp:326]\n",
      "CasADi - 2024-06-28 10:09:53 WARNING(\"roots:g failed: Inf detected for output x, at (row 0, col 0).\") [.../casadi/core/oracle_function.cpp:326]\n"
     ]
    },
    {
     "name": "stdout",
     "output_type": "stream",
     "text": [
      "Solver failed for parameters: [8.41718750e-05 5.70078125e-05 1.98046875e-05 7.00390625e-01\n",
      " 6.42968750e-01 4.47656250e-06 5.85156250e-06 9.17578125e+02\n",
      " 1.33593750e+02 2.53906250e+00 1.62031250e+00 1.47031250e+00\n",
      " 1.45156250e+00 2.64804688e+04 5.13476562e+04] with error: Events ['Maximum voltage [V]'] are non-positive at initial conditions\n"
     ]
    },
    {
     "name": "stderr",
     "output_type": "stream",
     "text": [
      "CasADi - 2024-06-28 10:09:53 WARNING(\"roots:g failed: Inf detected for output x, at (row 0, col 0).\") [.../casadi/core/oracle_function.cpp:326]\n",
      "CasADi - 2024-06-28 10:09:53 WARNING(\"roots:g failed: Inf detected for output x, at (row 0, col 0).\") [.../casadi/core/oracle_function.cpp:326]\n",
      "CasADi - 2024-06-28 10:09:53 WARNING(\"roots:g failed: Inf detected for output x, at (row 0, col 0).\") [.../casadi/core/oracle_function.cpp:326]\n",
      "CasADi - 2024-06-28 10:09:53 WARNING(\"roots:g failed: Inf detected for output x, at (row 0, col 0).\") [.../casadi/core/oracle_function.cpp:326]\n",
      "CasADi - 2024-06-28 10:09:53 WARNING(\"roots:g failed: Inf detected for output x, at (row 0, col 0).\") [.../casadi/core/oracle_function.cpp:326]\n"
     ]
    },
    {
     "name": "stdout",
     "output_type": "stream",
     "text": [
      "Solver failed for parameters: [6.61718750e-05 5.70078125e-05 1.98046875e-05 7.00390625e-01\n",
      " 6.42968750e-01 4.47656250e-06 5.85156250e-06 9.17578125e+02\n",
      " 1.33593750e+02 2.53906250e+00 1.62031250e+00 1.47031250e+00\n",
      " 1.45156250e+00 2.64804688e+04 5.13476562e+04] with error: Events ['Maximum voltage [V]'] are non-positive at initial conditions\n"
     ]
    },
    {
     "name": "stderr",
     "output_type": "stream",
     "text": [
      "CasADi - 2024-06-28 10:09:54 WARNING(\"roots:g failed: Inf detected for output x, at (row 0, col 0).\") [.../casadi/core/oracle_function.cpp:326]\n",
      "CasADi - 2024-06-28 10:09:54 WARNING(\"roots:g failed: Inf detected for output x, at (row 0, col 0).\") [.../casadi/core/oracle_function.cpp:326]\n",
      "CasADi - 2024-06-28 10:09:54 WARNING(\"roots:g failed: Inf detected for output x, at (row 0, col 0).\") [.../casadi/core/oracle_function.cpp:326]\n",
      "CasADi - 2024-06-28 10:09:54 WARNING(\"roots:g failed: Inf detected for output x, at (row 0, col 0).\") [.../casadi/core/oracle_function.cpp:326]\n",
      "CasADi - 2024-06-28 10:09:54 WARNING(\"roots:g failed: Inf detected for output x, at (row 0, col 0).\") [.../casadi/core/oracle_function.cpp:326]\n"
     ]
    },
    {
     "name": "stdout",
     "output_type": "stream",
     "text": [
      "Solver failed for parameters: [8.41718750e-05 6.31015625e-05 1.98046875e-05 7.00390625e-01\n",
      " 6.42968750e-01 4.47656250e-06 5.85156250e-06 9.17578125e+02\n",
      " 1.33593750e+02 2.53906250e+00 1.62031250e+00 1.47031250e+00\n",
      " 1.45156250e+00 2.64804688e+04 5.13476562e+04] with error: Events ['Maximum voltage [V]'] are non-positive at initial conditions\n"
     ]
    },
    {
     "name": "stderr",
     "output_type": "stream",
     "text": [
      "CasADi - 2024-06-28 10:09:54 WARNING(\"roots:g failed: Inf detected for output x, at (row 0, col 0).\") [.../casadi/core/oracle_function.cpp:326]\n",
      "CasADi - 2024-06-28 10:09:54 WARNING(\"roots:g failed: Inf detected for output x, at (row 0, col 0).\") [.../casadi/core/oracle_function.cpp:326]\n",
      "CasADi - 2024-06-28 10:09:54 WARNING(\"roots:g failed: Inf detected for output x, at (row 0, col 0).\") [.../casadi/core/oracle_function.cpp:326]\n",
      "CasADi - 2024-06-28 10:09:54 WARNING(\"roots:g failed: Inf detected for output x, at (row 0, col 0).\") [.../casadi/core/oracle_function.cpp:326]\n",
      "CasADi - 2024-06-28 10:09:54 WARNING(\"roots:g failed: Inf detected for output x, at (row 0, col 0).\") [.../casadi/core/oracle_function.cpp:326]\n"
     ]
    },
    {
     "name": "stdout",
     "output_type": "stream",
     "text": [
      "Solver failed for parameters: [8.41718750e-05 5.70078125e-05 1.79296875e-05 7.00390625e-01\n",
      " 6.42968750e-01 4.47656250e-06 5.85156250e-06 9.17578125e+02\n",
      " 1.33593750e+02 2.53906250e+00 1.62031250e+00 1.47031250e+00\n",
      " 1.45156250e+00 2.64804688e+04 5.13476562e+04] with error: Events ['Maximum voltage [V]'] are non-positive at initial conditions\n"
     ]
    },
    {
     "name": "stderr",
     "output_type": "stream",
     "text": [
      "CasADi - 2024-06-28 10:09:55 WARNING(\"roots:g failed: Inf detected for output x, at (row 0, col 0).\") [.../casadi/core/oracle_function.cpp:326]\n",
      "CasADi - 2024-06-28 10:09:55 WARNING(\"roots:g failed: Inf detected for output x, at (row 0, col 0).\") [.../casadi/core/oracle_function.cpp:326]\n",
      "CasADi - 2024-06-28 10:09:55 WARNING(\"roots:g failed: Inf detected for output x, at (row 0, col 0).\") [.../casadi/core/oracle_function.cpp:326]\n",
      "CasADi - 2024-06-28 10:09:55 WARNING(\"roots:g failed: Inf detected for output x, at (row 0, col 0).\") [.../casadi/core/oracle_function.cpp:326]\n",
      "CasADi - 2024-06-28 10:09:55 WARNING(\"roots:g failed: Inf detected for output x, at (row 0, col 0).\") [.../casadi/core/oracle_function.cpp:326]\n"
     ]
    },
    {
     "name": "stdout",
     "output_type": "stream",
     "text": [
      "Solver failed for parameters: [8.41718750e-05 5.70078125e-05 1.98046875e-05 7.14453125e-01\n",
      " 6.42968750e-01 4.47656250e-06 5.85156250e-06 9.17578125e+02\n",
      " 1.33593750e+02 2.53906250e+00 1.62031250e+00 1.47031250e+00\n",
      " 1.45156250e+00 2.64804688e+04 5.13476562e+04] with error: Events ['Maximum voltage [V]'] are non-positive at initial conditions\n"
     ]
    },
    {
     "name": "stderr",
     "output_type": "stream",
     "text": [
      "CasADi - 2024-06-28 10:09:55 WARNING(\"roots:g failed: Inf detected for output x, at (row 0, col 0).\") [.../casadi/core/oracle_function.cpp:326]\n",
      "CasADi - 2024-06-28 10:09:55 WARNING(\"roots:g failed: Inf detected for output x, at (row 0, col 0).\") [.../casadi/core/oracle_function.cpp:326]\n",
      "CasADi - 2024-06-28 10:09:55 WARNING(\"roots:g failed: Inf detected for output x, at (row 0, col 0).\") [.../casadi/core/oracle_function.cpp:326]\n",
      "CasADi - 2024-06-28 10:09:55 WARNING(\"roots:g failed: Inf detected for output x, at (row 0, col 0).\") [.../casadi/core/oracle_function.cpp:326]\n",
      "CasADi - 2024-06-28 10:09:55 WARNING(\"roots:g failed: Inf detected for output x, at (row 0, col 0).\") [.../casadi/core/oracle_function.cpp:326]\n"
     ]
    },
    {
     "name": "stdout",
     "output_type": "stream",
     "text": [
      "Solver failed for parameters: [8.41718750e-05 5.70078125e-05 1.98046875e-05 7.00390625e-01\n",
      " 6.24218750e-01 4.47656250e-06 5.85156250e-06 9.17578125e+02\n",
      " 1.33593750e+02 2.53906250e+00 1.62031250e+00 1.47031250e+00\n",
      " 1.45156250e+00 2.64804688e+04 5.13476562e+04] with error: Events ['Maximum voltage [V]'] are non-positive at initial conditions\n"
     ]
    },
    {
     "name": "stderr",
     "output_type": "stream",
     "text": [
      "CasADi - 2024-06-28 10:09:55 WARNING(\"roots:g failed: Inf detected for output x, at (row 0, col 0).\") [.../casadi/core/oracle_function.cpp:326]\n",
      "CasADi - 2024-06-28 10:09:55 WARNING(\"roots:g failed: Inf detected for output x, at (row 0, col 0).\") [.../casadi/core/oracle_function.cpp:326]\n",
      "CasADi - 2024-06-28 10:09:55 WARNING(\"roots:g failed: Inf detected for output x, at (row 0, col 0).\") [.../casadi/core/oracle_function.cpp:326]\n",
      "CasADi - 2024-06-28 10:09:55 WARNING(\"roots:g failed: Inf detected for output x, at (row 0, col 0).\") [.../casadi/core/oracle_function.cpp:326]\n",
      "CasADi - 2024-06-28 10:09:55 WARNING(\"roots:g failed: Inf detected for output x, at (row 0, col 0).\") [.../casadi/core/oracle_function.cpp:326]\n"
     ]
    },
    {
     "name": "stdout",
     "output_type": "stream",
     "text": [
      "Solver failed for parameters: [8.41718750e-05 5.70078125e-05 1.98046875e-05 7.00390625e-01\n",
      " 6.42968750e-01 5.33593750e-06 5.85156250e-06 9.17578125e+02\n",
      " 1.33593750e+02 2.53906250e+00 1.62031250e+00 1.47031250e+00\n",
      " 1.45156250e+00 2.64804688e+04 5.13476562e+04] with error: Events ['Maximum voltage [V]'] are non-positive at initial conditions\n"
     ]
    },
    {
     "name": "stderr",
     "output_type": "stream",
     "text": [
      "CasADi - 2024-06-28 10:09:56 WARNING(\"roots:g failed: Inf detected for output x, at (row 0, col 0).\") [.../casadi/core/oracle_function.cpp:326]\n",
      "CasADi - 2024-06-28 10:09:56 WARNING(\"roots:g failed: Inf detected for output x, at (row 0, col 0).\") [.../casadi/core/oracle_function.cpp:326]\n",
      "CasADi - 2024-06-28 10:09:56 WARNING(\"roots:g failed: Inf detected for output x, at (row 0, col 0).\") [.../casadi/core/oracle_function.cpp:326]\n",
      "CasADi - 2024-06-28 10:09:56 WARNING(\"roots:g failed: Inf detected for output x, at (row 0, col 0).\") [.../casadi/core/oracle_function.cpp:326]\n",
      "CasADi - 2024-06-28 10:09:56 WARNING(\"roots:g failed: Inf detected for output x, at (row 0, col 0).\") [.../casadi/core/oracle_function.cpp:326]\n"
     ]
    },
    {
     "name": "stdout",
     "output_type": "stream",
     "text": [
      "Solver failed for parameters: [8.41718750e-05 5.70078125e-05 1.98046875e-05 7.00390625e-01\n",
      " 6.42968750e-01 4.47656250e-06 4.99218750e-06 9.17578125e+02\n",
      " 1.33593750e+02 2.53906250e+00 1.62031250e+00 1.47031250e+00\n",
      " 1.45156250e+00 2.64804688e+04 5.13476562e+04] with error: Events ['Maximum voltage [V]'] are non-positive at initial conditions\n"
     ]
    },
    {
     "name": "stderr",
     "output_type": "stream",
     "text": [
      "CasADi - 2024-06-28 10:09:57 WARNING(\"roots:g failed: Inf detected for output x, at (row 0, col 0).\") [.../casadi/core/oracle_function.cpp:326]\n",
      "CasADi - 2024-06-28 10:09:57 WARNING(\"roots:g failed: Inf detected for output x, at (row 0, col 0).\") [.../casadi/core/oracle_function.cpp:326]\n",
      "CasADi - 2024-06-28 10:09:57 WARNING(\"roots:g failed: Inf detected for output x, at (row 0, col 0).\") [.../casadi/core/oracle_function.cpp:326]\n",
      "CasADi - 2024-06-28 10:09:57 WARNING(\"roots:g failed: Inf detected for output x, at (row 0, col 0).\") [.../casadi/core/oracle_function.cpp:326]\n"
     ]
    },
    {
     "name": "stdout",
     "output_type": "stream",
     "text": [
      "Solver failed for parameters: [8.41718750e-05 5.70078125e-05 1.98046875e-05 7.00390625e-01\n",
      " 6.42968750e-01 4.47656250e-06 5.85156250e-06 1.07226562e+03\n",
      " 1.33593750e+02 2.53906250e+00 1.62031250e+00 1.47031250e+00\n",
      " 1.45156250e+00 2.64804688e+04 5.13476562e+04] with error: Events ['Maximum voltage [V]'] are non-positive at initial conditions\n"
     ]
    },
    {
     "name": "stderr",
     "output_type": "stream",
     "text": [
      "CasADi - 2024-06-28 10:09:57 WARNING(\"roots:g failed: Inf detected for output x, at (row 0, col 0).\") [.../casadi/core/oracle_function.cpp:326]\n",
      "CasADi - 2024-06-28 10:09:57 WARNING(\"roots:g failed: Inf detected for output x, at (row 0, col 0).\") [.../casadi/core/oracle_function.cpp:326]\n",
      "CasADi - 2024-06-28 10:09:57 WARNING(\"roots:g failed: Inf detected for output x, at (row 0, col 0).\") [.../casadi/core/oracle_function.cpp:326]\n",
      "CasADi - 2024-06-28 10:09:57 WARNING(\"roots:g failed: Inf detected for output x, at (row 0, col 0).\") [.../casadi/core/oracle_function.cpp:326]\n",
      "CasADi - 2024-06-28 10:09:57 WARNING(\"roots:g failed: Inf detected for output x, at (row 0, col 0).\") [.../casadi/core/oracle_function.cpp:326]\n"
     ]
    },
    {
     "name": "stdout",
     "output_type": "stream",
     "text": [
      "Solver failed for parameters: [8.41718750e-05 5.70078125e-05 1.98046875e-05 7.00390625e-01\n",
      " 6.42968750e-01 4.47656250e-06 5.85156250e-06 9.17578125e+02\n",
      " 1.74218750e+02 2.53906250e+00 1.62031250e+00 1.47031250e+00\n",
      " 1.45156250e+00 2.64804688e+04 5.13476562e+04] with error: Events ['Maximum voltage [V]'] are non-positive at initial conditions\n"
     ]
    },
    {
     "name": "stderr",
     "output_type": "stream",
     "text": [
      "CasADi - 2024-06-28 10:09:58 WARNING(\"roots:g failed: Inf detected for output x, at (row 0, col 0).\") [.../casadi/core/oracle_function.cpp:326]\n",
      "CasADi - 2024-06-28 10:09:58 WARNING(\"roots:g failed: Inf detected for output x, at (row 0, col 0).\") [.../casadi/core/oracle_function.cpp:326]\n",
      "CasADi - 2024-06-28 10:09:58 WARNING(\"roots:g failed: Inf detected for output x, at (row 0, col 0).\") [.../casadi/core/oracle_function.cpp:326]\n",
      "CasADi - 2024-06-28 10:09:58 WARNING(\"roots:g failed: Inf detected for output x, at (row 0, col 0).\") [.../casadi/core/oracle_function.cpp:326]\n",
      "CasADi - 2024-06-28 10:09:58 WARNING(\"roots:g failed: Inf detected for output x, at (row 0, col 0).\") [.../casadi/core/oracle_function.cpp:326]\n"
     ]
    },
    {
     "name": "stdout",
     "output_type": "stream",
     "text": [
      "Solver failed for parameters: [8.41718750e-05 5.70078125e-05 1.98046875e-05 7.00390625e-01\n",
      " 6.42968750e-01 4.47656250e-06 5.85156250e-06 9.17578125e+02\n",
      " 1.33593750e+02 6.05468750e+00 1.62031250e+00 1.47031250e+00\n",
      " 1.45156250e+00 2.64804688e+04 5.13476562e+04] with error: Events ['Maximum voltage [V]'] are non-positive at initial conditions\n"
     ]
    },
    {
     "name": "stderr",
     "output_type": "stream",
     "text": [
      "CasADi - 2024-06-28 10:09:58 WARNING(\"roots:g failed: Inf detected for output x, at (row 0, col 0).\") [.../casadi/core/oracle_function.cpp:326]\n",
      "CasADi - 2024-06-28 10:09:58 WARNING(\"roots:g failed: Inf detected for output x, at (row 0, col 0).\") [.../casadi/core/oracle_function.cpp:326]\n",
      "CasADi - 2024-06-28 10:09:58 WARNING(\"roots:g failed: Inf detected for output x, at (row 0, col 0).\") [.../casadi/core/oracle_function.cpp:326]\n",
      "CasADi - 2024-06-28 10:09:58 WARNING(\"roots:g failed: Inf detected for output x, at (row 0, col 0).\") [.../casadi/core/oracle_function.cpp:326]\n",
      "CasADi - 2024-06-28 10:09:58 WARNING(\"roots:g failed: Inf detected for output x, at (row 0, col 0).\") [.../casadi/core/oracle_function.cpp:326]\n"
     ]
    },
    {
     "name": "stdout",
     "output_type": "stream",
     "text": [
      "Solver failed for parameters: [8.41718750e-05 5.70078125e-05 1.98046875e-05 7.00390625e-01\n",
      " 6.42968750e-01 4.47656250e-06 5.85156250e-06 9.17578125e+02\n",
      " 1.33593750e+02 2.53906250e+00 1.49843750e+00 1.47031250e+00\n",
      " 1.45156250e+00 2.64804688e+04 5.13476562e+04] with error: Events ['Maximum voltage [V]'] are non-positive at initial conditions\n"
     ]
    },
    {
     "name": "stderr",
     "output_type": "stream",
     "text": [
      "CasADi - 2024-06-28 10:09:58 WARNING(\"roots:g failed: Inf detected for output x, at (row 0, col 0).\") [.../casadi/core/oracle_function.cpp:326]\n",
      "CasADi - 2024-06-28 10:09:58 WARNING(\"roots:g failed: Inf detected for output x, at (row 0, col 0).\") [.../casadi/core/oracle_function.cpp:326]\n",
      "CasADi - 2024-06-28 10:09:58 WARNING(\"roots:g failed: Inf detected for output x, at (row 0, col 0).\") [.../casadi/core/oracle_function.cpp:326]\n",
      "CasADi - 2024-06-28 10:09:58 WARNING(\"roots:g failed: Inf detected for output x, at (row 0, col 0).\") [.../casadi/core/oracle_function.cpp:326]\n",
      "CasADi - 2024-06-28 10:09:58 WARNING(\"roots:g failed: Inf detected for output x, at (row 0, col 0).\") [.../casadi/core/oracle_function.cpp:326]\n"
     ]
    },
    {
     "name": "stdout",
     "output_type": "stream",
     "text": [
      "Solver failed for parameters: [8.41718750e-05 5.70078125e-05 1.98046875e-05 7.00390625e-01\n",
      " 6.42968750e-01 4.47656250e-06 5.85156250e-06 9.17578125e+02\n",
      " 1.33593750e+02 2.53906250e+00 1.62031250e+00 1.61093750e+00\n",
      " 1.45156250e+00 2.64804688e+04 5.13476562e+04] with error: Events ['Maximum voltage [V]'] are non-positive at initial conditions\n"
     ]
    },
    {
     "name": "stderr",
     "output_type": "stream",
     "text": [
      "CasADi - 2024-06-28 10:09:59 WARNING(\"roots:g failed: Inf detected for output x, at (row 0, col 0).\") [.../casadi/core/oracle_function.cpp:326]\n",
      "CasADi - 2024-06-28 10:09:59 WARNING(\"roots:g failed: Inf detected for output x, at (row 0, col 0).\") [.../casadi/core/oracle_function.cpp:326]\n",
      "CasADi - 2024-06-28 10:09:59 WARNING(\"roots:g failed: Inf detected for output x, at (row 0, col 0).\") [.../casadi/core/oracle_function.cpp:326]\n",
      "CasADi - 2024-06-28 10:09:59 WARNING(\"roots:g failed: Inf detected for output x, at (row 0, col 0).\") [.../casadi/core/oracle_function.cpp:326]\n",
      "CasADi - 2024-06-28 10:09:59 WARNING(\"roots:g failed: Inf detected for output x, at (row 0, col 0).\") [.../casadi/core/oracle_function.cpp:326]\n"
     ]
    },
    {
     "name": "stdout",
     "output_type": "stream",
     "text": [
      "Solver failed for parameters: [8.41718750e-05 5.70078125e-05 1.98046875e-05 7.00390625e-01\n",
      " 6.42968750e-01 4.47656250e-06 5.85156250e-06 9.17578125e+02\n",
      " 1.33593750e+02 2.53906250e+00 1.62031250e+00 1.47031250e+00\n",
      " 1.41093750e+00 2.64804688e+04 5.13476562e+04] with error: Events ['Maximum voltage [V]'] are non-positive at initial conditions\n"
     ]
    },
    {
     "name": "stderr",
     "output_type": "stream",
     "text": [
      "CasADi - 2024-06-28 10:09:59 WARNING(\"roots:g failed: Inf detected for output x, at (row 0, col 0).\") [.../casadi/core/oracle_function.cpp:326]\n",
      "CasADi - 2024-06-28 10:09:59 WARNING(\"roots:g failed: Inf detected for output x, at (row 0, col 0).\") [.../casadi/core/oracle_function.cpp:326]\n",
      "CasADi - 2024-06-28 10:09:59 WARNING(\"roots:g failed: Inf detected for output x, at (row 0, col 0).\") [.../casadi/core/oracle_function.cpp:326]\n",
      "CasADi - 2024-06-28 10:09:59 WARNING(\"roots:g failed: Inf detected for output x, at (row 0, col 0).\") [.../casadi/core/oracle_function.cpp:326]\n"
     ]
    },
    {
     "name": "stdout",
     "output_type": "stream",
     "text": [
      "Solver failed for parameters: [8.41718750e-05 5.70078125e-05 1.98046875e-05 7.00390625e-01\n",
      " 6.42968750e-01 4.47656250e-06 5.85156250e-06 9.17578125e+02\n",
      " 1.33593750e+02 2.53906250e+00 1.62031250e+00 1.47031250e+00\n",
      " 1.45156250e+00 2.78554688e+04 5.13476562e+04] with error: Events ['Maximum voltage [V]'] are non-positive at initial conditions\n"
     ]
    },
    {
     "name": "stderr",
     "output_type": "stream",
     "text": [
      "CasADi - 2024-06-28 10:10:00 WARNING(\"roots:g failed: Inf detected for output x, at (row 0, col 0).\") [.../casadi/core/oracle_function.cpp:326]\n",
      "CasADi - 2024-06-28 10:10:00 WARNING(\"roots:g failed: Inf detected for output x, at (row 0, col 0).\") [.../casadi/core/oracle_function.cpp:326]\n",
      "CasADi - 2024-06-28 10:10:00 WARNING(\"roots:g failed: Inf detected for output x, at (row 0, col 0).\") [.../casadi/core/oracle_function.cpp:326]\n",
      "CasADi - 2024-06-28 10:10:00 WARNING(\"roots:g failed: Inf detected for output x, at (row 0, col 0).\") [.../casadi/core/oracle_function.cpp:326]\n",
      "CasADi - 2024-06-28 10:10:00 WARNING(\"roots:g failed: Inf detected for output x, at (row 0, col 0).\") [.../casadi/core/oracle_function.cpp:326]\n"
     ]
    },
    {
     "name": "stdout",
     "output_type": "stream",
     "text": [
      "Solver failed for parameters: [8.41718750e-05 5.70078125e-05 1.98046875e-05 7.00390625e-01\n",
      " 6.42968750e-01 4.47656250e-06 5.85156250e-06 9.17578125e+02\n",
      " 1.33593750e+02 2.53906250e+00 1.62031250e+00 1.47031250e+00\n",
      " 1.45156250e+00 2.64804688e+04 5.56835938e+04] with error: Events ['Maximum voltage [V]'] are non-positive at initial conditions\n"
     ]
    },
    {
     "name": "stderr",
     "output_type": "stream",
     "text": [
      "CasADi - 2024-06-28 10:10:00 WARNING(\"roots:g failed: Inf detected for output x, at (row 0, col 0).\") [.../casadi/core/oracle_function.cpp:326]\n",
      "CasADi - 2024-06-28 10:10:00 WARNING(\"roots:g failed: Inf detected for output x, at (row 0, col 0).\") [.../casadi/core/oracle_function.cpp:326]\n",
      "CasADi - 2024-06-28 10:10:00 WARNING(\"roots:g failed: Inf detected for output x, at (row 0, col 0).\") [.../casadi/core/oracle_function.cpp:326]\n",
      "CasADi - 2024-06-28 10:10:00 WARNING(\"roots:g failed: Inf detected for output x, at (row 0, col 0).\") [.../casadi/core/oracle_function.cpp:326]\n",
      "CasADi - 2024-06-28 10:10:00 WARNING(\"roots:g failed: Inf detected for output x, at (row 0, col 0).\") [.../casadi/core/oracle_function.cpp:326]\n"
     ]
    },
    {
     "name": "stdout",
     "output_type": "stream",
     "text": [
      "Solver failed for parameters: [8.41718750e-05 6.31015625e-05 1.79296875e-05 7.14453125e-01\n",
      " 6.24218750e-01 5.33593750e-06 4.99218750e-06 1.07226562e+03\n",
      " 1.74218750e+02 6.05468750e+00 1.49843750e+00 1.61093750e+00\n",
      " 1.41093750e+00 2.78554688e+04 5.56835938e+04] with error: Events ['Maximum voltage [V]'] are non-positive at initial conditions\n"
     ]
    },
    {
     "name": "stderr",
     "output_type": "stream",
     "text": [
      "CasADi - 2024-06-28 10:10:01 WARNING(\"roots:g failed: Inf detected for output x, at (row 0, col 0).\") [.../casadi/core/oracle_function.cpp:326]\n",
      "CasADi - 2024-06-28 10:10:01 WARNING(\"roots:g failed: Inf detected for output x, at (row 0, col 0).\") [.../casadi/core/oracle_function.cpp:326]\n",
      "CasADi - 2024-06-28 10:10:01 WARNING(\"roots:g failed: Inf detected for output x, at (row 0, col 0).\") [.../casadi/core/oracle_function.cpp:326]\n",
      "CasADi - 2024-06-28 10:10:01 WARNING(\"roots:g failed: Inf detected for output x, at (row 0, col 0).\") [.../casadi/core/oracle_function.cpp:326]\n",
      "CasADi - 2024-06-28 10:10:01 WARNING(\"roots:g failed: Inf detected for output x, at (row 0, col 0).\") [.../casadi/core/oracle_function.cpp:326]\n"
     ]
    },
    {
     "name": "stdout",
     "output_type": "stream",
     "text": [
      "Solver failed for parameters: [6.61718750e-05 5.70078125e-05 1.79296875e-05 7.14453125e-01\n",
      " 6.24218750e-01 5.33593750e-06 4.99218750e-06 1.07226562e+03\n",
      " 1.74218750e+02 6.05468750e+00 1.49843750e+00 1.61093750e+00\n",
      " 1.41093750e+00 2.78554688e+04 5.56835938e+04] with error: Events ['Maximum voltage [V]'] are non-positive at initial conditions\n"
     ]
    },
    {
     "name": "stderr",
     "output_type": "stream",
     "text": [
      "CasADi - 2024-06-28 10:10:01 WARNING(\"roots:g failed: Inf detected for output x, at (row 0, col 0).\") [.../casadi/core/oracle_function.cpp:326]\n",
      "CasADi - 2024-06-28 10:10:01 WARNING(\"roots:g failed: Inf detected for output x, at (row 0, col 0).\") [.../casadi/core/oracle_function.cpp:326]\n",
      "CasADi - 2024-06-28 10:10:01 WARNING(\"roots:g failed: Inf detected for output x, at (row 0, col 0).\") [.../casadi/core/oracle_function.cpp:326]\n",
      "CasADi - 2024-06-28 10:10:01 WARNING(\"roots:g failed: Inf detected for output x, at (row 0, col 0).\") [.../casadi/core/oracle_function.cpp:326]\n",
      "CasADi - 2024-06-28 10:10:01 WARNING(\"roots:g failed: Inf detected for output x, at (row 0, col 0).\") [.../casadi/core/oracle_function.cpp:326]\n"
     ]
    },
    {
     "name": "stdout",
     "output_type": "stream",
     "text": [
      "Solver failed for parameters: [6.61718750e-05 6.31015625e-05 1.98046875e-05 7.14453125e-01\n",
      " 6.24218750e-01 5.33593750e-06 4.99218750e-06 1.07226562e+03\n",
      " 1.74218750e+02 6.05468750e+00 1.49843750e+00 1.61093750e+00\n",
      " 1.41093750e+00 2.78554688e+04 5.56835938e+04] with error: Events ['Maximum voltage [V]'] are non-positive at initial conditions\n"
     ]
    },
    {
     "name": "stderr",
     "output_type": "stream",
     "text": [
      "CasADi - 2024-06-28 10:10:02 WARNING(\"roots:g failed: Inf detected for output x, at (row 0, col 0).\") [.../casadi/core/oracle_function.cpp:326]\n",
      "CasADi - 2024-06-28 10:10:02 WARNING(\"roots:g failed: Inf detected for output x, at (row 0, col 0).\") [.../casadi/core/oracle_function.cpp:326]\n",
      "CasADi - 2024-06-28 10:10:02 WARNING(\"roots:g failed: Inf detected for output x, at (row 0, col 0).\") [.../casadi/core/oracle_function.cpp:326]\n",
      "CasADi - 2024-06-28 10:10:02 WARNING(\"roots:g failed: Inf detected for output x, at (row 0, col 0).\") [.../casadi/core/oracle_function.cpp:326]\n",
      "CasADi - 2024-06-28 10:10:02 WARNING(\"roots:g failed: Inf detected for output x, at (row 0, col 0).\") [.../casadi/core/oracle_function.cpp:326]\n"
     ]
    },
    {
     "name": "stdout",
     "output_type": "stream",
     "text": [
      "Solver failed for parameters: [6.61718750e-05 6.31015625e-05 1.79296875e-05 7.00390625e-01\n",
      " 6.24218750e-01 5.33593750e-06 4.99218750e-06 1.07226562e+03\n",
      " 1.74218750e+02 6.05468750e+00 1.49843750e+00 1.61093750e+00\n",
      " 1.41093750e+00 2.78554688e+04 5.56835938e+04] with error: Events ['Maximum voltage [V]'] are non-positive at initial conditions\n"
     ]
    },
    {
     "name": "stderr",
     "output_type": "stream",
     "text": [
      "CasADi - 2024-06-28 10:10:02 WARNING(\"roots:g failed: Inf detected for output x, at (row 0, col 0).\") [.../casadi/core/oracle_function.cpp:326]\n",
      "CasADi - 2024-06-28 10:10:02 WARNING(\"roots:g failed: Inf detected for output x, at (row 0, col 0).\") [.../casadi/core/oracle_function.cpp:326]\n",
      "CasADi - 2024-06-28 10:10:02 WARNING(\"roots:g failed: Inf detected for output x, at (row 0, col 0).\") [.../casadi/core/oracle_function.cpp:326]\n",
      "CasADi - 2024-06-28 10:10:02 WARNING(\"roots:g failed: Inf detected for output x, at (row 0, col 0).\") [.../casadi/core/oracle_function.cpp:326]\n",
      "CasADi - 2024-06-28 10:10:02 WARNING(\"roots:g failed: Inf detected for output x, at (row 0, col 0).\") [.../casadi/core/oracle_function.cpp:326]\n"
     ]
    },
    {
     "name": "stdout",
     "output_type": "stream",
     "text": [
      "Solver failed for parameters: [6.61718750e-05 6.31015625e-05 1.79296875e-05 7.14453125e-01\n",
      " 6.42968750e-01 5.33593750e-06 4.99218750e-06 1.07226562e+03\n",
      " 1.74218750e+02 6.05468750e+00 1.49843750e+00 1.61093750e+00\n",
      " 1.41093750e+00 2.78554688e+04 5.56835938e+04] with error: Events ['Maximum voltage [V]'] are non-positive at initial conditions\n"
     ]
    },
    {
     "name": "stderr",
     "output_type": "stream",
     "text": [
      "CasADi - 2024-06-28 10:10:03 WARNING(\"roots:g failed: Inf detected for output x, at (row 0, col 0).\") [.../casadi/core/oracle_function.cpp:326]\n",
      "CasADi - 2024-06-28 10:10:03 WARNING(\"roots:g failed: Inf detected for output x, at (row 0, col 0).\") [.../casadi/core/oracle_function.cpp:326]\n",
      "CasADi - 2024-06-28 10:10:03 WARNING(\"roots:g failed: Inf detected for output x, at (row 0, col 0).\") [.../casadi/core/oracle_function.cpp:326]\n",
      "CasADi - 2024-06-28 10:10:03 WARNING(\"roots:g failed: Inf detected for output x, at (row 0, col 0).\") [.../casadi/core/oracle_function.cpp:326]\n",
      "CasADi - 2024-06-28 10:10:03 WARNING(\"roots:g failed: Inf detected for output x, at (row 0, col 0).\") [.../casadi/core/oracle_function.cpp:326]\n"
     ]
    },
    {
     "name": "stdout",
     "output_type": "stream",
     "text": [
      "Solver failed for parameters: [6.61718750e-05 6.31015625e-05 1.79296875e-05 7.14453125e-01\n",
      " 6.24218750e-01 4.47656250e-06 4.99218750e-06 1.07226562e+03\n",
      " 1.74218750e+02 6.05468750e+00 1.49843750e+00 1.61093750e+00\n",
      " 1.41093750e+00 2.78554688e+04 5.56835938e+04] with error: Events ['Maximum voltage [V]'] are non-positive at initial conditions\n"
     ]
    },
    {
     "name": "stderr",
     "output_type": "stream",
     "text": [
      "CasADi - 2024-06-28 10:10:03 WARNING(\"roots:g failed: Inf detected for output x, at (row 0, col 0).\") [.../casadi/core/oracle_function.cpp:326]\n",
      "CasADi - 2024-06-28 10:10:03 WARNING(\"roots:g failed: Inf detected for output x, at (row 0, col 0).\") [.../casadi/core/oracle_function.cpp:326]\n",
      "CasADi - 2024-06-28 10:10:03 WARNING(\"roots:g failed: Inf detected for output x, at (row 0, col 0).\") [.../casadi/core/oracle_function.cpp:326]\n",
      "CasADi - 2024-06-28 10:10:03 WARNING(\"roots:g failed: Inf detected for output x, at (row 0, col 0).\") [.../casadi/core/oracle_function.cpp:326]\n",
      "CasADi - 2024-06-28 10:10:03 WARNING(\"roots:g failed: Inf detected for output x, at (row 0, col 0).\") [.../casadi/core/oracle_function.cpp:326]\n"
     ]
    },
    {
     "name": "stdout",
     "output_type": "stream",
     "text": [
      "Solver failed for parameters: [6.61718750e-05 6.31015625e-05 1.79296875e-05 7.14453125e-01\n",
      " 6.24218750e-01 5.33593750e-06 5.85156250e-06 1.07226562e+03\n",
      " 1.74218750e+02 6.05468750e+00 1.49843750e+00 1.61093750e+00\n",
      " 1.41093750e+00 2.78554688e+04 5.56835938e+04] with error: Events ['Maximum voltage [V]'] are non-positive at initial conditions\n"
     ]
    },
    {
     "name": "stderr",
     "output_type": "stream",
     "text": [
      "CasADi - 2024-06-28 10:10:04 WARNING(\"roots:g failed: Inf detected for output x, at (row 0, col 0).\") [.../casadi/core/oracle_function.cpp:326]\n",
      "CasADi - 2024-06-28 10:10:04 WARNING(\"roots:g failed: Inf detected for output x, at (row 0, col 0).\") [.../casadi/core/oracle_function.cpp:326]\n",
      "CasADi - 2024-06-28 10:10:04 WARNING(\"roots:g failed: Inf detected for output x, at (row 0, col 0).\") [.../casadi/core/oracle_function.cpp:326]\n",
      "CasADi - 2024-06-28 10:10:04 WARNING(\"roots:g failed: Inf detected for output x, at (row 0, col 0).\") [.../casadi/core/oracle_function.cpp:326]\n",
      "CasADi - 2024-06-28 10:10:04 WARNING(\"roots:g failed: Inf detected for output x, at (row 0, col 0).\") [.../casadi/core/oracle_function.cpp:326]\n"
     ]
    },
    {
     "name": "stdout",
     "output_type": "stream",
     "text": [
      "Solver failed for parameters: [6.61718750e-05 6.31015625e-05 1.79296875e-05 7.14453125e-01\n",
      " 6.24218750e-01 5.33593750e-06 4.99218750e-06 9.17578125e+02\n",
      " 1.74218750e+02 6.05468750e+00 1.49843750e+00 1.61093750e+00\n",
      " 1.41093750e+00 2.78554688e+04 5.56835938e+04] with error: Events ['Maximum voltage [V]'] are non-positive at initial conditions\n"
     ]
    },
    {
     "name": "stderr",
     "output_type": "stream",
     "text": [
      "CasADi - 2024-06-28 10:10:04 WARNING(\"roots:g failed: Inf detected for output x, at (row 0, col 0).\") [.../casadi/core/oracle_function.cpp:326]\n",
      "CasADi - 2024-06-28 10:10:04 WARNING(\"roots:g failed: Inf detected for output x, at (row 0, col 0).\") [.../casadi/core/oracle_function.cpp:326]\n",
      "CasADi - 2024-06-28 10:10:04 WARNING(\"roots:g failed: Inf detected for output x, at (row 0, col 0).\") [.../casadi/core/oracle_function.cpp:326]\n",
      "CasADi - 2024-06-28 10:10:04 WARNING(\"roots:g failed: Inf detected for output x, at (row 0, col 0).\") [.../casadi/core/oracle_function.cpp:326]\n",
      "CasADi - 2024-06-28 10:10:04 WARNING(\"roots:g failed: Inf detected for output x, at (row 0, col 0).\") [.../casadi/core/oracle_function.cpp:326]\n"
     ]
    },
    {
     "name": "stdout",
     "output_type": "stream",
     "text": [
      "Solver failed for parameters: [6.61718750e-05 6.31015625e-05 1.79296875e-05 7.14453125e-01\n",
      " 6.24218750e-01 5.33593750e-06 4.99218750e-06 1.07226562e+03\n",
      " 1.33593750e+02 6.05468750e+00 1.49843750e+00 1.61093750e+00\n",
      " 1.41093750e+00 2.78554688e+04 5.56835938e+04] with error: Events ['Maximum voltage [V]'] are non-positive at initial conditions\n"
     ]
    },
    {
     "name": "stderr",
     "output_type": "stream",
     "text": [
      "CasADi - 2024-06-28 10:10:05 WARNING(\"roots:g failed: Inf detected for output x, at (row 0, col 0).\") [.../casadi/core/oracle_function.cpp:326]\n",
      "CasADi - 2024-06-28 10:10:05 WARNING(\"roots:g failed: Inf detected for output x, at (row 0, col 0).\") [.../casadi/core/oracle_function.cpp:326]\n",
      "CasADi - 2024-06-28 10:10:05 WARNING(\"roots:g failed: Inf detected for output x, at (row 0, col 0).\") [.../casadi/core/oracle_function.cpp:326]\n",
      "CasADi - 2024-06-28 10:10:05 WARNING(\"roots:g failed: Inf detected for output x, at (row 0, col 0).\") [.../casadi/core/oracle_function.cpp:326]\n",
      "CasADi - 2024-06-28 10:10:05 WARNING(\"roots:g failed: Inf detected for output x, at (row 0, col 0).\") [.../casadi/core/oracle_function.cpp:326]\n"
     ]
    },
    {
     "name": "stdout",
     "output_type": "stream",
     "text": [
      "Solver failed for parameters: [6.61718750e-05 6.31015625e-05 1.79296875e-05 7.14453125e-01\n",
      " 6.24218750e-01 5.33593750e-06 4.99218750e-06 1.07226562e+03\n",
      " 1.74218750e+02 2.53906250e+00 1.49843750e+00 1.61093750e+00\n",
      " 1.41093750e+00 2.78554688e+04 5.56835938e+04] with error: Events ['Maximum voltage [V]'] are non-positive at initial conditions\n"
     ]
    },
    {
     "name": "stderr",
     "output_type": "stream",
     "text": [
      "CasADi - 2024-06-28 10:10:05 WARNING(\"roots:g failed: Inf detected for output x, at (row 0, col 0).\") [.../casadi/core/oracle_function.cpp:326]\n",
      "CasADi - 2024-06-28 10:10:05 WARNING(\"roots:g failed: Inf detected for output x, at (row 0, col 0).\") [.../casadi/core/oracle_function.cpp:326]\n",
      "CasADi - 2024-06-28 10:10:05 WARNING(\"roots:g failed: Inf detected for output x, at (row 0, col 0).\") [.../casadi/core/oracle_function.cpp:326]\n",
      "CasADi - 2024-06-28 10:10:05 WARNING(\"roots:g failed: Inf detected for output x, at (row 0, col 0).\") [.../casadi/core/oracle_function.cpp:326]\n",
      "CasADi - 2024-06-28 10:10:05 WARNING(\"roots:g failed: Inf detected for output x, at (row 0, col 0).\") [.../casadi/core/oracle_function.cpp:326]\n"
     ]
    },
    {
     "name": "stdout",
     "output_type": "stream",
     "text": [
      "Solver failed for parameters: [6.61718750e-05 6.31015625e-05 1.79296875e-05 7.14453125e-01\n",
      " 6.24218750e-01 5.33593750e-06 4.99218750e-06 1.07226562e+03\n",
      " 1.74218750e+02 6.05468750e+00 1.62031250e+00 1.61093750e+00\n",
      " 1.41093750e+00 2.78554688e+04 5.56835938e+04] with error: Events ['Maximum voltage [V]'] are non-positive at initial conditions\n"
     ]
    },
    {
     "name": "stderr",
     "output_type": "stream",
     "text": [
      "CasADi - 2024-06-28 10:10:05 WARNING(\"roots:g failed: Inf detected for output x, at (row 0, col 0).\") [.../casadi/core/oracle_function.cpp:326]\n",
      "CasADi - 2024-06-28 10:10:05 WARNING(\"roots:g failed: Inf detected for output x, at (row 0, col 0).\") [.../casadi/core/oracle_function.cpp:326]\n",
      "CasADi - 2024-06-28 10:10:05 WARNING(\"roots:g failed: Inf detected for output x, at (row 0, col 0).\") [.../casadi/core/oracle_function.cpp:326]\n",
      "CasADi - 2024-06-28 10:10:05 WARNING(\"roots:g failed: Inf detected for output x, at (row 0, col 0).\") [.../casadi/core/oracle_function.cpp:326]\n",
      "CasADi - 2024-06-28 10:10:05 WARNING(\"roots:g failed: Inf detected for output x, at (row 0, col 0).\") [.../casadi/core/oracle_function.cpp:326]\n"
     ]
    },
    {
     "name": "stdout",
     "output_type": "stream",
     "text": [
      "Solver failed for parameters: [6.61718750e-05 6.31015625e-05 1.79296875e-05 7.14453125e-01\n",
      " 6.24218750e-01 5.33593750e-06 4.99218750e-06 1.07226562e+03\n",
      " 1.74218750e+02 6.05468750e+00 1.49843750e+00 1.47031250e+00\n",
      " 1.41093750e+00 2.78554688e+04 5.56835938e+04] with error: Events ['Maximum voltage [V]'] are non-positive at initial conditions\n"
     ]
    },
    {
     "name": "stderr",
     "output_type": "stream",
     "text": [
      "CasADi - 2024-06-28 10:10:06 WARNING(\"roots:g failed: Inf detected for output x, at (row 0, col 0).\") [.../casadi/core/oracle_function.cpp:326]\n",
      "CasADi - 2024-06-28 10:10:06 WARNING(\"roots:g failed: Inf detected for output x, at (row 0, col 0).\") [.../casadi/core/oracle_function.cpp:326]\n",
      "CasADi - 2024-06-28 10:10:06 WARNING(\"roots:g failed: Inf detected for output x, at (row 0, col 0).\") [.../casadi/core/oracle_function.cpp:326]\n",
      "CasADi - 2024-06-28 10:10:06 WARNING(\"roots:g failed: Inf detected for output x, at (row 0, col 0).\") [.../casadi/core/oracle_function.cpp:326]\n",
      "CasADi - 2024-06-28 10:10:06 WARNING(\"roots:g failed: Inf detected for output x, at (row 0, col 0).\") [.../casadi/core/oracle_function.cpp:326]\n"
     ]
    },
    {
     "name": "stdout",
     "output_type": "stream",
     "text": [
      "Solver failed for parameters: [6.61718750e-05 6.31015625e-05 1.79296875e-05 7.14453125e-01\n",
      " 6.24218750e-01 5.33593750e-06 4.99218750e-06 1.07226562e+03\n",
      " 1.74218750e+02 6.05468750e+00 1.49843750e+00 1.61093750e+00\n",
      " 1.45156250e+00 2.78554688e+04 5.56835938e+04] with error: Events ['Maximum voltage [V]'] are non-positive at initial conditions\n"
     ]
    },
    {
     "name": "stderr",
     "output_type": "stream",
     "text": [
      "CasADi - 2024-06-28 10:10:07 WARNING(\"roots:g failed: Inf detected for output x, at (row 0, col 0).\") [.../casadi/core/oracle_function.cpp:326]\n",
      "CasADi - 2024-06-28 10:10:07 WARNING(\"roots:g failed: Inf detected for output x, at (row 0, col 0).\") [.../casadi/core/oracle_function.cpp:326]\n",
      "CasADi - 2024-06-28 10:10:07 WARNING(\"roots:g failed: Inf detected for output x, at (row 0, col 0).\") [.../casadi/core/oracle_function.cpp:326]\n",
      "CasADi - 2024-06-28 10:10:07 WARNING(\"roots:g failed: Inf detected for output x, at (row 0, col 0).\") [.../casadi/core/oracle_function.cpp:326]\n",
      "CasADi - 2024-06-28 10:10:07 WARNING(\"roots:g failed: Inf detected for output x, at (row 0, col 0).\") [.../casadi/core/oracle_function.cpp:326]\n"
     ]
    },
    {
     "name": "stdout",
     "output_type": "stream",
     "text": [
      "Solver failed for parameters: [6.61718750e-05 6.31015625e-05 1.79296875e-05 7.14453125e-01\n",
      " 6.24218750e-01 5.33593750e-06 4.99218750e-06 1.07226562e+03\n",
      " 1.74218750e+02 6.05468750e+00 1.49843750e+00 1.61093750e+00\n",
      " 1.41093750e+00 2.64804688e+04 5.56835938e+04] with error: Events ['Maximum voltage [V]'] are non-positive at initial conditions\n"
     ]
    },
    {
     "name": "stderr",
     "output_type": "stream",
     "text": [
      "CasADi - 2024-06-28 10:10:07 WARNING(\"roots:g failed: Inf detected for output x, at (row 0, col 0).\") [.../casadi/core/oracle_function.cpp:326]\n",
      "CasADi - 2024-06-28 10:10:07 WARNING(\"roots:g failed: Inf detected for output x, at (row 0, col 0).\") [.../casadi/core/oracle_function.cpp:326]\n",
      "CasADi - 2024-06-28 10:10:07 WARNING(\"roots:g failed: Inf detected for output x, at (row 0, col 0).\") [.../casadi/core/oracle_function.cpp:326]\n",
      "CasADi - 2024-06-28 10:10:07 WARNING(\"roots:g failed: Inf detected for output x, at (row 0, col 0).\") [.../casadi/core/oracle_function.cpp:326]\n",
      "CasADi - 2024-06-28 10:10:07 WARNING(\"roots:g failed: Inf detected for output x, at (row 0, col 0).\") [.../casadi/core/oracle_function.cpp:326]\n"
     ]
    },
    {
     "name": "stdout",
     "output_type": "stream",
     "text": [
      "Solver failed for parameters: [6.61718750e-05 6.31015625e-05 1.79296875e-05 7.14453125e-01\n",
      " 6.24218750e-01 5.33593750e-06 4.99218750e-06 1.07226562e+03\n",
      " 1.74218750e+02 6.05468750e+00 1.49843750e+00 1.61093750e+00\n",
      " 1.41093750e+00 2.78554688e+04 5.13476562e+04] with error: Events ['Maximum voltage [V]'] are non-positive at initial conditions\n"
     ]
    },
    {
     "name": "stderr",
     "output_type": "stream",
     "text": [
      "CasADi - 2024-06-28 10:10:07 WARNING(\"roots:g failed: Inf detected for output x, at (row 0, col 0).\") [.../casadi/core/oracle_function.cpp:326]\n",
      "CasADi - 2024-06-28 10:10:07 WARNING(\"roots:g failed: Inf detected for output x, at (row 0, col 0).\") [.../casadi/core/oracle_function.cpp:326]\n",
      "CasADi - 2024-06-28 10:10:07 WARNING(\"roots:g failed: Inf detected for output x, at (row 0, col 0).\") [.../casadi/core/oracle_function.cpp:326]\n",
      "CasADi - 2024-06-28 10:10:07 WARNING(\"roots:g failed: Inf detected for output x, at (row 0, col 0).\") [.../casadi/core/oracle_function.cpp:326]\n",
      "CasADi - 2024-06-28 10:10:07 WARNING(\"roots:g failed: Inf detected for output x, at (row 0, col 0).\") [.../casadi/core/oracle_function.cpp:326]\n"
     ]
    },
    {
     "name": "stdout",
     "output_type": "stream",
     "text": [
      "Solver failed for parameters: [6.61718750e-05 6.31015625e-05 1.79296875e-05 7.14453125e-01\n",
      " 6.24218750e-01 5.33593750e-06 4.99218750e-06 1.07226562e+03\n",
      " 1.74218750e+02 6.05468750e+00 1.49843750e+00 1.61093750e+00\n",
      " 1.41093750e+00 2.78554688e+04 5.56835938e+04] with error: Events ['Maximum voltage [V]'] are non-positive at initial conditions\n"
     ]
    },
    {
     "name": "stderr",
     "output_type": "stream",
     "text": [
      "CasADi - 2024-06-28 10:11:09 WARNING(\"roots:g failed: Inf detected for output x, at (row 0, col 0).\") [.../casadi/core/oracle_function.cpp:326]\n",
      "CasADi - 2024-06-28 10:11:09 WARNING(\"roots:g failed: Inf detected for output x, at (row 0, col 0).\") [.../casadi/core/oracle_function.cpp:326]\n",
      "CasADi - 2024-06-28 10:11:09 WARNING(\"roots:g failed: Inf detected for output x, at (row 0, col 0).\") [.../casadi/core/oracle_function.cpp:326]\n",
      "CasADi - 2024-06-28 10:11:09 WARNING(\"roots:g failed: Inf detected for output x, at (row 0, col 0).\") [.../casadi/core/oracle_function.cpp:326]\n",
      "CasADi - 2024-06-28 10:11:09 WARNING(\"roots:g failed: Inf detected for output x, at (row 0, col 0).\") [.../casadi/core/oracle_function.cpp:326]\n"
     ]
    },
    {
     "name": "stdout",
     "output_type": "stream",
     "text": [
      "Solver failed for parameters: [6.16718750e-05 6.02578125e-05 1.10546875e-05 7.62890625e-01\n",
      " 5.17968750e-01 5.72656250e-06 5.60156250e-06 9.55078125e+02\n",
      " 1.08593750e+02 1.28906250e+00 1.67031250e+00 1.62031250e+00\n",
      " 1.40156250e+00 2.37304688e+04 6.07226562e+04] with error: Events ['Maximum voltage [V]'] are non-positive at initial conditions\n"
     ]
    },
    {
     "name": "stderr",
     "output_type": "stream",
     "text": [
      "CasADi - 2024-06-28 10:11:11 WARNING(\"roots:g failed: Inf detected for output x, at (row 0, col 0).\") [.../casadi/core/oracle_function.cpp:326]\n",
      "CasADi - 2024-06-28 10:11:11 WARNING(\"roots:g failed: Inf detected for output x, at (row 0, col 0).\") [.../casadi/core/oracle_function.cpp:326]\n",
      "CasADi - 2024-06-28 10:11:11 WARNING(\"roots:g failed: Inf detected for output x, at (row 0, col 0).\") [.../casadi/core/oracle_function.cpp:326]\n",
      "CasADi - 2024-06-28 10:11:11 WARNING(\"roots:g failed: Inf detected for output x, at (row 0, col 0).\") [.../casadi/core/oracle_function.cpp:326]\n",
      "CasADi - 2024-06-28 10:11:11 WARNING(\"roots:g failed: Inf detected for output x, at (row 0, col 0).\") [.../casadi/core/oracle_function.cpp:326]\n"
     ]
    },
    {
     "name": "stdout",
     "output_type": "stream",
     "text": [
      "Solver failed for parameters: [6.16718750e-05 5.33515625e-05 1.41796875e-05 7.01953125e-01\n",
      " 6.99218750e-01 5.58593750e-06 5.24218750e-06 1.10976562e+03\n",
      " 2.99218750e+02 2.30468750e+00 1.44843750e+00 1.66093750e+00\n",
      " 1.36093750e+00 2.37304688e+04 5.75585938e+04] with error: Events ['Maximum voltage [V]'] are non-positive at initial conditions\n"
     ]
    },
    {
     "name": "stderr",
     "output_type": "stream",
     "text": [
      "CasADi - 2024-06-28 10:11:12 WARNING(\"roots:g failed: Inf detected for output x, at (row 0, col 0).\") [.../casadi/core/oracle_function.cpp:326]\n",
      "CasADi - 2024-06-28 10:11:12 WARNING(\"roots:g failed: Inf detected for output x, at (row 0, col 0).\") [.../casadi/core/oracle_function.cpp:326]\n",
      "CasADi - 2024-06-28 10:11:12 WARNING(\"roots:g failed: Inf detected for output x, at (row 0, col 0).\") [.../casadi/core/oracle_function.cpp:326]\n",
      "CasADi - 2024-06-28 10:11:12 WARNING(\"roots:g failed: Inf detected for output x, at (row 0, col 0).\") [.../casadi/core/oracle_function.cpp:326]\n",
      "CasADi - 2024-06-28 10:11:12 WARNING(\"roots:g failed: Inf detected for output x, at (row 0, col 0).\") [.../casadi/core/oracle_function.cpp:326]\n"
     ]
    },
    {
     "name": "stdout",
     "output_type": "stream",
     "text": [
      "Solver failed for parameters: [7.96718750e-05 6.02578125e-05 1.41796875e-05 7.01953125e-01\n",
      " 6.99218750e-01 5.58593750e-06 5.24218750e-06 1.10976562e+03\n",
      " 2.99218750e+02 2.30468750e+00 1.44843750e+00 1.66093750e+00\n",
      " 1.36093750e+00 2.37304688e+04 5.75585938e+04] with error: Events ['Maximum voltage [V]'] are non-positive at initial conditions\n"
     ]
    },
    {
     "name": "stderr",
     "output_type": "stream",
     "text": [
      "CasADi - 2024-06-28 10:11:12 WARNING(\"roots:g failed: Inf detected for output x, at (row 0, col 0).\") [.../casadi/core/oracle_function.cpp:326]\n",
      "CasADi - 2024-06-28 10:11:12 WARNING(\"roots:g failed: Inf detected for output x, at (row 0, col 0).\") [.../casadi/core/oracle_function.cpp:326]\n",
      "CasADi - 2024-06-28 10:11:12 WARNING(\"roots:g failed: Inf detected for output x, at (row 0, col 0).\") [.../casadi/core/oracle_function.cpp:326]\n",
      "CasADi - 2024-06-28 10:11:12 WARNING(\"roots:g failed: Inf detected for output x, at (row 0, col 0).\") [.../casadi/core/oracle_function.cpp:326]\n",
      "CasADi - 2024-06-28 10:11:12 WARNING(\"roots:g failed: Inf detected for output x, at (row 0, col 0).\") [.../casadi/core/oracle_function.cpp:326]\n"
     ]
    },
    {
     "name": "stdout",
     "output_type": "stream",
     "text": [
      "Solver failed for parameters: [7.96718750e-05 5.33515625e-05 1.10546875e-05 7.01953125e-01\n",
      " 6.99218750e-01 5.58593750e-06 5.24218750e-06 1.10976562e+03\n",
      " 2.99218750e+02 2.30468750e+00 1.44843750e+00 1.66093750e+00\n",
      " 1.36093750e+00 2.37304688e+04 5.75585938e+04] with error: Events ['Maximum voltage [V]'] are non-positive at initial conditions\n"
     ]
    },
    {
     "name": "stderr",
     "output_type": "stream",
     "text": [
      "CasADi - 2024-06-28 10:11:13 WARNING(\"roots:g failed: Inf detected for output x, at (row 0, col 0).\") [.../casadi/core/oracle_function.cpp:326]\n",
      "CasADi - 2024-06-28 10:11:13 WARNING(\"roots:g failed: Inf detected for output x, at (row 0, col 0).\") [.../casadi/core/oracle_function.cpp:326]\n",
      "CasADi - 2024-06-28 10:11:13 WARNING(\"roots:g failed: Inf detected for output x, at (row 0, col 0).\") [.../casadi/core/oracle_function.cpp:326]\n",
      "CasADi - 2024-06-28 10:11:13 WARNING(\"roots:g failed: Inf detected for output x, at (row 0, col 0).\") [.../casadi/core/oracle_function.cpp:326]\n",
      "CasADi - 2024-06-28 10:11:13 WARNING(\"roots:g failed: Inf detected for output x, at (row 0, col 0).\") [.../casadi/core/oracle_function.cpp:326]\n"
     ]
    },
    {
     "name": "stdout",
     "output_type": "stream",
     "text": [
      "Solver failed for parameters: [7.96718750e-05 5.33515625e-05 1.41796875e-05 7.62890625e-01\n",
      " 6.99218750e-01 5.58593750e-06 5.24218750e-06 1.10976562e+03\n",
      " 2.99218750e+02 2.30468750e+00 1.44843750e+00 1.66093750e+00\n",
      " 1.36093750e+00 2.37304688e+04 5.75585938e+04] with error: Events ['Maximum voltage [V]'] are non-positive at initial conditions\n"
     ]
    },
    {
     "name": "stderr",
     "output_type": "stream",
     "text": [
      "CasADi - 2024-06-28 10:11:13 WARNING(\"roots:g failed: Inf detected for output x, at (row 0, col 0).\") [.../casadi/core/oracle_function.cpp:326]\n",
      "CasADi - 2024-06-28 10:11:13 WARNING(\"roots:g failed: Inf detected for output x, at (row 0, col 0).\") [.../casadi/core/oracle_function.cpp:326]\n",
      "CasADi - 2024-06-28 10:11:13 WARNING(\"roots:g failed: Inf detected for output x, at (row 0, col 0).\") [.../casadi/core/oracle_function.cpp:326]\n",
      "CasADi - 2024-06-28 10:11:13 WARNING(\"roots:g failed: Inf detected for output x, at (row 0, col 0).\") [.../casadi/core/oracle_function.cpp:326]\n",
      "CasADi - 2024-06-28 10:11:13 WARNING(\"roots:g failed: Inf detected for output x, at (row 0, col 0).\") [.../casadi/core/oracle_function.cpp:326]\n"
     ]
    },
    {
     "name": "stdout",
     "output_type": "stream",
     "text": [
      "Solver failed for parameters: [7.96718750e-05 5.33515625e-05 1.41796875e-05 7.01953125e-01\n",
      " 5.17968750e-01 5.58593750e-06 5.24218750e-06 1.10976562e+03\n",
      " 2.99218750e+02 2.30468750e+00 1.44843750e+00 1.66093750e+00\n",
      " 1.36093750e+00 2.37304688e+04 5.75585938e+04] with error: Events ['Maximum voltage [V]'] are non-positive at initial conditions\n"
     ]
    },
    {
     "name": "stderr",
     "output_type": "stream",
     "text": [
      "CasADi - 2024-06-28 10:11:13 WARNING(\"roots:g failed: Inf detected for output x, at (row 0, col 0).\") [.../casadi/core/oracle_function.cpp:326]\n",
      "CasADi - 2024-06-28 10:11:13 WARNING(\"roots:g failed: Inf detected for output x, at (row 0, col 0).\") [.../casadi/core/oracle_function.cpp:326]\n",
      "CasADi - 2024-06-28 10:11:13 WARNING(\"roots:g failed: Inf detected for output x, at (row 0, col 0).\") [.../casadi/core/oracle_function.cpp:326]\n",
      "CasADi - 2024-06-28 10:11:13 WARNING(\"roots:g failed: Inf detected for output x, at (row 0, col 0).\") [.../casadi/core/oracle_function.cpp:326]\n",
      "CasADi - 2024-06-28 10:11:13 WARNING(\"roots:g failed: Inf detected for output x, at (row 0, col 0).\") [.../casadi/core/oracle_function.cpp:326]\n"
     ]
    },
    {
     "name": "stdout",
     "output_type": "stream",
     "text": [
      "Solver failed for parameters: [7.96718750e-05 5.33515625e-05 1.41796875e-05 7.01953125e-01\n",
      " 6.99218750e-01 5.72656250e-06 5.24218750e-06 1.10976562e+03\n",
      " 2.99218750e+02 2.30468750e+00 1.44843750e+00 1.66093750e+00\n",
      " 1.36093750e+00 2.37304688e+04 5.75585938e+04] with error: Events ['Maximum voltage [V]'] are non-positive at initial conditions\n"
     ]
    },
    {
     "name": "stderr",
     "output_type": "stream",
     "text": [
      "CasADi - 2024-06-28 10:11:14 WARNING(\"roots:g failed: Inf detected for output x, at (row 0, col 0).\") [.../casadi/core/oracle_function.cpp:326]\n",
      "CasADi - 2024-06-28 10:11:14 WARNING(\"roots:g failed: Inf detected for output x, at (row 0, col 0).\") [.../casadi/core/oracle_function.cpp:326]\n",
      "CasADi - 2024-06-28 10:11:14 WARNING(\"roots:g failed: Inf detected for output x, at (row 0, col 0).\") [.../casadi/core/oracle_function.cpp:326]\n",
      "CasADi - 2024-06-28 10:11:14 WARNING(\"roots:g failed: Inf detected for output x, at (row 0, col 0).\") [.../casadi/core/oracle_function.cpp:326]\n",
      "CasADi - 2024-06-28 10:11:14 WARNING(\"roots:g failed: Inf detected for output x, at (row 0, col 0).\") [.../casadi/core/oracle_function.cpp:326]\n"
     ]
    },
    {
     "name": "stdout",
     "output_type": "stream",
     "text": [
      "Solver failed for parameters: [7.96718750e-05 5.33515625e-05 1.41796875e-05 7.01953125e-01\n",
      " 6.99218750e-01 5.58593750e-06 5.60156250e-06 1.10976562e+03\n",
      " 2.99218750e+02 2.30468750e+00 1.44843750e+00 1.66093750e+00\n",
      " 1.36093750e+00 2.37304688e+04 5.75585938e+04] with error: Events ['Maximum voltage [V]'] are non-positive at initial conditions\n"
     ]
    },
    {
     "name": "stderr",
     "output_type": "stream",
     "text": [
      "CasADi - 2024-06-28 10:11:14 WARNING(\"roots:g failed: Inf detected for output x, at (row 0, col 0).\") [.../casadi/core/oracle_function.cpp:326]\n",
      "CasADi - 2024-06-28 10:11:14 WARNING(\"roots:g failed: Inf detected for output x, at (row 0, col 0).\") [.../casadi/core/oracle_function.cpp:326]\n",
      "CasADi - 2024-06-28 10:11:14 WARNING(\"roots:g failed: Inf detected for output x, at (row 0, col 0).\") [.../casadi/core/oracle_function.cpp:326]\n",
      "CasADi - 2024-06-28 10:11:14 WARNING(\"roots:g failed: Inf detected for output x, at (row 0, col 0).\") [.../casadi/core/oracle_function.cpp:326]\n",
      "CasADi - 2024-06-28 10:11:14 WARNING(\"roots:g failed: Inf detected for output x, at (row 0, col 0).\") [.../casadi/core/oracle_function.cpp:326]\n"
     ]
    },
    {
     "name": "stdout",
     "output_type": "stream",
     "text": [
      "Solver failed for parameters: [7.96718750e-05 5.33515625e-05 1.41796875e-05 7.01953125e-01\n",
      " 6.99218750e-01 5.58593750e-06 5.24218750e-06 9.55078125e+02\n",
      " 2.99218750e+02 2.30468750e+00 1.44843750e+00 1.66093750e+00\n",
      " 1.36093750e+00 2.37304688e+04 5.75585938e+04] with error: Events ['Maximum voltage [V]'] are non-positive at initial conditions\n"
     ]
    },
    {
     "name": "stderr",
     "output_type": "stream",
     "text": [
      "CasADi - 2024-06-28 10:11:15 WARNING(\"roots:g failed: Inf detected for output x, at (row 0, col 0).\") [.../casadi/core/oracle_function.cpp:326]\n",
      "CasADi - 2024-06-28 10:11:15 WARNING(\"roots:g failed: Inf detected for output x, at (row 0, col 0).\") [.../casadi/core/oracle_function.cpp:326]\n",
      "CasADi - 2024-06-28 10:11:15 WARNING(\"roots:g failed: Inf detected for output x, at (row 0, col 0).\") [.../casadi/core/oracle_function.cpp:326]\n",
      "CasADi - 2024-06-28 10:11:15 WARNING(\"roots:g failed: Inf detected for output x, at (row 0, col 0).\") [.../casadi/core/oracle_function.cpp:326]\n",
      "CasADi - 2024-06-28 10:11:15 WARNING(\"roots:g failed: Inf detected for output x, at (row 0, col 0).\") [.../casadi/core/oracle_function.cpp:326]\n"
     ]
    },
    {
     "name": "stdout",
     "output_type": "stream",
     "text": [
      "Solver failed for parameters: [7.96718750e-05 5.33515625e-05 1.41796875e-05 7.01953125e-01\n",
      " 6.99218750e-01 5.58593750e-06 5.24218750e-06 1.10976562e+03\n",
      " 1.08593750e+02 2.30468750e+00 1.44843750e+00 1.66093750e+00\n",
      " 1.36093750e+00 2.37304688e+04 5.75585938e+04] with error: Events ['Maximum voltage [V]'] are non-positive at initial conditions\n"
     ]
    },
    {
     "name": "stderr",
     "output_type": "stream",
     "text": [
      "CasADi - 2024-06-28 10:11:15 WARNING(\"roots:g failed: Inf detected for output x, at (row 0, col 0).\") [.../casadi/core/oracle_function.cpp:326]\n",
      "CasADi - 2024-06-28 10:11:15 WARNING(\"roots:g failed: Inf detected for output x, at (row 0, col 0).\") [.../casadi/core/oracle_function.cpp:326]\n",
      "CasADi - 2024-06-28 10:11:15 WARNING(\"roots:g failed: Inf detected for output x, at (row 0, col 0).\") [.../casadi/core/oracle_function.cpp:326]\n",
      "CasADi - 2024-06-28 10:11:15 WARNING(\"roots:g failed: Inf detected for output x, at (row 0, col 0).\") [.../casadi/core/oracle_function.cpp:326]\n",
      "CasADi - 2024-06-28 10:11:15 WARNING(\"roots:g failed: Inf detected for output x, at (row 0, col 0).\") [.../casadi/core/oracle_function.cpp:326]\n"
     ]
    },
    {
     "name": "stdout",
     "output_type": "stream",
     "text": [
      "Solver failed for parameters: [7.96718750e-05 5.33515625e-05 1.41796875e-05 7.01953125e-01\n",
      " 6.99218750e-01 5.58593750e-06 5.24218750e-06 1.10976562e+03\n",
      " 2.99218750e+02 1.28906250e+00 1.44843750e+00 1.66093750e+00\n",
      " 1.36093750e+00 2.37304688e+04 5.75585938e+04] with error: Events ['Maximum voltage [V]'] are non-positive at initial conditions\n"
     ]
    },
    {
     "name": "stderr",
     "output_type": "stream",
     "text": [
      "CasADi - 2024-06-28 10:11:16 WARNING(\"roots:g failed: Inf detected for output x, at (row 0, col 0).\") [.../casadi/core/oracle_function.cpp:326]\n",
      "CasADi - 2024-06-28 10:11:16 WARNING(\"roots:g failed: Inf detected for output x, at (row 0, col 0).\") [.../casadi/core/oracle_function.cpp:326]\n",
      "CasADi - 2024-06-28 10:11:16 WARNING(\"roots:g failed: Inf detected for output x, at (row 0, col 0).\") [.../casadi/core/oracle_function.cpp:326]\n",
      "CasADi - 2024-06-28 10:11:16 WARNING(\"roots:g failed: Inf detected for output x, at (row 0, col 0).\") [.../casadi/core/oracle_function.cpp:326]\n",
      "CasADi - 2024-06-28 10:11:16 WARNING(\"roots:g failed: Inf detected for output x, at (row 0, col 0).\") [.../casadi/core/oracle_function.cpp:326]\n"
     ]
    },
    {
     "name": "stdout",
     "output_type": "stream",
     "text": [
      "Solver failed for parameters: [7.96718750e-05 5.33515625e-05 1.41796875e-05 7.01953125e-01\n",
      " 6.99218750e-01 5.58593750e-06 5.24218750e-06 1.10976562e+03\n",
      " 2.99218750e+02 2.30468750e+00 1.67031250e+00 1.66093750e+00\n",
      " 1.36093750e+00 2.37304688e+04 5.75585938e+04] with error: Events ['Maximum voltage [V]'] are non-positive at initial conditions\n"
     ]
    },
    {
     "name": "stderr",
     "output_type": "stream",
     "text": [
      "CasADi - 2024-06-28 10:11:16 WARNING(\"roots:g failed: Inf detected for output x, at (row 0, col 0).\") [.../casadi/core/oracle_function.cpp:326]\n",
      "CasADi - 2024-06-28 10:11:16 WARNING(\"roots:g failed: Inf detected for output x, at (row 0, col 0).\") [.../casadi/core/oracle_function.cpp:326]\n",
      "CasADi - 2024-06-28 10:11:16 WARNING(\"roots:g failed: Inf detected for output x, at (row 0, col 0).\") [.../casadi/core/oracle_function.cpp:326]\n",
      "CasADi - 2024-06-28 10:11:16 WARNING(\"roots:g failed: Inf detected for output x, at (row 0, col 0).\") [.../casadi/core/oracle_function.cpp:326]\n",
      "CasADi - 2024-06-28 10:11:16 WARNING(\"roots:g failed: Inf detected for output x, at (row 0, col 0).\") [.../casadi/core/oracle_function.cpp:326]\n"
     ]
    },
    {
     "name": "stdout",
     "output_type": "stream",
     "text": [
      "Solver failed for parameters: [7.96718750e-05 5.33515625e-05 1.41796875e-05 7.01953125e-01\n",
      " 6.99218750e-01 5.58593750e-06 5.24218750e-06 1.10976562e+03\n",
      " 2.99218750e+02 2.30468750e+00 1.44843750e+00 1.62031250e+00\n",
      " 1.36093750e+00 2.37304688e+04 5.75585938e+04] with error: Events ['Maximum voltage [V]'] are non-positive at initial conditions\n"
     ]
    },
    {
     "name": "stderr",
     "output_type": "stream",
     "text": [
      "CasADi - 2024-06-28 10:11:17 WARNING(\"roots:g failed: Inf detected for output x, at (row 0, col 0).\") [.../casadi/core/oracle_function.cpp:326]\n",
      "CasADi - 2024-06-28 10:11:17 WARNING(\"roots:g failed: Inf detected for output x, at (row 0, col 0).\") [.../casadi/core/oracle_function.cpp:326]\n",
      "CasADi - 2024-06-28 10:11:17 WARNING(\"roots:g failed: Inf detected for output x, at (row 0, col 0).\") [.../casadi/core/oracle_function.cpp:326]\n",
      "CasADi - 2024-06-28 10:11:17 WARNING(\"roots:g failed: Inf detected for output x, at (row 0, col 0).\") [.../casadi/core/oracle_function.cpp:326]\n",
      "CasADi - 2024-06-28 10:11:17 WARNING(\"roots:g failed: Inf detected for output x, at (row 0, col 0).\") [.../casadi/core/oracle_function.cpp:326]\n"
     ]
    },
    {
     "name": "stdout",
     "output_type": "stream",
     "text": [
      "Solver failed for parameters: [7.96718750e-05 5.33515625e-05 1.41796875e-05 7.01953125e-01\n",
      " 6.99218750e-01 5.58593750e-06 5.24218750e-06 1.10976562e+03\n",
      " 2.99218750e+02 2.30468750e+00 1.44843750e+00 1.66093750e+00\n",
      " 1.40156250e+00 2.37304688e+04 5.75585938e+04] with error: Events ['Maximum voltage [V]'] are non-positive at initial conditions\n"
     ]
    },
    {
     "name": "stderr",
     "output_type": "stream",
     "text": [
      "CasADi - 2024-06-28 10:11:19 WARNING(\"roots:g failed: Inf detected for output x, at (row 0, col 0).\") [.../casadi/core/oracle_function.cpp:326]\n",
      "CasADi - 2024-06-28 10:11:19 WARNING(\"roots:g failed: Inf detected for output x, at (row 0, col 0).\") [.../casadi/core/oracle_function.cpp:326]\n",
      "CasADi - 2024-06-28 10:11:19 WARNING(\"roots:g failed: Inf detected for output x, at (row 0, col 0).\") [.../casadi/core/oracle_function.cpp:326]\n",
      "CasADi - 2024-06-28 10:11:19 WARNING(\"roots:g failed: Inf detected for output x, at (row 0, col 0).\") [.../casadi/core/oracle_function.cpp:326]\n",
      "CasADi - 2024-06-28 10:11:19 WARNING(\"roots:g failed: Inf detected for output x, at (row 0, col 0).\") [.../casadi/core/oracle_function.cpp:326]\n"
     ]
    },
    {
     "name": "stdout",
     "output_type": "stream",
     "text": [
      "Solver failed for parameters: [7.96718750e-05 5.33515625e-05 1.41796875e-05 7.01953125e-01\n",
      " 6.99218750e-01 5.58593750e-06 5.24218750e-06 1.10976562e+03\n",
      " 2.99218750e+02 2.30468750e+00 1.44843750e+00 1.66093750e+00\n",
      " 1.36093750e+00 2.37304688e+04 6.07226562e+04] with error: Events ['Maximum voltage [V]'] are non-positive at initial conditions\n"
     ]
    },
    {
     "name": "stderr",
     "output_type": "stream",
     "text": [
      "CasADi - 2024-06-28 10:11:19 WARNING(\"roots:g failed: Inf detected for output x, at (row 0, col 0).\") [.../casadi/core/oracle_function.cpp:326]\n",
      "CasADi - 2024-06-28 10:11:19 WARNING(\"roots:g failed: Inf detected for output x, at (row 0, col 0).\") [.../casadi/core/oracle_function.cpp:326]\n",
      "CasADi - 2024-06-28 10:11:19 WARNING(\"roots:g failed: Inf detected for output x, at (row 0, col 0).\") [.../casadi/core/oracle_function.cpp:326]\n",
      "CasADi - 2024-06-28 10:11:19 WARNING(\"roots:g failed: Inf detected for output x, at (row 0, col 0).\") [.../casadi/core/oracle_function.cpp:326]\n",
      "CasADi - 2024-06-28 10:11:19 WARNING(\"roots:g failed: Inf detected for output x, at (row 0, col 0).\") [.../casadi/core/oracle_function.cpp:326]\n"
     ]
    },
    {
     "name": "stdout",
     "output_type": "stream",
     "text": [
      "Solver failed for parameters: [7.96718750e-05 5.33515625e-05 1.41796875e-05 7.01953125e-01\n",
      " 6.99218750e-01 5.58593750e-06 5.24218750e-06 1.10976562e+03\n",
      " 2.99218750e+02 2.30468750e+00 1.44843750e+00 1.66093750e+00\n",
      " 1.36093750e+00 2.37304688e+04 5.75585938e+04] with error: Events ['Maximum voltage [V]'] are non-positive at initial conditions\n"
     ]
    },
    {
     "name": "stderr",
     "output_type": "stream",
     "text": [
      "CasADi - 2024-06-28 10:11:19 WARNING(\"roots:g failed: Inf detected for output x, at (row 0, col 0).\") [.../casadi/core/oracle_function.cpp:326]\n",
      "CasADi - 2024-06-28 10:11:19 WARNING(\"roots:g failed: Inf detected for output x, at (row 0, col 0).\") [.../casadi/core/oracle_function.cpp:326]\n",
      "CasADi - 2024-06-28 10:11:19 WARNING(\"roots:g failed: Inf detected for output x, at (row 0, col 0).\") [.../casadi/core/oracle_function.cpp:326]\n",
      "CasADi - 2024-06-28 10:11:19 WARNING(\"roots:g failed: Inf detected for output x, at (row 0, col 0).\") [.../casadi/core/oracle_function.cpp:326]\n",
      "CasADi - 2024-06-28 10:11:19 WARNING(\"roots:g failed: Inf detected for output x, at (row 0, col 0).\") [.../casadi/core/oracle_function.cpp:326]\n"
     ]
    },
    {
     "name": "stdout",
     "output_type": "stream",
     "text": [
      "Solver failed for parameters: [7.96718750e-05 7.32578125e-05 1.60546875e-05 7.12890625e-01\n",
      " 6.17968750e-01 4.72656250e-06 4.60156250e-06 1.10507812e+03\n",
      " 2.08593750e+02 6.28906250e+00 1.47031250e+00 1.42031250e+00\n",
      " 1.60156250e+00 2.51054688e+04 5.32226562e+04] with error: Events ['Maximum voltage [V]'] are non-positive at initial conditions\n"
     ]
    },
    {
     "name": "stderr",
     "output_type": "stream",
     "text": [
      "CasADi - 2024-06-28 10:11:20 WARNING(\"roots:g failed: Inf detected for output x, at (row 0, col 0).\") [.../casadi/core/oracle_function.cpp:326]\n",
      "CasADi - 2024-06-28 10:11:20 WARNING(\"roots:g failed: Inf detected for output x, at (row 0, col 0).\") [.../casadi/core/oracle_function.cpp:326]\n",
      "CasADi - 2024-06-28 10:11:20 WARNING(\"roots:g failed: Inf detected for output x, at (row 0, col 0).\") [.../casadi/core/oracle_function.cpp:326]\n",
      "CasADi - 2024-06-28 10:11:20 WARNING(\"roots:g failed: Inf detected for output x, at (row 0, col 0).\") [.../casadi/core/oracle_function.cpp:326]\n",
      "CasADi - 2024-06-28 10:11:20 WARNING(\"roots:g failed: Inf detected for output x, at (row 0, col 0).\") [.../casadi/core/oracle_function.cpp:326]\n"
     ]
    },
    {
     "name": "stdout",
     "output_type": "stream",
     "text": [
      "Solver failed for parameters: [6.16718750e-05 7.32578125e-05 1.60546875e-05 7.12890625e-01\n",
      " 6.17968750e-01 4.72656250e-06 4.60156250e-06 1.10507812e+03\n",
      " 2.08593750e+02 6.28906250e+00 1.47031250e+00 1.42031250e+00\n",
      " 1.60156250e+00 2.51054688e+04 5.32226562e+04] with error: Events ['Maximum voltage [V]'] are non-positive at initial conditions\n"
     ]
    },
    {
     "name": "stderr",
     "output_type": "stream",
     "text": [
      "CasADi - 2024-06-28 10:11:20 WARNING(\"roots:g failed: Inf detected for output x, at (row 0, col 0).\") [.../casadi/core/oracle_function.cpp:326]\n",
      "CasADi - 2024-06-28 10:11:20 WARNING(\"roots:g failed: Inf detected for output x, at (row 0, col 0).\") [.../casadi/core/oracle_function.cpp:326]\n",
      "CasADi - 2024-06-28 10:11:20 WARNING(\"roots:g failed: Inf detected for output x, at (row 0, col 0).\") [.../casadi/core/oracle_function.cpp:326]\n",
      "CasADi - 2024-06-28 10:11:20 WARNING(\"roots:g failed: Inf detected for output x, at (row 0, col 0).\") [.../casadi/core/oracle_function.cpp:326]\n",
      "CasADi - 2024-06-28 10:11:20 WARNING(\"roots:g failed: Inf detected for output x, at (row 0, col 0).\") [.../casadi/core/oracle_function.cpp:326]\n"
     ]
    },
    {
     "name": "stdout",
     "output_type": "stream",
     "text": [
      "Solver failed for parameters: [7.96718750e-05 6.63515625e-05 1.60546875e-05 7.12890625e-01\n",
      " 6.17968750e-01 4.72656250e-06 4.60156250e-06 1.10507812e+03\n",
      " 2.08593750e+02 6.28906250e+00 1.47031250e+00 1.42031250e+00\n",
      " 1.60156250e+00 2.51054688e+04 5.32226562e+04] with error: Events ['Maximum voltage [V]'] are non-positive at initial conditions\n"
     ]
    },
    {
     "name": "stderr",
     "output_type": "stream",
     "text": [
      "CasADi - 2024-06-28 10:11:21 WARNING(\"roots:g failed: Inf detected for output x, at (row 0, col 0).\") [.../casadi/core/oracle_function.cpp:326]\n",
      "CasADi - 2024-06-28 10:11:21 WARNING(\"roots:g failed: Inf detected for output x, at (row 0, col 0).\") [.../casadi/core/oracle_function.cpp:326]\n",
      "CasADi - 2024-06-28 10:11:21 WARNING(\"roots:g failed: Inf detected for output x, at (row 0, col 0).\") [.../casadi/core/oracle_function.cpp:326]\n",
      "CasADi - 2024-06-28 10:11:21 WARNING(\"roots:g failed: Inf detected for output x, at (row 0, col 0).\") [.../casadi/core/oracle_function.cpp:326]\n",
      "CasADi - 2024-06-28 10:11:21 WARNING(\"roots:g failed: Inf detected for output x, at (row 0, col 0).\") [.../casadi/core/oracle_function.cpp:326]\n"
     ]
    },
    {
     "name": "stdout",
     "output_type": "stream",
     "text": [
      "Solver failed for parameters: [7.96718750e-05 7.32578125e-05 1.91796875e-05 7.12890625e-01\n",
      " 6.17968750e-01 4.72656250e-06 4.60156250e-06 1.10507812e+03\n",
      " 2.08593750e+02 6.28906250e+00 1.47031250e+00 1.42031250e+00\n",
      " 1.60156250e+00 2.51054688e+04 5.32226562e+04] with error: Events ['Maximum voltage [V]'] are non-positive at initial conditions\n"
     ]
    },
    {
     "name": "stderr",
     "output_type": "stream",
     "text": [
      "CasADi - 2024-06-28 10:11:21 WARNING(\"roots:g failed: Inf detected for output x, at (row 0, col 0).\") [.../casadi/core/oracle_function.cpp:326]\n",
      "CasADi - 2024-06-28 10:11:21 WARNING(\"roots:g failed: Inf detected for output x, at (row 0, col 0).\") [.../casadi/core/oracle_function.cpp:326]\n",
      "CasADi - 2024-06-28 10:11:21 WARNING(\"roots:g failed: Inf detected for output x, at (row 0, col 0).\") [.../casadi/core/oracle_function.cpp:326]\n",
      "CasADi - 2024-06-28 10:11:21 WARNING(\"roots:g failed: Inf detected for output x, at (row 0, col 0).\") [.../casadi/core/oracle_function.cpp:326]\n",
      "CasADi - 2024-06-28 10:11:21 WARNING(\"roots:g failed: Inf detected for output x, at (row 0, col 0).\") [.../casadi/core/oracle_function.cpp:326]\n"
     ]
    },
    {
     "name": "stdout",
     "output_type": "stream",
     "text": [
      "Solver failed for parameters: [7.96718750e-05 7.32578125e-05 1.60546875e-05 7.51953125e-01\n",
      " 6.17968750e-01 4.72656250e-06 4.60156250e-06 1.10507812e+03\n",
      " 2.08593750e+02 6.28906250e+00 1.47031250e+00 1.42031250e+00\n",
      " 1.60156250e+00 2.51054688e+04 5.32226562e+04] with error: Events ['Maximum voltage [V]'] are non-positive at initial conditions\n"
     ]
    },
    {
     "name": "stderr",
     "output_type": "stream",
     "text": [
      "CasADi - 2024-06-28 10:11:22 WARNING(\"roots:g failed: Inf detected for output x, at (row 0, col 0).\") [.../casadi/core/oracle_function.cpp:326]\n",
      "CasADi - 2024-06-28 10:11:22 WARNING(\"roots:g failed: Inf detected for output x, at (row 0, col 0).\") [.../casadi/core/oracle_function.cpp:326]\n",
      "CasADi - 2024-06-28 10:11:22 WARNING(\"roots:g failed: Inf detected for output x, at (row 0, col 0).\") [.../casadi/core/oracle_function.cpp:326]\n",
      "CasADi - 2024-06-28 10:11:22 WARNING(\"roots:g failed: Inf detected for output x, at (row 0, col 0).\") [.../casadi/core/oracle_function.cpp:326]\n",
      "CasADi - 2024-06-28 10:11:22 WARNING(\"roots:g failed: Inf detected for output x, at (row 0, col 0).\") [.../casadi/core/oracle_function.cpp:326]\n"
     ]
    },
    {
     "name": "stdout",
     "output_type": "stream",
     "text": [
      "Solver failed for parameters: [7.96718750e-05 7.32578125e-05 1.60546875e-05 7.12890625e-01\n",
      " 5.99218750e-01 4.72656250e-06 4.60156250e-06 1.10507812e+03\n",
      " 2.08593750e+02 6.28906250e+00 1.47031250e+00 1.42031250e+00\n",
      " 1.60156250e+00 2.51054688e+04 5.32226562e+04] with error: Events ['Maximum voltage [V]'] are non-positive at initial conditions\n"
     ]
    },
    {
     "name": "stderr",
     "output_type": "stream",
     "text": [
      "CasADi - 2024-06-28 10:11:22 WARNING(\"roots:g failed: Inf detected for output x, at (row 0, col 0).\") [.../casadi/core/oracle_function.cpp:326]\n",
      "CasADi - 2024-06-28 10:11:22 WARNING(\"roots:g failed: Inf detected for output x, at (row 0, col 0).\") [.../casadi/core/oracle_function.cpp:326]\n",
      "CasADi - 2024-06-28 10:11:22 WARNING(\"roots:g failed: Inf detected for output x, at (row 0, col 0).\") [.../casadi/core/oracle_function.cpp:326]\n",
      "CasADi - 2024-06-28 10:11:22 WARNING(\"roots:g failed: Inf detected for output x, at (row 0, col 0).\") [.../casadi/core/oracle_function.cpp:326]\n",
      "CasADi - 2024-06-28 10:11:22 WARNING(\"roots:g failed: Inf detected for output x, at (row 0, col 0).\") [.../casadi/core/oracle_function.cpp:326]\n"
     ]
    },
    {
     "name": "stdout",
     "output_type": "stream",
     "text": [
      "Solver failed for parameters: [7.96718750e-05 7.32578125e-05 1.60546875e-05 7.12890625e-01\n",
      " 6.17968750e-01 4.58593750e-06 4.60156250e-06 1.10507812e+03\n",
      " 2.08593750e+02 6.28906250e+00 1.47031250e+00 1.42031250e+00\n",
      " 1.60156250e+00 2.51054688e+04 5.32226562e+04] with error: Events ['Maximum voltage [V]'] are non-positive at initial conditions\n"
     ]
    },
    {
     "name": "stderr",
     "output_type": "stream",
     "text": [
      "CasADi - 2024-06-28 10:11:23 WARNING(\"roots:g failed: Inf detected for output x, at (row 0, col 0).\") [.../casadi/core/oracle_function.cpp:326]\n",
      "CasADi - 2024-06-28 10:11:23 WARNING(\"roots:g failed: Inf detected for output x, at (row 0, col 0).\") [.../casadi/core/oracle_function.cpp:326]\n",
      "CasADi - 2024-06-28 10:11:23 WARNING(\"roots:g failed: Inf detected for output x, at (row 0, col 0).\") [.../casadi/core/oracle_function.cpp:326]\n",
      "CasADi - 2024-06-28 10:11:23 WARNING(\"roots:g failed: Inf detected for output x, at (row 0, col 0).\") [.../casadi/core/oracle_function.cpp:326]\n",
      "CasADi - 2024-06-28 10:11:23 WARNING(\"roots:g failed: Inf detected for output x, at (row 0, col 0).\") [.../casadi/core/oracle_function.cpp:326]\n"
     ]
    },
    {
     "name": "stdout",
     "output_type": "stream",
     "text": [
      "Solver failed for parameters: [7.96718750e-05 7.32578125e-05 1.60546875e-05 7.12890625e-01\n",
      " 6.17968750e-01 4.72656250e-06 4.24218750e-06 1.10507812e+03\n",
      " 2.08593750e+02 6.28906250e+00 1.47031250e+00 1.42031250e+00\n",
      " 1.60156250e+00 2.51054688e+04 5.32226562e+04] with error: Events ['Maximum voltage [V]'] are non-positive at initial conditions\n"
     ]
    },
    {
     "name": "stderr",
     "output_type": "stream",
     "text": [
      "CasADi - 2024-06-28 10:11:24 WARNING(\"roots:g failed: Inf detected for output x, at (row 0, col 0).\") [.../casadi/core/oracle_function.cpp:326]\n",
      "CasADi - 2024-06-28 10:11:24 WARNING(\"roots:g failed: Inf detected for output x, at (row 0, col 0).\") [.../casadi/core/oracle_function.cpp:326]\n",
      "CasADi - 2024-06-28 10:11:24 WARNING(\"roots:g failed: Inf detected for output x, at (row 0, col 0).\") [.../casadi/core/oracle_function.cpp:326]\n",
      "CasADi - 2024-06-28 10:11:24 WARNING(\"roots:g failed: Inf detected for output x, at (row 0, col 0).\") [.../casadi/core/oracle_function.cpp:326]\n",
      "CasADi - 2024-06-28 10:11:24 WARNING(\"roots:g failed: Inf detected for output x, at (row 0, col 0).\") [.../casadi/core/oracle_function.cpp:326]\n"
     ]
    },
    {
     "name": "stdout",
     "output_type": "stream",
     "text": [
      "Solver failed for parameters: [7.96718750e-05 7.32578125e-05 1.60546875e-05 7.12890625e-01\n",
      " 6.17968750e-01 4.72656250e-06 4.60156250e-06 9.59765625e+02\n",
      " 2.08593750e+02 6.28906250e+00 1.47031250e+00 1.42031250e+00\n",
      " 1.60156250e+00 2.51054688e+04 5.32226562e+04] with error: Events ['Maximum voltage [V]'] are non-positive at initial conditions\n"
     ]
    },
    {
     "name": "stderr",
     "output_type": "stream",
     "text": [
      "CasADi - 2024-06-28 10:11:24 WARNING(\"roots:g failed: Inf detected for output x, at (row 0, col 0).\") [.../casadi/core/oracle_function.cpp:326]\n",
      "CasADi - 2024-06-28 10:11:24 WARNING(\"roots:g failed: Inf detected for output x, at (row 0, col 0).\") [.../casadi/core/oracle_function.cpp:326]\n",
      "CasADi - 2024-06-28 10:11:24 WARNING(\"roots:g failed: Inf detected for output x, at (row 0, col 0).\") [.../casadi/core/oracle_function.cpp:326]\n",
      "CasADi - 2024-06-28 10:11:24 WARNING(\"roots:g failed: Inf detected for output x, at (row 0, col 0).\") [.../casadi/core/oracle_function.cpp:326]\n",
      "CasADi - 2024-06-28 10:11:24 WARNING(\"roots:g failed: Inf detected for output x, at (row 0, col 0).\") [.../casadi/core/oracle_function.cpp:326]\n"
     ]
    },
    {
     "name": "stdout",
     "output_type": "stream",
     "text": [
      "Solver failed for parameters: [7.96718750e-05 7.32578125e-05 1.60546875e-05 7.12890625e-01\n",
      " 6.17968750e-01 4.72656250e-06 4.60156250e-06 1.10507812e+03\n",
      " 1.99218750e+02 6.28906250e+00 1.47031250e+00 1.42031250e+00\n",
      " 1.60156250e+00 2.51054688e+04 5.32226562e+04] with error: Events ['Maximum voltage [V]'] are non-positive at initial conditions\n"
     ]
    },
    {
     "name": "stderr",
     "output_type": "stream",
     "text": [
      "CasADi - 2024-06-28 10:11:24 WARNING(\"roots:g failed: Inf detected for output x, at (row 0, col 0).\") [.../casadi/core/oracle_function.cpp:326]\n",
      "CasADi - 2024-06-28 10:11:24 WARNING(\"roots:g failed: Inf detected for output x, at (row 0, col 0).\") [.../casadi/core/oracle_function.cpp:326]\n",
      "CasADi - 2024-06-28 10:11:24 WARNING(\"roots:g failed: Inf detected for output x, at (row 0, col 0).\") [.../casadi/core/oracle_function.cpp:326]\n",
      "CasADi - 2024-06-28 10:11:24 WARNING(\"roots:g failed: Inf detected for output x, at (row 0, col 0).\") [.../casadi/core/oracle_function.cpp:326]\n",
      "CasADi - 2024-06-28 10:11:24 WARNING(\"roots:g failed: Inf detected for output x, at (row 0, col 0).\") [.../casadi/core/oracle_function.cpp:326]\n"
     ]
    },
    {
     "name": "stdout",
     "output_type": "stream",
     "text": [
      "Solver failed for parameters: [7.96718750e-05 7.32578125e-05 1.60546875e-05 7.12890625e-01\n",
      " 6.17968750e-01 4.72656250e-06 4.60156250e-06 1.10507812e+03\n",
      " 2.08593750e+02 7.30468750e+00 1.47031250e+00 1.42031250e+00\n",
      " 1.60156250e+00 2.51054688e+04 5.32226562e+04] with error: Events ['Maximum voltage [V]'] are non-positive at initial conditions\n"
     ]
    },
    {
     "name": "stderr",
     "output_type": "stream",
     "text": [
      "CasADi - 2024-06-28 10:11:25 WARNING(\"roots:g failed: Inf detected for output x, at (row 0, col 0).\") [.../casadi/core/oracle_function.cpp:326]\n",
      "CasADi - 2024-06-28 10:11:25 WARNING(\"roots:g failed: Inf detected for output x, at (row 0, col 0).\") [.../casadi/core/oracle_function.cpp:326]\n",
      "CasADi - 2024-06-28 10:11:25 WARNING(\"roots:g failed: Inf detected for output x, at (row 0, col 0).\") [.../casadi/core/oracle_function.cpp:326]\n",
      "CasADi - 2024-06-28 10:11:25 WARNING(\"roots:g failed: Inf detected for output x, at (row 0, col 0).\") [.../casadi/core/oracle_function.cpp:326]\n",
      "CasADi - 2024-06-28 10:11:25 WARNING(\"roots:g failed: Inf detected for output x, at (row 0, col 0).\") [.../casadi/core/oracle_function.cpp:326]\n"
     ]
    },
    {
     "name": "stdout",
     "output_type": "stream",
     "text": [
      "Solver failed for parameters: [7.96718750e-05 7.32578125e-05 1.60546875e-05 7.12890625e-01\n",
      " 6.17968750e-01 4.72656250e-06 4.60156250e-06 1.10507812e+03\n",
      " 2.08593750e+02 6.28906250e+00 1.64843750e+00 1.42031250e+00\n",
      " 1.60156250e+00 2.51054688e+04 5.32226562e+04] with error: Events ['Maximum voltage [V]'] are non-positive at initial conditions\n"
     ]
    },
    {
     "name": "stderr",
     "output_type": "stream",
     "text": [
      "CasADi - 2024-06-28 10:11:25 WARNING(\"roots:g failed: Inf detected for output x, at (row 0, col 0).\") [.../casadi/core/oracle_function.cpp:326]\n",
      "CasADi - 2024-06-28 10:11:25 WARNING(\"roots:g failed: Inf detected for output x, at (row 0, col 0).\") [.../casadi/core/oracle_function.cpp:326]\n",
      "CasADi - 2024-06-28 10:11:25 WARNING(\"roots:g failed: Inf detected for output x, at (row 0, col 0).\") [.../casadi/core/oracle_function.cpp:326]\n",
      "CasADi - 2024-06-28 10:11:25 WARNING(\"roots:g failed: Inf detected for output x, at (row 0, col 0).\") [.../casadi/core/oracle_function.cpp:326]\n",
      "CasADi - 2024-06-28 10:11:25 WARNING(\"roots:g failed: Inf detected for output x, at (row 0, col 0).\") [.../casadi/core/oracle_function.cpp:326]\n"
     ]
    },
    {
     "name": "stdout",
     "output_type": "stream",
     "text": [
      "Solver failed for parameters: [7.96718750e-05 7.32578125e-05 1.60546875e-05 7.12890625e-01\n",
      " 6.17968750e-01 4.72656250e-06 4.60156250e-06 1.10507812e+03\n",
      " 2.08593750e+02 6.28906250e+00 1.47031250e+00 1.46093750e+00\n",
      " 1.60156250e+00 2.51054688e+04 5.32226562e+04] with error: Events ['Maximum voltage [V]'] are non-positive at initial conditions\n"
     ]
    },
    {
     "name": "stderr",
     "output_type": "stream",
     "text": [
      "CasADi - 2024-06-28 10:11:26 WARNING(\"roots:g failed: Inf detected for output x, at (row 0, col 0).\") [.../casadi/core/oracle_function.cpp:326]\n",
      "CasADi - 2024-06-28 10:11:26 WARNING(\"roots:g failed: Inf detected for output x, at (row 0, col 0).\") [.../casadi/core/oracle_function.cpp:326]\n",
      "CasADi - 2024-06-28 10:11:26 WARNING(\"roots:g failed: Inf detected for output x, at (row 0, col 0).\") [.../casadi/core/oracle_function.cpp:326]\n",
      "CasADi - 2024-06-28 10:11:26 WARNING(\"roots:g failed: Inf detected for output x, at (row 0, col 0).\") [.../casadi/core/oracle_function.cpp:326]\n",
      "CasADi - 2024-06-28 10:11:26 WARNING(\"roots:g failed: Inf detected for output x, at (row 0, col 0).\") [.../casadi/core/oracle_function.cpp:326]\n"
     ]
    },
    {
     "name": "stdout",
     "output_type": "stream",
     "text": [
      "Solver failed for parameters: [7.96718750e-05 7.32578125e-05 1.60546875e-05 7.12890625e-01\n",
      " 6.17968750e-01 4.72656250e-06 4.60156250e-06 1.10507812e+03\n",
      " 2.08593750e+02 6.28906250e+00 1.47031250e+00 1.42031250e+00\n",
      " 1.56093750e+00 2.51054688e+04 5.32226562e+04] with error: Events ['Maximum voltage [V]'] are non-positive at initial conditions\n"
     ]
    },
    {
     "name": "stderr",
     "output_type": "stream",
     "text": [
      "CasADi - 2024-06-28 10:11:26 WARNING(\"roots:g failed: Inf detected for output x, at (row 0, col 0).\") [.../casadi/core/oracle_function.cpp:326]\n",
      "CasADi - 2024-06-28 10:11:26 WARNING(\"roots:g failed: Inf detected for output x, at (row 0, col 0).\") [.../casadi/core/oracle_function.cpp:326]\n",
      "CasADi - 2024-06-28 10:11:26 WARNING(\"roots:g failed: Inf detected for output x, at (row 0, col 0).\") [.../casadi/core/oracle_function.cpp:326]\n",
      "CasADi - 2024-06-28 10:11:26 WARNING(\"roots:g failed: Inf detected for output x, at (row 0, col 0).\") [.../casadi/core/oracle_function.cpp:326]\n"
     ]
    },
    {
     "name": "stdout",
     "output_type": "stream",
     "text": [
      "Solver failed for parameters: [7.96718750e-05 7.32578125e-05 1.60546875e-05 7.12890625e-01\n",
      " 6.17968750e-01 4.72656250e-06 4.60156250e-06 1.10507812e+03\n",
      " 2.08593750e+02 6.28906250e+00 1.47031250e+00 1.42031250e+00\n",
      " 1.60156250e+00 2.92304688e+04 5.32226562e+04] with error: Events ['Maximum voltage [V]'] are non-positive at initial conditions\n"
     ]
    },
    {
     "name": "stderr",
     "output_type": "stream",
     "text": [
      "CasADi - 2024-06-28 10:11:27 WARNING(\"roots:g failed: Inf detected for output x, at (row 0, col 0).\") [.../casadi/core/oracle_function.cpp:326]\n",
      "CasADi - 2024-06-28 10:11:27 WARNING(\"roots:g failed: Inf detected for output x, at (row 0, col 0).\") [.../casadi/core/oracle_function.cpp:326]\n",
      "CasADi - 2024-06-28 10:11:27 WARNING(\"roots:g failed: Inf detected for output x, at (row 0, col 0).\") [.../casadi/core/oracle_function.cpp:326]\n",
      "CasADi - 2024-06-28 10:11:27 WARNING(\"roots:g failed: Inf detected for output x, at (row 0, col 0).\") [.../casadi/core/oracle_function.cpp:326]\n",
      "CasADi - 2024-06-28 10:11:27 WARNING(\"roots:g failed: Inf detected for output x, at (row 0, col 0).\") [.../casadi/core/oracle_function.cpp:326]\n"
     ]
    },
    {
     "name": "stdout",
     "output_type": "stream",
     "text": [
      "Solver failed for parameters: [7.96718750e-05 7.32578125e-05 1.60546875e-05 7.12890625e-01\n",
      " 6.17968750e-01 4.72656250e-06 4.60156250e-06 1.10507812e+03\n",
      " 2.08593750e+02 6.28906250e+00 1.47031250e+00 1.42031250e+00\n",
      " 1.60156250e+00 2.51054688e+04 5.00585938e+04] with error: Events ['Maximum voltage [V]'] are non-positive at initial conditions\n"
     ]
    },
    {
     "name": "stderr",
     "output_type": "stream",
     "text": [
      "CasADi - 2024-06-28 10:11:27 WARNING(\"roots:g failed: Inf detected for output x, at (row 0, col 0).\") [.../casadi/core/oracle_function.cpp:326]\n",
      "CasADi - 2024-06-28 10:11:27 WARNING(\"roots:g failed: Inf detected for output x, at (row 0, col 0).\") [.../casadi/core/oracle_function.cpp:326]\n",
      "CasADi - 2024-06-28 10:11:27 WARNING(\"roots:g failed: Inf detected for output x, at (row 0, col 0).\") [.../casadi/core/oracle_function.cpp:326]\n",
      "CasADi - 2024-06-28 10:11:27 WARNING(\"roots:g failed: Inf detected for output x, at (row 0, col 0).\") [.../casadi/core/oracle_function.cpp:326]\n"
     ]
    },
    {
     "name": "stdout",
     "output_type": "stream",
     "text": [
      "Solver failed for parameters: [7.96718750e-05 6.63515625e-05 1.91796875e-05 7.51953125e-01\n",
      " 5.99218750e-01 4.58593750e-06 4.24218750e-06 9.59765625e+02\n",
      " 1.99218750e+02 7.30468750e+00 1.64843750e+00 1.46093750e+00\n",
      " 1.56093750e+00 2.92304688e+04 5.00585938e+04] with error: Events ['Maximum voltage [V]'] are non-positive at initial conditions\n"
     ]
    },
    {
     "name": "stderr",
     "output_type": "stream",
     "text": [
      "CasADi - 2024-06-28 10:11:28 WARNING(\"roots:g failed: Inf detected for output x, at (row 0, col 0).\") [.../casadi/core/oracle_function.cpp:326]\n",
      "CasADi - 2024-06-28 10:11:28 WARNING(\"roots:g failed: Inf detected for output x, at (row 0, col 0).\") [.../casadi/core/oracle_function.cpp:326]\n",
      "CasADi - 2024-06-28 10:11:28 WARNING(\"roots:g failed: Inf detected for output x, at (row 0, col 0).\") [.../casadi/core/oracle_function.cpp:326]\n",
      "CasADi - 2024-06-28 10:11:28 WARNING(\"roots:g failed: Inf detected for output x, at (row 0, col 0).\") [.../casadi/core/oracle_function.cpp:326]\n",
      "CasADi - 2024-06-28 10:11:28 WARNING(\"roots:g failed: Inf detected for output x, at (row 0, col 0).\") [.../casadi/core/oracle_function.cpp:326]\n"
     ]
    },
    {
     "name": "stdout",
     "output_type": "stream",
     "text": [
      "Solver failed for parameters: [6.16718750e-05 7.32578125e-05 1.91796875e-05 7.51953125e-01\n",
      " 5.99218750e-01 4.58593750e-06 4.24218750e-06 9.59765625e+02\n",
      " 1.99218750e+02 7.30468750e+00 1.64843750e+00 1.46093750e+00\n",
      " 1.56093750e+00 2.92304688e+04 5.00585938e+04] with error: Events ['Maximum voltage [V]'] are non-positive at initial conditions\n"
     ]
    },
    {
     "name": "stderr",
     "output_type": "stream",
     "text": [
      "CasADi - 2024-06-28 10:11:29 WARNING(\"roots:g failed: Inf detected for output x, at (row 0, col 0).\") [.../casadi/core/oracle_function.cpp:326]\n",
      "CasADi - 2024-06-28 10:11:29 WARNING(\"roots:g failed: Inf detected for output x, at (row 0, col 0).\") [.../casadi/core/oracle_function.cpp:326]\n",
      "CasADi - 2024-06-28 10:11:29 WARNING(\"roots:g failed: Inf detected for output x, at (row 0, col 0).\") [.../casadi/core/oracle_function.cpp:326]\n",
      "CasADi - 2024-06-28 10:11:29 WARNING(\"roots:g failed: Inf detected for output x, at (row 0, col 0).\") [.../casadi/core/oracle_function.cpp:326]\n",
      "CasADi - 2024-06-28 10:11:29 WARNING(\"roots:g failed: Inf detected for output x, at (row 0, col 0).\") [.../casadi/core/oracle_function.cpp:326]\n"
     ]
    },
    {
     "name": "stdout",
     "output_type": "stream",
     "text": [
      "Solver failed for parameters: [6.16718750e-05 6.63515625e-05 1.60546875e-05 7.51953125e-01\n",
      " 5.99218750e-01 4.58593750e-06 4.24218750e-06 9.59765625e+02\n",
      " 1.99218750e+02 7.30468750e+00 1.64843750e+00 1.46093750e+00\n",
      " 1.56093750e+00 2.92304688e+04 5.00585938e+04] with error: Events ['Maximum voltage [V]'] are non-positive at initial conditions\n"
     ]
    },
    {
     "name": "stderr",
     "output_type": "stream",
     "text": [
      "CasADi - 2024-06-28 10:11:29 WARNING(\"roots:g failed: Inf detected for output x, at (row 0, col 0).\") [.../casadi/core/oracle_function.cpp:326]\n",
      "CasADi - 2024-06-28 10:11:29 WARNING(\"roots:g failed: Inf detected for output x, at (row 0, col 0).\") [.../casadi/core/oracle_function.cpp:326]\n",
      "CasADi - 2024-06-28 10:11:29 WARNING(\"roots:g failed: Inf detected for output x, at (row 0, col 0).\") [.../casadi/core/oracle_function.cpp:326]\n",
      "CasADi - 2024-06-28 10:11:29 WARNING(\"roots:g failed: Inf detected for output x, at (row 0, col 0).\") [.../casadi/core/oracle_function.cpp:326]\n",
      "CasADi - 2024-06-28 10:11:29 WARNING(\"roots:g failed: Inf detected for output x, at (row 0, col 0).\") [.../casadi/core/oracle_function.cpp:326]\n"
     ]
    },
    {
     "name": "stdout",
     "output_type": "stream",
     "text": [
      "Solver failed for parameters: [6.16718750e-05 6.63515625e-05 1.91796875e-05 7.12890625e-01\n",
      " 5.99218750e-01 4.58593750e-06 4.24218750e-06 9.59765625e+02\n",
      " 1.99218750e+02 7.30468750e+00 1.64843750e+00 1.46093750e+00\n",
      " 1.56093750e+00 2.92304688e+04 5.00585938e+04] with error: Events ['Maximum voltage [V]'] are non-positive at initial conditions\n"
     ]
    },
    {
     "name": "stderr",
     "output_type": "stream",
     "text": [
      "CasADi - 2024-06-28 10:11:29 WARNING(\"roots:g failed: Inf detected for output x, at (row 0, col 0).\") [.../casadi/core/oracle_function.cpp:326]\n",
      "CasADi - 2024-06-28 10:11:29 WARNING(\"roots:g failed: Inf detected for output x, at (row 0, col 0).\") [.../casadi/core/oracle_function.cpp:326]\n",
      "CasADi - 2024-06-28 10:11:29 WARNING(\"roots:g failed: Inf detected for output x, at (row 0, col 0).\") [.../casadi/core/oracle_function.cpp:326]\n",
      "CasADi - 2024-06-28 10:11:29 WARNING(\"roots:g failed: Inf detected for output x, at (row 0, col 0).\") [.../casadi/core/oracle_function.cpp:326]\n",
      "CasADi - 2024-06-28 10:11:29 WARNING(\"roots:g failed: Inf detected for output x, at (row 0, col 0).\") [.../casadi/core/oracle_function.cpp:326]\n"
     ]
    },
    {
     "name": "stdout",
     "output_type": "stream",
     "text": [
      "Solver failed for parameters: [6.16718750e-05 6.63515625e-05 1.91796875e-05 7.51953125e-01\n",
      " 6.17968750e-01 4.58593750e-06 4.24218750e-06 9.59765625e+02\n",
      " 1.99218750e+02 7.30468750e+00 1.64843750e+00 1.46093750e+00\n",
      " 1.56093750e+00 2.92304688e+04 5.00585938e+04] with error: Events ['Maximum voltage [V]'] are non-positive at initial conditions\n"
     ]
    },
    {
     "name": "stderr",
     "output_type": "stream",
     "text": [
      "CasADi - 2024-06-28 10:11:30 WARNING(\"roots:g failed: Inf detected for output x, at (row 0, col 0).\") [.../casadi/core/oracle_function.cpp:326]\n",
      "CasADi - 2024-06-28 10:11:30 WARNING(\"roots:g failed: Inf detected for output x, at (row 0, col 0).\") [.../casadi/core/oracle_function.cpp:326]\n",
      "CasADi - 2024-06-28 10:11:30 WARNING(\"roots:g failed: Inf detected for output x, at (row 0, col 0).\") [.../casadi/core/oracle_function.cpp:326]\n",
      "CasADi - 2024-06-28 10:11:30 WARNING(\"roots:g failed: Inf detected for output x, at (row 0, col 0).\") [.../casadi/core/oracle_function.cpp:326]\n",
      "CasADi - 2024-06-28 10:11:30 WARNING(\"roots:g failed: Inf detected for output x, at (row 0, col 0).\") [.../casadi/core/oracle_function.cpp:326]\n"
     ]
    },
    {
     "name": "stdout",
     "output_type": "stream",
     "text": [
      "Solver failed for parameters: [6.16718750e-05 6.63515625e-05 1.91796875e-05 7.51953125e-01\n",
      " 5.99218750e-01 4.72656250e-06 4.24218750e-06 9.59765625e+02\n",
      " 1.99218750e+02 7.30468750e+00 1.64843750e+00 1.46093750e+00\n",
      " 1.56093750e+00 2.92304688e+04 5.00585938e+04] with error: Events ['Maximum voltage [V]'] are non-positive at initial conditions\n"
     ]
    },
    {
     "name": "stderr",
     "output_type": "stream",
     "text": [
      "CasADi - 2024-06-28 10:11:30 WARNING(\"roots:g failed: Inf detected for output x, at (row 0, col 0).\") [.../casadi/core/oracle_function.cpp:326]\n",
      "CasADi - 2024-06-28 10:11:30 WARNING(\"roots:g failed: Inf detected for output x, at (row 0, col 0).\") [.../casadi/core/oracle_function.cpp:326]\n",
      "CasADi - 2024-06-28 10:11:30 WARNING(\"roots:g failed: Inf detected for output x, at (row 0, col 0).\") [.../casadi/core/oracle_function.cpp:326]\n",
      "CasADi - 2024-06-28 10:11:30 WARNING(\"roots:g failed: Inf detected for output x, at (row 0, col 0).\") [.../casadi/core/oracle_function.cpp:326]\n",
      "CasADi - 2024-06-28 10:11:30 WARNING(\"roots:g failed: Inf detected for output x, at (row 0, col 0).\") [.../casadi/core/oracle_function.cpp:326]\n"
     ]
    },
    {
     "name": "stdout",
     "output_type": "stream",
     "text": [
      "Solver failed for parameters: [6.16718750e-05 6.63515625e-05 1.91796875e-05 7.51953125e-01\n",
      " 5.99218750e-01 4.58593750e-06 4.60156250e-06 9.59765625e+02\n",
      " 1.99218750e+02 7.30468750e+00 1.64843750e+00 1.46093750e+00\n",
      " 1.56093750e+00 2.92304688e+04 5.00585938e+04] with error: Events ['Maximum voltage [V]'] are non-positive at initial conditions\n"
     ]
    },
    {
     "name": "stderr",
     "output_type": "stream",
     "text": [
      "CasADi - 2024-06-28 10:11:31 WARNING(\"roots:g failed: Inf detected for output x, at (row 0, col 0).\") [.../casadi/core/oracle_function.cpp:326]\n",
      "CasADi - 2024-06-28 10:11:31 WARNING(\"roots:g failed: Inf detected for output x, at (row 0, col 0).\") [.../casadi/core/oracle_function.cpp:326]\n",
      "CasADi - 2024-06-28 10:11:31 WARNING(\"roots:g failed: Inf detected for output x, at (row 0, col 0).\") [.../casadi/core/oracle_function.cpp:326]\n",
      "CasADi - 2024-06-28 10:11:31 WARNING(\"roots:g failed: Inf detected for output x, at (row 0, col 0).\") [.../casadi/core/oracle_function.cpp:326]\n",
      "CasADi - 2024-06-28 10:11:31 WARNING(\"roots:g failed: Inf detected for output x, at (row 0, col 0).\") [.../casadi/core/oracle_function.cpp:326]\n"
     ]
    },
    {
     "name": "stdout",
     "output_type": "stream",
     "text": [
      "Solver failed for parameters: [6.16718750e-05 6.63515625e-05 1.91796875e-05 7.51953125e-01\n",
      " 5.99218750e-01 4.58593750e-06 4.24218750e-06 1.10507812e+03\n",
      " 1.99218750e+02 7.30468750e+00 1.64843750e+00 1.46093750e+00\n",
      " 1.56093750e+00 2.92304688e+04 5.00585938e+04] with error: Events ['Maximum voltage [V]'] are non-positive at initial conditions\n"
     ]
    },
    {
     "name": "stderr",
     "output_type": "stream",
     "text": [
      "CasADi - 2024-06-28 10:11:31 WARNING(\"roots:g failed: Inf detected for output x, at (row 0, col 0).\") [.../casadi/core/oracle_function.cpp:326]\n",
      "CasADi - 2024-06-28 10:11:31 WARNING(\"roots:g failed: Inf detected for output x, at (row 0, col 0).\") [.../casadi/core/oracle_function.cpp:326]\n",
      "CasADi - 2024-06-28 10:11:31 WARNING(\"roots:g failed: Inf detected for output x, at (row 0, col 0).\") [.../casadi/core/oracle_function.cpp:326]\n",
      "CasADi - 2024-06-28 10:11:31 WARNING(\"roots:g failed: Inf detected for output x, at (row 0, col 0).\") [.../casadi/core/oracle_function.cpp:326]\n",
      "CasADi - 2024-06-28 10:11:31 WARNING(\"roots:g failed: Inf detected for output x, at (row 0, col 0).\") [.../casadi/core/oracle_function.cpp:326]\n"
     ]
    },
    {
     "name": "stdout",
     "output_type": "stream",
     "text": [
      "Solver failed for parameters: [6.16718750e-05 6.63515625e-05 1.91796875e-05 7.51953125e-01\n",
      " 5.99218750e-01 4.58593750e-06 4.24218750e-06 9.59765625e+02\n",
      " 2.08593750e+02 7.30468750e+00 1.64843750e+00 1.46093750e+00\n",
      " 1.56093750e+00 2.92304688e+04 5.00585938e+04] with error: Events ['Maximum voltage [V]'] are non-positive at initial conditions\n"
     ]
    },
    {
     "name": "stderr",
     "output_type": "stream",
     "text": [
      "CasADi - 2024-06-28 10:11:32 WARNING(\"roots:g failed: Inf detected for output x, at (row 0, col 0).\") [.../casadi/core/oracle_function.cpp:326]\n",
      "CasADi - 2024-06-28 10:11:32 WARNING(\"roots:g failed: Inf detected for output x, at (row 0, col 0).\") [.../casadi/core/oracle_function.cpp:326]\n",
      "CasADi - 2024-06-28 10:11:32 WARNING(\"roots:g failed: Inf detected for output x, at (row 0, col 0).\") [.../casadi/core/oracle_function.cpp:326]\n",
      "CasADi - 2024-06-28 10:11:32 WARNING(\"roots:g failed: Inf detected for output x, at (row 0, col 0).\") [.../casadi/core/oracle_function.cpp:326]\n",
      "CasADi - 2024-06-28 10:11:32 WARNING(\"roots:g failed: Inf detected for output x, at (row 0, col 0).\") [.../casadi/core/oracle_function.cpp:326]\n"
     ]
    },
    {
     "name": "stdout",
     "output_type": "stream",
     "text": [
      "Solver failed for parameters: [6.16718750e-05 6.63515625e-05 1.91796875e-05 7.51953125e-01\n",
      " 5.99218750e-01 4.58593750e-06 4.24218750e-06 9.59765625e+02\n",
      " 1.99218750e+02 6.28906250e+00 1.64843750e+00 1.46093750e+00\n",
      " 1.56093750e+00 2.92304688e+04 5.00585938e+04] with error: Events ['Maximum voltage [V]'] are non-positive at initial conditions\n"
     ]
    },
    {
     "name": "stderr",
     "output_type": "stream",
     "text": [
      "CasADi - 2024-06-28 10:11:32 WARNING(\"roots:g failed: Inf detected for output x, at (row 0, col 0).\") [.../casadi/core/oracle_function.cpp:326]\n",
      "CasADi - 2024-06-28 10:11:32 WARNING(\"roots:g failed: Inf detected for output x, at (row 0, col 0).\") [.../casadi/core/oracle_function.cpp:326]\n",
      "CasADi - 2024-06-28 10:11:32 WARNING(\"roots:g failed: Inf detected for output x, at (row 0, col 0).\") [.../casadi/core/oracle_function.cpp:326]\n",
      "CasADi - 2024-06-28 10:11:32 WARNING(\"roots:g failed: Inf detected for output x, at (row 0, col 0).\") [.../casadi/core/oracle_function.cpp:326]\n",
      "CasADi - 2024-06-28 10:11:32 WARNING(\"roots:g failed: Inf detected for output x, at (row 0, col 0).\") [.../casadi/core/oracle_function.cpp:326]\n"
     ]
    },
    {
     "name": "stdout",
     "output_type": "stream",
     "text": [
      "Solver failed for parameters: [6.16718750e-05 6.63515625e-05 1.91796875e-05 7.51953125e-01\n",
      " 5.99218750e-01 4.58593750e-06 4.24218750e-06 9.59765625e+02\n",
      " 1.99218750e+02 7.30468750e+00 1.47031250e+00 1.46093750e+00\n",
      " 1.56093750e+00 2.92304688e+04 5.00585938e+04] with error: Events ['Maximum voltage [V]'] are non-positive at initial conditions\n"
     ]
    },
    {
     "name": "stderr",
     "output_type": "stream",
     "text": [
      "CasADi - 2024-06-28 10:11:33 WARNING(\"roots:g failed: Inf detected for output x, at (row 0, col 0).\") [.../casadi/core/oracle_function.cpp:326]\n",
      "CasADi - 2024-06-28 10:11:33 WARNING(\"roots:g failed: Inf detected for output x, at (row 0, col 0).\") [.../casadi/core/oracle_function.cpp:326]\n",
      "CasADi - 2024-06-28 10:11:33 WARNING(\"roots:g failed: Inf detected for output x, at (row 0, col 0).\") [.../casadi/core/oracle_function.cpp:326]\n",
      "CasADi - 2024-06-28 10:11:33 WARNING(\"roots:g failed: Inf detected for output x, at (row 0, col 0).\") [.../casadi/core/oracle_function.cpp:326]\n",
      "CasADi - 2024-06-28 10:11:33 WARNING(\"roots:g failed: Inf detected for output x, at (row 0, col 0).\") [.../casadi/core/oracle_function.cpp:326]\n"
     ]
    },
    {
     "name": "stdout",
     "output_type": "stream",
     "text": [
      "Solver failed for parameters: [6.16718750e-05 6.63515625e-05 1.91796875e-05 7.51953125e-01\n",
      " 5.99218750e-01 4.58593750e-06 4.24218750e-06 9.59765625e+02\n",
      " 1.99218750e+02 7.30468750e+00 1.64843750e+00 1.42031250e+00\n",
      " 1.56093750e+00 2.92304688e+04 5.00585938e+04] with error: Events ['Maximum voltage [V]'] are non-positive at initial conditions\n"
     ]
    },
    {
     "name": "stderr",
     "output_type": "stream",
     "text": [
      "CasADi - 2024-06-28 10:11:33 WARNING(\"roots:g failed: Inf detected for output x, at (row 0, col 0).\") [.../casadi/core/oracle_function.cpp:326]\n",
      "CasADi - 2024-06-28 10:11:33 WARNING(\"roots:g failed: Inf detected for output x, at (row 0, col 0).\") [.../casadi/core/oracle_function.cpp:326]\n",
      "CasADi - 2024-06-28 10:11:33 WARNING(\"roots:g failed: Inf detected for output x, at (row 0, col 0).\") [.../casadi/core/oracle_function.cpp:326]\n",
      "CasADi - 2024-06-28 10:11:33 WARNING(\"roots:g failed: Inf detected for output x, at (row 0, col 0).\") [.../casadi/core/oracle_function.cpp:326]\n",
      "CasADi - 2024-06-28 10:11:33 WARNING(\"roots:g failed: Inf detected for output x, at (row 0, col 0).\") [.../casadi/core/oracle_function.cpp:326]\n"
     ]
    },
    {
     "name": "stdout",
     "output_type": "stream",
     "text": [
      "Solver failed for parameters: [6.16718750e-05 6.63515625e-05 1.91796875e-05 7.51953125e-01\n",
      " 5.99218750e-01 4.58593750e-06 4.24218750e-06 9.59765625e+02\n",
      " 1.99218750e+02 7.30468750e+00 1.64843750e+00 1.46093750e+00\n",
      " 1.60156250e+00 2.92304688e+04 5.00585938e+04] with error: Events ['Maximum voltage [V]'] are non-positive at initial conditions\n"
     ]
    },
    {
     "name": "stderr",
     "output_type": "stream",
     "text": [
      "CasADi - 2024-06-28 10:11:34 WARNING(\"roots:g failed: Inf detected for output x, at (row 0, col 0).\") [.../casadi/core/oracle_function.cpp:326]\n",
      "CasADi - 2024-06-28 10:11:34 WARNING(\"roots:g failed: Inf detected for output x, at (row 0, col 0).\") [.../casadi/core/oracle_function.cpp:326]\n",
      "CasADi - 2024-06-28 10:11:34 WARNING(\"roots:g failed: Inf detected for output x, at (row 0, col 0).\") [.../casadi/core/oracle_function.cpp:326]\n",
      "CasADi - 2024-06-28 10:11:34 WARNING(\"roots:g failed: Inf detected for output x, at (row 0, col 0).\") [.../casadi/core/oracle_function.cpp:326]\n",
      "CasADi - 2024-06-28 10:11:34 WARNING(\"roots:g failed: Inf detected for output x, at (row 0, col 0).\") [.../casadi/core/oracle_function.cpp:326]\n"
     ]
    },
    {
     "name": "stdout",
     "output_type": "stream",
     "text": [
      "Solver failed for parameters: [6.16718750e-05 6.63515625e-05 1.91796875e-05 7.51953125e-01\n",
      " 5.99218750e-01 4.58593750e-06 4.24218750e-06 9.59765625e+02\n",
      " 1.99218750e+02 7.30468750e+00 1.64843750e+00 1.46093750e+00\n",
      " 1.56093750e+00 2.51054688e+04 5.00585938e+04] with error: Events ['Maximum voltage [V]'] are non-positive at initial conditions\n"
     ]
    },
    {
     "name": "stderr",
     "output_type": "stream",
     "text": [
      "CasADi - 2024-06-28 10:11:34 WARNING(\"roots:g failed: Inf detected for output x, at (row 0, col 0).\") [.../casadi/core/oracle_function.cpp:326]\n",
      "CasADi - 2024-06-28 10:11:34 WARNING(\"roots:g failed: Inf detected for output x, at (row 0, col 0).\") [.../casadi/core/oracle_function.cpp:326]\n",
      "CasADi - 2024-06-28 10:11:34 WARNING(\"roots:g failed: Inf detected for output x, at (row 0, col 0).\") [.../casadi/core/oracle_function.cpp:326]\n",
      "CasADi - 2024-06-28 10:11:34 WARNING(\"roots:g failed: Inf detected for output x, at (row 0, col 0).\") [.../casadi/core/oracle_function.cpp:326]\n",
      "CasADi - 2024-06-28 10:11:34 WARNING(\"roots:g failed: Inf detected for output x, at (row 0, col 0).\") [.../casadi/core/oracle_function.cpp:326]\n"
     ]
    },
    {
     "name": "stdout",
     "output_type": "stream",
     "text": [
      "Solver failed for parameters: [6.16718750e-05 6.63515625e-05 1.91796875e-05 7.51953125e-01\n",
      " 5.99218750e-01 4.58593750e-06 4.24218750e-06 9.59765625e+02\n",
      " 1.99218750e+02 7.30468750e+00 1.64843750e+00 1.46093750e+00\n",
      " 1.56093750e+00 2.92304688e+04 5.32226562e+04] with error: Events ['Maximum voltage [V]'] are non-positive at initial conditions\n"
     ]
    },
    {
     "name": "stderr",
     "output_type": "stream",
     "text": [
      "CasADi - 2024-06-28 10:11:35 WARNING(\"roots:g failed: Inf detected for output x, at (row 0, col 0).\") [.../casadi/core/oracle_function.cpp:326]\n",
      "CasADi - 2024-06-28 10:11:35 WARNING(\"roots:g failed: Inf detected for output x, at (row 0, col 0).\") [.../casadi/core/oracle_function.cpp:326]\n",
      "CasADi - 2024-06-28 10:11:35 WARNING(\"roots:g failed: Inf detected for output x, at (row 0, col 0).\") [.../casadi/core/oracle_function.cpp:326]\n",
      "CasADi - 2024-06-28 10:11:35 WARNING(\"roots:g failed: Inf detected for output x, at (row 0, col 0).\") [.../casadi/core/oracle_function.cpp:326]\n",
      "CasADi - 2024-06-28 10:11:35 WARNING(\"roots:g failed: Inf detected for output x, at (row 0, col 0).\") [.../casadi/core/oracle_function.cpp:326]\n"
     ]
    },
    {
     "name": "stdout",
     "output_type": "stream",
     "text": [
      "Solver failed for parameters: [6.16718750e-05 6.63515625e-05 1.91796875e-05 7.51953125e-01\n",
      " 5.99218750e-01 4.58593750e-06 4.24218750e-06 9.59765625e+02\n",
      " 1.99218750e+02 7.30468750e+00 1.64843750e+00 1.46093750e+00\n",
      " 1.56093750e+00 2.92304688e+04 5.00585938e+04] with error: Events ['Maximum voltage [V]'] are non-positive at initial conditions\n"
     ]
    },
    {
     "name": "stderr",
     "output_type": "stream",
     "text": [
      "CasADi - 2024-06-28 10:11:54 WARNING(\"roots:g failed: Inf detected for output x, at (row 0, col 0).\") [.../casadi/core/oracle_function.cpp:326]\n",
      "CasADi - 2024-06-28 10:11:54 WARNING(\"roots:g failed: Inf detected for output x, at (row 0, col 0).\") [.../casadi/core/oracle_function.cpp:326]\n",
      "CasADi - 2024-06-28 10:11:54 WARNING(\"roots:g failed: Inf detected for output x, at (row 0, col 0).\") [.../casadi/core/oracle_function.cpp:326]\n",
      "CasADi - 2024-06-28 10:11:54 WARNING(\"roots:g failed: Inf detected for output x, at (row 0, col 0).\") [.../casadi/core/oracle_function.cpp:326]\n"
     ]
    },
    {
     "name": "stdout",
     "output_type": "stream",
     "text": [
      "Solver failed for parameters: [7.06718750e-05 5.37578125e-05 1.35546875e-05 7.87890625e-01\n",
      " 6.67968750e-01 4.22656250e-06 5.10156250e-06 1.18007812e+03\n",
      " 2.58593750e+02 8.78906250e+00 1.37031250e+00 1.32031250e+00\n",
      " 1.30156250e+00 2.64804688e+04 5.69726562e+04] with error: Events ['Maximum voltage [V]'] are non-positive at initial conditions\n"
     ]
    },
    {
     "name": "stderr",
     "output_type": "stream",
     "text": [
      "CasADi - 2024-06-28 10:11:56 WARNING(\"roots:g failed: Inf detected for output x, at (row 0, col 0).\") [.../casadi/core/oracle_function.cpp:326]\n",
      "CasADi - 2024-06-28 10:11:56 WARNING(\"roots:g failed: Inf detected for output x, at (row 0, col 0).\") [.../casadi/core/oracle_function.cpp:326]\n",
      "CasADi - 2024-06-28 10:11:56 WARNING(\"roots:g failed: Inf detected for output x, at (row 0, col 0).\") [.../casadi/core/oracle_function.cpp:326]\n",
      "CasADi - 2024-06-28 10:11:56 WARNING(\"roots:g failed: Inf detected for output x, at (row 0, col 0).\") [.../casadi/core/oracle_function.cpp:326]\n",
      "CasADi - 2024-06-28 10:11:56 WARNING(\"roots:g failed: Inf detected for output x, at (row 0, col 0).\") [.../casadi/core/oracle_function.cpp:326]\n"
     ]
    },
    {
     "name": "stdout",
     "output_type": "stream",
     "text": [
      "Solver failed for parameters: [7.06718750e-05 7.28515625e-05 1.16796875e-05 7.76953125e-01\n",
      " 6.49218750e-01 5.08593750e-06 4.74218750e-06 1.18476562e+03\n",
      " 2.49218750e+02 4.80468750e+00 1.54843750e+00 1.56093750e+00\n",
      " 1.66093750e+00 2.64804688e+04 5.38085938e+04] with error: Events ['Maximum voltage [V]'] are non-positive at initial conditions\n"
     ]
    },
    {
     "name": "stderr",
     "output_type": "stream",
     "text": [
      "CasADi - 2024-06-28 10:11:57 WARNING(\"roots:g failed: Inf detected for output x, at (row 0, col 0).\") [.../casadi/core/oracle_function.cpp:326]\n",
      "CasADi - 2024-06-28 10:11:57 WARNING(\"roots:g failed: Inf detected for output x, at (row 0, col 0).\") [.../casadi/core/oracle_function.cpp:326]\n",
      "CasADi - 2024-06-28 10:11:57 WARNING(\"roots:g failed: Inf detected for output x, at (row 0, col 0).\") [.../casadi/core/oracle_function.cpp:326]\n",
      "CasADi - 2024-06-28 10:11:57 WARNING(\"roots:g failed: Inf detected for output x, at (row 0, col 0).\") [.../casadi/core/oracle_function.cpp:326]\n",
      "CasADi - 2024-06-28 10:11:57 WARNING(\"roots:g failed: Inf detected for output x, at (row 0, col 0).\") [.../casadi/core/oracle_function.cpp:326]\n"
     ]
    },
    {
     "name": "stdout",
     "output_type": "stream",
     "text": [
      "Solver failed for parameters: [7.06718750e-05 5.37578125e-05 1.16796875e-05 7.76953125e-01\n",
      " 6.49218750e-01 5.08593750e-06 4.74218750e-06 1.18476562e+03\n",
      " 2.49218750e+02 4.80468750e+00 1.54843750e+00 1.56093750e+00\n",
      " 1.66093750e+00 2.64804688e+04 5.38085938e+04] with error: Events ['Maximum voltage [V]'] are non-positive at initial conditions\n"
     ]
    },
    {
     "name": "stderr",
     "output_type": "stream",
     "text": [
      "CasADi - 2024-06-28 10:11:57 WARNING(\"roots:g failed: Inf detected for output x, at (row 0, col 0).\") [.../casadi/core/oracle_function.cpp:326]\n",
      "CasADi - 2024-06-28 10:11:57 WARNING(\"roots:g failed: Inf detected for output x, at (row 0, col 0).\") [.../casadi/core/oracle_function.cpp:326]\n",
      "CasADi - 2024-06-28 10:11:57 WARNING(\"roots:g failed: Inf detected for output x, at (row 0, col 0).\") [.../casadi/core/oracle_function.cpp:326]\n",
      "CasADi - 2024-06-28 10:11:57 WARNING(\"roots:g failed: Inf detected for output x, at (row 0, col 0).\") [.../casadi/core/oracle_function.cpp:326]\n",
      "CasADi - 2024-06-28 10:11:57 WARNING(\"roots:g failed: Inf detected for output x, at (row 0, col 0).\") [.../casadi/core/oracle_function.cpp:326]\n"
     ]
    },
    {
     "name": "stdout",
     "output_type": "stream",
     "text": [
      "Solver failed for parameters: [7.06718750e-05 7.28515625e-05 1.35546875e-05 7.76953125e-01\n",
      " 6.49218750e-01 5.08593750e-06 4.74218750e-06 1.18476562e+03\n",
      " 2.49218750e+02 4.80468750e+00 1.54843750e+00 1.56093750e+00\n",
      " 1.66093750e+00 2.64804688e+04 5.38085938e+04] with error: Events ['Maximum voltage [V]'] are non-positive at initial conditions\n"
     ]
    },
    {
     "name": "stderr",
     "output_type": "stream",
     "text": [
      "CasADi - 2024-06-28 10:11:58 WARNING(\"roots:g failed: Inf detected for output x, at (row 0, col 0).\") [.../casadi/core/oracle_function.cpp:326]\n",
      "CasADi - 2024-06-28 10:11:58 WARNING(\"roots:g failed: Inf detected for output x, at (row 0, col 0).\") [.../casadi/core/oracle_function.cpp:326]\n",
      "CasADi - 2024-06-28 10:11:58 WARNING(\"roots:g failed: Inf detected for output x, at (row 0, col 0).\") [.../casadi/core/oracle_function.cpp:326]\n",
      "CasADi - 2024-06-28 10:11:58 WARNING(\"roots:g failed: Inf detected for output x, at (row 0, col 0).\") [.../casadi/core/oracle_function.cpp:326]\n",
      "CasADi - 2024-06-28 10:11:58 WARNING(\"roots:g failed: Inf detected for output x, at (row 0, col 0).\") [.../casadi/core/oracle_function.cpp:326]\n"
     ]
    },
    {
     "name": "stdout",
     "output_type": "stream",
     "text": [
      "Solver failed for parameters: [7.06718750e-05 7.28515625e-05 1.16796875e-05 7.87890625e-01\n",
      " 6.49218750e-01 5.08593750e-06 4.74218750e-06 1.18476562e+03\n",
      " 2.49218750e+02 4.80468750e+00 1.54843750e+00 1.56093750e+00\n",
      " 1.66093750e+00 2.64804688e+04 5.38085938e+04] with error: Events ['Maximum voltage [V]'] are non-positive at initial conditions\n"
     ]
    },
    {
     "name": "stderr",
     "output_type": "stream",
     "text": [
      "CasADi - 2024-06-28 10:11:58 WARNING(\"roots:g failed: Inf detected for output x, at (row 0, col 0).\") [.../casadi/core/oracle_function.cpp:326]\n",
      "CasADi - 2024-06-28 10:11:58 WARNING(\"roots:g failed: Inf detected for output x, at (row 0, col 0).\") [.../casadi/core/oracle_function.cpp:326]\n",
      "CasADi - 2024-06-28 10:11:58 WARNING(\"roots:g failed: Inf detected for output x, at (row 0, col 0).\") [.../casadi/core/oracle_function.cpp:326]\n",
      "CasADi - 2024-06-28 10:11:58 WARNING(\"roots:g failed: Inf detected for output x, at (row 0, col 0).\") [.../casadi/core/oracle_function.cpp:326]\n",
      "CasADi - 2024-06-28 10:11:58 WARNING(\"roots:g failed: Inf detected for output x, at (row 0, col 0).\") [.../casadi/core/oracle_function.cpp:326]\n"
     ]
    },
    {
     "name": "stdout",
     "output_type": "stream",
     "text": [
      "Solver failed for parameters: [7.06718750e-05 7.28515625e-05 1.16796875e-05 7.76953125e-01\n",
      " 6.67968750e-01 5.08593750e-06 4.74218750e-06 1.18476562e+03\n",
      " 2.49218750e+02 4.80468750e+00 1.54843750e+00 1.56093750e+00\n",
      " 1.66093750e+00 2.64804688e+04 5.38085938e+04] with error: Events ['Maximum voltage [V]'] are non-positive at initial conditions\n"
     ]
    },
    {
     "name": "stderr",
     "output_type": "stream",
     "text": [
      "CasADi - 2024-06-28 10:11:59 WARNING(\"roots:g failed: Inf detected for output x, at (row 0, col 0).\") [.../casadi/core/oracle_function.cpp:326]\n",
      "CasADi - 2024-06-28 10:11:59 WARNING(\"roots:g failed: Inf detected for output x, at (row 0, col 0).\") [.../casadi/core/oracle_function.cpp:326]\n",
      "CasADi - 2024-06-28 10:11:59 WARNING(\"roots:g failed: Inf detected for output x, at (row 0, col 0).\") [.../casadi/core/oracle_function.cpp:326]\n",
      "CasADi - 2024-06-28 10:11:59 WARNING(\"roots:g failed: Inf detected for output x, at (row 0, col 0).\") [.../casadi/core/oracle_function.cpp:326]\n"
     ]
    },
    {
     "name": "stdout",
     "output_type": "stream",
     "text": [
      "Solver failed for parameters: [7.06718750e-05 7.28515625e-05 1.16796875e-05 7.76953125e-01\n",
      " 6.49218750e-01 4.22656250e-06 4.74218750e-06 1.18476562e+03\n",
      " 2.49218750e+02 4.80468750e+00 1.54843750e+00 1.56093750e+00\n",
      " 1.66093750e+00 2.64804688e+04 5.38085938e+04] with error: Events ['Maximum voltage [V]'] are non-positive at initial conditions\n"
     ]
    },
    {
     "name": "stderr",
     "output_type": "stream",
     "text": [
      "CasADi - 2024-06-28 10:11:59 WARNING(\"roots:g failed: Inf detected for output x, at (row 0, col 0).\") [.../casadi/core/oracle_function.cpp:326]\n",
      "CasADi - 2024-06-28 10:11:59 WARNING(\"roots:g failed: Inf detected for output x, at (row 0, col 0).\") [.../casadi/core/oracle_function.cpp:326]\n",
      "CasADi - 2024-06-28 10:11:59 WARNING(\"roots:g failed: Inf detected for output x, at (row 0, col 0).\") [.../casadi/core/oracle_function.cpp:326]\n",
      "CasADi - 2024-06-28 10:11:59 WARNING(\"roots:g failed: Inf detected for output x, at (row 0, col 0).\") [.../casadi/core/oracle_function.cpp:326]\n",
      "CasADi - 2024-06-28 10:11:59 WARNING(\"roots:g failed: Inf detected for output x, at (row 0, col 0).\") [.../casadi/core/oracle_function.cpp:326]\n"
     ]
    },
    {
     "name": "stdout",
     "output_type": "stream",
     "text": [
      "Solver failed for parameters: [7.06718750e-05 7.28515625e-05 1.16796875e-05 7.76953125e-01\n",
      " 6.49218750e-01 5.08593750e-06 5.10156250e-06 1.18476562e+03\n",
      " 2.49218750e+02 4.80468750e+00 1.54843750e+00 1.56093750e+00\n",
      " 1.66093750e+00 2.64804688e+04 5.38085938e+04] with error: Events ['Maximum voltage [V]'] are non-positive at initial conditions\n"
     ]
    },
    {
     "name": "stderr",
     "output_type": "stream",
     "text": [
      "CasADi - 2024-06-28 10:12:00 WARNING(\"roots:g failed: Inf detected for output x, at (row 0, col 0).\") [.../casadi/core/oracle_function.cpp:326]\n",
      "CasADi - 2024-06-28 10:12:00 WARNING(\"roots:g failed: Inf detected for output x, at (row 0, col 0).\") [.../casadi/core/oracle_function.cpp:326]\n",
      "CasADi - 2024-06-28 10:12:00 WARNING(\"roots:g failed: Inf detected for output x, at (row 0, col 0).\") [.../casadi/core/oracle_function.cpp:326]\n",
      "CasADi - 2024-06-28 10:12:00 WARNING(\"roots:g failed: Inf detected for output x, at (row 0, col 0).\") [.../casadi/core/oracle_function.cpp:326]\n",
      "CasADi - 2024-06-28 10:12:00 WARNING(\"roots:g failed: Inf detected for output x, at (row 0, col 0).\") [.../casadi/core/oracle_function.cpp:326]\n"
     ]
    },
    {
     "name": "stdout",
     "output_type": "stream",
     "text": [
      "Solver failed for parameters: [7.06718750e-05 7.28515625e-05 1.16796875e-05 7.76953125e-01\n",
      " 6.49218750e-01 5.08593750e-06 4.74218750e-06 1.18007812e+03\n",
      " 2.49218750e+02 4.80468750e+00 1.54843750e+00 1.56093750e+00\n",
      " 1.66093750e+00 2.64804688e+04 5.38085938e+04] with error: Events ['Maximum voltage [V]'] are non-positive at initial conditions\n"
     ]
    },
    {
     "name": "stderr",
     "output_type": "stream",
     "text": [
      "CasADi - 2024-06-28 10:12:00 WARNING(\"roots:g failed: Inf detected for output x, at (row 0, col 0).\") [.../casadi/core/oracle_function.cpp:326]\n",
      "CasADi - 2024-06-28 10:12:00 WARNING(\"roots:g failed: Inf detected for output x, at (row 0, col 0).\") [.../casadi/core/oracle_function.cpp:326]\n",
      "CasADi - 2024-06-28 10:12:00 WARNING(\"roots:g failed: Inf detected for output x, at (row 0, col 0).\") [.../casadi/core/oracle_function.cpp:326]\n",
      "CasADi - 2024-06-28 10:12:00 WARNING(\"roots:g failed: Inf detected for output x, at (row 0, col 0).\") [.../casadi/core/oracle_function.cpp:326]\n",
      "CasADi - 2024-06-28 10:12:00 WARNING(\"roots:g failed: Inf detected for output x, at (row 0, col 0).\") [.../casadi/core/oracle_function.cpp:326]\n"
     ]
    },
    {
     "name": "stdout",
     "output_type": "stream",
     "text": [
      "Solver failed for parameters: [7.06718750e-05 7.28515625e-05 1.16796875e-05 7.76953125e-01\n",
      " 6.49218750e-01 5.08593750e-06 4.74218750e-06 1.18476562e+03\n",
      " 2.58593750e+02 4.80468750e+00 1.54843750e+00 1.56093750e+00\n",
      " 1.66093750e+00 2.64804688e+04 5.38085938e+04] with error: Events ['Maximum voltage [V]'] are non-positive at initial conditions\n"
     ]
    },
    {
     "name": "stderr",
     "output_type": "stream",
     "text": [
      "CasADi - 2024-06-28 10:12:01 WARNING(\"roots:g failed: Inf detected for output x, at (row 0, col 0).\") [.../casadi/core/oracle_function.cpp:326]\n",
      "CasADi - 2024-06-28 10:12:01 WARNING(\"roots:g failed: Inf detected for output x, at (row 0, col 0).\") [.../casadi/core/oracle_function.cpp:326]\n",
      "CasADi - 2024-06-28 10:12:01 WARNING(\"roots:g failed: Inf detected for output x, at (row 0, col 0).\") [.../casadi/core/oracle_function.cpp:326]\n",
      "CasADi - 2024-06-28 10:12:01 WARNING(\"roots:g failed: Inf detected for output x, at (row 0, col 0).\") [.../casadi/core/oracle_function.cpp:326]\n",
      "CasADi - 2024-06-28 10:12:01 WARNING(\"roots:g failed: Inf detected for output x, at (row 0, col 0).\") [.../casadi/core/oracle_function.cpp:326]\n"
     ]
    },
    {
     "name": "stdout",
     "output_type": "stream",
     "text": [
      "Solver failed for parameters: [7.06718750e-05 7.28515625e-05 1.16796875e-05 7.76953125e-01\n",
      " 6.49218750e-01 5.08593750e-06 4.74218750e-06 1.18476562e+03\n",
      " 2.49218750e+02 8.78906250e+00 1.54843750e+00 1.56093750e+00\n",
      " 1.66093750e+00 2.64804688e+04 5.38085938e+04] with error: Events ['Maximum voltage [V]'] are non-positive at initial conditions\n"
     ]
    },
    {
     "name": "stderr",
     "output_type": "stream",
     "text": [
      "CasADi - 2024-06-28 10:12:01 WARNING(\"roots:g failed: Inf detected for output x, at (row 0, col 0).\") [.../casadi/core/oracle_function.cpp:326]\n",
      "CasADi - 2024-06-28 10:12:01 WARNING(\"roots:g failed: Inf detected for output x, at (row 0, col 0).\") [.../casadi/core/oracle_function.cpp:326]\n",
      "CasADi - 2024-06-28 10:12:01 WARNING(\"roots:g failed: Inf detected for output x, at (row 0, col 0).\") [.../casadi/core/oracle_function.cpp:326]\n",
      "CasADi - 2024-06-28 10:12:01 WARNING(\"roots:g failed: Inf detected for output x, at (row 0, col 0).\") [.../casadi/core/oracle_function.cpp:326]\n",
      "CasADi - 2024-06-28 10:12:01 WARNING(\"roots:g failed: Inf detected for output x, at (row 0, col 0).\") [.../casadi/core/oracle_function.cpp:326]\n"
     ]
    },
    {
     "name": "stdout",
     "output_type": "stream",
     "text": [
      "Solver failed for parameters: [7.06718750e-05 7.28515625e-05 1.16796875e-05 7.76953125e-01\n",
      " 6.49218750e-01 5.08593750e-06 4.74218750e-06 1.18476562e+03\n",
      " 2.49218750e+02 4.80468750e+00 1.37031250e+00 1.56093750e+00\n",
      " 1.66093750e+00 2.64804688e+04 5.38085938e+04] with error: Events ['Maximum voltage [V]'] are non-positive at initial conditions\n"
     ]
    },
    {
     "name": "stderr",
     "output_type": "stream",
     "text": [
      "CasADi - 2024-06-28 10:12:02 WARNING(\"roots:g failed: Inf detected for output x, at (row 0, col 0).\") [.../casadi/core/oracle_function.cpp:326]\n",
      "CasADi - 2024-06-28 10:12:02 WARNING(\"roots:g failed: Inf detected for output x, at (row 0, col 0).\") [.../casadi/core/oracle_function.cpp:326]\n",
      "CasADi - 2024-06-28 10:12:02 WARNING(\"roots:g failed: Inf detected for output x, at (row 0, col 0).\") [.../casadi/core/oracle_function.cpp:326]\n",
      "CasADi - 2024-06-28 10:12:02 WARNING(\"roots:g failed: Inf detected for output x, at (row 0, col 0).\") [.../casadi/core/oracle_function.cpp:326]\n",
      "CasADi - 2024-06-28 10:12:02 WARNING(\"roots:g failed: Inf detected for output x, at (row 0, col 0).\") [.../casadi/core/oracle_function.cpp:326]\n"
     ]
    },
    {
     "name": "stdout",
     "output_type": "stream",
     "text": [
      "Solver failed for parameters: [7.06718750e-05 7.28515625e-05 1.16796875e-05 7.76953125e-01\n",
      " 6.49218750e-01 5.08593750e-06 4.74218750e-06 1.18476562e+03\n",
      " 2.49218750e+02 4.80468750e+00 1.54843750e+00 1.32031250e+00\n",
      " 1.66093750e+00 2.64804688e+04 5.38085938e+04] with error: Events ['Maximum voltage [V]'] are non-positive at initial conditions\n"
     ]
    },
    {
     "name": "stderr",
     "output_type": "stream",
     "text": [
      "CasADi - 2024-06-28 10:12:02 WARNING(\"roots:g failed: Inf detected for output x, at (row 0, col 0).\") [.../casadi/core/oracle_function.cpp:326]\n",
      "CasADi - 2024-06-28 10:12:02 WARNING(\"roots:g failed: Inf detected for output x, at (row 0, col 0).\") [.../casadi/core/oracle_function.cpp:326]\n",
      "CasADi - 2024-06-28 10:12:02 WARNING(\"roots:g failed: Inf detected for output x, at (row 0, col 0).\") [.../casadi/core/oracle_function.cpp:326]\n",
      "CasADi - 2024-06-28 10:12:02 WARNING(\"roots:g failed: Inf detected for output x, at (row 0, col 0).\") [.../casadi/core/oracle_function.cpp:326]\n",
      "CasADi - 2024-06-28 10:12:02 WARNING(\"roots:g failed: Inf detected for output x, at (row 0, col 0).\") [.../casadi/core/oracle_function.cpp:326]\n"
     ]
    },
    {
     "name": "stdout",
     "output_type": "stream",
     "text": [
      "Solver failed for parameters: [7.06718750e-05 7.28515625e-05 1.16796875e-05 7.76953125e-01\n",
      " 6.49218750e-01 5.08593750e-06 4.74218750e-06 1.18476562e+03\n",
      " 2.49218750e+02 4.80468750e+00 1.54843750e+00 1.56093750e+00\n",
      " 1.30156250e+00 2.64804688e+04 5.38085938e+04] with error: Events ['Maximum voltage [V]'] are non-positive at initial conditions\n"
     ]
    },
    {
     "name": "stderr",
     "output_type": "stream",
     "text": [
      "CasADi - 2024-06-28 10:12:04 WARNING(\"roots:g failed: Inf detected for output x, at (row 0, col 0).\") [.../casadi/core/oracle_function.cpp:326]\n",
      "CasADi - 2024-06-28 10:12:04 WARNING(\"roots:g failed: Inf detected for output x, at (row 0, col 0).\") [.../casadi/core/oracle_function.cpp:326]\n",
      "CasADi - 2024-06-28 10:12:04 WARNING(\"roots:g failed: Inf detected for output x, at (row 0, col 0).\") [.../casadi/core/oracle_function.cpp:326]\n",
      "CasADi - 2024-06-28 10:12:04 WARNING(\"roots:g failed: Inf detected for output x, at (row 0, col 0).\") [.../casadi/core/oracle_function.cpp:326]\n",
      "CasADi - 2024-06-28 10:12:04 WARNING(\"roots:g failed: Inf detected for output x, at (row 0, col 0).\") [.../casadi/core/oracle_function.cpp:326]\n"
     ]
    },
    {
     "name": "stdout",
     "output_type": "stream",
     "text": [
      "Solver failed for parameters: [7.06718750e-05 7.28515625e-05 1.16796875e-05 7.76953125e-01\n",
      " 6.49218750e-01 5.08593750e-06 4.74218750e-06 1.18476562e+03\n",
      " 2.49218750e+02 4.80468750e+00 1.54843750e+00 1.56093750e+00\n",
      " 1.66093750e+00 2.64804688e+04 5.69726562e+04] with error: Events ['Maximum voltage [V]'] are non-positive at initial conditions\n"
     ]
    },
    {
     "name": "stderr",
     "output_type": "stream",
     "text": [
      "CasADi - 2024-06-28 10:12:05 WARNING(\"roots:g failed: Inf detected for output x, at (row 0, col 0).\") [.../casadi/core/oracle_function.cpp:326]\n",
      "CasADi - 2024-06-28 10:12:05 WARNING(\"roots:g failed: Inf detected for output x, at (row 0, col 0).\") [.../casadi/core/oracle_function.cpp:326]\n",
      "CasADi - 2024-06-28 10:12:05 WARNING(\"roots:g failed: Inf detected for output x, at (row 0, col 0).\") [.../casadi/core/oracle_function.cpp:326]\n",
      "CasADi - 2024-06-28 10:12:05 WARNING(\"roots:g failed: Inf detected for output x, at (row 0, col 0).\") [.../casadi/core/oracle_function.cpp:326]\n",
      "CasADi - 2024-06-28 10:12:05 WARNING(\"roots:g failed: Inf detected for output x, at (row 0, col 0).\") [.../casadi/core/oracle_function.cpp:326]\n"
     ]
    },
    {
     "name": "stdout",
     "output_type": "stream",
     "text": [
      "Solver failed for parameters: [7.06718750e-05 7.28515625e-05 1.16796875e-05 7.76953125e-01\n",
      " 6.49218750e-01 5.08593750e-06 4.74218750e-06 1.18476562e+03\n",
      " 2.49218750e+02 4.80468750e+00 1.54843750e+00 1.56093750e+00\n",
      " 1.66093750e+00 2.64804688e+04 5.38085938e+04] with error: Events ['Maximum voltage [V]'] are non-positive at initial conditions\n"
     ]
    },
    {
     "name": "stderr",
     "output_type": "stream",
     "text": [
      "CasADi - 2024-06-28 10:12:05 WARNING(\"roots:g failed: Inf detected for output x, at (row 0, col 0).\") [.../casadi/core/oracle_function.cpp:326]\n",
      "CasADi - 2024-06-28 10:12:05 WARNING(\"roots:g failed: Inf detected for output x, at (row 0, col 0).\") [.../casadi/core/oracle_function.cpp:326]\n",
      "CasADi - 2024-06-28 10:12:05 WARNING(\"roots:g failed: Inf detected for output x, at (row 0, col 0).\") [.../casadi/core/oracle_function.cpp:326]\n",
      "CasADi - 2024-06-28 10:12:05 WARNING(\"roots:g failed: Inf detected for output x, at (row 0, col 0).\") [.../casadi/core/oracle_function.cpp:326]\n",
      "CasADi - 2024-06-28 10:12:05 WARNING(\"roots:g failed: Inf detected for output x, at (row 0, col 0).\") [.../casadi/core/oracle_function.cpp:326]\n"
     ]
    },
    {
     "name": "stdout",
     "output_type": "stream",
     "text": [
      "Solver failed for parameters: [5.26718750e-05 6.67578125e-05 1.85546875e-05 7.37890625e-01\n",
      " 5.67968750e-01 5.22656250e-06 4.10156250e-06 1.03007812e+03\n",
      " 1.58593750e+02 3.78906250e+00 1.57031250e+00 1.52031250e+00\n",
      " 1.50156250e+00 2.78554688e+04 6.44726562e+04] with error: Events ['Maximum voltage [V]'] are non-positive at initial conditions\n"
     ]
    },
    {
     "name": "stderr",
     "output_type": "stream",
     "text": [
      "CasADi - 2024-06-28 10:12:05 WARNING(\"roots:g failed: Inf detected for output x, at (row 0, col 0).\") [.../casadi/core/oracle_function.cpp:326]\n",
      "CasADi - 2024-06-28 10:12:05 WARNING(\"roots:g failed: Inf detected for output x, at (row 0, col 0).\") [.../casadi/core/oracle_function.cpp:326]\n",
      "CasADi - 2024-06-28 10:12:05 WARNING(\"roots:g failed: Inf detected for output x, at (row 0, col 0).\") [.../casadi/core/oracle_function.cpp:326]\n",
      "CasADi - 2024-06-28 10:12:05 WARNING(\"roots:g failed: Inf detected for output x, at (row 0, col 0).\") [.../casadi/core/oracle_function.cpp:326]\n",
      "CasADi - 2024-06-28 10:12:05 WARNING(\"roots:g failed: Inf detected for output x, at (row 0, col 0).\") [.../casadi/core/oracle_function.cpp:326]\n"
     ]
    },
    {
     "name": "stdout",
     "output_type": "stream",
     "text": [
      "Solver failed for parameters: [5.26718750e-05 6.67578125e-05 1.85546875e-05 7.37890625e-01\n",
      " 5.67968750e-01 5.22656250e-06 4.10156250e-06 1.03007812e+03\n",
      " 1.58593750e+02 3.78906250e+00 1.57031250e+00 1.52031250e+00\n",
      " 1.50156250e+00 2.78554688e+04 6.44726562e+04] with error: Events ['Maximum voltage [V]'] are non-positive at initial conditions\n"
     ]
    },
    {
     "name": "stderr",
     "output_type": "stream",
     "text": [
      "CasADi - 2024-06-28 10:12:06 WARNING(\"roots:g failed: Inf detected for output x, at (row 0, col 0).\") [.../casadi/core/oracle_function.cpp:326]\n",
      "CasADi - 2024-06-28 10:12:06 WARNING(\"roots:g failed: Inf detected for output x, at (row 0, col 0).\") [.../casadi/core/oracle_function.cpp:326]\n",
      "CasADi - 2024-06-28 10:12:06 WARNING(\"roots:g failed: Inf detected for output x, at (row 0, col 0).\") [.../casadi/core/oracle_function.cpp:326]\n",
      "CasADi - 2024-06-28 10:12:06 WARNING(\"roots:g failed: Inf detected for output x, at (row 0, col 0).\") [.../casadi/core/oracle_function.cpp:326]\n",
      "CasADi - 2024-06-28 10:12:06 WARNING(\"roots:g failed: Inf detected for output x, at (row 0, col 0).\") [.../casadi/core/oracle_function.cpp:326]\n"
     ]
    },
    {
     "name": "stdout",
     "output_type": "stream",
     "text": [
      "Solver failed for parameters: [5.26718750e-05 5.98515625e-05 1.85546875e-05 7.37890625e-01\n",
      " 5.67968750e-01 5.22656250e-06 4.10156250e-06 1.03007812e+03\n",
      " 1.58593750e+02 3.78906250e+00 1.57031250e+00 1.52031250e+00\n",
      " 1.50156250e+00 2.78554688e+04 6.44726562e+04] with error: Events ['Maximum voltage [V]'] are non-positive at initial conditions\n"
     ]
    },
    {
     "name": "stderr",
     "output_type": "stream",
     "text": [
      "CasADi - 2024-06-28 10:12:06 WARNING(\"roots:g failed: Inf detected for output x, at (row 0, col 0).\") [.../casadi/core/oracle_function.cpp:326]\n",
      "CasADi - 2024-06-28 10:12:06 WARNING(\"roots:g failed: Inf detected for output x, at (row 0, col 0).\") [.../casadi/core/oracle_function.cpp:326]\n",
      "CasADi - 2024-06-28 10:12:06 WARNING(\"roots:g failed: Inf detected for output x, at (row 0, col 0).\") [.../casadi/core/oracle_function.cpp:326]\n",
      "CasADi - 2024-06-28 10:12:06 WARNING(\"roots:g failed: Inf detected for output x, at (row 0, col 0).\") [.../casadi/core/oracle_function.cpp:326]\n",
      "CasADi - 2024-06-28 10:12:06 WARNING(\"roots:g failed: Inf detected for output x, at (row 0, col 0).\") [.../casadi/core/oracle_function.cpp:326]\n"
     ]
    },
    {
     "name": "stdout",
     "output_type": "stream",
     "text": [
      "Solver failed for parameters: [5.26718750e-05 6.67578125e-05 1.66796875e-05 7.37890625e-01\n",
      " 5.67968750e-01 5.22656250e-06 4.10156250e-06 1.03007812e+03\n",
      " 1.58593750e+02 3.78906250e+00 1.57031250e+00 1.52031250e+00\n",
      " 1.50156250e+00 2.78554688e+04 6.44726562e+04] with error: Events ['Maximum voltage [V]'] are non-positive at initial conditions\n"
     ]
    },
    {
     "name": "stderr",
     "output_type": "stream",
     "text": [
      "CasADi - 2024-06-28 10:12:07 WARNING(\"roots:g failed: Inf detected for output x, at (row 0, col 0).\") [.../casadi/core/oracle_function.cpp:326]\n",
      "CasADi - 2024-06-28 10:12:07 WARNING(\"roots:g failed: Inf detected for output x, at (row 0, col 0).\") [.../casadi/core/oracle_function.cpp:326]\n",
      "CasADi - 2024-06-28 10:12:07 WARNING(\"roots:g failed: Inf detected for output x, at (row 0, col 0).\") [.../casadi/core/oracle_function.cpp:326]\n",
      "CasADi - 2024-06-28 10:12:07 WARNING(\"roots:g failed: Inf detected for output x, at (row 0, col 0).\") [.../casadi/core/oracle_function.cpp:326]\n",
      "CasADi - 2024-06-28 10:12:07 WARNING(\"roots:g failed: Inf detected for output x, at (row 0, col 0).\") [.../casadi/core/oracle_function.cpp:326]\n"
     ]
    },
    {
     "name": "stdout",
     "output_type": "stream",
     "text": [
      "Solver failed for parameters: [5.26718750e-05 6.67578125e-05 1.85546875e-05 7.26953125e-01\n",
      " 5.67968750e-01 5.22656250e-06 4.10156250e-06 1.03007812e+03\n",
      " 1.58593750e+02 3.78906250e+00 1.57031250e+00 1.52031250e+00\n",
      " 1.50156250e+00 2.78554688e+04 6.44726562e+04] with error: Events ['Maximum voltage [V]'] are non-positive at initial conditions\n"
     ]
    },
    {
     "name": "stderr",
     "output_type": "stream",
     "text": [
      "CasADi - 2024-06-28 10:12:07 WARNING(\"roots:g failed: Inf detected for output x, at (row 0, col 0).\") [.../casadi/core/oracle_function.cpp:326]\n",
      "CasADi - 2024-06-28 10:12:07 WARNING(\"roots:g failed: Inf detected for output x, at (row 0, col 0).\") [.../casadi/core/oracle_function.cpp:326]\n",
      "CasADi - 2024-06-28 10:12:07 WARNING(\"roots:g failed: Inf detected for output x, at (row 0, col 0).\") [.../casadi/core/oracle_function.cpp:326]\n",
      "CasADi - 2024-06-28 10:12:07 WARNING(\"roots:g failed: Inf detected for output x, at (row 0, col 0).\") [.../casadi/core/oracle_function.cpp:326]\n",
      "CasADi - 2024-06-28 10:12:07 WARNING(\"roots:g failed: Inf detected for output x, at (row 0, col 0).\") [.../casadi/core/oracle_function.cpp:326]\n"
     ]
    },
    {
     "name": "stdout",
     "output_type": "stream",
     "text": [
      "Solver failed for parameters: [5.26718750e-05 6.67578125e-05 1.85546875e-05 7.37890625e-01\n",
      " 5.49218750e-01 5.22656250e-06 4.10156250e-06 1.03007812e+03\n",
      " 1.58593750e+02 3.78906250e+00 1.57031250e+00 1.52031250e+00\n",
      " 1.50156250e+00 2.78554688e+04 6.44726562e+04] with error: Events ['Maximum voltage [V]'] are non-positive at initial conditions\n"
     ]
    },
    {
     "name": "stderr",
     "output_type": "stream",
     "text": [
      "CasADi - 2024-06-28 10:12:08 WARNING(\"roots:g failed: Inf detected for output x, at (row 0, col 0).\") [.../casadi/core/oracle_function.cpp:326]\n",
      "CasADi - 2024-06-28 10:12:08 WARNING(\"roots:g failed: Inf detected for output x, at (row 0, col 0).\") [.../casadi/core/oracle_function.cpp:326]\n",
      "CasADi - 2024-06-28 10:12:08 WARNING(\"roots:g failed: Inf detected for output x, at (row 0, col 0).\") [.../casadi/core/oracle_function.cpp:326]\n",
      "CasADi - 2024-06-28 10:12:08 WARNING(\"roots:g failed: Inf detected for output x, at (row 0, col 0).\") [.../casadi/core/oracle_function.cpp:326]\n",
      "CasADi - 2024-06-28 10:12:08 WARNING(\"roots:g failed: Inf detected for output x, at (row 0, col 0).\") [.../casadi/core/oracle_function.cpp:326]\n"
     ]
    },
    {
     "name": "stdout",
     "output_type": "stream",
     "text": [
      "Solver failed for parameters: [5.26718750e-05 6.67578125e-05 1.85546875e-05 7.37890625e-01\n",
      " 5.67968750e-01 4.08593750e-06 4.10156250e-06 1.03007812e+03\n",
      " 1.58593750e+02 3.78906250e+00 1.57031250e+00 1.52031250e+00\n",
      " 1.50156250e+00 2.78554688e+04 6.44726562e+04] with error: Events ['Maximum voltage [V]'] are non-positive at initial conditions\n"
     ]
    },
    {
     "name": "stderr",
     "output_type": "stream",
     "text": [
      "CasADi - 2024-06-28 10:12:08 WARNING(\"roots:g failed: Inf detected for output x, at (row 0, col 0).\") [.../casadi/core/oracle_function.cpp:326]\n",
      "CasADi - 2024-06-28 10:12:08 WARNING(\"roots:g failed: Inf detected for output x, at (row 0, col 0).\") [.../casadi/core/oracle_function.cpp:326]\n",
      "CasADi - 2024-06-28 10:12:08 WARNING(\"roots:g failed: Inf detected for output x, at (row 0, col 0).\") [.../casadi/core/oracle_function.cpp:326]\n",
      "CasADi - 2024-06-28 10:12:08 WARNING(\"roots:g failed: Inf detected for output x, at (row 0, col 0).\") [.../casadi/core/oracle_function.cpp:326]\n",
      "CasADi - 2024-06-28 10:12:08 WARNING(\"roots:g failed: Inf detected for output x, at (row 0, col 0).\") [.../casadi/core/oracle_function.cpp:326]\n"
     ]
    },
    {
     "name": "stdout",
     "output_type": "stream",
     "text": [
      "Solver failed for parameters: [5.26718750e-05 6.67578125e-05 1.85546875e-05 7.37890625e-01\n",
      " 5.67968750e-01 5.22656250e-06 5.74218750e-06 1.03007812e+03\n",
      " 1.58593750e+02 3.78906250e+00 1.57031250e+00 1.52031250e+00\n",
      " 1.50156250e+00 2.78554688e+04 6.44726562e+04] with error: Events ['Maximum voltage [V]'] are non-positive at initial conditions\n"
     ]
    },
    {
     "name": "stderr",
     "output_type": "stream",
     "text": [
      "CasADi - 2024-06-28 10:12:09 WARNING(\"roots:g failed: Inf detected for output x, at (row 0, col 0).\") [.../casadi/core/oracle_function.cpp:326]\n",
      "CasADi - 2024-06-28 10:12:09 WARNING(\"roots:g failed: Inf detected for output x, at (row 0, col 0).\") [.../casadi/core/oracle_function.cpp:326]\n",
      "CasADi - 2024-06-28 10:12:09 WARNING(\"roots:g failed: Inf detected for output x, at (row 0, col 0).\") [.../casadi/core/oracle_function.cpp:326]\n",
      "CasADi - 2024-06-28 10:12:09 WARNING(\"roots:g failed: Inf detected for output x, at (row 0, col 0).\") [.../casadi/core/oracle_function.cpp:326]\n",
      "CasADi - 2024-06-28 10:12:09 WARNING(\"roots:g failed: Inf detected for output x, at (row 0, col 0).\") [.../casadi/core/oracle_function.cpp:326]\n"
     ]
    },
    {
     "name": "stdout",
     "output_type": "stream",
     "text": [
      "Solver failed for parameters: [5.26718750e-05 6.67578125e-05 1.85546875e-05 7.37890625e-01\n",
      " 5.67968750e-01 5.22656250e-06 4.10156250e-06 1.03476562e+03\n",
      " 1.58593750e+02 3.78906250e+00 1.57031250e+00 1.52031250e+00\n",
      " 1.50156250e+00 2.78554688e+04 6.44726562e+04] with error: Events ['Maximum voltage [V]'] are non-positive at initial conditions\n"
     ]
    },
    {
     "name": "stderr",
     "output_type": "stream",
     "text": [
      "CasADi - 2024-06-28 10:12:09 WARNING(\"roots:g failed: Inf detected for output x, at (row 0, col 0).\") [.../casadi/core/oracle_function.cpp:326]\n",
      "CasADi - 2024-06-28 10:12:09 WARNING(\"roots:g failed: Inf detected for output x, at (row 0, col 0).\") [.../casadi/core/oracle_function.cpp:326]\n",
      "CasADi - 2024-06-28 10:12:09 WARNING(\"roots:g failed: Inf detected for output x, at (row 0, col 0).\") [.../casadi/core/oracle_function.cpp:326]\n",
      "CasADi - 2024-06-28 10:12:09 WARNING(\"roots:g failed: Inf detected for output x, at (row 0, col 0).\") [.../casadi/core/oracle_function.cpp:326]\n",
      "CasADi - 2024-06-28 10:12:09 WARNING(\"roots:g failed: Inf detected for output x, at (row 0, col 0).\") [.../casadi/core/oracle_function.cpp:326]\n"
     ]
    },
    {
     "name": "stdout",
     "output_type": "stream",
     "text": [
      "Solver failed for parameters: [5.26718750e-05 6.67578125e-05 1.85546875e-05 7.37890625e-01\n",
      " 5.67968750e-01 5.22656250e-06 4.10156250e-06 1.03007812e+03\n",
      " 1.49218750e+02 3.78906250e+00 1.57031250e+00 1.52031250e+00\n",
      " 1.50156250e+00 2.78554688e+04 6.44726562e+04] with error: Events ['Maximum voltage [V]'] are non-positive at initial conditions\n"
     ]
    },
    {
     "name": "stderr",
     "output_type": "stream",
     "text": [
      "CasADi - 2024-06-28 10:12:10 WARNING(\"roots:g failed: Inf detected for output x, at (row 0, col 0).\") [.../casadi/core/oracle_function.cpp:326]\n",
      "CasADi - 2024-06-28 10:12:10 WARNING(\"roots:g failed: Inf detected for output x, at (row 0, col 0).\") [.../casadi/core/oracle_function.cpp:326]\n",
      "CasADi - 2024-06-28 10:12:10 WARNING(\"roots:g failed: Inf detected for output x, at (row 0, col 0).\") [.../casadi/core/oracle_function.cpp:326]\n",
      "CasADi - 2024-06-28 10:12:10 WARNING(\"roots:g failed: Inf detected for output x, at (row 0, col 0).\") [.../casadi/core/oracle_function.cpp:326]\n",
      "CasADi - 2024-06-28 10:12:10 WARNING(\"roots:g failed: Inf detected for output x, at (row 0, col 0).\") [.../casadi/core/oracle_function.cpp:326]\n"
     ]
    },
    {
     "name": "stdout",
     "output_type": "stream",
     "text": [
      "Solver failed for parameters: [5.26718750e-05 6.67578125e-05 1.85546875e-05 7.37890625e-01\n",
      " 5.67968750e-01 5.22656250e-06 4.10156250e-06 1.03007812e+03\n",
      " 1.58593750e+02 9.80468750e+00 1.57031250e+00 1.52031250e+00\n",
      " 1.50156250e+00 2.78554688e+04 6.44726562e+04] with error: Events ['Maximum voltage [V]'] are non-positive at initial conditions\n"
     ]
    },
    {
     "name": "stderr",
     "output_type": "stream",
     "text": [
      "CasADi - 2024-06-28 10:12:10 WARNING(\"roots:g failed: Inf detected for output x, at (row 0, col 0).\") [.../casadi/core/oracle_function.cpp:326]\n",
      "CasADi - 2024-06-28 10:12:10 WARNING(\"roots:g failed: Inf detected for output x, at (row 0, col 0).\") [.../casadi/core/oracle_function.cpp:326]\n",
      "CasADi - 2024-06-28 10:12:10 WARNING(\"roots:g failed: Inf detected for output x, at (row 0, col 0).\") [.../casadi/core/oracle_function.cpp:326]\n",
      "CasADi - 2024-06-28 10:12:10 WARNING(\"roots:g failed: Inf detected for output x, at (row 0, col 0).\") [.../casadi/core/oracle_function.cpp:326]\n",
      "CasADi - 2024-06-28 10:12:10 WARNING(\"roots:g failed: Inf detected for output x, at (row 0, col 0).\") [.../casadi/core/oracle_function.cpp:326]\n"
     ]
    },
    {
     "name": "stdout",
     "output_type": "stream",
     "text": [
      "Solver failed for parameters: [5.26718750e-05 6.67578125e-05 1.85546875e-05 7.37890625e-01\n",
      " 5.67968750e-01 5.22656250e-06 4.10156250e-06 1.03007812e+03\n",
      " 1.58593750e+02 3.78906250e+00 1.34843750e+00 1.52031250e+00\n",
      " 1.50156250e+00 2.78554688e+04 6.44726562e+04] with error: Events ['Maximum voltage [V]'] are non-positive at initial conditions\n"
     ]
    },
    {
     "name": "stderr",
     "output_type": "stream",
     "text": [
      "CasADi - 2024-06-28 10:12:11 WARNING(\"roots:g failed: Inf detected for output x, at (row 0, col 0).\") [.../casadi/core/oracle_function.cpp:326]\n",
      "CasADi - 2024-06-28 10:12:11 WARNING(\"roots:g failed: Inf detected for output x, at (row 0, col 0).\") [.../casadi/core/oracle_function.cpp:326]\n",
      "CasADi - 2024-06-28 10:12:11 WARNING(\"roots:g failed: Inf detected for output x, at (row 0, col 0).\") [.../casadi/core/oracle_function.cpp:326]\n",
      "CasADi - 2024-06-28 10:12:11 WARNING(\"roots:g failed: Inf detected for output x, at (row 0, col 0).\") [.../casadi/core/oracle_function.cpp:326]\n",
      "CasADi - 2024-06-28 10:12:11 WARNING(\"roots:g failed: Inf detected for output x, at (row 0, col 0).\") [.../casadi/core/oracle_function.cpp:326]\n"
     ]
    },
    {
     "name": "stdout",
     "output_type": "stream",
     "text": [
      "Solver failed for parameters: [5.26718750e-05 6.67578125e-05 1.85546875e-05 7.37890625e-01\n",
      " 5.67968750e-01 5.22656250e-06 4.10156250e-06 1.03007812e+03\n",
      " 1.58593750e+02 3.78906250e+00 1.57031250e+00 1.36093750e+00\n",
      " 1.50156250e+00 2.78554688e+04 6.44726562e+04] with error: Events ['Maximum voltage [V]'] are non-positive at initial conditions\n"
     ]
    },
    {
     "name": "stderr",
     "output_type": "stream",
     "text": [
      "CasADi - 2024-06-28 10:12:11 WARNING(\"roots:g failed: Inf detected for output x, at (row 0, col 0).\") [.../casadi/core/oracle_function.cpp:326]\n",
      "CasADi - 2024-06-28 10:12:11 WARNING(\"roots:g failed: Inf detected for output x, at (row 0, col 0).\") [.../casadi/core/oracle_function.cpp:326]\n",
      "CasADi - 2024-06-28 10:12:11 WARNING(\"roots:g failed: Inf detected for output x, at (row 0, col 0).\") [.../casadi/core/oracle_function.cpp:326]\n",
      "CasADi - 2024-06-28 10:12:11 WARNING(\"roots:g failed: Inf detected for output x, at (row 0, col 0).\") [.../casadi/core/oracle_function.cpp:326]\n",
      "CasADi - 2024-06-28 10:12:11 WARNING(\"roots:g failed: Inf detected for output x, at (row 0, col 0).\") [.../casadi/core/oracle_function.cpp:326]\n"
     ]
    },
    {
     "name": "stdout",
     "output_type": "stream",
     "text": [
      "Solver failed for parameters: [5.26718750e-05 6.67578125e-05 1.85546875e-05 7.37890625e-01\n",
      " 5.67968750e-01 5.22656250e-06 4.10156250e-06 1.03007812e+03\n",
      " 1.58593750e+02 3.78906250e+00 1.57031250e+00 1.52031250e+00\n",
      " 1.46093750e+00 2.78554688e+04 6.44726562e+04] with error: Events ['Maximum voltage [V]'] are non-positive at initial conditions\n"
     ]
    },
    {
     "name": "stderr",
     "output_type": "stream",
     "text": [
      "CasADi - 2024-06-28 10:12:13 WARNING(\"roots:g failed: Inf detected for output x, at (row 0, col 0).\") [.../casadi/core/oracle_function.cpp:326]\n",
      "CasADi - 2024-06-28 10:12:13 WARNING(\"roots:g failed: Inf detected for output x, at (row 0, col 0).\") [.../casadi/core/oracle_function.cpp:326]\n",
      "CasADi - 2024-06-28 10:12:13 WARNING(\"roots:g failed: Inf detected for output x, at (row 0, col 0).\") [.../casadi/core/oracle_function.cpp:326]\n",
      "CasADi - 2024-06-28 10:12:13 WARNING(\"roots:g failed: Inf detected for output x, at (row 0, col 0).\") [.../casadi/core/oracle_function.cpp:326]\n",
      "CasADi - 2024-06-28 10:12:13 WARNING(\"roots:g failed: Inf detected for output x, at (row 0, col 0).\") [.../casadi/core/oracle_function.cpp:326]\n"
     ]
    },
    {
     "name": "stdout",
     "output_type": "stream",
     "text": [
      "Solver failed for parameters: [5.26718750e-05 6.67578125e-05 1.85546875e-05 7.37890625e-01\n",
      " 5.67968750e-01 5.22656250e-06 4.10156250e-06 1.03007812e+03\n",
      " 1.58593750e+02 3.78906250e+00 1.57031250e+00 1.52031250e+00\n",
      " 1.50156250e+00 2.78554688e+04 6.13085938e+04] with error: Events ['Maximum voltage [V]'] are non-positive at initial conditions\n"
     ]
    },
    {
     "name": "stderr",
     "output_type": "stream",
     "text": [
      "CasADi - 2024-06-28 10:12:31 WARNING(\"roots:g failed: Inf detected for output x, at (row 0, col 0).\") [.../casadi/core/oracle_function.cpp:326]\n",
      "CasADi - 2024-06-28 10:12:31 WARNING(\"roots:g failed: Inf detected for output x, at (row 0, col 0).\") [.../casadi/core/oracle_function.cpp:326]\n",
      "CasADi - 2024-06-28 10:12:31 WARNING(\"roots:g failed: Inf detected for output x, at (row 0, col 0).\") [.../casadi/core/oracle_function.cpp:326]\n",
      "CasADi - 2024-06-28 10:12:31 WARNING(\"roots:g failed: Inf detected for output x, at (row 0, col 0).\") [.../casadi/core/oracle_function.cpp:326]\n",
      "CasADi - 2024-06-28 10:12:31 WARNING(\"roots:g failed: Inf detected for output x, at (row 0, col 0).\") [.../casadi/core/oracle_function.cpp:326]\n"
     ]
    },
    {
     "name": "stdout",
     "output_type": "stream",
     "text": [
      "Solver failed for parameters: [5.26718750e-05 5.98515625e-05 1.66796875e-05 7.26953125e-01\n",
      " 5.49218750e-01 4.08593750e-06 5.74218750e-06 1.03476562e+03\n",
      " 1.49218750e+02 9.80468750e+00 1.34843750e+00 1.36093750e+00\n",
      " 1.46093750e+00 2.78554688e+04 6.13085938e+04] with error: Events ['Maximum voltage [V]'] are non-positive at initial conditions\n"
     ]
    },
    {
     "name": "stderr",
     "output_type": "stream",
     "text": [
      "CasADi - 2024-06-28 10:12:34 WARNING(\"roots:g failed: Inf detected for output x, at (row 0, col 0).\") [.../casadi/core/oracle_function.cpp:326]\n",
      "CasADi - 2024-06-28 10:12:34 WARNING(\"roots:g failed: Inf detected for output x, at (row 0, col 0).\") [.../casadi/core/oracle_function.cpp:326]\n",
      "CasADi - 2024-06-28 10:12:34 WARNING(\"roots:g failed: Inf detected for output x, at (row 0, col 0).\") [.../casadi/core/oracle_function.cpp:326]\n",
      "CasADi - 2024-06-28 10:12:34 WARNING(\"roots:g failed: Inf detected for output x, at (row 0, col 0).\") [.../casadi/core/oracle_function.cpp:326]\n",
      "CasADi - 2024-06-28 10:12:34 WARNING(\"roots:g failed: Inf detected for output x, at (row 0, col 0).\") [.../casadi/core/oracle_function.cpp:326]\n"
     ]
    },
    {
     "name": "stdout",
     "output_type": "stream",
     "text": [
      "Solver failed for parameters: [5.37968750e-05 5.45703125e-05 1.19921875e-05 7.59765625e-01\n",
      " 6.36718750e-01 4.66406250e-06 4.66406250e-06 1.17070312e+03\n",
      " 1.77343750e+02 9.72656250e+00 1.55781250e+00 1.63281250e+00\n",
      " 1.48906250e+00 2.61367188e+04 5.55664062e+04] with error: Events ['Maximum voltage [V]'] are non-positive at initial conditions\n"
     ]
    },
    {
     "name": "stderr",
     "output_type": "stream",
     "text": [
      "CasADi - 2024-06-28 10:12:35 WARNING(\"roots:g failed: Inf detected for output x, at (row 0, col 0).\") [.../casadi/core/oracle_function.cpp:326]\n",
      "CasADi - 2024-06-28 10:12:35 WARNING(\"roots:g failed: Inf detected for output x, at (row 0, col 0).\") [.../casadi/core/oracle_function.cpp:326]\n",
      "CasADi - 2024-06-28 10:12:35 WARNING(\"roots:g failed: Inf detected for output x, at (row 0, col 0).\") [.../casadi/core/oracle_function.cpp:326]\n",
      "CasADi - 2024-06-28 10:12:35 WARNING(\"roots:g failed: Inf detected for output x, at (row 0, col 0).\") [.../casadi/core/oracle_function.cpp:326]\n"
     ]
    },
    {
     "name": "stdout",
     "output_type": "stream",
     "text": [
      "Solver failed for parameters: [7.85468750e-05 5.45703125e-05 1.19921875e-05 7.59765625e-01\n",
      " 6.36718750e-01 4.66406250e-06 4.66406250e-06 1.17070312e+03\n",
      " 1.77343750e+02 9.72656250e+00 1.55781250e+00 1.63281250e+00\n",
      " 1.48906250e+00 2.61367188e+04 5.55664062e+04] with error: Events ['Maximum voltage [V]'] are non-positive at initial conditions\n"
     ]
    },
    {
     "name": "stderr",
     "output_type": "stream",
     "text": [
      "CasADi - 2024-06-28 10:12:35 WARNING(\"roots:g failed: Inf detected for output x, at (row 0, col 0).\") [.../casadi/core/oracle_function.cpp:326]\n",
      "CasADi - 2024-06-28 10:12:35 WARNING(\"roots:g failed: Inf detected for output x, at (row 0, col 0).\") [.../casadi/core/oracle_function.cpp:326]\n",
      "CasADi - 2024-06-28 10:12:35 WARNING(\"roots:g failed: Inf detected for output x, at (row 0, col 0).\") [.../casadi/core/oracle_function.cpp:326]\n",
      "CasADi - 2024-06-28 10:12:35 WARNING(\"roots:g failed: Inf detected for output x, at (row 0, col 0).\") [.../casadi/core/oracle_function.cpp:326]\n",
      "CasADi - 2024-06-28 10:12:35 WARNING(\"roots:g failed: Inf detected for output x, at (row 0, col 0).\") [.../casadi/core/oracle_function.cpp:326]\n"
     ]
    },
    {
     "name": "stdout",
     "output_type": "stream",
     "text": [
      "Solver failed for parameters: [5.37968750e-05 5.90390625e-05 1.19921875e-05 7.59765625e-01\n",
      " 6.36718750e-01 4.66406250e-06 4.66406250e-06 1.17070312e+03\n",
      " 1.77343750e+02 9.72656250e+00 1.55781250e+00 1.63281250e+00\n",
      " 1.48906250e+00 2.61367188e+04 5.55664062e+04] with error: Events ['Maximum voltage [V]'] are non-positive at initial conditions\n"
     ]
    },
    {
     "name": "stderr",
     "output_type": "stream",
     "text": [
      "CasADi - 2024-06-28 10:12:35 WARNING(\"roots:g failed: Inf detected for output x, at (row 0, col 0).\") [.../casadi/core/oracle_function.cpp:326]\n",
      "CasADi - 2024-06-28 10:12:35 WARNING(\"roots:g failed: Inf detected for output x, at (row 0, col 0).\") [.../casadi/core/oracle_function.cpp:326]\n",
      "CasADi - 2024-06-28 10:12:35 WARNING(\"roots:g failed: Inf detected for output x, at (row 0, col 0).\") [.../casadi/core/oracle_function.cpp:326]\n",
      "CasADi - 2024-06-28 10:12:35 WARNING(\"roots:g failed: Inf detected for output x, at (row 0, col 0).\") [.../casadi/core/oracle_function.cpp:326]\n",
      "CasADi - 2024-06-28 10:12:35 WARNING(\"roots:g failed: Inf detected for output x, at (row 0, col 0).\") [.../casadi/core/oracle_function.cpp:326]\n"
     ]
    },
    {
     "name": "stdout",
     "output_type": "stream",
     "text": [
      "Solver failed for parameters: [5.37968750e-05 5.45703125e-05 1.76171875e-05 7.59765625e-01\n",
      " 6.36718750e-01 4.66406250e-06 4.66406250e-06 1.17070312e+03\n",
      " 1.77343750e+02 9.72656250e+00 1.55781250e+00 1.63281250e+00\n",
      " 1.48906250e+00 2.61367188e+04 5.55664062e+04] with error: Events ['Maximum voltage [V]'] are non-positive at initial conditions\n"
     ]
    },
    {
     "name": "stderr",
     "output_type": "stream",
     "text": [
      "CasADi - 2024-06-28 10:12:36 WARNING(\"roots:g failed: Inf detected for output x, at (row 0, col 0).\") [.../casadi/core/oracle_function.cpp:326]\n",
      "CasADi - 2024-06-28 10:12:36 WARNING(\"roots:g failed: Inf detected for output x, at (row 0, col 0).\") [.../casadi/core/oracle_function.cpp:326]\n",
      "CasADi - 2024-06-28 10:12:36 WARNING(\"roots:g failed: Inf detected for output x, at (row 0, col 0).\") [.../casadi/core/oracle_function.cpp:326]\n",
      "CasADi - 2024-06-28 10:12:36 WARNING(\"roots:g failed: Inf detected for output x, at (row 0, col 0).\") [.../casadi/core/oracle_function.cpp:326]\n",
      "CasADi - 2024-06-28 10:12:36 WARNING(\"roots:g failed: Inf detected for output x, at (row 0, col 0).\") [.../casadi/core/oracle_function.cpp:326]\n"
     ]
    },
    {
     "name": "stdout",
     "output_type": "stream",
     "text": [
      "Solver failed for parameters: [5.37968750e-05 5.45703125e-05 1.19921875e-05 7.86328125e-01\n",
      " 6.36718750e-01 4.66406250e-06 4.66406250e-06 1.17070312e+03\n",
      " 1.77343750e+02 9.72656250e+00 1.55781250e+00 1.63281250e+00\n",
      " 1.48906250e+00 2.61367188e+04 5.55664062e+04] with error: Events ['Maximum voltage [V]'] are non-positive at initial conditions\n"
     ]
    },
    {
     "name": "stderr",
     "output_type": "stream",
     "text": [
      "CasADi - 2024-06-28 10:12:36 WARNING(\"roots:g failed: Inf detected for output x, at (row 0, col 0).\") [.../casadi/core/oracle_function.cpp:326]\n",
      "CasADi - 2024-06-28 10:12:36 WARNING(\"roots:g failed: Inf detected for output x, at (row 0, col 0).\") [.../casadi/core/oracle_function.cpp:326]\n",
      "CasADi - 2024-06-28 10:12:36 WARNING(\"roots:g failed: Inf detected for output x, at (row 0, col 0).\") [.../casadi/core/oracle_function.cpp:326]\n",
      "CasADi - 2024-06-28 10:12:36 WARNING(\"roots:g failed: Inf detected for output x, at (row 0, col 0).\") [.../casadi/core/oracle_function.cpp:326]\n",
      "CasADi - 2024-06-28 10:12:36 WARNING(\"roots:g failed: Inf detected for output x, at (row 0, col 0).\") [.../casadi/core/oracle_function.cpp:326]\n"
     ]
    },
    {
     "name": "stdout",
     "output_type": "stream",
     "text": [
      "Solver failed for parameters: [5.37968750e-05 5.45703125e-05 1.19921875e-05 7.59765625e-01\n",
      " 6.05468750e-01 4.66406250e-06 4.66406250e-06 1.17070312e+03\n",
      " 1.77343750e+02 9.72656250e+00 1.55781250e+00 1.63281250e+00\n",
      " 1.48906250e+00 2.61367188e+04 5.55664062e+04] with error: Events ['Maximum voltage [V]'] are non-positive at initial conditions\n"
     ]
    },
    {
     "name": "stderr",
     "output_type": "stream",
     "text": [
      "CasADi - 2024-06-28 10:12:37 WARNING(\"roots:g failed: Inf detected for output x, at (row 0, col 0).\") [.../casadi/core/oracle_function.cpp:326]\n",
      "CasADi - 2024-06-28 10:12:37 WARNING(\"roots:g failed: Inf detected for output x, at (row 0, col 0).\") [.../casadi/core/oracle_function.cpp:326]\n",
      "CasADi - 2024-06-28 10:12:37 WARNING(\"roots:g failed: Inf detected for output x, at (row 0, col 0).\") [.../casadi/core/oracle_function.cpp:326]\n",
      "CasADi - 2024-06-28 10:12:37 WARNING(\"roots:g failed: Inf detected for output x, at (row 0, col 0).\") [.../casadi/core/oracle_function.cpp:326]\n",
      "CasADi - 2024-06-28 10:12:37 WARNING(\"roots:g failed: Inf detected for output x, at (row 0, col 0).\") [.../casadi/core/oracle_function.cpp:326]\n"
     ]
    },
    {
     "name": "stdout",
     "output_type": "stream",
     "text": [
      "Solver failed for parameters: [5.37968750e-05 5.45703125e-05 1.19921875e-05 7.59765625e-01\n",
      " 6.36718750e-01 4.77343750e-06 4.66406250e-06 1.17070312e+03\n",
      " 1.77343750e+02 9.72656250e+00 1.55781250e+00 1.63281250e+00\n",
      " 1.48906250e+00 2.61367188e+04 5.55664062e+04] with error: Events ['Maximum voltage [V]'] are non-positive at initial conditions\n"
     ]
    },
    {
     "name": "stderr",
     "output_type": "stream",
     "text": [
      "CasADi - 2024-06-28 10:12:37 WARNING(\"roots:g failed: Inf detected for output x, at (row 0, col 0).\") [.../casadi/core/oracle_function.cpp:326]\n",
      "CasADi - 2024-06-28 10:12:37 WARNING(\"roots:g failed: Inf detected for output x, at (row 0, col 0).\") [.../casadi/core/oracle_function.cpp:326]\n",
      "CasADi - 2024-06-28 10:12:37 WARNING(\"roots:g failed: Inf detected for output x, at (row 0, col 0).\") [.../casadi/core/oracle_function.cpp:326]\n",
      "CasADi - 2024-06-28 10:12:37 WARNING(\"roots:g failed: Inf detected for output x, at (row 0, col 0).\") [.../casadi/core/oracle_function.cpp:326]\n",
      "CasADi - 2024-06-28 10:12:37 WARNING(\"roots:g failed: Inf detected for output x, at (row 0, col 0).\") [.../casadi/core/oracle_function.cpp:326]\n"
     ]
    },
    {
     "name": "stdout",
     "output_type": "stream",
     "text": [
      "Solver failed for parameters: [5.37968750e-05 5.45703125e-05 1.19921875e-05 7.59765625e-01\n",
      " 6.36718750e-01 4.66406250e-06 5.80468750e-06 1.17070312e+03\n",
      " 1.77343750e+02 9.72656250e+00 1.55781250e+00 1.63281250e+00\n",
      " 1.48906250e+00 2.61367188e+04 5.55664062e+04] with error: Events ['Maximum voltage [V]'] are non-positive at initial conditions\n"
     ]
    },
    {
     "name": "stderr",
     "output_type": "stream",
     "text": [
      "CasADi - 2024-06-28 10:12:38 WARNING(\"roots:g failed: Inf detected for output x, at (row 0, col 0).\") [.../casadi/core/oracle_function.cpp:326]\n",
      "CasADi - 2024-06-28 10:12:38 WARNING(\"roots:g failed: Inf detected for output x, at (row 0, col 0).\") [.../casadi/core/oracle_function.cpp:326]\n",
      "CasADi - 2024-06-28 10:12:38 WARNING(\"roots:g failed: Inf detected for output x, at (row 0, col 0).\") [.../casadi/core/oracle_function.cpp:326]\n",
      "CasADi - 2024-06-28 10:12:38 WARNING(\"roots:g failed: Inf detected for output x, at (row 0, col 0).\") [.../casadi/core/oracle_function.cpp:326]\n",
      "CasADi - 2024-06-28 10:12:38 WARNING(\"roots:g failed: Inf detected for output x, at (row 0, col 0).\") [.../casadi/core/oracle_function.cpp:326]\n"
     ]
    },
    {
     "name": "stdout",
     "output_type": "stream",
     "text": [
      "Solver failed for parameters: [5.37968750e-05 5.45703125e-05 1.19921875e-05 7.59765625e-01\n",
      " 6.36718750e-01 4.66406250e-06 4.66406250e-06 1.04414062e+03\n",
      " 1.77343750e+02 9.72656250e+00 1.55781250e+00 1.63281250e+00\n",
      " 1.48906250e+00 2.61367188e+04 5.55664062e+04] with error: Events ['Maximum voltage [V]'] are non-positive at initial conditions\n"
     ]
    },
    {
     "name": "stderr",
     "output_type": "stream",
     "text": [
      "CasADi - 2024-06-28 10:12:39 WARNING(\"roots:g failed: Inf detected for output x, at (row 0, col 0).\") [.../casadi/core/oracle_function.cpp:326]\n",
      "CasADi - 2024-06-28 10:12:39 WARNING(\"roots:g failed: Inf detected for output x, at (row 0, col 0).\") [.../casadi/core/oracle_function.cpp:326]\n",
      "CasADi - 2024-06-28 10:12:39 WARNING(\"roots:g failed: Inf detected for output x, at (row 0, col 0).\") [.../casadi/core/oracle_function.cpp:326]\n",
      "CasADi - 2024-06-28 10:12:39 WARNING(\"roots:g failed: Inf detected for output x, at (row 0, col 0).\") [.../casadi/core/oracle_function.cpp:326]\n",
      "CasADi - 2024-06-28 10:12:39 WARNING(\"roots:g failed: Inf detected for output x, at (row 0, col 0).\") [.../casadi/core/oracle_function.cpp:326]\n"
     ]
    },
    {
     "name": "stdout",
     "output_type": "stream",
     "text": [
      "Solver failed for parameters: [5.37968750e-05 5.45703125e-05 1.19921875e-05 7.59765625e-01\n",
      " 6.36718750e-01 4.66406250e-06 4.66406250e-06 1.17070312e+03\n",
      " 1.92968750e+02 9.72656250e+00 1.55781250e+00 1.63281250e+00\n",
      " 1.48906250e+00 2.61367188e+04 5.55664062e+04] with error: Events ['Maximum voltage [V]'] are non-positive at initial conditions\n"
     ]
    },
    {
     "name": "stderr",
     "output_type": "stream",
     "text": [
      "CasADi - 2024-06-28 10:12:39 WARNING(\"roots:g failed: Inf detected for output x, at (row 0, col 0).\") [.../casadi/core/oracle_function.cpp:326]\n",
      "CasADi - 2024-06-28 10:12:39 WARNING(\"roots:g failed: Inf detected for output x, at (row 0, col 0).\") [.../casadi/core/oracle_function.cpp:326]\n",
      "CasADi - 2024-06-28 10:12:39 WARNING(\"roots:g failed: Inf detected for output x, at (row 0, col 0).\") [.../casadi/core/oracle_function.cpp:326]\n",
      "CasADi - 2024-06-28 10:12:39 WARNING(\"roots:g failed: Inf detected for output x, at (row 0, col 0).\") [.../casadi/core/oracle_function.cpp:326]\n",
      "CasADi - 2024-06-28 10:12:39 WARNING(\"roots:g failed: Inf detected for output x, at (row 0, col 0).\") [.../casadi/core/oracle_function.cpp:326]\n"
     ]
    },
    {
     "name": "stdout",
     "output_type": "stream",
     "text": [
      "Solver failed for parameters: [5.37968750e-05 5.45703125e-05 1.19921875e-05 7.59765625e-01\n",
      " 6.36718750e-01 4.66406250e-06 4.66406250e-06 1.17070312e+03\n",
      " 1.77343750e+02 1.36718750e+00 1.55781250e+00 1.63281250e+00\n",
      " 1.48906250e+00 2.61367188e+04 5.55664062e+04] with error: Events ['Maximum voltage [V]'] are non-positive at initial conditions\n"
     ]
    },
    {
     "name": "stderr",
     "output_type": "stream",
     "text": [
      "CasADi - 2024-06-28 10:12:39 WARNING(\"roots:g failed: Inf detected for output x, at (row 0, col 0).\") [.../casadi/core/oracle_function.cpp:326]\n",
      "CasADi - 2024-06-28 10:12:39 WARNING(\"roots:g failed: Inf detected for output x, at (row 0, col 0).\") [.../casadi/core/oracle_function.cpp:326]\n",
      "CasADi - 2024-06-28 10:12:39 WARNING(\"roots:g failed: Inf detected for output x, at (row 0, col 0).\") [.../casadi/core/oracle_function.cpp:326]\n",
      "CasADi - 2024-06-28 10:12:39 WARNING(\"roots:g failed: Inf detected for output x, at (row 0, col 0).\") [.../casadi/core/oracle_function.cpp:326]\n",
      "CasADi - 2024-06-28 10:12:39 WARNING(\"roots:g failed: Inf detected for output x, at (row 0, col 0).\") [.../casadi/core/oracle_function.cpp:326]\n"
     ]
    },
    {
     "name": "stdout",
     "output_type": "stream",
     "text": [
      "Solver failed for parameters: [5.37968750e-05 5.45703125e-05 1.19921875e-05 7.59765625e-01\n",
      " 6.36718750e-01 4.66406250e-06 4.66406250e-06 1.17070312e+03\n",
      " 1.77343750e+02 9.72656250e+00 1.51093750e+00 1.63281250e+00\n",
      " 1.48906250e+00 2.61367188e+04 5.55664062e+04] with error: Events ['Maximum voltage [V]'] are non-positive at initial conditions\n"
     ]
    },
    {
     "name": "stderr",
     "output_type": "stream",
     "text": [
      "CasADi - 2024-06-28 10:12:40 WARNING(\"roots:g failed: Inf detected for output x, at (row 0, col 0).\") [.../casadi/core/oracle_function.cpp:326]\n",
      "CasADi - 2024-06-28 10:12:40 WARNING(\"roots:g failed: Inf detected for output x, at (row 0, col 0).\") [.../casadi/core/oracle_function.cpp:326]\n",
      "CasADi - 2024-06-28 10:12:40 WARNING(\"roots:g failed: Inf detected for output x, at (row 0, col 0).\") [.../casadi/core/oracle_function.cpp:326]\n",
      "CasADi - 2024-06-28 10:12:40 WARNING(\"roots:g failed: Inf detected for output x, at (row 0, col 0).\") [.../casadi/core/oracle_function.cpp:326]\n",
      "CasADi - 2024-06-28 10:12:40 WARNING(\"roots:g failed: Inf detected for output x, at (row 0, col 0).\") [.../casadi/core/oracle_function.cpp:326]\n"
     ]
    },
    {
     "name": "stdout",
     "output_type": "stream",
     "text": [
      "Solver failed for parameters: [5.37968750e-05 5.45703125e-05 1.19921875e-05 7.59765625e-01\n",
      " 6.36718750e-01 4.66406250e-06 4.66406250e-06 1.17070312e+03\n",
      " 1.77343750e+02 9.72656250e+00 1.55781250e+00 1.39843750e+00\n",
      " 1.48906250e+00 2.61367188e+04 5.55664062e+04] with error: Events ['Maximum voltage [V]'] are non-positive at initial conditions\n"
     ]
    },
    {
     "name": "stderr",
     "output_type": "stream",
     "text": [
      "CasADi - 2024-06-28 10:12:40 WARNING(\"roots:g failed: Inf detected for output x, at (row 0, col 0).\") [.../casadi/core/oracle_function.cpp:326]\n",
      "CasADi - 2024-06-28 10:12:40 WARNING(\"roots:g failed: Inf detected for output x, at (row 0, col 0).\") [.../casadi/core/oracle_function.cpp:326]\n",
      "CasADi - 2024-06-28 10:12:40 WARNING(\"roots:g failed: Inf detected for output x, at (row 0, col 0).\") [.../casadi/core/oracle_function.cpp:326]\n",
      "CasADi - 2024-06-28 10:12:40 WARNING(\"roots:g failed: Inf detected for output x, at (row 0, col 0).\") [.../casadi/core/oracle_function.cpp:326]\n",
      "CasADi - 2024-06-28 10:12:40 WARNING(\"roots:g failed: Inf detected for output x, at (row 0, col 0).\") [.../casadi/core/oracle_function.cpp:326]\n"
     ]
    },
    {
     "name": "stdout",
     "output_type": "stream",
     "text": [
      "Solver failed for parameters: [5.37968750e-05 5.45703125e-05 1.19921875e-05 7.59765625e-01\n",
      " 6.36718750e-01 4.66406250e-06 4.66406250e-06 1.17070312e+03\n",
      " 1.77343750e+02 9.72656250e+00 1.55781250e+00 1.63281250e+00\n",
      " 1.47343750e+00 2.61367188e+04 5.55664062e+04] with error: Events ['Maximum voltage [V]'] are non-positive at initial conditions\n"
     ]
    },
    {
     "name": "stderr",
     "output_type": "stream",
     "text": [
      "CasADi - 2024-06-28 10:12:42 WARNING(\"roots:g failed: Inf detected for output x, at (row 0, col 0).\") [.../casadi/core/oracle_function.cpp:326]\n",
      "CasADi - 2024-06-28 10:12:42 WARNING(\"roots:g failed: Inf detected for output x, at (row 0, col 0).\") [.../casadi/core/oracle_function.cpp:326]\n",
      "CasADi - 2024-06-28 10:12:42 WARNING(\"roots:g failed: Inf detected for output x, at (row 0, col 0).\") [.../casadi/core/oracle_function.cpp:326]\n",
      "CasADi - 2024-06-28 10:12:42 WARNING(\"roots:g failed: Inf detected for output x, at (row 0, col 0).\") [.../casadi/core/oracle_function.cpp:326]\n",
      "CasADi - 2024-06-28 10:12:42 WARNING(\"roots:g failed: Inf detected for output x, at (row 0, col 0).\") [.../casadi/core/oracle_function.cpp:326]\n"
     ]
    },
    {
     "name": "stdout",
     "output_type": "stream",
     "text": [
      "Solver failed for parameters: [5.37968750e-05 5.45703125e-05 1.19921875e-05 7.59765625e-01\n",
      " 6.36718750e-01 4.66406250e-06 4.66406250e-06 1.17070312e+03\n",
      " 1.77343750e+02 9.72656250e+00 1.55781250e+00 1.63281250e+00\n",
      " 1.48906250e+00 2.61367188e+04 5.05273438e+04] with error: Events ['Maximum voltage [V]'] are non-positive at initial conditions\n"
     ]
    },
    {
     "name": "stderr",
     "output_type": "stream",
     "text": [
      "CasADi - 2024-06-28 10:13:01 WARNING(\"roots:g failed: Inf detected for output x, at (row 0, col 0).\") [.../casadi/core/oracle_function.cpp:326]\n",
      "CasADi - 2024-06-28 10:13:01 WARNING(\"roots:g failed: Inf detected for output x, at (row 0, col 0).\") [.../casadi/core/oracle_function.cpp:326]\n",
      "CasADi - 2024-06-28 10:13:01 WARNING(\"roots:g failed: Inf detected for output x, at (row 0, col 0).\") [.../casadi/core/oracle_function.cpp:326]\n",
      "CasADi - 2024-06-28 10:13:01 WARNING(\"roots:g failed: Inf detected for output x, at (row 0, col 0).\") [.../casadi/core/oracle_function.cpp:326]\n",
      "CasADi - 2024-06-28 10:13:01 WARNING(\"roots:g failed: Inf detected for output x, at (row 0, col 0).\") [.../casadi/core/oracle_function.cpp:326]\n"
     ]
    },
    {
     "name": "stdout",
     "output_type": "stream",
     "text": [
      "Solver failed for parameters: [7.85468750e-05 5.90390625e-05 1.76171875e-05 7.86328125e-01\n",
      " 6.05468750e-01 4.77343750e-06 5.80468750e-06 1.04414062e+03\n",
      " 1.92968750e+02 1.36718750e+00 1.51093750e+00 1.39843750e+00\n",
      " 1.47343750e+00 2.61367188e+04 5.05273438e+04] with error: Events ['Maximum voltage [V]'] are non-positive at initial conditions\n"
     ]
    },
    {
     "name": "stderr",
     "output_type": "stream",
     "text": [
      "CasADi - 2024-06-28 10:13:23 WARNING(\"roots:g failed: Inf detected for output x, at (row 0, col 0).\") [.../casadi/core/oracle_function.cpp:326]\n",
      "CasADi - 2024-06-28 10:13:23 WARNING(\"roots:g failed: Inf detected for output x, at (row 0, col 0).\") [.../casadi/core/oracle_function.cpp:326]\n",
      "CasADi - 2024-06-28 10:13:23 WARNING(\"roots:g failed: Inf detected for output x, at (row 0, col 0).\") [.../casadi/core/oracle_function.cpp:326]\n",
      "CasADi - 2024-06-28 10:13:23 WARNING(\"roots:g failed: Inf detected for output x, at (row 0, col 0).\") [.../casadi/core/oracle_function.cpp:326]\n",
      "CasADi - 2024-06-28 10:13:23 WARNING(\"roots:g failed: Inf detected for output x, at (row 0, col 0).\") [.../casadi/core/oracle_function.cpp:326]\n"
     ]
    },
    {
     "name": "stdout",
     "output_type": "stream",
     "text": [
      "Solver failed for parameters: [7.17968750e-05 6.75703125e-05 1.69921875e-05 7.09765625e-01\n",
      " 5.36718750e-01 5.66406250e-06 5.66406250e-06 1.02070312e+03\n",
      " 2.77343750e+02 4.72656250e+00 1.35781250e+00 1.43281250e+00\n",
      " 1.68906250e+00 2.54492188e+04 6.30664062e+04] with error: Events ['Maximum voltage [V]'] are non-positive at initial conditions\n"
     ]
    },
    {
     "name": "stderr",
     "output_type": "stream",
     "text": [
      "CasADi - 2024-06-28 10:13:25 WARNING(\"roots:g failed: Inf detected for output x, at (row 0, col 0).\") [.../casadi/core/oracle_function.cpp:326]\n",
      "CasADi - 2024-06-28 10:13:25 WARNING(\"roots:g failed: Inf detected for output x, at (row 0, col 0).\") [.../casadi/core/oracle_function.cpp:326]\n",
      "CasADi - 2024-06-28 10:13:25 WARNING(\"roots:g failed: Inf detected for output x, at (row 0, col 0).\") [.../casadi/core/oracle_function.cpp:326]\n",
      "CasADi - 2024-06-28 10:13:25 WARNING(\"roots:g failed: Inf detected for output x, at (row 0, col 0).\") [.../casadi/core/oracle_function.cpp:326]\n",
      "CasADi - 2024-06-28 10:13:25 WARNING(\"roots:g failed: Inf detected for output x, at (row 0, col 0).\") [.../casadi/core/oracle_function.cpp:326]\n"
     ]
    },
    {
     "name": "stdout",
     "output_type": "stream",
     "text": [
      "Solver failed for parameters: [7.17968750e-05 7.20390625e-05 1.26171875e-05 7.36328125e-01\n",
      " 5.05468750e-01 5.77343750e-06 4.80468750e-06 1.19414062e+03\n",
      " 2.92968750e+02 6.36718750e+00 1.31093750e+00 1.59843750e+00\n",
      " 1.67343750e+00 2.54492188e+04 5.80273438e+04] with error: Events ['Maximum voltage [V]'] are non-positive at initial conditions\n"
     ]
    },
    {
     "name": "stderr",
     "output_type": "stream",
     "text": [
      "CasADi - 2024-06-28 10:13:25 WARNING(\"roots:g failed: Inf detected for output x, at (row 0, col 0).\") [.../casadi/core/oracle_function.cpp:326]\n",
      "CasADi - 2024-06-28 10:13:25 WARNING(\"roots:g failed: Inf detected for output x, at (row 0, col 0).\") [.../casadi/core/oracle_function.cpp:326]\n",
      "CasADi - 2024-06-28 10:13:25 WARNING(\"roots:g failed: Inf detected for output x, at (row 0, col 0).\") [.../casadi/core/oracle_function.cpp:326]\n",
      "CasADi - 2024-06-28 10:13:25 WARNING(\"roots:g failed: Inf detected for output x, at (row 0, col 0).\") [.../casadi/core/oracle_function.cpp:326]\n",
      "CasADi - 2024-06-28 10:13:25 WARNING(\"roots:g failed: Inf detected for output x, at (row 0, col 0).\") [.../casadi/core/oracle_function.cpp:326]\n"
     ]
    },
    {
     "name": "stdout",
     "output_type": "stream",
     "text": [
      "Solver failed for parameters: [6.05468750e-05 6.75703125e-05 1.26171875e-05 7.36328125e-01\n",
      " 5.05468750e-01 5.77343750e-06 4.80468750e-06 1.19414062e+03\n",
      " 2.92968750e+02 6.36718750e+00 1.31093750e+00 1.59843750e+00\n",
      " 1.67343750e+00 2.54492188e+04 5.80273438e+04] with error: Events ['Maximum voltage [V]'] are non-positive at initial conditions\n"
     ]
    },
    {
     "name": "stderr",
     "output_type": "stream",
     "text": [
      "CasADi - 2024-06-28 10:13:26 WARNING(\"roots:g failed: Inf detected for output x, at (row 0, col 0).\") [.../casadi/core/oracle_function.cpp:326]\n",
      "CasADi - 2024-06-28 10:13:26 WARNING(\"roots:g failed: Inf detected for output x, at (row 0, col 0).\") [.../casadi/core/oracle_function.cpp:326]\n",
      "CasADi - 2024-06-28 10:13:26 WARNING(\"roots:g failed: Inf detected for output x, at (row 0, col 0).\") [.../casadi/core/oracle_function.cpp:326]\n",
      "CasADi - 2024-06-28 10:13:26 WARNING(\"roots:g failed: Inf detected for output x, at (row 0, col 0).\") [.../casadi/core/oracle_function.cpp:326]\n",
      "CasADi - 2024-06-28 10:13:26 WARNING(\"roots:g failed: Inf detected for output x, at (row 0, col 0).\") [.../casadi/core/oracle_function.cpp:326]\n"
     ]
    },
    {
     "name": "stdout",
     "output_type": "stream",
     "text": [
      "Solver failed for parameters: [6.05468750e-05 7.20390625e-05 1.69921875e-05 7.36328125e-01\n",
      " 5.05468750e-01 5.77343750e-06 4.80468750e-06 1.19414062e+03\n",
      " 2.92968750e+02 6.36718750e+00 1.31093750e+00 1.59843750e+00\n",
      " 1.67343750e+00 2.54492188e+04 5.80273438e+04] with error: Events ['Maximum voltage [V]'] are non-positive at initial conditions\n"
     ]
    },
    {
     "name": "stderr",
     "output_type": "stream",
     "text": [
      "CasADi - 2024-06-28 10:13:27 WARNING(\"roots:g failed: Inf detected for output x, at (row 0, col 0).\") [.../casadi/core/oracle_function.cpp:326]\n",
      "CasADi - 2024-06-28 10:13:27 WARNING(\"roots:g failed: Inf detected for output x, at (row 0, col 0).\") [.../casadi/core/oracle_function.cpp:326]\n",
      "CasADi - 2024-06-28 10:13:27 WARNING(\"roots:g failed: Inf detected for output x, at (row 0, col 0).\") [.../casadi/core/oracle_function.cpp:326]\n",
      "CasADi - 2024-06-28 10:13:27 WARNING(\"roots:g failed: Inf detected for output x, at (row 0, col 0).\") [.../casadi/core/oracle_function.cpp:326]\n",
      "CasADi - 2024-06-28 10:13:27 WARNING(\"roots:g failed: Inf detected for output x, at (row 0, col 0).\") [.../casadi/core/oracle_function.cpp:326]\n"
     ]
    },
    {
     "name": "stdout",
     "output_type": "stream",
     "text": [
      "Solver failed for parameters: [6.05468750e-05 7.20390625e-05 1.26171875e-05 7.09765625e-01\n",
      " 5.05468750e-01 5.77343750e-06 4.80468750e-06 1.19414062e+03\n",
      " 2.92968750e+02 6.36718750e+00 1.31093750e+00 1.59843750e+00\n",
      " 1.67343750e+00 2.54492188e+04 5.80273438e+04] with error: Events ['Maximum voltage [V]'] are non-positive at initial conditions\n"
     ]
    },
    {
     "name": "stderr",
     "output_type": "stream",
     "text": [
      "CasADi - 2024-06-28 10:13:27 WARNING(\"roots:g failed: Inf detected for output x, at (row 0, col 0).\") [.../casadi/core/oracle_function.cpp:326]\n",
      "CasADi - 2024-06-28 10:13:27 WARNING(\"roots:g failed: Inf detected for output x, at (row 0, col 0).\") [.../casadi/core/oracle_function.cpp:326]\n",
      "CasADi - 2024-06-28 10:13:27 WARNING(\"roots:g failed: Inf detected for output x, at (row 0, col 0).\") [.../casadi/core/oracle_function.cpp:326]\n",
      "CasADi - 2024-06-28 10:13:27 WARNING(\"roots:g failed: Inf detected for output x, at (row 0, col 0).\") [.../casadi/core/oracle_function.cpp:326]\n",
      "CasADi - 2024-06-28 10:13:27 WARNING(\"roots:g failed: Inf detected for output x, at (row 0, col 0).\") [.../casadi/core/oracle_function.cpp:326]\n"
     ]
    },
    {
     "name": "stdout",
     "output_type": "stream",
     "text": [
      "Solver failed for parameters: [6.05468750e-05 7.20390625e-05 1.26171875e-05 7.36328125e-01\n",
      " 5.36718750e-01 5.77343750e-06 4.80468750e-06 1.19414062e+03\n",
      " 2.92968750e+02 6.36718750e+00 1.31093750e+00 1.59843750e+00\n",
      " 1.67343750e+00 2.54492188e+04 5.80273438e+04] with error: Events ['Maximum voltage [V]'] are non-positive at initial conditions\n"
     ]
    },
    {
     "name": "stderr",
     "output_type": "stream",
     "text": [
      "CasADi - 2024-06-28 10:13:28 WARNING(\"roots:g failed: Inf detected for output x, at (row 0, col 0).\") [.../casadi/core/oracle_function.cpp:326]\n",
      "CasADi - 2024-06-28 10:13:28 WARNING(\"roots:g failed: Inf detected for output x, at (row 0, col 0).\") [.../casadi/core/oracle_function.cpp:326]\n",
      "CasADi - 2024-06-28 10:13:28 WARNING(\"roots:g failed: Inf detected for output x, at (row 0, col 0).\") [.../casadi/core/oracle_function.cpp:326]\n",
      "CasADi - 2024-06-28 10:13:28 WARNING(\"roots:g failed: Inf detected for output x, at (row 0, col 0).\") [.../casadi/core/oracle_function.cpp:326]\n",
      "CasADi - 2024-06-28 10:13:28 WARNING(\"roots:g failed: Inf detected for output x, at (row 0, col 0).\") [.../casadi/core/oracle_function.cpp:326]\n"
     ]
    },
    {
     "name": "stdout",
     "output_type": "stream",
     "text": [
      "Solver failed for parameters: [6.05468750e-05 7.20390625e-05 1.26171875e-05 7.36328125e-01\n",
      " 5.05468750e-01 5.66406250e-06 4.80468750e-06 1.19414062e+03\n",
      " 2.92968750e+02 6.36718750e+00 1.31093750e+00 1.59843750e+00\n",
      " 1.67343750e+00 2.54492188e+04 5.80273438e+04] with error: Events ['Maximum voltage [V]'] are non-positive at initial conditions\n"
     ]
    },
    {
     "name": "stderr",
     "output_type": "stream",
     "text": [
      "CasADi - 2024-06-28 10:13:28 WARNING(\"roots:g failed: Inf detected for output x, at (row 0, col 0).\") [.../casadi/core/oracle_function.cpp:326]\n",
      "CasADi - 2024-06-28 10:13:28 WARNING(\"roots:g failed: Inf detected for output x, at (row 0, col 0).\") [.../casadi/core/oracle_function.cpp:326]\n",
      "CasADi - 2024-06-28 10:13:28 WARNING(\"roots:g failed: Inf detected for output x, at (row 0, col 0).\") [.../casadi/core/oracle_function.cpp:326]\n",
      "CasADi - 2024-06-28 10:13:28 WARNING(\"roots:g failed: Inf detected for output x, at (row 0, col 0).\") [.../casadi/core/oracle_function.cpp:326]\n",
      "CasADi - 2024-06-28 10:13:28 WARNING(\"roots:g failed: Inf detected for output x, at (row 0, col 0).\") [.../casadi/core/oracle_function.cpp:326]\n"
     ]
    },
    {
     "name": "stdout",
     "output_type": "stream",
     "text": [
      "Solver failed for parameters: [6.05468750e-05 7.20390625e-05 1.26171875e-05 7.36328125e-01\n",
      " 5.05468750e-01 5.77343750e-06 5.66406250e-06 1.19414062e+03\n",
      " 2.92968750e+02 6.36718750e+00 1.31093750e+00 1.59843750e+00\n",
      " 1.67343750e+00 2.54492188e+04 5.80273438e+04] with error: Events ['Maximum voltage [V]'] are non-positive at initial conditions\n"
     ]
    },
    {
     "name": "stderr",
     "output_type": "stream",
     "text": [
      "CasADi - 2024-06-28 10:13:28 WARNING(\"roots:g failed: Inf detected for output x, at (row 0, col 0).\") [.../casadi/core/oracle_function.cpp:326]\n",
      "CasADi - 2024-06-28 10:13:28 WARNING(\"roots:g failed: Inf detected for output x, at (row 0, col 0).\") [.../casadi/core/oracle_function.cpp:326]\n",
      "CasADi - 2024-06-28 10:13:28 WARNING(\"roots:g failed: Inf detected for output x, at (row 0, col 0).\") [.../casadi/core/oracle_function.cpp:326]\n",
      "CasADi - 2024-06-28 10:13:28 WARNING(\"roots:g failed: Inf detected for output x, at (row 0, col 0).\") [.../casadi/core/oracle_function.cpp:326]\n",
      "CasADi - 2024-06-28 10:13:28 WARNING(\"roots:g failed: Inf detected for output x, at (row 0, col 0).\") [.../casadi/core/oracle_function.cpp:326]\n"
     ]
    },
    {
     "name": "stdout",
     "output_type": "stream",
     "text": [
      "Solver failed for parameters: [6.05468750e-05 7.20390625e-05 1.26171875e-05 7.36328125e-01\n",
      " 5.05468750e-01 5.77343750e-06 4.80468750e-06 1.02070312e+03\n",
      " 2.92968750e+02 6.36718750e+00 1.31093750e+00 1.59843750e+00\n",
      " 1.67343750e+00 2.54492188e+04 5.80273438e+04] with error: Events ['Maximum voltage [V]'] are non-positive at initial conditions\n"
     ]
    },
    {
     "name": "stderr",
     "output_type": "stream",
     "text": [
      "CasADi - 2024-06-28 10:13:29 WARNING(\"roots:g failed: Inf detected for output x, at (row 0, col 0).\") [.../casadi/core/oracle_function.cpp:326]\n",
      "CasADi - 2024-06-28 10:13:29 WARNING(\"roots:g failed: Inf detected for output x, at (row 0, col 0).\") [.../casadi/core/oracle_function.cpp:326]\n",
      "CasADi - 2024-06-28 10:13:29 WARNING(\"roots:g failed: Inf detected for output x, at (row 0, col 0).\") [.../casadi/core/oracle_function.cpp:326]\n",
      "CasADi - 2024-06-28 10:13:29 WARNING(\"roots:g failed: Inf detected for output x, at (row 0, col 0).\") [.../casadi/core/oracle_function.cpp:326]\n",
      "CasADi - 2024-06-28 10:13:29 WARNING(\"roots:g failed: Inf detected for output x, at (row 0, col 0).\") [.../casadi/core/oracle_function.cpp:326]\n"
     ]
    },
    {
     "name": "stdout",
     "output_type": "stream",
     "text": [
      "Solver failed for parameters: [6.05468750e-05 7.20390625e-05 1.26171875e-05 7.36328125e-01\n",
      " 5.05468750e-01 5.77343750e-06 4.80468750e-06 1.19414062e+03\n",
      " 2.77343750e+02 6.36718750e+00 1.31093750e+00 1.59843750e+00\n",
      " 1.67343750e+00 2.54492188e+04 5.80273438e+04] with error: Events ['Maximum voltage [V]'] are non-positive at initial conditions\n"
     ]
    },
    {
     "name": "stderr",
     "output_type": "stream",
     "text": [
      "CasADi - 2024-06-28 10:13:29 WARNING(\"roots:g failed: Inf detected for output x, at (row 0, col 0).\") [.../casadi/core/oracle_function.cpp:326]\n",
      "CasADi - 2024-06-28 10:13:29 WARNING(\"roots:g failed: Inf detected for output x, at (row 0, col 0).\") [.../casadi/core/oracle_function.cpp:326]\n",
      "CasADi - 2024-06-28 10:13:29 WARNING(\"roots:g failed: Inf detected for output x, at (row 0, col 0).\") [.../casadi/core/oracle_function.cpp:326]\n",
      "CasADi - 2024-06-28 10:13:29 WARNING(\"roots:g failed: Inf detected for output x, at (row 0, col 0).\") [.../casadi/core/oracle_function.cpp:326]\n",
      "CasADi - 2024-06-28 10:13:29 WARNING(\"roots:g failed: Inf detected for output x, at (row 0, col 0).\") [.../casadi/core/oracle_function.cpp:326]\n"
     ]
    },
    {
     "name": "stdout",
     "output_type": "stream",
     "text": [
      "Solver failed for parameters: [6.05468750e-05 7.20390625e-05 1.26171875e-05 7.36328125e-01\n",
      " 5.05468750e-01 5.77343750e-06 4.80468750e-06 1.19414062e+03\n",
      " 2.92968750e+02 4.72656250e+00 1.31093750e+00 1.59843750e+00\n",
      " 1.67343750e+00 2.54492188e+04 5.80273438e+04] with error: Events ['Maximum voltage [V]'] are non-positive at initial conditions\n"
     ]
    },
    {
     "name": "stderr",
     "output_type": "stream",
     "text": [
      "CasADi - 2024-06-28 10:13:30 WARNING(\"roots:g failed: Inf detected for output x, at (row 0, col 0).\") [.../casadi/core/oracle_function.cpp:326]\n",
      "CasADi - 2024-06-28 10:13:30 WARNING(\"roots:g failed: Inf detected for output x, at (row 0, col 0).\") [.../casadi/core/oracle_function.cpp:326]\n",
      "CasADi - 2024-06-28 10:13:30 WARNING(\"roots:g failed: Inf detected for output x, at (row 0, col 0).\") [.../casadi/core/oracle_function.cpp:326]\n",
      "CasADi - 2024-06-28 10:13:30 WARNING(\"roots:g failed: Inf detected for output x, at (row 0, col 0).\") [.../casadi/core/oracle_function.cpp:326]\n",
      "CasADi - 2024-06-28 10:13:30 WARNING(\"roots:g failed: Inf detected for output x, at (row 0, col 0).\") [.../casadi/core/oracle_function.cpp:326]\n"
     ]
    },
    {
     "name": "stdout",
     "output_type": "stream",
     "text": [
      "Solver failed for parameters: [6.05468750e-05 7.20390625e-05 1.26171875e-05 7.36328125e-01\n",
      " 5.05468750e-01 5.77343750e-06 4.80468750e-06 1.19414062e+03\n",
      " 2.92968750e+02 6.36718750e+00 1.35781250e+00 1.59843750e+00\n",
      " 1.67343750e+00 2.54492188e+04 5.80273438e+04] with error: Events ['Maximum voltage [V]'] are non-positive at initial conditions\n"
     ]
    },
    {
     "name": "stderr",
     "output_type": "stream",
     "text": [
      "CasADi - 2024-06-28 10:13:30 WARNING(\"roots:g failed: Inf detected for output x, at (row 0, col 0).\") [.../casadi/core/oracle_function.cpp:326]\n",
      "CasADi - 2024-06-28 10:13:30 WARNING(\"roots:g failed: Inf detected for output x, at (row 0, col 0).\") [.../casadi/core/oracle_function.cpp:326]\n",
      "CasADi - 2024-06-28 10:13:30 WARNING(\"roots:g failed: Inf detected for output x, at (row 0, col 0).\") [.../casadi/core/oracle_function.cpp:326]\n",
      "CasADi - 2024-06-28 10:13:30 WARNING(\"roots:g failed: Inf detected for output x, at (row 0, col 0).\") [.../casadi/core/oracle_function.cpp:326]\n",
      "CasADi - 2024-06-28 10:13:30 WARNING(\"roots:g failed: Inf detected for output x, at (row 0, col 0).\") [.../casadi/core/oracle_function.cpp:326]\n"
     ]
    },
    {
     "name": "stdout",
     "output_type": "stream",
     "text": [
      "Solver failed for parameters: [6.05468750e-05 7.20390625e-05 1.26171875e-05 7.36328125e-01\n",
      " 5.05468750e-01 5.77343750e-06 4.80468750e-06 1.19414062e+03\n",
      " 2.92968750e+02 6.36718750e+00 1.31093750e+00 1.43281250e+00\n",
      " 1.67343750e+00 2.54492188e+04 5.80273438e+04] with error: Events ['Maximum voltage [V]'] are non-positive at initial conditions\n"
     ]
    },
    {
     "name": "stderr",
     "output_type": "stream",
     "text": [
      "CasADi - 2024-06-28 10:13:31 WARNING(\"roots:g failed: Inf detected for output x, at (row 0, col 0).\") [.../casadi/core/oracle_function.cpp:326]\n",
      "CasADi - 2024-06-28 10:13:31 WARNING(\"roots:g failed: Inf detected for output x, at (row 0, col 0).\") [.../casadi/core/oracle_function.cpp:326]\n",
      "CasADi - 2024-06-28 10:13:31 WARNING(\"roots:g failed: Inf detected for output x, at (row 0, col 0).\") [.../casadi/core/oracle_function.cpp:326]\n",
      "CasADi - 2024-06-28 10:13:31 WARNING(\"roots:g failed: Inf detected for output x, at (row 0, col 0).\") [.../casadi/core/oracle_function.cpp:326]\n",
      "CasADi - 2024-06-28 10:13:31 WARNING(\"roots:g failed: Inf detected for output x, at (row 0, col 0).\") [.../casadi/core/oracle_function.cpp:326]\n"
     ]
    },
    {
     "name": "stdout",
     "output_type": "stream",
     "text": [
      "Solver failed for parameters: [6.05468750e-05 7.20390625e-05 1.26171875e-05 7.36328125e-01\n",
      " 5.05468750e-01 5.77343750e-06 4.80468750e-06 1.19414062e+03\n",
      " 2.92968750e+02 6.36718750e+00 1.31093750e+00 1.59843750e+00\n",
      " 1.68906250e+00 2.54492188e+04 5.80273438e+04] with error: Events ['Maximum voltage [V]'] are non-positive at initial conditions\n"
     ]
    },
    {
     "name": "stderr",
     "output_type": "stream",
     "text": [
      "CasADi - 2024-06-28 10:13:33 WARNING(\"roots:g failed: Inf detected for output x, at (row 0, col 0).\") [.../casadi/core/oracle_function.cpp:326]\n",
      "CasADi - 2024-06-28 10:13:33 WARNING(\"roots:g failed: Inf detected for output x, at (row 0, col 0).\") [.../casadi/core/oracle_function.cpp:326]\n",
      "CasADi - 2024-06-28 10:13:33 WARNING(\"roots:g failed: Inf detected for output x, at (row 0, col 0).\") [.../casadi/core/oracle_function.cpp:326]\n",
      "CasADi - 2024-06-28 10:13:33 WARNING(\"roots:g failed: Inf detected for output x, at (row 0, col 0).\") [.../casadi/core/oracle_function.cpp:326]\n",
      "CasADi - 2024-06-28 10:13:33 WARNING(\"roots:g failed: Inf detected for output x, at (row 0, col 0).\") [.../casadi/core/oracle_function.cpp:326]\n"
     ]
    },
    {
     "name": "stdout",
     "output_type": "stream",
     "text": [
      "Solver failed for parameters: [6.05468750e-05 7.20390625e-05 1.26171875e-05 7.36328125e-01\n",
      " 5.05468750e-01 5.77343750e-06 4.80468750e-06 1.19414062e+03\n",
      " 2.92968750e+02 6.36718750e+00 1.31093750e+00 1.59843750e+00\n",
      " 1.67343750e+00 2.54492188e+04 6.30664062e+04] with error: Events ['Maximum voltage [V]'] are non-positive at initial conditions\n"
     ]
    },
    {
     "name": "stderr",
     "output_type": "stream",
     "text": [
      "CasADi - 2024-06-28 10:13:33 WARNING(\"roots:g failed: Inf detected for output x, at (row 0, col 0).\") [.../casadi/core/oracle_function.cpp:326]\n",
      "CasADi - 2024-06-28 10:13:33 WARNING(\"roots:g failed: Inf detected for output x, at (row 0, col 0).\") [.../casadi/core/oracle_function.cpp:326]\n",
      "CasADi - 2024-06-28 10:13:33 WARNING(\"roots:g failed: Inf detected for output x, at (row 0, col 0).\") [.../casadi/core/oracle_function.cpp:326]\n",
      "CasADi - 2024-06-28 10:13:33 WARNING(\"roots:g failed: Inf detected for output x, at (row 0, col 0).\") [.../casadi/core/oracle_function.cpp:326]\n",
      "CasADi - 2024-06-28 10:13:33 WARNING(\"roots:g failed: Inf detected for output x, at (row 0, col 0).\") [.../casadi/core/oracle_function.cpp:326]\n"
     ]
    },
    {
     "name": "stdout",
     "output_type": "stream",
     "text": [
      "Solver failed for parameters: [6.05468750e-05 7.20390625e-05 1.26171875e-05 7.36328125e-01\n",
      " 5.05468750e-01 5.77343750e-06 4.80468750e-06 1.19414062e+03\n",
      " 2.92968750e+02 6.36718750e+00 1.31093750e+00 1.59843750e+00\n",
      " 1.67343750e+00 2.54492188e+04 5.80273438e+04] with error: Events ['Maximum voltage [V]'] are non-positive at initial conditions\n"
     ]
    },
    {
     "name": "stderr",
     "output_type": "stream",
     "text": [
      "CasADi - 2024-06-28 10:13:34 WARNING(\"roots:g failed: Inf detected for output x, at (row 0, col 0).\") [.../casadi/core/oracle_function.cpp:326]\n",
      "CasADi - 2024-06-28 10:13:34 WARNING(\"roots:g failed: Inf detected for output x, at (row 0, col 0).\") [.../casadi/core/oracle_function.cpp:326]\n",
      "CasADi - 2024-06-28 10:13:34 WARNING(\"roots:g failed: Inf detected for output x, at (row 0, col 0).\") [.../casadi/core/oracle_function.cpp:326]\n",
      "CasADi - 2024-06-28 10:13:34 WARNING(\"roots:g failed: Inf detected for output x, at (row 0, col 0).\") [.../casadi/core/oracle_function.cpp:326]\n",
      "CasADi - 2024-06-28 10:13:34 WARNING(\"roots:g failed: Inf detected for output x, at (row 0, col 0).\") [.../casadi/core/oracle_function.cpp:326]\n"
     ]
    },
    {
     "name": "stdout",
     "output_type": "stream",
     "text": [
      "Solver failed for parameters: [8.07968750e-05 6.10703125e-05 1.44921875e-05 7.84765625e-01\n",
      " 5.86718750e-01 5.16406250e-06 4.16406250e-06 9.45703125e+02\n",
      " 2.27343750e+02 2.22656250e+00 1.45781250e+00 1.33281250e+00\n",
      " 1.38906250e+00 2.33867188e+04 5.93164062e+04] with error: Events ['Maximum voltage [V]'] are non-positive at initial conditions\n"
     ]
    },
    {
     "name": "stderr",
     "output_type": "stream",
     "text": [
      "CasADi - 2024-06-28 10:13:34 WARNING(\"roots:g failed: Inf detected for output x, at (row 0, col 0).\") [.../casadi/core/oracle_function.cpp:326]\n",
      "CasADi - 2024-06-28 10:13:34 WARNING(\"roots:g failed: Inf detected for output x, at (row 0, col 0).\") [.../casadi/core/oracle_function.cpp:326]\n",
      "CasADi - 2024-06-28 10:13:34 WARNING(\"roots:g failed: Inf detected for output x, at (row 0, col 0).\") [.../casadi/core/oracle_function.cpp:326]\n",
      "CasADi - 2024-06-28 10:13:34 WARNING(\"roots:g failed: Inf detected for output x, at (row 0, col 0).\") [.../casadi/core/oracle_function.cpp:326]\n",
      "CasADi - 2024-06-28 10:13:34 WARNING(\"roots:g failed: Inf detected for output x, at (row 0, col 0).\") [.../casadi/core/oracle_function.cpp:326]\n"
     ]
    },
    {
     "name": "stdout",
     "output_type": "stream",
     "text": [
      "Solver failed for parameters: [6.95468750e-05 6.10703125e-05 1.44921875e-05 7.84765625e-01\n",
      " 5.86718750e-01 5.16406250e-06 4.16406250e-06 9.45703125e+02\n",
      " 2.27343750e+02 2.22656250e+00 1.45781250e+00 1.33281250e+00\n",
      " 1.38906250e+00 2.33867188e+04 5.93164062e+04] with error: Events ['Maximum voltage [V]'] are non-positive at initial conditions\n"
     ]
    },
    {
     "name": "stderr",
     "output_type": "stream",
     "text": [
      "CasADi - 2024-06-28 10:13:35 WARNING(\"roots:g failed: Inf detected for output x, at (row 0, col 0).\") [.../casadi/core/oracle_function.cpp:326]\n",
      "CasADi - 2024-06-28 10:13:35 WARNING(\"roots:g failed: Inf detected for output x, at (row 0, col 0).\") [.../casadi/core/oracle_function.cpp:326]\n",
      "CasADi - 2024-06-28 10:13:35 WARNING(\"roots:g failed: Inf detected for output x, at (row 0, col 0).\") [.../casadi/core/oracle_function.cpp:326]\n",
      "CasADi - 2024-06-28 10:13:35 WARNING(\"roots:g failed: Inf detected for output x, at (row 0, col 0).\") [.../casadi/core/oracle_function.cpp:326]\n",
      "CasADi - 2024-06-28 10:13:35 WARNING(\"roots:g failed: Inf detected for output x, at (row 0, col 0).\") [.../casadi/core/oracle_function.cpp:326]\n"
     ]
    },
    {
     "name": "stdout",
     "output_type": "stream",
     "text": [
      "Solver failed for parameters: [8.07968750e-05 6.55390625e-05 1.44921875e-05 7.84765625e-01\n",
      " 5.86718750e-01 5.16406250e-06 4.16406250e-06 9.45703125e+02\n",
      " 2.27343750e+02 2.22656250e+00 1.45781250e+00 1.33281250e+00\n",
      " 1.38906250e+00 2.33867188e+04 5.93164062e+04] with error: Events ['Maximum voltage [V]'] are non-positive at initial conditions\n"
     ]
    },
    {
     "name": "stderr",
     "output_type": "stream",
     "text": [
      "CasADi - 2024-06-28 10:13:35 WARNING(\"roots:g failed: Inf detected for output x, at (row 0, col 0).\") [.../casadi/core/oracle_function.cpp:326]\n",
      "CasADi - 2024-06-28 10:13:35 WARNING(\"roots:g failed: Inf detected for output x, at (row 0, col 0).\") [.../casadi/core/oracle_function.cpp:326]\n",
      "CasADi - 2024-06-28 10:13:35 WARNING(\"roots:g failed: Inf detected for output x, at (row 0, col 0).\") [.../casadi/core/oracle_function.cpp:326]\n",
      "CasADi - 2024-06-28 10:13:35 WARNING(\"roots:g failed: Inf detected for output x, at (row 0, col 0).\") [.../casadi/core/oracle_function.cpp:326]\n",
      "CasADi - 2024-06-28 10:13:35 WARNING(\"roots:g failed: Inf detected for output x, at (row 0, col 0).\") [.../casadi/core/oracle_function.cpp:326]\n"
     ]
    },
    {
     "name": "stdout",
     "output_type": "stream",
     "text": [
      "Solver failed for parameters: [8.07968750e-05 6.10703125e-05 1.51171875e-05 7.84765625e-01\n",
      " 5.86718750e-01 5.16406250e-06 4.16406250e-06 9.45703125e+02\n",
      " 2.27343750e+02 2.22656250e+00 1.45781250e+00 1.33281250e+00\n",
      " 1.38906250e+00 2.33867188e+04 5.93164062e+04] with error: Events ['Maximum voltage [V]'] are non-positive at initial conditions\n"
     ]
    },
    {
     "name": "stderr",
     "output_type": "stream",
     "text": [
      "CasADi - 2024-06-28 10:13:36 WARNING(\"roots:g failed: Inf detected for output x, at (row 0, col 0).\") [.../casadi/core/oracle_function.cpp:326]\n",
      "CasADi - 2024-06-28 10:13:36 WARNING(\"roots:g failed: Inf detected for output x, at (row 0, col 0).\") [.../casadi/core/oracle_function.cpp:326]\n",
      "CasADi - 2024-06-28 10:13:36 WARNING(\"roots:g failed: Inf detected for output x, at (row 0, col 0).\") [.../casadi/core/oracle_function.cpp:326]\n",
      "CasADi - 2024-06-28 10:13:36 WARNING(\"roots:g failed: Inf detected for output x, at (row 0, col 0).\") [.../casadi/core/oracle_function.cpp:326]\n",
      "CasADi - 2024-06-28 10:13:36 WARNING(\"roots:g failed: Inf detected for output x, at (row 0, col 0).\") [.../casadi/core/oracle_function.cpp:326]\n"
     ]
    },
    {
     "name": "stdout",
     "output_type": "stream",
     "text": [
      "Solver failed for parameters: [8.07968750e-05 6.10703125e-05 1.44921875e-05 7.11328125e-01\n",
      " 5.86718750e-01 5.16406250e-06 4.16406250e-06 9.45703125e+02\n",
      " 2.27343750e+02 2.22656250e+00 1.45781250e+00 1.33281250e+00\n",
      " 1.38906250e+00 2.33867188e+04 5.93164062e+04] with error: Events ['Maximum voltage [V]'] are non-positive at initial conditions\n"
     ]
    },
    {
     "name": "stderr",
     "output_type": "stream",
     "text": [
      "CasADi - 2024-06-28 10:13:36 WARNING(\"roots:g failed: Inf detected for output x, at (row 0, col 0).\") [.../casadi/core/oracle_function.cpp:326]\n",
      "CasADi - 2024-06-28 10:13:36 WARNING(\"roots:g failed: Inf detected for output x, at (row 0, col 0).\") [.../casadi/core/oracle_function.cpp:326]\n",
      "CasADi - 2024-06-28 10:13:36 WARNING(\"roots:g failed: Inf detected for output x, at (row 0, col 0).\") [.../casadi/core/oracle_function.cpp:326]\n",
      "CasADi - 2024-06-28 10:13:36 WARNING(\"roots:g failed: Inf detected for output x, at (row 0, col 0).\") [.../casadi/core/oracle_function.cpp:326]\n",
      "CasADi - 2024-06-28 10:13:36 WARNING(\"roots:g failed: Inf detected for output x, at (row 0, col 0).\") [.../casadi/core/oracle_function.cpp:326]\n"
     ]
    },
    {
     "name": "stdout",
     "output_type": "stream",
     "text": [
      "Solver failed for parameters: [8.07968750e-05 6.10703125e-05 1.44921875e-05 7.84765625e-01\n",
      " 6.55468750e-01 5.16406250e-06 4.16406250e-06 9.45703125e+02\n",
      " 2.27343750e+02 2.22656250e+00 1.45781250e+00 1.33281250e+00\n",
      " 1.38906250e+00 2.33867188e+04 5.93164062e+04] with error: Events ['Maximum voltage [V]'] are non-positive at initial conditions\n"
     ]
    },
    {
     "name": "stderr",
     "output_type": "stream",
     "text": [
      "CasADi - 2024-06-28 10:13:36 WARNING(\"roots:g failed: Inf detected for output x, at (row 0, col 0).\") [.../casadi/core/oracle_function.cpp:326]\n",
      "CasADi - 2024-06-28 10:13:36 WARNING(\"roots:g failed: Inf detected for output x, at (row 0, col 0).\") [.../casadi/core/oracle_function.cpp:326]\n",
      "CasADi - 2024-06-28 10:13:36 WARNING(\"roots:g failed: Inf detected for output x, at (row 0, col 0).\") [.../casadi/core/oracle_function.cpp:326]\n",
      "CasADi - 2024-06-28 10:13:36 WARNING(\"roots:g failed: Inf detected for output x, at (row 0, col 0).\") [.../casadi/core/oracle_function.cpp:326]\n",
      "CasADi - 2024-06-28 10:13:36 WARNING(\"roots:g failed: Inf detected for output x, at (row 0, col 0).\") [.../casadi/core/oracle_function.cpp:326]\n"
     ]
    },
    {
     "name": "stdout",
     "output_type": "stream",
     "text": [
      "Solver failed for parameters: [8.07968750e-05 6.10703125e-05 1.44921875e-05 7.84765625e-01\n",
      " 5.86718750e-01 4.27343750e-06 4.16406250e-06 9.45703125e+02\n",
      " 2.27343750e+02 2.22656250e+00 1.45781250e+00 1.33281250e+00\n",
      " 1.38906250e+00 2.33867188e+04 5.93164062e+04] with error: Events ['Maximum voltage [V]'] are non-positive at initial conditions\n"
     ]
    },
    {
     "name": "stderr",
     "output_type": "stream",
     "text": [
      "CasADi - 2024-06-28 10:13:37 WARNING(\"roots:g failed: Inf detected for output x, at (row 0, col 0).\") [.../casadi/core/oracle_function.cpp:326]\n",
      "CasADi - 2024-06-28 10:13:37 WARNING(\"roots:g failed: Inf detected for output x, at (row 0, col 0).\") [.../casadi/core/oracle_function.cpp:326]\n",
      "CasADi - 2024-06-28 10:13:37 WARNING(\"roots:g failed: Inf detected for output x, at (row 0, col 0).\") [.../casadi/core/oracle_function.cpp:326]\n",
      "CasADi - 2024-06-28 10:13:37 WARNING(\"roots:g failed: Inf detected for output x, at (row 0, col 0).\") [.../casadi/core/oracle_function.cpp:326]\n",
      "CasADi - 2024-06-28 10:13:37 WARNING(\"roots:g failed: Inf detected for output x, at (row 0, col 0).\") [.../casadi/core/oracle_function.cpp:326]\n"
     ]
    },
    {
     "name": "stdout",
     "output_type": "stream",
     "text": [
      "Solver failed for parameters: [8.07968750e-05 6.10703125e-05 1.44921875e-05 7.84765625e-01\n",
      " 5.86718750e-01 5.16406250e-06 4.30468750e-06 9.45703125e+02\n",
      " 2.27343750e+02 2.22656250e+00 1.45781250e+00 1.33281250e+00\n",
      " 1.38906250e+00 2.33867188e+04 5.93164062e+04] with error: Events ['Maximum voltage [V]'] are non-positive at initial conditions\n"
     ]
    },
    {
     "name": "stderr",
     "output_type": "stream",
     "text": [
      "CasADi - 2024-06-28 10:13:37 WARNING(\"roots:g failed: Inf detected for output x, at (row 0, col 0).\") [.../casadi/core/oracle_function.cpp:326]\n",
      "CasADi - 2024-06-28 10:13:37 WARNING(\"roots:g failed: Inf detected for output x, at (row 0, col 0).\") [.../casadi/core/oracle_function.cpp:326]\n",
      "CasADi - 2024-06-28 10:13:37 WARNING(\"roots:g failed: Inf detected for output x, at (row 0, col 0).\") [.../casadi/core/oracle_function.cpp:326]\n",
      "CasADi - 2024-06-28 10:13:37 WARNING(\"roots:g failed: Inf detected for output x, at (row 0, col 0).\") [.../casadi/core/oracle_function.cpp:326]\n",
      "CasADi - 2024-06-28 10:13:37 WARNING(\"roots:g failed: Inf detected for output x, at (row 0, col 0).\") [.../casadi/core/oracle_function.cpp:326]\n"
     ]
    },
    {
     "name": "stdout",
     "output_type": "stream",
     "text": [
      "Solver failed for parameters: [8.07968750e-05 6.10703125e-05 1.44921875e-05 7.84765625e-01\n",
      " 5.86718750e-01 5.16406250e-06 4.16406250e-06 9.69140625e+02\n",
      " 2.27343750e+02 2.22656250e+00 1.45781250e+00 1.33281250e+00\n",
      " 1.38906250e+00 2.33867188e+04 5.93164062e+04] with error: Events ['Maximum voltage [V]'] are non-positive at initial conditions\n"
     ]
    },
    {
     "name": "stderr",
     "output_type": "stream",
     "text": [
      "CasADi - 2024-06-28 10:13:38 WARNING(\"roots:g failed: Inf detected for output x, at (row 0, col 0).\") [.../casadi/core/oracle_function.cpp:326]\n",
      "CasADi - 2024-06-28 10:13:38 WARNING(\"roots:g failed: Inf detected for output x, at (row 0, col 0).\") [.../casadi/core/oracle_function.cpp:326]\n",
      "CasADi - 2024-06-28 10:13:38 WARNING(\"roots:g failed: Inf detected for output x, at (row 0, col 0).\") [.../casadi/core/oracle_function.cpp:326]\n",
      "CasADi - 2024-06-28 10:13:38 WARNING(\"roots:g failed: Inf detected for output x, at (row 0, col 0).\") [.../casadi/core/oracle_function.cpp:326]\n",
      "CasADi - 2024-06-28 10:13:38 WARNING(\"roots:g failed: Inf detected for output x, at (row 0, col 0).\") [.../casadi/core/oracle_function.cpp:326]\n"
     ]
    },
    {
     "name": "stdout",
     "output_type": "stream",
     "text": [
      "Solver failed for parameters: [8.07968750e-05 6.10703125e-05 1.44921875e-05 7.84765625e-01\n",
      " 5.86718750e-01 5.16406250e-06 4.16406250e-06 9.45703125e+02\n",
      " 1.42968750e+02 2.22656250e+00 1.45781250e+00 1.33281250e+00\n",
      " 1.38906250e+00 2.33867188e+04 5.93164062e+04] with error: Events ['Maximum voltage [V]'] are non-positive at initial conditions\n"
     ]
    },
    {
     "name": "stderr",
     "output_type": "stream",
     "text": [
      "CasADi - 2024-06-28 10:13:39 WARNING(\"roots:g failed: Inf detected for output x, at (row 0, col 0).\") [.../casadi/core/oracle_function.cpp:326]\n",
      "CasADi - 2024-06-28 10:13:39 WARNING(\"roots:g failed: Inf detected for output x, at (row 0, col 0).\") [.../casadi/core/oracle_function.cpp:326]\n",
      "CasADi - 2024-06-28 10:13:39 WARNING(\"roots:g failed: Inf detected for output x, at (row 0, col 0).\") [.../casadi/core/oracle_function.cpp:326]\n",
      "CasADi - 2024-06-28 10:13:39 WARNING(\"roots:g failed: Inf detected for output x, at (row 0, col 0).\") [.../casadi/core/oracle_function.cpp:326]\n",
      "CasADi - 2024-06-28 10:13:39 WARNING(\"roots:g failed: Inf detected for output x, at (row 0, col 0).\") [.../casadi/core/oracle_function.cpp:326]\n"
     ]
    },
    {
     "name": "stdout",
     "output_type": "stream",
     "text": [
      "Solver failed for parameters: [8.07968750e-05 6.10703125e-05 1.44921875e-05 7.84765625e-01\n",
      " 5.86718750e-01 5.16406250e-06 4.16406250e-06 9.45703125e+02\n",
      " 2.27343750e+02 3.86718750e+00 1.45781250e+00 1.33281250e+00\n",
      " 1.38906250e+00 2.33867188e+04 5.93164062e+04] with error: Events ['Maximum voltage [V]'] are non-positive at initial conditions\n"
     ]
    },
    {
     "name": "stderr",
     "output_type": "stream",
     "text": [
      "CasADi - 2024-06-28 10:13:39 WARNING(\"roots:g failed: Inf detected for output x, at (row 0, col 0).\") [.../casadi/core/oracle_function.cpp:326]\n",
      "CasADi - 2024-06-28 10:13:39 WARNING(\"roots:g failed: Inf detected for output x, at (row 0, col 0).\") [.../casadi/core/oracle_function.cpp:326]\n",
      "CasADi - 2024-06-28 10:13:39 WARNING(\"roots:g failed: Inf detected for output x, at (row 0, col 0).\") [.../casadi/core/oracle_function.cpp:326]\n",
      "CasADi - 2024-06-28 10:13:39 WARNING(\"roots:g failed: Inf detected for output x, at (row 0, col 0).\") [.../casadi/core/oracle_function.cpp:326]\n",
      "CasADi - 2024-06-28 10:13:39 WARNING(\"roots:g failed: Inf detected for output x, at (row 0, col 0).\") [.../casadi/core/oracle_function.cpp:326]\n"
     ]
    },
    {
     "name": "stdout",
     "output_type": "stream",
     "text": [
      "Solver failed for parameters: [8.07968750e-05 6.10703125e-05 1.44921875e-05 7.84765625e-01\n",
      " 5.86718750e-01 5.16406250e-06 4.16406250e-06 9.45703125e+02\n",
      " 2.27343750e+02 2.22656250e+00 1.41093750e+00 1.33281250e+00\n",
      " 1.38906250e+00 2.33867188e+04 5.93164062e+04] with error: Events ['Maximum voltage [V]'] are non-positive at initial conditions\n"
     ]
    },
    {
     "name": "stderr",
     "output_type": "stream",
     "text": [
      "CasADi - 2024-06-28 10:13:39 WARNING(\"roots:g failed: Inf detected for output x, at (row 0, col 0).\") [.../casadi/core/oracle_function.cpp:326]\n",
      "CasADi - 2024-06-28 10:13:39 WARNING(\"roots:g failed: Inf detected for output x, at (row 0, col 0).\") [.../casadi/core/oracle_function.cpp:326]\n",
      "CasADi - 2024-06-28 10:13:39 WARNING(\"roots:g failed: Inf detected for output x, at (row 0, col 0).\") [.../casadi/core/oracle_function.cpp:326]\n",
      "CasADi - 2024-06-28 10:13:39 WARNING(\"roots:g failed: Inf detected for output x, at (row 0, col 0).\") [.../casadi/core/oracle_function.cpp:326]\n",
      "CasADi - 2024-06-28 10:13:39 WARNING(\"roots:g failed: Inf detected for output x, at (row 0, col 0).\") [.../casadi/core/oracle_function.cpp:326]\n"
     ]
    },
    {
     "name": "stdout",
     "output_type": "stream",
     "text": [
      "Solver failed for parameters: [8.07968750e-05 6.10703125e-05 1.44921875e-05 7.84765625e-01\n",
      " 5.86718750e-01 5.16406250e-06 4.16406250e-06 9.45703125e+02\n",
      " 2.27343750e+02 2.22656250e+00 1.45781250e+00 1.49843750e+00\n",
      " 1.38906250e+00 2.33867188e+04 5.93164062e+04] with error: Events ['Maximum voltage [V]'] are non-positive at initial conditions\n"
     ]
    },
    {
     "name": "stderr",
     "output_type": "stream",
     "text": [
      "CasADi - 2024-06-28 10:13:40 WARNING(\"roots:g failed: Inf detected for output x, at (row 0, col 0).\") [.../casadi/core/oracle_function.cpp:326]\n",
      "CasADi - 2024-06-28 10:13:40 WARNING(\"roots:g failed: Inf detected for output x, at (row 0, col 0).\") [.../casadi/core/oracle_function.cpp:326]\n",
      "CasADi - 2024-06-28 10:13:40 WARNING(\"roots:g failed: Inf detected for output x, at (row 0, col 0).\") [.../casadi/core/oracle_function.cpp:326]\n",
      "CasADi - 2024-06-28 10:13:40 WARNING(\"roots:g failed: Inf detected for output x, at (row 0, col 0).\") [.../casadi/core/oracle_function.cpp:326]\n",
      "CasADi - 2024-06-28 10:13:40 WARNING(\"roots:g failed: Inf detected for output x, at (row 0, col 0).\") [.../casadi/core/oracle_function.cpp:326]\n"
     ]
    },
    {
     "name": "stdout",
     "output_type": "stream",
     "text": [
      "Solver failed for parameters: [8.07968750e-05 6.10703125e-05 1.44921875e-05 7.84765625e-01\n",
      " 5.86718750e-01 5.16406250e-06 4.16406250e-06 9.45703125e+02\n",
      " 2.27343750e+02 2.22656250e+00 1.45781250e+00 1.33281250e+00\n",
      " 1.57343750e+00 2.33867188e+04 5.93164062e+04] with error: Events ['Maximum voltage [V]'] are non-positive at initial conditions\n"
     ]
    },
    {
     "name": "stderr",
     "output_type": "stream",
     "text": [
      "CasADi - 2024-06-28 10:13:42 WARNING(\"roots:g failed: Inf detected for output x, at (row 0, col 0).\") [.../casadi/core/oracle_function.cpp:326]\n",
      "CasADi - 2024-06-28 10:13:42 WARNING(\"roots:g failed: Inf detected for output x, at (row 0, col 0).\") [.../casadi/core/oracle_function.cpp:326]\n",
      "CasADi - 2024-06-28 10:13:42 WARNING(\"roots:g failed: Inf detected for output x, at (row 0, col 0).\") [.../casadi/core/oracle_function.cpp:326]\n",
      "CasADi - 2024-06-28 10:13:42 WARNING(\"roots:g failed: Inf detected for output x, at (row 0, col 0).\") [.../casadi/core/oracle_function.cpp:326]\n",
      "CasADi - 2024-06-28 10:13:42 WARNING(\"roots:g failed: Inf detected for output x, at (row 0, col 0).\") [.../casadi/core/oracle_function.cpp:326]\n"
     ]
    },
    {
     "name": "stdout",
     "output_type": "stream",
     "text": [
      "Solver failed for parameters: [8.07968750e-05 6.10703125e-05 1.44921875e-05 7.84765625e-01\n",
      " 5.86718750e-01 5.16406250e-06 4.16406250e-06 9.45703125e+02\n",
      " 2.27343750e+02 2.22656250e+00 1.45781250e+00 1.33281250e+00\n",
      " 1.38906250e+00 2.33867188e+04 6.17773438e+04] with error: Events ['Maximum voltage [V]'] are non-positive at initial conditions\n"
     ]
    },
    {
     "name": "stderr",
     "output_type": "stream",
     "text": [
      "CasADi - 2024-06-28 10:13:59 WARNING(\"roots:g failed: Inf detected for output x, at (row 0, col 0).\") [.../casadi/core/oracle_function.cpp:326]\n",
      "CasADi - 2024-06-28 10:13:59 WARNING(\"roots:g failed: Inf detected for output x, at (row 0, col 0).\") [.../casadi/core/oracle_function.cpp:326]\n",
      "CasADi - 2024-06-28 10:13:59 WARNING(\"roots:g failed: Inf detected for output x, at (row 0, col 0).\") [.../casadi/core/oracle_function.cpp:326]\n",
      "CasADi - 2024-06-28 10:13:59 WARNING(\"roots:g failed: Inf detected for output x, at (row 0, col 0).\") [.../casadi/core/oracle_function.cpp:326]\n",
      "CasADi - 2024-06-28 10:13:59 WARNING(\"roots:g failed: Inf detected for output x, at (row 0, col 0).\") [.../casadi/core/oracle_function.cpp:326]\n"
     ]
    },
    {
     "name": "stdout",
     "output_type": "stream",
     "text": [
      "Solver failed for parameters: [6.95468750e-05 6.55390625e-05 1.51171875e-05 7.11328125e-01\n",
      " 6.55468750e-01 4.27343750e-06 4.30468750e-06 9.69140625e+02\n",
      " 1.42968750e+02 3.86718750e+00 1.41093750e+00 1.49843750e+00\n",
      " 1.57343750e+00 2.33867188e+04 6.17773438e+04] with error: Events ['Maximum voltage [V]'] are non-positive at initial conditions\n"
     ]
    },
    {
     "name": "stderr",
     "output_type": "stream",
     "text": [
      "CasADi - 2024-06-28 10:14:02 WARNING(\"roots:g failed: Inf detected for output x, at (row 0, col 0).\") [.../casadi/core/oracle_function.cpp:326]\n",
      "CasADi - 2024-06-28 10:14:02 WARNING(\"roots:g failed: Inf detected for output x, at (row 0, col 0).\") [.../casadi/core/oracle_function.cpp:326]\n",
      "CasADi - 2024-06-28 10:14:02 WARNING(\"roots:g failed: Inf detected for output x, at (row 0, col 0).\") [.../casadi/core/oracle_function.cpp:326]\n",
      "CasADi - 2024-06-28 10:14:02 WARNING(\"roots:g failed: Inf detected for output x, at (row 0, col 0).\") [.../casadi/core/oracle_function.cpp:326]\n",
      "CasADi - 2024-06-28 10:14:02 WARNING(\"roots:g failed: Inf detected for output x, at (row 0, col 0).\") [.../casadi/core/oracle_function.cpp:326]\n"
     ]
    },
    {
     "name": "stdout",
     "output_type": "stream",
     "text": [
      "Solver failed for parameters: [6.27968750e-05 7.40703125e-05 1.94921875e-05 7.34765625e-01\n",
      " 6.86718750e-01 4.16406250e-06 5.16406250e-06 1.09570312e+03\n",
      " 1.27343750e+02 7.22656250e+00 1.65781250e+00 1.53281250e+00\n",
      " 1.58906250e+00 2.88867188e+04 5.18164062e+04] with error: Events ['Maximum voltage [V]'] are non-positive at initial conditions\n"
     ]
    },
    {
     "name": "stderr",
     "output_type": "stream",
     "text": [
      "CasADi - 2024-06-28 10:14:03 WARNING(\"roots:g failed: Inf detected for output x, at (row 0, col 0).\") [.../casadi/core/oracle_function.cpp:326]\n",
      "CasADi - 2024-06-28 10:14:03 WARNING(\"roots:g failed: Inf detected for output x, at (row 0, col 0).\") [.../casadi/core/oracle_function.cpp:326]\n",
      "CasADi - 2024-06-28 10:14:03 WARNING(\"roots:g failed: Inf detected for output x, at (row 0, col 0).\") [.../casadi/core/oracle_function.cpp:326]\n",
      "CasADi - 2024-06-28 10:14:03 WARNING(\"roots:g failed: Inf detected for output x, at (row 0, col 0).\") [.../casadi/core/oracle_function.cpp:326]\n",
      "CasADi - 2024-06-28 10:14:03 WARNING(\"roots:g failed: Inf detected for output x, at (row 0, col 0).\") [.../casadi/core/oracle_function.cpp:326]\n"
     ]
    },
    {
     "name": "stdout",
     "output_type": "stream",
     "text": [
      "Solver failed for parameters: [5.15468750e-05 7.40703125e-05 1.94921875e-05 7.34765625e-01\n",
      " 6.86718750e-01 4.16406250e-06 5.16406250e-06 1.09570312e+03\n",
      " 1.27343750e+02 7.22656250e+00 1.65781250e+00 1.53281250e+00\n",
      " 1.58906250e+00 2.88867188e+04 5.18164062e+04] with error: Events ['Maximum voltage [V]'] are non-positive at initial conditions\n"
     ]
    },
    {
     "name": "stderr",
     "output_type": "stream",
     "text": [
      "CasADi - 2024-06-28 10:14:03 WARNING(\"roots:g failed: Inf detected for output x, at (row 0, col 0).\") [.../casadi/core/oracle_function.cpp:326]\n",
      "CasADi - 2024-06-28 10:14:03 WARNING(\"roots:g failed: Inf detected for output x, at (row 0, col 0).\") [.../casadi/core/oracle_function.cpp:326]\n",
      "CasADi - 2024-06-28 10:14:03 WARNING(\"roots:g failed: Inf detected for output x, at (row 0, col 0).\") [.../casadi/core/oracle_function.cpp:326]\n",
      "CasADi - 2024-06-28 10:14:03 WARNING(\"roots:g failed: Inf detected for output x, at (row 0, col 0).\") [.../casadi/core/oracle_function.cpp:326]\n",
      "CasADi - 2024-06-28 10:14:03 WARNING(\"roots:g failed: Inf detected for output x, at (row 0, col 0).\") [.../casadi/core/oracle_function.cpp:326]\n"
     ]
    },
    {
     "name": "stdout",
     "output_type": "stream",
     "text": [
      "Solver failed for parameters: [6.27968750e-05 5.25390625e-05 1.94921875e-05 7.34765625e-01\n",
      " 6.86718750e-01 4.16406250e-06 5.16406250e-06 1.09570312e+03\n",
      " 1.27343750e+02 7.22656250e+00 1.65781250e+00 1.53281250e+00\n",
      " 1.58906250e+00 2.88867188e+04 5.18164062e+04] with error: Events ['Maximum voltage [V]'] are non-positive at initial conditions\n"
     ]
    },
    {
     "name": "stderr",
     "output_type": "stream",
     "text": [
      "CasADi - 2024-06-28 10:14:04 WARNING(\"roots:g failed: Inf detected for output x, at (row 0, col 0).\") [.../casadi/core/oracle_function.cpp:326]\n",
      "CasADi - 2024-06-28 10:14:04 WARNING(\"roots:g failed: Inf detected for output x, at (row 0, col 0).\") [.../casadi/core/oracle_function.cpp:326]\n",
      "CasADi - 2024-06-28 10:14:04 WARNING(\"roots:g failed: Inf detected for output x, at (row 0, col 0).\") [.../casadi/core/oracle_function.cpp:326]\n",
      "CasADi - 2024-06-28 10:14:04 WARNING(\"roots:g failed: Inf detected for output x, at (row 0, col 0).\") [.../casadi/core/oracle_function.cpp:326]\n",
      "CasADi - 2024-06-28 10:14:04 WARNING(\"roots:g failed: Inf detected for output x, at (row 0, col 0).\") [.../casadi/core/oracle_function.cpp:326]\n"
     ]
    },
    {
     "name": "stdout",
     "output_type": "stream",
     "text": [
      "Solver failed for parameters: [6.27968750e-05 7.40703125e-05 1.01171875e-05 7.34765625e-01\n",
      " 6.86718750e-01 4.16406250e-06 5.16406250e-06 1.09570312e+03\n",
      " 1.27343750e+02 7.22656250e+00 1.65781250e+00 1.53281250e+00\n",
      " 1.58906250e+00 2.88867188e+04 5.18164062e+04] with error: Events ['Maximum voltage [V]'] are non-positive at initial conditions\n"
     ]
    },
    {
     "name": "stderr",
     "output_type": "stream",
     "text": [
      "CasADi - 2024-06-28 10:14:04 WARNING(\"roots:g failed: Inf detected for output x, at (row 0, col 0).\") [.../casadi/core/oracle_function.cpp:326]\n",
      "CasADi - 2024-06-28 10:14:04 WARNING(\"roots:g failed: Inf detected for output x, at (row 0, col 0).\") [.../casadi/core/oracle_function.cpp:326]\n",
      "CasADi - 2024-06-28 10:14:04 WARNING(\"roots:g failed: Inf detected for output x, at (row 0, col 0).\") [.../casadi/core/oracle_function.cpp:326]\n",
      "CasADi - 2024-06-28 10:14:04 WARNING(\"roots:g failed: Inf detected for output x, at (row 0, col 0).\") [.../casadi/core/oracle_function.cpp:326]\n",
      "CasADi - 2024-06-28 10:14:04 WARNING(\"roots:g failed: Inf detected for output x, at (row 0, col 0).\") [.../casadi/core/oracle_function.cpp:326]\n"
     ]
    },
    {
     "name": "stdout",
     "output_type": "stream",
     "text": [
      "Solver failed for parameters: [6.27968750e-05 7.40703125e-05 1.94921875e-05 7.61328125e-01\n",
      " 6.86718750e-01 4.16406250e-06 5.16406250e-06 1.09570312e+03\n",
      " 1.27343750e+02 7.22656250e+00 1.65781250e+00 1.53281250e+00\n",
      " 1.58906250e+00 2.88867188e+04 5.18164062e+04] with error: Events ['Maximum voltage [V]'] are non-positive at initial conditions\n"
     ]
    },
    {
     "name": "stderr",
     "output_type": "stream",
     "text": [
      "CasADi - 2024-06-28 10:14:04 WARNING(\"roots:g failed: Inf detected for output x, at (row 0, col 0).\") [.../casadi/core/oracle_function.cpp:326]\n",
      "CasADi - 2024-06-28 10:14:04 WARNING(\"roots:g failed: Inf detected for output x, at (row 0, col 0).\") [.../casadi/core/oracle_function.cpp:326]\n",
      "CasADi - 2024-06-28 10:14:04 WARNING(\"roots:g failed: Inf detected for output x, at (row 0, col 0).\") [.../casadi/core/oracle_function.cpp:326]\n",
      "CasADi - 2024-06-28 10:14:04 WARNING(\"roots:g failed: Inf detected for output x, at (row 0, col 0).\") [.../casadi/core/oracle_function.cpp:326]\n",
      "CasADi - 2024-06-28 10:14:04 WARNING(\"roots:g failed: Inf detected for output x, at (row 0, col 0).\") [.../casadi/core/oracle_function.cpp:326]\n"
     ]
    },
    {
     "name": "stdout",
     "output_type": "stream",
     "text": [
      "Solver failed for parameters: [6.27968750e-05 7.40703125e-05 1.94921875e-05 7.34765625e-01\n",
      " 5.55468750e-01 4.16406250e-06 5.16406250e-06 1.09570312e+03\n",
      " 1.27343750e+02 7.22656250e+00 1.65781250e+00 1.53281250e+00\n",
      " 1.58906250e+00 2.88867188e+04 5.18164062e+04] with error: Events ['Maximum voltage [V]'] are non-positive at initial conditions\n"
     ]
    },
    {
     "name": "stderr",
     "output_type": "stream",
     "text": [
      "CasADi - 2024-06-28 10:14:05 WARNING(\"roots:g failed: Inf detected for output x, at (row 0, col 0).\") [.../casadi/core/oracle_function.cpp:326]\n",
      "CasADi - 2024-06-28 10:14:05 WARNING(\"roots:g failed: Inf detected for output x, at (row 0, col 0).\") [.../casadi/core/oracle_function.cpp:326]\n",
      "CasADi - 2024-06-28 10:14:05 WARNING(\"roots:g failed: Inf detected for output x, at (row 0, col 0).\") [.../casadi/core/oracle_function.cpp:326]\n",
      "CasADi - 2024-06-28 10:14:05 WARNING(\"roots:g failed: Inf detected for output x, at (row 0, col 0).\") [.../casadi/core/oracle_function.cpp:326]\n",
      "CasADi - 2024-06-28 10:14:05 WARNING(\"roots:g failed: Inf detected for output x, at (row 0, col 0).\") [.../casadi/core/oracle_function.cpp:326]\n"
     ]
    },
    {
     "name": "stdout",
     "output_type": "stream",
     "text": [
      "Solver failed for parameters: [6.27968750e-05 7.40703125e-05 1.94921875e-05 7.34765625e-01\n",
      " 6.86718750e-01 5.27343750e-06 5.16406250e-06 1.09570312e+03\n",
      " 1.27343750e+02 7.22656250e+00 1.65781250e+00 1.53281250e+00\n",
      " 1.58906250e+00 2.88867188e+04 5.18164062e+04] with error: Events ['Maximum voltage [V]'] are non-positive at initial conditions\n"
     ]
    },
    {
     "name": "stderr",
     "output_type": "stream",
     "text": [
      "CasADi - 2024-06-28 10:14:05 WARNING(\"roots:g failed: Inf detected for output x, at (row 0, col 0).\") [.../casadi/core/oracle_function.cpp:326]\n",
      "CasADi - 2024-06-28 10:14:05 WARNING(\"roots:g failed: Inf detected for output x, at (row 0, col 0).\") [.../casadi/core/oracle_function.cpp:326]\n",
      "CasADi - 2024-06-28 10:14:05 WARNING(\"roots:g failed: Inf detected for output x, at (row 0, col 0).\") [.../casadi/core/oracle_function.cpp:326]\n",
      "CasADi - 2024-06-28 10:14:05 WARNING(\"roots:g failed: Inf detected for output x, at (row 0, col 0).\") [.../casadi/core/oracle_function.cpp:326]\n",
      "CasADi - 2024-06-28 10:14:05 WARNING(\"roots:g failed: Inf detected for output x, at (row 0, col 0).\") [.../casadi/core/oracle_function.cpp:326]\n"
     ]
    },
    {
     "name": "stdout",
     "output_type": "stream",
     "text": [
      "Solver failed for parameters: [6.27968750e-05 7.40703125e-05 1.94921875e-05 7.34765625e-01\n",
      " 6.86718750e-01 4.16406250e-06 5.30468750e-06 1.09570312e+03\n",
      " 1.27343750e+02 7.22656250e+00 1.65781250e+00 1.53281250e+00\n",
      " 1.58906250e+00 2.88867188e+04 5.18164062e+04] with error: Events ['Maximum voltage [V]'] are non-positive at initial conditions\n"
     ]
    },
    {
     "name": "stderr",
     "output_type": "stream",
     "text": [
      "CasADi - 2024-06-28 10:14:06 WARNING(\"roots:g failed: Inf detected for output x, at (row 0, col 0).\") [.../casadi/core/oracle_function.cpp:326]\n",
      "CasADi - 2024-06-28 10:14:06 WARNING(\"roots:g failed: Inf detected for output x, at (row 0, col 0).\") [.../casadi/core/oracle_function.cpp:326]\n",
      "CasADi - 2024-06-28 10:14:06 WARNING(\"roots:g failed: Inf detected for output x, at (row 0, col 0).\") [.../casadi/core/oracle_function.cpp:326]\n",
      "CasADi - 2024-06-28 10:14:06 WARNING(\"roots:g failed: Inf detected for output x, at (row 0, col 0).\") [.../casadi/core/oracle_function.cpp:326]\n",
      "CasADi - 2024-06-28 10:14:06 WARNING(\"roots:g failed: Inf detected for output x, at (row 0, col 0).\") [.../casadi/core/oracle_function.cpp:326]\n"
     ]
    },
    {
     "name": "stdout",
     "output_type": "stream",
     "text": [
      "Solver failed for parameters: [6.27968750e-05 7.40703125e-05 1.94921875e-05 7.34765625e-01\n",
      " 6.86718750e-01 4.16406250e-06 5.16406250e-06 1.11914062e+03\n",
      " 1.27343750e+02 7.22656250e+00 1.65781250e+00 1.53281250e+00\n",
      " 1.58906250e+00 2.88867188e+04 5.18164062e+04] with error: Events ['Maximum voltage [V]'] are non-positive at initial conditions\n"
     ]
    },
    {
     "name": "stderr",
     "output_type": "stream",
     "text": [
      "CasADi - 2024-06-28 10:14:07 WARNING(\"roots:g failed: Inf detected for output x, at (row 0, col 0).\") [.../casadi/core/oracle_function.cpp:326]\n",
      "CasADi - 2024-06-28 10:14:07 WARNING(\"roots:g failed: Inf detected for output x, at (row 0, col 0).\") [.../casadi/core/oracle_function.cpp:326]\n",
      "CasADi - 2024-06-28 10:14:07 WARNING(\"roots:g failed: Inf detected for output x, at (row 0, col 0).\") [.../casadi/core/oracle_function.cpp:326]\n",
      "CasADi - 2024-06-28 10:14:07 WARNING(\"roots:g failed: Inf detected for output x, at (row 0, col 0).\") [.../casadi/core/oracle_function.cpp:326]\n",
      "CasADi - 2024-06-28 10:14:07 WARNING(\"roots:g failed: Inf detected for output x, at (row 0, col 0).\") [.../casadi/core/oracle_function.cpp:326]\n"
     ]
    },
    {
     "name": "stdout",
     "output_type": "stream",
     "text": [
      "Solver failed for parameters: [6.27968750e-05 7.40703125e-05 1.94921875e-05 7.34765625e-01\n",
      " 6.86718750e-01 4.16406250e-06 5.16406250e-06 1.09570312e+03\n",
      " 2.42968750e+02 7.22656250e+00 1.65781250e+00 1.53281250e+00\n",
      " 1.58906250e+00 2.88867188e+04 5.18164062e+04] with error: Events ['Maximum voltage [V]'] are non-positive at initial conditions\n"
     ]
    },
    {
     "name": "stderr",
     "output_type": "stream",
     "text": [
      "CasADi - 2024-06-28 10:14:07 WARNING(\"roots:g failed: Inf detected for output x, at (row 0, col 0).\") [.../casadi/core/oracle_function.cpp:326]\n",
      "CasADi - 2024-06-28 10:14:07 WARNING(\"roots:g failed: Inf detected for output x, at (row 0, col 0).\") [.../casadi/core/oracle_function.cpp:326]\n",
      "CasADi - 2024-06-28 10:14:07 WARNING(\"roots:g failed: Inf detected for output x, at (row 0, col 0).\") [.../casadi/core/oracle_function.cpp:326]\n",
      "CasADi - 2024-06-28 10:14:07 WARNING(\"roots:g failed: Inf detected for output x, at (row 0, col 0).\") [.../casadi/core/oracle_function.cpp:326]\n",
      "CasADi - 2024-06-28 10:14:07 WARNING(\"roots:g failed: Inf detected for output x, at (row 0, col 0).\") [.../casadi/core/oracle_function.cpp:326]\n"
     ]
    },
    {
     "name": "stdout",
     "output_type": "stream",
     "text": [
      "Solver failed for parameters: [6.27968750e-05 7.40703125e-05 1.94921875e-05 7.34765625e-01\n",
      " 6.86718750e-01 4.16406250e-06 5.16406250e-06 1.09570312e+03\n",
      " 1.27343750e+02 8.86718750e+00 1.65781250e+00 1.53281250e+00\n",
      " 1.58906250e+00 2.88867188e+04 5.18164062e+04] with error: Events ['Maximum voltage [V]'] are non-positive at initial conditions\n"
     ]
    },
    {
     "name": "stderr",
     "output_type": "stream",
     "text": [
      "CasADi - 2024-06-28 10:14:08 WARNING(\"roots:g failed: Inf detected for output x, at (row 0, col 0).\") [.../casadi/core/oracle_function.cpp:326]\n",
      "CasADi - 2024-06-28 10:14:08 WARNING(\"roots:g failed: Inf detected for output x, at (row 0, col 0).\") [.../casadi/core/oracle_function.cpp:326]\n",
      "CasADi - 2024-06-28 10:14:08 WARNING(\"roots:g failed: Inf detected for output x, at (row 0, col 0).\") [.../casadi/core/oracle_function.cpp:326]\n",
      "CasADi - 2024-06-28 10:14:08 WARNING(\"roots:g failed: Inf detected for output x, at (row 0, col 0).\") [.../casadi/core/oracle_function.cpp:326]\n",
      "CasADi - 2024-06-28 10:14:08 WARNING(\"roots:g failed: Inf detected for output x, at (row 0, col 0).\") [.../casadi/core/oracle_function.cpp:326]\n"
     ]
    },
    {
     "name": "stdout",
     "output_type": "stream",
     "text": [
      "Solver failed for parameters: [6.27968750e-05 7.40703125e-05 1.94921875e-05 7.34765625e-01\n",
      " 6.86718750e-01 4.16406250e-06 5.16406250e-06 1.09570312e+03\n",
      " 1.27343750e+02 7.22656250e+00 1.61093750e+00 1.53281250e+00\n",
      " 1.58906250e+00 2.88867188e+04 5.18164062e+04] with error: Events ['Maximum voltage [V]'] are non-positive at initial conditions\n"
     ]
    },
    {
     "name": "stderr",
     "output_type": "stream",
     "text": [
      "CasADi - 2024-06-28 10:14:08 WARNING(\"roots:g failed: Inf detected for output x, at (row 0, col 0).\") [.../casadi/core/oracle_function.cpp:326]\n",
      "CasADi - 2024-06-28 10:14:08 WARNING(\"roots:g failed: Inf detected for output x, at (row 0, col 0).\") [.../casadi/core/oracle_function.cpp:326]\n",
      "CasADi - 2024-06-28 10:14:08 WARNING(\"roots:g failed: Inf detected for output x, at (row 0, col 0).\") [.../casadi/core/oracle_function.cpp:326]\n",
      "CasADi - 2024-06-28 10:14:08 WARNING(\"roots:g failed: Inf detected for output x, at (row 0, col 0).\") [.../casadi/core/oracle_function.cpp:326]\n",
      "CasADi - 2024-06-28 10:14:08 WARNING(\"roots:g failed: Inf detected for output x, at (row 0, col 0).\") [.../casadi/core/oracle_function.cpp:326]\n"
     ]
    },
    {
     "name": "stdout",
     "output_type": "stream",
     "text": [
      "Solver failed for parameters: [6.27968750e-05 7.40703125e-05 1.94921875e-05 7.34765625e-01\n",
      " 6.86718750e-01 4.16406250e-06 5.16406250e-06 1.09570312e+03\n",
      " 1.27343750e+02 7.22656250e+00 1.65781250e+00 1.69843750e+00\n",
      " 1.58906250e+00 2.88867188e+04 5.18164062e+04] with error: Events ['Maximum voltage [V]'] are non-positive at initial conditions\n"
     ]
    },
    {
     "name": "stderr",
     "output_type": "stream",
     "text": [
      "CasADi - 2024-06-28 10:14:08 WARNING(\"roots:g failed: Inf detected for output x, at (row 0, col 0).\") [.../casadi/core/oracle_function.cpp:326]\n",
      "CasADi - 2024-06-28 10:14:08 WARNING(\"roots:g failed: Inf detected for output x, at (row 0, col 0).\") [.../casadi/core/oracle_function.cpp:326]\n",
      "CasADi - 2024-06-28 10:14:08 WARNING(\"roots:g failed: Inf detected for output x, at (row 0, col 0).\") [.../casadi/core/oracle_function.cpp:326]\n",
      "CasADi - 2024-06-28 10:14:08 WARNING(\"roots:g failed: Inf detected for output x, at (row 0, col 0).\") [.../casadi/core/oracle_function.cpp:326]\n",
      "CasADi - 2024-06-28 10:14:08 WARNING(\"roots:g failed: Inf detected for output x, at (row 0, col 0).\") [.../casadi/core/oracle_function.cpp:326]\n"
     ]
    },
    {
     "name": "stdout",
     "output_type": "stream",
     "text": [
      "Solver failed for parameters: [6.27968750e-05 7.40703125e-05 1.94921875e-05 7.34765625e-01\n",
      " 6.86718750e-01 4.16406250e-06 5.16406250e-06 1.09570312e+03\n",
      " 1.27343750e+02 7.22656250e+00 1.65781250e+00 1.53281250e+00\n",
      " 1.37343750e+00 2.88867188e+04 5.18164062e+04] with error: Events ['Maximum voltage [V]'] are non-positive at initial conditions\n"
     ]
    },
    {
     "name": "stderr",
     "output_type": "stream",
     "text": [
      "CasADi - 2024-06-28 10:14:09 WARNING(\"roots:g failed: Inf detected for output x, at (row 0, col 0).\") [.../casadi/core/oracle_function.cpp:326]\n",
      "CasADi - 2024-06-28 10:14:09 WARNING(\"roots:g failed: Inf detected for output x, at (row 0, col 0).\") [.../casadi/core/oracle_function.cpp:326]\n",
      "CasADi - 2024-06-28 10:14:09 WARNING(\"roots:g failed: Inf detected for output x, at (row 0, col 0).\") [.../casadi/core/oracle_function.cpp:326]\n",
      "CasADi - 2024-06-28 10:14:09 WARNING(\"roots:g failed: Inf detected for output x, at (row 0, col 0).\") [.../casadi/core/oracle_function.cpp:326]\n",
      "CasADi - 2024-06-28 10:14:09 WARNING(\"roots:g failed: Inf detected for output x, at (row 0, col 0).\") [.../casadi/core/oracle_function.cpp:326]\n"
     ]
    },
    {
     "name": "stdout",
     "output_type": "stream",
     "text": [
      "Solver failed for parameters: [6.27968750e-05 7.40703125e-05 1.94921875e-05 7.34765625e-01\n",
      " 6.86718750e-01 4.16406250e-06 5.16406250e-06 1.09570312e+03\n",
      " 1.27343750e+02 7.22656250e+00 1.65781250e+00 1.53281250e+00\n",
      " 1.58906250e+00 2.81992188e+04 5.18164062e+04] with error: Events ['Maximum voltage [V]'] are non-positive at initial conditions\n"
     ]
    },
    {
     "name": "stderr",
     "output_type": "stream",
     "text": [
      "CasADi - 2024-06-28 10:14:09 WARNING(\"roots:g failed: Inf detected for output x, at (row 0, col 0).\") [.../casadi/core/oracle_function.cpp:326]\n",
      "CasADi - 2024-06-28 10:14:09 WARNING(\"roots:g failed: Inf detected for output x, at (row 0, col 0).\") [.../casadi/core/oracle_function.cpp:326]\n",
      "CasADi - 2024-06-28 10:14:09 WARNING(\"roots:g failed: Inf detected for output x, at (row 0, col 0).\") [.../casadi/core/oracle_function.cpp:326]\n",
      "CasADi - 2024-06-28 10:14:09 WARNING(\"roots:g failed: Inf detected for output x, at (row 0, col 0).\") [.../casadi/core/oracle_function.cpp:326]\n",
      "CasADi - 2024-06-28 10:14:09 WARNING(\"roots:g failed: Inf detected for output x, at (row 0, col 0).\") [.../casadi/core/oracle_function.cpp:326]\n"
     ]
    },
    {
     "name": "stdout",
     "output_type": "stream",
     "text": [
      "Solver failed for parameters: [6.27968750e-05 7.40703125e-05 1.94921875e-05 7.34765625e-01\n",
      " 6.86718750e-01 4.16406250e-06 5.16406250e-06 1.09570312e+03\n",
      " 1.27343750e+02 7.22656250e+00 1.65781250e+00 1.53281250e+00\n",
      " 1.58906250e+00 2.88867188e+04 5.42773438e+04] with error: Events ['Maximum voltage [V]'] are non-positive at initial conditions\n"
     ]
    },
    {
     "name": "stderr",
     "output_type": "stream",
     "text": [
      "CasADi - 2024-06-28 10:14:10 WARNING(\"roots:g failed: Inf detected for output x, at (row 0, col 0).\") [.../casadi/core/oracle_function.cpp:326]\n",
      "CasADi - 2024-06-28 10:14:10 WARNING(\"roots:g failed: Inf detected for output x, at (row 0, col 0).\") [.../casadi/core/oracle_function.cpp:326]\n",
      "CasADi - 2024-06-28 10:14:10 WARNING(\"roots:g failed: Inf detected for output x, at (row 0, col 0).\") [.../casadi/core/oracle_function.cpp:326]\n",
      "CasADi - 2024-06-28 10:14:10 WARNING(\"roots:g failed: Inf detected for output x, at (row 0, col 0).\") [.../casadi/core/oracle_function.cpp:326]\n",
      "CasADi - 2024-06-28 10:14:10 WARNING(\"roots:g failed: Inf detected for output x, at (row 0, col 0).\") [.../casadi/core/oracle_function.cpp:326]\n"
     ]
    },
    {
     "name": "stdout",
     "output_type": "stream",
     "text": [
      "Solver failed for parameters: [6.27968750e-05 5.25390625e-05 1.01171875e-05 7.61328125e-01\n",
      " 5.55468750e-01 5.27343750e-06 5.30468750e-06 1.11914062e+03\n",
      " 2.42968750e+02 8.86718750e+00 1.61093750e+00 1.69843750e+00\n",
      " 1.37343750e+00 2.81992188e+04 5.42773438e+04] with error: Events ['Maximum voltage [V]'] are non-positive at initial conditions\n"
     ]
    },
    {
     "name": "stderr",
     "output_type": "stream",
     "text": [
      "CasADi - 2024-06-28 10:14:10 WARNING(\"roots:g failed: Inf detected for output x, at (row 0, col 0).\") [.../casadi/core/oracle_function.cpp:326]\n",
      "CasADi - 2024-06-28 10:14:10 WARNING(\"roots:g failed: Inf detected for output x, at (row 0, col 0).\") [.../casadi/core/oracle_function.cpp:326]\n",
      "CasADi - 2024-06-28 10:14:10 WARNING(\"roots:g failed: Inf detected for output x, at (row 0, col 0).\") [.../casadi/core/oracle_function.cpp:326]\n",
      "CasADi - 2024-06-28 10:14:10 WARNING(\"roots:g failed: Inf detected for output x, at (row 0, col 0).\") [.../casadi/core/oracle_function.cpp:326]\n",
      "CasADi - 2024-06-28 10:14:10 WARNING(\"roots:g failed: Inf detected for output x, at (row 0, col 0).\") [.../casadi/core/oracle_function.cpp:326]\n"
     ]
    },
    {
     "name": "stdout",
     "output_type": "stream",
     "text": [
      "Solver failed for parameters: [5.15468750e-05 7.40703125e-05 1.01171875e-05 7.61328125e-01\n",
      " 5.55468750e-01 5.27343750e-06 5.30468750e-06 1.11914062e+03\n",
      " 2.42968750e+02 8.86718750e+00 1.61093750e+00 1.69843750e+00\n",
      " 1.37343750e+00 2.81992188e+04 5.42773438e+04] with error: Events ['Maximum voltage [V]'] are non-positive at initial conditions\n"
     ]
    },
    {
     "name": "stderr",
     "output_type": "stream",
     "text": [
      "CasADi - 2024-06-28 10:14:11 WARNING(\"roots:g failed: Inf detected for output x, at (row 0, col 0).\") [.../casadi/core/oracle_function.cpp:326]\n",
      "CasADi - 2024-06-28 10:14:11 WARNING(\"roots:g failed: Inf detected for output x, at (row 0, col 0).\") [.../casadi/core/oracle_function.cpp:326]\n",
      "CasADi - 2024-06-28 10:14:11 WARNING(\"roots:g failed: Inf detected for output x, at (row 0, col 0).\") [.../casadi/core/oracle_function.cpp:326]\n",
      "CasADi - 2024-06-28 10:14:11 WARNING(\"roots:g failed: Inf detected for output x, at (row 0, col 0).\") [.../casadi/core/oracle_function.cpp:326]\n",
      "CasADi - 2024-06-28 10:14:11 WARNING(\"roots:g failed: Inf detected for output x, at (row 0, col 0).\") [.../casadi/core/oracle_function.cpp:326]\n"
     ]
    },
    {
     "name": "stdout",
     "output_type": "stream",
     "text": [
      "Solver failed for parameters: [5.15468750e-05 5.25390625e-05 1.94921875e-05 7.61328125e-01\n",
      " 5.55468750e-01 5.27343750e-06 5.30468750e-06 1.11914062e+03\n",
      " 2.42968750e+02 8.86718750e+00 1.61093750e+00 1.69843750e+00\n",
      " 1.37343750e+00 2.81992188e+04 5.42773438e+04] with error: Events ['Maximum voltage [V]'] are non-positive at initial conditions\n"
     ]
    },
    {
     "name": "stderr",
     "output_type": "stream",
     "text": [
      "CasADi - 2024-06-28 10:14:11 WARNING(\"roots:g failed: Inf detected for output x, at (row 0, col 0).\") [.../casadi/core/oracle_function.cpp:326]\n",
      "CasADi - 2024-06-28 10:14:11 WARNING(\"roots:g failed: Inf detected for output x, at (row 0, col 0).\") [.../casadi/core/oracle_function.cpp:326]\n",
      "CasADi - 2024-06-28 10:14:11 WARNING(\"roots:g failed: Inf detected for output x, at (row 0, col 0).\") [.../casadi/core/oracle_function.cpp:326]\n",
      "CasADi - 2024-06-28 10:14:11 WARNING(\"roots:g failed: Inf detected for output x, at (row 0, col 0).\") [.../casadi/core/oracle_function.cpp:326]\n",
      "CasADi - 2024-06-28 10:14:11 WARNING(\"roots:g failed: Inf detected for output x, at (row 0, col 0).\") [.../casadi/core/oracle_function.cpp:326]\n"
     ]
    },
    {
     "name": "stdout",
     "output_type": "stream",
     "text": [
      "Solver failed for parameters: [5.15468750e-05 5.25390625e-05 1.01171875e-05 7.34765625e-01\n",
      " 5.55468750e-01 5.27343750e-06 5.30468750e-06 1.11914062e+03\n",
      " 2.42968750e+02 8.86718750e+00 1.61093750e+00 1.69843750e+00\n",
      " 1.37343750e+00 2.81992188e+04 5.42773438e+04] with error: Events ['Maximum voltage [V]'] are non-positive at initial conditions\n"
     ]
    },
    {
     "name": "stderr",
     "output_type": "stream",
     "text": [
      "CasADi - 2024-06-28 10:14:12 WARNING(\"roots:g failed: Inf detected for output x, at (row 0, col 0).\") [.../casadi/core/oracle_function.cpp:326]\n",
      "CasADi - 2024-06-28 10:14:12 WARNING(\"roots:g failed: Inf detected for output x, at (row 0, col 0).\") [.../casadi/core/oracle_function.cpp:326]\n",
      "CasADi - 2024-06-28 10:14:12 WARNING(\"roots:g failed: Inf detected for output x, at (row 0, col 0).\") [.../casadi/core/oracle_function.cpp:326]\n",
      "CasADi - 2024-06-28 10:14:12 WARNING(\"roots:g failed: Inf detected for output x, at (row 0, col 0).\") [.../casadi/core/oracle_function.cpp:326]\n",
      "CasADi - 2024-06-28 10:14:12 WARNING(\"roots:g failed: Inf detected for output x, at (row 0, col 0).\") [.../casadi/core/oracle_function.cpp:326]\n"
     ]
    },
    {
     "name": "stdout",
     "output_type": "stream",
     "text": [
      "Solver failed for parameters: [5.15468750e-05 5.25390625e-05 1.01171875e-05 7.61328125e-01\n",
      " 6.86718750e-01 5.27343750e-06 5.30468750e-06 1.11914062e+03\n",
      " 2.42968750e+02 8.86718750e+00 1.61093750e+00 1.69843750e+00\n",
      " 1.37343750e+00 2.81992188e+04 5.42773438e+04] with error: Events ['Maximum voltage [V]'] are non-positive at initial conditions\n"
     ]
    },
    {
     "name": "stderr",
     "output_type": "stream",
     "text": [
      "CasADi - 2024-06-28 10:14:12 WARNING(\"roots:g failed: Inf detected for output x, at (row 0, col 0).\") [.../casadi/core/oracle_function.cpp:326]\n",
      "CasADi - 2024-06-28 10:14:12 WARNING(\"roots:g failed: Inf detected for output x, at (row 0, col 0).\") [.../casadi/core/oracle_function.cpp:326]\n",
      "CasADi - 2024-06-28 10:14:12 WARNING(\"roots:g failed: Inf detected for output x, at (row 0, col 0).\") [.../casadi/core/oracle_function.cpp:326]\n",
      "CasADi - 2024-06-28 10:14:12 WARNING(\"roots:g failed: Inf detected for output x, at (row 0, col 0).\") [.../casadi/core/oracle_function.cpp:326]\n",
      "CasADi - 2024-06-28 10:14:12 WARNING(\"roots:g failed: Inf detected for output x, at (row 0, col 0).\") [.../casadi/core/oracle_function.cpp:326]\n"
     ]
    },
    {
     "name": "stdout",
     "output_type": "stream",
     "text": [
      "Solver failed for parameters: [5.15468750e-05 5.25390625e-05 1.01171875e-05 7.61328125e-01\n",
      " 5.55468750e-01 4.16406250e-06 5.30468750e-06 1.11914062e+03\n",
      " 2.42968750e+02 8.86718750e+00 1.61093750e+00 1.69843750e+00\n",
      " 1.37343750e+00 2.81992188e+04 5.42773438e+04] with error: Events ['Maximum voltage [V]'] are non-positive at initial conditions\n"
     ]
    },
    {
     "name": "stderr",
     "output_type": "stream",
     "text": [
      "CasADi - 2024-06-28 10:14:13 WARNING(\"roots:g failed: Inf detected for output x, at (row 0, col 0).\") [.../casadi/core/oracle_function.cpp:326]\n",
      "CasADi - 2024-06-28 10:14:13 WARNING(\"roots:g failed: Inf detected for output x, at (row 0, col 0).\") [.../casadi/core/oracle_function.cpp:326]\n",
      "CasADi - 2024-06-28 10:14:13 WARNING(\"roots:g failed: Inf detected for output x, at (row 0, col 0).\") [.../casadi/core/oracle_function.cpp:326]\n",
      "CasADi - 2024-06-28 10:14:13 WARNING(\"roots:g failed: Inf detected for output x, at (row 0, col 0).\") [.../casadi/core/oracle_function.cpp:326]\n",
      "CasADi - 2024-06-28 10:14:13 WARNING(\"roots:g failed: Inf detected for output x, at (row 0, col 0).\") [.../casadi/core/oracle_function.cpp:326]\n"
     ]
    },
    {
     "name": "stdout",
     "output_type": "stream",
     "text": [
      "Solver failed for parameters: [5.15468750e-05 5.25390625e-05 1.01171875e-05 7.61328125e-01\n",
      " 5.55468750e-01 5.27343750e-06 5.16406250e-06 1.11914062e+03\n",
      " 2.42968750e+02 8.86718750e+00 1.61093750e+00 1.69843750e+00\n",
      " 1.37343750e+00 2.81992188e+04 5.42773438e+04] with error: Events ['Maximum voltage [V]'] are non-positive at initial conditions\n"
     ]
    },
    {
     "name": "stderr",
     "output_type": "stream",
     "text": [
      "CasADi - 2024-06-28 10:14:13 WARNING(\"roots:g failed: Inf detected for output x, at (row 0, col 0).\") [.../casadi/core/oracle_function.cpp:326]\n",
      "CasADi - 2024-06-28 10:14:13 WARNING(\"roots:g failed: Inf detected for output x, at (row 0, col 0).\") [.../casadi/core/oracle_function.cpp:326]\n",
      "CasADi - 2024-06-28 10:14:13 WARNING(\"roots:g failed: Inf detected for output x, at (row 0, col 0).\") [.../casadi/core/oracle_function.cpp:326]\n",
      "CasADi - 2024-06-28 10:14:13 WARNING(\"roots:g failed: Inf detected for output x, at (row 0, col 0).\") [.../casadi/core/oracle_function.cpp:326]\n",
      "CasADi - 2024-06-28 10:14:13 WARNING(\"roots:g failed: Inf detected for output x, at (row 0, col 0).\") [.../casadi/core/oracle_function.cpp:326]\n"
     ]
    },
    {
     "name": "stdout",
     "output_type": "stream",
     "text": [
      "Solver failed for parameters: [5.15468750e-05 5.25390625e-05 1.01171875e-05 7.61328125e-01\n",
      " 5.55468750e-01 5.27343750e-06 5.30468750e-06 1.09570312e+03\n",
      " 2.42968750e+02 8.86718750e+00 1.61093750e+00 1.69843750e+00\n",
      " 1.37343750e+00 2.81992188e+04 5.42773438e+04] with error: Events ['Maximum voltage [V]'] are non-positive at initial conditions\n"
     ]
    },
    {
     "name": "stderr",
     "output_type": "stream",
     "text": [
      "CasADi - 2024-06-28 10:14:14 WARNING(\"roots:g failed: Inf detected for output x, at (row 0, col 0).\") [.../casadi/core/oracle_function.cpp:326]\n",
      "CasADi - 2024-06-28 10:14:14 WARNING(\"roots:g failed: Inf detected for output x, at (row 0, col 0).\") [.../casadi/core/oracle_function.cpp:326]\n",
      "CasADi - 2024-06-28 10:14:14 WARNING(\"roots:g failed: Inf detected for output x, at (row 0, col 0).\") [.../casadi/core/oracle_function.cpp:326]\n",
      "CasADi - 2024-06-28 10:14:14 WARNING(\"roots:g failed: Inf detected for output x, at (row 0, col 0).\") [.../casadi/core/oracle_function.cpp:326]\n",
      "CasADi - 2024-06-28 10:14:14 WARNING(\"roots:g failed: Inf detected for output x, at (row 0, col 0).\") [.../casadi/core/oracle_function.cpp:326]\n"
     ]
    },
    {
     "name": "stdout",
     "output_type": "stream",
     "text": [
      "Solver failed for parameters: [5.15468750e-05 5.25390625e-05 1.01171875e-05 7.61328125e-01\n",
      " 5.55468750e-01 5.27343750e-06 5.30468750e-06 1.11914062e+03\n",
      " 1.27343750e+02 8.86718750e+00 1.61093750e+00 1.69843750e+00\n",
      " 1.37343750e+00 2.81992188e+04 5.42773438e+04] with error: Events ['Maximum voltage [V]'] are non-positive at initial conditions\n"
     ]
    },
    {
     "name": "stderr",
     "output_type": "stream",
     "text": [
      "CasADi - 2024-06-28 10:14:14 WARNING(\"roots:g failed: Inf detected for output x, at (row 0, col 0).\") [.../casadi/core/oracle_function.cpp:326]\n",
      "CasADi - 2024-06-28 10:14:14 WARNING(\"roots:g failed: Inf detected for output x, at (row 0, col 0).\") [.../casadi/core/oracle_function.cpp:326]\n",
      "CasADi - 2024-06-28 10:14:14 WARNING(\"roots:g failed: Inf detected for output x, at (row 0, col 0).\") [.../casadi/core/oracle_function.cpp:326]\n",
      "CasADi - 2024-06-28 10:14:14 WARNING(\"roots:g failed: Inf detected for output x, at (row 0, col 0).\") [.../casadi/core/oracle_function.cpp:326]\n",
      "CasADi - 2024-06-28 10:14:14 WARNING(\"roots:g failed: Inf detected for output x, at (row 0, col 0).\") [.../casadi/core/oracle_function.cpp:326]\n"
     ]
    },
    {
     "name": "stdout",
     "output_type": "stream",
     "text": [
      "Solver failed for parameters: [5.15468750e-05 5.25390625e-05 1.01171875e-05 7.61328125e-01\n",
      " 5.55468750e-01 5.27343750e-06 5.30468750e-06 1.11914062e+03\n",
      " 2.42968750e+02 7.22656250e+00 1.61093750e+00 1.69843750e+00\n",
      " 1.37343750e+00 2.81992188e+04 5.42773438e+04] with error: Events ['Maximum voltage [V]'] are non-positive at initial conditions\n"
     ]
    },
    {
     "name": "stderr",
     "output_type": "stream",
     "text": [
      "CasADi - 2024-06-28 10:14:14 WARNING(\"roots:g failed: Inf detected for output x, at (row 0, col 0).\") [.../casadi/core/oracle_function.cpp:326]\n",
      "CasADi - 2024-06-28 10:14:14 WARNING(\"roots:g failed: Inf detected for output x, at (row 0, col 0).\") [.../casadi/core/oracle_function.cpp:326]\n",
      "CasADi - 2024-06-28 10:14:14 WARNING(\"roots:g failed: Inf detected for output x, at (row 0, col 0).\") [.../casadi/core/oracle_function.cpp:326]\n",
      "CasADi - 2024-06-28 10:14:14 WARNING(\"roots:g failed: Inf detected for output x, at (row 0, col 0).\") [.../casadi/core/oracle_function.cpp:326]\n",
      "CasADi - 2024-06-28 10:14:14 WARNING(\"roots:g failed: Inf detected for output x, at (row 0, col 0).\") [.../casadi/core/oracle_function.cpp:326]\n"
     ]
    },
    {
     "name": "stdout",
     "output_type": "stream",
     "text": [
      "Solver failed for parameters: [5.15468750e-05 5.25390625e-05 1.01171875e-05 7.61328125e-01\n",
      " 5.55468750e-01 5.27343750e-06 5.30468750e-06 1.11914062e+03\n",
      " 2.42968750e+02 8.86718750e+00 1.65781250e+00 1.69843750e+00\n",
      " 1.37343750e+00 2.81992188e+04 5.42773438e+04] with error: Events ['Maximum voltage [V]'] are non-positive at initial conditions\n"
     ]
    },
    {
     "name": "stderr",
     "output_type": "stream",
     "text": [
      "CasADi - 2024-06-28 10:14:15 WARNING(\"roots:g failed: Inf detected for output x, at (row 0, col 0).\") [.../casadi/core/oracle_function.cpp:326]\n",
      "CasADi - 2024-06-28 10:14:15 WARNING(\"roots:g failed: Inf detected for output x, at (row 0, col 0).\") [.../casadi/core/oracle_function.cpp:326]\n",
      "CasADi - 2024-06-28 10:14:15 WARNING(\"roots:g failed: Inf detected for output x, at (row 0, col 0).\") [.../casadi/core/oracle_function.cpp:326]\n",
      "CasADi - 2024-06-28 10:14:15 WARNING(\"roots:g failed: Inf detected for output x, at (row 0, col 0).\") [.../casadi/core/oracle_function.cpp:326]\n",
      "CasADi - 2024-06-28 10:14:15 WARNING(\"roots:g failed: Inf detected for output x, at (row 0, col 0).\") [.../casadi/core/oracle_function.cpp:326]\n"
     ]
    },
    {
     "name": "stdout",
     "output_type": "stream",
     "text": [
      "Solver failed for parameters: [5.15468750e-05 5.25390625e-05 1.01171875e-05 7.61328125e-01\n",
      " 5.55468750e-01 5.27343750e-06 5.30468750e-06 1.11914062e+03\n",
      " 2.42968750e+02 8.86718750e+00 1.61093750e+00 1.53281250e+00\n",
      " 1.37343750e+00 2.81992188e+04 5.42773438e+04] with error: Events ['Maximum voltage [V]'] are non-positive at initial conditions\n"
     ]
    },
    {
     "name": "stderr",
     "output_type": "stream",
     "text": [
      "CasADi - 2024-06-28 10:14:15 WARNING(\"roots:g failed: Inf detected for output x, at (row 0, col 0).\") [.../casadi/core/oracle_function.cpp:326]\n",
      "CasADi - 2024-06-28 10:14:15 WARNING(\"roots:g failed: Inf detected for output x, at (row 0, col 0).\") [.../casadi/core/oracle_function.cpp:326]\n",
      "CasADi - 2024-06-28 10:14:15 WARNING(\"roots:g failed: Inf detected for output x, at (row 0, col 0).\") [.../casadi/core/oracle_function.cpp:326]\n",
      "CasADi - 2024-06-28 10:14:15 WARNING(\"roots:g failed: Inf detected for output x, at (row 0, col 0).\") [.../casadi/core/oracle_function.cpp:326]\n",
      "CasADi - 2024-06-28 10:14:15 WARNING(\"roots:g failed: Inf detected for output x, at (row 0, col 0).\") [.../casadi/core/oracle_function.cpp:326]\n"
     ]
    },
    {
     "name": "stdout",
     "output_type": "stream",
     "text": [
      "Solver failed for parameters: [5.15468750e-05 5.25390625e-05 1.01171875e-05 7.61328125e-01\n",
      " 5.55468750e-01 5.27343750e-06 5.30468750e-06 1.11914062e+03\n",
      " 2.42968750e+02 8.86718750e+00 1.61093750e+00 1.69843750e+00\n",
      " 1.58906250e+00 2.81992188e+04 5.42773438e+04] with error: Events ['Maximum voltage [V]'] are non-positive at initial conditions\n"
     ]
    },
    {
     "name": "stderr",
     "output_type": "stream",
     "text": [
      "CasADi - 2024-06-28 10:14:16 WARNING(\"roots:g failed: Inf detected for output x, at (row 0, col 0).\") [.../casadi/core/oracle_function.cpp:326]\n",
      "CasADi - 2024-06-28 10:14:16 WARNING(\"roots:g failed: Inf detected for output x, at (row 0, col 0).\") [.../casadi/core/oracle_function.cpp:326]\n",
      "CasADi - 2024-06-28 10:14:16 WARNING(\"roots:g failed: Inf detected for output x, at (row 0, col 0).\") [.../casadi/core/oracle_function.cpp:326]\n",
      "CasADi - 2024-06-28 10:14:16 WARNING(\"roots:g failed: Inf detected for output x, at (row 0, col 0).\") [.../casadi/core/oracle_function.cpp:326]\n",
      "CasADi - 2024-06-28 10:14:16 WARNING(\"roots:g failed: Inf detected for output x, at (row 0, col 0).\") [.../casadi/core/oracle_function.cpp:326]\n"
     ]
    },
    {
     "name": "stdout",
     "output_type": "stream",
     "text": [
      "Solver failed for parameters: [5.15468750e-05 5.25390625e-05 1.01171875e-05 7.61328125e-01\n",
      " 5.55468750e-01 5.27343750e-06 5.30468750e-06 1.11914062e+03\n",
      " 2.42968750e+02 8.86718750e+00 1.61093750e+00 1.69843750e+00\n",
      " 1.37343750e+00 2.88867188e+04 5.42773438e+04] with error: Events ['Maximum voltage [V]'] are non-positive at initial conditions\n"
     ]
    },
    {
     "name": "stderr",
     "output_type": "stream",
     "text": [
      "CasADi - 2024-06-28 10:14:16 WARNING(\"roots:g failed: Inf detected for output x, at (row 0, col 0).\") [.../casadi/core/oracle_function.cpp:326]\n",
      "CasADi - 2024-06-28 10:14:16 WARNING(\"roots:g failed: Inf detected for output x, at (row 0, col 0).\") [.../casadi/core/oracle_function.cpp:326]\n",
      "CasADi - 2024-06-28 10:14:16 WARNING(\"roots:g failed: Inf detected for output x, at (row 0, col 0).\") [.../casadi/core/oracle_function.cpp:326]\n",
      "CasADi - 2024-06-28 10:14:16 WARNING(\"roots:g failed: Inf detected for output x, at (row 0, col 0).\") [.../casadi/core/oracle_function.cpp:326]\n",
      "CasADi - 2024-06-28 10:14:16 WARNING(\"roots:g failed: Inf detected for output x, at (row 0, col 0).\") [.../casadi/core/oracle_function.cpp:326]\n"
     ]
    },
    {
     "name": "stdout",
     "output_type": "stream",
     "text": [
      "Solver failed for parameters: [5.15468750e-05 5.25390625e-05 1.01171875e-05 7.61328125e-01\n",
      " 5.55468750e-01 5.27343750e-06 5.30468750e-06 1.11914062e+03\n",
      " 2.42968750e+02 8.86718750e+00 1.61093750e+00 1.69843750e+00\n",
      " 1.37343750e+00 2.81992188e+04 5.18164062e+04] with error: Events ['Maximum voltage [V]'] are non-positive at initial conditions\n"
     ]
    },
    {
     "name": "stderr",
     "output_type": "stream",
     "text": [
      "CasADi - 2024-06-28 10:14:17 WARNING(\"roots:g failed: Inf detected for output x, at (row 0, col 0).\") [.../casadi/core/oracle_function.cpp:326]\n",
      "CasADi - 2024-06-28 10:14:17 WARNING(\"roots:g failed: Inf detected for output x, at (row 0, col 0).\") [.../casadi/core/oracle_function.cpp:326]\n",
      "CasADi - 2024-06-28 10:14:17 WARNING(\"roots:g failed: Inf detected for output x, at (row 0, col 0).\") [.../casadi/core/oracle_function.cpp:326]\n",
      "CasADi - 2024-06-28 10:14:17 WARNING(\"roots:g failed: Inf detected for output x, at (row 0, col 0).\") [.../casadi/core/oracle_function.cpp:326]\n",
      "CasADi - 2024-06-28 10:14:17 WARNING(\"roots:g failed: Inf detected for output x, at (row 0, col 0).\") [.../casadi/core/oracle_function.cpp:326]\n"
     ]
    },
    {
     "name": "stdout",
     "output_type": "stream",
     "text": [
      "Solver failed for parameters: [5.15468750e-05 5.25390625e-05 1.01171875e-05 7.61328125e-01\n",
      " 5.55468750e-01 5.27343750e-06 5.30468750e-06 1.11914062e+03\n",
      " 2.42968750e+02 8.86718750e+00 1.61093750e+00 1.69843750e+00\n",
      " 1.37343750e+00 2.81992188e+04 5.42773438e+04] with error: Events ['Maximum voltage [V]'] are non-positive at initial conditions\n"
     ]
    },
    {
     "name": "stderr",
     "output_type": "stream",
     "text": [
      "CasADi - 2024-06-28 10:14:36 WARNING(\"roots:g failed: Inf detected for output x, at (row 0, col 0).\") [.../casadi/core/oracle_function.cpp:326]\n",
      "CasADi - 2024-06-28 10:14:36 WARNING(\"roots:g failed: Inf detected for output x, at (row 0, col 0).\") [.../casadi/core/oracle_function.cpp:326]\n",
      "CasADi - 2024-06-28 10:14:36 WARNING(\"roots:g failed: Inf detected for output x, at (row 0, col 0).\") [.../casadi/core/oracle_function.cpp:326]\n",
      "CasADi - 2024-06-28 10:14:36 WARNING(\"roots:g failed: Inf detected for output x, at (row 0, col 0).\") [.../casadi/core/oracle_function.cpp:326]\n",
      "CasADi - 2024-06-28 10:14:36 WARNING(\"roots:g failed: Inf detected for output x, at (row 0, col 0).\") [.../casadi/core/oracle_function.cpp:326]\n"
     ]
    },
    {
     "name": "stdout",
     "output_type": "stream",
     "text": [
      "Solver failed for parameters: [6.72968750e-05 5.78203125e-05 1.57421875e-05 7.47265625e-01\n",
      " 6.61718750e-01 4.91406250e-06 4.41406250e-06 9.08203125e+02\n",
      " 2.02343750e+02 3.47656250e+00 1.40781250e+00 1.58281250e+00\n",
      " 1.33906250e+00 2.95742188e+04 5.36914062e+04] with error: Events ['Maximum voltage [V]'] are non-positive at initial conditions\n"
     ]
    },
    {
     "name": "stderr",
     "output_type": "stream",
     "text": [
      "CasADi - 2024-06-28 10:14:37 WARNING(\"roots:g failed: Inf detected for output x, at (row 0, col 0).\") [.../casadi/core/oracle_function.cpp:326]\n",
      "CasADi - 2024-06-28 10:14:37 WARNING(\"roots:g failed: Inf detected for output x, at (row 0, col 0).\") [.../casadi/core/oracle_function.cpp:326]\n",
      "CasADi - 2024-06-28 10:14:37 WARNING(\"roots:g failed: Inf detected for output x, at (row 0, col 0).\") [.../casadi/core/oracle_function.cpp:326]\n",
      "CasADi - 2024-06-28 10:14:37 WARNING(\"roots:g failed: Inf detected for output x, at (row 0, col 0).\") [.../casadi/core/oracle_function.cpp:326]\n",
      "CasADi - 2024-06-28 10:14:37 WARNING(\"roots:g failed: Inf detected for output x, at (row 0, col 0).\") [.../casadi/core/oracle_function.cpp:326]\n"
     ]
    },
    {
     "name": "stdout",
     "output_type": "stream",
     "text": [
      "Solver failed for parameters: [6.72968750e-05 5.57890625e-05 1.13671875e-05 7.23828125e-01\n",
      " 6.30468750e-01 4.52343750e-06 5.55468750e-06 9.31640625e+02\n",
      " 2.17968750e+02 7.61718750e+00 1.46093750e+00 1.44843750e+00\n",
      " 1.62343750e+00 2.95742188e+04 5.24023438e+04] with error: Events ['Maximum voltage [V]'] are non-positive at initial conditions\n"
     ]
    },
    {
     "name": "stderr",
     "output_type": "stream",
     "text": [
      "CasADi - 2024-06-28 10:14:38 WARNING(\"roots:g failed: Inf detected for output x, at (row 0, col 0).\") [.../casadi/core/oracle_function.cpp:326]\n",
      "CasADi - 2024-06-28 10:14:38 WARNING(\"roots:g failed: Inf detected for output x, at (row 0, col 0).\") [.../casadi/core/oracle_function.cpp:326]\n",
      "CasADi - 2024-06-28 10:14:38 WARNING(\"roots:g failed: Inf detected for output x, at (row 0, col 0).\") [.../casadi/core/oracle_function.cpp:326]\n",
      "CasADi - 2024-06-28 10:14:38 WARNING(\"roots:g failed: Inf detected for output x, at (row 0, col 0).\") [.../casadi/core/oracle_function.cpp:326]\n",
      "CasADi - 2024-06-28 10:14:38 WARNING(\"roots:g failed: Inf detected for output x, at (row 0, col 0).\") [.../casadi/core/oracle_function.cpp:326]\n"
     ]
    },
    {
     "name": "stdout",
     "output_type": "stream",
     "text": [
      "Solver failed for parameters: [5.60468750e-05 5.78203125e-05 1.13671875e-05 7.23828125e-01\n",
      " 6.30468750e-01 4.52343750e-06 5.55468750e-06 9.31640625e+02\n",
      " 2.17968750e+02 7.61718750e+00 1.46093750e+00 1.44843750e+00\n",
      " 1.62343750e+00 2.95742188e+04 5.24023438e+04] with error: Events ['Maximum voltage [V]'] are non-positive at initial conditions\n"
     ]
    },
    {
     "name": "stderr",
     "output_type": "stream",
     "text": [
      "CasADi - 2024-06-28 10:14:38 WARNING(\"roots:g failed: Inf detected for output x, at (row 0, col 0).\") [.../casadi/core/oracle_function.cpp:326]\n",
      "CasADi - 2024-06-28 10:14:38 WARNING(\"roots:g failed: Inf detected for output x, at (row 0, col 0).\") [.../casadi/core/oracle_function.cpp:326]\n",
      "CasADi - 2024-06-28 10:14:38 WARNING(\"roots:g failed: Inf detected for output x, at (row 0, col 0).\") [.../casadi/core/oracle_function.cpp:326]\n",
      "CasADi - 2024-06-28 10:14:38 WARNING(\"roots:g failed: Inf detected for output x, at (row 0, col 0).\") [.../casadi/core/oracle_function.cpp:326]\n",
      "CasADi - 2024-06-28 10:14:38 WARNING(\"roots:g failed: Inf detected for output x, at (row 0, col 0).\") [.../casadi/core/oracle_function.cpp:326]\n"
     ]
    },
    {
     "name": "stdout",
     "output_type": "stream",
     "text": [
      "Solver failed for parameters: [5.60468750e-05 5.57890625e-05 1.57421875e-05 7.23828125e-01\n",
      " 6.30468750e-01 4.52343750e-06 5.55468750e-06 9.31640625e+02\n",
      " 2.17968750e+02 7.61718750e+00 1.46093750e+00 1.44843750e+00\n",
      " 1.62343750e+00 2.95742188e+04 5.24023438e+04] with error: Events ['Maximum voltage [V]'] are non-positive at initial conditions\n"
     ]
    },
    {
     "name": "stderr",
     "output_type": "stream",
     "text": [
      "CasADi - 2024-06-28 10:14:39 WARNING(\"roots:g failed: Inf detected for output x, at (row 0, col 0).\") [.../casadi/core/oracle_function.cpp:326]\n",
      "CasADi - 2024-06-28 10:14:39 WARNING(\"roots:g failed: Inf detected for output x, at (row 0, col 0).\") [.../casadi/core/oracle_function.cpp:326]\n",
      "CasADi - 2024-06-28 10:14:39 WARNING(\"roots:g failed: Inf detected for output x, at (row 0, col 0).\") [.../casadi/core/oracle_function.cpp:326]\n",
      "CasADi - 2024-06-28 10:14:39 WARNING(\"roots:g failed: Inf detected for output x, at (row 0, col 0).\") [.../casadi/core/oracle_function.cpp:326]\n",
      "CasADi - 2024-06-28 10:14:39 WARNING(\"roots:g failed: Inf detected for output x, at (row 0, col 0).\") [.../casadi/core/oracle_function.cpp:326]\n"
     ]
    },
    {
     "name": "stdout",
     "output_type": "stream",
     "text": [
      "Solver failed for parameters: [5.60468750e-05 5.57890625e-05 1.13671875e-05 7.47265625e-01\n",
      " 6.30468750e-01 4.52343750e-06 5.55468750e-06 9.31640625e+02\n",
      " 2.17968750e+02 7.61718750e+00 1.46093750e+00 1.44843750e+00\n",
      " 1.62343750e+00 2.95742188e+04 5.24023438e+04] with error: Events ['Maximum voltage [V]'] are non-positive at initial conditions\n"
     ]
    },
    {
     "name": "stderr",
     "output_type": "stream",
     "text": [
      "CasADi - 2024-06-28 10:14:39 WARNING(\"roots:g failed: Inf detected for output x, at (row 0, col 0).\") [.../casadi/core/oracle_function.cpp:326]\n",
      "CasADi - 2024-06-28 10:14:39 WARNING(\"roots:g failed: Inf detected for output x, at (row 0, col 0).\") [.../casadi/core/oracle_function.cpp:326]\n",
      "CasADi - 2024-06-28 10:14:39 WARNING(\"roots:g failed: Inf detected for output x, at (row 0, col 0).\") [.../casadi/core/oracle_function.cpp:326]\n",
      "CasADi - 2024-06-28 10:14:39 WARNING(\"roots:g failed: Inf detected for output x, at (row 0, col 0).\") [.../casadi/core/oracle_function.cpp:326]\n",
      "CasADi - 2024-06-28 10:14:39 WARNING(\"roots:g failed: Inf detected for output x, at (row 0, col 0).\") [.../casadi/core/oracle_function.cpp:326]\n"
     ]
    },
    {
     "name": "stdout",
     "output_type": "stream",
     "text": [
      "Solver failed for parameters: [5.60468750e-05 5.57890625e-05 1.13671875e-05 7.23828125e-01\n",
      " 6.61718750e-01 4.52343750e-06 5.55468750e-06 9.31640625e+02\n",
      " 2.17968750e+02 7.61718750e+00 1.46093750e+00 1.44843750e+00\n",
      " 1.62343750e+00 2.95742188e+04 5.24023438e+04] with error: Events ['Maximum voltage [V]'] are non-positive at initial conditions\n"
     ]
    },
    {
     "name": "stderr",
     "output_type": "stream",
     "text": [
      "CasADi - 2024-06-28 10:14:40 WARNING(\"roots:g failed: Inf detected for output x, at (row 0, col 0).\") [.../casadi/core/oracle_function.cpp:326]\n",
      "CasADi - 2024-06-28 10:14:40 WARNING(\"roots:g failed: Inf detected for output x, at (row 0, col 0).\") [.../casadi/core/oracle_function.cpp:326]\n",
      "CasADi - 2024-06-28 10:14:40 WARNING(\"roots:g failed: Inf detected for output x, at (row 0, col 0).\") [.../casadi/core/oracle_function.cpp:326]\n",
      "CasADi - 2024-06-28 10:14:40 WARNING(\"roots:g failed: Inf detected for output x, at (row 0, col 0).\") [.../casadi/core/oracle_function.cpp:326]\n",
      "CasADi - 2024-06-28 10:14:40 WARNING(\"roots:g failed: Inf detected for output x, at (row 0, col 0).\") [.../casadi/core/oracle_function.cpp:326]\n"
     ]
    },
    {
     "name": "stdout",
     "output_type": "stream",
     "text": [
      "Solver failed for parameters: [5.60468750e-05 5.57890625e-05 1.13671875e-05 7.23828125e-01\n",
      " 6.30468750e-01 4.91406250e-06 5.55468750e-06 9.31640625e+02\n",
      " 2.17968750e+02 7.61718750e+00 1.46093750e+00 1.44843750e+00\n",
      " 1.62343750e+00 2.95742188e+04 5.24023438e+04] with error: Events ['Maximum voltage [V]'] are non-positive at initial conditions\n"
     ]
    },
    {
     "name": "stderr",
     "output_type": "stream",
     "text": [
      "CasADi - 2024-06-28 10:14:40 WARNING(\"roots:g failed: Inf detected for output x, at (row 0, col 0).\") [.../casadi/core/oracle_function.cpp:326]\n",
      "CasADi - 2024-06-28 10:14:40 WARNING(\"roots:g failed: Inf detected for output x, at (row 0, col 0).\") [.../casadi/core/oracle_function.cpp:326]\n",
      "CasADi - 2024-06-28 10:14:40 WARNING(\"roots:g failed: Inf detected for output x, at (row 0, col 0).\") [.../casadi/core/oracle_function.cpp:326]\n",
      "CasADi - 2024-06-28 10:14:40 WARNING(\"roots:g failed: Inf detected for output x, at (row 0, col 0).\") [.../casadi/core/oracle_function.cpp:326]\n",
      "CasADi - 2024-06-28 10:14:40 WARNING(\"roots:g failed: Inf detected for output x, at (row 0, col 0).\") [.../casadi/core/oracle_function.cpp:326]\n"
     ]
    },
    {
     "name": "stdout",
     "output_type": "stream",
     "text": [
      "Solver failed for parameters: [5.60468750e-05 5.57890625e-05 1.13671875e-05 7.23828125e-01\n",
      " 6.30468750e-01 4.52343750e-06 4.41406250e-06 9.31640625e+02\n",
      " 2.17968750e+02 7.61718750e+00 1.46093750e+00 1.44843750e+00\n",
      " 1.62343750e+00 2.95742188e+04 5.24023438e+04] with error: Events ['Maximum voltage [V]'] are non-positive at initial conditions\n"
     ]
    },
    {
     "name": "stderr",
     "output_type": "stream",
     "text": [
      "CasADi - 2024-06-28 10:14:41 WARNING(\"roots:g failed: Inf detected for output x, at (row 0, col 0).\") [.../casadi/core/oracle_function.cpp:326]\n",
      "CasADi - 2024-06-28 10:14:41 WARNING(\"roots:g failed: Inf detected for output x, at (row 0, col 0).\") [.../casadi/core/oracle_function.cpp:326]\n",
      "CasADi - 2024-06-28 10:14:41 WARNING(\"roots:g failed: Inf detected for output x, at (row 0, col 0).\") [.../casadi/core/oracle_function.cpp:326]\n",
      "CasADi - 2024-06-28 10:14:41 WARNING(\"roots:g failed: Inf detected for output x, at (row 0, col 0).\") [.../casadi/core/oracle_function.cpp:326]\n",
      "CasADi - 2024-06-28 10:14:41 WARNING(\"roots:g failed: Inf detected for output x, at (row 0, col 0).\") [.../casadi/core/oracle_function.cpp:326]\n"
     ]
    },
    {
     "name": "stdout",
     "output_type": "stream",
     "text": [
      "Solver failed for parameters: [5.60468750e-05 5.57890625e-05 1.13671875e-05 7.23828125e-01\n",
      " 6.30468750e-01 4.52343750e-06 5.55468750e-06 9.08203125e+02\n",
      " 2.17968750e+02 7.61718750e+00 1.46093750e+00 1.44843750e+00\n",
      " 1.62343750e+00 2.95742188e+04 5.24023438e+04] with error: Events ['Maximum voltage [V]'] are non-positive at initial conditions\n"
     ]
    },
    {
     "name": "stderr",
     "output_type": "stream",
     "text": [
      "CasADi - 2024-06-28 10:14:41 WARNING(\"roots:g failed: Inf detected for output x, at (row 0, col 0).\") [.../casadi/core/oracle_function.cpp:326]\n",
      "CasADi - 2024-06-28 10:14:41 WARNING(\"roots:g failed: Inf detected for output x, at (row 0, col 0).\") [.../casadi/core/oracle_function.cpp:326]\n",
      "CasADi - 2024-06-28 10:14:41 WARNING(\"roots:g failed: Inf detected for output x, at (row 0, col 0).\") [.../casadi/core/oracle_function.cpp:326]\n",
      "CasADi - 2024-06-28 10:14:41 WARNING(\"roots:g failed: Inf detected for output x, at (row 0, col 0).\") [.../casadi/core/oracle_function.cpp:326]\n",
      "CasADi - 2024-06-28 10:14:41 WARNING(\"roots:g failed: Inf detected for output x, at (row 0, col 0).\") [.../casadi/core/oracle_function.cpp:326]\n"
     ]
    },
    {
     "name": "stdout",
     "output_type": "stream",
     "text": [
      "Solver failed for parameters: [5.60468750e-05 5.57890625e-05 1.13671875e-05 7.23828125e-01\n",
      " 6.30468750e-01 4.52343750e-06 5.55468750e-06 9.31640625e+02\n",
      " 2.02343750e+02 7.61718750e+00 1.46093750e+00 1.44843750e+00\n",
      " 1.62343750e+00 2.95742188e+04 5.24023438e+04] with error: Events ['Maximum voltage [V]'] are non-positive at initial conditions\n"
     ]
    },
    {
     "name": "stderr",
     "output_type": "stream",
     "text": [
      "CasADi - 2024-06-28 10:14:42 WARNING(\"roots:g failed: Inf detected for output x, at (row 0, col 0).\") [.../casadi/core/oracle_function.cpp:326]\n",
      "CasADi - 2024-06-28 10:14:42 WARNING(\"roots:g failed: Inf detected for output x, at (row 0, col 0).\") [.../casadi/core/oracle_function.cpp:326]\n",
      "CasADi - 2024-06-28 10:14:42 WARNING(\"roots:g failed: Inf detected for output x, at (row 0, col 0).\") [.../casadi/core/oracle_function.cpp:326]\n",
      "CasADi - 2024-06-28 10:14:42 WARNING(\"roots:g failed: Inf detected for output x, at (row 0, col 0).\") [.../casadi/core/oracle_function.cpp:326]\n",
      "CasADi - 2024-06-28 10:14:42 WARNING(\"roots:g failed: Inf detected for output x, at (row 0, col 0).\") [.../casadi/core/oracle_function.cpp:326]\n"
     ]
    },
    {
     "name": "stdout",
     "output_type": "stream",
     "text": [
      "Solver failed for parameters: [5.60468750e-05 5.57890625e-05 1.13671875e-05 7.23828125e-01\n",
      " 6.30468750e-01 4.52343750e-06 5.55468750e-06 9.31640625e+02\n",
      " 2.17968750e+02 3.47656250e+00 1.46093750e+00 1.44843750e+00\n",
      " 1.62343750e+00 2.95742188e+04 5.24023438e+04] with error: Events ['Maximum voltage [V]'] are non-positive at initial conditions\n"
     ]
    },
    {
     "name": "stderr",
     "output_type": "stream",
     "text": [
      "CasADi - 2024-06-28 10:14:42 WARNING(\"roots:g failed: Inf detected for output x, at (row 0, col 0).\") [.../casadi/core/oracle_function.cpp:326]\n",
      "CasADi - 2024-06-28 10:14:42 WARNING(\"roots:g failed: Inf detected for output x, at (row 0, col 0).\") [.../casadi/core/oracle_function.cpp:326]\n",
      "CasADi - 2024-06-28 10:14:42 WARNING(\"roots:g failed: Inf detected for output x, at (row 0, col 0).\") [.../casadi/core/oracle_function.cpp:326]\n",
      "CasADi - 2024-06-28 10:14:42 WARNING(\"roots:g failed: Inf detected for output x, at (row 0, col 0).\") [.../casadi/core/oracle_function.cpp:326]\n",
      "CasADi - 2024-06-28 10:14:42 WARNING(\"roots:g failed: Inf detected for output x, at (row 0, col 0).\") [.../casadi/core/oracle_function.cpp:326]\n"
     ]
    },
    {
     "name": "stdout",
     "output_type": "stream",
     "text": [
      "Solver failed for parameters: [5.60468750e-05 5.57890625e-05 1.13671875e-05 7.23828125e-01\n",
      " 6.30468750e-01 4.52343750e-06 5.55468750e-06 9.31640625e+02\n",
      " 2.17968750e+02 7.61718750e+00 1.40781250e+00 1.44843750e+00\n",
      " 1.62343750e+00 2.95742188e+04 5.24023438e+04] with error: Events ['Maximum voltage [V]'] are non-positive at initial conditions\n"
     ]
    },
    {
     "name": "stderr",
     "output_type": "stream",
     "text": [
      "CasADi - 2024-06-28 10:14:43 WARNING(\"roots:g failed: Inf detected for output x, at (row 0, col 0).\") [.../casadi/core/oracle_function.cpp:326]\n",
      "CasADi - 2024-06-28 10:14:43 WARNING(\"roots:g failed: Inf detected for output x, at (row 0, col 0).\") [.../casadi/core/oracle_function.cpp:326]\n",
      "CasADi - 2024-06-28 10:14:43 WARNING(\"roots:g failed: Inf detected for output x, at (row 0, col 0).\") [.../casadi/core/oracle_function.cpp:326]\n",
      "CasADi - 2024-06-28 10:14:43 WARNING(\"roots:g failed: Inf detected for output x, at (row 0, col 0).\") [.../casadi/core/oracle_function.cpp:326]\n",
      "CasADi - 2024-06-28 10:14:43 WARNING(\"roots:g failed: Inf detected for output x, at (row 0, col 0).\") [.../casadi/core/oracle_function.cpp:326]\n"
     ]
    },
    {
     "name": "stdout",
     "output_type": "stream",
     "text": [
      "Solver failed for parameters: [5.60468750e-05 5.57890625e-05 1.13671875e-05 7.23828125e-01\n",
      " 6.30468750e-01 4.52343750e-06 5.55468750e-06 9.31640625e+02\n",
      " 2.17968750e+02 7.61718750e+00 1.46093750e+00 1.58281250e+00\n",
      " 1.62343750e+00 2.95742188e+04 5.24023438e+04] with error: Events ['Maximum voltage [V]'] are non-positive at initial conditions\n"
     ]
    },
    {
     "name": "stderr",
     "output_type": "stream",
     "text": [
      "CasADi - 2024-06-28 10:14:43 WARNING(\"roots:g failed: Inf detected for output x, at (row 0, col 0).\") [.../casadi/core/oracle_function.cpp:326]\n",
      "CasADi - 2024-06-28 10:14:43 WARNING(\"roots:g failed: Inf detected for output x, at (row 0, col 0).\") [.../casadi/core/oracle_function.cpp:326]\n",
      "CasADi - 2024-06-28 10:14:43 WARNING(\"roots:g failed: Inf detected for output x, at (row 0, col 0).\") [.../casadi/core/oracle_function.cpp:326]\n",
      "CasADi - 2024-06-28 10:14:43 WARNING(\"roots:g failed: Inf detected for output x, at (row 0, col 0).\") [.../casadi/core/oracle_function.cpp:326]\n",
      "CasADi - 2024-06-28 10:14:43 WARNING(\"roots:g failed: Inf detected for output x, at (row 0, col 0).\") [.../casadi/core/oracle_function.cpp:326]\n"
     ]
    },
    {
     "name": "stdout",
     "output_type": "stream",
     "text": [
      "Solver failed for parameters: [5.60468750e-05 5.57890625e-05 1.13671875e-05 7.23828125e-01\n",
      " 6.30468750e-01 4.52343750e-06 5.55468750e-06 9.31640625e+02\n",
      " 2.17968750e+02 7.61718750e+00 1.46093750e+00 1.44843750e+00\n",
      " 1.33906250e+00 2.95742188e+04 5.24023438e+04] with error: Events ['Maximum voltage [V]'] are non-positive at initial conditions\n"
     ]
    },
    {
     "name": "stderr",
     "output_type": "stream",
     "text": [
      "CasADi - 2024-06-28 10:14:45 WARNING(\"roots:g failed: Inf detected for output x, at (row 0, col 0).\") [.../casadi/core/oracle_function.cpp:326]\n",
      "CasADi - 2024-06-28 10:14:45 WARNING(\"roots:g failed: Inf detected for output x, at (row 0, col 0).\") [.../casadi/core/oracle_function.cpp:326]\n",
      "CasADi - 2024-06-28 10:14:45 WARNING(\"roots:g failed: Inf detected for output x, at (row 0, col 0).\") [.../casadi/core/oracle_function.cpp:326]\n",
      "CasADi - 2024-06-28 10:14:45 WARNING(\"roots:g failed: Inf detected for output x, at (row 0, col 0).\") [.../casadi/core/oracle_function.cpp:326]\n",
      "CasADi - 2024-06-28 10:14:45 WARNING(\"roots:g failed: Inf detected for output x, at (row 0, col 0).\") [.../casadi/core/oracle_function.cpp:326]\n"
     ]
    },
    {
     "name": "stdout",
     "output_type": "stream",
     "text": [
      "Solver failed for parameters: [5.60468750e-05 5.57890625e-05 1.13671875e-05 7.23828125e-01\n",
      " 6.30468750e-01 4.52343750e-06 5.55468750e-06 9.31640625e+02\n",
      " 2.17968750e+02 7.61718750e+00 1.46093750e+00 1.44843750e+00\n",
      " 1.62343750e+00 2.95742188e+04 5.36914062e+04] with error: Events ['Maximum voltage [V]'] are non-positive at initial conditions\n"
     ]
    },
    {
     "name": "stderr",
     "output_type": "stream",
     "text": [
      "CasADi - 2024-06-28 10:14:45 WARNING(\"roots:g failed: Inf detected for output x, at (row 0, col 0).\") [.../casadi/core/oracle_function.cpp:326]\n",
      "CasADi - 2024-06-28 10:14:45 WARNING(\"roots:g failed: Inf detected for output x, at (row 0, col 0).\") [.../casadi/core/oracle_function.cpp:326]\n",
      "CasADi - 2024-06-28 10:14:45 WARNING(\"roots:g failed: Inf detected for output x, at (row 0, col 0).\") [.../casadi/core/oracle_function.cpp:326]\n",
      "CasADi - 2024-06-28 10:14:45 WARNING(\"roots:g failed: Inf detected for output x, at (row 0, col 0).\") [.../casadi/core/oracle_function.cpp:326]\n",
      "CasADi - 2024-06-28 10:14:45 WARNING(\"roots:g failed: Inf detected for output x, at (row 0, col 0).\") [.../casadi/core/oracle_function.cpp:326]\n"
     ]
    },
    {
     "name": "stdout",
     "output_type": "stream",
     "text": [
      "Solver failed for parameters: [5.60468750e-05 5.57890625e-05 1.13671875e-05 7.23828125e-01\n",
      " 6.30468750e-01 4.52343750e-06 5.55468750e-06 9.31640625e+02\n",
      " 2.17968750e+02 7.61718750e+00 1.46093750e+00 1.44843750e+00\n",
      " 1.62343750e+00 2.95742188e+04 5.24023438e+04] with error: Events ['Maximum voltage [V]'] are non-positive at initial conditions\n"
     ]
    },
    {
     "name": "stderr",
     "output_type": "stream",
     "text": [
      "CasADi - 2024-06-28 10:14:46 WARNING(\"roots:g failed: Inf detected for output x, at (row 0, col 0).\") [.../casadi/core/oracle_function.cpp:326]\n",
      "CasADi - 2024-06-28 10:14:46 WARNING(\"roots:g failed: Inf detected for output x, at (row 0, col 0).\") [.../casadi/core/oracle_function.cpp:326]\n",
      "CasADi - 2024-06-28 10:14:46 WARNING(\"roots:g failed: Inf detected for output x, at (row 0, col 0).\") [.../casadi/core/oracle_function.cpp:326]\n",
      "CasADi - 2024-06-28 10:14:46 WARNING(\"roots:g failed: Inf detected for output x, at (row 0, col 0).\") [.../casadi/core/oracle_function.cpp:326]\n",
      "CasADi - 2024-06-28 10:14:46 WARNING(\"roots:g failed: Inf detected for output x, at (row 0, col 0).\") [.../casadi/core/oracle_function.cpp:326]\n"
     ]
    },
    {
     "name": "stdout",
     "output_type": "stream",
     "text": [
      "Solver failed for parameters: [8.52968750e-05 7.08203125e-05 1.07421875e-05 7.97265625e-01\n",
      " 5.61718750e-01 5.91406250e-06 5.41406250e-06 1.05820312e+03\n",
      " 1.02343750e+02 8.47656250e+00 1.60781250e+00 1.38281250e+00\n",
      " 1.53906250e+00 2.75117188e+04 6.11914062e+04] with error: Events ['Maximum voltage [V]'] are non-positive at initial conditions\n"
     ]
    },
    {
     "name": "stderr",
     "output_type": "stream",
     "text": [
      "CasADi - 2024-06-28 10:14:46 WARNING(\"roots:g failed: Inf detected for output x, at (row 0, col 0).\") [.../casadi/core/oracle_function.cpp:326]\n",
      "CasADi - 2024-06-28 10:14:46 WARNING(\"roots:g failed: Inf detected for output x, at (row 0, col 0).\") [.../casadi/core/oracle_function.cpp:326]\n",
      "CasADi - 2024-06-28 10:14:46 WARNING(\"roots:g failed: Inf detected for output x, at (row 0, col 0).\") [.../casadi/core/oracle_function.cpp:326]\n",
      "CasADi - 2024-06-28 10:14:46 WARNING(\"roots:g failed: Inf detected for output x, at (row 0, col 0).\") [.../casadi/core/oracle_function.cpp:326]\n",
      "CasADi - 2024-06-28 10:14:46 WARNING(\"roots:g failed: Inf detected for output x, at (row 0, col 0).\") [.../casadi/core/oracle_function.cpp:326]\n"
     ]
    },
    {
     "name": "stdout",
     "output_type": "stream",
     "text": [
      "Solver failed for parameters: [7.40468750e-05 7.08203125e-05 1.07421875e-05 7.97265625e-01\n",
      " 5.61718750e-01 5.91406250e-06 5.41406250e-06 1.05820312e+03\n",
      " 1.02343750e+02 8.47656250e+00 1.60781250e+00 1.38281250e+00\n",
      " 1.53906250e+00 2.75117188e+04 6.11914062e+04] with error: Events ['Maximum voltage [V]'] are non-positive at initial conditions\n"
     ]
    },
    {
     "name": "stderr",
     "output_type": "stream",
     "text": [
      "CasADi - 2024-06-28 10:14:47 WARNING(\"roots:g failed: Inf detected for output x, at (row 0, col 0).\") [.../casadi/core/oracle_function.cpp:326]\n",
      "CasADi - 2024-06-28 10:14:47 WARNING(\"roots:g failed: Inf detected for output x, at (row 0, col 0).\") [.../casadi/core/oracle_function.cpp:326]\n",
      "CasADi - 2024-06-28 10:14:47 WARNING(\"roots:g failed: Inf detected for output x, at (row 0, col 0).\") [.../casadi/core/oracle_function.cpp:326]\n",
      "CasADi - 2024-06-28 10:14:47 WARNING(\"roots:g failed: Inf detected for output x, at (row 0, col 0).\") [.../casadi/core/oracle_function.cpp:326]\n",
      "CasADi - 2024-06-28 10:14:47 WARNING(\"roots:g failed: Inf detected for output x, at (row 0, col 0).\") [.../casadi/core/oracle_function.cpp:326]\n"
     ]
    },
    {
     "name": "stdout",
     "output_type": "stream",
     "text": [
      "Solver failed for parameters: [8.52968750e-05 6.87890625e-05 1.07421875e-05 7.97265625e-01\n",
      " 5.61718750e-01 5.91406250e-06 5.41406250e-06 1.05820312e+03\n",
      " 1.02343750e+02 8.47656250e+00 1.60781250e+00 1.38281250e+00\n",
      " 1.53906250e+00 2.75117188e+04 6.11914062e+04] with error: Events ['Maximum voltage [V]'] are non-positive at initial conditions\n"
     ]
    },
    {
     "name": "stderr",
     "output_type": "stream",
     "text": [
      "CasADi - 2024-06-28 10:14:47 WARNING(\"roots:g failed: Inf detected for output x, at (row 0, col 0).\") [.../casadi/core/oracle_function.cpp:326]\n",
      "CasADi - 2024-06-28 10:14:47 WARNING(\"roots:g failed: Inf detected for output x, at (row 0, col 0).\") [.../casadi/core/oracle_function.cpp:326]\n",
      "CasADi - 2024-06-28 10:14:47 WARNING(\"roots:g failed: Inf detected for output x, at (row 0, col 0).\") [.../casadi/core/oracle_function.cpp:326]\n",
      "CasADi - 2024-06-28 10:14:47 WARNING(\"roots:g failed: Inf detected for output x, at (row 0, col 0).\") [.../casadi/core/oracle_function.cpp:326]\n",
      "CasADi - 2024-06-28 10:14:47 WARNING(\"roots:g failed: Inf detected for output x, at (row 0, col 0).\") [.../casadi/core/oracle_function.cpp:326]\n"
     ]
    },
    {
     "name": "stdout",
     "output_type": "stream",
     "text": [
      "Solver failed for parameters: [8.52968750e-05 7.08203125e-05 1.63671875e-05 7.97265625e-01\n",
      " 5.61718750e-01 5.91406250e-06 5.41406250e-06 1.05820312e+03\n",
      " 1.02343750e+02 8.47656250e+00 1.60781250e+00 1.38281250e+00\n",
      " 1.53906250e+00 2.75117188e+04 6.11914062e+04] with error: Events ['Maximum voltage [V]'] are non-positive at initial conditions\n"
     ]
    },
    {
     "name": "stderr",
     "output_type": "stream",
     "text": [
      "CasADi - 2024-06-28 10:14:48 WARNING(\"roots:g failed: Inf detected for output x, at (row 0, col 0).\") [.../casadi/core/oracle_function.cpp:326]\n",
      "CasADi - 2024-06-28 10:14:48 WARNING(\"roots:g failed: Inf detected for output x, at (row 0, col 0).\") [.../casadi/core/oracle_function.cpp:326]\n",
      "CasADi - 2024-06-28 10:14:48 WARNING(\"roots:g failed: Inf detected for output x, at (row 0, col 0).\") [.../casadi/core/oracle_function.cpp:326]\n",
      "CasADi - 2024-06-28 10:14:48 WARNING(\"roots:g failed: Inf detected for output x, at (row 0, col 0).\") [.../casadi/core/oracle_function.cpp:326]\n",
      "CasADi - 2024-06-28 10:14:48 WARNING(\"roots:g failed: Inf detected for output x, at (row 0, col 0).\") [.../casadi/core/oracle_function.cpp:326]\n"
     ]
    },
    {
     "name": "stdout",
     "output_type": "stream",
     "text": [
      "Solver failed for parameters: [8.52968750e-05 7.08203125e-05 1.07421875e-05 7.73828125e-01\n",
      " 5.61718750e-01 5.91406250e-06 5.41406250e-06 1.05820312e+03\n",
      " 1.02343750e+02 8.47656250e+00 1.60781250e+00 1.38281250e+00\n",
      " 1.53906250e+00 2.75117188e+04 6.11914062e+04] with error: Events ['Maximum voltage [V]'] are non-positive at initial conditions\n"
     ]
    },
    {
     "name": "stderr",
     "output_type": "stream",
     "text": [
      "CasADi - 2024-06-28 10:14:48 WARNING(\"roots:g failed: Inf detected for output x, at (row 0, col 0).\") [.../casadi/core/oracle_function.cpp:326]\n",
      "CasADi - 2024-06-28 10:14:48 WARNING(\"roots:g failed: Inf detected for output x, at (row 0, col 0).\") [.../casadi/core/oracle_function.cpp:326]\n",
      "CasADi - 2024-06-28 10:14:48 WARNING(\"roots:g failed: Inf detected for output x, at (row 0, col 0).\") [.../casadi/core/oracle_function.cpp:326]\n",
      "CasADi - 2024-06-28 10:14:48 WARNING(\"roots:g failed: Inf detected for output x, at (row 0, col 0).\") [.../casadi/core/oracle_function.cpp:326]\n",
      "CasADi - 2024-06-28 10:14:48 WARNING(\"roots:g failed: Inf detected for output x, at (row 0, col 0).\") [.../casadi/core/oracle_function.cpp:326]\n"
     ]
    },
    {
     "name": "stdout",
     "output_type": "stream",
     "text": [
      "Solver failed for parameters: [8.52968750e-05 7.08203125e-05 1.07421875e-05 7.97265625e-01\n",
      " 5.30468750e-01 5.91406250e-06 5.41406250e-06 1.05820312e+03\n",
      " 1.02343750e+02 8.47656250e+00 1.60781250e+00 1.38281250e+00\n",
      " 1.53906250e+00 2.75117188e+04 6.11914062e+04] with error: Events ['Maximum voltage [V]'] are non-positive at initial conditions\n"
     ]
    },
    {
     "name": "stderr",
     "output_type": "stream",
     "text": [
      "CasADi - 2024-06-28 10:14:48 WARNING(\"roots:g failed: Inf detected for output x, at (row 0, col 0).\") [.../casadi/core/oracle_function.cpp:326]\n",
      "CasADi - 2024-06-28 10:14:48 WARNING(\"roots:g failed: Inf detected for output x, at (row 0, col 0).\") [.../casadi/core/oracle_function.cpp:326]\n",
      "CasADi - 2024-06-28 10:14:48 WARNING(\"roots:g failed: Inf detected for output x, at (row 0, col 0).\") [.../casadi/core/oracle_function.cpp:326]\n",
      "CasADi - 2024-06-28 10:14:48 WARNING(\"roots:g failed: Inf detected for output x, at (row 0, col 0).\") [.../casadi/core/oracle_function.cpp:326]\n"
     ]
    },
    {
     "name": "stdout",
     "output_type": "stream",
     "text": [
      "Solver failed for parameters: [8.52968750e-05 7.08203125e-05 1.07421875e-05 7.97265625e-01\n",
      " 5.61718750e-01 5.52343750e-06 5.41406250e-06 1.05820312e+03\n",
      " 1.02343750e+02 8.47656250e+00 1.60781250e+00 1.38281250e+00\n",
      " 1.53906250e+00 2.75117188e+04 6.11914062e+04] with error: Events ['Maximum voltage [V]'] are non-positive at initial conditions\n"
     ]
    },
    {
     "name": "stderr",
     "output_type": "stream",
     "text": [
      "CasADi - 2024-06-28 10:14:49 WARNING(\"roots:g failed: Inf detected for output x, at (row 0, col 0).\") [.../casadi/core/oracle_function.cpp:326]\n",
      "CasADi - 2024-06-28 10:14:49 WARNING(\"roots:g failed: Inf detected for output x, at (row 0, col 0).\") [.../casadi/core/oracle_function.cpp:326]\n",
      "CasADi - 2024-06-28 10:14:49 WARNING(\"roots:g failed: Inf detected for output x, at (row 0, col 0).\") [.../casadi/core/oracle_function.cpp:326]\n",
      "CasADi - 2024-06-28 10:14:49 WARNING(\"roots:g failed: Inf detected for output x, at (row 0, col 0).\") [.../casadi/core/oracle_function.cpp:326]\n",
      "CasADi - 2024-06-28 10:14:49 WARNING(\"roots:g failed: Inf detected for output x, at (row 0, col 0).\") [.../casadi/core/oracle_function.cpp:326]\n"
     ]
    },
    {
     "name": "stdout",
     "output_type": "stream",
     "text": [
      "Solver failed for parameters: [8.52968750e-05 7.08203125e-05 1.07421875e-05 7.97265625e-01\n",
      " 5.61718750e-01 5.91406250e-06 4.55468750e-06 1.05820312e+03\n",
      " 1.02343750e+02 8.47656250e+00 1.60781250e+00 1.38281250e+00\n",
      " 1.53906250e+00 2.75117188e+04 6.11914062e+04] with error: Events ['Maximum voltage [V]'] are non-positive at initial conditions\n"
     ]
    },
    {
     "name": "stderr",
     "output_type": "stream",
     "text": [
      "CasADi - 2024-06-28 10:14:49 WARNING(\"roots:g failed: Inf detected for output x, at (row 0, col 0).\") [.../casadi/core/oracle_function.cpp:326]\n",
      "CasADi - 2024-06-28 10:14:49 WARNING(\"roots:g failed: Inf detected for output x, at (row 0, col 0).\") [.../casadi/core/oracle_function.cpp:326]\n",
      "CasADi - 2024-06-28 10:14:49 WARNING(\"roots:g failed: Inf detected for output x, at (row 0, col 0).\") [.../casadi/core/oracle_function.cpp:326]\n",
      "CasADi - 2024-06-28 10:14:49 WARNING(\"roots:g failed: Inf detected for output x, at (row 0, col 0).\") [.../casadi/core/oracle_function.cpp:326]\n",
      "CasADi - 2024-06-28 10:14:49 WARNING(\"roots:g failed: Inf detected for output x, at (row 0, col 0).\") [.../casadi/core/oracle_function.cpp:326]\n"
     ]
    },
    {
     "name": "stdout",
     "output_type": "stream",
     "text": [
      "Solver failed for parameters: [8.52968750e-05 7.08203125e-05 1.07421875e-05 7.97265625e-01\n",
      " 5.61718750e-01 5.91406250e-06 5.41406250e-06 1.08164062e+03\n",
      " 1.02343750e+02 8.47656250e+00 1.60781250e+00 1.38281250e+00\n",
      " 1.53906250e+00 2.75117188e+04 6.11914062e+04] with error: Events ['Maximum voltage [V]'] are non-positive at initial conditions\n"
     ]
    },
    {
     "name": "stderr",
     "output_type": "stream",
     "text": [
      "CasADi - 2024-06-28 10:14:50 WARNING(\"roots:g failed: Inf detected for output x, at (row 0, col 0).\") [.../casadi/core/oracle_function.cpp:326]\n",
      "CasADi - 2024-06-28 10:14:50 WARNING(\"roots:g failed: Inf detected for output x, at (row 0, col 0).\") [.../casadi/core/oracle_function.cpp:326]\n",
      "CasADi - 2024-06-28 10:14:50 WARNING(\"roots:g failed: Inf detected for output x, at (row 0, col 0).\") [.../casadi/core/oracle_function.cpp:326]\n",
      "CasADi - 2024-06-28 10:14:50 WARNING(\"roots:g failed: Inf detected for output x, at (row 0, col 0).\") [.../casadi/core/oracle_function.cpp:326]\n",
      "CasADi - 2024-06-28 10:14:50 WARNING(\"roots:g failed: Inf detected for output x, at (row 0, col 0).\") [.../casadi/core/oracle_function.cpp:326]\n"
     ]
    },
    {
     "name": "stdout",
     "output_type": "stream",
     "text": [
      "Solver failed for parameters: [8.52968750e-05 7.08203125e-05 1.07421875e-05 7.97265625e-01\n",
      " 5.61718750e-01 5.91406250e-06 5.41406250e-06 1.05820312e+03\n",
      " 1.17968750e+02 8.47656250e+00 1.60781250e+00 1.38281250e+00\n",
      " 1.53906250e+00 2.75117188e+04 6.11914062e+04] with error: Events ['Maximum voltage [V]'] are non-positive at initial conditions\n"
     ]
    },
    {
     "name": "stderr",
     "output_type": "stream",
     "text": [
      "CasADi - 2024-06-28 10:14:50 WARNING(\"roots:g failed: Inf detected for output x, at (row 0, col 0).\") [.../casadi/core/oracle_function.cpp:326]\n",
      "CasADi - 2024-06-28 10:14:50 WARNING(\"roots:g failed: Inf detected for output x, at (row 0, col 0).\") [.../casadi/core/oracle_function.cpp:326]\n",
      "CasADi - 2024-06-28 10:14:50 WARNING(\"roots:g failed: Inf detected for output x, at (row 0, col 0).\") [.../casadi/core/oracle_function.cpp:326]\n",
      "CasADi - 2024-06-28 10:14:50 WARNING(\"roots:g failed: Inf detected for output x, at (row 0, col 0).\") [.../casadi/core/oracle_function.cpp:326]\n",
      "CasADi - 2024-06-28 10:14:50 WARNING(\"roots:g failed: Inf detected for output x, at (row 0, col 0).\") [.../casadi/core/oracle_function.cpp:326]\n"
     ]
    },
    {
     "name": "stdout",
     "output_type": "stream",
     "text": [
      "Solver failed for parameters: [8.52968750e-05 7.08203125e-05 1.07421875e-05 7.97265625e-01\n",
      " 5.61718750e-01 5.91406250e-06 5.41406250e-06 1.05820312e+03\n",
      " 1.02343750e+02 2.61718750e+00 1.60781250e+00 1.38281250e+00\n",
      " 1.53906250e+00 2.75117188e+04 6.11914062e+04] with error: Events ['Maximum voltage [V]'] are non-positive at initial conditions\n"
     ]
    },
    {
     "name": "stderr",
     "output_type": "stream",
     "text": [
      "CasADi - 2024-06-28 10:14:51 WARNING(\"roots:g failed: Inf detected for output x, at (row 0, col 0).\") [.../casadi/core/oracle_function.cpp:326]\n",
      "CasADi - 2024-06-28 10:14:51 WARNING(\"roots:g failed: Inf detected for output x, at (row 0, col 0).\") [.../casadi/core/oracle_function.cpp:326]\n",
      "CasADi - 2024-06-28 10:14:51 WARNING(\"roots:g failed: Inf detected for output x, at (row 0, col 0).\") [.../casadi/core/oracle_function.cpp:326]\n",
      "CasADi - 2024-06-28 10:14:51 WARNING(\"roots:g failed: Inf detected for output x, at (row 0, col 0).\") [.../casadi/core/oracle_function.cpp:326]\n",
      "CasADi - 2024-06-28 10:14:51 WARNING(\"roots:g failed: Inf detected for output x, at (row 0, col 0).\") [.../casadi/core/oracle_function.cpp:326]\n"
     ]
    },
    {
     "name": "stdout",
     "output_type": "stream",
     "text": [
      "Solver failed for parameters: [8.52968750e-05 7.08203125e-05 1.07421875e-05 7.97265625e-01\n",
      " 5.61718750e-01 5.91406250e-06 5.41406250e-06 1.05820312e+03\n",
      " 1.02343750e+02 8.47656250e+00 1.66093750e+00 1.38281250e+00\n",
      " 1.53906250e+00 2.75117188e+04 6.11914062e+04] with error: Events ['Maximum voltage [V]'] are non-positive at initial conditions\n"
     ]
    },
    {
     "name": "stderr",
     "output_type": "stream",
     "text": [
      "CasADi - 2024-06-28 10:14:51 WARNING(\"roots:g failed: Inf detected for output x, at (row 0, col 0).\") [.../casadi/core/oracle_function.cpp:326]\n",
      "CasADi - 2024-06-28 10:14:51 WARNING(\"roots:g failed: Inf detected for output x, at (row 0, col 0).\") [.../casadi/core/oracle_function.cpp:326]\n",
      "CasADi - 2024-06-28 10:14:51 WARNING(\"roots:g failed: Inf detected for output x, at (row 0, col 0).\") [.../casadi/core/oracle_function.cpp:326]\n",
      "CasADi - 2024-06-28 10:14:51 WARNING(\"roots:g failed: Inf detected for output x, at (row 0, col 0).\") [.../casadi/core/oracle_function.cpp:326]\n",
      "CasADi - 2024-06-28 10:14:51 WARNING(\"roots:g failed: Inf detected for output x, at (row 0, col 0).\") [.../casadi/core/oracle_function.cpp:326]\n"
     ]
    },
    {
     "name": "stdout",
     "output_type": "stream",
     "text": [
      "Solver failed for parameters: [8.52968750e-05 7.08203125e-05 1.07421875e-05 7.97265625e-01\n",
      " 5.61718750e-01 5.91406250e-06 5.41406250e-06 1.05820312e+03\n",
      " 1.02343750e+02 8.47656250e+00 1.60781250e+00 1.64843750e+00\n",
      " 1.53906250e+00 2.75117188e+04 6.11914062e+04] with error: Events ['Maximum voltage [V]'] are non-positive at initial conditions\n"
     ]
    },
    {
     "name": "stderr",
     "output_type": "stream",
     "text": [
      "CasADi - 2024-06-28 10:14:52 WARNING(\"roots:g failed: Inf detected for output x, at (row 0, col 0).\") [.../casadi/core/oracle_function.cpp:326]\n",
      "CasADi - 2024-06-28 10:14:52 WARNING(\"roots:g failed: Inf detected for output x, at (row 0, col 0).\") [.../casadi/core/oracle_function.cpp:326]\n",
      "CasADi - 2024-06-28 10:14:52 WARNING(\"roots:g failed: Inf detected for output x, at (row 0, col 0).\") [.../casadi/core/oracle_function.cpp:326]\n",
      "CasADi - 2024-06-28 10:14:52 WARNING(\"roots:g failed: Inf detected for output x, at (row 0, col 0).\") [.../casadi/core/oracle_function.cpp:326]\n",
      "CasADi - 2024-06-28 10:14:52 WARNING(\"roots:g failed: Inf detected for output x, at (row 0, col 0).\") [.../casadi/core/oracle_function.cpp:326]\n"
     ]
    },
    {
     "name": "stdout",
     "output_type": "stream",
     "text": [
      "Solver failed for parameters: [8.52968750e-05 7.08203125e-05 1.07421875e-05 7.97265625e-01\n",
      " 5.61718750e-01 5.91406250e-06 5.41406250e-06 1.05820312e+03\n",
      " 1.02343750e+02 8.47656250e+00 1.60781250e+00 1.38281250e+00\n",
      " 1.42343750e+00 2.75117188e+04 6.11914062e+04] with error: Events ['Maximum voltage [V]'] are non-positive at initial conditions\n"
     ]
    },
    {
     "name": "stderr",
     "output_type": "stream",
     "text": [
      "CasADi - 2024-06-28 10:14:52 WARNING(\"roots:g failed: Inf detected for output x, at (row 0, col 0).\") [.../casadi/core/oracle_function.cpp:326]\n",
      "CasADi - 2024-06-28 10:14:52 WARNING(\"roots:g failed: Inf detected for output x, at (row 0, col 0).\") [.../casadi/core/oracle_function.cpp:326]\n",
      "CasADi - 2024-06-28 10:14:52 WARNING(\"roots:g failed: Inf detected for output x, at (row 0, col 0).\") [.../casadi/core/oracle_function.cpp:326]\n",
      "CasADi - 2024-06-28 10:14:52 WARNING(\"roots:g failed: Inf detected for output x, at (row 0, col 0).\") [.../casadi/core/oracle_function.cpp:326]\n",
      "CasADi - 2024-06-28 10:14:52 WARNING(\"roots:g failed: Inf detected for output x, at (row 0, col 0).\") [.../casadi/core/oracle_function.cpp:326]\n"
     ]
    },
    {
     "name": "stdout",
     "output_type": "stream",
     "text": [
      "Solver failed for parameters: [8.52968750e-05 7.08203125e-05 1.07421875e-05 7.97265625e-01\n",
      " 5.61718750e-01 5.91406250e-06 5.41406250e-06 1.05820312e+03\n",
      " 1.02343750e+02 8.47656250e+00 1.60781250e+00 1.38281250e+00\n",
      " 1.53906250e+00 2.40742188e+04 6.11914062e+04] with error: Events ['Maximum voltage [V]'] are non-positive at initial conditions\n"
     ]
    },
    {
     "name": "stderr",
     "output_type": "stream",
     "text": [
      "CasADi - 2024-06-28 10:14:53 WARNING(\"roots:g failed: Inf detected for output x, at (row 0, col 0).\") [.../casadi/core/oracle_function.cpp:326]\n",
      "CasADi - 2024-06-28 10:14:53 WARNING(\"roots:g failed: Inf detected for output x, at (row 0, col 0).\") [.../casadi/core/oracle_function.cpp:326]\n",
      "CasADi - 2024-06-28 10:14:53 WARNING(\"roots:g failed: Inf detected for output x, at (row 0, col 0).\") [.../casadi/core/oracle_function.cpp:326]\n",
      "CasADi - 2024-06-28 10:14:53 WARNING(\"roots:g failed: Inf detected for output x, at (row 0, col 0).\") [.../casadi/core/oracle_function.cpp:326]\n",
      "CasADi - 2024-06-28 10:14:53 WARNING(\"roots:g failed: Inf detected for output x, at (row 0, col 0).\") [.../casadi/core/oracle_function.cpp:326]\n"
     ]
    },
    {
     "name": "stdout",
     "output_type": "stream",
     "text": [
      "Solver failed for parameters: [8.52968750e-05 7.08203125e-05 1.07421875e-05 7.97265625e-01\n",
      " 5.61718750e-01 5.91406250e-06 5.41406250e-06 1.05820312e+03\n",
      " 1.02343750e+02 8.47656250e+00 1.60781250e+00 1.38281250e+00\n",
      " 1.53906250e+00 2.75117188e+04 5.99023438e+04] with error: Events ['Maximum voltage [V]'] are non-positive at initial conditions\n"
     ]
    },
    {
     "name": "stderr",
     "output_type": "stream",
     "text": [
      "CasADi - 2024-06-28 10:14:53 WARNING(\"roots:g failed: Inf detected for output x, at (row 0, col 0).\") [.../casadi/core/oracle_function.cpp:326]\n",
      "CasADi - 2024-06-28 10:14:53 WARNING(\"roots:g failed: Inf detected for output x, at (row 0, col 0).\") [.../casadi/core/oracle_function.cpp:326]\n",
      "CasADi - 2024-06-28 10:14:53 WARNING(\"roots:g failed: Inf detected for output x, at (row 0, col 0).\") [.../casadi/core/oracle_function.cpp:326]\n",
      "CasADi - 2024-06-28 10:14:53 WARNING(\"roots:g failed: Inf detected for output x, at (row 0, col 0).\") [.../casadi/core/oracle_function.cpp:326]\n",
      "CasADi - 2024-06-28 10:14:53 WARNING(\"roots:g failed: Inf detected for output x, at (row 0, col 0).\") [.../casadi/core/oracle_function.cpp:326]\n"
     ]
    },
    {
     "name": "stdout",
     "output_type": "stream",
     "text": [
      "Solver failed for parameters: [8.52968750e-05 6.87890625e-05 1.63671875e-05 7.73828125e-01\n",
      " 5.30468750e-01 5.52343750e-06 4.55468750e-06 1.08164062e+03\n",
      " 1.17968750e+02 2.61718750e+00 1.66093750e+00 1.64843750e+00\n",
      " 1.42343750e+00 2.40742188e+04 5.99023438e+04] with error: Events ['Maximum voltage [V]'] are non-positive at initial conditions\n"
     ]
    },
    {
     "name": "stderr",
     "output_type": "stream",
     "text": [
      "CasADi - 2024-06-28 10:14:54 WARNING(\"roots:g failed: Inf detected for output x, at (row 0, col 0).\") [.../casadi/core/oracle_function.cpp:326]\n",
      "CasADi - 2024-06-28 10:14:54 WARNING(\"roots:g failed: Inf detected for output x, at (row 0, col 0).\") [.../casadi/core/oracle_function.cpp:326]\n",
      "CasADi - 2024-06-28 10:14:54 WARNING(\"roots:g failed: Inf detected for output x, at (row 0, col 0).\") [.../casadi/core/oracle_function.cpp:326]\n",
      "CasADi - 2024-06-28 10:14:54 WARNING(\"roots:g failed: Inf detected for output x, at (row 0, col 0).\") [.../casadi/core/oracle_function.cpp:326]\n",
      "CasADi - 2024-06-28 10:14:54 WARNING(\"roots:g failed: Inf detected for output x, at (row 0, col 0).\") [.../casadi/core/oracle_function.cpp:326]\n"
     ]
    },
    {
     "name": "stdout",
     "output_type": "stream",
     "text": [
      "Solver failed for parameters: [7.40468750e-05 7.08203125e-05 1.63671875e-05 7.73828125e-01\n",
      " 5.30468750e-01 5.52343750e-06 4.55468750e-06 1.08164062e+03\n",
      " 1.17968750e+02 2.61718750e+00 1.66093750e+00 1.64843750e+00\n",
      " 1.42343750e+00 2.40742188e+04 5.99023438e+04] with error: Events ['Maximum voltage [V]'] are non-positive at initial conditions\n"
     ]
    },
    {
     "name": "stderr",
     "output_type": "stream",
     "text": [
      "CasADi - 2024-06-28 10:14:54 WARNING(\"roots:g failed: Inf detected for output x, at (row 0, col 0).\") [.../casadi/core/oracle_function.cpp:326]\n",
      "CasADi - 2024-06-28 10:14:54 WARNING(\"roots:g failed: Inf detected for output x, at (row 0, col 0).\") [.../casadi/core/oracle_function.cpp:326]\n",
      "CasADi - 2024-06-28 10:14:54 WARNING(\"roots:g failed: Inf detected for output x, at (row 0, col 0).\") [.../casadi/core/oracle_function.cpp:326]\n",
      "CasADi - 2024-06-28 10:14:54 WARNING(\"roots:g failed: Inf detected for output x, at (row 0, col 0).\") [.../casadi/core/oracle_function.cpp:326]\n",
      "CasADi - 2024-06-28 10:14:54 WARNING(\"roots:g failed: Inf detected for output x, at (row 0, col 0).\") [.../casadi/core/oracle_function.cpp:326]\n"
     ]
    },
    {
     "name": "stdout",
     "output_type": "stream",
     "text": [
      "Solver failed for parameters: [7.40468750e-05 6.87890625e-05 1.07421875e-05 7.73828125e-01\n",
      " 5.30468750e-01 5.52343750e-06 4.55468750e-06 1.08164062e+03\n",
      " 1.17968750e+02 2.61718750e+00 1.66093750e+00 1.64843750e+00\n",
      " 1.42343750e+00 2.40742188e+04 5.99023438e+04] with error: Events ['Maximum voltage [V]'] are non-positive at initial conditions\n"
     ]
    },
    {
     "name": "stderr",
     "output_type": "stream",
     "text": [
      "CasADi - 2024-06-28 10:14:55 WARNING(\"roots:g failed: Inf detected for output x, at (row 0, col 0).\") [.../casadi/core/oracle_function.cpp:326]\n",
      "CasADi - 2024-06-28 10:14:55 WARNING(\"roots:g failed: Inf detected for output x, at (row 0, col 0).\") [.../casadi/core/oracle_function.cpp:326]\n",
      "CasADi - 2024-06-28 10:14:55 WARNING(\"roots:g failed: Inf detected for output x, at (row 0, col 0).\") [.../casadi/core/oracle_function.cpp:326]\n",
      "CasADi - 2024-06-28 10:14:55 WARNING(\"roots:g failed: Inf detected for output x, at (row 0, col 0).\") [.../casadi/core/oracle_function.cpp:326]\n",
      "CasADi - 2024-06-28 10:14:55 WARNING(\"roots:g failed: Inf detected for output x, at (row 0, col 0).\") [.../casadi/core/oracle_function.cpp:326]\n"
     ]
    },
    {
     "name": "stdout",
     "output_type": "stream",
     "text": [
      "Solver failed for parameters: [7.40468750e-05 6.87890625e-05 1.63671875e-05 7.97265625e-01\n",
      " 5.30468750e-01 5.52343750e-06 4.55468750e-06 1.08164062e+03\n",
      " 1.17968750e+02 2.61718750e+00 1.66093750e+00 1.64843750e+00\n",
      " 1.42343750e+00 2.40742188e+04 5.99023438e+04] with error: Events ['Maximum voltage [V]'] are non-positive at initial conditions\n"
     ]
    },
    {
     "name": "stderr",
     "output_type": "stream",
     "text": [
      "CasADi - 2024-06-28 10:14:55 WARNING(\"roots:g failed: Inf detected for output x, at (row 0, col 0).\") [.../casadi/core/oracle_function.cpp:326]\n",
      "CasADi - 2024-06-28 10:14:55 WARNING(\"roots:g failed: Inf detected for output x, at (row 0, col 0).\") [.../casadi/core/oracle_function.cpp:326]\n",
      "CasADi - 2024-06-28 10:14:55 WARNING(\"roots:g failed: Inf detected for output x, at (row 0, col 0).\") [.../casadi/core/oracle_function.cpp:326]\n",
      "CasADi - 2024-06-28 10:14:55 WARNING(\"roots:g failed: Inf detected for output x, at (row 0, col 0).\") [.../casadi/core/oracle_function.cpp:326]\n",
      "CasADi - 2024-06-28 10:14:55 WARNING(\"roots:g failed: Inf detected for output x, at (row 0, col 0).\") [.../casadi/core/oracle_function.cpp:326]\n"
     ]
    },
    {
     "name": "stdout",
     "output_type": "stream",
     "text": [
      "Solver failed for parameters: [7.40468750e-05 6.87890625e-05 1.63671875e-05 7.73828125e-01\n",
      " 5.61718750e-01 5.52343750e-06 4.55468750e-06 1.08164062e+03\n",
      " 1.17968750e+02 2.61718750e+00 1.66093750e+00 1.64843750e+00\n",
      " 1.42343750e+00 2.40742188e+04 5.99023438e+04] with error: Events ['Maximum voltage [V]'] are non-positive at initial conditions\n"
     ]
    },
    {
     "name": "stderr",
     "output_type": "stream",
     "text": [
      "CasADi - 2024-06-28 10:14:55 WARNING(\"roots:g failed: Inf detected for output x, at (row 0, col 0).\") [.../casadi/core/oracle_function.cpp:326]\n",
      "CasADi - 2024-06-28 10:14:55 WARNING(\"roots:g failed: Inf detected for output x, at (row 0, col 0).\") [.../casadi/core/oracle_function.cpp:326]\n",
      "CasADi - 2024-06-28 10:14:55 WARNING(\"roots:g failed: Inf detected for output x, at (row 0, col 0).\") [.../casadi/core/oracle_function.cpp:326]\n",
      "CasADi - 2024-06-28 10:14:55 WARNING(\"roots:g failed: Inf detected for output x, at (row 0, col 0).\") [.../casadi/core/oracle_function.cpp:326]\n",
      "CasADi - 2024-06-28 10:14:55 WARNING(\"roots:g failed: Inf detected for output x, at (row 0, col 0).\") [.../casadi/core/oracle_function.cpp:326]\n"
     ]
    },
    {
     "name": "stdout",
     "output_type": "stream",
     "text": [
      "Solver failed for parameters: [7.40468750e-05 6.87890625e-05 1.63671875e-05 7.73828125e-01\n",
      " 5.30468750e-01 5.91406250e-06 4.55468750e-06 1.08164062e+03\n",
      " 1.17968750e+02 2.61718750e+00 1.66093750e+00 1.64843750e+00\n",
      " 1.42343750e+00 2.40742188e+04 5.99023438e+04] with error: Events ['Maximum voltage [V]'] are non-positive at initial conditions\n"
     ]
    },
    {
     "name": "stderr",
     "output_type": "stream",
     "text": [
      "CasADi - 2024-06-28 10:14:56 WARNING(\"roots:g failed: Inf detected for output x, at (row 0, col 0).\") [.../casadi/core/oracle_function.cpp:326]\n",
      "CasADi - 2024-06-28 10:14:56 WARNING(\"roots:g failed: Inf detected for output x, at (row 0, col 0).\") [.../casadi/core/oracle_function.cpp:326]\n",
      "CasADi - 2024-06-28 10:14:56 WARNING(\"roots:g failed: Inf detected for output x, at (row 0, col 0).\") [.../casadi/core/oracle_function.cpp:326]\n",
      "CasADi - 2024-06-28 10:14:56 WARNING(\"roots:g failed: Inf detected for output x, at (row 0, col 0).\") [.../casadi/core/oracle_function.cpp:326]\n",
      "CasADi - 2024-06-28 10:14:56 WARNING(\"roots:g failed: Inf detected for output x, at (row 0, col 0).\") [.../casadi/core/oracle_function.cpp:326]\n"
     ]
    },
    {
     "name": "stdout",
     "output_type": "stream",
     "text": [
      "Solver failed for parameters: [7.40468750e-05 6.87890625e-05 1.63671875e-05 7.73828125e-01\n",
      " 5.30468750e-01 5.52343750e-06 5.41406250e-06 1.08164062e+03\n",
      " 1.17968750e+02 2.61718750e+00 1.66093750e+00 1.64843750e+00\n",
      " 1.42343750e+00 2.40742188e+04 5.99023438e+04] with error: Events ['Maximum voltage [V]'] are non-positive at initial conditions\n"
     ]
    },
    {
     "name": "stderr",
     "output_type": "stream",
     "text": [
      "CasADi - 2024-06-28 10:14:57 WARNING(\"roots:g failed: Inf detected for output x, at (row 0, col 0).\") [.../casadi/core/oracle_function.cpp:326]\n",
      "CasADi - 2024-06-28 10:14:57 WARNING(\"roots:g failed: Inf detected for output x, at (row 0, col 0).\") [.../casadi/core/oracle_function.cpp:326]\n",
      "CasADi - 2024-06-28 10:14:57 WARNING(\"roots:g failed: Inf detected for output x, at (row 0, col 0).\") [.../casadi/core/oracle_function.cpp:326]\n",
      "CasADi - 2024-06-28 10:14:57 WARNING(\"roots:g failed: Inf detected for output x, at (row 0, col 0).\") [.../casadi/core/oracle_function.cpp:326]\n",
      "CasADi - 2024-06-28 10:14:57 WARNING(\"roots:g failed: Inf detected for output x, at (row 0, col 0).\") [.../casadi/core/oracle_function.cpp:326]\n"
     ]
    },
    {
     "name": "stdout",
     "output_type": "stream",
     "text": [
      "Solver failed for parameters: [7.40468750e-05 6.87890625e-05 1.63671875e-05 7.73828125e-01\n",
      " 5.30468750e-01 5.52343750e-06 4.55468750e-06 1.05820312e+03\n",
      " 1.17968750e+02 2.61718750e+00 1.66093750e+00 1.64843750e+00\n",
      " 1.42343750e+00 2.40742188e+04 5.99023438e+04] with error: Events ['Maximum voltage [V]'] are non-positive at initial conditions\n"
     ]
    },
    {
     "name": "stderr",
     "output_type": "stream",
     "text": [
      "CasADi - 2024-06-28 10:14:57 WARNING(\"roots:g failed: Inf detected for output x, at (row 0, col 0).\") [.../casadi/core/oracle_function.cpp:326]\n",
      "CasADi - 2024-06-28 10:14:57 WARNING(\"roots:g failed: Inf detected for output x, at (row 0, col 0).\") [.../casadi/core/oracle_function.cpp:326]\n",
      "CasADi - 2024-06-28 10:14:57 WARNING(\"roots:g failed: Inf detected for output x, at (row 0, col 0).\") [.../casadi/core/oracle_function.cpp:326]\n",
      "CasADi - 2024-06-28 10:14:57 WARNING(\"roots:g failed: Inf detected for output x, at (row 0, col 0).\") [.../casadi/core/oracle_function.cpp:326]\n",
      "CasADi - 2024-06-28 10:14:57 WARNING(\"roots:g failed: Inf detected for output x, at (row 0, col 0).\") [.../casadi/core/oracle_function.cpp:326]\n"
     ]
    },
    {
     "name": "stdout",
     "output_type": "stream",
     "text": [
      "Solver failed for parameters: [7.40468750e-05 6.87890625e-05 1.63671875e-05 7.73828125e-01\n",
      " 5.30468750e-01 5.52343750e-06 4.55468750e-06 1.08164062e+03\n",
      " 1.02343750e+02 2.61718750e+00 1.66093750e+00 1.64843750e+00\n",
      " 1.42343750e+00 2.40742188e+04 5.99023438e+04] with error: Events ['Maximum voltage [V]'] are non-positive at initial conditions\n"
     ]
    },
    {
     "name": "stderr",
     "output_type": "stream",
     "text": [
      "CasADi - 2024-06-28 10:14:58 WARNING(\"roots:g failed: Inf detected for output x, at (row 0, col 0).\") [.../casadi/core/oracle_function.cpp:326]\n",
      "CasADi - 2024-06-28 10:14:58 WARNING(\"roots:g failed: Inf detected for output x, at (row 0, col 0).\") [.../casadi/core/oracle_function.cpp:326]\n",
      "CasADi - 2024-06-28 10:14:58 WARNING(\"roots:g failed: Inf detected for output x, at (row 0, col 0).\") [.../casadi/core/oracle_function.cpp:326]\n",
      "CasADi - 2024-06-28 10:14:58 WARNING(\"roots:g failed: Inf detected for output x, at (row 0, col 0).\") [.../casadi/core/oracle_function.cpp:326]\n",
      "CasADi - 2024-06-28 10:14:58 WARNING(\"roots:g failed: Inf detected for output x, at (row 0, col 0).\") [.../casadi/core/oracle_function.cpp:326]\n"
     ]
    },
    {
     "name": "stdout",
     "output_type": "stream",
     "text": [
      "Solver failed for parameters: [7.40468750e-05 6.87890625e-05 1.63671875e-05 7.73828125e-01\n",
      " 5.30468750e-01 5.52343750e-06 4.55468750e-06 1.08164062e+03\n",
      " 1.17968750e+02 8.47656250e+00 1.66093750e+00 1.64843750e+00\n",
      " 1.42343750e+00 2.40742188e+04 5.99023438e+04] with error: Events ['Maximum voltage [V]'] are non-positive at initial conditions\n"
     ]
    },
    {
     "name": "stderr",
     "output_type": "stream",
     "text": [
      "CasADi - 2024-06-28 10:14:58 WARNING(\"roots:g failed: Inf detected for output x, at (row 0, col 0).\") [.../casadi/core/oracle_function.cpp:326]\n",
      "CasADi - 2024-06-28 10:14:58 WARNING(\"roots:g failed: Inf detected for output x, at (row 0, col 0).\") [.../casadi/core/oracle_function.cpp:326]\n",
      "CasADi - 2024-06-28 10:14:58 WARNING(\"roots:g failed: Inf detected for output x, at (row 0, col 0).\") [.../casadi/core/oracle_function.cpp:326]\n",
      "CasADi - 2024-06-28 10:14:58 WARNING(\"roots:g failed: Inf detected for output x, at (row 0, col 0).\") [.../casadi/core/oracle_function.cpp:326]\n",
      "CasADi - 2024-06-28 10:14:58 WARNING(\"roots:g failed: Inf detected for output x, at (row 0, col 0).\") [.../casadi/core/oracle_function.cpp:326]\n"
     ]
    },
    {
     "name": "stdout",
     "output_type": "stream",
     "text": [
      "Solver failed for parameters: [7.40468750e-05 6.87890625e-05 1.63671875e-05 7.73828125e-01\n",
      " 5.30468750e-01 5.52343750e-06 4.55468750e-06 1.08164062e+03\n",
      " 1.17968750e+02 2.61718750e+00 1.60781250e+00 1.64843750e+00\n",
      " 1.42343750e+00 2.40742188e+04 5.99023438e+04] with error: Events ['Maximum voltage [V]'] are non-positive at initial conditions\n"
     ]
    },
    {
     "name": "stderr",
     "output_type": "stream",
     "text": [
      "CasADi - 2024-06-28 10:14:58 WARNING(\"roots:g failed: Inf detected for output x, at (row 0, col 0).\") [.../casadi/core/oracle_function.cpp:326]\n",
      "CasADi - 2024-06-28 10:14:58 WARNING(\"roots:g failed: Inf detected for output x, at (row 0, col 0).\") [.../casadi/core/oracle_function.cpp:326]\n",
      "CasADi - 2024-06-28 10:14:58 WARNING(\"roots:g failed: Inf detected for output x, at (row 0, col 0).\") [.../casadi/core/oracle_function.cpp:326]\n",
      "CasADi - 2024-06-28 10:14:58 WARNING(\"roots:g failed: Inf detected for output x, at (row 0, col 0).\") [.../casadi/core/oracle_function.cpp:326]\n",
      "CasADi - 2024-06-28 10:14:58 WARNING(\"roots:g failed: Inf detected for output x, at (row 0, col 0).\") [.../casadi/core/oracle_function.cpp:326]\n"
     ]
    },
    {
     "name": "stdout",
     "output_type": "stream",
     "text": [
      "Solver failed for parameters: [7.40468750e-05 6.87890625e-05 1.63671875e-05 7.73828125e-01\n",
      " 5.30468750e-01 5.52343750e-06 4.55468750e-06 1.08164062e+03\n",
      " 1.17968750e+02 2.61718750e+00 1.66093750e+00 1.38281250e+00\n",
      " 1.42343750e+00 2.40742188e+04 5.99023438e+04] with error: Events ['Maximum voltage [V]'] are non-positive at initial conditions\n"
     ]
    },
    {
     "name": "stderr",
     "output_type": "stream",
     "text": [
      "CasADi - 2024-06-28 10:14:59 WARNING(\"roots:g failed: Inf detected for output x, at (row 0, col 0).\") [.../casadi/core/oracle_function.cpp:326]\n",
      "CasADi - 2024-06-28 10:14:59 WARNING(\"roots:g failed: Inf detected for output x, at (row 0, col 0).\") [.../casadi/core/oracle_function.cpp:326]\n",
      "CasADi - 2024-06-28 10:14:59 WARNING(\"roots:g failed: Inf detected for output x, at (row 0, col 0).\") [.../casadi/core/oracle_function.cpp:326]\n",
      "CasADi - 2024-06-28 10:14:59 WARNING(\"roots:g failed: Inf detected for output x, at (row 0, col 0).\") [.../casadi/core/oracle_function.cpp:326]\n",
      "CasADi - 2024-06-28 10:14:59 WARNING(\"roots:g failed: Inf detected for output x, at (row 0, col 0).\") [.../casadi/core/oracle_function.cpp:326]\n"
     ]
    },
    {
     "name": "stdout",
     "output_type": "stream",
     "text": [
      "Solver failed for parameters: [7.40468750e-05 6.87890625e-05 1.63671875e-05 7.73828125e-01\n",
      " 5.30468750e-01 5.52343750e-06 4.55468750e-06 1.08164062e+03\n",
      " 1.17968750e+02 2.61718750e+00 1.66093750e+00 1.64843750e+00\n",
      " 1.53906250e+00 2.40742188e+04 5.99023438e+04] with error: Events ['Maximum voltage [V]'] are non-positive at initial conditions\n"
     ]
    },
    {
     "name": "stderr",
     "output_type": "stream",
     "text": [
      "CasADi - 2024-06-28 10:14:59 WARNING(\"roots:g failed: Inf detected for output x, at (row 0, col 0).\") [.../casadi/core/oracle_function.cpp:326]\n",
      "CasADi - 2024-06-28 10:14:59 WARNING(\"roots:g failed: Inf detected for output x, at (row 0, col 0).\") [.../casadi/core/oracle_function.cpp:326]\n",
      "CasADi - 2024-06-28 10:14:59 WARNING(\"roots:g failed: Inf detected for output x, at (row 0, col 0).\") [.../casadi/core/oracle_function.cpp:326]\n",
      "CasADi - 2024-06-28 10:14:59 WARNING(\"roots:g failed: Inf detected for output x, at (row 0, col 0).\") [.../casadi/core/oracle_function.cpp:326]\n",
      "CasADi - 2024-06-28 10:14:59 WARNING(\"roots:g failed: Inf detected for output x, at (row 0, col 0).\") [.../casadi/core/oracle_function.cpp:326]\n"
     ]
    },
    {
     "name": "stdout",
     "output_type": "stream",
     "text": [
      "Solver failed for parameters: [7.40468750e-05 6.87890625e-05 1.63671875e-05 7.73828125e-01\n",
      " 5.30468750e-01 5.52343750e-06 4.55468750e-06 1.08164062e+03\n",
      " 1.17968750e+02 2.61718750e+00 1.66093750e+00 1.64843750e+00\n",
      " 1.42343750e+00 2.75117188e+04 5.99023438e+04] with error: Events ['Maximum voltage [V]'] are non-positive at initial conditions\n"
     ]
    },
    {
     "name": "stderr",
     "output_type": "stream",
     "text": [
      "CasADi - 2024-06-28 10:15:00 WARNING(\"roots:g failed: Inf detected for output x, at (row 0, col 0).\") [.../casadi/core/oracle_function.cpp:326]\n",
      "CasADi - 2024-06-28 10:15:00 WARNING(\"roots:g failed: Inf detected for output x, at (row 0, col 0).\") [.../casadi/core/oracle_function.cpp:326]\n",
      "CasADi - 2024-06-28 10:15:00 WARNING(\"roots:g failed: Inf detected for output x, at (row 0, col 0).\") [.../casadi/core/oracle_function.cpp:326]\n",
      "CasADi - 2024-06-28 10:15:00 WARNING(\"roots:g failed: Inf detected for output x, at (row 0, col 0).\") [.../casadi/core/oracle_function.cpp:326]\n",
      "CasADi - 2024-06-28 10:15:00 WARNING(\"roots:g failed: Inf detected for output x, at (row 0, col 0).\") [.../casadi/core/oracle_function.cpp:326]\n"
     ]
    },
    {
     "name": "stdout",
     "output_type": "stream",
     "text": [
      "Solver failed for parameters: [7.40468750e-05 6.87890625e-05 1.63671875e-05 7.73828125e-01\n",
      " 5.30468750e-01 5.52343750e-06 4.55468750e-06 1.08164062e+03\n",
      " 1.17968750e+02 2.61718750e+00 1.66093750e+00 1.64843750e+00\n",
      " 1.42343750e+00 2.40742188e+04 6.11914062e+04] with error: Events ['Maximum voltage [V]'] are non-positive at initial conditions\n"
     ]
    },
    {
     "name": "stderr",
     "output_type": "stream",
     "text": [
      "CasADi - 2024-06-28 10:15:00 WARNING(\"roots:g failed: Inf detected for output x, at (row 0, col 0).\") [.../casadi/core/oracle_function.cpp:326]\n",
      "CasADi - 2024-06-28 10:15:00 WARNING(\"roots:g failed: Inf detected for output x, at (row 0, col 0).\") [.../casadi/core/oracle_function.cpp:326]\n",
      "CasADi - 2024-06-28 10:15:00 WARNING(\"roots:g failed: Inf detected for output x, at (row 0, col 0).\") [.../casadi/core/oracle_function.cpp:326]\n",
      "CasADi - 2024-06-28 10:15:00 WARNING(\"roots:g failed: Inf detected for output x, at (row 0, col 0).\") [.../casadi/core/oracle_function.cpp:326]\n",
      "CasADi - 2024-06-28 10:15:00 WARNING(\"roots:g failed: Inf detected for output x, at (row 0, col 0).\") [.../casadi/core/oracle_function.cpp:326]\n"
     ]
    },
    {
     "name": "stdout",
     "output_type": "stream",
     "text": [
      "Solver failed for parameters: [7.40468750e-05 6.87890625e-05 1.63671875e-05 7.73828125e-01\n",
      " 5.30468750e-01 5.52343750e-06 4.55468750e-06 1.08164062e+03\n",
      " 1.17968750e+02 2.61718750e+00 1.66093750e+00 1.64843750e+00\n",
      " 1.42343750e+00 2.40742188e+04 5.99023438e+04] with error: Events ['Maximum voltage [V]'] are non-positive at initial conditions\n"
     ]
    },
    {
     "name": "stderr",
     "output_type": "stream",
     "text": [
      "CasADi - 2024-06-28 10:15:43 WARNING(\"roots:g failed: Inf detected for output x, at (row 0, col 0).\") [.../casadi/core/oracle_function.cpp:326]\n",
      "CasADi - 2024-06-28 10:15:43 WARNING(\"roots:g failed: Inf detected for output x, at (row 0, col 0).\") [.../casadi/core/oracle_function.cpp:326]\n",
      "CasADi - 2024-06-28 10:15:43 WARNING(\"roots:g failed: Inf detected for output x, at (row 0, col 0).\") [.../casadi/core/oracle_function.cpp:326]\n",
      "CasADi - 2024-06-28 10:15:43 WARNING(\"roots:g failed: Inf detected for output x, at (row 0, col 0).\") [.../casadi/core/oracle_function.cpp:326]\n",
      "CasADi - 2024-06-28 10:15:43 WARNING(\"roots:g failed: Inf detected for output x, at (row 0, col 0).\") [.../casadi/core/oracle_function.cpp:326]\n"
     ]
    },
    {
     "name": "stdout",
     "output_type": "stream",
     "text": [
      "Solver failed for parameters: [5.82968750e-05 6.43203125e-05 1.32421875e-05 7.72265625e-01\n",
      " 6.11718750e-01 4.41406250e-06 5.91406250e-06 9.83203125e+02\n",
      " 2.52343750e+02 9.76562500e-01 1.30781250e+00 1.68281250e+00\n",
      " 1.63906250e+00 2.47617188e+04 5.74414062e+04] with error: Events ['Maximum voltage [V]'] are non-positive at initial conditions\n"
     ]
    },
    {
     "name": "stderr",
     "output_type": "stream",
     "text": [
      "CasADi - 2024-06-28 10:15:43 WARNING(\"roots:g failed: Inf detected for output x, at (row 0, col 0).\") [.../casadi/core/oracle_function.cpp:326]\n",
      "CasADi - 2024-06-28 10:15:43 WARNING(\"roots:g failed: Inf detected for output x, at (row 0, col 0).\") [.../casadi/core/oracle_function.cpp:326]\n",
      "CasADi - 2024-06-28 10:15:43 WARNING(\"roots:g failed: Inf detected for output x, at (row 0, col 0).\") [.../casadi/core/oracle_function.cpp:326]\n",
      "CasADi - 2024-06-28 10:15:43 WARNING(\"roots:g failed: Inf detected for output x, at (row 0, col 0).\") [.../casadi/core/oracle_function.cpp:326]\n"
     ]
    },
    {
     "name": "stdout",
     "output_type": "stream",
     "text": [
      "Solver failed for parameters: [8.30468750e-05 6.43203125e-05 1.32421875e-05 7.72265625e-01\n",
      " 6.11718750e-01 4.41406250e-06 5.91406250e-06 9.83203125e+02\n",
      " 2.52343750e+02 9.76562500e-01 1.30781250e+00 1.68281250e+00\n",
      " 1.63906250e+00 2.47617188e+04 5.74414062e+04] with error: Events ['Maximum voltage [V]'] are non-positive at initial conditions\n"
     ]
    },
    {
     "name": "stderr",
     "output_type": "stream",
     "text": [
      "CasADi - 2024-06-28 10:15:44 WARNING(\"roots:g failed: Inf detected for output x, at (row 0, col 0).\") [.../casadi/core/oracle_function.cpp:326]\n",
      "CasADi - 2024-06-28 10:15:44 WARNING(\"roots:g failed: Inf detected for output x, at (row 0, col 0).\") [.../casadi/core/oracle_function.cpp:326]\n",
      "CasADi - 2024-06-28 10:15:44 WARNING(\"roots:g failed: Inf detected for output x, at (row 0, col 0).\") [.../casadi/core/oracle_function.cpp:326]\n",
      "CasADi - 2024-06-28 10:15:44 WARNING(\"roots:g failed: Inf detected for output x, at (row 0, col 0).\") [.../casadi/core/oracle_function.cpp:326]\n",
      "CasADi - 2024-06-28 10:15:44 WARNING(\"roots:g failed: Inf detected for output x, at (row 0, col 0).\") [.../casadi/core/oracle_function.cpp:326]\n"
     ]
    },
    {
     "name": "stdout",
     "output_type": "stream",
     "text": [
      "Solver failed for parameters: [5.82968750e-05 6.22890625e-05 1.32421875e-05 7.72265625e-01\n",
      " 6.11718750e-01 4.41406250e-06 5.91406250e-06 9.83203125e+02\n",
      " 2.52343750e+02 9.76562500e-01 1.30781250e+00 1.68281250e+00\n",
      " 1.63906250e+00 2.47617188e+04 5.74414062e+04] with error: Events ['Maximum voltage [V]'] are non-positive at initial conditions\n"
     ]
    },
    {
     "name": "stderr",
     "output_type": "stream",
     "text": [
      "CasADi - 2024-06-28 10:15:44 WARNING(\"roots:g failed: Inf detected for output x, at (row 0, col 0).\") [.../casadi/core/oracle_function.cpp:326]\n",
      "CasADi - 2024-06-28 10:15:44 WARNING(\"roots:g failed: Inf detected for output x, at (row 0, col 0).\") [.../casadi/core/oracle_function.cpp:326]\n",
      "CasADi - 2024-06-28 10:15:44 WARNING(\"roots:g failed: Inf detected for output x, at (row 0, col 0).\") [.../casadi/core/oracle_function.cpp:326]\n",
      "CasADi - 2024-06-28 10:15:44 WARNING(\"roots:g failed: Inf detected for output x, at (row 0, col 0).\") [.../casadi/core/oracle_function.cpp:326]\n",
      "CasADi - 2024-06-28 10:15:44 WARNING(\"roots:g failed: Inf detected for output x, at (row 0, col 0).\") [.../casadi/core/oracle_function.cpp:326]\n"
     ]
    },
    {
     "name": "stdout",
     "output_type": "stream",
     "text": [
      "Solver failed for parameters: [5.82968750e-05 6.43203125e-05 1.88671875e-05 7.72265625e-01\n",
      " 6.11718750e-01 4.41406250e-06 5.91406250e-06 9.83203125e+02\n",
      " 2.52343750e+02 9.76562500e-01 1.30781250e+00 1.68281250e+00\n",
      " 1.63906250e+00 2.47617188e+04 5.74414062e+04] with error: Events ['Maximum voltage [V]'] are non-positive at initial conditions\n"
     ]
    },
    {
     "name": "stderr",
     "output_type": "stream",
     "text": [
      "CasADi - 2024-06-28 10:15:44 WARNING(\"roots:g failed: Inf detected for output x, at (row 0, col 0).\") [.../casadi/core/oracle_function.cpp:326]\n",
      "CasADi - 2024-06-28 10:15:44 WARNING(\"roots:g failed: Inf detected for output x, at (row 0, col 0).\") [.../casadi/core/oracle_function.cpp:326]\n",
      "CasADi - 2024-06-28 10:15:44 WARNING(\"roots:g failed: Inf detected for output x, at (row 0, col 0).\") [.../casadi/core/oracle_function.cpp:326]\n",
      "CasADi - 2024-06-28 10:15:44 WARNING(\"roots:g failed: Inf detected for output x, at (row 0, col 0).\") [.../casadi/core/oracle_function.cpp:326]\n",
      "CasADi - 2024-06-28 10:15:44 WARNING(\"roots:g failed: Inf detected for output x, at (row 0, col 0).\") [.../casadi/core/oracle_function.cpp:326]\n"
     ]
    },
    {
     "name": "stdout",
     "output_type": "stream",
     "text": [
      "Solver failed for parameters: [5.82968750e-05 6.43203125e-05 1.32421875e-05 7.48828125e-01\n",
      " 6.11718750e-01 4.41406250e-06 5.91406250e-06 9.83203125e+02\n",
      " 2.52343750e+02 9.76562500e-01 1.30781250e+00 1.68281250e+00\n",
      " 1.63906250e+00 2.47617188e+04 5.74414062e+04] with error: Events ['Maximum voltage [V]'] are non-positive at initial conditions\n"
     ]
    },
    {
     "name": "stderr",
     "output_type": "stream",
     "text": [
      "CasADi - 2024-06-28 10:15:45 WARNING(\"roots:g failed: Inf detected for output x, at (row 0, col 0).\") [.../casadi/core/oracle_function.cpp:326]\n",
      "CasADi - 2024-06-28 10:15:45 WARNING(\"roots:g failed: Inf detected for output x, at (row 0, col 0).\") [.../casadi/core/oracle_function.cpp:326]\n",
      "CasADi - 2024-06-28 10:15:45 WARNING(\"roots:g failed: Inf detected for output x, at (row 0, col 0).\") [.../casadi/core/oracle_function.cpp:326]\n",
      "CasADi - 2024-06-28 10:15:45 WARNING(\"roots:g failed: Inf detected for output x, at (row 0, col 0).\") [.../casadi/core/oracle_function.cpp:326]\n",
      "CasADi - 2024-06-28 10:15:45 WARNING(\"roots:g failed: Inf detected for output x, at (row 0, col 0).\") [.../casadi/core/oracle_function.cpp:326]\n"
     ]
    },
    {
     "name": "stdout",
     "output_type": "stream",
     "text": [
      "Solver failed for parameters: [5.82968750e-05 6.43203125e-05 1.32421875e-05 7.72265625e-01\n",
      " 5.80468750e-01 4.41406250e-06 5.91406250e-06 9.83203125e+02\n",
      " 2.52343750e+02 9.76562500e-01 1.30781250e+00 1.68281250e+00\n",
      " 1.63906250e+00 2.47617188e+04 5.74414062e+04] with error: Events ['Maximum voltage [V]'] are non-positive at initial conditions\n"
     ]
    },
    {
     "name": "stderr",
     "output_type": "stream",
     "text": [
      "CasADi - 2024-06-28 10:15:45 WARNING(\"roots:g failed: Inf detected for output x, at (row 0, col 0).\") [.../casadi/core/oracle_function.cpp:326]\n",
      "CasADi - 2024-06-28 10:15:45 WARNING(\"roots:g failed: Inf detected for output x, at (row 0, col 0).\") [.../casadi/core/oracle_function.cpp:326]\n",
      "CasADi - 2024-06-28 10:15:45 WARNING(\"roots:g failed: Inf detected for output x, at (row 0, col 0).\") [.../casadi/core/oracle_function.cpp:326]\n",
      "CasADi - 2024-06-28 10:15:45 WARNING(\"roots:g failed: Inf detected for output x, at (row 0, col 0).\") [.../casadi/core/oracle_function.cpp:326]\n",
      "CasADi - 2024-06-28 10:15:45 WARNING(\"roots:g failed: Inf detected for output x, at (row 0, col 0).\") [.../casadi/core/oracle_function.cpp:326]\n"
     ]
    },
    {
     "name": "stdout",
     "output_type": "stream",
     "text": [
      "Solver failed for parameters: [5.82968750e-05 6.43203125e-05 1.32421875e-05 7.72265625e-01\n",
      " 6.11718750e-01 5.02343750e-06 5.91406250e-06 9.83203125e+02\n",
      " 2.52343750e+02 9.76562500e-01 1.30781250e+00 1.68281250e+00\n",
      " 1.63906250e+00 2.47617188e+04 5.74414062e+04] with error: Events ['Maximum voltage [V]'] are non-positive at initial conditions\n"
     ]
    },
    {
     "name": "stderr",
     "output_type": "stream",
     "text": [
      "CasADi - 2024-06-28 10:15:46 WARNING(\"roots:g failed: Inf detected for output x, at (row 0, col 0).\") [.../casadi/core/oracle_function.cpp:326]\n",
      "CasADi - 2024-06-28 10:15:46 WARNING(\"roots:g failed: Inf detected for output x, at (row 0, col 0).\") [.../casadi/core/oracle_function.cpp:326]\n",
      "CasADi - 2024-06-28 10:15:46 WARNING(\"roots:g failed: Inf detected for output x, at (row 0, col 0).\") [.../casadi/core/oracle_function.cpp:326]\n",
      "CasADi - 2024-06-28 10:15:46 WARNING(\"roots:g failed: Inf detected for output x, at (row 0, col 0).\") [.../casadi/core/oracle_function.cpp:326]\n",
      "CasADi - 2024-06-28 10:15:46 WARNING(\"roots:g failed: Inf detected for output x, at (row 0, col 0).\") [.../casadi/core/oracle_function.cpp:326]\n"
     ]
    },
    {
     "name": "stdout",
     "output_type": "stream",
     "text": [
      "Solver failed for parameters: [5.82968750e-05 6.43203125e-05 1.32421875e-05 7.72265625e-01\n",
      " 6.11718750e-01 4.41406250e-06 5.05468750e-06 9.83203125e+02\n",
      " 2.52343750e+02 9.76562500e-01 1.30781250e+00 1.68281250e+00\n",
      " 1.63906250e+00 2.47617188e+04 5.74414062e+04] with error: Events ['Maximum voltage [V]'] are non-positive at initial conditions\n"
     ]
    },
    {
     "name": "stderr",
     "output_type": "stream",
     "text": [
      "CasADi - 2024-06-28 10:15:46 WARNING(\"roots:g failed: Inf detected for output x, at (row 0, col 0).\") [.../casadi/core/oracle_function.cpp:326]\n",
      "CasADi - 2024-06-28 10:15:46 WARNING(\"roots:g failed: Inf detected for output x, at (row 0, col 0).\") [.../casadi/core/oracle_function.cpp:326]\n",
      "CasADi - 2024-06-28 10:15:46 WARNING(\"roots:g failed: Inf detected for output x, at (row 0, col 0).\") [.../casadi/core/oracle_function.cpp:326]\n",
      "CasADi - 2024-06-28 10:15:46 WARNING(\"roots:g failed: Inf detected for output x, at (row 0, col 0).\") [.../casadi/core/oracle_function.cpp:326]\n",
      "CasADi - 2024-06-28 10:15:46 WARNING(\"roots:g failed: Inf detected for output x, at (row 0, col 0).\") [.../casadi/core/oracle_function.cpp:326]\n"
     ]
    },
    {
     "name": "stdout",
     "output_type": "stream",
     "text": [
      "Solver failed for parameters: [5.82968750e-05 6.43203125e-05 1.32421875e-05 7.72265625e-01\n",
      " 6.11718750e-01 4.41406250e-06 5.91406250e-06 1.15664062e+03\n",
      " 2.52343750e+02 9.76562500e-01 1.30781250e+00 1.68281250e+00\n",
      " 1.63906250e+00 2.47617188e+04 5.74414062e+04] with error: Events ['Maximum voltage [V]'] are non-positive at initial conditions\n"
     ]
    },
    {
     "name": "stderr",
     "output_type": "stream",
     "text": [
      "CasADi - 2024-06-28 10:15:47 WARNING(\"roots:g failed: Inf detected for output x, at (row 0, col 0).\") [.../casadi/core/oracle_function.cpp:326]\n",
      "CasADi - 2024-06-28 10:15:47 WARNING(\"roots:g failed: Inf detected for output x, at (row 0, col 0).\") [.../casadi/core/oracle_function.cpp:326]\n",
      "CasADi - 2024-06-28 10:15:47 WARNING(\"roots:g failed: Inf detected for output x, at (row 0, col 0).\") [.../casadi/core/oracle_function.cpp:326]\n",
      "CasADi - 2024-06-28 10:15:47 WARNING(\"roots:g failed: Inf detected for output x, at (row 0, col 0).\") [.../casadi/core/oracle_function.cpp:326]\n",
      "CasADi - 2024-06-28 10:15:47 WARNING(\"roots:g failed: Inf detected for output x, at (row 0, col 0).\") [.../casadi/core/oracle_function.cpp:326]\n"
     ]
    },
    {
     "name": "stdout",
     "output_type": "stream",
     "text": [
      "Solver failed for parameters: [5.82968750e-05 6.43203125e-05 1.32421875e-05 7.72265625e-01\n",
      " 6.11718750e-01 4.41406250e-06 5.91406250e-06 9.83203125e+02\n",
      " 1.67968750e+02 9.76562500e-01 1.30781250e+00 1.68281250e+00\n",
      " 1.63906250e+00 2.47617188e+04 5.74414062e+04] with error: Events ['Maximum voltage [V]'] are non-positive at initial conditions\n"
     ]
    },
    {
     "name": "stderr",
     "output_type": "stream",
     "text": [
      "CasADi - 2024-06-28 10:15:47 WARNING(\"roots:g failed: Inf detected for output x, at (row 0, col 0).\") [.../casadi/core/oracle_function.cpp:326]\n",
      "CasADi - 2024-06-28 10:15:47 WARNING(\"roots:g failed: Inf detected for output x, at (row 0, col 0).\") [.../casadi/core/oracle_function.cpp:326]\n",
      "CasADi - 2024-06-28 10:15:47 WARNING(\"roots:g failed: Inf detected for output x, at (row 0, col 0).\") [.../casadi/core/oracle_function.cpp:326]\n",
      "CasADi - 2024-06-28 10:15:47 WARNING(\"roots:g failed: Inf detected for output x, at (row 0, col 0).\") [.../casadi/core/oracle_function.cpp:326]\n",
      "CasADi - 2024-06-28 10:15:47 WARNING(\"roots:g failed: Inf detected for output x, at (row 0, col 0).\") [.../casadi/core/oracle_function.cpp:326]\n"
     ]
    },
    {
     "name": "stdout",
     "output_type": "stream",
     "text": [
      "Solver failed for parameters: [5.82968750e-05 6.43203125e-05 1.32421875e-05 7.72265625e-01\n",
      " 6.11718750e-01 4.41406250e-06 5.91406250e-06 9.83203125e+02\n",
      " 2.52343750e+02 1.17187500e-01 1.30781250e+00 1.68281250e+00\n",
      " 1.63906250e+00 2.47617188e+04 5.74414062e+04] with error: Events ['Maximum voltage [V]'] are non-positive at initial conditions\n"
     ]
    },
    {
     "name": "stderr",
     "output_type": "stream",
     "text": [
      "CasADi - 2024-06-28 10:15:48 WARNING(\"roots:g failed: Inf detected for output x, at (row 0, col 0).\") [.../casadi/core/oracle_function.cpp:326]\n",
      "CasADi - 2024-06-28 10:15:48 WARNING(\"roots:g failed: Inf detected for output x, at (row 0, col 0).\") [.../casadi/core/oracle_function.cpp:326]\n",
      "CasADi - 2024-06-28 10:15:48 WARNING(\"roots:g failed: Inf detected for output x, at (row 0, col 0).\") [.../casadi/core/oracle_function.cpp:326]\n",
      "CasADi - 2024-06-28 10:15:48 WARNING(\"roots:g failed: Inf detected for output x, at (row 0, col 0).\") [.../casadi/core/oracle_function.cpp:326]\n",
      "CasADi - 2024-06-28 10:15:48 WARNING(\"roots:g failed: Inf detected for output x, at (row 0, col 0).\") [.../casadi/core/oracle_function.cpp:326]\n"
     ]
    },
    {
     "name": "stdout",
     "output_type": "stream",
     "text": [
      "Solver failed for parameters: [5.82968750e-05 6.43203125e-05 1.32421875e-05 7.72265625e-01\n",
      " 6.11718750e-01 4.41406250e-06 5.91406250e-06 9.83203125e+02\n",
      " 2.52343750e+02 9.76562500e-01 1.36093750e+00 1.68281250e+00\n",
      " 1.63906250e+00 2.47617188e+04 5.74414062e+04] with error: Events ['Maximum voltage [V]'] are non-positive at initial conditions\n"
     ]
    },
    {
     "name": "stderr",
     "output_type": "stream",
     "text": [
      "CasADi - 2024-06-28 10:15:48 WARNING(\"roots:g failed: Inf detected for output x, at (row 0, col 0).\") [.../casadi/core/oracle_function.cpp:326]\n",
      "CasADi - 2024-06-28 10:15:48 WARNING(\"roots:g failed: Inf detected for output x, at (row 0, col 0).\") [.../casadi/core/oracle_function.cpp:326]\n",
      "CasADi - 2024-06-28 10:15:48 WARNING(\"roots:g failed: Inf detected for output x, at (row 0, col 0).\") [.../casadi/core/oracle_function.cpp:326]\n",
      "CasADi - 2024-06-28 10:15:48 WARNING(\"roots:g failed: Inf detected for output x, at (row 0, col 0).\") [.../casadi/core/oracle_function.cpp:326]\n",
      "CasADi - 2024-06-28 10:15:48 WARNING(\"roots:g failed: Inf detected for output x, at (row 0, col 0).\") [.../casadi/core/oracle_function.cpp:326]\n"
     ]
    },
    {
     "name": "stdout",
     "output_type": "stream",
     "text": [
      "Solver failed for parameters: [5.82968750e-05 6.43203125e-05 1.32421875e-05 7.72265625e-01\n",
      " 6.11718750e-01 4.41406250e-06 5.91406250e-06 9.83203125e+02\n",
      " 2.52343750e+02 9.76562500e-01 1.30781250e+00 1.54843750e+00\n",
      " 1.63906250e+00 2.47617188e+04 5.74414062e+04] with error: Events ['Maximum voltage [V]'] are non-positive at initial conditions\n"
     ]
    },
    {
     "name": "stderr",
     "output_type": "stream",
     "text": [
      "CasADi - 2024-06-28 10:15:49 WARNING(\"roots:g failed: Inf detected for output x, at (row 0, col 0).\") [.../casadi/core/oracle_function.cpp:326]\n",
      "CasADi - 2024-06-28 10:15:49 WARNING(\"roots:g failed: Inf detected for output x, at (row 0, col 0).\") [.../casadi/core/oracle_function.cpp:326]\n",
      "CasADi - 2024-06-28 10:15:49 WARNING(\"roots:g failed: Inf detected for output x, at (row 0, col 0).\") [.../casadi/core/oracle_function.cpp:326]\n",
      "CasADi - 2024-06-28 10:15:49 WARNING(\"roots:g failed: Inf detected for output x, at (row 0, col 0).\") [.../casadi/core/oracle_function.cpp:326]\n",
      "CasADi - 2024-06-28 10:15:49 WARNING(\"roots:g failed: Inf detected for output x, at (row 0, col 0).\") [.../casadi/core/oracle_function.cpp:326]\n"
     ]
    },
    {
     "name": "stdout",
     "output_type": "stream",
     "text": [
      "Solver failed for parameters: [5.82968750e-05 6.43203125e-05 1.32421875e-05 7.72265625e-01\n",
      " 6.11718750e-01 4.41406250e-06 5.91406250e-06 9.83203125e+02\n",
      " 2.52343750e+02 9.76562500e-01 1.30781250e+00 1.68281250e+00\n",
      " 1.52343750e+00 2.47617188e+04 5.74414062e+04] with error: Events ['Maximum voltage [V]'] are non-positive at initial conditions\n"
     ]
    },
    {
     "name": "stderr",
     "output_type": "stream",
     "text": [
      "CasADi - 2024-06-28 10:15:49 WARNING(\"roots:g failed: Inf detected for output x, at (row 0, col 0).\") [.../casadi/core/oracle_function.cpp:326]\n",
      "CasADi - 2024-06-28 10:15:49 WARNING(\"roots:g failed: Inf detected for output x, at (row 0, col 0).\") [.../casadi/core/oracle_function.cpp:326]\n",
      "CasADi - 2024-06-28 10:15:49 WARNING(\"roots:g failed: Inf detected for output x, at (row 0, col 0).\") [.../casadi/core/oracle_function.cpp:326]\n",
      "CasADi - 2024-06-28 10:15:49 WARNING(\"roots:g failed: Inf detected for output x, at (row 0, col 0).\") [.../casadi/core/oracle_function.cpp:326]\n",
      "CasADi - 2024-06-28 10:15:49 WARNING(\"roots:g failed: Inf detected for output x, at (row 0, col 0).\") [.../casadi/core/oracle_function.cpp:326]\n"
     ]
    },
    {
     "name": "stdout",
     "output_type": "stream",
     "text": [
      "Solver failed for parameters: [5.82968750e-05 6.43203125e-05 1.32421875e-05 7.72265625e-01\n",
      " 6.11718750e-01 4.41406250e-06 5.91406250e-06 9.83203125e+02\n",
      " 2.52343750e+02 9.76562500e-01 1.30781250e+00 1.68281250e+00\n",
      " 1.63906250e+00 2.68242188e+04 5.74414062e+04] with error: Events ['Maximum voltage [V]'] are non-positive at initial conditions\n"
     ]
    },
    {
     "name": "stderr",
     "output_type": "stream",
     "text": [
      "CasADi - 2024-06-28 10:15:50 WARNING(\"roots:g failed: Inf detected for output x, at (row 0, col 0).\") [.../casadi/core/oracle_function.cpp:326]\n",
      "CasADi - 2024-06-28 10:15:50 WARNING(\"roots:g failed: Inf detected for output x, at (row 0, col 0).\") [.../casadi/core/oracle_function.cpp:326]\n",
      "CasADi - 2024-06-28 10:15:50 WARNING(\"roots:g failed: Inf detected for output x, at (row 0, col 0).\") [.../casadi/core/oracle_function.cpp:326]\n",
      "CasADi - 2024-06-28 10:15:50 WARNING(\"roots:g failed: Inf detected for output x, at (row 0, col 0).\") [.../casadi/core/oracle_function.cpp:326]\n",
      "CasADi - 2024-06-28 10:15:50 WARNING(\"roots:g failed: Inf detected for output x, at (row 0, col 0).\") [.../casadi/core/oracle_function.cpp:326]\n"
     ]
    },
    {
     "name": "stdout",
     "output_type": "stream",
     "text": [
      "Solver failed for parameters: [5.82968750e-05 6.43203125e-05 1.32421875e-05 7.72265625e-01\n",
      " 6.11718750e-01 4.41406250e-06 5.91406250e-06 9.83203125e+02\n",
      " 2.52343750e+02 9.76562500e-01 1.30781250e+00 1.68281250e+00\n",
      " 1.63906250e+00 2.47617188e+04 5.61523438e+04] with error: Events ['Maximum voltage [V]'] are non-positive at initial conditions\n"
     ]
    },
    {
     "name": "stderr",
     "output_type": "stream",
     "text": [
      "CasADi - 2024-06-28 10:15:50 WARNING(\"roots:g failed: Inf detected for output x, at (row 0, col 0).\") [.../casadi/core/oracle_function.cpp:326]\n",
      "CasADi - 2024-06-28 10:15:50 WARNING(\"roots:g failed: Inf detected for output x, at (row 0, col 0).\") [.../casadi/core/oracle_function.cpp:326]\n",
      "CasADi - 2024-06-28 10:15:50 WARNING(\"roots:g failed: Inf detected for output x, at (row 0, col 0).\") [.../casadi/core/oracle_function.cpp:326]\n",
      "CasADi - 2024-06-28 10:15:50 WARNING(\"roots:g failed: Inf detected for output x, at (row 0, col 0).\") [.../casadi/core/oracle_function.cpp:326]\n",
      "CasADi - 2024-06-28 10:15:50 WARNING(\"roots:g failed: Inf detected for output x, at (row 0, col 0).\") [.../casadi/core/oracle_function.cpp:326]\n"
     ]
    },
    {
     "name": "stdout",
     "output_type": "stream",
     "text": [
      "Solver failed for parameters: [5.82968750e-05 6.22890625e-05 1.88671875e-05 7.48828125e-01\n",
      " 5.80468750e-01 5.02343750e-06 5.05468750e-06 1.15664062e+03\n",
      " 1.67968750e+02 1.17187500e-01 1.36093750e+00 1.54843750e+00\n",
      " 1.52343750e+00 2.68242188e+04 5.61523438e+04] with error: Events ['Maximum voltage [V]'] are non-positive at initial conditions\n"
     ]
    },
    {
     "name": "stderr",
     "output_type": "stream",
     "text": [
      "CasADi - 2024-06-28 10:15:51 WARNING(\"roots:g failed: Inf detected for output x, at (row 0, col 0).\") [.../casadi/core/oracle_function.cpp:326]\n",
      "CasADi - 2024-06-28 10:15:51 WARNING(\"roots:g failed: Inf detected for output x, at (row 0, col 0).\") [.../casadi/core/oracle_function.cpp:326]\n",
      "CasADi - 2024-06-28 10:15:51 WARNING(\"roots:g failed: Inf detected for output x, at (row 0, col 0).\") [.../casadi/core/oracle_function.cpp:326]\n",
      "CasADi - 2024-06-28 10:15:51 WARNING(\"roots:g failed: Inf detected for output x, at (row 0, col 0).\") [.../casadi/core/oracle_function.cpp:326]\n"
     ]
    },
    {
     "name": "stdout",
     "output_type": "stream",
     "text": [
      "Solver failed for parameters: [8.30468750e-05 6.43203125e-05 1.88671875e-05 7.48828125e-01\n",
      " 5.80468750e-01 5.02343750e-06 5.05468750e-06 1.15664062e+03\n",
      " 1.67968750e+02 1.17187500e-01 1.36093750e+00 1.54843750e+00\n",
      " 1.52343750e+00 2.68242188e+04 5.61523438e+04] with error: Events ['Maximum voltage [V]'] are non-positive at initial conditions\n"
     ]
    },
    {
     "name": "stderr",
     "output_type": "stream",
     "text": [
      "CasADi - 2024-06-28 10:15:51 WARNING(\"roots:g failed: Inf detected for output x, at (row 0, col 0).\") [.../casadi/core/oracle_function.cpp:326]\n",
      "CasADi - 2024-06-28 10:15:51 WARNING(\"roots:g failed: Inf detected for output x, at (row 0, col 0).\") [.../casadi/core/oracle_function.cpp:326]\n",
      "CasADi - 2024-06-28 10:15:51 WARNING(\"roots:g failed: Inf detected for output x, at (row 0, col 0).\") [.../casadi/core/oracle_function.cpp:326]\n",
      "CasADi - 2024-06-28 10:15:51 WARNING(\"roots:g failed: Inf detected for output x, at (row 0, col 0).\") [.../casadi/core/oracle_function.cpp:326]\n"
     ]
    },
    {
     "name": "stdout",
     "output_type": "stream",
     "text": [
      "Solver failed for parameters: [8.30468750e-05 6.22890625e-05 1.32421875e-05 7.48828125e-01\n",
      " 5.80468750e-01 5.02343750e-06 5.05468750e-06 1.15664062e+03\n",
      " 1.67968750e+02 1.17187500e-01 1.36093750e+00 1.54843750e+00\n",
      " 1.52343750e+00 2.68242188e+04 5.61523438e+04] with error: Events ['Maximum voltage [V]'] are non-positive at initial conditions\n"
     ]
    },
    {
     "name": "stderr",
     "output_type": "stream",
     "text": [
      "CasADi - 2024-06-28 10:15:51 WARNING(\"roots:g failed: Inf detected for output x, at (row 0, col 0).\") [.../casadi/core/oracle_function.cpp:326]\n",
      "CasADi - 2024-06-28 10:15:51 WARNING(\"roots:g failed: Inf detected for output x, at (row 0, col 0).\") [.../casadi/core/oracle_function.cpp:326]\n",
      "CasADi - 2024-06-28 10:15:51 WARNING(\"roots:g failed: Inf detected for output x, at (row 0, col 0).\") [.../casadi/core/oracle_function.cpp:326]\n",
      "CasADi - 2024-06-28 10:15:51 WARNING(\"roots:g failed: Inf detected for output x, at (row 0, col 0).\") [.../casadi/core/oracle_function.cpp:326]\n"
     ]
    },
    {
     "name": "stdout",
     "output_type": "stream",
     "text": [
      "Solver failed for parameters: [8.30468750e-05 6.22890625e-05 1.88671875e-05 7.72265625e-01\n",
      " 5.80468750e-01 5.02343750e-06 5.05468750e-06 1.15664062e+03\n",
      " 1.67968750e+02 1.17187500e-01 1.36093750e+00 1.54843750e+00\n",
      " 1.52343750e+00 2.68242188e+04 5.61523438e+04] with error: Events ['Maximum voltage [V]'] are non-positive at initial conditions\n"
     ]
    },
    {
     "name": "stderr",
     "output_type": "stream",
     "text": [
      "CasADi - 2024-06-28 10:15:52 WARNING(\"roots:g failed: Inf detected for output x, at (row 0, col 0).\") [.../casadi/core/oracle_function.cpp:326]\n",
      "CasADi - 2024-06-28 10:15:52 WARNING(\"roots:g failed: Inf detected for output x, at (row 0, col 0).\") [.../casadi/core/oracle_function.cpp:326]\n",
      "CasADi - 2024-06-28 10:15:52 WARNING(\"roots:g failed: Inf detected for output x, at (row 0, col 0).\") [.../casadi/core/oracle_function.cpp:326]\n",
      "CasADi - 2024-06-28 10:15:52 WARNING(\"roots:g failed: Inf detected for output x, at (row 0, col 0).\") [.../casadi/core/oracle_function.cpp:326]\n"
     ]
    },
    {
     "name": "stdout",
     "output_type": "stream",
     "text": [
      "Solver failed for parameters: [8.30468750e-05 6.22890625e-05 1.88671875e-05 7.48828125e-01\n",
      " 6.11718750e-01 5.02343750e-06 5.05468750e-06 1.15664062e+03\n",
      " 1.67968750e+02 1.17187500e-01 1.36093750e+00 1.54843750e+00\n",
      " 1.52343750e+00 2.68242188e+04 5.61523438e+04] with error: Events ['Maximum voltage [V]'] are non-positive at initial conditions\n"
     ]
    },
    {
     "name": "stderr",
     "output_type": "stream",
     "text": [
      "CasADi - 2024-06-28 10:15:52 WARNING(\"roots:g failed: Inf detected for output x, at (row 0, col 0).\") [.../casadi/core/oracle_function.cpp:326]\n",
      "CasADi - 2024-06-28 10:15:52 WARNING(\"roots:g failed: Inf detected for output x, at (row 0, col 0).\") [.../casadi/core/oracle_function.cpp:326]\n",
      "CasADi - 2024-06-28 10:15:52 WARNING(\"roots:g failed: Inf detected for output x, at (row 0, col 0).\") [.../casadi/core/oracle_function.cpp:326]\n",
      "CasADi - 2024-06-28 10:15:52 WARNING(\"roots:g failed: Inf detected for output x, at (row 0, col 0).\") [.../casadi/core/oracle_function.cpp:326]\n"
     ]
    },
    {
     "name": "stdout",
     "output_type": "stream",
     "text": [
      "Solver failed for parameters: [8.30468750e-05 6.22890625e-05 1.88671875e-05 7.48828125e-01\n",
      " 5.80468750e-01 4.41406250e-06 5.05468750e-06 1.15664062e+03\n",
      " 1.67968750e+02 1.17187500e-01 1.36093750e+00 1.54843750e+00\n",
      " 1.52343750e+00 2.68242188e+04 5.61523438e+04] with error: Events ['Maximum voltage [V]'] are non-positive at initial conditions\n"
     ]
    },
    {
     "name": "stderr",
     "output_type": "stream",
     "text": [
      "CasADi - 2024-06-28 10:15:53 WARNING(\"roots:g failed: Inf detected for output x, at (row 0, col 0).\") [.../casadi/core/oracle_function.cpp:326]\n",
      "CasADi - 2024-06-28 10:15:53 WARNING(\"roots:g failed: Inf detected for output x, at (row 0, col 0).\") [.../casadi/core/oracle_function.cpp:326]\n",
      "CasADi - 2024-06-28 10:15:53 WARNING(\"roots:g failed: Inf detected for output x, at (row 0, col 0).\") [.../casadi/core/oracle_function.cpp:326]\n",
      "CasADi - 2024-06-28 10:15:53 WARNING(\"roots:g failed: Inf detected for output x, at (row 0, col 0).\") [.../casadi/core/oracle_function.cpp:326]\n"
     ]
    },
    {
     "name": "stdout",
     "output_type": "stream",
     "text": [
      "Solver failed for parameters: [8.30468750e-05 6.22890625e-05 1.88671875e-05 7.48828125e-01\n",
      " 5.80468750e-01 5.02343750e-06 5.91406250e-06 1.15664062e+03\n",
      " 1.67968750e+02 1.17187500e-01 1.36093750e+00 1.54843750e+00\n",
      " 1.52343750e+00 2.68242188e+04 5.61523438e+04] with error: Events ['Maximum voltage [V]'] are non-positive at initial conditions\n"
     ]
    },
    {
     "name": "stderr",
     "output_type": "stream",
     "text": [
      "CasADi - 2024-06-28 10:15:54 WARNING(\"roots:g failed: Inf detected for output x, at (row 0, col 0).\") [.../casadi/core/oracle_function.cpp:326]\n",
      "CasADi - 2024-06-28 10:15:54 WARNING(\"roots:g failed: Inf detected for output x, at (row 0, col 0).\") [.../casadi/core/oracle_function.cpp:326]\n",
      "CasADi - 2024-06-28 10:15:54 WARNING(\"roots:g failed: Inf detected for output x, at (row 0, col 0).\") [.../casadi/core/oracle_function.cpp:326]\n",
      "CasADi - 2024-06-28 10:15:54 WARNING(\"roots:g failed: Inf detected for output x, at (row 0, col 0).\") [.../casadi/core/oracle_function.cpp:326]\n",
      "CasADi - 2024-06-28 10:15:54 WARNING(\"roots:g failed: Inf detected for output x, at (row 0, col 0).\") [.../casadi/core/oracle_function.cpp:326]\n"
     ]
    },
    {
     "name": "stdout",
     "output_type": "stream",
     "text": [
      "Solver failed for parameters: [8.30468750e-05 6.22890625e-05 1.88671875e-05 7.48828125e-01\n",
      " 5.80468750e-01 5.02343750e-06 5.05468750e-06 9.83203125e+02\n",
      " 1.67968750e+02 1.17187500e-01 1.36093750e+00 1.54843750e+00\n",
      " 1.52343750e+00 2.68242188e+04 5.61523438e+04] with error: Events ['Maximum voltage [V]'] are non-positive at initial conditions\n"
     ]
    },
    {
     "name": "stderr",
     "output_type": "stream",
     "text": [
      "CasADi - 2024-06-28 10:15:54 WARNING(\"roots:g failed: Inf detected for output x, at (row 0, col 0).\") [.../casadi/core/oracle_function.cpp:326]\n",
      "CasADi - 2024-06-28 10:15:54 WARNING(\"roots:g failed: Inf detected for output x, at (row 0, col 0).\") [.../casadi/core/oracle_function.cpp:326]\n",
      "CasADi - 2024-06-28 10:15:54 WARNING(\"roots:g failed: Inf detected for output x, at (row 0, col 0).\") [.../casadi/core/oracle_function.cpp:326]\n",
      "CasADi - 2024-06-28 10:15:54 WARNING(\"roots:g failed: Inf detected for output x, at (row 0, col 0).\") [.../casadi/core/oracle_function.cpp:326]\n"
     ]
    },
    {
     "name": "stdout",
     "output_type": "stream",
     "text": [
      "Solver failed for parameters: [8.30468750e-05 6.22890625e-05 1.88671875e-05 7.48828125e-01\n",
      " 5.80468750e-01 5.02343750e-06 5.05468750e-06 1.15664062e+03\n",
      " 2.52343750e+02 1.17187500e-01 1.36093750e+00 1.54843750e+00\n",
      " 1.52343750e+00 2.68242188e+04 5.61523438e+04] with error: Events ['Maximum voltage [V]'] are non-positive at initial conditions\n"
     ]
    },
    {
     "name": "stderr",
     "output_type": "stream",
     "text": [
      "CasADi - 2024-06-28 10:15:54 WARNING(\"roots:g failed: Inf detected for output x, at (row 0, col 0).\") [.../casadi/core/oracle_function.cpp:326]\n",
      "CasADi - 2024-06-28 10:15:54 WARNING(\"roots:g failed: Inf detected for output x, at (row 0, col 0).\") [.../casadi/core/oracle_function.cpp:326]\n",
      "CasADi - 2024-06-28 10:15:54 WARNING(\"roots:g failed: Inf detected for output x, at (row 0, col 0).\") [.../casadi/core/oracle_function.cpp:326]\n",
      "CasADi - 2024-06-28 10:15:54 WARNING(\"roots:g failed: Inf detected for output x, at (row 0, col 0).\") [.../casadi/core/oracle_function.cpp:326]\n"
     ]
    },
    {
     "name": "stdout",
     "output_type": "stream",
     "text": [
      "Solver failed for parameters: [8.30468750e-05 6.22890625e-05 1.88671875e-05 7.48828125e-01\n",
      " 5.80468750e-01 5.02343750e-06 5.05468750e-06 1.15664062e+03\n",
      " 1.67968750e+02 9.76562500e-01 1.36093750e+00 1.54843750e+00\n",
      " 1.52343750e+00 2.68242188e+04 5.61523438e+04] with error: Events ['Maximum voltage [V]'] are non-positive at initial conditions\n"
     ]
    },
    {
     "name": "stderr",
     "output_type": "stream",
     "text": [
      "CasADi - 2024-06-28 10:15:55 WARNING(\"roots:g failed: Inf detected for output x, at (row 0, col 0).\") [.../casadi/core/oracle_function.cpp:326]\n",
      "CasADi - 2024-06-28 10:15:55 WARNING(\"roots:g failed: Inf detected for output x, at (row 0, col 0).\") [.../casadi/core/oracle_function.cpp:326]\n",
      "CasADi - 2024-06-28 10:15:55 WARNING(\"roots:g failed: Inf detected for output x, at (row 0, col 0).\") [.../casadi/core/oracle_function.cpp:326]\n",
      "CasADi - 2024-06-28 10:15:55 WARNING(\"roots:g failed: Inf detected for output x, at (row 0, col 0).\") [.../casadi/core/oracle_function.cpp:326]\n"
     ]
    },
    {
     "name": "stdout",
     "output_type": "stream",
     "text": [
      "Solver failed for parameters: [8.30468750e-05 6.22890625e-05 1.88671875e-05 7.48828125e-01\n",
      " 5.80468750e-01 5.02343750e-06 5.05468750e-06 1.15664062e+03\n",
      " 1.67968750e+02 1.17187500e-01 1.30781250e+00 1.54843750e+00\n",
      " 1.52343750e+00 2.68242188e+04 5.61523438e+04] with error: Events ['Maximum voltage [V]'] are non-positive at initial conditions\n"
     ]
    },
    {
     "name": "stderr",
     "output_type": "stream",
     "text": [
      "CasADi - 2024-06-28 10:15:55 WARNING(\"roots:g failed: Inf detected for output x, at (row 0, col 0).\") [.../casadi/core/oracle_function.cpp:326]\n",
      "CasADi - 2024-06-28 10:15:55 WARNING(\"roots:g failed: Inf detected for output x, at (row 0, col 0).\") [.../casadi/core/oracle_function.cpp:326]\n",
      "CasADi - 2024-06-28 10:15:55 WARNING(\"roots:g failed: Inf detected for output x, at (row 0, col 0).\") [.../casadi/core/oracle_function.cpp:326]\n",
      "CasADi - 2024-06-28 10:15:55 WARNING(\"roots:g failed: Inf detected for output x, at (row 0, col 0).\") [.../casadi/core/oracle_function.cpp:326]\n"
     ]
    },
    {
     "name": "stdout",
     "output_type": "stream",
     "text": [
      "Solver failed for parameters: [8.30468750e-05 6.22890625e-05 1.88671875e-05 7.48828125e-01\n",
      " 5.80468750e-01 5.02343750e-06 5.05468750e-06 1.15664062e+03\n",
      " 1.67968750e+02 1.17187500e-01 1.36093750e+00 1.68281250e+00\n",
      " 1.52343750e+00 2.68242188e+04 5.61523438e+04] with error: Events ['Maximum voltage [V]'] are non-positive at initial conditions\n"
     ]
    },
    {
     "name": "stderr",
     "output_type": "stream",
     "text": [
      "CasADi - 2024-06-28 10:15:56 WARNING(\"roots:g failed: Inf detected for output x, at (row 0, col 0).\") [.../casadi/core/oracle_function.cpp:326]\n",
      "CasADi - 2024-06-28 10:15:56 WARNING(\"roots:g failed: Inf detected for output x, at (row 0, col 0).\") [.../casadi/core/oracle_function.cpp:326]\n",
      "CasADi - 2024-06-28 10:15:56 WARNING(\"roots:g failed: Inf detected for output x, at (row 0, col 0).\") [.../casadi/core/oracle_function.cpp:326]\n",
      "CasADi - 2024-06-28 10:15:56 WARNING(\"roots:g failed: Inf detected for output x, at (row 0, col 0).\") [.../casadi/core/oracle_function.cpp:326]\n"
     ]
    },
    {
     "name": "stdout",
     "output_type": "stream",
     "text": [
      "Solver failed for parameters: [8.30468750e-05 6.22890625e-05 1.88671875e-05 7.48828125e-01\n",
      " 5.80468750e-01 5.02343750e-06 5.05468750e-06 1.15664062e+03\n",
      " 1.67968750e+02 1.17187500e-01 1.36093750e+00 1.54843750e+00\n",
      " 1.63906250e+00 2.68242188e+04 5.61523438e+04] with error: Events ['Maximum voltage [V]'] are non-positive at initial conditions\n"
     ]
    },
    {
     "name": "stderr",
     "output_type": "stream",
     "text": [
      "CasADi - 2024-06-28 10:15:56 WARNING(\"roots:g failed: Inf detected for output x, at (row 0, col 0).\") [.../casadi/core/oracle_function.cpp:326]\n",
      "CasADi - 2024-06-28 10:15:56 WARNING(\"roots:g failed: Inf detected for output x, at (row 0, col 0).\") [.../casadi/core/oracle_function.cpp:326]\n",
      "CasADi - 2024-06-28 10:15:56 WARNING(\"roots:g failed: Inf detected for output x, at (row 0, col 0).\") [.../casadi/core/oracle_function.cpp:326]\n",
      "CasADi - 2024-06-28 10:15:56 WARNING(\"roots:g failed: Inf detected for output x, at (row 0, col 0).\") [.../casadi/core/oracle_function.cpp:326]\n",
      "CasADi - 2024-06-28 10:15:56 WARNING(\"roots:g failed: Inf detected for output x, at (row 0, col 0).\") [.../casadi/core/oracle_function.cpp:326]\n"
     ]
    },
    {
     "name": "stdout",
     "output_type": "stream",
     "text": [
      "Solver failed for parameters: [8.30468750e-05 6.22890625e-05 1.88671875e-05 7.48828125e-01\n",
      " 5.80468750e-01 5.02343750e-06 5.05468750e-06 1.15664062e+03\n",
      " 1.67968750e+02 1.17187500e-01 1.36093750e+00 1.54843750e+00\n",
      " 1.52343750e+00 2.47617188e+04 5.61523438e+04] with error: Events ['Maximum voltage [V]'] are non-positive at initial conditions\n"
     ]
    },
    {
     "name": "stderr",
     "output_type": "stream",
     "text": [
      "CasADi - 2024-06-28 10:15:57 WARNING(\"roots:g failed: Inf detected for output x, at (row 0, col 0).\") [.../casadi/core/oracle_function.cpp:326]\n",
      "CasADi - 2024-06-28 10:15:57 WARNING(\"roots:g failed: Inf detected for output x, at (row 0, col 0).\") [.../casadi/core/oracle_function.cpp:326]\n",
      "CasADi - 2024-06-28 10:15:57 WARNING(\"roots:g failed: Inf detected for output x, at (row 0, col 0).\") [.../casadi/core/oracle_function.cpp:326]\n",
      "CasADi - 2024-06-28 10:15:57 WARNING(\"roots:g failed: Inf detected for output x, at (row 0, col 0).\") [.../casadi/core/oracle_function.cpp:326]\n"
     ]
    },
    {
     "name": "stdout",
     "output_type": "stream",
     "text": [
      "Solver failed for parameters: [8.30468750e-05 6.22890625e-05 1.88671875e-05 7.48828125e-01\n",
      " 5.80468750e-01 5.02343750e-06 5.05468750e-06 1.15664062e+03\n",
      " 1.67968750e+02 1.17187500e-01 1.36093750e+00 1.54843750e+00\n",
      " 1.52343750e+00 2.68242188e+04 5.74414062e+04] with error: Events ['Maximum voltage [V]'] are non-positive at initial conditions\n"
     ]
    },
    {
     "name": "stderr",
     "output_type": "stream",
     "text": [
      "CasADi - 2024-06-28 10:15:57 WARNING(\"roots:g failed: Inf detected for output x, at (row 0, col 0).\") [.../casadi/core/oracle_function.cpp:326]\n",
      "CasADi - 2024-06-28 10:15:57 WARNING(\"roots:g failed: Inf detected for output x, at (row 0, col 0).\") [.../casadi/core/oracle_function.cpp:326]\n",
      "CasADi - 2024-06-28 10:15:57 WARNING(\"roots:g failed: Inf detected for output x, at (row 0, col 0).\") [.../casadi/core/oracle_function.cpp:326]\n",
      "CasADi - 2024-06-28 10:15:57 WARNING(\"roots:g failed: Inf detected for output x, at (row 0, col 0).\") [.../casadi/core/oracle_function.cpp:326]\n"
     ]
    },
    {
     "name": "stdout",
     "output_type": "stream",
     "text": [
      "Solver failed for parameters: [8.30468750e-05 6.22890625e-05 1.88671875e-05 7.48828125e-01\n",
      " 5.80468750e-01 5.02343750e-06 5.05468750e-06 1.15664062e+03\n",
      " 1.67968750e+02 1.17187500e-01 1.36093750e+00 1.54843750e+00\n",
      " 1.52343750e+00 2.68242188e+04 5.61523438e+04] with error: Events ['Maximum voltage [V]'] are non-positive at initial conditions\n"
     ]
    },
    {
     "name": "stderr",
     "output_type": "stream",
     "text": [
      "CasADi - 2024-06-28 10:16:16 WARNING(\"roots:g failed: Inf detected for output x, at (row 0, col 0).\") [.../casadi/core/oracle_function.cpp:326]\n",
      "CasADi - 2024-06-28 10:16:16 WARNING(\"roots:g failed: Inf detected for output x, at (row 0, col 0).\") [.../casadi/core/oracle_function.cpp:326]\n",
      "CasADi - 2024-06-28 10:16:16 WARNING(\"roots:g failed: Inf detected for output x, at (row 0, col 0).\") [.../casadi/core/oracle_function.cpp:326]\n",
      "CasADi - 2024-06-28 10:16:16 WARNING(\"roots:g failed: Inf detected for output x, at (row 0, col 0).\") [.../casadi/core/oracle_function.cpp:326]\n",
      "CasADi - 2024-06-28 10:16:16 WARNING(\"roots:g failed: Inf detected for output x, at (row 0, col 0).\") [.../casadi/core/oracle_function.cpp:326]\n"
     ]
    },
    {
     "name": "stdout",
     "output_type": "stream",
     "text": [
      "Solver failed for parameters: [5.60468750e-05 6.26953125e-05 1.76171875e-05 7.91015625e-01\n",
      " 5.49218750e-01 4.03906250e-06 4.28906250e-06 9.26953125e+02\n",
      " 2.14843750e+02 6.60156250e+00 1.33281250e+00 1.60781250e+00\n",
      " 1.51406250e+00 2.33867188e+04 5.83789062e+04] with error: Events ['Maximum voltage [V]'] are non-positive at initial conditions\n"
     ]
    },
    {
     "name": "stderr",
     "output_type": "stream",
     "text": [
      "CasADi - 2024-06-28 10:16:18 WARNING(\"roots:g failed: Inf detected for output x, at (row 0, col 0).\") [.../casadi/core/oracle_function.cpp:326]\n",
      "CasADi - 2024-06-28 10:16:18 WARNING(\"roots:g failed: Inf detected for output x, at (row 0, col 0).\") [.../casadi/core/oracle_function.cpp:326]\n",
      "CasADi - 2024-06-28 10:16:18 WARNING(\"roots:g failed: Inf detected for output x, at (row 0, col 0).\") [.../casadi/core/oracle_function.cpp:326]\n",
      "CasADi - 2024-06-28 10:16:18 WARNING(\"roots:g failed: Inf detected for output x, at (row 0, col 0).\") [.../casadi/core/oracle_function.cpp:326]\n",
      "CasADi - 2024-06-28 10:16:18 WARNING(\"roots:g failed: Inf detected for output x, at (row 0, col 0).\") [.../casadi/core/oracle_function.cpp:326]\n"
     ]
    },
    {
     "name": "stdout",
     "output_type": "stream",
     "text": [
      "Solver failed for parameters: [5.60468750e-05 6.39140625e-05 1.07421875e-05 7.17578125e-01\n",
      " 6.67968750e-01 4.64843750e-06 4.67968750e-06 9.87890625e+02\n",
      " 2.05468750e+02 3.24218750e+00 1.53593750e+00 1.57343750e+00\n",
      " 1.44843750e+00 2.33867188e+04 6.45898438e+04] with error: Events ['Maximum voltage [V]'] are non-positive at initial conditions\n"
     ]
    },
    {
     "name": "stderr",
     "output_type": "stream",
     "text": [
      "CasADi - 2024-06-28 10:16:18 WARNING(\"roots:g failed: Inf detected for output x, at (row 0, col 0).\") [.../casadi/core/oracle_function.cpp:326]\n",
      "CasADi - 2024-06-28 10:16:18 WARNING(\"roots:g failed: Inf detected for output x, at (row 0, col 0).\") [.../casadi/core/oracle_function.cpp:326]\n",
      "CasADi - 2024-06-28 10:16:18 WARNING(\"roots:g failed: Inf detected for output x, at (row 0, col 0).\") [.../casadi/core/oracle_function.cpp:326]\n",
      "CasADi - 2024-06-28 10:16:18 WARNING(\"roots:g failed: Inf detected for output x, at (row 0, col 0).\") [.../casadi/core/oracle_function.cpp:326]\n",
      "CasADi - 2024-06-28 10:16:18 WARNING(\"roots:g failed: Inf detected for output x, at (row 0, col 0).\") [.../casadi/core/oracle_function.cpp:326]\n"
     ]
    },
    {
     "name": "stdout",
     "output_type": "stream",
     "text": [
      "Solver failed for parameters: [5.82968750e-05 6.26953125e-05 1.07421875e-05 7.17578125e-01\n",
      " 6.67968750e-01 4.64843750e-06 4.67968750e-06 9.87890625e+02\n",
      " 2.05468750e+02 3.24218750e+00 1.53593750e+00 1.57343750e+00\n",
      " 1.44843750e+00 2.33867188e+04 6.45898438e+04] with error: Events ['Maximum voltage [V]'] are non-positive at initial conditions\n"
     ]
    },
    {
     "name": "stderr",
     "output_type": "stream",
     "text": [
      "CasADi - 2024-06-28 10:16:18 WARNING(\"roots:g failed: Inf detected for output x, at (row 0, col 0).\") [.../casadi/core/oracle_function.cpp:326]\n",
      "CasADi - 2024-06-28 10:16:18 WARNING(\"roots:g failed: Inf detected for output x, at (row 0, col 0).\") [.../casadi/core/oracle_function.cpp:326]\n",
      "CasADi - 2024-06-28 10:16:18 WARNING(\"roots:g failed: Inf detected for output x, at (row 0, col 0).\") [.../casadi/core/oracle_function.cpp:326]\n",
      "CasADi - 2024-06-28 10:16:18 WARNING(\"roots:g failed: Inf detected for output x, at (row 0, col 0).\") [.../casadi/core/oracle_function.cpp:326]\n",
      "CasADi - 2024-06-28 10:16:18 WARNING(\"roots:g failed: Inf detected for output x, at (row 0, col 0).\") [.../casadi/core/oracle_function.cpp:326]\n"
     ]
    },
    {
     "name": "stdout",
     "output_type": "stream",
     "text": [
      "Solver failed for parameters: [5.82968750e-05 6.39140625e-05 1.76171875e-05 7.17578125e-01\n",
      " 6.67968750e-01 4.64843750e-06 4.67968750e-06 9.87890625e+02\n",
      " 2.05468750e+02 3.24218750e+00 1.53593750e+00 1.57343750e+00\n",
      " 1.44843750e+00 2.33867188e+04 6.45898438e+04] with error: Events ['Maximum voltage [V]'] are non-positive at initial conditions\n"
     ]
    },
    {
     "name": "stderr",
     "output_type": "stream",
     "text": [
      "CasADi - 2024-06-28 10:16:19 WARNING(\"roots:g failed: Inf detected for output x, at (row 0, col 0).\") [.../casadi/core/oracle_function.cpp:326]\n",
      "CasADi - 2024-06-28 10:16:19 WARNING(\"roots:g failed: Inf detected for output x, at (row 0, col 0).\") [.../casadi/core/oracle_function.cpp:326]\n",
      "CasADi - 2024-06-28 10:16:19 WARNING(\"roots:g failed: Inf detected for output x, at (row 0, col 0).\") [.../casadi/core/oracle_function.cpp:326]\n",
      "CasADi - 2024-06-28 10:16:19 WARNING(\"roots:g failed: Inf detected for output x, at (row 0, col 0).\") [.../casadi/core/oracle_function.cpp:326]\n",
      "CasADi - 2024-06-28 10:16:19 WARNING(\"roots:g failed: Inf detected for output x, at (row 0, col 0).\") [.../casadi/core/oracle_function.cpp:326]\n"
     ]
    },
    {
     "name": "stdout",
     "output_type": "stream",
     "text": [
      "Solver failed for parameters: [5.82968750e-05 6.39140625e-05 1.07421875e-05 7.91015625e-01\n",
      " 6.67968750e-01 4.64843750e-06 4.67968750e-06 9.87890625e+02\n",
      " 2.05468750e+02 3.24218750e+00 1.53593750e+00 1.57343750e+00\n",
      " 1.44843750e+00 2.33867188e+04 6.45898438e+04] with error: Events ['Maximum voltage [V]'] are non-positive at initial conditions\n"
     ]
    },
    {
     "name": "stderr",
     "output_type": "stream",
     "text": [
      "CasADi - 2024-06-28 10:16:19 WARNING(\"roots:g failed: Inf detected for output x, at (row 0, col 0).\") [.../casadi/core/oracle_function.cpp:326]\n",
      "CasADi - 2024-06-28 10:16:19 WARNING(\"roots:g failed: Inf detected for output x, at (row 0, col 0).\") [.../casadi/core/oracle_function.cpp:326]\n",
      "CasADi - 2024-06-28 10:16:19 WARNING(\"roots:g failed: Inf detected for output x, at (row 0, col 0).\") [.../casadi/core/oracle_function.cpp:326]\n",
      "CasADi - 2024-06-28 10:16:19 WARNING(\"roots:g failed: Inf detected for output x, at (row 0, col 0).\") [.../casadi/core/oracle_function.cpp:326]\n",
      "CasADi - 2024-06-28 10:16:19 WARNING(\"roots:g failed: Inf detected for output x, at (row 0, col 0).\") [.../casadi/core/oracle_function.cpp:326]\n"
     ]
    },
    {
     "name": "stdout",
     "output_type": "stream",
     "text": [
      "Solver failed for parameters: [5.82968750e-05 6.39140625e-05 1.07421875e-05 7.17578125e-01\n",
      " 5.49218750e-01 4.64843750e-06 4.67968750e-06 9.87890625e+02\n",
      " 2.05468750e+02 3.24218750e+00 1.53593750e+00 1.57343750e+00\n",
      " 1.44843750e+00 2.33867188e+04 6.45898438e+04] with error: Events ['Maximum voltage [V]'] are non-positive at initial conditions\n"
     ]
    },
    {
     "name": "stderr",
     "output_type": "stream",
     "text": [
      "CasADi - 2024-06-28 10:16:20 WARNING(\"roots:g failed: Inf detected for output x, at (row 0, col 0).\") [.../casadi/core/oracle_function.cpp:326]\n",
      "CasADi - 2024-06-28 10:16:20 WARNING(\"roots:g failed: Inf detected for output x, at (row 0, col 0).\") [.../casadi/core/oracle_function.cpp:326]\n",
      "CasADi - 2024-06-28 10:16:20 WARNING(\"roots:g failed: Inf detected for output x, at (row 0, col 0).\") [.../casadi/core/oracle_function.cpp:326]\n",
      "CasADi - 2024-06-28 10:16:20 WARNING(\"roots:g failed: Inf detected for output x, at (row 0, col 0).\") [.../casadi/core/oracle_function.cpp:326]\n",
      "CasADi - 2024-06-28 10:16:20 WARNING(\"roots:g failed: Inf detected for output x, at (row 0, col 0).\") [.../casadi/core/oracle_function.cpp:326]\n"
     ]
    },
    {
     "name": "stdout",
     "output_type": "stream",
     "text": [
      "Solver failed for parameters: [5.82968750e-05 6.39140625e-05 1.07421875e-05 7.17578125e-01\n",
      " 6.67968750e-01 4.03906250e-06 4.67968750e-06 9.87890625e+02\n",
      " 2.05468750e+02 3.24218750e+00 1.53593750e+00 1.57343750e+00\n",
      " 1.44843750e+00 2.33867188e+04 6.45898438e+04] with error: Events ['Maximum voltage [V]'] are non-positive at initial conditions\n"
     ]
    },
    {
     "name": "stderr",
     "output_type": "stream",
     "text": [
      "CasADi - 2024-06-28 10:16:21 WARNING(\"roots:g failed: Inf detected for output x, at (row 0, col 0).\") [.../casadi/core/oracle_function.cpp:326]\n",
      "CasADi - 2024-06-28 10:16:21 WARNING(\"roots:g failed: Inf detected for output x, at (row 0, col 0).\") [.../casadi/core/oracle_function.cpp:326]\n",
      "CasADi - 2024-06-28 10:16:21 WARNING(\"roots:g failed: Inf detected for output x, at (row 0, col 0).\") [.../casadi/core/oracle_function.cpp:326]\n",
      "CasADi - 2024-06-28 10:16:21 WARNING(\"roots:g failed: Inf detected for output x, at (row 0, col 0).\") [.../casadi/core/oracle_function.cpp:326]\n",
      "CasADi - 2024-06-28 10:16:21 WARNING(\"roots:g failed: Inf detected for output x, at (row 0, col 0).\") [.../casadi/core/oracle_function.cpp:326]\n"
     ]
    },
    {
     "name": "stdout",
     "output_type": "stream",
     "text": [
      "Solver failed for parameters: [5.82968750e-05 6.39140625e-05 1.07421875e-05 7.17578125e-01\n",
      " 6.67968750e-01 4.64843750e-06 4.28906250e-06 9.87890625e+02\n",
      " 2.05468750e+02 3.24218750e+00 1.53593750e+00 1.57343750e+00\n",
      " 1.44843750e+00 2.33867188e+04 6.45898438e+04] with error: Events ['Maximum voltage [V]'] are non-positive at initial conditions\n"
     ]
    },
    {
     "name": "stderr",
     "output_type": "stream",
     "text": [
      "CasADi - 2024-06-28 10:16:21 WARNING(\"roots:g failed: Inf detected for output x, at (row 0, col 0).\") [.../casadi/core/oracle_function.cpp:326]\n",
      "CasADi - 2024-06-28 10:16:21 WARNING(\"roots:g failed: Inf detected for output x, at (row 0, col 0).\") [.../casadi/core/oracle_function.cpp:326]\n",
      "CasADi - 2024-06-28 10:16:21 WARNING(\"roots:g failed: Inf detected for output x, at (row 0, col 0).\") [.../casadi/core/oracle_function.cpp:326]\n",
      "CasADi - 2024-06-28 10:16:21 WARNING(\"roots:g failed: Inf detected for output x, at (row 0, col 0).\") [.../casadi/core/oracle_function.cpp:326]\n",
      "CasADi - 2024-06-28 10:16:21 WARNING(\"roots:g failed: Inf detected for output x, at (row 0, col 0).\") [.../casadi/core/oracle_function.cpp:326]\n"
     ]
    },
    {
     "name": "stdout",
     "output_type": "stream",
     "text": [
      "Solver failed for parameters: [5.82968750e-05 6.39140625e-05 1.07421875e-05 7.17578125e-01\n",
      " 6.67968750e-01 4.64843750e-06 4.67968750e-06 9.26953125e+02\n",
      " 2.05468750e+02 3.24218750e+00 1.53593750e+00 1.57343750e+00\n",
      " 1.44843750e+00 2.33867188e+04 6.45898438e+04] with error: Events ['Maximum voltage [V]'] are non-positive at initial conditions\n"
     ]
    },
    {
     "name": "stderr",
     "output_type": "stream",
     "text": [
      "CasADi - 2024-06-28 10:16:21 WARNING(\"roots:g failed: Inf detected for output x, at (row 0, col 0).\") [.../casadi/core/oracle_function.cpp:326]\n",
      "CasADi - 2024-06-28 10:16:21 WARNING(\"roots:g failed: Inf detected for output x, at (row 0, col 0).\") [.../casadi/core/oracle_function.cpp:326]\n",
      "CasADi - 2024-06-28 10:16:21 WARNING(\"roots:g failed: Inf detected for output x, at (row 0, col 0).\") [.../casadi/core/oracle_function.cpp:326]\n",
      "CasADi - 2024-06-28 10:16:21 WARNING(\"roots:g failed: Inf detected for output x, at (row 0, col 0).\") [.../casadi/core/oracle_function.cpp:326]\n",
      "CasADi - 2024-06-28 10:16:21 WARNING(\"roots:g failed: Inf detected for output x, at (row 0, col 0).\") [.../casadi/core/oracle_function.cpp:326]\n"
     ]
    },
    {
     "name": "stdout",
     "output_type": "stream",
     "text": [
      "Solver failed for parameters: [5.82968750e-05 6.39140625e-05 1.07421875e-05 7.17578125e-01\n",
      " 6.67968750e-01 4.64843750e-06 4.67968750e-06 9.87890625e+02\n",
      " 2.14843750e+02 3.24218750e+00 1.53593750e+00 1.57343750e+00\n",
      " 1.44843750e+00 2.33867188e+04 6.45898438e+04] with error: Events ['Maximum voltage [V]'] are non-positive at initial conditions\n"
     ]
    },
    {
     "name": "stderr",
     "output_type": "stream",
     "text": [
      "CasADi - 2024-06-28 10:16:22 WARNING(\"roots:g failed: Inf detected for output x, at (row 0, col 0).\") [.../casadi/core/oracle_function.cpp:326]\n",
      "CasADi - 2024-06-28 10:16:22 WARNING(\"roots:g failed: Inf detected for output x, at (row 0, col 0).\") [.../casadi/core/oracle_function.cpp:326]\n",
      "CasADi - 2024-06-28 10:16:22 WARNING(\"roots:g failed: Inf detected for output x, at (row 0, col 0).\") [.../casadi/core/oracle_function.cpp:326]\n",
      "CasADi - 2024-06-28 10:16:22 WARNING(\"roots:g failed: Inf detected for output x, at (row 0, col 0).\") [.../casadi/core/oracle_function.cpp:326]\n",
      "CasADi - 2024-06-28 10:16:22 WARNING(\"roots:g failed: Inf detected for output x, at (row 0, col 0).\") [.../casadi/core/oracle_function.cpp:326]\n"
     ]
    },
    {
     "name": "stdout",
     "output_type": "stream",
     "text": [
      "Solver failed for parameters: [5.82968750e-05 6.39140625e-05 1.07421875e-05 7.17578125e-01\n",
      " 6.67968750e-01 4.64843750e-06 4.67968750e-06 9.87890625e+02\n",
      " 2.05468750e+02 6.60156250e+00 1.53593750e+00 1.57343750e+00\n",
      " 1.44843750e+00 2.33867188e+04 6.45898438e+04] with error: Events ['Maximum voltage [V]'] are non-positive at initial conditions\n"
     ]
    },
    {
     "name": "stderr",
     "output_type": "stream",
     "text": [
      "CasADi - 2024-06-28 10:16:22 WARNING(\"roots:g failed: Inf detected for output x, at (row 0, col 0).\") [.../casadi/core/oracle_function.cpp:326]\n",
      "CasADi - 2024-06-28 10:16:22 WARNING(\"roots:g failed: Inf detected for output x, at (row 0, col 0).\") [.../casadi/core/oracle_function.cpp:326]\n",
      "CasADi - 2024-06-28 10:16:22 WARNING(\"roots:g failed: Inf detected for output x, at (row 0, col 0).\") [.../casadi/core/oracle_function.cpp:326]\n",
      "CasADi - 2024-06-28 10:16:22 WARNING(\"roots:g failed: Inf detected for output x, at (row 0, col 0).\") [.../casadi/core/oracle_function.cpp:326]\n",
      "CasADi - 2024-06-28 10:16:22 WARNING(\"roots:g failed: Inf detected for output x, at (row 0, col 0).\") [.../casadi/core/oracle_function.cpp:326]\n"
     ]
    },
    {
     "name": "stdout",
     "output_type": "stream",
     "text": [
      "Solver failed for parameters: [5.82968750e-05 6.39140625e-05 1.07421875e-05 7.17578125e-01\n",
      " 6.67968750e-01 4.64843750e-06 4.67968750e-06 9.87890625e+02\n",
      " 2.05468750e+02 3.24218750e+00 1.33281250e+00 1.57343750e+00\n",
      " 1.44843750e+00 2.33867188e+04 6.45898438e+04] with error: Events ['Maximum voltage [V]'] are non-positive at initial conditions\n"
     ]
    },
    {
     "name": "stderr",
     "output_type": "stream",
     "text": [
      "CasADi - 2024-06-28 10:16:23 WARNING(\"roots:g failed: Inf detected for output x, at (row 0, col 0).\") [.../casadi/core/oracle_function.cpp:326]\n",
      "CasADi - 2024-06-28 10:16:23 WARNING(\"roots:g failed: Inf detected for output x, at (row 0, col 0).\") [.../casadi/core/oracle_function.cpp:326]\n",
      "CasADi - 2024-06-28 10:16:23 WARNING(\"roots:g failed: Inf detected for output x, at (row 0, col 0).\") [.../casadi/core/oracle_function.cpp:326]\n",
      "CasADi - 2024-06-28 10:16:23 WARNING(\"roots:g failed: Inf detected for output x, at (row 0, col 0).\") [.../casadi/core/oracle_function.cpp:326]\n",
      "CasADi - 2024-06-28 10:16:23 WARNING(\"roots:g failed: Inf detected for output x, at (row 0, col 0).\") [.../casadi/core/oracle_function.cpp:326]\n"
     ]
    },
    {
     "name": "stdout",
     "output_type": "stream",
     "text": [
      "Solver failed for parameters: [5.82968750e-05 6.39140625e-05 1.07421875e-05 7.17578125e-01\n",
      " 6.67968750e-01 4.64843750e-06 4.67968750e-06 9.87890625e+02\n",
      " 2.05468750e+02 3.24218750e+00 1.53593750e+00 1.60781250e+00\n",
      " 1.44843750e+00 2.33867188e+04 6.45898438e+04] with error: Events ['Maximum voltage [V]'] are non-positive at initial conditions\n"
     ]
    },
    {
     "name": "stderr",
     "output_type": "stream",
     "text": [
      "CasADi - 2024-06-28 10:16:23 WARNING(\"roots:g failed: Inf detected for output x, at (row 0, col 0).\") [.../casadi/core/oracle_function.cpp:326]\n",
      "CasADi - 2024-06-28 10:16:23 WARNING(\"roots:g failed: Inf detected for output x, at (row 0, col 0).\") [.../casadi/core/oracle_function.cpp:326]\n",
      "CasADi - 2024-06-28 10:16:23 WARNING(\"roots:g failed: Inf detected for output x, at (row 0, col 0).\") [.../casadi/core/oracle_function.cpp:326]\n",
      "CasADi - 2024-06-28 10:16:23 WARNING(\"roots:g failed: Inf detected for output x, at (row 0, col 0).\") [.../casadi/core/oracle_function.cpp:326]\n",
      "CasADi - 2024-06-28 10:16:23 WARNING(\"roots:g failed: Inf detected for output x, at (row 0, col 0).\") [.../casadi/core/oracle_function.cpp:326]\n"
     ]
    },
    {
     "name": "stdout",
     "output_type": "stream",
     "text": [
      "Solver failed for parameters: [5.82968750e-05 6.39140625e-05 1.07421875e-05 7.17578125e-01\n",
      " 6.67968750e-01 4.64843750e-06 4.67968750e-06 9.87890625e+02\n",
      " 2.05468750e+02 3.24218750e+00 1.53593750e+00 1.57343750e+00\n",
      " 1.51406250e+00 2.33867188e+04 6.45898438e+04] with error: Events ['Maximum voltage [V]'] are non-positive at initial conditions\n"
     ]
    },
    {
     "name": "stderr",
     "output_type": "stream",
     "text": [
      "CasADi - 2024-06-28 10:16:25 WARNING(\"roots:g failed: Inf detected for output x, at (row 0, col 0).\") [.../casadi/core/oracle_function.cpp:326]\n",
      "CasADi - 2024-06-28 10:16:25 WARNING(\"roots:g failed: Inf detected for output x, at (row 0, col 0).\") [.../casadi/core/oracle_function.cpp:326]\n",
      "CasADi - 2024-06-28 10:16:25 WARNING(\"roots:g failed: Inf detected for output x, at (row 0, col 0).\") [.../casadi/core/oracle_function.cpp:326]\n",
      "CasADi - 2024-06-28 10:16:25 WARNING(\"roots:g failed: Inf detected for output x, at (row 0, col 0).\") [.../casadi/core/oracle_function.cpp:326]\n",
      "CasADi - 2024-06-28 10:16:25 WARNING(\"roots:g failed: Inf detected for output x, at (row 0, col 0).\") [.../casadi/core/oracle_function.cpp:326]\n"
     ]
    },
    {
     "name": "stdout",
     "output_type": "stream",
     "text": [
      "Solver failed for parameters: [5.82968750e-05 6.39140625e-05 1.07421875e-05 7.17578125e-01\n",
      " 6.67968750e-01 4.64843750e-06 4.67968750e-06 9.87890625e+02\n",
      " 2.05468750e+02 3.24218750e+00 1.53593750e+00 1.57343750e+00\n",
      " 1.44843750e+00 2.33867188e+04 5.83789062e+04] with error: Events ['Maximum voltage [V]'] are non-positive at initial conditions\n"
     ]
    },
    {
     "name": "stderr",
     "output_type": "stream",
     "text": [
      "CasADi - 2024-06-28 10:16:25 WARNING(\"roots:g failed: Inf detected for output x, at (row 0, col 0).\") [.../casadi/core/oracle_function.cpp:326]\n",
      "CasADi - 2024-06-28 10:16:25 WARNING(\"roots:g failed: Inf detected for output x, at (row 0, col 0).\") [.../casadi/core/oracle_function.cpp:326]\n",
      "CasADi - 2024-06-28 10:16:25 WARNING(\"roots:g failed: Inf detected for output x, at (row 0, col 0).\") [.../casadi/core/oracle_function.cpp:326]\n",
      "CasADi - 2024-06-28 10:16:25 WARNING(\"roots:g failed: Inf detected for output x, at (row 0, col 0).\") [.../casadi/core/oracle_function.cpp:326]\n",
      "CasADi - 2024-06-28 10:16:25 WARNING(\"roots:g failed: Inf detected for output x, at (row 0, col 0).\") [.../casadi/core/oracle_function.cpp:326]\n"
     ]
    },
    {
     "name": "stdout",
     "output_type": "stream",
     "text": [
      "Solver failed for parameters: [5.82968750e-05 6.39140625e-05 1.07421875e-05 7.17578125e-01\n",
      " 6.67968750e-01 4.64843750e-06 4.67968750e-06 9.87890625e+02\n",
      " 2.05468750e+02 3.24218750e+00 1.53593750e+00 1.57343750e+00\n",
      " 1.44843750e+00 2.33867188e+04 6.45898438e+04] with error: Events ['Maximum voltage [V]'] are non-positive at initial conditions\n"
     ]
    },
    {
     "name": "stderr",
     "output_type": "stream",
     "text": [
      "CasADi - 2024-06-28 10:16:26 WARNING(\"roots:g failed: Inf detected for output x, at (row 0, col 0).\") [.../casadi/core/oracle_function.cpp:326]\n",
      "CasADi - 2024-06-28 10:16:26 WARNING(\"roots:g failed: Inf detected for output x, at (row 0, col 0).\") [.../casadi/core/oracle_function.cpp:326]\n",
      "CasADi - 2024-06-28 10:16:26 WARNING(\"roots:g failed: Inf detected for output x, at (row 0, col 0).\") [.../casadi/core/oracle_function.cpp:326]\n",
      "CasADi - 2024-06-28 10:16:26 WARNING(\"roots:g failed: Inf detected for output x, at (row 0, col 0).\") [.../casadi/core/oracle_function.cpp:326]\n",
      "CasADi - 2024-06-28 10:16:26 WARNING(\"roots:g failed: Inf detected for output x, at (row 0, col 0).\") [.../casadi/core/oracle_function.cpp:326]\n"
     ]
    },
    {
     "name": "stdout",
     "output_type": "stream",
     "text": [
      "Solver failed for parameters: [7.40468750e-05 7.56953125e-05 1.26171875e-05 7.41015625e-01\n",
      " 6.49218750e-01 5.03906250e-06 5.28906250e-06 1.07695312e+03\n",
      " 1.14843750e+02 1.60156250e+00 1.53281250e+00 1.40781250e+00\n",
      " 1.31406250e+00 2.54492188e+04 5.08789062e+04] with error: Events ['Maximum voltage [V]'] are non-positive at initial conditions\n"
     ]
    },
    {
     "name": "stderr",
     "output_type": "stream",
     "text": [
      "CasADi - 2024-06-28 10:16:27 WARNING(\"roots:g failed: Inf detected for output x, at (row 0, col 0).\") [.../casadi/core/oracle_function.cpp:326]\n",
      "CasADi - 2024-06-28 10:16:27 WARNING(\"roots:g failed: Inf detected for output x, at (row 0, col 0).\") [.../casadi/core/oracle_function.cpp:326]\n",
      "CasADi - 2024-06-28 10:16:27 WARNING(\"roots:g failed: Inf detected for output x, at (row 0, col 0).\") [.../casadi/core/oracle_function.cpp:326]\n",
      "CasADi - 2024-06-28 10:16:27 WARNING(\"roots:g failed: Inf detected for output x, at (row 0, col 0).\") [.../casadi/core/oracle_function.cpp:326]\n",
      "CasADi - 2024-06-28 10:16:27 WARNING(\"roots:g failed: Inf detected for output x, at (row 0, col 0).\") [.../casadi/core/oracle_function.cpp:326]\n"
     ]
    },
    {
     "name": "stdout",
     "output_type": "stream",
     "text": [
      "Solver failed for parameters: [7.62968750e-05 7.56953125e-05 1.26171875e-05 7.41015625e-01\n",
      " 6.49218750e-01 5.03906250e-06 5.28906250e-06 1.07695312e+03\n",
      " 1.14843750e+02 1.60156250e+00 1.53281250e+00 1.40781250e+00\n",
      " 1.31406250e+00 2.54492188e+04 5.08789062e+04] with error: Events ['Maximum voltage [V]'] are non-positive at initial conditions\n"
     ]
    },
    {
     "name": "stderr",
     "output_type": "stream",
     "text": [
      "CasADi - 2024-06-28 10:16:27 WARNING(\"roots:g failed: Inf detected for output x, at (row 0, col 0).\") [.../casadi/core/oracle_function.cpp:326]\n",
      "CasADi - 2024-06-28 10:16:27 WARNING(\"roots:g failed: Inf detected for output x, at (row 0, col 0).\") [.../casadi/core/oracle_function.cpp:326]\n",
      "CasADi - 2024-06-28 10:16:27 WARNING(\"roots:g failed: Inf detected for output x, at (row 0, col 0).\") [.../casadi/core/oracle_function.cpp:326]\n",
      "CasADi - 2024-06-28 10:16:27 WARNING(\"roots:g failed: Inf detected for output x, at (row 0, col 0).\") [.../casadi/core/oracle_function.cpp:326]\n",
      "CasADi - 2024-06-28 10:16:27 WARNING(\"roots:g failed: Inf detected for output x, at (row 0, col 0).\") [.../casadi/core/oracle_function.cpp:326]\n"
     ]
    },
    {
     "name": "stdout",
     "output_type": "stream",
     "text": [
      "Solver failed for parameters: [7.40468750e-05 5.09140625e-05 1.26171875e-05 7.41015625e-01\n",
      " 6.49218750e-01 5.03906250e-06 5.28906250e-06 1.07695312e+03\n",
      " 1.14843750e+02 1.60156250e+00 1.53281250e+00 1.40781250e+00\n",
      " 1.31406250e+00 2.54492188e+04 5.08789062e+04] with error: Events ['Maximum voltage [V]'] are non-positive at initial conditions\n"
     ]
    },
    {
     "name": "stderr",
     "output_type": "stream",
     "text": [
      "CasADi - 2024-06-28 10:16:28 WARNING(\"roots:g failed: Inf detected for output x, at (row 0, col 0).\") [.../casadi/core/oracle_function.cpp:326]\n",
      "CasADi - 2024-06-28 10:16:28 WARNING(\"roots:g failed: Inf detected for output x, at (row 0, col 0).\") [.../casadi/core/oracle_function.cpp:326]\n",
      "CasADi - 2024-06-28 10:16:28 WARNING(\"roots:g failed: Inf detected for output x, at (row 0, col 0).\") [.../casadi/core/oracle_function.cpp:326]\n",
      "CasADi - 2024-06-28 10:16:28 WARNING(\"roots:g failed: Inf detected for output x, at (row 0, col 0).\") [.../casadi/core/oracle_function.cpp:326]\n",
      "CasADi - 2024-06-28 10:16:28 WARNING(\"roots:g failed: Inf detected for output x, at (row 0, col 0).\") [.../casadi/core/oracle_function.cpp:326]\n"
     ]
    },
    {
     "name": "stdout",
     "output_type": "stream",
     "text": [
      "Solver failed for parameters: [7.40468750e-05 7.56953125e-05 1.57421875e-05 7.41015625e-01\n",
      " 6.49218750e-01 5.03906250e-06 5.28906250e-06 1.07695312e+03\n",
      " 1.14843750e+02 1.60156250e+00 1.53281250e+00 1.40781250e+00\n",
      " 1.31406250e+00 2.54492188e+04 5.08789062e+04] with error: Events ['Maximum voltage [V]'] are non-positive at initial conditions\n"
     ]
    },
    {
     "name": "stderr",
     "output_type": "stream",
     "text": [
      "CasADi - 2024-06-28 10:16:28 WARNING(\"roots:g failed: Inf detected for output x, at (row 0, col 0).\") [.../casadi/core/oracle_function.cpp:326]\n",
      "CasADi - 2024-06-28 10:16:28 WARNING(\"roots:g failed: Inf detected for output x, at (row 0, col 0).\") [.../casadi/core/oracle_function.cpp:326]\n",
      "CasADi - 2024-06-28 10:16:28 WARNING(\"roots:g failed: Inf detected for output x, at (row 0, col 0).\") [.../casadi/core/oracle_function.cpp:326]\n",
      "CasADi - 2024-06-28 10:16:28 WARNING(\"roots:g failed: Inf detected for output x, at (row 0, col 0).\") [.../casadi/core/oracle_function.cpp:326]\n",
      "CasADi - 2024-06-28 10:16:28 WARNING(\"roots:g failed: Inf detected for output x, at (row 0, col 0).\") [.../casadi/core/oracle_function.cpp:326]\n"
     ]
    },
    {
     "name": "stdout",
     "output_type": "stream",
     "text": [
      "Solver failed for parameters: [7.40468750e-05 7.56953125e-05 1.26171875e-05 7.67578125e-01\n",
      " 6.49218750e-01 5.03906250e-06 5.28906250e-06 1.07695312e+03\n",
      " 1.14843750e+02 1.60156250e+00 1.53281250e+00 1.40781250e+00\n",
      " 1.31406250e+00 2.54492188e+04 5.08789062e+04] with error: Events ['Maximum voltage [V]'] are non-positive at initial conditions\n"
     ]
    },
    {
     "name": "stderr",
     "output_type": "stream",
     "text": [
      "CasADi - 2024-06-28 10:16:28 WARNING(\"roots:g failed: Inf detected for output x, at (row 0, col 0).\") [.../casadi/core/oracle_function.cpp:326]\n",
      "CasADi - 2024-06-28 10:16:28 WARNING(\"roots:g failed: Inf detected for output x, at (row 0, col 0).\") [.../casadi/core/oracle_function.cpp:326]\n",
      "CasADi - 2024-06-28 10:16:28 WARNING(\"roots:g failed: Inf detected for output x, at (row 0, col 0).\") [.../casadi/core/oracle_function.cpp:326]\n",
      "CasADi - 2024-06-28 10:16:28 WARNING(\"roots:g failed: Inf detected for output x, at (row 0, col 0).\") [.../casadi/core/oracle_function.cpp:326]\n",
      "CasADi - 2024-06-28 10:16:28 WARNING(\"roots:g failed: Inf detected for output x, at (row 0, col 0).\") [.../casadi/core/oracle_function.cpp:326]\n"
     ]
    },
    {
     "name": "stdout",
     "output_type": "stream",
     "text": [
      "Solver failed for parameters: [7.40468750e-05 7.56953125e-05 1.26171875e-05 7.41015625e-01\n",
      " 5.67968750e-01 5.03906250e-06 5.28906250e-06 1.07695312e+03\n",
      " 1.14843750e+02 1.60156250e+00 1.53281250e+00 1.40781250e+00\n",
      " 1.31406250e+00 2.54492188e+04 5.08789062e+04] with error: Events ['Maximum voltage [V]'] are non-positive at initial conditions\n"
     ]
    },
    {
     "name": "stderr",
     "output_type": "stream",
     "text": [
      "CasADi - 2024-06-28 10:16:29 WARNING(\"roots:g failed: Inf detected for output x, at (row 0, col 0).\") [.../casadi/core/oracle_function.cpp:326]\n",
      "CasADi - 2024-06-28 10:16:29 WARNING(\"roots:g failed: Inf detected for output x, at (row 0, col 0).\") [.../casadi/core/oracle_function.cpp:326]\n",
      "CasADi - 2024-06-28 10:16:29 WARNING(\"roots:g failed: Inf detected for output x, at (row 0, col 0).\") [.../casadi/core/oracle_function.cpp:326]\n",
      "CasADi - 2024-06-28 10:16:29 WARNING(\"roots:g failed: Inf detected for output x, at (row 0, col 0).\") [.../casadi/core/oracle_function.cpp:326]\n",
      "CasADi - 2024-06-28 10:16:29 WARNING(\"roots:g failed: Inf detected for output x, at (row 0, col 0).\") [.../casadi/core/oracle_function.cpp:326]\n"
     ]
    },
    {
     "name": "stdout",
     "output_type": "stream",
     "text": [
      "Solver failed for parameters: [7.40468750e-05 7.56953125e-05 1.26171875e-05 7.41015625e-01\n",
      " 6.49218750e-01 5.64843750e-06 5.28906250e-06 1.07695312e+03\n",
      " 1.14843750e+02 1.60156250e+00 1.53281250e+00 1.40781250e+00\n",
      " 1.31406250e+00 2.54492188e+04 5.08789062e+04] with error: Events ['Maximum voltage [V]'] are non-positive at initial conditions\n"
     ]
    },
    {
     "name": "stderr",
     "output_type": "stream",
     "text": [
      "CasADi - 2024-06-28 10:16:29 WARNING(\"roots:g failed: Inf detected for output x, at (row 0, col 0).\") [.../casadi/core/oracle_function.cpp:326]\n",
      "CasADi - 2024-06-28 10:16:29 WARNING(\"roots:g failed: Inf detected for output x, at (row 0, col 0).\") [.../casadi/core/oracle_function.cpp:326]\n",
      "CasADi - 2024-06-28 10:16:29 WARNING(\"roots:g failed: Inf detected for output x, at (row 0, col 0).\") [.../casadi/core/oracle_function.cpp:326]\n",
      "CasADi - 2024-06-28 10:16:29 WARNING(\"roots:g failed: Inf detected for output x, at (row 0, col 0).\") [.../casadi/core/oracle_function.cpp:326]\n",
      "CasADi - 2024-06-28 10:16:29 WARNING(\"roots:g failed: Inf detected for output x, at (row 0, col 0).\") [.../casadi/core/oracle_function.cpp:326]\n"
     ]
    },
    {
     "name": "stdout",
     "output_type": "stream",
     "text": [
      "Solver failed for parameters: [7.40468750e-05 7.56953125e-05 1.26171875e-05 7.41015625e-01\n",
      " 6.49218750e-01 5.03906250e-06 5.67968750e-06 1.07695312e+03\n",
      " 1.14843750e+02 1.60156250e+00 1.53281250e+00 1.40781250e+00\n",
      " 1.31406250e+00 2.54492188e+04 5.08789062e+04] with error: Events ['Maximum voltage [V]'] are non-positive at initial conditions\n"
     ]
    },
    {
     "name": "stderr",
     "output_type": "stream",
     "text": [
      "CasADi - 2024-06-28 10:16:30 WARNING(\"roots:g failed: Inf detected for output x, at (row 0, col 0).\") [.../casadi/core/oracle_function.cpp:326]\n",
      "CasADi - 2024-06-28 10:16:30 WARNING(\"roots:g failed: Inf detected for output x, at (row 0, col 0).\") [.../casadi/core/oracle_function.cpp:326]\n",
      "CasADi - 2024-06-28 10:16:30 WARNING(\"roots:g failed: Inf detected for output x, at (row 0, col 0).\") [.../casadi/core/oracle_function.cpp:326]\n",
      "CasADi - 2024-06-28 10:16:30 WARNING(\"roots:g failed: Inf detected for output x, at (row 0, col 0).\") [.../casadi/core/oracle_function.cpp:326]\n",
      "CasADi - 2024-06-28 10:16:30 WARNING(\"roots:g failed: Inf detected for output x, at (row 0, col 0).\") [.../casadi/core/oracle_function.cpp:326]\n"
     ]
    },
    {
     "name": "stdout",
     "output_type": "stream",
     "text": [
      "Solver failed for parameters: [7.40468750e-05 7.56953125e-05 1.26171875e-05 7.41015625e-01\n",
      " 6.49218750e-01 5.03906250e-06 5.28906250e-06 1.13789062e+03\n",
      " 1.14843750e+02 1.60156250e+00 1.53281250e+00 1.40781250e+00\n",
      " 1.31406250e+00 2.54492188e+04 5.08789062e+04] with error: Events ['Maximum voltage [V]'] are non-positive at initial conditions\n"
     ]
    },
    {
     "name": "stderr",
     "output_type": "stream",
     "text": [
      "CasADi - 2024-06-28 10:16:30 WARNING(\"roots:g failed: Inf detected for output x, at (row 0, col 0).\") [.../casadi/core/oracle_function.cpp:326]\n",
      "CasADi - 2024-06-28 10:16:30 WARNING(\"roots:g failed: Inf detected for output x, at (row 0, col 0).\") [.../casadi/core/oracle_function.cpp:326]\n",
      "CasADi - 2024-06-28 10:16:30 WARNING(\"roots:g failed: Inf detected for output x, at (row 0, col 0).\") [.../casadi/core/oracle_function.cpp:326]\n",
      "CasADi - 2024-06-28 10:16:30 WARNING(\"roots:g failed: Inf detected for output x, at (row 0, col 0).\") [.../casadi/core/oracle_function.cpp:326]\n",
      "CasADi - 2024-06-28 10:16:30 WARNING(\"roots:g failed: Inf detected for output x, at (row 0, col 0).\") [.../casadi/core/oracle_function.cpp:326]\n"
     ]
    },
    {
     "name": "stdout",
     "output_type": "stream",
     "text": [
      "Solver failed for parameters: [7.40468750e-05 7.56953125e-05 1.26171875e-05 7.41015625e-01\n",
      " 6.49218750e-01 5.03906250e-06 5.28906250e-06 1.07695312e+03\n",
      " 1.05468750e+02 1.60156250e+00 1.53281250e+00 1.40781250e+00\n",
      " 1.31406250e+00 2.54492188e+04 5.08789062e+04] with error: Events ['Maximum voltage [V]'] are non-positive at initial conditions\n"
     ]
    },
    {
     "name": "stderr",
     "output_type": "stream",
     "text": [
      "CasADi - 2024-06-28 10:16:31 WARNING(\"roots:g failed: Inf detected for output x, at (row 0, col 0).\") [.../casadi/core/oracle_function.cpp:326]\n",
      "CasADi - 2024-06-28 10:16:31 WARNING(\"roots:g failed: Inf detected for output x, at (row 0, col 0).\") [.../casadi/core/oracle_function.cpp:326]\n",
      "CasADi - 2024-06-28 10:16:31 WARNING(\"roots:g failed: Inf detected for output x, at (row 0, col 0).\") [.../casadi/core/oracle_function.cpp:326]\n",
      "CasADi - 2024-06-28 10:16:31 WARNING(\"roots:g failed: Inf detected for output x, at (row 0, col 0).\") [.../casadi/core/oracle_function.cpp:326]\n",
      "CasADi - 2024-06-28 10:16:31 WARNING(\"roots:g failed: Inf detected for output x, at (row 0, col 0).\") [.../casadi/core/oracle_function.cpp:326]\n"
     ]
    },
    {
     "name": "stdout",
     "output_type": "stream",
     "text": [
      "Solver failed for parameters: [7.40468750e-05 7.56953125e-05 1.26171875e-05 7.41015625e-01\n",
      " 6.49218750e-01 5.03906250e-06 5.28906250e-06 1.07695312e+03\n",
      " 1.14843750e+02 8.24218750e+00 1.53281250e+00 1.40781250e+00\n",
      " 1.31406250e+00 2.54492188e+04 5.08789062e+04] with error: Events ['Maximum voltage [V]'] are non-positive at initial conditions\n"
     ]
    },
    {
     "name": "stderr",
     "output_type": "stream",
     "text": [
      "CasADi - 2024-06-28 10:16:31 WARNING(\"roots:g failed: Inf detected for output x, at (row 0, col 0).\") [.../casadi/core/oracle_function.cpp:326]\n",
      "CasADi - 2024-06-28 10:16:31 WARNING(\"roots:g failed: Inf detected for output x, at (row 0, col 0).\") [.../casadi/core/oracle_function.cpp:326]\n",
      "CasADi - 2024-06-28 10:16:31 WARNING(\"roots:g failed: Inf detected for output x, at (row 0, col 0).\") [.../casadi/core/oracle_function.cpp:326]\n",
      "CasADi - 2024-06-28 10:16:31 WARNING(\"roots:g failed: Inf detected for output x, at (row 0, col 0).\") [.../casadi/core/oracle_function.cpp:326]\n",
      "CasADi - 2024-06-28 10:16:31 WARNING(\"roots:g failed: Inf detected for output x, at (row 0, col 0).\") [.../casadi/core/oracle_function.cpp:326]\n"
     ]
    },
    {
     "name": "stdout",
     "output_type": "stream",
     "text": [
      "Solver failed for parameters: [7.40468750e-05 7.56953125e-05 1.26171875e-05 7.41015625e-01\n",
      " 6.49218750e-01 5.03906250e-06 5.28906250e-06 1.07695312e+03\n",
      " 1.14843750e+02 1.60156250e+00 1.33593750e+00 1.40781250e+00\n",
      " 1.31406250e+00 2.54492188e+04 5.08789062e+04] with error: Events ['Maximum voltage [V]'] are non-positive at initial conditions\n"
     ]
    },
    {
     "name": "stderr",
     "output_type": "stream",
     "text": [
      "CasADi - 2024-06-28 10:16:32 WARNING(\"roots:g failed: Inf detected for output x, at (row 0, col 0).\") [.../casadi/core/oracle_function.cpp:326]\n",
      "CasADi - 2024-06-28 10:16:32 WARNING(\"roots:g failed: Inf detected for output x, at (row 0, col 0).\") [.../casadi/core/oracle_function.cpp:326]\n",
      "CasADi - 2024-06-28 10:16:32 WARNING(\"roots:g failed: Inf detected for output x, at (row 0, col 0).\") [.../casadi/core/oracle_function.cpp:326]\n",
      "CasADi - 2024-06-28 10:16:32 WARNING(\"roots:g failed: Inf detected for output x, at (row 0, col 0).\") [.../casadi/core/oracle_function.cpp:326]\n",
      "CasADi - 2024-06-28 10:16:32 WARNING(\"roots:g failed: Inf detected for output x, at (row 0, col 0).\") [.../casadi/core/oracle_function.cpp:326]\n"
     ]
    },
    {
     "name": "stdout",
     "output_type": "stream",
     "text": [
      "Solver failed for parameters: [7.40468750e-05 7.56953125e-05 1.26171875e-05 7.41015625e-01\n",
      " 6.49218750e-01 5.03906250e-06 5.28906250e-06 1.07695312e+03\n",
      " 1.14843750e+02 1.60156250e+00 1.53281250e+00 1.37343750e+00\n",
      " 1.31406250e+00 2.54492188e+04 5.08789062e+04] with error: Events ['Maximum voltage [V]'] are non-positive at initial conditions\n"
     ]
    },
    {
     "name": "stderr",
     "output_type": "stream",
     "text": [
      "CasADi - 2024-06-28 10:16:32 WARNING(\"roots:g failed: Inf detected for output x, at (row 0, col 0).\") [.../casadi/core/oracle_function.cpp:326]\n",
      "CasADi - 2024-06-28 10:16:32 WARNING(\"roots:g failed: Inf detected for output x, at (row 0, col 0).\") [.../casadi/core/oracle_function.cpp:326]\n",
      "CasADi - 2024-06-28 10:16:32 WARNING(\"roots:g failed: Inf detected for output x, at (row 0, col 0).\") [.../casadi/core/oracle_function.cpp:326]\n",
      "CasADi - 2024-06-28 10:16:32 WARNING(\"roots:g failed: Inf detected for output x, at (row 0, col 0).\") [.../casadi/core/oracle_function.cpp:326]\n",
      "CasADi - 2024-06-28 10:16:32 WARNING(\"roots:g failed: Inf detected for output x, at (row 0, col 0).\") [.../casadi/core/oracle_function.cpp:326]\n"
     ]
    },
    {
     "name": "stdout",
     "output_type": "stream",
     "text": [
      "Solver failed for parameters: [7.40468750e-05 7.56953125e-05 1.26171875e-05 7.41015625e-01\n",
      " 6.49218750e-01 5.03906250e-06 5.28906250e-06 1.07695312e+03\n",
      " 1.14843750e+02 1.60156250e+00 1.53281250e+00 1.40781250e+00\n",
      " 1.64843750e+00 2.54492188e+04 5.08789062e+04] with error: Events ['Maximum voltage [V]'] are non-positive at initial conditions\n"
     ]
    },
    {
     "name": "stderr",
     "output_type": "stream",
     "text": [
      "CasADi - 2024-06-28 10:16:33 WARNING(\"roots:g failed: Inf detected for output x, at (row 0, col 0).\") [.../casadi/core/oracle_function.cpp:326]\n",
      "CasADi - 2024-06-28 10:16:33 WARNING(\"roots:g failed: Inf detected for output x, at (row 0, col 0).\") [.../casadi/core/oracle_function.cpp:326]\n",
      "CasADi - 2024-06-28 10:16:33 WARNING(\"roots:g failed: Inf detected for output x, at (row 0, col 0).\") [.../casadi/core/oracle_function.cpp:326]\n",
      "CasADi - 2024-06-28 10:16:33 WARNING(\"roots:g failed: Inf detected for output x, at (row 0, col 0).\") [.../casadi/core/oracle_function.cpp:326]\n",
      "CasADi - 2024-06-28 10:16:33 WARNING(\"roots:g failed: Inf detected for output x, at (row 0, col 0).\") [.../casadi/core/oracle_function.cpp:326]\n"
     ]
    },
    {
     "name": "stdout",
     "output_type": "stream",
     "text": [
      "Solver failed for parameters: [7.40468750e-05 7.56953125e-05 1.26171875e-05 7.41015625e-01\n",
      " 6.49218750e-01 5.03906250e-06 5.28906250e-06 1.07695312e+03\n",
      " 1.14843750e+02 1.60156250e+00 1.53281250e+00 1.40781250e+00\n",
      " 1.31406250e+00 2.88867188e+04 5.08789062e+04] with error: Events ['Maximum voltage [V]'] are non-positive at initial conditions\n"
     ]
    },
    {
     "name": "stderr",
     "output_type": "stream",
     "text": [
      "CasADi - 2024-06-28 10:16:33 WARNING(\"roots:g failed: Inf detected for output x, at (row 0, col 0).\") [.../casadi/core/oracle_function.cpp:326]\n",
      "CasADi - 2024-06-28 10:16:33 WARNING(\"roots:g failed: Inf detected for output x, at (row 0, col 0).\") [.../casadi/core/oracle_function.cpp:326]\n",
      "CasADi - 2024-06-28 10:16:33 WARNING(\"roots:g failed: Inf detected for output x, at (row 0, col 0).\") [.../casadi/core/oracle_function.cpp:326]\n",
      "CasADi - 2024-06-28 10:16:33 WARNING(\"roots:g failed: Inf detected for output x, at (row 0, col 0).\") [.../casadi/core/oracle_function.cpp:326]\n",
      "CasADi - 2024-06-28 10:16:33 WARNING(\"roots:g failed: Inf detected for output x, at (row 0, col 0).\") [.../casadi/core/oracle_function.cpp:326]\n"
     ]
    },
    {
     "name": "stdout",
     "output_type": "stream",
     "text": [
      "Solver failed for parameters: [7.40468750e-05 7.56953125e-05 1.26171875e-05 7.41015625e-01\n",
      " 6.49218750e-01 5.03906250e-06 5.28906250e-06 1.07695312e+03\n",
      " 1.14843750e+02 1.60156250e+00 1.53281250e+00 1.40781250e+00\n",
      " 1.31406250e+00 2.54492188e+04 5.70898438e+04] with error: Events ['Maximum voltage [V]'] are non-positive at initial conditions\n"
     ]
    },
    {
     "name": "stderr",
     "output_type": "stream",
     "text": [
      "CasADi - 2024-06-28 10:16:34 WARNING(\"roots:g failed: Inf detected for output x, at (row 0, col 0).\") [.../casadi/core/oracle_function.cpp:326]\n",
      "CasADi - 2024-06-28 10:16:34 WARNING(\"roots:g failed: Inf detected for output x, at (row 0, col 0).\") [.../casadi/core/oracle_function.cpp:326]\n",
      "CasADi - 2024-06-28 10:16:34 WARNING(\"roots:g failed: Inf detected for output x, at (row 0, col 0).\") [.../casadi/core/oracle_function.cpp:326]\n",
      "CasADi - 2024-06-28 10:16:34 WARNING(\"roots:g failed: Inf detected for output x, at (row 0, col 0).\") [.../casadi/core/oracle_function.cpp:326]\n",
      "CasADi - 2024-06-28 10:16:34 WARNING(\"roots:g failed: Inf detected for output x, at (row 0, col 0).\") [.../casadi/core/oracle_function.cpp:326]\n"
     ]
    },
    {
     "name": "stdout",
     "output_type": "stream",
     "text": [
      "Solver failed for parameters: [7.40468750e-05 5.09140625e-05 1.57421875e-05 7.67578125e-01\n",
      " 5.67968750e-01 5.64843750e-06 5.67968750e-06 1.13789062e+03\n",
      " 1.05468750e+02 8.24218750e+00 1.33593750e+00 1.37343750e+00\n",
      " 1.64843750e+00 2.88867188e+04 5.70898438e+04] with error: Events ['Maximum voltage [V]'] are non-positive at initial conditions\n"
     ]
    },
    {
     "name": "stderr",
     "output_type": "stream",
     "text": [
      "CasADi - 2024-06-28 10:16:34 WARNING(\"roots:g failed: Inf detected for output x, at (row 0, col 0).\") [.../casadi/core/oracle_function.cpp:326]\n",
      "CasADi - 2024-06-28 10:16:34 WARNING(\"roots:g failed: Inf detected for output x, at (row 0, col 0).\") [.../casadi/core/oracle_function.cpp:326]\n",
      "CasADi - 2024-06-28 10:16:34 WARNING(\"roots:g failed: Inf detected for output x, at (row 0, col 0).\") [.../casadi/core/oracle_function.cpp:326]\n",
      "CasADi - 2024-06-28 10:16:34 WARNING(\"roots:g failed: Inf detected for output x, at (row 0, col 0).\") [.../casadi/core/oracle_function.cpp:326]\n",
      "CasADi - 2024-06-28 10:16:34 WARNING(\"roots:g failed: Inf detected for output x, at (row 0, col 0).\") [.../casadi/core/oracle_function.cpp:326]\n"
     ]
    },
    {
     "name": "stdout",
     "output_type": "stream",
     "text": [
      "Solver failed for parameters: [7.62968750e-05 7.56953125e-05 1.57421875e-05 7.67578125e-01\n",
      " 5.67968750e-01 5.64843750e-06 5.67968750e-06 1.13789062e+03\n",
      " 1.05468750e+02 8.24218750e+00 1.33593750e+00 1.37343750e+00\n",
      " 1.64843750e+00 2.88867188e+04 5.70898438e+04] with error: Events ['Maximum voltage [V]'] are non-positive at initial conditions\n"
     ]
    },
    {
     "name": "stderr",
     "output_type": "stream",
     "text": [
      "CasADi - 2024-06-28 10:16:35 WARNING(\"roots:g failed: Inf detected for output x, at (row 0, col 0).\") [.../casadi/core/oracle_function.cpp:326]\n",
      "CasADi - 2024-06-28 10:16:35 WARNING(\"roots:g failed: Inf detected for output x, at (row 0, col 0).\") [.../casadi/core/oracle_function.cpp:326]\n",
      "CasADi - 2024-06-28 10:16:35 WARNING(\"roots:g failed: Inf detected for output x, at (row 0, col 0).\") [.../casadi/core/oracle_function.cpp:326]\n",
      "CasADi - 2024-06-28 10:16:35 WARNING(\"roots:g failed: Inf detected for output x, at (row 0, col 0).\") [.../casadi/core/oracle_function.cpp:326]\n",
      "CasADi - 2024-06-28 10:16:35 WARNING(\"roots:g failed: Inf detected for output x, at (row 0, col 0).\") [.../casadi/core/oracle_function.cpp:326]\n"
     ]
    },
    {
     "name": "stdout",
     "output_type": "stream",
     "text": [
      "Solver failed for parameters: [7.62968750e-05 5.09140625e-05 1.26171875e-05 7.67578125e-01\n",
      " 5.67968750e-01 5.64843750e-06 5.67968750e-06 1.13789062e+03\n",
      " 1.05468750e+02 8.24218750e+00 1.33593750e+00 1.37343750e+00\n",
      " 1.64843750e+00 2.88867188e+04 5.70898438e+04] with error: Events ['Maximum voltage [V]'] are non-positive at initial conditions\n"
     ]
    },
    {
     "name": "stderr",
     "output_type": "stream",
     "text": [
      "CasADi - 2024-06-28 10:16:35 WARNING(\"roots:g failed: Inf detected for output x, at (row 0, col 0).\") [.../casadi/core/oracle_function.cpp:326]\n",
      "CasADi - 2024-06-28 10:16:35 WARNING(\"roots:g failed: Inf detected for output x, at (row 0, col 0).\") [.../casadi/core/oracle_function.cpp:326]\n",
      "CasADi - 2024-06-28 10:16:35 WARNING(\"roots:g failed: Inf detected for output x, at (row 0, col 0).\") [.../casadi/core/oracle_function.cpp:326]\n",
      "CasADi - 2024-06-28 10:16:35 WARNING(\"roots:g failed: Inf detected for output x, at (row 0, col 0).\") [.../casadi/core/oracle_function.cpp:326]\n",
      "CasADi - 2024-06-28 10:16:35 WARNING(\"roots:g failed: Inf detected for output x, at (row 0, col 0).\") [.../casadi/core/oracle_function.cpp:326]\n"
     ]
    },
    {
     "name": "stdout",
     "output_type": "stream",
     "text": [
      "Solver failed for parameters: [7.62968750e-05 5.09140625e-05 1.57421875e-05 7.41015625e-01\n",
      " 5.67968750e-01 5.64843750e-06 5.67968750e-06 1.13789062e+03\n",
      " 1.05468750e+02 8.24218750e+00 1.33593750e+00 1.37343750e+00\n",
      " 1.64843750e+00 2.88867188e+04 5.70898438e+04] with error: Events ['Maximum voltage [V]'] are non-positive at initial conditions\n"
     ]
    },
    {
     "name": "stderr",
     "output_type": "stream",
     "text": [
      "CasADi - 2024-06-28 10:16:35 WARNING(\"roots:g failed: Inf detected for output x, at (row 0, col 0).\") [.../casadi/core/oracle_function.cpp:326]\n",
      "CasADi - 2024-06-28 10:16:35 WARNING(\"roots:g failed: Inf detected for output x, at (row 0, col 0).\") [.../casadi/core/oracle_function.cpp:326]\n",
      "CasADi - 2024-06-28 10:16:35 WARNING(\"roots:g failed: Inf detected for output x, at (row 0, col 0).\") [.../casadi/core/oracle_function.cpp:326]\n",
      "CasADi - 2024-06-28 10:16:35 WARNING(\"roots:g failed: Inf detected for output x, at (row 0, col 0).\") [.../casadi/core/oracle_function.cpp:326]\n",
      "CasADi - 2024-06-28 10:16:35 WARNING(\"roots:g failed: Inf detected for output x, at (row 0, col 0).\") [.../casadi/core/oracle_function.cpp:326]\n"
     ]
    },
    {
     "name": "stdout",
     "output_type": "stream",
     "text": [
      "Solver failed for parameters: [7.62968750e-05 5.09140625e-05 1.57421875e-05 7.67578125e-01\n",
      " 6.49218750e-01 5.64843750e-06 5.67968750e-06 1.13789062e+03\n",
      " 1.05468750e+02 8.24218750e+00 1.33593750e+00 1.37343750e+00\n",
      " 1.64843750e+00 2.88867188e+04 5.70898438e+04] with error: Events ['Maximum voltage [V]'] are non-positive at initial conditions\n"
     ]
    },
    {
     "name": "stderr",
     "output_type": "stream",
     "text": [
      "CasADi - 2024-06-28 10:16:36 WARNING(\"roots:g failed: Inf detected for output x, at (row 0, col 0).\") [.../casadi/core/oracle_function.cpp:326]\n",
      "CasADi - 2024-06-28 10:16:36 WARNING(\"roots:g failed: Inf detected for output x, at (row 0, col 0).\") [.../casadi/core/oracle_function.cpp:326]\n",
      "CasADi - 2024-06-28 10:16:36 WARNING(\"roots:g failed: Inf detected for output x, at (row 0, col 0).\") [.../casadi/core/oracle_function.cpp:326]\n",
      "CasADi - 2024-06-28 10:16:36 WARNING(\"roots:g failed: Inf detected for output x, at (row 0, col 0).\") [.../casadi/core/oracle_function.cpp:326]\n"
     ]
    },
    {
     "name": "stdout",
     "output_type": "stream",
     "text": [
      "Solver failed for parameters: [7.62968750e-05 5.09140625e-05 1.57421875e-05 7.67578125e-01\n",
      " 5.67968750e-01 5.03906250e-06 5.67968750e-06 1.13789062e+03\n",
      " 1.05468750e+02 8.24218750e+00 1.33593750e+00 1.37343750e+00\n",
      " 1.64843750e+00 2.88867188e+04 5.70898438e+04] with error: Events ['Maximum voltage [V]'] are non-positive at initial conditions\n"
     ]
    },
    {
     "name": "stderr",
     "output_type": "stream",
     "text": [
      "CasADi - 2024-06-28 10:16:36 WARNING(\"roots:g failed: Inf detected for output x, at (row 0, col 0).\") [.../casadi/core/oracle_function.cpp:326]\n",
      "CasADi - 2024-06-28 10:16:36 WARNING(\"roots:g failed: Inf detected for output x, at (row 0, col 0).\") [.../casadi/core/oracle_function.cpp:326]\n",
      "CasADi - 2024-06-28 10:16:36 WARNING(\"roots:g failed: Inf detected for output x, at (row 0, col 0).\") [.../casadi/core/oracle_function.cpp:326]\n",
      "CasADi - 2024-06-28 10:16:36 WARNING(\"roots:g failed: Inf detected for output x, at (row 0, col 0).\") [.../casadi/core/oracle_function.cpp:326]\n",
      "CasADi - 2024-06-28 10:16:36 WARNING(\"roots:g failed: Inf detected for output x, at (row 0, col 0).\") [.../casadi/core/oracle_function.cpp:326]\n"
     ]
    },
    {
     "name": "stdout",
     "output_type": "stream",
     "text": [
      "Solver failed for parameters: [7.62968750e-05 5.09140625e-05 1.57421875e-05 7.67578125e-01\n",
      " 5.67968750e-01 5.64843750e-06 5.28906250e-06 1.13789062e+03\n",
      " 1.05468750e+02 8.24218750e+00 1.33593750e+00 1.37343750e+00\n",
      " 1.64843750e+00 2.88867188e+04 5.70898438e+04] with error: Events ['Maximum voltage [V]'] are non-positive at initial conditions\n"
     ]
    },
    {
     "name": "stderr",
     "output_type": "stream",
     "text": [
      "CasADi - 2024-06-28 10:16:37 WARNING(\"roots:g failed: Inf detected for output x, at (row 0, col 0).\") [.../casadi/core/oracle_function.cpp:326]\n",
      "CasADi - 2024-06-28 10:16:37 WARNING(\"roots:g failed: Inf detected for output x, at (row 0, col 0).\") [.../casadi/core/oracle_function.cpp:326]\n",
      "CasADi - 2024-06-28 10:16:37 WARNING(\"roots:g failed: Inf detected for output x, at (row 0, col 0).\") [.../casadi/core/oracle_function.cpp:326]\n",
      "CasADi - 2024-06-28 10:16:37 WARNING(\"roots:g failed: Inf detected for output x, at (row 0, col 0).\") [.../casadi/core/oracle_function.cpp:326]\n",
      "CasADi - 2024-06-28 10:16:37 WARNING(\"roots:g failed: Inf detected for output x, at (row 0, col 0).\") [.../casadi/core/oracle_function.cpp:326]\n"
     ]
    },
    {
     "name": "stdout",
     "output_type": "stream",
     "text": [
      "Solver failed for parameters: [7.62968750e-05 5.09140625e-05 1.57421875e-05 7.67578125e-01\n",
      " 5.67968750e-01 5.64843750e-06 5.67968750e-06 1.07695312e+03\n",
      " 1.05468750e+02 8.24218750e+00 1.33593750e+00 1.37343750e+00\n",
      " 1.64843750e+00 2.88867188e+04 5.70898438e+04] with error: Events ['Maximum voltage [V]'] are non-positive at initial conditions\n"
     ]
    },
    {
     "name": "stderr",
     "output_type": "stream",
     "text": [
      "CasADi - 2024-06-28 10:16:38 WARNING(\"roots:g failed: Inf detected for output x, at (row 0, col 0).\") [.../casadi/core/oracle_function.cpp:326]\n",
      "CasADi - 2024-06-28 10:16:38 WARNING(\"roots:g failed: Inf detected for output x, at (row 0, col 0).\") [.../casadi/core/oracle_function.cpp:326]\n",
      "CasADi - 2024-06-28 10:16:38 WARNING(\"roots:g failed: Inf detected for output x, at (row 0, col 0).\") [.../casadi/core/oracle_function.cpp:326]\n",
      "CasADi - 2024-06-28 10:16:38 WARNING(\"roots:g failed: Inf detected for output x, at (row 0, col 0).\") [.../casadi/core/oracle_function.cpp:326]\n",
      "CasADi - 2024-06-28 10:16:38 WARNING(\"roots:g failed: Inf detected for output x, at (row 0, col 0).\") [.../casadi/core/oracle_function.cpp:326]\n"
     ]
    },
    {
     "name": "stdout",
     "output_type": "stream",
     "text": [
      "Solver failed for parameters: [7.62968750e-05 5.09140625e-05 1.57421875e-05 7.67578125e-01\n",
      " 5.67968750e-01 5.64843750e-06 5.67968750e-06 1.13789062e+03\n",
      " 1.14843750e+02 8.24218750e+00 1.33593750e+00 1.37343750e+00\n",
      " 1.64843750e+00 2.88867188e+04 5.70898438e+04] with error: Events ['Maximum voltage [V]'] are non-positive at initial conditions\n"
     ]
    },
    {
     "name": "stderr",
     "output_type": "stream",
     "text": [
      "CasADi - 2024-06-28 10:16:38 WARNING(\"roots:g failed: Inf detected for output x, at (row 0, col 0).\") [.../casadi/core/oracle_function.cpp:326]\n",
      "CasADi - 2024-06-28 10:16:38 WARNING(\"roots:g failed: Inf detected for output x, at (row 0, col 0).\") [.../casadi/core/oracle_function.cpp:326]\n",
      "CasADi - 2024-06-28 10:16:38 WARNING(\"roots:g failed: Inf detected for output x, at (row 0, col 0).\") [.../casadi/core/oracle_function.cpp:326]\n",
      "CasADi - 2024-06-28 10:16:38 WARNING(\"roots:g failed: Inf detected for output x, at (row 0, col 0).\") [.../casadi/core/oracle_function.cpp:326]\n",
      "CasADi - 2024-06-28 10:16:38 WARNING(\"roots:g failed: Inf detected for output x, at (row 0, col 0).\") [.../casadi/core/oracle_function.cpp:326]\n"
     ]
    },
    {
     "name": "stdout",
     "output_type": "stream",
     "text": [
      "Solver failed for parameters: [7.62968750e-05 5.09140625e-05 1.57421875e-05 7.67578125e-01\n",
      " 5.67968750e-01 5.64843750e-06 5.67968750e-06 1.13789062e+03\n",
      " 1.05468750e+02 1.60156250e+00 1.33593750e+00 1.37343750e+00\n",
      " 1.64843750e+00 2.88867188e+04 5.70898438e+04] with error: Events ['Maximum voltage [V]'] are non-positive at initial conditions\n"
     ]
    },
    {
     "name": "stderr",
     "output_type": "stream",
     "text": [
      "CasADi - 2024-06-28 10:16:38 WARNING(\"roots:g failed: Inf detected for output x, at (row 0, col 0).\") [.../casadi/core/oracle_function.cpp:326]\n",
      "CasADi - 2024-06-28 10:16:38 WARNING(\"roots:g failed: Inf detected for output x, at (row 0, col 0).\") [.../casadi/core/oracle_function.cpp:326]\n",
      "CasADi - 2024-06-28 10:16:38 WARNING(\"roots:g failed: Inf detected for output x, at (row 0, col 0).\") [.../casadi/core/oracle_function.cpp:326]\n",
      "CasADi - 2024-06-28 10:16:38 WARNING(\"roots:g failed: Inf detected for output x, at (row 0, col 0).\") [.../casadi/core/oracle_function.cpp:326]\n",
      "CasADi - 2024-06-28 10:16:38 WARNING(\"roots:g failed: Inf detected for output x, at (row 0, col 0).\") [.../casadi/core/oracle_function.cpp:326]\n"
     ]
    },
    {
     "name": "stdout",
     "output_type": "stream",
     "text": [
      "Solver failed for parameters: [7.62968750e-05 5.09140625e-05 1.57421875e-05 7.67578125e-01\n",
      " 5.67968750e-01 5.64843750e-06 5.67968750e-06 1.13789062e+03\n",
      " 1.05468750e+02 8.24218750e+00 1.53281250e+00 1.37343750e+00\n",
      " 1.64843750e+00 2.88867188e+04 5.70898438e+04] with error: Events ['Maximum voltage [V]'] are non-positive at initial conditions\n"
     ]
    },
    {
     "name": "stderr",
     "output_type": "stream",
     "text": [
      "CasADi - 2024-06-28 10:16:39 WARNING(\"roots:g failed: Inf detected for output x, at (row 0, col 0).\") [.../casadi/core/oracle_function.cpp:326]\n",
      "CasADi - 2024-06-28 10:16:39 WARNING(\"roots:g failed: Inf detected for output x, at (row 0, col 0).\") [.../casadi/core/oracle_function.cpp:326]\n",
      "CasADi - 2024-06-28 10:16:39 WARNING(\"roots:g failed: Inf detected for output x, at (row 0, col 0).\") [.../casadi/core/oracle_function.cpp:326]\n",
      "CasADi - 2024-06-28 10:16:39 WARNING(\"roots:g failed: Inf detected for output x, at (row 0, col 0).\") [.../casadi/core/oracle_function.cpp:326]\n",
      "CasADi - 2024-06-28 10:16:39 WARNING(\"roots:g failed: Inf detected for output x, at (row 0, col 0).\") [.../casadi/core/oracle_function.cpp:326]\n"
     ]
    },
    {
     "name": "stdout",
     "output_type": "stream",
     "text": [
      "Solver failed for parameters: [7.62968750e-05 5.09140625e-05 1.57421875e-05 7.67578125e-01\n",
      " 5.67968750e-01 5.64843750e-06 5.67968750e-06 1.13789062e+03\n",
      " 1.05468750e+02 8.24218750e+00 1.33593750e+00 1.40781250e+00\n",
      " 1.64843750e+00 2.88867188e+04 5.70898438e+04] with error: Events ['Maximum voltage [V]'] are non-positive at initial conditions\n"
     ]
    },
    {
     "name": "stderr",
     "output_type": "stream",
     "text": [
      "CasADi - 2024-06-28 10:16:39 WARNING(\"roots:g failed: Inf detected for output x, at (row 0, col 0).\") [.../casadi/core/oracle_function.cpp:326]\n",
      "CasADi - 2024-06-28 10:16:39 WARNING(\"roots:g failed: Inf detected for output x, at (row 0, col 0).\") [.../casadi/core/oracle_function.cpp:326]\n",
      "CasADi - 2024-06-28 10:16:39 WARNING(\"roots:g failed: Inf detected for output x, at (row 0, col 0).\") [.../casadi/core/oracle_function.cpp:326]\n",
      "CasADi - 2024-06-28 10:16:39 WARNING(\"roots:g failed: Inf detected for output x, at (row 0, col 0).\") [.../casadi/core/oracle_function.cpp:326]\n",
      "CasADi - 2024-06-28 10:16:39 WARNING(\"roots:g failed: Inf detected for output x, at (row 0, col 0).\") [.../casadi/core/oracle_function.cpp:326]\n"
     ]
    },
    {
     "name": "stdout",
     "output_type": "stream",
     "text": [
      "Solver failed for parameters: [7.62968750e-05 5.09140625e-05 1.57421875e-05 7.67578125e-01\n",
      " 5.67968750e-01 5.64843750e-06 5.67968750e-06 1.13789062e+03\n",
      " 1.05468750e+02 8.24218750e+00 1.33593750e+00 1.37343750e+00\n",
      " 1.31406250e+00 2.88867188e+04 5.70898438e+04] with error: Events ['Maximum voltage [V]'] are non-positive at initial conditions\n"
     ]
    },
    {
     "name": "stderr",
     "output_type": "stream",
     "text": [
      "CasADi - 2024-06-28 10:16:40 WARNING(\"roots:g failed: Inf detected for output x, at (row 0, col 0).\") [.../casadi/core/oracle_function.cpp:326]\n",
      "CasADi - 2024-06-28 10:16:40 WARNING(\"roots:g failed: Inf detected for output x, at (row 0, col 0).\") [.../casadi/core/oracle_function.cpp:326]\n",
      "CasADi - 2024-06-28 10:16:40 WARNING(\"roots:g failed: Inf detected for output x, at (row 0, col 0).\") [.../casadi/core/oracle_function.cpp:326]\n",
      "CasADi - 2024-06-28 10:16:40 WARNING(\"roots:g failed: Inf detected for output x, at (row 0, col 0).\") [.../casadi/core/oracle_function.cpp:326]\n",
      "CasADi - 2024-06-28 10:16:40 WARNING(\"roots:g failed: Inf detected for output x, at (row 0, col 0).\") [.../casadi/core/oracle_function.cpp:326]\n"
     ]
    },
    {
     "name": "stdout",
     "output_type": "stream",
     "text": [
      "Solver failed for parameters: [7.62968750e-05 5.09140625e-05 1.57421875e-05 7.67578125e-01\n",
      " 5.67968750e-01 5.64843750e-06 5.67968750e-06 1.13789062e+03\n",
      " 1.05468750e+02 8.24218750e+00 1.33593750e+00 1.37343750e+00\n",
      " 1.64843750e+00 2.54492188e+04 5.70898438e+04] with error: Events ['Maximum voltage [V]'] are non-positive at initial conditions\n"
     ]
    },
    {
     "name": "stderr",
     "output_type": "stream",
     "text": [
      "CasADi - 2024-06-28 10:16:40 WARNING(\"roots:g failed: Inf detected for output x, at (row 0, col 0).\") [.../casadi/core/oracle_function.cpp:326]\n",
      "CasADi - 2024-06-28 10:16:40 WARNING(\"roots:g failed: Inf detected for output x, at (row 0, col 0).\") [.../casadi/core/oracle_function.cpp:326]\n",
      "CasADi - 2024-06-28 10:16:40 WARNING(\"roots:g failed: Inf detected for output x, at (row 0, col 0).\") [.../casadi/core/oracle_function.cpp:326]\n",
      "CasADi - 2024-06-28 10:16:40 WARNING(\"roots:g failed: Inf detected for output x, at (row 0, col 0).\") [.../casadi/core/oracle_function.cpp:326]\n",
      "CasADi - 2024-06-28 10:16:40 WARNING(\"roots:g failed: Inf detected for output x, at (row 0, col 0).\") [.../casadi/core/oracle_function.cpp:326]\n"
     ]
    },
    {
     "name": "stdout",
     "output_type": "stream",
     "text": [
      "Solver failed for parameters: [7.62968750e-05 5.09140625e-05 1.57421875e-05 7.67578125e-01\n",
      " 5.67968750e-01 5.64843750e-06 5.67968750e-06 1.13789062e+03\n",
      " 1.05468750e+02 8.24218750e+00 1.33593750e+00 1.37343750e+00\n",
      " 1.64843750e+00 2.88867188e+04 5.08789062e+04] with error: Events ['Maximum voltage [V]'] are non-positive at initial conditions\n"
     ]
    },
    {
     "name": "stderr",
     "output_type": "stream",
     "text": [
      "CasADi - 2024-06-28 10:16:41 WARNING(\"roots:g failed: Inf detected for output x, at (row 0, col 0).\") [.../casadi/core/oracle_function.cpp:326]\n",
      "CasADi - 2024-06-28 10:16:41 WARNING(\"roots:g failed: Inf detected for output x, at (row 0, col 0).\") [.../casadi/core/oracle_function.cpp:326]\n",
      "CasADi - 2024-06-28 10:16:41 WARNING(\"roots:g failed: Inf detected for output x, at (row 0, col 0).\") [.../casadi/core/oracle_function.cpp:326]\n",
      "CasADi - 2024-06-28 10:16:41 WARNING(\"roots:g failed: Inf detected for output x, at (row 0, col 0).\") [.../casadi/core/oracle_function.cpp:326]\n",
      "CasADi - 2024-06-28 10:16:41 WARNING(\"roots:g failed: Inf detected for output x, at (row 0, col 0).\") [.../casadi/core/oracle_function.cpp:326]\n"
     ]
    },
    {
     "name": "stdout",
     "output_type": "stream",
     "text": [
      "Solver failed for parameters: [7.62968750e-05 5.09140625e-05 1.57421875e-05 7.67578125e-01\n",
      " 5.67968750e-01 5.64843750e-06 5.67968750e-06 1.13789062e+03\n",
      " 1.05468750e+02 8.24218750e+00 1.33593750e+00 1.37343750e+00\n",
      " 1.64843750e+00 2.88867188e+04 5.70898438e+04] with error: Events ['Maximum voltage [V]'] are non-positive at initial conditions\n"
     ]
    },
    {
     "ename": "KeyboardInterrupt",
     "evalue": "",
     "output_type": "error",
     "traceback": [
      "\u001B[0;31m---------------------------------------------------------------------------\u001B[0m",
      "\u001B[0;31mKeyError\u001B[0m                                  Traceback (most recent call last)",
      "File \u001B[0;32m/opt/anaconda3/envs/PyBamm/lib/python3.11/site-packages/pybamm/discretisations/discretisation.py:718\u001B[0m, in \u001B[0;36mDiscretisation.process_symbol\u001B[0;34m(self, symbol)\u001B[0m\n\u001B[1;32m    717\u001B[0m \u001B[38;5;28;01mtry\u001B[39;00m:\n\u001B[0;32m--> 718\u001B[0m     \u001B[38;5;28;01mreturn\u001B[39;00m \u001B[38;5;28mself\u001B[39m\u001B[38;5;241m.\u001B[39m_discretised_symbols[symbol]\n\u001B[1;32m    719\u001B[0m \u001B[38;5;28;01mexcept\u001B[39;00m \u001B[38;5;167;01mKeyError\u001B[39;00m:\n",
      "\u001B[0;31mKeyError\u001B[0m: Subtraction(0x65563e59d1c61d2, -, children=['x-average(* integrated w.r.t x_p((0.0380558481947565 / (maximum(2.9850746268656714 * Positive electrode porosity times concentration [mol.m-3], 0.01))) * grad(2.9850746268656714 * Positive electrode porosity times concentration [mol.m-3]))) + boundary value(* integrated w.r.t x_s((0.0380558481947565 / (maximum(2.127659574468085 * Separator porosity times concentration [mol.m-3], 0.01))) * grad(2.127659574468085 * Separator porosity times concentration [mol.m-3])) + broadcast(boundary value(* integrated w.r.t x_n((0.0380558481947565 / (maximum(4.0 * Negative electrode porosity times concentration [mol.m-3], 0.01))) * grad(4.0 * Negative electrode porosity times concentration [mol.m-3])))))', 'x-average(* integrated w.r.t x_n((0.0380558481947565 / (maximum(4.0 * Negative electrode porosity times concentration [mol.m-3], 0.01))) * grad(4.0 * Negative electrode porosity times concentration [mol.m-3])))'], domains={'primary': ['current collector']})",
      "\nDuring handling of the above exception, another exception occurred:\n",
      "\u001B[0;31mKeyError\u001B[0m                                  Traceback (most recent call last)",
      "File \u001B[0;32m/opt/anaconda3/envs/PyBamm/lib/python3.11/site-packages/pybamm/discretisations/discretisation.py:718\u001B[0m, in \u001B[0;36mDiscretisation.process_symbol\u001B[0;34m(self, symbol)\u001B[0m\n\u001B[1;32m    717\u001B[0m \u001B[38;5;28;01mtry\u001B[39;00m:\n\u001B[0;32m--> 718\u001B[0m     \u001B[38;5;28;01mreturn\u001B[39;00m \u001B[38;5;28mself\u001B[39m\u001B[38;5;241m.\u001B[39m_discretised_symbols[symbol]\n\u001B[1;32m    719\u001B[0m \u001B[38;5;28;01mexcept\u001B[39;00m \u001B[38;5;167;01mKeyError\u001B[39;00m:\n",
      "\u001B[0;31mKeyError\u001B[0m: Addition(-0xd620b55a747309d, +, children=['x-average(* integrated w.r.t x_p((0.0380558481947565 / (maximum(2.9850746268656714 * Positive electrode porosity times concentration [mol.m-3], 0.01))) * grad(2.9850746268656714 * Positive electrode porosity times concentration [mol.m-3])))', 'boundary value(* integrated w.r.t x_s((0.0380558481947565 / (maximum(2.127659574468085 * Separator porosity times concentration [mol.m-3], 0.01))) * grad(2.127659574468085 * Separator porosity times concentration [mol.m-3])) + broadcast(boundary value(* integrated w.r.t x_n((0.0380558481947565 / (maximum(4.0 * Negative electrode porosity times concentration [mol.m-3], 0.01))) * grad(4.0 * Negative electrode porosity times concentration [mol.m-3])))))'], domains={'primary': ['current collector']})",
      "\nDuring handling of the above exception, another exception occurred:\n",
      "\u001B[0;31mKeyError\u001B[0m                                  Traceback (most recent call last)",
      "File \u001B[0;32m/opt/anaconda3/envs/PyBamm/lib/python3.11/site-packages/pybamm/discretisations/discretisation.py:718\u001B[0m, in \u001B[0;36mDiscretisation.process_symbol\u001B[0;34m(self, symbol)\u001B[0m\n\u001B[1;32m    717\u001B[0m \u001B[38;5;28;01mtry\u001B[39;00m:\n\u001B[0;32m--> 718\u001B[0m     \u001B[38;5;28;01mreturn\u001B[39;00m \u001B[38;5;28mself\u001B[39m\u001B[38;5;241m.\u001B[39m_discretised_symbols[symbol]\n\u001B[1;32m    719\u001B[0m \u001B[38;5;28;01mexcept\u001B[39;00m \u001B[38;5;167;01mKeyError\u001B[39;00m:\n",
      "\u001B[0;31mKeyError\u001B[0m: BoundaryValue(-0x390bc58b9071a154, boundary value, children=['* integrated w.r.t x_s((0.0380558481947565 / (maximum(2.127659574468085 * Separator porosity times concentration [mol.m-3], 0.01))) * grad(2.127659574468085 * Separator porosity times concentration [mol.m-3])) + broadcast(boundary value(* integrated w.r.t x_n((0.0380558481947565 / (maximum(4.0 * Negative electrode porosity times concentration [mol.m-3], 0.01))) * grad(4.0 * Negative electrode porosity times concentration [mol.m-3]))))'], domains={'primary': ['current collector']})",
      "\nDuring handling of the above exception, another exception occurred:\n",
      "\u001B[0;31mKeyError\u001B[0m                                  Traceback (most recent call last)",
      "File \u001B[0;32m/opt/anaconda3/envs/PyBamm/lib/python3.11/site-packages/pybamm/discretisations/discretisation.py:718\u001B[0m, in \u001B[0;36mDiscretisation.process_symbol\u001B[0;34m(self, symbol)\u001B[0m\n\u001B[1;32m    717\u001B[0m \u001B[38;5;28;01mtry\u001B[39;00m:\n\u001B[0;32m--> 718\u001B[0m     \u001B[38;5;28;01mreturn\u001B[39;00m \u001B[38;5;28mself\u001B[39m\u001B[38;5;241m.\u001B[39m_discretised_symbols[symbol]\n\u001B[1;32m    719\u001B[0m \u001B[38;5;28;01mexcept\u001B[39;00m \u001B[38;5;167;01mKeyError\u001B[39;00m:\n",
      "\u001B[0;31mKeyError\u001B[0m: Addition(-0x3fd8aa22d1b97135, +, children=['* integrated w.r.t x_s((0.0380558481947565 / (maximum(2.127659574468085 * Separator porosity times concentration [mol.m-3], 0.01))) * grad(2.127659574468085 * Separator porosity times concentration [mol.m-3]))', 'broadcast(boundary value(* integrated w.r.t x_n((0.0380558481947565 / (maximum(4.0 * Negative electrode porosity times concentration [mol.m-3], 0.01))) * grad(4.0 * Negative electrode porosity times concentration [mol.m-3]))))'], domains={'primary': ['separator'], 'secondary': ['current collector']})",
      "\nDuring handling of the above exception, another exception occurred:\n",
      "\u001B[0;31mKeyboardInterrupt\u001B[0m                         Traceback (most recent call last)",
      "Cell \u001B[0;32mIn[128], line 6\u001B[0m\n\u001B[1;32m      4\u001B[0m \u001B[38;5;28;01mfor\u001B[39;00m i, params \u001B[38;5;129;01min\u001B[39;00m \u001B[38;5;28menumerate\u001B[39m(param_values):\n\u001B[1;32m      5\u001B[0m     \u001B[38;5;28;01mtry\u001B[39;00m:\n\u001B[0;32m----> 6\u001B[0m         result \u001B[38;5;241m=\u001B[39m battery_model(params)\n\u001B[1;32m      7\u001B[0m         Y\u001B[38;5;241m.\u001B[39mappend(result)\n\u001B[1;32m      8\u001B[0m     \u001B[38;5;28;01mexcept\u001B[39;00m \u001B[38;5;167;01mException\u001B[39;00m \u001B[38;5;28;01mas\u001B[39;00m e:\n",
      "Cell \u001B[0;32mIn[124], line 42\u001B[0m, in \u001B[0;36mbattery_model\u001B[0;34m(parameters)\u001B[0m\n\u001B[1;32m     40\u001B[0m \u001B[38;5;66;03m# running simulation\u001B[39;00m\n\u001B[1;32m     41\u001B[0m \u001B[38;5;28;01mtry\u001B[39;00m:\n\u001B[0;32m---> 42\u001B[0m     sim\u001B[38;5;241m.\u001B[39msolve([\u001B[38;5;241m0\u001B[39m, \u001B[38;5;241m450\u001B[39m])  \u001B[38;5;66;03m# Reduced simulation time range of 450 seconds\u001B[39;00m\n\u001B[1;32m     43\u001B[0m \u001B[38;5;28;01mexcept\u001B[39;00m pybamm\u001B[38;5;241m.\u001B[39mSolverError \u001B[38;5;28;01mas\u001B[39;00m e:\n\u001B[1;32m     44\u001B[0m     \u001B[38;5;28mprint\u001B[39m(\u001B[38;5;124mf\u001B[39m\u001B[38;5;124m\"\u001B[39m\u001B[38;5;124mSolver failed for parameters: \u001B[39m\u001B[38;5;132;01m{\u001B[39;00mparameters\u001B[38;5;132;01m}\u001B[39;00m\u001B[38;5;124m with error: \u001B[39m\u001B[38;5;132;01m{\u001B[39;00me\u001B[38;5;132;01m}\u001B[39;00m\u001B[38;5;124m\"\u001B[39m)\n",
      "File \u001B[0;32m/opt/anaconda3/envs/PyBamm/lib/python3.11/site-packages/pybamm/simulation.py:515\u001B[0m, in \u001B[0;36mSimulation.solve\u001B[0;34m(self, t_eval, solver, check_model, save_at_cycles, calc_esoh, starting_solution, initial_soc, callbacks, showprogress, **kwargs)\u001B[0m\n\u001B[1;32m    512\u001B[0m logs \u001B[38;5;241m=\u001B[39m {}\n\u001B[1;32m    514\u001B[0m \u001B[38;5;28;01mif\u001B[39;00m \u001B[38;5;28mself\u001B[39m\u001B[38;5;241m.\u001B[39moperating_mode \u001B[38;5;129;01min\u001B[39;00m [\u001B[38;5;124m\"\u001B[39m\u001B[38;5;124mwithout experiment\u001B[39m\u001B[38;5;124m\"\u001B[39m, \u001B[38;5;124m\"\u001B[39m\u001B[38;5;124mdrive cycle\u001B[39m\u001B[38;5;124m\"\u001B[39m]:\n\u001B[0;32m--> 515\u001B[0m     \u001B[38;5;28mself\u001B[39m\u001B[38;5;241m.\u001B[39mbuild(check_model\u001B[38;5;241m=\u001B[39mcheck_model, initial_soc\u001B[38;5;241m=\u001B[39minitial_soc)\n\u001B[1;32m    516\u001B[0m     \u001B[38;5;28;01mif\u001B[39;00m save_at_cycles \u001B[38;5;129;01mis\u001B[39;00m \u001B[38;5;129;01mnot\u001B[39;00m \u001B[38;5;28;01mNone\u001B[39;00m:\n\u001B[1;32m    517\u001B[0m         \u001B[38;5;28;01mraise\u001B[39;00m \u001B[38;5;167;01mValueError\u001B[39;00m(\n\u001B[1;32m    518\u001B[0m             \u001B[38;5;124m\"\u001B[39m\u001B[38;5;124m'\u001B[39m\u001B[38;5;124msave_at_cycles\u001B[39m\u001B[38;5;124m'\u001B[39m\u001B[38;5;124m option can only be used if simulating an \u001B[39m\u001B[38;5;124m\"\u001B[39m\n\u001B[1;32m    519\u001B[0m             \u001B[38;5;124m\"\u001B[39m\u001B[38;5;124mExperiment \u001B[39m\u001B[38;5;124m\"\u001B[39m\n\u001B[1;32m    520\u001B[0m         )\n",
      "File \u001B[0;32m/opt/anaconda3/envs/PyBamm/lib/python3.11/site-packages/pybamm/simulation.py:400\u001B[0m, in \u001B[0;36mSimulation.build\u001B[0;34m(self, check_model, initial_soc)\u001B[0m\n\u001B[1;32m    398\u001B[0m \u001B[38;5;28mself\u001B[39m\u001B[38;5;241m.\u001B[39m_mesh \u001B[38;5;241m=\u001B[39m pybamm\u001B[38;5;241m.\u001B[39mMesh(\u001B[38;5;28mself\u001B[39m\u001B[38;5;241m.\u001B[39m_geometry, \u001B[38;5;28mself\u001B[39m\u001B[38;5;241m.\u001B[39m_submesh_types, \u001B[38;5;28mself\u001B[39m\u001B[38;5;241m.\u001B[39m_var_pts)\n\u001B[1;32m    399\u001B[0m \u001B[38;5;28mself\u001B[39m\u001B[38;5;241m.\u001B[39m_disc \u001B[38;5;241m=\u001B[39m pybamm\u001B[38;5;241m.\u001B[39mDiscretisation(\u001B[38;5;28mself\u001B[39m\u001B[38;5;241m.\u001B[39m_mesh, \u001B[38;5;28mself\u001B[39m\u001B[38;5;241m.\u001B[39m_spatial_methods)\n\u001B[0;32m--> 400\u001B[0m \u001B[38;5;28mself\u001B[39m\u001B[38;5;241m.\u001B[39m_built_model \u001B[38;5;241m=\u001B[39m \u001B[38;5;28mself\u001B[39m\u001B[38;5;241m.\u001B[39m_disc\u001B[38;5;241m.\u001B[39mprocess_model(\n\u001B[1;32m    401\u001B[0m     \u001B[38;5;28mself\u001B[39m\u001B[38;5;241m.\u001B[39m_model_with_set_params, inplace\u001B[38;5;241m=\u001B[39m\u001B[38;5;28;01mFalse\u001B[39;00m, check_model\u001B[38;5;241m=\u001B[39mcheck_model\n\u001B[1;32m    402\u001B[0m )\n\u001B[1;32m    403\u001B[0m \u001B[38;5;66;03m# rebuilt model so clear solver setup\u001B[39;00m\n\u001B[1;32m    404\u001B[0m \u001B[38;5;28mself\u001B[39m\u001B[38;5;241m.\u001B[39m_solver\u001B[38;5;241m.\u001B[39m_model_set_up \u001B[38;5;241m=\u001B[39m {}\n",
      "File \u001B[0;32m/opt/anaconda3/envs/PyBamm/lib/python3.11/site-packages/pybamm/discretisations/discretisation.py:208\u001B[0m, in \u001B[0;36mDiscretisation.process_model\u001B[0;34m(self, model, inplace, check_model, remove_independent_variables_from_rhs)\u001B[0m\n\u001B[1;32m    204\u001B[0m \u001B[38;5;66;03m# Discretise variables (applying boundary conditions)\u001B[39;00m\n\u001B[1;32m    205\u001B[0m \u001B[38;5;66;03m# Note that we **do not** discretise the keys of model.rhs,\u001B[39;00m\n\u001B[1;32m    206\u001B[0m \u001B[38;5;66;03m# model.initial_conditions and model.boundary_conditions\u001B[39;00m\n\u001B[1;32m    207\u001B[0m pybamm\u001B[38;5;241m.\u001B[39mlogger\u001B[38;5;241m.\u001B[39mverbose(\u001B[38;5;124mf\u001B[39m\u001B[38;5;124m\"\u001B[39m\u001B[38;5;124mDiscretise variables for \u001B[39m\u001B[38;5;132;01m{\u001B[39;00mmodel\u001B[38;5;241m.\u001B[39mname\u001B[38;5;132;01m}\u001B[39;00m\u001B[38;5;124m\"\u001B[39m)\n\u001B[0;32m--> 208\u001B[0m model_disc\u001B[38;5;241m.\u001B[39mvariables \u001B[38;5;241m=\u001B[39m \u001B[38;5;28mself\u001B[39m\u001B[38;5;241m.\u001B[39mprocess_dict(model\u001B[38;5;241m.\u001B[39mvariables)\n\u001B[1;32m    210\u001B[0m \u001B[38;5;66;03m# Process parabolic and elliptic equations\u001B[39;00m\n\u001B[1;32m    211\u001B[0m pybamm\u001B[38;5;241m.\u001B[39mlogger\u001B[38;5;241m.\u001B[39mverbose(\u001B[38;5;124mf\u001B[39m\u001B[38;5;124m\"\u001B[39m\u001B[38;5;124mDiscretise model equations for \u001B[39m\u001B[38;5;132;01m{\u001B[39;00mmodel\u001B[38;5;241m.\u001B[39mname\u001B[38;5;132;01m}\u001B[39;00m\u001B[38;5;124m\"\u001B[39m)\n",
      "File \u001B[0;32m/opt/anaconda3/envs/PyBamm/lib/python3.11/site-packages/pybamm/discretisations/discretisation.py:688\u001B[0m, in \u001B[0;36mDiscretisation.process_dict\u001B[0;34m(self, var_eqn_dict, ics)\u001B[0m\n\u001B[1;32m    685\u001B[0m         eqn \u001B[38;5;241m=\u001B[39m pybamm\u001B[38;5;241m.\u001B[39mFullBroadcast(eqn, broadcast_domains\u001B[38;5;241m=\u001B[39meqn_key\u001B[38;5;241m.\u001B[39mdomains)\n\u001B[1;32m    687\u001B[0m pybamm\u001B[38;5;241m.\u001B[39mlogger\u001B[38;5;241m.\u001B[39mdebug(\u001B[38;5;124mf\u001B[39m\u001B[38;5;124m\"\u001B[39m\u001B[38;5;124mDiscretise \u001B[39m\u001B[38;5;132;01m{\u001B[39;00meqn_key\u001B[38;5;132;01m!r}\u001B[39;00m\u001B[38;5;124m\"\u001B[39m)\n\u001B[0;32m--> 688\u001B[0m processed_eqn \u001B[38;5;241m=\u001B[39m \u001B[38;5;28mself\u001B[39m\u001B[38;5;241m.\u001B[39mprocess_symbol(eqn)\n\u001B[1;32m    689\u001B[0m \u001B[38;5;66;03m# Calculate scale if the key has a scale\u001B[39;00m\n\u001B[1;32m    690\u001B[0m scale \u001B[38;5;241m=\u001B[39m \u001B[38;5;28mgetattr\u001B[39m(eqn_key, \u001B[38;5;124m\"\u001B[39m\u001B[38;5;124mscale\u001B[39m\u001B[38;5;124m\"\u001B[39m, \u001B[38;5;241m1\u001B[39m)\n",
      "File \u001B[0;32m/opt/anaconda3/envs/PyBamm/lib/python3.11/site-packages/pybamm/discretisations/discretisation.py:720\u001B[0m, in \u001B[0;36mDiscretisation.process_symbol\u001B[0;34m(self, symbol)\u001B[0m\n\u001B[1;32m    718\u001B[0m     \u001B[38;5;28;01mreturn\u001B[39;00m \u001B[38;5;28mself\u001B[39m\u001B[38;5;241m.\u001B[39m_discretised_symbols[symbol]\n\u001B[1;32m    719\u001B[0m \u001B[38;5;28;01mexcept\u001B[39;00m \u001B[38;5;167;01mKeyError\u001B[39;00m:\n\u001B[0;32m--> 720\u001B[0m     discretised_symbol \u001B[38;5;241m=\u001B[39m \u001B[38;5;28mself\u001B[39m\u001B[38;5;241m.\u001B[39m_process_symbol(symbol)\n\u001B[1;32m    721\u001B[0m     \u001B[38;5;28mself\u001B[39m\u001B[38;5;241m.\u001B[39m_discretised_symbols[symbol] \u001B[38;5;241m=\u001B[39m discretised_symbol\n\u001B[1;32m    722\u001B[0m     discretised_symbol\u001B[38;5;241m.\u001B[39mtest_shape()\n",
      "File \u001B[0;32m/opt/anaconda3/envs/PyBamm/lib/python3.11/site-packages/pybamm/discretisations/discretisation.py:755\u001B[0m, in \u001B[0;36mDiscretisation._process_symbol\u001B[0;34m(self, symbol)\u001B[0m\n\u001B[1;32m    752\u001B[0m \u001B[38;5;28;01mif\u001B[39;00m \u001B[38;5;28misinstance\u001B[39m(symbol, pybamm\u001B[38;5;241m.\u001B[39mBinaryOperator):\n\u001B[1;32m    753\u001B[0m     \u001B[38;5;66;03m# Pre-process children\u001B[39;00m\n\u001B[1;32m    754\u001B[0m     left, right \u001B[38;5;241m=\u001B[39m symbol\u001B[38;5;241m.\u001B[39mchildren\n\u001B[0;32m--> 755\u001B[0m     disc_left \u001B[38;5;241m=\u001B[39m \u001B[38;5;28mself\u001B[39m\u001B[38;5;241m.\u001B[39mprocess_symbol(left)\n\u001B[1;32m    756\u001B[0m     disc_right \u001B[38;5;241m=\u001B[39m \u001B[38;5;28mself\u001B[39m\u001B[38;5;241m.\u001B[39mprocess_symbol(right)\n\u001B[1;32m    757\u001B[0m     \u001B[38;5;28;01mif\u001B[39;00m symbol\u001B[38;5;241m.\u001B[39mdomain \u001B[38;5;241m==\u001B[39m []:\n",
      "File \u001B[0;32m/opt/anaconda3/envs/PyBamm/lib/python3.11/site-packages/pybamm/discretisations/discretisation.py:720\u001B[0m, in \u001B[0;36mDiscretisation.process_symbol\u001B[0;34m(self, symbol)\u001B[0m\n\u001B[1;32m    718\u001B[0m     \u001B[38;5;28;01mreturn\u001B[39;00m \u001B[38;5;28mself\u001B[39m\u001B[38;5;241m.\u001B[39m_discretised_symbols[symbol]\n\u001B[1;32m    719\u001B[0m \u001B[38;5;28;01mexcept\u001B[39;00m \u001B[38;5;167;01mKeyError\u001B[39;00m:\n\u001B[0;32m--> 720\u001B[0m     discretised_symbol \u001B[38;5;241m=\u001B[39m \u001B[38;5;28mself\u001B[39m\u001B[38;5;241m.\u001B[39m_process_symbol(symbol)\n\u001B[1;32m    721\u001B[0m     \u001B[38;5;28mself\u001B[39m\u001B[38;5;241m.\u001B[39m_discretised_symbols[symbol] \u001B[38;5;241m=\u001B[39m discretised_symbol\n\u001B[1;32m    722\u001B[0m     discretised_symbol\u001B[38;5;241m.\u001B[39mtest_shape()\n",
      "File \u001B[0;32m/opt/anaconda3/envs/PyBamm/lib/python3.11/site-packages/pybamm/discretisations/discretisation.py:756\u001B[0m, in \u001B[0;36mDiscretisation._process_symbol\u001B[0;34m(self, symbol)\u001B[0m\n\u001B[1;32m    754\u001B[0m left, right \u001B[38;5;241m=\u001B[39m symbol\u001B[38;5;241m.\u001B[39mchildren\n\u001B[1;32m    755\u001B[0m disc_left \u001B[38;5;241m=\u001B[39m \u001B[38;5;28mself\u001B[39m\u001B[38;5;241m.\u001B[39mprocess_symbol(left)\n\u001B[0;32m--> 756\u001B[0m disc_right \u001B[38;5;241m=\u001B[39m \u001B[38;5;28mself\u001B[39m\u001B[38;5;241m.\u001B[39mprocess_symbol(right)\n\u001B[1;32m    757\u001B[0m \u001B[38;5;28;01mif\u001B[39;00m symbol\u001B[38;5;241m.\u001B[39mdomain \u001B[38;5;241m==\u001B[39m []:\n\u001B[1;32m    758\u001B[0m     \u001B[38;5;28;01mreturn\u001B[39;00m pybamm\u001B[38;5;241m.\u001B[39msimplify_if_constant(\n\u001B[1;32m    759\u001B[0m         symbol\u001B[38;5;241m.\u001B[39m_binary_new_copy(disc_left, disc_right)\n\u001B[1;32m    760\u001B[0m     )\n",
      "File \u001B[0;32m/opt/anaconda3/envs/PyBamm/lib/python3.11/site-packages/pybamm/discretisations/discretisation.py:720\u001B[0m, in \u001B[0;36mDiscretisation.process_symbol\u001B[0;34m(self, symbol)\u001B[0m\n\u001B[1;32m    718\u001B[0m     \u001B[38;5;28;01mreturn\u001B[39;00m \u001B[38;5;28mself\u001B[39m\u001B[38;5;241m.\u001B[39m_discretised_symbols[symbol]\n\u001B[1;32m    719\u001B[0m \u001B[38;5;28;01mexcept\u001B[39;00m \u001B[38;5;167;01mKeyError\u001B[39;00m:\n\u001B[0;32m--> 720\u001B[0m     discretised_symbol \u001B[38;5;241m=\u001B[39m \u001B[38;5;28mself\u001B[39m\u001B[38;5;241m.\u001B[39m_process_symbol(symbol)\n\u001B[1;32m    721\u001B[0m     \u001B[38;5;28mself\u001B[39m\u001B[38;5;241m.\u001B[39m_discretised_symbols[symbol] \u001B[38;5;241m=\u001B[39m discretised_symbol\n\u001B[1;32m    722\u001B[0m     discretised_symbol\u001B[38;5;241m.\u001B[39mtest_shape()\n",
      "File \u001B[0;32m/opt/anaconda3/envs/PyBamm/lib/python3.11/site-packages/pybamm/discretisations/discretisation.py:784\u001B[0m, in \u001B[0;36mDiscretisation._process_symbol\u001B[0;34m(self, symbol)\u001B[0m\n\u001B[1;32m    781\u001B[0m \u001B[38;5;28;01melif\u001B[39;00m \u001B[38;5;28misinstance\u001B[39m(symbol, pybamm\u001B[38;5;241m.\u001B[39mUnaryOperator):\n\u001B[1;32m    782\u001B[0m     child \u001B[38;5;241m=\u001B[39m symbol\u001B[38;5;241m.\u001B[39mchild\n\u001B[0;32m--> 784\u001B[0m     disc_child \u001B[38;5;241m=\u001B[39m \u001B[38;5;28mself\u001B[39m\u001B[38;5;241m.\u001B[39mprocess_symbol(child)\n\u001B[1;32m    785\u001B[0m     \u001B[38;5;28;01mif\u001B[39;00m child\u001B[38;5;241m.\u001B[39mdomain \u001B[38;5;241m!=\u001B[39m []:\n\u001B[1;32m    786\u001B[0m         child_spatial_method \u001B[38;5;241m=\u001B[39m \u001B[38;5;28mself\u001B[39m\u001B[38;5;241m.\u001B[39mspatial_methods[child\u001B[38;5;241m.\u001B[39mdomain[\u001B[38;5;241m0\u001B[39m]]\n",
      "File \u001B[0;32m/opt/anaconda3/envs/PyBamm/lib/python3.11/site-packages/pybamm/discretisations/discretisation.py:720\u001B[0m, in \u001B[0;36mDiscretisation.process_symbol\u001B[0;34m(self, symbol)\u001B[0m\n\u001B[1;32m    718\u001B[0m     \u001B[38;5;28;01mreturn\u001B[39;00m \u001B[38;5;28mself\u001B[39m\u001B[38;5;241m.\u001B[39m_discretised_symbols[symbol]\n\u001B[1;32m    719\u001B[0m \u001B[38;5;28;01mexcept\u001B[39;00m \u001B[38;5;167;01mKeyError\u001B[39;00m:\n\u001B[0;32m--> 720\u001B[0m     discretised_symbol \u001B[38;5;241m=\u001B[39m \u001B[38;5;28mself\u001B[39m\u001B[38;5;241m.\u001B[39m_process_symbol(symbol)\n\u001B[1;32m    721\u001B[0m     \u001B[38;5;28mself\u001B[39m\u001B[38;5;241m.\u001B[39m_discretised_symbols[symbol] \u001B[38;5;241m=\u001B[39m discretised_symbol\n\u001B[1;32m    722\u001B[0m     discretised_symbol\u001B[38;5;241m.\u001B[39mtest_shape()\n",
      "File \u001B[0;32m/opt/anaconda3/envs/PyBamm/lib/python3.11/site-packages/pybamm/discretisations/discretisation.py:762\u001B[0m, in \u001B[0;36mDiscretisation._process_symbol\u001B[0;34m(self, symbol)\u001B[0m\n\u001B[1;32m    758\u001B[0m         \u001B[38;5;28;01mreturn\u001B[39;00m pybamm\u001B[38;5;241m.\u001B[39msimplify_if_constant(\n\u001B[1;32m    759\u001B[0m             symbol\u001B[38;5;241m.\u001B[39m_binary_new_copy(disc_left, disc_right)\n\u001B[1;32m    760\u001B[0m         )\n\u001B[1;32m    761\u001B[0m     \u001B[38;5;28;01melse\u001B[39;00m:\n\u001B[0;32m--> 762\u001B[0m         \u001B[38;5;28;01mreturn\u001B[39;00m spatial_method\u001B[38;5;241m.\u001B[39mprocess_binary_operators(\n\u001B[1;32m    763\u001B[0m             symbol, left, right, disc_left, disc_right\n\u001B[1;32m    764\u001B[0m         )\n\u001B[1;32m    765\u001B[0m \u001B[38;5;28;01melif\u001B[39;00m \u001B[38;5;28misinstance\u001B[39m(symbol, pybamm\u001B[38;5;241m.\u001B[39m_BaseAverage):\n\u001B[1;32m    766\u001B[0m     \u001B[38;5;66;03m# Create a new Integral operator and process it\u001B[39;00m\n\u001B[1;32m    767\u001B[0m     child \u001B[38;5;241m=\u001B[39m symbol\u001B[38;5;241m.\u001B[39morphans[\u001B[38;5;241m0\u001B[39m]\n",
      "File \u001B[0;32m/opt/anaconda3/envs/PyBamm/lib/python3.11/site-packages/pybamm/spatial_methods/finite_volume.py:1120\u001B[0m, in \u001B[0;36mFiniteVolume.process_binary_operators\u001B[0;34m(self, bin_op, left, right, disc_left, disc_right)\u001B[0m\n\u001B[1;32m   1117\u001B[0m     disc_left \u001B[38;5;241m=\u001B[39m \u001B[38;5;28mself\u001B[39m\u001B[38;5;241m.\u001B[39mnode_to_edge(disc_left, method\u001B[38;5;241m=\u001B[39mmethod)\n\u001B[1;32m   1118\u001B[0m \u001B[38;5;66;03m# Return new binary operator with appropriate class\u001B[39;00m\n\u001B[1;32m   1119\u001B[0m out \u001B[38;5;241m=\u001B[39m pybamm\u001B[38;5;241m.\u001B[39msimplify_if_constant(\n\u001B[0;32m-> 1120\u001B[0m     bin_op\u001B[38;5;241m.\u001B[39m_binary_new_copy(disc_left, disc_right)\n\u001B[1;32m   1121\u001B[0m )\n\u001B[1;32m   1123\u001B[0m \u001B[38;5;28;01mreturn\u001B[39;00m out\n",
      "File \u001B[0;32m/opt/anaconda3/envs/PyBamm/lib/python3.11/site-packages/pybamm/expression_tree/binary_operators.py:121\u001B[0m, in \u001B[0;36mBinaryOperator._binary_new_copy\u001B[0;34m(self, left, right)\u001B[0m\n\u001B[1;32m    117\u001B[0m     out\u001B[38;5;241m.\u001B[39mcopy_domains(\u001B[38;5;28mself\u001B[39m)\n\u001B[1;32m    119\u001B[0m     \u001B[38;5;28;01mreturn\u001B[39;00m out\n\u001B[0;32m--> 121\u001B[0m \u001B[38;5;28;01mdef\u001B[39;00m \u001B[38;5;21m_binary_new_copy\u001B[39m(\u001B[38;5;28mself\u001B[39m, left, right):\n\u001B[1;32m    122\u001B[0m \u001B[38;5;250m    \u001B[39m\u001B[38;5;124;03m\"\"\"\u001B[39;00m\n\u001B[1;32m    123\u001B[0m \u001B[38;5;124;03m    Default behaviour for new_copy.\u001B[39;00m\n\u001B[1;32m    124\u001B[0m \u001B[38;5;124;03m    This copies the behaviour of `_binary_evaluate`, but since `left` and `right`\u001B[39;00m\n\u001B[1;32m    125\u001B[0m \u001B[38;5;124;03m    are symbols creates a new symbol instead of returning a value.\u001B[39;00m\n\u001B[1;32m    126\u001B[0m \u001B[38;5;124;03m    \"\"\"\u001B[39;00m\n\u001B[1;32m    127\u001B[0m     \u001B[38;5;28;01mreturn\u001B[39;00m \u001B[38;5;28mself\u001B[39m\u001B[38;5;241m.\u001B[39m_binary_evaluate(left, right)\n",
      "\u001B[0;31mKeyboardInterrupt\u001B[0m: "
     ]
    }
   ],
   "execution_count": 128
  },
  {
   "cell_type": "code",
   "outputs": [],
   "source": [
    "# 运行模型并获取结果\n",
    "Y = []\n",
    "\n",
    "for i, params in enumerate(param_values):\n",
    "    try:\n",
    "        result = battery_model(params)\n",
    "        Y.append(result)\n",
    "    except Exception as e:\n",
    "        print(f\"Error for sample {i} with parameters {params}: {e}\")\n",
    "        Y.append(np.nan)  # 返回NaN以继续处理其他参数组合\n",
    "\n",
    "# 转换Y为NumPy数组并过滤NaN值\n",
    "Y = np.array(Y)\n",
    "valid_indices = ~np.isnan(Y)\n",
    "Y_valid = Y[valid_indices]\n",
    "param_values_valid = param_values[valid_indices]"
   ],
   "metadata": {
    "collapsed": false
   },
   "id": "ff8183d50d17c7b3",
   "execution_count": null
  },
  {
   "metadata": {},
   "cell_type": "code",
   "source": [
    "# Perform sensitivity analyses\n",
    "Si = sobol.analyze(problem, Y_valid, print_to_console=True)"
   ],
   "id": "228fb47a13d3563c",
   "outputs": [],
   "execution_count": null
  },
  {
   "metadata": {
    "ExecuteTime": {
     "end_time": "2024-06-17T10:23:46.178440Z",
     "start_time": "2024-06-17T10:23:46.139500Z"
    }
   },
   "cell_type": "code",
   "source": [
    "# Print results\n",
    "print(\"Sobol Sensitivity Indices\")\n",
    "print(\"S1:\", Si['S1'])\n",
    "print(\"ST:\", Si['ST'])\n",
    "print(\"S2:\", Si['S2'])"
   ],
   "id": "51049dae9bb4a10c",
   "outputs": [
    {
     "ename": "AttributeError",
     "evalue": "'list' object has no attribute 'size'",
     "output_type": "error",
     "traceback": [
      "\u001B[0;31m---------------------------------------------------------------------------\u001B[0m",
      "\u001B[0;31mAttributeError\u001B[0m                            Traceback (most recent call last)",
      "Cell \u001B[0;32mIn[117], line 2\u001B[0m\n\u001B[1;32m      1\u001B[0m \u001B[38;5;66;03m# 执行灵敏度分析\u001B[39;00m\n\u001B[0;32m----> 2\u001B[0m Si \u001B[38;5;241m=\u001B[39m sobol\u001B[38;5;241m.\u001B[39manalyze(problem, Y)\n",
      "File \u001B[0;32m/opt/anaconda3/envs/PyBamm/lib/python3.11/site-packages/SALib/analyze/sobol.py:114\u001B[0m, in \u001B[0;36manalyze\u001B[0;34m(problem, Y, calc_second_order, num_resamples, conf_level, print_to_console, parallel, n_processors, keep_resamples, seed)\u001B[0m\n\u001B[1;32m    111\u001B[0m \u001B[38;5;28;01melse\u001B[39;00m:\n\u001B[1;32m    112\u001B[0m     _, D \u001B[38;5;241m=\u001B[39m extract_group_names(groups)\n\u001B[0;32m--> 114\u001B[0m \u001B[38;5;28;01mif\u001B[39;00m calc_second_order \u001B[38;5;129;01mand\u001B[39;00m Y\u001B[38;5;241m.\u001B[39msize \u001B[38;5;241m%\u001B[39m (\u001B[38;5;241m2\u001B[39m \u001B[38;5;241m*\u001B[39m D \u001B[38;5;241m+\u001B[39m \u001B[38;5;241m2\u001B[39m) \u001B[38;5;241m==\u001B[39m \u001B[38;5;241m0\u001B[39m:\n\u001B[1;32m    115\u001B[0m     N \u001B[38;5;241m=\u001B[39m \u001B[38;5;28mint\u001B[39m(Y\u001B[38;5;241m.\u001B[39msize \u001B[38;5;241m/\u001B[39m (\u001B[38;5;241m2\u001B[39m \u001B[38;5;241m*\u001B[39m D \u001B[38;5;241m+\u001B[39m \u001B[38;5;241m2\u001B[39m))\n\u001B[1;32m    116\u001B[0m \u001B[38;5;28;01melif\u001B[39;00m \u001B[38;5;129;01mnot\u001B[39;00m calc_second_order \u001B[38;5;129;01mand\u001B[39;00m Y\u001B[38;5;241m.\u001B[39msize \u001B[38;5;241m%\u001B[39m (D \u001B[38;5;241m+\u001B[39m \u001B[38;5;241m2\u001B[39m) \u001B[38;5;241m==\u001B[39m \u001B[38;5;241m0\u001B[39m:\n",
      "\u001B[0;31mAttributeError\u001B[0m: 'list' object has no attribute 'size'"
     ]
    }
   ],
   "execution_count": 117
  },
  {
   "metadata": {},
   "cell_type": "code",
   "outputs": [],
   "execution_count": null,
   "source": [],
   "id": "a7583c57232d4c4f"
  }
 ],
 "metadata": {
  "kernelspec": {
   "name": "pybamm",
   "language": "python",
   "display_name": "Python(PyBaMM)"
  },
  "language_info": {
   "codemirror_mode": {
    "name": "ipython",
    "version": 2
   },
   "file_extension": ".py",
   "mimetype": "text/x-python",
   "name": "python",
   "nbconvert_exporter": "python",
   "pygments_lexer": "ipython2",
   "version": "2.7.6"
  }
 },
 "nbformat": 4,
 "nbformat_minor": 5
}
