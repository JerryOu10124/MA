{
 "cells": [
  {
   "cell_type": "code",
   "id": "initial_id",
   "metadata": {
    "collapsed": true,
    "ExecuteTime": {
     "end_time": "2024-06-26T08:15:48.948434600Z",
     "start_time": "2024-06-26T08:15:48.942787700Z"
    }
   },
   "source": [
    "import pybamm\n",
    "import numpy as np\n",
    "from SALib.sample import saltelli\n",
    "from SALib.analyze import sobol\n",
    "import matplotlib.pyplot as plt\n",
    "import pandas as pd"
   ],
   "outputs": [],
   "execution_count": 54
  },
  {
   "metadata": {
    "ExecuteTime": {
     "end_time": "2024-06-26T08:15:49.377671600Z",
     "start_time": "2024-06-26T08:15:49.351284600Z"
    }
   },
   "cell_type": "code",
   "source": [
    "param = pybamm.ParameterValues(\"OKane2022\")\n",
    "print(param)"
   ],
   "id": "9e21238cdc416e02",
   "outputs": [
    {
     "name": "stdout",
     "output_type": "stream",
     "text": [
      "{'Ambient temperature [K]': 298.15,\n",
      " 'Boltzmann constant [J.K-1]': 1.380649e-23,\n",
      " 'Bulk solvent concentration [mol.m-3]': 2636.0,\n",
      " 'Cation transference number': 0.2594,\n",
      " 'Cell cooling surface area [m2]': 0.00531,\n",
      " 'Cell thermal expansion coefficient [m.K-1]': 1.1e-06,\n",
      " 'Cell volume [m3]': 2.42e-05,\n",
      " 'Contact resistance [Ohm]': 0,\n",
      " 'Current function [A]': 5.0,\n",
      " 'Dead lithium decay constant [s-1]': 1e-06,\n",
      " 'Dead lithium decay rate [s-1]': <function SEI_limited_dead_lithium_OKane2022 at 0x0000015268152020>,\n",
      " 'EC diffusivity [m2.s-1]': 2e-18,\n",
      " 'EC initial concentration in electrolyte [mol.m-3]': 4541.0,\n",
      " 'Electrode height [m]': 0.065,\n",
      " 'Electrode width [m]': 1.58,\n",
      " 'Electrolyte conductivity [S.m-1]': <function electrolyte_conductivity_Nyman2008_arrhenius at 0x00000152681527A0>,\n",
      " 'Electrolyte diffusivity [m2.s-1]': <function electrolyte_diffusivity_Nyman2008_arrhenius at 0x0000015268152700>,\n",
      " 'Electron charge [C]': 1.602176634e-19,\n",
      " 'Exchange-current density for plating [A.m-2]': <function plating_exchange_current_density_OKane2020 at 0x0000015268151F80>,\n",
      " 'Exchange-current density for stripping [A.m-2]': <function stripping_exchange_current_density_OKane2020 at 0x0000015268151EE0>,\n",
      " 'Faraday constant [C.mol-1]': 96485.33212,\n",
      " 'Ideal gas constant [J.K-1.mol-1]': 8.314462618,\n",
      " 'Initial concentration in electrolyte [mol.m-3]': 1000.0,\n",
      " 'Initial concentration in negative electrode [mol.m-3]': 29866.0,\n",
      " 'Initial concentration in positive electrode [mol.m-3]': 17038.0,\n",
      " 'Initial inner SEI thickness [m]': 0.0,\n",
      " 'Initial outer SEI thickness [m]': 5e-09,\n",
      " 'Initial plated lithium concentration [mol.m-3]': 0.0,\n",
      " 'Initial temperature [K]': 298.15,\n",
      " 'Inner SEI electron conductivity [S.m-1]': 8.95e-14,\n",
      " 'Inner SEI lithium interstitial diffusivity [m2.s-1]': 1e-20,\n",
      " 'Inner SEI open-circuit potential [V]': 0.1,\n",
      " 'Inner SEI partial molar volume [m3.mol-1]': 9.585e-05,\n",
      " 'Inner SEI reaction proportion': 0.0,\n",
      " 'Lithium interstitial reference concentration [mol.m-3]': 15.0,\n",
      " 'Lithium metal partial molar volume [m3.mol-1]': 1.3e-05,\n",
      " 'Lithium plating kinetic rate constant [m.s-1]': 1e-09,\n",
      " 'Lithium plating transfer coefficient': 0.65,\n",
      " 'Lower voltage cut-off [V]': 2.5,\n",
      " 'Maximum concentration in negative electrode [mol.m-3]': 33133.0,\n",
      " 'Maximum concentration in positive electrode [mol.m-3]': 63104.0,\n",
      " 'Negative current collector conductivity [S.m-1]': 58411000.0,\n",
      " 'Negative current collector density [kg.m-3]': 8960.0,\n",
      " 'Negative current collector specific heat capacity [J.kg-1.K-1]': 385.0,\n",
      " 'Negative current collector thermal conductivity [W.m-1.K-1]': 401.0,\n",
      " 'Negative current collector thickness [m]': 1.2e-05,\n",
      " 'Negative electrode Bruggeman coefficient (electrode)': 1.5,\n",
      " 'Negative electrode Bruggeman coefficient (electrolyte)': 1.5,\n",
      " 'Negative electrode LAM constant exponential term': 2.0,\n",
      " 'Negative electrode LAM constant proportional term [s-1]': 2.7778e-07,\n",
      " 'Negative electrode OCP [V]': <function graphite_LGM50_ocp_Chen2020 at 0x0000015268152840>,\n",
      " 'Negative electrode OCP entropic change [V.K-1]': 0.0,\n",
      " \"Negative electrode Paris' law constant b\": 1.12,\n",
      " \"Negative electrode Paris' law constant m\": 2.2,\n",
      " \"Negative electrode Poisson's ratio\": 0.3,\n",
      " \"Negative electrode Young's modulus [Pa]\": 15000000000.0,\n",
      " 'Negative electrode active material volume fraction': 0.75,\n",
      " 'Negative electrode charge transfer coefficient': 0.5,\n",
      " 'Negative electrode conductivity [S.m-1]': 215.0,\n",
      " 'Negative electrode cracking rate': <function graphite_cracking_rate_Ai2020 at 0x0000015268152340>,\n",
      " 'Negative electrode critical stress [Pa]': 60000000.0,\n",
      " 'Negative electrode density [kg.m-3]': 1657.0,\n",
      " 'Negative electrode diffusivity [m2.s-1]': <function graphite_LGM50_diffusivity_Chen2020 at 0x00000152681520C0>,\n",
      " 'Negative electrode double-layer capacity [F.m-2]': 0.2,\n",
      " 'Negative electrode exchange-current density [A.m-2]': <function graphite_LGM50_electrolyte_exchange_current_density_Chen2020 at 0x0000015268152200>,\n",
      " 'Negative electrode initial crack length [m]': 2e-08,\n",
      " 'Negative electrode initial crack width [m]': 1.5e-08,\n",
      " 'Negative electrode number of cracks per unit area [m-2]': 3180000000000000.0,\n",
      " 'Negative electrode partial molar volume [m3.mol-1]': 3.1e-06,\n",
      " 'Negative electrode porosity': 0.25,\n",
      " 'Negative electrode reaction-driven LAM factor [m3.mol-1]': 0.0,\n",
      " 'Negative electrode reference concentration for free of deformation [mol.m-3]': 0.0,\n",
      " 'Negative electrode specific heat capacity [J.kg-1.K-1]': 700.0,\n",
      " 'Negative electrode thermal conductivity [W.m-1.K-1]': 1.7,\n",
      " 'Negative electrode thickness [m]': 8.52e-05,\n",
      " 'Negative electrode volume change': <function graphite_volume_change_Ai2020 at 0x00000152681522A0>,\n",
      " 'Negative particle radius [m]': 5.86e-06,\n",
      " 'Nominal cell capacity [A.h]': 5.0,\n",
      " 'Number of cells connected in series to make a battery': 1.0,\n",
      " 'Number of electrodes connected in parallel to make a cell': 1.0,\n",
      " 'Open-circuit voltage at 0% SOC [V]': 2.5,\n",
      " 'Open-circuit voltage at 100% SOC [V]': 4.2,\n",
      " 'Outer SEI open-circuit potential [V]': 0.8,\n",
      " 'Outer SEI partial molar volume [m3.mol-1]': 9.585e-05,\n",
      " 'Outer SEI solvent diffusivity [m2.s-1]': 2.5000000000000002e-22,\n",
      " 'Positive current collector conductivity [S.m-1]': 36914000.0,\n",
      " 'Positive current collector density [kg.m-3]': 2700.0,\n",
      " 'Positive current collector specific heat capacity [J.kg-1.K-1]': 897.0,\n",
      " 'Positive current collector thermal conductivity [W.m-1.K-1]': 237.0,\n",
      " 'Positive current collector thickness [m]': 1.6e-05,\n",
      " 'Positive electrode Bruggeman coefficient (electrode)': 1.5,\n",
      " 'Positive electrode Bruggeman coefficient (electrolyte)': 1.5,\n",
      " 'Positive electrode LAM constant exponential term': 2.0,\n",
      " 'Positive electrode LAM constant proportional term [s-1]': 2.7778e-07,\n",
      " 'Positive electrode OCP [V]': <function nmc_LGM50_ocp_Chen2020 at 0x0000015268152480>,\n",
      " 'Positive electrode OCP entropic change [V.K-1]': 0.0,\n",
      " \"Positive electrode Paris' law constant b\": 1.12,\n",
      " \"Positive electrode Paris' law constant m\": 2.2,\n",
      " \"Positive electrode Poisson's ratio\": 0.2,\n",
      " \"Positive electrode Young's modulus [Pa]\": 375000000000.0,\n",
      " 'Positive electrode active material volume fraction': 0.665,\n",
      " 'Positive electrode charge transfer coefficient': 0.5,\n",
      " 'Positive electrode conductivity [S.m-1]': 0.18,\n",
      " 'Positive electrode cracking rate': <function cracking_rate_Ai2020 at 0x0000015268152660>,\n",
      " 'Positive electrode critical stress [Pa]': 375000000.0,\n",
      " 'Positive electrode density [kg.m-3]': 3262.0,\n",
      " 'Positive electrode diffusivity [m2.s-1]': <function nmc_LGM50_diffusivity_Chen2020 at 0x00000152681523E0>,\n",
      " 'Positive electrode double-layer capacity [F.m-2]': 0.2,\n",
      " 'Positive electrode exchange-current density [A.m-2]': <function nmc_LGM50_electrolyte_exchange_current_density_Chen2020 at 0x0000015268152520>,\n",
      " 'Positive electrode initial crack length [m]': 2e-08,\n",
      " 'Positive electrode initial crack width [m]': 1.5e-08,\n",
      " 'Positive electrode number of cracks per unit area [m-2]': 3180000000000000.0,\n",
      " 'Positive electrode partial molar volume [m3.mol-1]': 1.25e-05,\n",
      " 'Positive electrode porosity': 0.335,\n",
      " 'Positive electrode reaction-driven LAM factor [m3.mol-1]': 0.0,\n",
      " 'Positive electrode reference concentration for free of deformation [mol.m-3]': 0.0,\n",
      " 'Positive electrode specific heat capacity [J.kg-1.K-1]': 700.0,\n",
      " 'Positive electrode thermal conductivity [W.m-1.K-1]': 2.1,\n",
      " 'Positive electrode thickness [m]': 7.56e-05,\n",
      " 'Positive electrode volume change': <function volume_change_Ai2020 at 0x00000152681525C0>,\n",
      " 'Positive particle radius [m]': 5.22e-06,\n",
      " 'Ratio of lithium moles to SEI moles': 1.0,\n",
      " 'Reference temperature [K]': 298.15,\n",
      " 'SEI growth activation energy [J.mol-1]': 38000.0,\n",
      " 'SEI kinetic rate constant [m.s-1]': 1e-12,\n",
      " 'SEI open-circuit potential [V]': 0.4,\n",
      " 'SEI reaction exchange current density [A.m-2]': 1.5e-07,\n",
      " 'SEI resistivity [Ohm.m]': 200000.0,\n",
      " 'Separator Bruggeman coefficient (electrolyte)': 1.5,\n",
      " 'Separator density [kg.m-3]': 397.0,\n",
      " 'Separator porosity': 0.47,\n",
      " 'Separator specific heat capacity [J.kg-1.K-1]': 700.0,\n",
      " 'Separator thermal conductivity [W.m-1.K-1]': 0.16,\n",
      " 'Separator thickness [m]': 1.2e-05,\n",
      " 'Thermodynamic factor': 1.0,\n",
      " 'Total heat transfer coefficient [W.m-2.K-1]': 10.0,\n",
      " 'Typical plated lithium concentration [mol.m-3]': 1000.0,\n",
      " 'Upper voltage cut-off [V]': 4.2,\n",
      " 'citations': ['OKane2022',\n",
      "               'OKane2020',\n",
      "               'Chen2020']}\n"
     ]
    }
   ],
   "execution_count": 55
  },
  {
   "cell_type": "code",
   "outputs": [
    {
     "name": "stdout",
     "output_type": "stream",
     "text": [
      "Maximum concentration in negative electrode [mol.m-3]\t33133.0\n",
      "Maximum concentration in positive electrode [mol.m-3]\t63104.0\n"
     ]
    }
   ],
   "source": [
    "param.search(\"Maximum\")"
   ],
   "metadata": {
    "collapsed": false,
    "ExecuteTime": {
     "end_time": "2024-06-26T08:15:50.017628900Z",
     "start_time": "2024-06-26T08:15:50.009658600Z"
    }
   },
   "id": "69b89a5ddc896bb9",
   "execution_count": 56
  },
  {
   "cell_type": "code",
   "outputs": [
    {
     "name": "stdout",
     "output_type": "stream",
     "text": [
      "{'Ambient temperature [K]': 298.15,\n",
      " 'Boltzmann constant [J.K-1]': 1.380649e-23,\n",
      " 'Bulk solvent concentration [mol.m-3]': 2636.0,\n",
      " 'Cation transference number': 0.4,\n",
      " 'Cell cooling surface area [m2]': 0.0569,\n",
      " 'Cell volume [m3]': 7.8e-06,\n",
      " 'Contact resistance [Ohm]': 0,\n",
      " 'Current function [A]': 0.680616,\n",
      " 'EC diffusivity [m2.s-1]': 2e-18,\n",
      " 'EC initial concentration in electrolyte [mol.m-3]': 4541.0,\n",
      " 'Edge heat transfer coefficient [W.m-2.K-1]': 0.3,\n",
      " 'Electrode height [m]': 0.137,\n",
      " 'Electrode width [m]': 0.207,\n",
      " 'Electrolyte conductivity [S.m-1]': <function electrolyte_conductivity_Capiglia1999 at 0x00000152682C5260>,\n",
      " 'Electrolyte diffusivity [m2.s-1]': <function electrolyte_diffusivity_Capiglia1999 at 0x00000152682C51C0>,\n",
      " 'Electron charge [C]': 1.602176634e-19,\n",
      " 'Faraday constant [C.mol-1]': 96485.33212,\n",
      " 'Ideal gas constant [J.K-1.mol-1]': 8.314462618,\n",
      " 'Initial concentration in electrolyte [mol.m-3]': 1000.0,\n",
      " 'Initial concentration in negative electrode [mol.m-3]': 19986.609595075,\n",
      " 'Initial concentration in positive electrode [mol.m-3]': 30730.7554385565,\n",
      " 'Initial inner SEI thickness [m]': 2.5e-09,\n",
      " 'Initial outer SEI thickness [m]': 2.5e-09,\n",
      " 'Initial temperature [K]': 298.15,\n",
      " 'Inner SEI electron conductivity [S.m-1]': 8.95e-14,\n",
      " 'Inner SEI lithium interstitial diffusivity [m2.s-1]': 1e-20,\n",
      " 'Inner SEI open-circuit potential [V]': 0.1,\n",
      " 'Inner SEI partial molar volume [m3.mol-1]': 9.585e-05,\n",
      " 'Inner SEI reaction proportion': 0.5,\n",
      " 'Lithium interstitial reference concentration [mol.m-3]': 15.0,\n",
      " 'Lower voltage cut-off [V]': 3.105,\n",
      " 'Maximum concentration in negative electrode [mol.m-3]': 24983.2619938437,\n",
      " 'Maximum concentration in positive electrode [mol.m-3]': 51217.9257309275,\n",
      " 'Negative current collector conductivity [S.m-1]': 59600000.0,\n",
      " 'Negative current collector density [kg.m-3]': 8954.0,\n",
      " 'Negative current collector specific heat capacity [J.kg-1.K-1]': 385.0,\n",
      " 'Negative current collector surface heat transfer coefficient [W.m-2.K-1]': 0.0,\n",
      " 'Negative current collector thermal conductivity [W.m-1.K-1]': 401.0,\n",
      " 'Negative current collector thickness [m]': 2.5e-05,\n",
      " 'Negative electrode Bruggeman coefficient (electrode)': 1.5,\n",
      " 'Negative electrode Bruggeman coefficient (electrolyte)': 1.5,\n",
      " 'Negative electrode OCP [V]': <function graphite_mcmb2528_ocp_Dualfoil1998 at 0x00000152682C4D60>,\n",
      " 'Negative electrode OCP entropic change [V.K-1]': <function graphite_entropic_change_Moura2016 at 0x00000152682C4EA0>,\n",
      " 'Negative electrode active material volume fraction': 0.6,\n",
      " 'Negative electrode charge transfer coefficient': 0.5,\n",
      " 'Negative electrode conductivity [S.m-1]': 100.0,\n",
      " 'Negative electrode density [kg.m-3]': 1657.0,\n",
      " 'Negative electrode diffusivity [m2.s-1]': <function graphite_mcmb2528_diffusivity_Dualfoil1998 at 0x00000152682C4C20>,\n",
      " 'Negative electrode double-layer capacity [F.m-2]': 0.2,\n",
      " 'Negative electrode exchange-current density [A.m-2]': <function graphite_electrolyte_exchange_current_density_Dualfoil1998 at 0x00000152682C4E00>,\n",
      " 'Negative electrode porosity': 0.3,\n",
      " 'Negative electrode reaction-driven LAM factor [m3.mol-1]': 0.0,\n",
      " 'Negative electrode specific heat capacity [J.kg-1.K-1]': 700.0,\n",
      " 'Negative electrode thermal conductivity [W.m-1.K-1]': 1.7,\n",
      " 'Negative electrode thickness [m]': 0.0001,\n",
      " 'Negative particle radius [m]': 1e-05,\n",
      " 'Negative tab centre y-coordinate [m]': 0.06,\n",
      " 'Negative tab centre z-coordinate [m]': 0.137,\n",
      " 'Negative tab heat transfer coefficient [W.m-2.K-1]': 10.0,\n",
      " 'Negative tab width [m]': 0.04,\n",
      " 'Nominal cell capacity [A.h]': 0.680616,\n",
      " 'Number of cells connected in series to make a battery': 1.0,\n",
      " 'Number of electrodes connected in parallel to make a cell': 1.0,\n",
      " 'Open-circuit voltage at 0% SOC [V]': 3.105,\n",
      " 'Open-circuit voltage at 100% SOC [V]': 4.1,\n",
      " 'Outer SEI open-circuit potential [V]': 0.8,\n",
      " 'Outer SEI partial molar volume [m3.mol-1]': 9.585e-05,\n",
      " 'Outer SEI solvent diffusivity [m2.s-1]': 2.5000000000000002e-22,\n",
      " 'Positive current collector conductivity [S.m-1]': 35500000.0,\n",
      " 'Positive current collector density [kg.m-3]': 2707.0,\n",
      " 'Positive current collector specific heat capacity [J.kg-1.K-1]': 897.0,\n",
      " 'Positive current collector surface heat transfer coefficient [W.m-2.K-1]': 0.0,\n",
      " 'Positive current collector thermal conductivity [W.m-1.K-1]': 237.0,\n",
      " 'Positive current collector thickness [m]': 2.5e-05,\n",
      " 'Positive electrode Bruggeman coefficient (electrode)': 1.5,\n",
      " 'Positive electrode Bruggeman coefficient (electrolyte)': 1.5,\n",
      " 'Positive electrode OCP [V]': <function lico2_ocp_Dualfoil1998 at 0x00000152682C4FE0>,\n",
      " 'Positive electrode OCP entropic change [V.K-1]': <function lico2_entropic_change_Moura2016 at 0x00000152682C5120>,\n",
      " 'Positive electrode active material volume fraction': 0.5,\n",
      " 'Positive electrode charge transfer coefficient': 0.5,\n",
      " 'Positive electrode conductivity [S.m-1]': 10.0,\n",
      " 'Positive electrode density [kg.m-3]': 3262.0,\n",
      " 'Positive electrode diffusivity [m2.s-1]': <function lico2_diffusivity_Dualfoil1998 at 0x00000152682C4F40>,\n",
      " 'Positive electrode double-layer capacity [F.m-2]': 0.2,\n",
      " 'Positive electrode exchange-current density [A.m-2]': <function lico2_electrolyte_exchange_current_density_Dualfoil1998 at 0x00000152682C5080>,\n",
      " 'Positive electrode porosity': 0.3,\n",
      " 'Positive electrode reaction-driven LAM factor [m3.mol-1]': 0.0,\n",
      " 'Positive electrode specific heat capacity [J.kg-1.K-1]': 700.0,\n",
      " 'Positive electrode thermal conductivity [W.m-1.K-1]': 2.1,\n",
      " 'Positive electrode thickness [m]': 0.0001,\n",
      " 'Positive particle radius [m]': 1e-05,\n",
      " 'Positive tab centre y-coordinate [m]': 0.147,\n",
      " 'Positive tab centre z-coordinate [m]': 0.137,\n",
      " 'Positive tab heat transfer coefficient [W.m-2.K-1]': 10.0,\n",
      " 'Positive tab width [m]': 0.04,\n",
      " 'Ratio of lithium moles to SEI moles': 2.0,\n",
      " 'Reference temperature [K]': 298.15,\n",
      " 'SEI growth activation energy [J.mol-1]': 0.0,\n",
      " 'SEI growth transfer coefficient': 0.5,\n",
      " 'SEI kinetic rate constant [m.s-1]': 1e-12,\n",
      " 'SEI open-circuit potential [V]': 0.4,\n",
      " 'SEI reaction exchange current density [A.m-2]': 1.5e-07,\n",
      " 'SEI resistivity [Ohm.m]': 200000.0,\n",
      " 'Separator Bruggeman coefficient (electrolyte)': 1.5,\n",
      " 'Separator density [kg.m-3]': 397.0,\n",
      " 'Separator porosity': 1.0,\n",
      " 'Separator specific heat capacity [J.kg-1.K-1]': 700.0,\n",
      " 'Separator thermal conductivity [W.m-1.K-1]': 0.16,\n",
      " 'Separator thickness [m]': 2.5e-05,\n",
      " 'Thermodynamic factor': 1.0,\n",
      " 'Total heat transfer coefficient [W.m-2.K-1]': 10.0,\n",
      " 'Upper voltage cut-off [V]': 4.1,\n",
      " 'citations': ['Marquis2019']}\n"
     ]
    }
   ],
   "source": [
    "model = pybamm.lithium_ion.DFN()\n",
    "param_del = model.default_parameter_values\n",
    "print(param_del)"
   ],
   "metadata": {
    "collapsed": false,
    "ExecuteTime": {
     "end_time": "2024-06-26T08:15:50.719099Z",
     "start_time": "2024-06-26T08:15:50.703459600Z"
    }
   },
   "id": "aba76240ca529128",
   "execution_count": 57
  },
  {
   "metadata": {
    "ExecuteTime": {
     "end_time": "2024-06-26T08:15:51.251176700Z",
     "start_time": "2024-06-26T08:15:51.244833100Z"
    }
   },
   "cell_type": "code",
   "source": [
    "param_del.search(\"max\")"
   ],
   "id": "a3df21f8ba3f3123",
   "outputs": [
    {
     "name": "stdout",
     "output_type": "stream",
     "text": [
      "Maximum concentration in negative electrode [mol.m-3]\t24983.2619938437\n",
      "Maximum concentration in positive electrode [mol.m-3]\t51217.9257309275\n"
     ]
    }
   ],
   "execution_count": 58
  },
  {
   "metadata": {
    "ExecuteTime": {
     "end_time": "2024-06-26T08:15:54.598007600Z",
     "start_time": "2024-06-26T08:15:54.585269300Z"
    }
   },
   "cell_type": "code",
   "source": [
    "# Define the model\n",
    "def battery_model(parameters):\n",
    "    # Creating a DFN model\n",
    "    model = pybamm.lithium_ion.DFN()\n",
    "    \n",
    "    # Loading the default parameter set\n",
    "    param = pybamm.ParameterValues(\"OKane2022\")\n",
    "    \n",
    "    # Updating parameters\n",
    "    param.update({\n",
    "        \"Negative electrode thickness [m]\": parameters[0],\n",
    "        \"Positive electrode thickness [m]\": parameters[1],\n",
    "        \"Separator thickness [m]\": parameters[2],\n",
    "        \"Negative electrode active material volume fraction\": parameters[3],\n",
    "        \"Positive electrode active material volume fraction\": parameters[4],\n",
    "        \"Negative particle radius [m]\": parameters[5],\n",
    "        \"Positive particle radius [m]\": parameters[6],\n",
    "        \"Initial concentration in electrolyte [mol.m-3]\": parameters[7],\n",
    "        \"Negative electrode conductivity [S.m-1]\": parameters[8],\n",
    "        \"Positive electrode conductivity [S.m-1]\": parameters[9],\n",
    "        \"Negative electrode Bruggeman coefficient (electrode)\": parameters[10],\n",
    "        \"Positive electrode Bruggeman coefficient (electrode)\": parameters[11],\n",
    "        \"Separator Bruggeman coefficient (electrolyte)\": parameters[12],\n",
    "        \"Maximum concentration in negative electrode [mol.m-3]\": parameters[13],\n",
    "        \"Maximum concentration in positive electrode [mol.m-3]\": parameters[14]\n",
    "    })\n",
    "    \n",
    "    # Creating a Casadi solver and setting options\n",
    "    solver = pybamm.CasadiSolver(\n",
    "        mode=\"safe\", \n",
    "        atol=1e-1, \n",
    "        rtol=1e-1, \n",
    "        dt_max=0.01,  # Decrease the maximum time step\n",
    "        max_step_decrease_count=2000  # Increase in step size decrease in frequency\n",
    "    )\n",
    "    \n",
    "    # Creating a Simulation\n",
    "    sim = pybamm.Simulation(model, parameter_values=param, solver=solver)\n",
    "    \n",
    "    # running simulation\n",
    "    try:\n",
    "        sim.solve([0, 450])  # Reduced simulation time range of 450 seconds\n",
    "    except pybamm.SolverError as e:\n",
    "        print(f\"Solver failed for parameters: {parameters} with error: {e}\")\n",
    "        return np.nan  # Returns NaN to continue processing other combinations of parameters\n",
    "    \n",
    "    # Extract simulation results\n",
    "    solution = sim.solution\n",
    "    voltage = solution[\"Terminal voltage [V]\"].entries\n",
    "    \n",
    "    # Returns the voltage at the end of the simulation\n",
    "    return voltage[-1]\n"
   ],
   "id": "5350a7b18631183d",
   "outputs": [],
   "execution_count": 59
  },
  {
   "metadata": {
    "ExecuteTime": {
     "end_time": "2024-06-26T08:15:56.656547700Z",
     "start_time": "2024-06-26T08:15:56.645761700Z"
    }
   },
   "cell_type": "code",
   "source": [
    "# Defining the parameter space\n",
    "problem = {\n",
    "    'num_vars': 15,\n",
    "    'names': ['Negative electrode thickness [m]', \n",
    "              'Positive electrode thickness [m]', \n",
    "              'Separator thickness [m]',\n",
    "              'Negative electrode active material volume fraction',\n",
    "              'Positive electrode active material volume fraction',\n",
    "              'Negative particle radius [m]',\n",
    "              'Positive particle radius [m]',\n",
    "              'Initial concentration in electrolyte [mol.m-3]',\n",
    "              'Negative electrode conductivity [S.m-1]',\n",
    "              'Positive electrode conductivity [S.m-1]',\n",
    "              'Negative electrode Bruggeman coefficient (electrode)',\n",
    "              'Positive electrode Bruggeman coefficient (electrode)',\n",
    "              'Separator Bruggeman coefficient (electrolyte)',\n",
    "              'Maximum concentration in negative electrode [mol.m-3]',\n",
    "              'Maximum concentration in positive electrode [mol.m-3]'\n",
    "              ],\n",
    "    'bounds': [[5e-5, 8.6e-5],  # Narrowing down the parameters  8.52e-05\n",
    "               [5e-5, 7.6e-5],  #7.56e-05\n",
    "               [1e-5, 2e-5],    #1.2e-05\n",
    "               [0.7, 0.8],      #0.75\n",
    "               [0.5, 0.7],      #0.665\n",
    "               [4e-6, 6e-6],    #5.86e-06\n",
    "               [4e-6, 6e-6],    #5.22e-06\n",
    "               [0.9e3, 1.2e3],     # Initial concentration in electrolyte 1000\n",
    "               [1e2, 3e2],      #215.0\n",
    "               [0, 10],         #0.18\n",
    "               [1.3, 1.7],      #1.5\n",
    "               [1.3, 1.7],      #1.5\n",
    "               [1.3, 1.7],      #1.5\n",
    "               [2.3e4, 3.4e4],  #33133.0\n",
    "               [5.0e4, 6.5e4]   #63104.0\n",
    "               ]       \n",
    "}"
   ],
   "id": "1e85d39369b0725f",
   "outputs": [],
   "execution_count": 60
  },
  {
   "metadata": {
    "ExecuteTime": {
     "end_time": "2024-06-26T08:15:58.930512600Z",
     "start_time": "2024-06-26T08:15:58.894850900Z"
    }
   },
   "cell_type": "code",
   "source": [
    "# Generate a sample\n",
    "\"\"\"原样本生产为1024，现缩减为256\"\"\"\n",
    "param_values = saltelli.sample(problem, 128)"
   ],
   "id": "a1c3c9688e999f58",
   "outputs": [],
   "execution_count": 61
  },
  {
   "metadata": {
    "ExecuteTime": {
     "end_time": "2024-06-26T08:15:59.351462200Z",
     "start_time": "2024-06-26T08:15:59.339157200Z"
    }
   },
   "cell_type": "code",
   "source": [
    "print(param_values)"
   ],
   "id": "3fb491a850400c9b",
   "outputs": [
    {
     "name": "stdout",
     "output_type": "stream",
     "text": [
      "[[5.04218750e-05 5.86328125e-05 1.29296875e-05 ... 1.62656250e+00\n",
      "  3.26679688e+04 5.04101562e+04]\n",
      " [7.74218750e-05 5.86328125e-05 1.29296875e-05 ... 1.62656250e+00\n",
      "  3.26679688e+04 5.04101562e+04]\n",
      " [5.04218750e-05 6.47265625e-05 1.29296875e-05 ... 1.62656250e+00\n",
      "  3.26679688e+04 5.04101562e+04]\n",
      " ...\n",
      " [6.87031250e-05 6.04609375e-05 1.42578125e-05 ... 1.58281250e+00\n",
      "  3.00039062e+04 5.01757812e+04]\n",
      " [6.87031250e-05 6.04609375e-05 1.42578125e-05 ... 1.58281250e+00\n",
      "  3.36132812e+04 5.91992188e+04]\n",
      " [6.87031250e-05 6.04609375e-05 1.42578125e-05 ... 1.58281250e+00\n",
      "  3.36132812e+04 5.01757812e+04]]\n"
     ]
    }
   ],
   "execution_count": 62
  },
  {
   "metadata": {},
   "cell_type": "code",
   "source": [
    "# Run the model and get the results\n",
    "Y = []\n",
    "\n",
    "for i, params in enumerate(param_values):\n",
    "    try:\n",
    "        result = battery_model(params)\n",
    "        Y.append(result)\n",
    "    except Exception as e:\n",
    "        print(f\"Error for sample {i} with parameters {params}: {e}\")\n",
    "        Y.append(np.nan)  # Returns NaN to continue processing other combinations of parameters\n",
    "\n",
    "# Converting Y to a NumPy array and filtering NaN values\n",
    "Y = np.array(Y)\n",
    "valid_indices = ~np.isnan(Y)\n",
    "Y_valid = Y[valid_indices]\n",
    "param_values_valid = param_values[valid_indices]"
   ],
   "id": "51f0622ab5df0f11",
   "outputs": [],
   "execution_count": null
  },
  {
   "cell_type": "code",
   "outputs": [],
   "source": [
    "# 运行模型并获取结果\n",
    "Y = []\n",
    "\n",
    "for i, params in enumerate(param_values):\n",
    "    try:\n",
    "        result = battery_model(params)\n",
    "        Y.append(result)\n",
    "    except Exception as e:\n",
    "        print(f\"Error for sample {i} with parameters {params}: {e}\")\n",
    "        Y.append(np.nan)  # 返回NaN以继续处理其他参数组合\n",
    "\n",
    "# 转换Y为NumPy数组并过滤NaN值\n",
    "Y = np.array(Y)\n",
    "valid_indices = ~np.isnan(Y)\n",
    "Y_valid = Y[valid_indices]\n",
    "param_values_valid = param_values[valid_indices]"
   ],
   "metadata": {
    "collapsed": false
   },
   "id": "ff8183d50d17c7b3",
   "execution_count": null
  },
  {
   "metadata": {},
   "cell_type": "code",
   "source": [
    "# Perform sensitivity analyses\n",
    "Si = sobol.analyze(problem, Y_valid, print_to_console=True)"
   ],
   "id": "228fb47a13d3563c",
   "outputs": [],
   "execution_count": null
  },
  {
   "metadata": {
    "ExecuteTime": {
     "end_time": "2024-06-17T10:23:46.178440Z",
     "start_time": "2024-06-17T10:23:46.139500Z"
    }
   },
   "cell_type": "code",
   "source": [
    "# Print results\n",
    "print(\"Sobol Sensitivity Indices\")\n",
    "print(\"S1:\", Si['S1'])\n",
    "print(\"ST:\", Si['ST'])\n",
    "print(\"S2:\", Si['S2'])"
   ],
   "id": "51049dae9bb4a10c",
   "outputs": [
    {
     "ename": "AttributeError",
     "evalue": "'list' object has no attribute 'size'",
     "output_type": "error",
     "traceback": [
      "\u001B[0;31m---------------------------------------------------------------------------\u001B[0m",
      "\u001B[0;31mAttributeError\u001B[0m                            Traceback (most recent call last)",
      "Cell \u001B[0;32mIn[117], line 2\u001B[0m\n\u001B[1;32m      1\u001B[0m \u001B[38;5;66;03m# 执行灵敏度分析\u001B[39;00m\n\u001B[0;32m----> 2\u001B[0m Si \u001B[38;5;241m=\u001B[39m sobol\u001B[38;5;241m.\u001B[39manalyze(problem, Y)\n",
      "File \u001B[0;32m/opt/anaconda3/envs/PyBamm/lib/python3.11/site-packages/SALib/analyze/sobol.py:114\u001B[0m, in \u001B[0;36manalyze\u001B[0;34m(problem, Y, calc_second_order, num_resamples, conf_level, print_to_console, parallel, n_processors, keep_resamples, seed)\u001B[0m\n\u001B[1;32m    111\u001B[0m \u001B[38;5;28;01melse\u001B[39;00m:\n\u001B[1;32m    112\u001B[0m     _, D \u001B[38;5;241m=\u001B[39m extract_group_names(groups)\n\u001B[0;32m--> 114\u001B[0m \u001B[38;5;28;01mif\u001B[39;00m calc_second_order \u001B[38;5;129;01mand\u001B[39;00m Y\u001B[38;5;241m.\u001B[39msize \u001B[38;5;241m%\u001B[39m (\u001B[38;5;241m2\u001B[39m \u001B[38;5;241m*\u001B[39m D \u001B[38;5;241m+\u001B[39m \u001B[38;5;241m2\u001B[39m) \u001B[38;5;241m==\u001B[39m \u001B[38;5;241m0\u001B[39m:\n\u001B[1;32m    115\u001B[0m     N \u001B[38;5;241m=\u001B[39m \u001B[38;5;28mint\u001B[39m(Y\u001B[38;5;241m.\u001B[39msize \u001B[38;5;241m/\u001B[39m (\u001B[38;5;241m2\u001B[39m \u001B[38;5;241m*\u001B[39m D \u001B[38;5;241m+\u001B[39m \u001B[38;5;241m2\u001B[39m))\n\u001B[1;32m    116\u001B[0m \u001B[38;5;28;01melif\u001B[39;00m \u001B[38;5;129;01mnot\u001B[39;00m calc_second_order \u001B[38;5;129;01mand\u001B[39;00m Y\u001B[38;5;241m.\u001B[39msize \u001B[38;5;241m%\u001B[39m (D \u001B[38;5;241m+\u001B[39m \u001B[38;5;241m2\u001B[39m) \u001B[38;5;241m==\u001B[39m \u001B[38;5;241m0\u001B[39m:\n",
      "\u001B[0;31mAttributeError\u001B[0m: 'list' object has no attribute 'size'"
     ]
    }
   ],
   "execution_count": 117
  },
  {
   "metadata": {},
   "cell_type": "code",
   "outputs": [],
   "execution_count": null,
   "source": [],
   "id": "a7583c57232d4c4f"
  }
 ],
 "metadata": {
  "kernelspec": {
   "name": "pybamm",
   "language": "python",
   "display_name": "Python(PyBaMM)"
  },
  "language_info": {
   "codemirror_mode": {
    "name": "ipython",
    "version": 2
   },
   "file_extension": ".py",
   "mimetype": "text/x-python",
   "name": "python",
   "nbconvert_exporter": "python",
   "pygments_lexer": "ipython2",
   "version": "2.7.6"
  }
 },
 "nbformat": 4,
 "nbformat_minor": 5
}
