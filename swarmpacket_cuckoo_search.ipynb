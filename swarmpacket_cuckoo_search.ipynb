{
 "cells": [
  {
   "cell_type": "code",
   "id": "initial_id",
   "metadata": {
    "collapsed": true,
    "ExecuteTime": {
     "end_time": "2024-06-11T11:40:51.408356Z",
     "start_time": "2024-06-11T11:40:48.701458Z"
    }
   },
   "source": [
    "import pandas as pd\n",
    "import numpy as np\n",
    "import scipy.special as sc_special\n",
    "from sklearn.metrics import mean_squared_error\n",
    "import SwarmPackagePy"
   ],
   "outputs": [],
   "execution_count": 1
  },
  {
   "metadata": {},
   "cell_type": "code",
   "outputs": [],
   "execution_count": null,
   "source": [
    "#Example of CSA\n",
    "if __name__=='__main__':\n",
    "    def fit_func(nest):\n",
    "        x, y = nest        \n",
    "        return 3*(1-x)**2*np.e**(-x**2-(y+1)**2) - 10*(x/5-x**3-y**5)*np.e**(-x**2-y**2) - (np.e**(-(x+1)**2-y**2))/3\n",
    "\n",
    "    best_nest, best_fitness = cuckoo_search(25, 2, fit_func, [-3, -3], [3, 3], step_size = 0.4)\n",
    "\n",
    "    print('Max fitness: %.5f, Best nest position: (%.5f, %.5f)' % (best_fitness, best_nest[0], best_nest[1]))\n"
   ],
   "id": "a9a382ce5aecfd9a"
  },
  {
   "metadata": {
    "ExecuteTime": {
     "end_time": "2024-06-11T11:54:19.816350Z",
     "start_time": "2024-06-11T11:54:19.391447Z"
    }
   },
   "cell_type": "code",
   "source": [
    "def fit_func(nest):\n",
    "    x, y = nest        \n",
    "    return 3*(1-x)**2*np.e**(-x**2-(y+1)**2) - 10*(x/5-x**3-y**5)*np.e**(-x**2-y**2) - (np.e**(-(x+1)**2-y**2))/3\n",
    "\n",
    "best_nest, best_fitness = SwarmPackagePy.cso(100, fit_func, [-3, -3], [3, 3], 2, 100, pa=0.25, nest=100)\n",
    "\n",
    "print('Max fitness: %.5f, Best nest position: (%.5f, %.5f)' % (best_fitness, best_nest[0], best_nest[1]))"
   ],
   "id": "90fc10cf02f5121b",
   "outputs": [
    {
     "ename": "TypeError",
     "evalue": "cannot unpack non-iterable cso object",
     "output_type": "error",
     "traceback": [
      "\u001B[0;31m---------------------------------------------------------------------------\u001B[0m",
      "\u001B[0;31mTypeError\u001B[0m                                 Traceback (most recent call last)",
      "Cell \u001B[0;32mIn[7], line 5\u001B[0m\n\u001B[1;32m      2\u001B[0m     x, y \u001B[38;5;241m=\u001B[39m nest        \n\u001B[1;32m      3\u001B[0m     \u001B[38;5;28;01mreturn\u001B[39;00m \u001B[38;5;241m3\u001B[39m\u001B[38;5;241m*\u001B[39m(\u001B[38;5;241m1\u001B[39m\u001B[38;5;241m-\u001B[39mx)\u001B[38;5;241m*\u001B[39m\u001B[38;5;241m*\u001B[39m\u001B[38;5;241m2\u001B[39m\u001B[38;5;241m*\u001B[39mnp\u001B[38;5;241m.\u001B[39me\u001B[38;5;241m*\u001B[39m\u001B[38;5;241m*\u001B[39m(\u001B[38;5;241m-\u001B[39mx\u001B[38;5;241m*\u001B[39m\u001B[38;5;241m*\u001B[39m\u001B[38;5;241m2\u001B[39m\u001B[38;5;241m-\u001B[39m(y\u001B[38;5;241m+\u001B[39m\u001B[38;5;241m1\u001B[39m)\u001B[38;5;241m*\u001B[39m\u001B[38;5;241m*\u001B[39m\u001B[38;5;241m2\u001B[39m) \u001B[38;5;241m-\u001B[39m \u001B[38;5;241m10\u001B[39m\u001B[38;5;241m*\u001B[39m(x\u001B[38;5;241m/\u001B[39m\u001B[38;5;241m5\u001B[39m\u001B[38;5;241m-\u001B[39mx\u001B[38;5;241m*\u001B[39m\u001B[38;5;241m*\u001B[39m\u001B[38;5;241m3\u001B[39m\u001B[38;5;241m-\u001B[39my\u001B[38;5;241m*\u001B[39m\u001B[38;5;241m*\u001B[39m\u001B[38;5;241m5\u001B[39m)\u001B[38;5;241m*\u001B[39mnp\u001B[38;5;241m.\u001B[39me\u001B[38;5;241m*\u001B[39m\u001B[38;5;241m*\u001B[39m(\u001B[38;5;241m-\u001B[39mx\u001B[38;5;241m*\u001B[39m\u001B[38;5;241m*\u001B[39m\u001B[38;5;241m2\u001B[39m\u001B[38;5;241m-\u001B[39my\u001B[38;5;241m*\u001B[39m\u001B[38;5;241m*\u001B[39m\u001B[38;5;241m2\u001B[39m) \u001B[38;5;241m-\u001B[39m (np\u001B[38;5;241m.\u001B[39me\u001B[38;5;241m*\u001B[39m\u001B[38;5;241m*\u001B[39m(\u001B[38;5;241m-\u001B[39m(x\u001B[38;5;241m+\u001B[39m\u001B[38;5;241m1\u001B[39m)\u001B[38;5;241m*\u001B[39m\u001B[38;5;241m*\u001B[39m\u001B[38;5;241m2\u001B[39m\u001B[38;5;241m-\u001B[39my\u001B[38;5;241m*\u001B[39m\u001B[38;5;241m*\u001B[39m\u001B[38;5;241m2\u001B[39m))\u001B[38;5;241m/\u001B[39m\u001B[38;5;241m3\u001B[39m\n\u001B[0;32m----> 5\u001B[0m best_nest, best_fitness \u001B[38;5;241m=\u001B[39m SwarmPackagePy\u001B[38;5;241m.\u001B[39mcso(\u001B[38;5;241m100\u001B[39m, fit_func, [\u001B[38;5;241m-\u001B[39m\u001B[38;5;241m3\u001B[39m, \u001B[38;5;241m-\u001B[39m\u001B[38;5;241m3\u001B[39m], [\u001B[38;5;241m3\u001B[39m, \u001B[38;5;241m3\u001B[39m], \u001B[38;5;241m2\u001B[39m, \u001B[38;5;241m100\u001B[39m, pa\u001B[38;5;241m=\u001B[39m\u001B[38;5;241m0.25\u001B[39m, nest\u001B[38;5;241m=\u001B[39m\u001B[38;5;241m100\u001B[39m)\n\u001B[1;32m      7\u001B[0m \u001B[38;5;28mprint\u001B[39m(\u001B[38;5;124m'\u001B[39m\u001B[38;5;124mMax fitness: \u001B[39m\u001B[38;5;132;01m%.5f\u001B[39;00m\u001B[38;5;124m, Best nest position: (\u001B[39m\u001B[38;5;132;01m%.5f\u001B[39;00m\u001B[38;5;124m, \u001B[39m\u001B[38;5;132;01m%.5f\u001B[39;00m\u001B[38;5;124m)\u001B[39m\u001B[38;5;124m'\u001B[39m \u001B[38;5;241m%\u001B[39m (best_fitness, best_nest[\u001B[38;5;241m0\u001B[39m], best_nest[\u001B[38;5;241m1\u001B[39m]))\n",
      "\u001B[0;31mTypeError\u001B[0m: cannot unpack non-iterable cso object"
     ]
    }
   ],
   "execution_count": 7
  },
  {
   "metadata": {},
   "cell_type": "code",
   "outputs": [],
   "execution_count": null,
   "source": "",
   "id": "564b1a94c2da0cda"
  }
 ],
 "metadata": {
  "kernelspec": {
   "display_name": "Python 3",
   "language": "python",
   "name": "python3"
  },
  "language_info": {
   "codemirror_mode": {
    "name": "ipython",
    "version": 2
   },
   "file_extension": ".py",
   "mimetype": "text/x-python",
   "name": "python",
   "nbconvert_exporter": "python",
   "pygments_lexer": "ipython2",
   "version": "2.7.6"
  }
 },
 "nbformat": 4,
 "nbformat_minor": 5
}
