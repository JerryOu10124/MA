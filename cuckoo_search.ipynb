{
 "cells": [
  {
   "cell_type": "code",
   "id": "initial_id",
   "metadata": {
    "collapsed": true,
    "ExecuteTime": {
     "end_time": "2024-06-10T13:23:04.976981Z",
     "start_time": "2024-06-10T13:23:04.973349Z"
    }
   },
   "source": [
    "import pandas as pd\n",
    "import numpy as np\n",
    "import scipy.special as sc_special\n",
    "from sklearn.metrics import mean_squared_error"
   ],
   "outputs": [],
   "execution_count": 16
  },
  {
   "metadata": {
    "ExecuteTime": {
     "end_time": "2024-06-10T13:23:06.434121Z",
     "start_time": "2024-06-10T13:23:06.426883Z"
    }
   },
   "cell_type": "code",
   "source": [
    "def cuckoo_search(n, m, fit_func, lower_boundary, upper_boundary, iter_num = 100,pa = 0.25, beta = 1.5, step_size = 0.1):\n",
    "    \"\"\"\n",
    "    Cuckoo search function\n",
    "    ---------------------------------------------------\n",
    "    Input parameters:\n",
    "        n: Number of nests\n",
    "        m: Number of dimensions\n",
    "        fit_func: User defined fitness evaluative function\n",
    "        lower_boundary: Lower bounary (example: lower_boundary = (-2, -2, -2))\n",
    "        upper_boundary: Upper boundary (example: upper_boundary = (2, 2, 2))\n",
    "        iter_num: Number of iterations (default: 100) \n",
    "        pa: Possibility that hosts find cuckoos' eggs (default: 0.25)\n",
    "        beta: Power law index (note: 1 < beta < 2) (default: 1.5)\n",
    "        step_size:  Step size scaling factor related to the problem's scale (default: 0.1)\n",
    "    Output:\n",
    "        The best solution and its value\n",
    "    \"\"\"\n",
    "    # get initial nests' locations \n",
    "    nests = generate_nests(n, m, lower_boundary, upper_boundary)\n",
    "    fitness = calc_fitness(fit_func, nests)\n",
    "\n",
    "    # get the best nest and record it\n",
    "    best_nest_index = np.argmax(fitness)\n",
    "    best_fitness = fitness[best_nest_index]\n",
    "    best_nest = nests[best_nest_index].copy()\n",
    "\n",
    "    for _ in range(iter_num):\n",
    "        nests = update_nests(fit_func, lower_boundary, upper_boundary, nests, best_nest, fitness, step_size)\n",
    "        nests = abandon_nests(nests, lower_boundary, upper_boundary, pa)\n",
    "        fitness = calc_fitness(fit_func, nests)\n",
    "        \n",
    "        max_nest_index = np.argmax(fitness)\n",
    "        max_fitness = fitness[max_nest_index]\n",
    "        max_nest = nests[max_nest_index]\n",
    "\n",
    "        if (max_fitness > best_fitness):\n",
    "            best_nest = max_nest.copy()\n",
    "            best_fitness = max_fitness\n",
    "\n",
    "    return (best_nest, best_fitness)"
   ],
   "id": "c69bed8a7a009140",
   "outputs": [],
   "execution_count": 17
  },
  {
   "metadata": {
    "ExecuteTime": {
     "end_time": "2024-06-10T13:23:08.043481Z",
     "start_time": "2024-06-10T13:23:08.037537Z"
    }
   },
   "cell_type": "code",
   "source": [
    "def generate_nests(n, m, lower_boundary, upper_boundary):\n",
    "    \"\"\"\n",
    "    Generate the nests' locations\n",
    "    ---------------------------------------------------\n",
    "    Input parameters:\n",
    "        n: Number of nests\n",
    "        m: Number of dimensions\n",
    "        lower_boundary: Lower bounary (example: lower_boundary = (-2, -2, -2))\n",
    "        upper_boundary: Upper boundary (example: upper_boundary = (2, 2, 2))\n",
    "    Output:\n",
    "        generated nests' locations\n",
    "    \"\"\"\n",
    "    lower_boundary = np.array(lower_boundary)\n",
    "    upper_boundary = np.array(upper_boundary)\n",
    "    nests = np.empty((n, m))\n",
    "\n",
    "    for each_nest in range(n):\n",
    "        nests[each_nest] = lower_boundary + np.array([np.random.rand() for _ in range(m)]) * (upper_boundary - lower_boundary)\n",
    "\n",
    "    return nests\n"
   ],
   "id": "b94838f5f5fd7254",
   "outputs": [],
   "execution_count": 18
  },
  {
   "metadata": {
    "ExecuteTime": {
     "end_time": "2024-06-10T13:23:09.113913Z",
     "start_time": "2024-06-10T13:23:09.108137Z"
    }
   },
   "cell_type": "code",
   "source": [
    "def update_nests(fit_func, lower_boundary, upper_boundary, nests, best_nest, fitness, step_coefficient):\n",
    "    \"\"\"\n",
    "    This function is to get new nests' locations and use new better one to replace the old nest\n",
    "    ---------------------------------------------------\n",
    "    Input parameters:\n",
    "        fit_func: User defined fitness evaluative function\n",
    "        lower_boundary: Lower bounary (example: lower_boundary = (-2, -2, -2))\n",
    "        upper_boundary: Upper boundary (example: upper_boundary = (2, 2, 2))\n",
    "        nests: Old nests' locations \n",
    "        best_nest: Nest with best fitness\n",
    "        fitness: Every nest's fitness\n",
    "        step_coefficient:  Step size scaling factor related to the problem's scale (default: 0.1)\n",
    "    Output:\n",
    "        Updated nests' locations\n",
    "    \"\"\"\n",
    "    lower_boundary = np.array(lower_boundary)\n",
    "    upper_boundary = np.array(upper_boundary)\n",
    "    n, m = nests.shape\n",
    "    # generate steps using levy flight\n",
    "    steps = levy_flight(n, m, 1.5)\n",
    "    new_nests = nests.copy()\n",
    "\n",
    "    for each_nest in range(n):\n",
    "        # coefficient 0.01 is to avoid levy flights becoming too aggresive\n",
    "        # and (nest[each_nest] - best_nest) could let the best nest be remained\n",
    "        step_size = step_coefficient * steps[each_nest] * (nests[each_nest] - best_nest)\n",
    "        step_direction = np.random.rand(m)\n",
    "        new_nests[each_nest] += step_size * step_direction\n",
    "        # apply boundary condtions\n",
    "        new_nests[each_nest][new_nests[each_nest] < lower_boundary] = lower_boundary[new_nests[each_nest] < lower_boundary]\n",
    "        new_nests[each_nest][new_nests[each_nest] > upper_boundary] = upper_boundary[new_nests[each_nest] > upper_boundary]\n",
    "\n",
    "    new_fitness = calc_fitness(fit_func, new_nests)\n",
    "    nests[new_fitness > fitness] = new_nests[new_fitness > fitness]\n",
    "    \n",
    "    return nests\n"
   ],
   "id": "78922fb569b47c8b",
   "outputs": [],
   "execution_count": 19
  },
  {
   "metadata": {
    "ExecuteTime": {
     "end_time": "2024-06-10T13:23:09.985774Z",
     "start_time": "2024-06-10T13:23:09.979223Z"
    }
   },
   "cell_type": "code",
   "source": [
    "def abandon_nests(nests, lower_boundary, upper_boundary, pa):\n",
    "    \"\"\"\n",
    "    Some cuckoos' eggs are found by hosts, and are abandoned.So cuckoos need to find new nests.\n",
    "    ---------------------------------------------------\n",
    "    Input parameters:\n",
    "        nests: Current nests' locations\n",
    "        lower_boundary: Lower bounary (example: lower_boundary = (-2, -2, -2))\n",
    "        upper_boundary: Upper boundary (example: upper_boundary = (2, 2, 2))\n",
    "        pa: Possibility that hosts find cuckoos' eggs\n",
    "    Output:\n",
    "        Updated nests' locations\n",
    "    \"\"\"\n",
    "    lower_boundary = np.array(lower_boundary)\n",
    "    upper_boundary = np.array(upper_boundary)\n",
    "    n, m = nests.shape\n",
    "    for each_nest in range(n):\n",
    "        if (np.random.rand() < pa):\n",
    "            step_size = np.random.rand() * (nests[np.random.randint(0, n)] - nests[np.random.randint(0, n)])\n",
    "            nests[each_nest] += step_size\n",
    "            # apply boundary condtions\n",
    "            nests[each_nest][nests[each_nest] < lower_boundary] = lower_boundary[nests[each_nest] < lower_boundary]\n",
    "            nests[each_nest][nests[each_nest] > upper_boundary] = upper_boundary[nests[each_nest] > upper_boundary]\n",
    "    \n",
    "    return nests\n"
   ],
   "id": "b756c9e7deb1620c",
   "outputs": [],
   "execution_count": 20
  },
  {
   "metadata": {
    "ExecuteTime": {
     "end_time": "2024-06-10T13:23:10.833796Z",
     "start_time": "2024-06-10T13:23:10.829049Z"
    }
   },
   "cell_type": "code",
   "source": [
    "def levy_flight(n, m, beta):\n",
    "    \"\"\"\n",
    "    This function implements Levy's flight.\n",
    "    ---------------------------------------------------\n",
    "    Input parameters:\n",
    "        n: Number of steps \n",
    "        m: Number of dimensions\n",
    "        beta: Power law index (note: 1 < beta < 2)\n",
    "    Output:\n",
    "        'n' levy steps in 'm' dimension\n",
    "    \"\"\"\n",
    "    sigma_u = (sc_special.gamma(1+beta)*np.sin(np.pi*beta/2)/(sc_special.gamma((1+beta)/2)*beta*(2**((beta-1)/2))))**(1/beta)\n",
    "    sigma_v = 1\n",
    "\n",
    "    u =  np.random.normal(0, sigma_u, (n, m))\n",
    "    v = np.random.normal(0, sigma_v, (n, m))\n",
    "\n",
    "    steps = u/((np.abs(v))**(1/beta))\n",
    "\n",
    "    return steps\n"
   ],
   "id": "ca0be24b6c879698",
   "outputs": [],
   "execution_count": 21
  },
  {
   "metadata": {
    "ExecuteTime": {
     "end_time": "2024-06-10T13:23:16.309633Z",
     "start_time": "2024-06-10T13:23:16.303801Z"
    }
   },
   "cell_type": "code",
   "source": [
    "def calc_fitness(fit_func, nests):\n",
    "    \"\"\"\n",
    "    calculate each nest's fitness\n",
    "    ---------------------------------------------------\n",
    "    Input parameters:\n",
    "        fit_func: User defined fitness evaluative function\n",
    "        nests:  Nests' locations\n",
    "    Output:\n",
    "        Every nest's fitness\n",
    "    \"\"\"\n",
    "    n, m = nests.shape\n",
    "    fitness = np.empty(n)\n",
    "\n",
    "    for each_nest in range(n):\n",
    "        fitness[each_nest] = fit_func(nests[each_nest])\n",
    "\n",
    "    return fitness"
   ],
   "id": "7104643175be2677",
   "outputs": [],
   "execution_count": 22
  },
  {
   "metadata": {},
   "cell_type": "code",
   "outputs": [
    {
     "name": "stdout",
     "output_type": "stream",
     "text": [
      "Max fitness: 7.96561, Best nest position: (-0.00276, 1.48898)\n"
     ]
    }
   ],
   "execution_count": 15,
   "source": [
    "#Example of CSA\n",
    "if __name__=='__main__':\n",
    "    def fit_func(nest):\n",
    "        x, y = nest        \n",
    "        return 3*(1-x)**2*np.e**(-x**2-(y+1)**2) - 10*(x/5-x**3-y**5)*np.e**(-x**2-y**2) - (np.e**(-(x+1)**2-y**2))/3\n",
    "\n",
    "    best_nest, best_fitness = cuckoo_search(25, 2, fit_func, [-3, -3], [3, 3], step_size = 0.4)\n",
    "\n",
    "    print('Max fitness: %.5f, Best nest position: (%.5f, %.5f)' % (best_fitness, best_nest[0], best_nest[1]))\n"
   ],
   "id": "921bf810a0bbe9d6"
  },
  {
   "metadata": {
    "ExecuteTime": {
     "end_time": "2024-06-10T13:53:52.532119Z",
     "start_time": "2024-06-10T13:48:26.183131Z"
    }
   },
   "cell_type": "code",
   "source": [
    "if __name__=='__main__':\n",
    "    def fit_func(nest):\n",
    "        A, l_pos, epsilon_f_pos, c_s_pos_max, l_neg, epsilon_f_neg, c_s_neg_max= nest \n",
    "        #MSE between v_t and v_hat_t:\n",
    "        df_ex = pd.read_csv('data/data_ocv_ex.csv')\n",
    "        df_sim = pd.read_csv('data/data_ocv_sim.csv')\n",
    "        #Extract the voltage and time columns in data_ocv_ex and data_ocv_sim\n",
    "        v_t = df_ex[['Time', 'Voltage']]\n",
    "        v_hat_t = df_sim[['Time', 'Voltage']]\n",
    "        # Calculate the mean square error\n",
    "        FF_V = mean_squared_error(v_t['Voltage'], v_hat_t['Voltage'])\n",
    "        \n",
    "        #The capacity error between cathode and anode can be calculated with the identified capacity-related parameters\n",
    "        F = 96485.33212\n",
    "        theta_0_pos = 0.915\n",
    "        theta_0_neg = 0.008\n",
    "        theta_100_pos = 0.254\n",
    "        theta_100_neg = 0.855\n",
    "        FF_C = np.abs((A * l_pos * epsilon_f_pos * F * c_s_pos_max * (theta_0_pos - theta_100_pos)/3600) - (A * l_neg * epsilon_f_neg * F * c_s_neg_max * (theta_100_neg - theta_0_neg)/3600))\n",
    "        \n",
    "        # Total objective fitness function  \n",
    "        w_Vn = 0.6\n",
    "        w_c = 1 - w_Vn\n",
    "        FF_M = w_Vn * FF_V + w_c * FF_C\n",
    "        \n",
    "        \n",
    "        return FF_M\n",
    "\n",
    "    best_nest, best_fitness = cuckoo_search(50, 7, fit_func, [0.378, 35, 0.35, 4.8, 35, 0.4, 2.9], [0.395, 79, 0.5, 5.2, 79, 0.5, 3.3], step_size = 0.4)\n",
    "\n",
    "    print('Max fitness: %.5f, Best nest position: (A: %.5f, l_pos: %.5f, epsilon_f_pos: %.5f, c_s_pos_max: %.5f, l_neg: %.5f, epsilon_f_neg: %.5f, c_s_neg_max: %.5f)' % (best_fitness, best_nest[0], best_nest[1], best_nest[2], best_nest[3], best_nest[4], best_nest[5], best_nest[6]))"
   ],
   "id": "f25dd00afaacaab8",
   "outputs": [
    {
     "name": "stdout",
     "output_type": "stream",
     "text": [
      "Max fitness: 858.68012, Best nest position: (A: 0.39500, l_pos: 79.00000, epsilon_f_pos: 0.50000, c_s_pos_max: 5.20000, l_neg: 35.00000, epsilon_f_neg: 0.40000, c_s_neg_max: 2.90000)\n"
     ]
    }
   ],
   "execution_count": 28
  },
  {
   "metadata": {},
   "cell_type": "code",
   "outputs": [],
   "execution_count": null,
   "source": "#Multi-objective fit_func:",
   "id": "3657e6eaa2ebec60"
  },
  {
   "metadata": {
    "ExecuteTime": {
     "end_time": "2024-06-10T08:30:14.358614Z",
     "start_time": "2024-06-10T08:30:14.307910Z"
    }
   },
   "cell_type": "code",
   "source": [
    "#MSE between v_t and v_hat_t:\n",
    "# Read two CSV files\n",
    "df_ex = pd.read_csv('data/data_ocv_ex.csv')\n",
    "df_sim = pd.read_csv('data/data_ocv_sim.csv')\n",
    "#Extract the voltage and time columns in data_ocv_ex and data_ocv_sim\n",
    "v_t = df_ex[['Time', 'Voltage']]\n",
    "v_hat_t = df_sim[['Time', 'Voltage']]\n",
    "# Calculate the mean square error\n",
    "mse = mean_squared_error(v_t['Voltage'], v_hat_t['Voltage'])\n",
    "\n",
    "print(f'The Mean Squared Error between the two sets of voltage data is:{mse}')"
   ],
   "id": "8036e4e58370394",
   "outputs": [
    {
     "name": "stdout",
     "output_type": "stream",
     "text": [
      "The Mean Squared Error between the two sets of voltage data is:0.27783352653879945\n"
     ]
    }
   ],
   "execution_count": 11
  },
  {
   "metadata": {
    "ExecuteTime": {
     "end_time": "2024-06-10T12:54:42.294114Z",
     "start_time": "2024-06-10T12:54:42.155307Z"
    }
   },
   "cell_type": "code",
   "source": [
    "#The capacity error between cathode and anode can be calculated with the identified capacity-related parameters\n",
    "    # FF_C = np.abs((A * l_pos * epsilon_f_pos * F * c_s_pos_max * (theta_0_pos - theta_100_pos)/3600) - (A * l_neg * epsilon_f_neg * F * c_s_neg_max * (theta_100_neg - theta_0_neg)/3600))\n",
    "        # \"\"\"\n",
    "        # A: Electrode surface area [m^2] 0.378 - 0.395 (measurement)\n",
    "        # l_pos: Cathode Thickness [um] 35-79\n",
    "        # epsilon_f_pos: Cathode active material volume fraction 0.35-0.5\n",
    "        # F: Faraday constant 96485.33212C/mol\n",
    "        # c_s_pos_max: Cathode maximum ionic concentration [10^4mol/m^-3] 4.8 - 5.2\n",
    "        # theta_0_pos: 0.932(ref), 0.915(CSA)\n",
    "        # theta_100_pos: 0.260(ref), 0.254(CSA)\n",
    "        # l_neg: Anode thickness [um] 35-79\n",
    "        # epsilon_f_neg: Anode active material volume fraction 0.4-0.5\n",
    "        # c_s_neg_max: Anode maximum ionic concentration [10^4mol/m^-3] 2.9-3.3\n",
    "        # theta_0_neg: 0(ref), 0.008(CSA)\n",
    "        # theta_100_neg: 0.8292(ref), 0.855(CSA)\n",
    "        # \"\"\"\n",
    "# Total objective fitness function\n",
    "#     def FF_M():\n",
    "#         FF_M = w_c * FF_C\n",
    "#         for i in range(1, n_p):\n",
    "#             FF_M = w_v(i) * 2 + FF_M\n",
    "#         return FF_M\n",
    "#         \"\"\"\n",
    "#         n_p:the number of the input profiles when multiple profiles are used to identify the parameters\n",
    "#         w_v(i) and w_c: weights for the corresponding fitness terms.(The choice of the weights has a significant influence on the identification results,\n",
    "#                         which can be determined based on the value of the error terms so that every term is on the same order of magnitude during the\n",
    "#                         optimization process.)\n",
    "#         \"\"\"\n"
   ],
   "id": "e268e91137fd385c",
   "outputs": [
    {
     "name": "stdout",
     "output_type": "stream",
     "text": [
      "Max fitness: -2.97352, Best nest position: (0.64562, 0.55744, 0.39288)\n"
     ]
    }
   ],
   "execution_count": 14
  }
 ],
 "metadata": {
  "kernelspec": {
   "display_name": "Python 3",
   "language": "python",
   "name": "python3"
  },
  "language_info": {
   "codemirror_mode": {
    "name": "ipython",
    "version": 2
   },
   "file_extension": ".py",
   "mimetype": "text/x-python",
   "name": "python",
   "nbconvert_exporter": "python",
   "pygments_lexer": "ipython2",
   "version": "2.7.6"
  }
 },
 "nbformat": 4,
 "nbformat_minor": 5
}
