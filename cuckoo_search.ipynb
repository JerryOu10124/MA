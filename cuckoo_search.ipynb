{
 "cells": [
  {
   "cell_type": "code",
   "id": "initial_id",
   "metadata": {
    "collapsed": true,
    "ExecuteTime": {
     "end_time": "2024-06-11T09:42:39.635089Z",
     "start_time": "2024-06-11T09:42:39.630891Z"
    }
   },
   "source": [
    "import pandas as pd\n",
    "import numpy as np\n",
    "import scipy.special as sc_special\n",
    "from sklearn.metrics import mean_squared_error"
   ],
   "outputs": [],
   "execution_count": 4
  },
  {
   "metadata": {
    "ExecuteTime": {
     "end_time": "2024-06-11T09:36:31.442152Z",
     "start_time": "2024-06-11T09:36:31.431788Z"
    }
   },
   "cell_type": "code",
   "source": [
    "def cuckoo_search(n, m, fit_func, lower_boundary, upper_boundary, iter_num = 100,pa = 0.25, beta = 1.5, step_size = 0.1):\n",
    "    \"\"\"\n",
    "    Cuckoo search function\n",
    "    ---------------------------------------------------\n",
    "    Input parameters:\n",
    "        n: Number of nests\n",
    "        m: Number of dimensions\n",
    "        fit_func: User defined fitness evaluative function\n",
    "        lower_boundary: Lower bounary (example: lower_boundary = (-2, -2, -2))\n",
    "        upper_boundary: Upper boundary (example: upper_boundary = (2, 2, 2))\n",
    "        iter_num: Number of iterations (default: 100) \n",
    "        pa: Possibility that hosts find cuckoos' eggs (default: 0.25)\n",
    "        beta: Power law index (note: 1 < beta < 2) (default: 1.5)\n",
    "        step_size:  Step size scaling factor related to the problem's scale (default: 0.1)\n",
    "    Output:\n",
    "        The best solution and its value\n",
    "    \"\"\"\n",
    "    # get initial nests' locations \n",
    "    nests = generate_nests(n, m, lower_boundary, upper_boundary)\n",
    "    fitness = calc_fitness(fit_func, nests)\n",
    "\n",
    "    # get the best nest and record it\n",
    "    best_nest_index = np.argmax(fitness)\n",
    "    best_fitness = fitness[best_nest_index]\n",
    "    best_nest = nests[best_nest_index].copy()\n",
    "\n",
    "    for _ in range(iter_num):\n",
    "        nests = update_nests(fit_func, lower_boundary, upper_boundary, nests, best_nest, fitness, step_size)\n",
    "        nests = abandon_nests(nests, lower_boundary, upper_boundary, pa)\n",
    "        fitness = calc_fitness(fit_func, nests)\n",
    "        \n",
    "        max_nest_index = np.argmax(fitness)\n",
    "        max_fitness = fitness[max_nest_index]\n",
    "        max_nest = nests[max_nest_index]\n",
    "\n",
    "        if (max_fitness > best_fitness):\n",
    "            best_nest = max_nest.copy()\n",
    "            best_fitness = max_fitness\n",
    "\n",
    "    return (best_nest, best_fitness)"
   ],
   "id": "c69bed8a7a009140",
   "outputs": [],
   "execution_count": 40
  },
  {
   "metadata": {
    "ExecuteTime": {
     "end_time": "2024-06-11T09:36:33.151572Z",
     "start_time": "2024-06-11T09:36:33.145853Z"
    }
   },
   "cell_type": "code",
   "source": [
    "def generate_nests(n, m, lower_boundary, upper_boundary):\n",
    "    \"\"\"\n",
    "    Generate the nests' locations\n",
    "    ---------------------------------------------------\n",
    "    Input parameters:\n",
    "        n: Number of nests\n",
    "        m: Number of dimensions\n",
    "        lower_boundary: Lower bounary (example: lower_boundary = (-2, -2, -2))\n",
    "        upper_boundary: Upper boundary (example: upper_boundary = (2, 2, 2))\n",
    "    Output:\n",
    "        generated nests' locations\n",
    "    \"\"\"\n",
    "    lower_boundary = np.array(lower_boundary)\n",
    "    upper_boundary = np.array(upper_boundary)\n",
    "    nests = np.empty((n, m))\n",
    "\n",
    "    for each_nest in range(n):\n",
    "        nests[each_nest] = lower_boundary + np.array([np.random.rand() for _ in range(m)]) * (upper_boundary - lower_boundary)\n",
    "\n",
    "    return nests\n"
   ],
   "id": "b94838f5f5fd7254",
   "outputs": [],
   "execution_count": 41
  },
  {
   "metadata": {
    "ExecuteTime": {
     "end_time": "2024-06-11T09:36:33.865638Z",
     "start_time": "2024-06-11T09:36:33.857642Z"
    }
   },
   "cell_type": "code",
   "source": [
    "def update_nests(fit_func, lower_boundary, upper_boundary, nests, best_nest, fitness, step_coefficient):\n",
    "    \"\"\"\n",
    "    This function is to get new nests' locations and use new better one to replace the old nest\n",
    "    ---------------------------------------------------\n",
    "    Input parameters:\n",
    "        fit_func: User defined fitness evaluative function\n",
    "        lower_boundary: Lower bounary (example: lower_boundary = (-2, -2, -2))\n",
    "        upper_boundary: Upper boundary (example: upper_boundary = (2, 2, 2))\n",
    "        nests: Old nests' locations \n",
    "        best_nest: Nest with best fitness\n",
    "        fitness: Every nest's fitness\n",
    "        step_coefficient:  Step size scaling factor related to the problem's scale (default: 0.1)\n",
    "    Output:\n",
    "        Updated nests' locations\n",
    "    \"\"\"\n",
    "    lower_boundary = np.array(lower_boundary)\n",
    "    upper_boundary = np.array(upper_boundary)\n",
    "    n, m = nests.shape\n",
    "    # generate steps using levy flight\n",
    "    steps = levy_flight(n, m, 1.5)\n",
    "    new_nests = nests.copy()\n",
    "\n",
    "    for each_nest in range(n):\n",
    "        # coefficient 0.01 is to avoid levy flights becoming too aggresive\n",
    "        # and (nest[each_nest] - best_nest) could let the best nest be remained\n",
    "        step_size = step_coefficient * steps[each_nest] * (nests[each_nest] - best_nest)\n",
    "        step_direction = np.random.rand(m)\n",
    "        new_nests[each_nest] += step_size * step_direction\n",
    "        # apply boundary condtions\n",
    "        new_nests[each_nest][new_nests[each_nest] < lower_boundary] = lower_boundary[new_nests[each_nest] < lower_boundary]\n",
    "        new_nests[each_nest][new_nests[each_nest] > upper_boundary] = upper_boundary[new_nests[each_nest] > upper_boundary]\n",
    "\n",
    "    new_fitness = calc_fitness(fit_func, new_nests)\n",
    "    nests[new_fitness > fitness] = new_nests[new_fitness > fitness]\n",
    "    \n",
    "    return nests\n"
   ],
   "id": "78922fb569b47c8b",
   "outputs": [],
   "execution_count": 42
  },
  {
   "metadata": {
    "ExecuteTime": {
     "end_time": "2024-06-11T09:36:34.481833Z",
     "start_time": "2024-06-11T09:36:34.471214Z"
    }
   },
   "cell_type": "code",
   "source": [
    "def abandon_nests(nests, lower_boundary, upper_boundary, pa):\n",
    "    \"\"\"\n",
    "    Some cuckoos' eggs are found by hosts, and are abandoned.So cuckoos need to find new nests.\n",
    "    ---------------------------------------------------\n",
    "    Input parameters:\n",
    "        nests: Current nests' locations\n",
    "        lower_boundary: Lower bounary (example: lower_boundary = (-2, -2, -2))\n",
    "        upper_boundary: Upper boundary (example: upper_boundary = (2, 2, 2))\n",
    "        pa: Possibility that hosts find cuckoos' eggs\n",
    "    Output:\n",
    "        Updated nests' locations\n",
    "    \"\"\"\n",
    "    lower_boundary = np.array(lower_boundary)\n",
    "    upper_boundary = np.array(upper_boundary)\n",
    "    n, m = nests.shape\n",
    "    for each_nest in range(n):\n",
    "        if (np.random.rand() < pa):\n",
    "            step_size = np.random.rand() * (nests[np.random.randint(0, n)] - nests[np.random.randint(0, n)])\n",
    "            nests[each_nest] += step_size\n",
    "            # apply boundary condtions\n",
    "            nests[each_nest][nests[each_nest] < lower_boundary] = lower_boundary[nests[each_nest] < lower_boundary]\n",
    "            nests[each_nest][nests[each_nest] > upper_boundary] = upper_boundary[nests[each_nest] > upper_boundary]\n",
    "    \n",
    "    return nests\n"
   ],
   "id": "b756c9e7deb1620c",
   "outputs": [],
   "execution_count": 43
  },
  {
   "metadata": {
    "ExecuteTime": {
     "end_time": "2024-06-11T09:36:35.049312Z",
     "start_time": "2024-06-11T09:36:35.043009Z"
    }
   },
   "cell_type": "code",
   "source": [
    "def levy_flight(n, m, beta):\n",
    "    \"\"\"\n",
    "    This function implements Levy's flight.\n",
    "    ---------------------------------------------------\n",
    "    Input parameters:\n",
    "        n: Number of steps \n",
    "        m: Number of dimensions\n",
    "        beta: Power law index (note: 1 < beta < 2)\n",
    "    Output:\n",
    "        'n' levy steps in 'm' dimension\n",
    "    \"\"\"\n",
    "    sigma_u = (sc_special.gamma(1+beta)*np.sin(np.pi*beta/2)/(sc_special.gamma((1+beta)/2)*beta*(2**((beta-1)/2))))**(1/beta)\n",
    "    sigma_v = 1\n",
    "\n",
    "    u =  np.random.normal(0, sigma_u, (n, m))\n",
    "    v = np.random.normal(0, sigma_v, (n, m))\n",
    "\n",
    "    steps = u/((np.abs(v))**(1/beta))\n",
    "\n",
    "    return steps\n"
   ],
   "id": "ca0be24b6c879698",
   "outputs": [],
   "execution_count": 44
  },
  {
   "metadata": {
    "ExecuteTime": {
     "end_time": "2024-06-11T09:36:35.739702Z",
     "start_time": "2024-06-11T09:36:35.733983Z"
    }
   },
   "cell_type": "code",
   "source": [
    "def calc_fitness(fit_func, nests):\n",
    "    \"\"\"\n",
    "    calculate each nest's fitness\n",
    "    ---------------------------------------------------\n",
    "    Input parameters:\n",
    "        fit_func: User defined fitness evaluative function\n",
    "        nests:  Nests' locations\n",
    "    Output:\n",
    "        Every nest's fitness\n",
    "    \"\"\"\n",
    "    n, m = nests.shape\n",
    "    fitness = np.empty(n)\n",
    "\n",
    "    for each_nest in range(n):\n",
    "        fitness[each_nest] = fit_func(nests[each_nest])\n",
    "\n",
    "    return fitness"
   ],
   "id": "7104643175be2677",
   "outputs": [],
   "execution_count": 45
  },
  {
   "metadata": {
    "ExecuteTime": {
     "end_time": "2024-06-11T09:35:22.869306Z",
     "start_time": "2024-06-11T09:35:22.782571Z"
    }
   },
   "cell_type": "code",
   "source": [
    "#Example of CSA\n",
    "if __name__=='__main__':\n",
    "    def fit_func(nest):\n",
    "        x, y = nest        \n",
    "        return 3*(1-x)**2*np.e**(-x**2-(y+1)**2) - 10*(x/5-x**3-y**5)*np.e**(-x**2-y**2) - (np.e**(-(x+1)**2-y**2))/3\n",
    "\n",
    "    best_nest, best_fitness = cuckoo_search(25, 2, fit_func, [-3, -3], [3, 3], step_size = 0.4)\n",
    "\n",
    "    print('Max fitness: %.5f, Best nest position: (%.5f, %.5f)' % (best_fitness, best_nest[0], best_nest[1]))\n"
   ],
   "id": "921bf810a0bbe9d6",
   "outputs": [
    {
     "name": "stdout",
     "output_type": "stream",
     "text": [
      "Max fitness: 8.03915, Best nest position: (0.02086, 1.52145)\n"
     ]
    }
   ],
   "execution_count": 36
  },
  {
   "metadata": {
    "jupyter": {
     "is_executing": true
    },
    "ExecuteTime": {
     "start_time": "2024-06-10T13:48:26.183131Z"
    }
   },
   "cell_type": "code",
   "source": [
    "if __name__=='__main__':\n",
    "    def fit_func(nest):\n",
    "        A, l_pos, epsilon_f_pos, c_s_pos_max, l_neg, epsilon_f_neg, c_s_neg_max= nest \n",
    "        #MSE between v_t and v_hat_t:\n",
    "        df_ex = pd.read_csv('data/data_ocv_ex.csv')\n",
    "        df_sim = pd.read_csv('data/data_ocv_sim.csv')\n",
    "        #Extract the voltage and time columns in data_ocv_ex and data_ocv_sim\n",
    "        v_t = df_ex[['Time', 'Voltage']]\n",
    "        v_hat_t = df_sim[['Time', 'Voltage']]\n",
    "        # Calculate the mean square error\n",
    "        FF_V = mean_squared_error(v_t['Voltage'], v_hat_t['Voltage'])\n",
    "        \n",
    "        #The capacity error between cathode and anode can be calculated with the identified capacity-related parameters\n",
    "        F = 96485.33212\n",
    "        theta_0_pos = 0.915\n",
    "        theta_0_neg = 0.008\n",
    "        theta_100_pos = 0.254\n",
    "        theta_100_neg = 0.855\n",
    "        FF_C = np.abs((A * l_pos * epsilon_f_pos * F * c_s_pos_max * (theta_0_pos - theta_100_pos)/3600) - (A * l_neg * epsilon_f_neg * F * c_s_neg_max * (theta_100_neg - theta_0_neg)/3600))\n",
    "        \n",
    "        # Total objective fitness function  \n",
    "        w_Vn = 0.2\n",
    "        w_c = 1 - w_Vn\n",
    "        FF_M = w_Vn * FF_V + w_c * FF_C\n",
    "        \n",
    "        \n",
    "        return FF_M\n",
    "\n",
    "    best_nest, best_fitness = cuckoo_search(50, 7, fit_func, [0.378, 35, 0.35, 4.8, 35, 0.4, 2.9], [0.395, 79, 0.5, 5.2, 79, 0.5, 3.3], step_size = 0.4)\n",
    "\n",
    "    print('Max fitness: %.5f, Best nest position: (A: %.5f, l_pos: %.5f, epsilon_f_pos: %.5f, c_s_pos_max: %.5f, l_neg: %.5f, epsilon_f_neg: %.5f, c_s_neg_max: %.5f)' % (best_fitness, best_nest[0], best_nest[1], best_nest[2], best_nest[3], best_nest[4], best_nest[5], best_nest[6]))"
   ],
   "id": "f25dd00afaacaab8",
   "outputs": [],
   "execution_count": null
  },
  {
   "metadata": {},
   "cell_type": "code",
   "outputs": [],
   "execution_count": null,
   "source": "#Multi-objective fit_func:",
   "id": "3657e6eaa2ebec60"
  },
  {
   "metadata": {
    "ExecuteTime": {
     "end_time": "2024-06-11T09:42:50.395714Z",
     "start_time": "2024-06-11T09:42:50.303231Z"
    }
   },
   "cell_type": "code",
   "source": [
    "#MSE between v_t and v_hat_t:\n",
    "# Read two CSV files\n",
    "df_ex = pd.read_csv('data/data_ocv_ex.csv')\n",
    "df_sim = pd.read_csv('data/data_ocv_sim.csv')\n",
    "#Extract the voltage and time columns in data_ocv_ex and data_ocv_sim\n",
    "v_t = df_ex[['Testtime [s]', 'Voltage[V]']]\n",
    "v_hat_t = df_sim[['Testtime [s]', 'Voltage[V]']]\n",
    "# Calculate the mean square error\n",
    "mse = mean_squared_error(v_t['Voltage[V]'], v_hat_t['Voltage[V]'])\n",
    "\n",
    "print(f'The Mean Squared Error between the two sets of voltage data is:{mse}')"
   ],
   "id": "8036e4e58370394",
   "outputs": [
    {
     "ename": "KeyError",
     "evalue": "'Voltage'",
     "output_type": "error",
     "traceback": [
      "\u001B[0;31m---------------------------------------------------------------------------\u001B[0m",
      "\u001B[0;31mKeyError\u001B[0m                                  Traceback (most recent call last)",
      "File \u001B[0;32m/opt/anaconda3/envs/PyBamm/lib/python3.11/site-packages/pandas/core/indexes/base.py:3805\u001B[0m, in \u001B[0;36mIndex.get_loc\u001B[0;34m(self, key)\u001B[0m\n\u001B[1;32m   3804\u001B[0m \u001B[38;5;28;01mtry\u001B[39;00m:\n\u001B[0;32m-> 3805\u001B[0m     \u001B[38;5;28;01mreturn\u001B[39;00m \u001B[38;5;28mself\u001B[39m\u001B[38;5;241m.\u001B[39m_engine\u001B[38;5;241m.\u001B[39mget_loc(casted_key)\n\u001B[1;32m   3806\u001B[0m \u001B[38;5;28;01mexcept\u001B[39;00m \u001B[38;5;167;01mKeyError\u001B[39;00m \u001B[38;5;28;01mas\u001B[39;00m err:\n",
      "File \u001B[0;32mindex.pyx:167\u001B[0m, in \u001B[0;36mpandas._libs.index.IndexEngine.get_loc\u001B[0;34m()\u001B[0m\n",
      "File \u001B[0;32mindex.pyx:196\u001B[0m, in \u001B[0;36mpandas._libs.index.IndexEngine.get_loc\u001B[0;34m()\u001B[0m\n",
      "File \u001B[0;32mpandas/_libs/hashtable_class_helper.pxi:7081\u001B[0m, in \u001B[0;36mpandas._libs.hashtable.PyObjectHashTable.get_item\u001B[0;34m()\u001B[0m\n",
      "File \u001B[0;32mpandas/_libs/hashtable_class_helper.pxi:7089\u001B[0m, in \u001B[0;36mpandas._libs.hashtable.PyObjectHashTable.get_item\u001B[0;34m()\u001B[0m\n",
      "\u001B[0;31mKeyError\u001B[0m: 'Voltage'",
      "\nThe above exception was the direct cause of the following exception:\n",
      "\u001B[0;31mKeyError\u001B[0m                                  Traceback (most recent call last)",
      "Cell \u001B[0;32mIn[5], line 9\u001B[0m\n\u001B[1;32m      7\u001B[0m v_hat_t \u001B[38;5;241m=\u001B[39m df_sim[[\u001B[38;5;124m'\u001B[39m\u001B[38;5;124mTesttime [s]\u001B[39m\u001B[38;5;124m'\u001B[39m, \u001B[38;5;124m'\u001B[39m\u001B[38;5;124mVoltage[V]\u001B[39m\u001B[38;5;124m'\u001B[39m]]\n\u001B[1;32m      8\u001B[0m \u001B[38;5;66;03m# Calculate the mean square error\u001B[39;00m\n\u001B[0;32m----> 9\u001B[0m mse \u001B[38;5;241m=\u001B[39m mean_squared_error(v_t[\u001B[38;5;124m'\u001B[39m\u001B[38;5;124mVoltage\u001B[39m\u001B[38;5;124m'\u001B[39m], v_hat_t[\u001B[38;5;124m'\u001B[39m\u001B[38;5;124mVoltage\u001B[39m\u001B[38;5;124m'\u001B[39m])\n\u001B[1;32m     11\u001B[0m \u001B[38;5;28mprint\u001B[39m(\u001B[38;5;124mf\u001B[39m\u001B[38;5;124m'\u001B[39m\u001B[38;5;124mThe Mean Squared Error between the two sets of voltage data is:\u001B[39m\u001B[38;5;132;01m{\u001B[39;00mmse\u001B[38;5;132;01m}\u001B[39;00m\u001B[38;5;124m'\u001B[39m)\n",
      "File \u001B[0;32m/opt/anaconda3/envs/PyBamm/lib/python3.11/site-packages/pandas/core/frame.py:4090\u001B[0m, in \u001B[0;36mDataFrame.__getitem__\u001B[0;34m(self, key)\u001B[0m\n\u001B[1;32m   4088\u001B[0m \u001B[38;5;28;01mif\u001B[39;00m \u001B[38;5;28mself\u001B[39m\u001B[38;5;241m.\u001B[39mcolumns\u001B[38;5;241m.\u001B[39mnlevels \u001B[38;5;241m>\u001B[39m \u001B[38;5;241m1\u001B[39m:\n\u001B[1;32m   4089\u001B[0m     \u001B[38;5;28;01mreturn\u001B[39;00m \u001B[38;5;28mself\u001B[39m\u001B[38;5;241m.\u001B[39m_getitem_multilevel(key)\n\u001B[0;32m-> 4090\u001B[0m indexer \u001B[38;5;241m=\u001B[39m \u001B[38;5;28mself\u001B[39m\u001B[38;5;241m.\u001B[39mcolumns\u001B[38;5;241m.\u001B[39mget_loc(key)\n\u001B[1;32m   4091\u001B[0m \u001B[38;5;28;01mif\u001B[39;00m is_integer(indexer):\n\u001B[1;32m   4092\u001B[0m     indexer \u001B[38;5;241m=\u001B[39m [indexer]\n",
      "File \u001B[0;32m/opt/anaconda3/envs/PyBamm/lib/python3.11/site-packages/pandas/core/indexes/base.py:3812\u001B[0m, in \u001B[0;36mIndex.get_loc\u001B[0;34m(self, key)\u001B[0m\n\u001B[1;32m   3807\u001B[0m     \u001B[38;5;28;01mif\u001B[39;00m \u001B[38;5;28misinstance\u001B[39m(casted_key, \u001B[38;5;28mslice\u001B[39m) \u001B[38;5;129;01mor\u001B[39;00m (\n\u001B[1;32m   3808\u001B[0m         \u001B[38;5;28misinstance\u001B[39m(casted_key, abc\u001B[38;5;241m.\u001B[39mIterable)\n\u001B[1;32m   3809\u001B[0m         \u001B[38;5;129;01mand\u001B[39;00m \u001B[38;5;28many\u001B[39m(\u001B[38;5;28misinstance\u001B[39m(x, \u001B[38;5;28mslice\u001B[39m) \u001B[38;5;28;01mfor\u001B[39;00m x \u001B[38;5;129;01min\u001B[39;00m casted_key)\n\u001B[1;32m   3810\u001B[0m     ):\n\u001B[1;32m   3811\u001B[0m         \u001B[38;5;28;01mraise\u001B[39;00m InvalidIndexError(key)\n\u001B[0;32m-> 3812\u001B[0m     \u001B[38;5;28;01mraise\u001B[39;00m \u001B[38;5;167;01mKeyError\u001B[39;00m(key) \u001B[38;5;28;01mfrom\u001B[39;00m \u001B[38;5;21;01merr\u001B[39;00m\n\u001B[1;32m   3813\u001B[0m \u001B[38;5;28;01mexcept\u001B[39;00m \u001B[38;5;167;01mTypeError\u001B[39;00m:\n\u001B[1;32m   3814\u001B[0m     \u001B[38;5;66;03m# If we have a listlike key, _check_indexing_error will raise\u001B[39;00m\n\u001B[1;32m   3815\u001B[0m     \u001B[38;5;66;03m#  InvalidIndexError. Otherwise we fall through and re-raise\u001B[39;00m\n\u001B[1;32m   3816\u001B[0m     \u001B[38;5;66;03m#  the TypeError.\u001B[39;00m\n\u001B[1;32m   3817\u001B[0m     \u001B[38;5;28mself\u001B[39m\u001B[38;5;241m.\u001B[39m_check_indexing_error(key)\n",
      "\u001B[0;31mKeyError\u001B[0m: 'Voltage'"
     ]
    }
   ],
   "execution_count": 5
  },
  {
   "metadata": {
    "ExecuteTime": {
     "end_time": "2024-06-11T09:42:51.185134Z",
     "start_time": "2024-06-11T09:42:51.178708Z"
    }
   },
   "cell_type": "code",
   "source": "print(df_sim['Voltage[V]'].shape[0])",
   "id": "bcbc7fd1daf77773",
   "outputs": [
    {
     "data": {
      "text/plain": [
       "63386"
      ]
     },
     "execution_count": 6,
     "metadata": {},
     "output_type": "execute_result"
    }
   ],
   "execution_count": 6
  },
  {
   "metadata": {
    "ExecuteTime": {
     "end_time": "2024-06-10T12:54:42.294114Z",
     "start_time": "2024-06-10T12:54:42.155307Z"
    }
   },
   "cell_type": "code",
   "source": [
    "#The capacity error between cathode and anode can be calculated with the identified capacity-related parameters\n",
    "    # FF_C = np.abs((A * l_pos * epsilon_f_pos * F * c_s_pos_max * (theta_0_pos - theta_100_pos)/3600) - (A * l_neg * epsilon_f_neg * F * c_s_neg_max * (theta_100_neg - theta_0_neg)/3600))\n",
    "        # \"\"\"\n",
    "        # A: Electrode surface area [m^2] 0.378 - 0.395 (measurement)\n",
    "        # l_pos: Cathode Thickness [um] 35-79\n",
    "        # epsilon_f_pos: Cathode active material volume fraction 0.35-0.5\n",
    "        # F: Faraday constant 96485.33212C/mol\n",
    "        # c_s_pos_max: Cathode maximum ionic concentration [10^4mol/m^-3] 4.8 - 5.2\n",
    "        # theta_0_pos: 0.932(ref), 0.915(CSA)\n",
    "        # theta_100_pos: 0.260(ref), 0.254(CSA)\n",
    "        # l_neg: Anode thickness [um] 35-79\n",
    "        # epsilon_f_neg: Anode active material volume fraction 0.4-0.5\n",
    "        # c_s_neg_max: Anode maximum ionic concentration [10^4mol/m^-3] 2.9-3.3\n",
    "        # theta_0_neg: 0(ref), 0.008(CSA)\n",
    "        # theta_100_neg: 0.8292(ref), 0.855(CSA)\n",
    "        # \"\"\"\n",
    "# Total objective fitness function\n",
    "#     def FF_M():\n",
    "#         FF_M = w_c * FF_C\n",
    "#         for i in range(1, n_p):\n",
    "#             FF_M = w_v(i) * 2 + FF_M\n",
    "#         return FF_M\n",
    "#         \"\"\"\n",
    "#         n_p:the number of the input profiles when multiple profiles are used to identify the parameters\n",
    "#         w_v(i) and w_c: weights for the corresponding fitness terms.(The choice of the weights has a significant influence on the identification results,\n",
    "#                         which can be determined based on the value of the error terms so that every term is on the same order of magnitude during the\n",
    "#                         optimization process.)\n",
    "#         \"\"\"\n"
   ],
   "id": "e268e91137fd385c",
   "outputs": [
    {
     "name": "stdout",
     "output_type": "stream",
     "text": [
      "Max fitness: -2.97352, Best nest position: (0.64562, 0.55744, 0.39288)\n"
     ]
    }
   ],
   "execution_count": 14
  }
 ],
 "metadata": {
  "kernelspec": {
   "display_name": "Python 3",
   "language": "python",
   "name": "python3"
  },
  "language_info": {
   "codemirror_mode": {
    "name": "ipython",
    "version": 2
   },
   "file_extension": ".py",
   "mimetype": "text/x-python",
   "name": "python",
   "nbconvert_exporter": "python",
   "pygments_lexer": "ipython2",
   "version": "2.7.6"
  }
 },
 "nbformat": 4,
 "nbformat_minor": 5
}
