{
 "cells": [
  {
   "cell_type": "code",
   "execution_count": 2,
   "id": "initial_id",
   "metadata": {
    "collapsed": true,
    "ExecuteTime": {
     "end_time": "2024-09-10T17:47:40.611561100Z",
     "start_time": "2024-09-10T17:47:40.603449600Z"
    }
   },
   "outputs": [],
   "source": [
    "import pybamm\n",
    "import numpy as np\n",
    "from SALib.sample import saltelli\n",
    "from SALib.analyze import sobol\n",
    "import matplotlib.pyplot as plt\n",
    "from SALib.plotting.bar import plot as barplot"
   ]
  },
  {
   "cell_type": "code",
   "outputs": [],
   "source": [
    "# Define the model\n",
    "def battery_model(parameters):\n",
    "    # Creating a DFN model\n",
    "    model = pybamm.lithium_ion.DFN()\n",
    "    # 创建实验\n",
    "    experiment = pybamm.Experiment(\n",
    "        [\"Rest for 901 s\",\n",
    "            \"Discharge at 0.96 A for 147 s\",\n",
    "            \"Rest for 361 s\",\n",
    "            \"Discharge at 0.96 A for 134 s\"\n",
    "        ]\n",
    "    )\n",
    "    # Loading the default parameter set\n",
    "    param = model.default_parameter_values\n",
    "    param[\"Separator porosity\"] = 0.5\n",
    "    # Updating parameters\n",
    "    param.update({\n",
    "        \"Negative electrode thickness [m]\": parameters[0],\n",
    "        \"Positive electrode thickness [m]\": parameters[1],\n",
    "        \"Separator thickness [m]\": parameters[2],\n",
    "        \"Negative electrode active material volume fraction\": parameters[3],\n",
    "        \"Positive electrode active material volume fraction\": parameters[4],\n",
    "        \"Negative particle radius [m]\": parameters[5],\n",
    "        \"Positive particle radius [m]\": parameters[6],\n",
    "        \"Initial concentration in electrolyte [mol.m-3]\": parameters[7],\n",
    "        \"Negative electrode conductivity [S.m-1]\": parameters[8],\n",
    "        \"Positive electrode conductivity [S.m-1]\": parameters[9],\n",
    "        \"Negative electrode Bruggeman coefficient (electrode)\": parameters[10],\n",
    "        \"Positive electrode Bruggeman coefficient (electrode)\": parameters[11],\n",
    "        \"Separator Bruggeman coefficient (electrolyte)\": parameters[12],\n",
    "        \"Maximum concentration in negative electrode [mol.m-3]\": parameters[13],\n",
    "        \"Maximum concentration in positive electrode [mol.m-3]\": parameters[14],\n",
    "        \"Electrode height [m]\": parameters[15],\n",
    "        \"Electrode width [m]\": parameters[16],\n",
    "        # \"Negative electrode diffusivity [m2.s-1]\": parameters[17],\n",
    "        # \"Positive electrode diffusivity [m2.s-1]\": parameters[18],\n",
    "        # \"Electrolyte diffusivity [m2.s-1]\": parameters[19],\n",
    "        \"Negative electrode double-layer capacity [F.m-2]\": parameters[17],\n",
    "        \"Positive electrode double-layer capacity [F.m-2]\": parameters[18],\n",
    "        \"Negative electrode porosity\": parameters[19],\n",
    "        \"Positive electrode porosity\": parameters[20],\n",
    "        # \"Separator porosity\": parameters[21]\n",
    "    })\n",
    "    \n",
    "    # Creating a Casadi solver and setting options\n",
    "    solver = pybamm.CasadiSolver(\n",
    "        mode=\"safe\", \n",
    "        atol=1e-1, \n",
    "        rtol=1e-1, \n",
    "        dt_max=0.01,  # Decrease the maximum time step\n",
    "        max_step_decrease_count=2000  # Increase in step size decrease in frequency\n",
    "    )\n",
    "    \n",
    "    # Creating a Simulation\n",
    "    simulation = pybamm.Simulation(model, parameter_values=param, solver=solver, experiment=experiment)\n",
    "    solution = simulation.solve(calc_esoh=False)\n",
    "    voltage = solution[\"Terminal voltage [V]\"].entries\n",
    "    \n",
    "    # Returns the voltage at the end of the simulation\n",
    "    return voltage[19]"
   ],
   "metadata": {
    "collapsed": false,
    "ExecuteTime": {
     "end_time": "2024-09-10T17:54:40.598236500Z",
     "start_time": "2024-09-10T17:54:40.577492900Z"
    }
   },
   "id": "a25259d50fc5951d",
   "execution_count": 7
  },
  {
   "cell_type": "code",
   "outputs": [],
   "source": [
    "\n",
    "# Defining the parameter space\n",
    "problem = {\n",
    "    'num_vars': 21,\n",
    "    'names': ['Negative electrode thickness [m]', \n",
    "              'Positive electrode thickness [m]', \n",
    "              'Separator thickness [m]',\n",
    "              'Negative electrode active material volume fraction',\n",
    "              'Positive electrode active material volume fraction',\n",
    "              'Negative particle radius [m]',\n",
    "              'Positive particle radius [m]',\n",
    "              'Initial concentration in electrolyte [mol.m-3]',\n",
    "              'Negative electrode conductivity [S.m-1]',\n",
    "              'Positive electrode conductivity [S.m-1]',\n",
    "              'Negative electrode Bruggeman coefficient (electrode)',\n",
    "              'Positive electrode Bruggeman coefficient (electrode)',\n",
    "              'Separator Bruggeman coefficient (electrolyte)',\n",
    "              'Maximum concentration in negative electrode [mol.m-3]',\n",
    "              'Maximum concentration in positive electrode [mol.m-3]',\n",
    "              'Electrode height [m]',\n",
    "              'Electrode width [m]',\n",
    "              'Negative electrode double-layer capacity [F.m-2]',\n",
    "              'Positive electrode double-layer capacity [F.m-2]',\n",
    "              'Negative electrode porosity',\n",
    "              'Positive electrode porosity'\n",
    "              ],\n",
    "    'bounds': [[9e-5, 11e-5],  # Narrowing down the parameters 0.0001\n",
    "               [9e-5, 11e-5],  #0.0001\n",
    "               [1e-5, 3e-5],  #2.5e-05\n",
    "               [0.6, 0.7],      #0.6\n",
    "               [0.35, 0.5],     #0.5\n",
    "               [1e-5, 2e-5],    #1e-05\n",
    "               [1e-5, 2e-5],    #1e-05\n",
    "               [1e3, 1.2e3],    #1000\n",
    "               [1e2, 2e2],      #100\n",
    "               [9, 15],        #10\n",
    "               [1.3, 1.7],      #1.5\n",
    "               [1.3, 1.7],      #1.5\n",
    "               [1.3, 1.7],      #1.5\n",
    "               [2.3e4, 3.4e4],  #24983.2619938437\n",
    "               [5.0e4, 5.3e4],  #51217.9257309275\n",
    "               [0.1, 0.15],     #0.137     \n",
    "               [0.2, 0.25],     #0.207\n",
    "               [0.1, 1],        #0.2\n",
    "               [0.1, 1],        #0.2\n",
    "               [0.26, 0.5],     #0.3\n",
    "               [0.27, 0.45]     #0.3\n",
    "               ]       \n",
    "}"
   ],
   "metadata": {
    "collapsed": false,
    "ExecuteTime": {
     "end_time": "2024-09-10T17:54:42.599234600Z",
     "start_time": "2024-09-10T17:54:42.593243700Z"
    }
   },
   "id": "83c9e3d57fbba12c",
   "execution_count": 8
  },
  {
   "cell_type": "code",
   "outputs": [],
   "source": [
    "# Generate a sample\n",
    "param_values = saltelli.sample(problem, 128)  # Further reduction of sample size to improve debugging efficiency"
   ],
   "metadata": {
    "collapsed": false,
    "ExecuteTime": {
     "end_time": "2024-09-10T17:54:44.051383100Z",
     "start_time": "2024-09-10T17:54:44.002975300Z"
    }
   },
   "id": "4be11183341e03d7",
   "execution_count": 9
  },
  {
   "cell_type": "code",
   "outputs": [],
   "source": [
    "# Run the model and get the results\n",
    "Y = []\n",
    "\n",
    "for i, params in enumerate(param_values):\n",
    "    try:\n",
    "        result = battery_model(params)\n",
    "        Y.append(result)\n",
    "    except Exception as e:\n",
    "        print(f\"Error for sample {i} with parameters {params}: {e}\")\n",
    "        Y.append(np.nan)  # Returns NaN to continue processing other combinations of parameters\n",
    "\n",
    "# Converting Y to a NumPy array and filtering NaN values\n",
    "Y = np.array(Y)\n",
    "valid_indices = ~np.isnan(Y)\n",
    "Y_valid = Y[valid_indices]\n",
    "param_values_valid = param_values[valid_indices]"
   ],
   "metadata": {
    "collapsed": false,
    "ExecuteTime": {
     "end_time": "2024-09-10T20:02:53.402977400Z",
     "start_time": "2024-09-10T17:54:45.291706700Z"
    }
   },
   "id": "4ff5acf412c721f4",
   "execution_count": 10
  },
  {
   "cell_type": "code",
   "outputs": [
    {
     "name": "stdout",
     "output_type": "stream",
     "text": [
      "                                                              ST       ST_conf\n",
      "Negative electrode thickness [m]                    2.441931e-04  1.533101e-04\n",
      "Positive electrode thickness [m]                    2.504449e-02  7.620382e-03\n",
      "Separator thickness [m]                             6.169674e-04  1.792312e-04\n",
      "Negative electrode active material volume fraction  4.311189e-04  3.625994e-04\n",
      "Positive electrode active material volume fraction  8.638594e-02  2.213851e-02\n",
      "Negative particle radius [m]                        4.716675e-03  2.613021e-03\n",
      "Positive particle radius [m]                        1.547480e-01  3.749678e-02\n",
      "Initial concentration in electrolyte [mol.m-3]      1.287083e-04  4.045179e-05\n",
      "Negative electrode conductivity [S.m-1]             1.011245e-09  4.685973e-10\n",
      "Positive electrode conductivity [S.m-1]             3.157286e-10  1.353538e-10\n",
      "Negative electrode Bruggeman coefficient (elect...  6.805071e-11  3.683371e-11\n",
      "Positive electrode Bruggeman coefficient (elect...  1.451609e-10  6.714837e-11\n",
      "Separator Bruggeman coefficient (electrolyte)       4.991649e-05  1.267360e-05\n",
      "Maximum concentration in negative electrode [mo...  4.222787e-02  2.017681e-02\n",
      "Maximum concentration in positive electrode [mo...  5.072637e-01  1.290916e-01\n",
      "Electrode height [m]                                1.879641e-01  4.428320e-02\n",
      "Electrode width [m]                                 5.931001e-02  1.888415e-02\n",
      "Negative electrode double-layer capacity [F.m-2]    3.310529e-19  1.274351e-19\n",
      "Positive electrode double-layer capacity [F.m-2]    2.975099e-19  1.143122e-19\n",
      "Negative electrode porosity                         3.484296e-03  1.376490e-03\n",
      "Positive electrode porosity                         3.079884e-03  9.572700e-04\n",
      "                                                              S1       S1_conf\n",
      "Negative electrode thickness [m]                   -2.836978e-04  2.932512e-03\n",
      "Positive electrode thickness [m]                    2.896539e-02  3.997012e-02\n",
      "Separator thickness [m]                             1.577679e-03  5.208172e-03\n",
      "Negative electrode active material volume fraction -1.756237e-03  6.375147e-03\n",
      "Positive electrode active material volume fraction  8.888475e-02  7.137799e-02\n",
      "Negative particle radius [m]                        7.072704e-03  1.503243e-02\n",
      "Positive particle radius [m]                        1.504989e-01  8.669143e-02\n",
      "Initial concentration in electrolyte [mol.m-3]      5.381291e-04  2.769246e-03\n",
      "Negative electrode conductivity [S.m-1]            -9.290472e-09  5.857128e-06\n",
      "Positive electrode conductivity [S.m-1]             5.329775e-07  4.843380e-06\n",
      "Negative electrode Bruggeman coefficient (elect... -9.665303e-07  1.495008e-06\n",
      "Positive electrode Bruggeman coefficient (elect...  8.372821e-07  2.748893e-06\n",
      "Separator Bruggeman coefficient (electrolyte)       1.899901e-04  2.075213e-03\n",
      "Maximum concentration in negative electrode [mo...  1.214271e-02  5.561904e-02\n",
      "Maximum concentration in positive electrode [mo...  4.968008e-01  1.594738e-01\n",
      "Electrode height [m]                                1.717349e-01  8.807267e-02\n",
      "Electrode width [m]                                 6.375543e-02  5.606007e-02\n",
      "Negative electrode double-layer capacity [F.m-2]   -9.139758e-11  1.800169e-10\n",
      "Positive electrode double-layer capacity [F.m-2]   -7.999034e-11  1.436225e-10\n",
      "Negative electrode porosity                        -7.295770e-04  1.285551e-02\n",
      "Positive electrode porosity                         5.040206e-03  1.026557e-02\n",
      "                                                              S2       S2_conf\n",
      "(Negative electrode thickness [m], Positive ele...  5.847393e-04  4.457368e-03\n",
      "(Negative electrode thickness [m], Separator th...  7.867426e-04  4.713533e-03\n",
      "(Negative electrode thickness [m], Negative ele...  6.530016e-04  4.614331e-03\n",
      "(Negative electrode thickness [m], Positive ele... -9.118686e-05  4.965652e-03\n",
      "(Negative electrode thickness [m], Negative par...  9.760761e-04  4.560991e-03\n",
      "...                                                          ...           ...\n",
      "(Negative electrode double-layer capacity [F.m-...  5.011287e-11  2.134158e-10\n",
      "(Negative electrode double-layer capacity [F.m-...  3.856185e-11  2.160629e-10\n",
      "(Positive electrode double-layer capacity [F.m-...  8.743819e-11  2.243003e-10\n",
      "(Positive electrode double-layer capacity [F.m-...  8.572557e-11  2.261342e-10\n",
      "(Negative electrode porosity, Positive electrod...  2.836814e-03  1.584996e-02\n",
      "\n",
      "[210 rows x 2 columns]\n"
     ]
    }
   ],
   "source": [
    "# Perform sensitivity analyses\n",
    "Si = sobol.analyze(problem, Y_valid, print_to_console=True)"
   ],
   "metadata": {
    "collapsed": false,
    "ExecuteTime": {
     "end_time": "2024-09-10T20:11:51.857391700Z",
     "start_time": "2024-09-10T20:11:51.467236Z"
    }
   },
   "id": "5f130edb44819e29",
   "execution_count": 11
  },
  {
   "cell_type": "code",
   "outputs": [],
   "source": [
    "categories = [r'$L^{-}$',\n",
    "              r'$L^{+}$',\n",
    "              r'$L^{s}$',\n",
    "              r'$\\varepsilon_s^{-}$',\n",
    "              r'$\\varepsilon_s^{+}$',\n",
    "              r'$R_p^{-}$',\n",
    "              r'$R_p^{+}$',\n",
    "              r'$c_{e, 0}$',\n",
    "              r'$\\sigma_s^{-}$',\n",
    "              r'$\\sigma_s^{+}$',\n",
    "              r'$b^{-}$',\n",
    "              r'$b^{+}$',\n",
    "              r'$b^{s}$',\n",
    "              r'$c_{s, \\text { max }}^{-}$',\n",
    "              r'$c_{s, \\text { max }}^{+}$',\n",
    "              r'$L_{E}$',\n",
    "              r'$W_{E}$',\n",
    "              r'$C_{dl}^{-}$',\n",
    "              r'$C_{dl}^{+}$',\n",
    "              r'$\\varepsilon_e^{-}$',\n",
    "              r'$\\varepsilon_e^{+}$'\n",
    "              ]"
   ],
   "metadata": {
    "collapsed": false,
    "ExecuteTime": {
     "end_time": "2024-09-10T20:11:52.610372300Z",
     "start_time": "2024-09-10T20:11:52.602487500Z"
    }
   },
   "id": "524a257f529596d",
   "execution_count": 12
  },
  {
   "cell_type": "code",
   "outputs": [
    {
     "data": {
      "text/plain": "<Figure size 1000x500 with 1 Axes>",
      "image/png": "[encoded data removed]"
     },
     "metadata": {},
     "output_type": "display_data"
    }
   ],
   "source": [
    "params = categories\n",
    "# Total sensitivity index\n",
    "plt.figure(figsize=(10, 5))\n",
    "plt.bar(params, Si['ST'], color='lightcoral')\n",
    "plt.title('Total Sensitivity Index (ST)')\n",
    "plt.xlabel('Parameters')\n",
    "plt.ylabel('Sensitivity Index')\n",
    "plt.xticks(rotation=90)  # Rotate the x-axis labels by 90 degrees\n",
    "plt.show()"
   ],
   "metadata": {
    "collapsed": false,
    "ExecuteTime": {
     "end_time": "2024-09-10T20:12:18.180707800Z",
     "start_time": "2024-09-10T20:12:17.383329200Z"
    }
   },
   "id": "b25c25d6aab5a8ab",
   "execution_count": 13
  },
  {
   "cell_type": "code",
   "outputs": [],
   "source": [],
   "metadata": {
    "collapsed": false
   },
   "id": "b8551e0deb79c34e"
  }
 ],
 "metadata": {
  "kernelspec": {
   "display_name": "Python 3",
   "language": "python",
   "name": "python3"
  },
  "language_info": {
   "codemirror_mode": {
    "name": "ipython",
    "version": 2
   },
   "file_extension": ".py",
   "mimetype": "text/x-python",
   "name": "python",
   "nbconvert_exporter": "python",
   "pygments_lexer": "ipython2",
   "version": "2.7.6"
  }
 },
 "nbformat": 4,
 "nbformat_minor": 5
}
