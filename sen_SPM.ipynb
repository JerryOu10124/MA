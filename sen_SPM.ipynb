{
 "cells": [
  {
   "cell_type": "code",
   "execution_count": 1,
   "id": "initial_id",
   "metadata": {
    "collapsed": true,
    "ExecuteTime": {
     "end_time": "2024-09-16T23:11:06.896765700Z",
     "start_time": "2024-09-16T23:10:20.769193600Z"
    }
   },
   "outputs": [],
   "source": [
    "import pybamm\n",
    "import numpy as np\n",
    "import pandas as pd\n",
    "from SALib.sample import saltelli\n",
    "from SALib.analyze import sobol\n",
    "import matplotlib.pyplot as plt\n",
    "from SALib.plotting.bar import plot as barplot\n",
    "from scipy.interpolate import interp1d"
   ]
  },
  {
   "cell_type": "code",
   "outputs": [],
   "source": [
    "def battery_model(parameters):\n",
    "    model = pybamm.lithium_ion.SPM()  \n",
    "    \n",
    "    experiment = pybamm.Experiment([\n",
    "        \"Rest for 901 s\",\n",
    "        \"Discharge at 0.96 A for 147 s\",\n",
    "        \"Rest for 361 s\",\n",
    "        \"Discharge at 0.96 A for 134 s\"\n",
    "    ],period = \"0.1 second\")\n",
    "    \n",
    "    param = pybamm.ParameterValues(\"OKane2022\")\n",
    "    param[\"Separator porosity\"] = 0.5\n",
    "    param.update({\n",
    "        \"Negative electrode thickness [m]\": parameters[0],\n",
    "        \"Positive electrode thickness [m]\": parameters[1],\n",
    "        \"Separator thickness [m]\": parameters[2],\n",
    "        \"Negative electrode active material volume fraction\": parameters[3],\n",
    "        \"Positive electrode active material volume fraction\": parameters[4],\n",
    "        \"Negative particle radius [m]\": parameters[5],\n",
    "        \"Positive particle radius [m]\": parameters[6],\n",
    "        \"Initial concentration in electrolyte [mol.m-3]\": parameters[7],\n",
    "        \"Negative electrode conductivity [S.m-1]\": parameters[8],\n",
    "        \"Positive electrode conductivity [S.m-1]\": parameters[9],\n",
    "        \"Negative electrode Bruggeman coefficient (electrode)\": parameters[10],\n",
    "        \"Positive electrode Bruggeman coefficient (electrode)\": parameters[11],\n",
    "        \"Separator Bruggeman coefficient (electrolyte)\": parameters[12],\n",
    "        \"Maximum concentration in negative electrode [mol.m-3]\": parameters[13],\n",
    "        \"Maximum concentration in positive electrode [mol.m-3]\": parameters[14],\n",
    "        \"Electrode height [m]\": parameters[15],\n",
    "        \"Electrode width [m]\": parameters[16],\n",
    "        \"Negative electrode double-layer capacity [F.m-2]\": parameters[17],\n",
    "        \"Positive electrode double-layer capacity [F.m-2]\": parameters[18],\n",
    "        \"Negative electrode porosity\": parameters[19],\n",
    "        \"Positive electrode porosity\": parameters[20]\n",
    "    })\n",
    "    \n",
    "    param[\"Initial concentration in negative electrode [mol.m-3]\"] = 0.9*param[\"Maximum concentration in negative electrode [mol.m-3]\"]\n",
    "    # param[\"Initial concentration in positive electrode [mol.m-3]\"] = 0.5*param[\"Maximum concentration in positive electrode [mol.m-3]\"]\n",
    "\n",
    "    solver = pybamm.CasadiSolver(\n",
    "        mode=\"safe\",\n",
    "        atol=1e-8,\n",
    "        rtol=1e-8,\n",
    "        dt_max=1e-2\n",
    "    )\n",
    "    \n",
    "    try:\n",
    "        simulation = pybamm.Simulation(model, parameter_values=param, solver=solver, experiment=experiment)\n",
    "        solution = simulation.solve(calc_esoh=False)\n",
    "        voltage = solution[\"Terminal voltage [V]\"].entries\n",
    "        # Getting results\n",
    "        time = solution[\"Time [s]\"].entries\n",
    "        voltage = solution[\"Terminal voltage [V]\"].entries\n",
    "        \n",
    "        \n",
    "        # Generate a new point in time using np.logspace\n",
    "        start = 0.1\n",
    "        end = 147\n",
    "        num_points = 5\n",
    "        \n",
    "        # Generate logspace time points and make sure they are within the simulated time range\n",
    "        x = np.array([0])  # Initialize the time array\n",
    "        x = np.append(\n",
    "            x, np.logspace(np.log10(start), np.log10(end), num=num_points, endpoint=True)\n",
    "        )\n",
    "        x = np.append(\n",
    "            x, np.logspace(np.log10(148), np.log10(508), num=num_points, endpoint=True)\n",
    "        )\n",
    "        # Ensure that the new point in time does not exceed the maximum time of the simulation\n",
    "        max_time = time[-1]\n",
    "        x = x[x <= max_time]\n",
    "        \n",
    "        # Calculate the new voltage value using the interpolation function\n",
    "        interp_func = interp1d(time, voltage, kind='linear', fill_value=\"extrapolate\")\n",
    "        voltage_interp = interp_func(x)\n",
    "        \n",
    "        df = pd.DataFrame({'Time [s]': x, 'Voltage [V]': voltage_interp})\n",
    "        return voltage_interp[0]\n",
    "    except pybamm.SolverError as e:\n",
    "        print(f\"Error: {e}\")\n",
    "        return np.nan"
   ],
   "metadata": {
    "collapsed": false,
    "ExecuteTime": {
     "end_time": "2024-09-16T23:11:06.918128600Z",
     "start_time": "2024-09-16T23:11:06.903945700Z"
    }
   },
   "id": "4484f6bc7285bb4",
   "execution_count": 2
  },
  {
   "cell_type": "code",
   "outputs": [],
   "source": [
    "# Defining the parameter space\n",
    "problem = {\n",
    "    'num_vars': 21,\n",
    "    'names': [\n",
    "        'Negative electrode thickness [m]', \n",
    "        'Positive electrode thickness [m]', \n",
    "        'Separator thickness [m]',\n",
    "        'Negative electrode active material volume fraction',\n",
    "        'Positive electrode active material volume fraction',\n",
    "        'Negative particle radius [m]',\n",
    "        'Positive particle radius [m]',\n",
    "        'Initial concentration in electrolyte [mol.m-3]',\n",
    "        'Negative electrode conductivity [S.m-1]',\n",
    "        'Positive electrode conductivity [S.m-1]',\n",
    "        'Negative electrode Bruggeman coefficient (electrode)',\n",
    "        'Positive electrode Bruggeman coefficient (electrode)',\n",
    "        'Separator Bruggeman coefficient (electrolyte)',\n",
    "        'Maximum concentration in negative electrode [mol.m-3]',\n",
    "        'Maximum concentration in positive electrode [mol.m-3]',\n",
    "        'Electrode height [m]',\n",
    "        'Electrode width [m]',\n",
    "        'Negative electrode double-layer capacity [F.m-2]',\n",
    "        'Positive electrode double-layer capacity [F.m-2]',\n",
    "        'Negative electrode porosity',\n",
    "        'Positive electrode porosity'\n",
    "    ],\n",
    "    'bounds': [\n",
    "        [9e-5, 10e-5], [9e-5, 10e-5], [2e-5, 2.5e-5], [0.6, 0.65], [0.35, 0.45], \n",
    "        [1.5e-5, 1.7e-5], [1.5e-5, 1.7e-5], [1.1e3, 1.15e3], [1.5e2, 1.7e2], [12, 13], \n",
    "        [1.4, 1.6], [1.4, 1.6], [1.4, 1.6], [2.5e4, 2.8e4], [5.1e4, 5.2e4], \n",
    "        [0.12, 0.13], [0.22, 0.24], [0.3, 0.5], [0.3, 0.5], [0.3, 0.4], [0.3, 0.4]\n",
    "    ]\n",
    "}"
   ],
   "metadata": {
    "collapsed": false,
    "ExecuteTime": {
     "end_time": "2024-09-16T23:11:06.918128600Z",
     "start_time": "2024-09-16T23:11:06.910001600Z"
    }
   },
   "id": "2bffdc19255fd3c7",
   "execution_count": 3
  },
  {
   "cell_type": "code",
   "outputs": [
    {
     "name": "stderr",
     "output_type": "stream",
     "text": [
      "C:\\Users\\Jerry\\AppData\\Local\\Temp\\ipykernel_71444\\1401182809.py:1: DeprecationWarning: `salib.sample.saltelli` will be removed in SALib 1.5. Please use `salib.sample.sobol`\n",
      "  param_values = saltelli.sample(problem, 128)\n"
     ]
    }
   ],
   "source": [
    "param_values = saltelli.sample(problem, 128)"
   ],
   "metadata": {
    "collapsed": false,
    "ExecuteTime": {
     "end_time": "2024-09-16T23:11:06.996406800Z",
     "start_time": "2024-09-16T23:11:06.917156400Z"
    }
   },
   "id": "4b5819b1168feafd",
   "execution_count": 4
  },
  {
   "cell_type": "code",
   "outputs": [],
   "source": [
    "# Run the model and get the results\n",
    "Y = []\n",
    "\n",
    "for i, params in enumerate(param_values):\n",
    "    try:\n",
    "        result = battery_model(params)\n",
    "        Y.append(result)\n",
    "    except Exception as e:\n",
    "        print(f\"Error for sample {i} with parameters {params}: {e}\")\n",
    "        Y.append(np.nan)  # Returns NaN to continue processing other combinations of parameters\n",
    "\n",
    "# Converting Y to a NumPy array and filtering NaN values\n",
    "Y = np.array(Y)\n",
    "valid_indices = ~np.isnan(Y)\n",
    "Y_valid = Y[valid_indices]\n",
    "param_values_valid = param_values[valid_indices]"
   ],
   "metadata": {
    "collapsed": false,
    "is_executing": true,
    "ExecuteTime": {
     "start_time": "2024-09-16T23:11:06.992417800Z"
    }
   },
   "id": "15b5893b5a03ba66"
  },
  {
   "cell_type": "code",
   "outputs": [],
   "source": [
    "Si = sobol.analyze(problem, Y_valid, print_to_console=True)"
   ],
   "metadata": {
    "collapsed": false,
    "is_executing": true
   },
   "id": "f15b4cf5e7ee0a8a"
  },
  {
   "cell_type": "code",
   "outputs": [],
   "source": [
    "categories = [r'$L^{-}$',\n",
    "              r'$L^{+}$',\n",
    "              r'$L^{s}$',\n",
    "              r'$\\varepsilon_s^{-}$',\n",
    "              r'$\\varepsilon_s^{+}$',\n",
    "              r'$R_p^{-}$',\n",
    "              r'$R_p^{+}$',\n",
    "              r'$c_{e, 0}$',\n",
    "              r'$\\sigma_s^{-}$',\n",
    "              r'$\\sigma_s^{+}$',\n",
    "              r'$b^{-}$',\n",
    "              r'$b^{+}$',\n",
    "              r'$b^{s}$',\n",
    "              r'$c_{s, \\text { max }}^{-}$',\n",
    "              r'$c_{s, \\text { max }}^{+}$',\n",
    "              r'$L_{E}$',\n",
    "              r'$W_{E}$',\n",
    "              r'$C_{dl}^{-}$',\n",
    "              r'$C_{dl}^{+}$',\n",
    "              r'$\\varepsilon_e^{-}$',\n",
    "              r'$\\varepsilon_e^{+}$'\n",
    "              ]"
   ],
   "metadata": {
    "collapsed": false,
    "is_executing": true
   },
   "id": "a4b0ee2f771ad92e"
  },
  {
   "cell_type": "code",
   "outputs": [],
   "source": [
    "params = categories\n",
    "# Total sensitivity index\n",
    "plt.figure(figsize=(10, 5))\n",
    "plt.bar(params, Si['ST'], color='lightcoral')\n",
    "plt.title('Total Sensitivity Index (ST)')\n",
    "plt.xlabel('Parameters')\n",
    "plt.ylabel('Sensitivity Index')\n",
    "plt.xticks(rotation=90)  # Rotate the x-axis labels by 90 degrees\n",
    "plt.show()"
   ],
   "metadata": {
    "collapsed": false,
    "is_executing": true
   },
   "id": "11bd76ed27f0b52f"
  },
  {
   "cell_type": "code",
   "outputs": [],
   "source": [],
   "metadata": {
    "collapsed": false
   },
   "id": "a2081c8f5f259f9a"
  }
 ],
 "metadata": {
  "kernelspec": {
   "display_name": "Python 3",
   "language": "python",
   "name": "python3"
  },
  "language_info": {
   "codemirror_mode": {
    "name": "ipython",
    "version": 2
   },
   "file_extension": ".py",
   "mimetype": "text/x-python",
   "name": "python",
   "nbconvert_exporter": "python",
   "pygments_lexer": "ipython2",
   "version": "2.7.6"
  }
 },
 "nbformat": 4,
 "nbformat_minor": 5
}
