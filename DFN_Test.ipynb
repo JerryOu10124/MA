{
 "cells": [
  {
   "cell_type": "code",
   "execution_count": 9,
   "id": "initial_id",
   "metadata": {
    "collapsed": true,
    "ExecuteTime": {
     "end_time": "2024-09-18T19:39:00.569186600Z",
     "start_time": "2024-09-18T19:39:00.565683100Z"
    }
   },
   "outputs": [],
   "source": [
    "import pybamm\n",
    "import numpy as np\n",
    "import pandas as pd\n",
    "from SALib.sample import saltelli\n",
    "from SALib.analyze import sobol\n",
    "import matplotlib.pyplot as plt\n",
    "from SALib.plotting.bar import plot as barplot\n",
    "from scipy.interpolate import interp1d"
   ]
  },
  {
   "cell_type": "code",
   "outputs": [],
   "source": [
    "def battery_model(parameters):\n",
    "    model = pybamm.lithium_ion.DFN()  \n",
    "    \n",
    "    experiment = pybamm.Experiment(\n",
    "        [\"Rest for 0.1 s\",\n",
    "            \"Discharge at 0.96 A for 147 s\",\n",
    "            \"Rest for 361 s\",\n",
    "            \"Discharge at 0.96 A for 134 s\"\n",
    "        ],period = \"10 second\"\n",
    "    )\n",
    "    \n",
    "    param = pybamm.ParameterValues(\"OKane2022\")\n",
    "    param[\"Separator porosity\"] = 0.5\n",
    "    param.update({\n",
    "        \"Negative electrode thickness [m]\": parameters[0],\n",
    "        \"Positive electrode thickness [m]\": parameters[1],\n",
    "        \"Separator thickness [m]\": parameters[2],\n",
    "        \"Negative electrode active material volume fraction\": parameters[3],\n",
    "        \"Positive electrode active material volume fraction\": parameters[4],\n",
    "        \"Negative particle radius [m]\": parameters[5],\n",
    "        \"Positive particle radius [m]\": parameters[6],\n",
    "        \"Initial concentration in electrolyte [mol.m-3]\": parameters[7],\n",
    "        \"Negative electrode conductivity [S.m-1]\": parameters[8],\n",
    "        \"Positive electrode conductivity [S.m-1]\": parameters[9],\n",
    "        \"Negative electrode Bruggeman coefficient (electrode)\": parameters[10],\n",
    "        \"Positive electrode Bruggeman coefficient (electrode)\": parameters[11],\n",
    "        \"Separator Bruggeman coefficient (electrolyte)\": parameters[12],\n",
    "        \"Maximum concentration in negative electrode [mol.m-3]\": parameters[13],\n",
    "        \"Maximum concentration in positive electrode [mol.m-3]\": parameters[14],\n",
    "        \"Electrode height [m]\": parameters[15],\n",
    "        \"Electrode width [m]\": parameters[16],\n",
    "        \"Negative electrode double-layer capacity [F.m-2]\": parameters[17],\n",
    "        \"Positive electrode double-layer capacity [F.m-2]\": parameters[18],\n",
    "        \"Negative electrode porosity\": parameters[19],\n",
    "        \"Positive electrode porosity\": parameters[20]\n",
    "    })\n",
    "    \n",
    "    param[\"Initial concentration in negative electrode [mol.m-3]\"] = 0.9*param[\"Maximum concentration in negative electrode [mol.m-3]\"]\n",
    "    # param[\"Initial concentration in positive electrode [mol.m-3]\"] = 0.5*param[\"Maximum concentration in positive electrode [mol.m-3]\"]\n",
    "\n",
    "    solver = pybamm.CasadiSolver(\n",
    "        mode=\"safe\",\n",
    "        atol=1e-8,\n",
    "        rtol=1e-8,\n",
    "        dt_max=1e-2\n",
    "    )\n",
    "    \n",
    "    try:\n",
    "        simulation = pybamm.Simulation(model, parameter_values=param, solver=solver, experiment=experiment)\n",
    "        solution = simulation.solve(calc_esoh=False)\n",
    "        voltage = solution[\"Terminal voltage [V]\"].entries\n",
    "        time = solution[\"Time [s]\"].entries\n",
    "        # Generate a new point in time using np.logspace\n",
    "        start = 0.1\n",
    "        end = 147\n",
    "        num_points = 5\n",
    "        \n",
    "        # Generate logspace time points and make sure they are within the simulated time range\n",
    "        x = np.array([0])  # Initialize the time array\n",
    "        x = np.append(\n",
    "            x, np.logspace(np.log10(start), np.log10(end), num=num_points, endpoint=True)\n",
    "        )\n",
    "        x = np.append(\n",
    "            x, np.logspace(np.log10(148), np.log10(508), num=num_points, endpoint=True)\n",
    "        )\n",
    "        # Ensure that the new point in time does not exceed the maximum time of the simulation\n",
    "        max_time = time[-1]\n",
    "        x = x[x <= max_time]\n",
    "        \n",
    "        # Calculate the new voltage value using the interpolation function\n",
    "        interp_func = interp1d(time, voltage, kind='linear', fill_value=\"extrapolate\")\n",
    "        voltage_interp = interp_func(x)\n",
    "        \n",
    "        df = pd.DataFrame({'Time [s]': x, 'Voltage [V]': voltage_interp})\n",
    "        return voltage_interp[1]\n",
    "    except pybamm.SolverError as e:\n",
    "        print(f\"Error: {e}\")\n",
    "        return np.nan"
   ],
   "metadata": {
    "collapsed": false,
    "ExecuteTime": {
     "end_time": "2024-09-18T19:41:42.455496900Z",
     "start_time": "2024-09-18T19:41:42.443711200Z"
    }
   },
   "id": "b463c41f6b42db52",
   "execution_count": 14
  },
  {
   "cell_type": "code",
   "outputs": [],
   "source": [
    "\n",
    "# Defining the parameter space\n",
    "problem = {\n",
    "    'num_vars': 21,\n",
    "    'names': [\n",
    "        'Negative electrode thickness [m]', \n",
    "        'Positive electrode thickness [m]', \n",
    "        'Separator thickness [m]',\n",
    "        'Negative electrode active material volume fraction',\n",
    "        'Positive electrode active material volume fraction',\n",
    "        'Negative particle radius [m]',\n",
    "        'Positive particle radius [m]',\n",
    "        'Initial concentration in electrolyte [mol.m-3]',\n",
    "        'Negative electrode conductivity [S.m-1]',\n",
    "        'Positive electrode conductivity [S.m-1]',\n",
    "        'Negative electrode Bruggeman coefficient (electrode)',\n",
    "        'Positive electrode Bruggeman coefficient (electrode)',\n",
    "        'Separator Bruggeman coefficient (electrolyte)',\n",
    "        'Maximum concentration in negative electrode [mol.m-3]',\n",
    "        'Maximum concentration in positive electrode [mol.m-3]',\n",
    "        'Electrode height [m]',\n",
    "        'Electrode width [m]',\n",
    "        'Negative electrode double-layer capacity [F.m-2]',\n",
    "        'Positive electrode double-layer capacity [F.m-2]',\n",
    "        'Negative electrode porosity',\n",
    "        'Positive electrode porosity'\n",
    "    ],\n",
    "    'bounds': [\n",
    "        [9e-5, 10e-5], [9e-5, 10e-5], [2e-5, 2.5e-5], [0.6, 0.65], [0.35, 0.45], \n",
    "        [1.5e-5, 1.7e-5], [1.5e-5, 1.7e-5], [1.1e3, 1.15e3], [1.5e2, 1.7e2], [12, 13], \n",
    "        [1.4, 1.6], [1.4, 1.6], [1.4, 1.6], [2.5e4, 2.8e4], [5.1e4, 5.2e4], \n",
    "        [0.12, 0.13], [0.22, 0.24], [0.3, 0.5], [0.3, 0.5], [0.3, 0.4], [0.3, 0.4]\n",
    "    ]\n",
    "}"
   ],
   "metadata": {
    "collapsed": false,
    "ExecuteTime": {
     "end_time": "2024-09-18T19:41:42.809408200Z",
     "start_time": "2024-09-18T19:41:42.799284700Z"
    }
   },
   "id": "9aa70cca1aabb734",
   "execution_count": 15
  },
  {
   "cell_type": "code",
   "outputs": [],
   "source": [
    "\n",
    "param_values = saltelli.sample(problem, 128)"
   ],
   "metadata": {
    "collapsed": false,
    "ExecuteTime": {
     "end_time": "2024-09-18T19:41:43.402205300Z",
     "start_time": "2024-09-18T19:41:43.344195500Z"
    }
   },
   "id": "a79faab5c8e70fc4",
   "execution_count": 16
  },
  {
   "cell_type": "code",
   "outputs": [
    {
     "name": "stderr",
     "output_type": "stream",
     "text": [
      "The linesearch algorithm failed with too small a step.\n",
      "The linesearch algorithm failed with too small a step.\n",
      "The linesearch algorithm failed with too small a step.\n",
      "The linesearch algorithm failed with too small a step.\n",
      "The linesearch algorithm failed with too small a step.\n",
      "The linesearch algorithm failed with too small a step.\n",
      "2024-09-19 01:04:58.678 - [ERROR] callbacks.on_experiment_error(224): Simulation error: Maximum number of decreased steps occurred at t=0.0 (final SolverError: 'Error in Function::call for 'F' [IdasInterface] at .../casadi/core/function.cpp:1401:\n",
      "Error in Function::call for 'F' [IdasInterface] at .../casadi/core/function.cpp:330:\n",
      ".../casadi/interfaces/sundials/idas_interface.cpp:596: IDACalcIC returned \"IDA_LINESEARCH_FAIL\". Consult IDAS documentation.'). For a full solution try reducing dt_max (currently, dt_max=0.101) and/or reducing the size of the time steps or period of the experiment. Set `return_solution_if_failed_early=True` to return the solution object up to the point where failure occured.\n"
     ]
    },
    {
     "name": "stdout",
     "output_type": "stream",
     "text": [
      "Error: Maximum number of decreased steps occurred at t=0.0 (final SolverError: 'Error in Function::call for 'F' [IdasInterface] at .../casadi/core/function.cpp:1401:\n",
      "Error in Function::call for 'F' [IdasInterface] at .../casadi/core/function.cpp:330:\n",
      ".../casadi/interfaces/sundials/idas_interface.cpp:596: IDACalcIC returned \"IDA_LINESEARCH_FAIL\". Consult IDAS documentation.'). For a full solution try reducing dt_max (currently, dt_max=0.101) and/or reducing the size of the time steps or period of the experiment. Set `return_solution_if_failed_early=True` to return the solution object up to the point where failure occured.\n"
     ]
    }
   ],
   "source": [
    "# Run the model and get the results\n",
    "Y = []\n",
    "\n",
    "for i, params in enumerate(param_values):\n",
    "    try:\n",
    "        result = battery_model(params)\n",
    "        Y.append(result)\n",
    "    except Exception as e:\n",
    "        print(f\"Error for sample {i} with parameters {params}: {e}\")\n",
    "        Y.append(np.nan)  # Returns NaN to continue processing other combinations of parameters\n",
    "\n",
    "# Converting Y to a NumPy array and filtering NaN values\n",
    "Y = np.array(Y)\n",
    "valid_indices = ~np.isnan(Y)\n",
    "Y_valid = Y[valid_indices]\n",
    "param_values_valid = param_values[valid_indices]"
   ],
   "metadata": {
    "collapsed": false,
    "ExecuteTime": {
     "end_time": "2024-09-18T23:11:55.569826300Z",
     "start_time": "2024-09-18T19:41:43.640938400Z"
    }
   },
   "id": "523aad373c828292",
   "execution_count": 17
  },
  {
   "cell_type": "code",
   "outputs": [
    {
     "ename": "RuntimeError",
     "evalue": "\n        Incorrect number of samples in model output file.\n        Confirm that calc_second_order matches option used during sampling.",
     "output_type": "error",
     "traceback": [
      "\u001B[1;31m---------------------------------------------------------------------------\u001B[0m",
      "\u001B[1;31mRuntimeError\u001B[0m                              Traceback (most recent call last)",
      "Cell \u001B[1;32mIn[18], line 1\u001B[0m\n\u001B[1;32m----> 1\u001B[0m Si \u001B[38;5;241m=\u001B[39m \u001B[43msobol\u001B[49m\u001B[38;5;241;43m.\u001B[39;49m\u001B[43manalyze\u001B[49m\u001B[43m(\u001B[49m\u001B[43mproblem\u001B[49m\u001B[43m,\u001B[49m\u001B[43m \u001B[49m\u001B[43mY_valid\u001B[49m\u001B[43m,\u001B[49m\u001B[43m \u001B[49m\u001B[43mprint_to_console\u001B[49m\u001B[38;5;241;43m=\u001B[39;49m\u001B[38;5;28;43;01mTrue\u001B[39;49;00m\u001B[43m)\u001B[49m\n",
      "File \u001B[1;32mF:\\anaconda\\Jerry\\envs\\PyBaMM\\Lib\\site-packages\\SALib\\analyze\\sobol.py:119\u001B[0m, in \u001B[0;36manalyze\u001B[1;34m(problem, Y, calc_second_order, num_resamples, conf_level, print_to_console, parallel, n_processors, keep_resamples, seed)\u001B[0m\n\u001B[0;32m    117\u001B[0m     N \u001B[38;5;241m=\u001B[39m \u001B[38;5;28mint\u001B[39m(Y\u001B[38;5;241m.\u001B[39msize \u001B[38;5;241m/\u001B[39m (D \u001B[38;5;241m+\u001B[39m \u001B[38;5;241m2\u001B[39m))\n\u001B[0;32m    118\u001B[0m \u001B[38;5;28;01melse\u001B[39;00m:\n\u001B[1;32m--> 119\u001B[0m     \u001B[38;5;28;01mraise\u001B[39;00m \u001B[38;5;167;01mRuntimeError\u001B[39;00m(\n\u001B[0;32m    120\u001B[0m \u001B[38;5;250m        \u001B[39m\u001B[38;5;124;03m\"\"\"\u001B[39;00m\n\u001B[0;32m    121\u001B[0m \u001B[38;5;124;03m    Incorrect number of samples in model output file.\u001B[39;00m\n\u001B[0;32m    122\u001B[0m \u001B[38;5;124;03m    Confirm that calc_second_order matches option used during sampling.\"\"\"\u001B[39;00m\n\u001B[0;32m    123\u001B[0m     )\n\u001B[0;32m    125\u001B[0m \u001B[38;5;28;01mif\u001B[39;00m \u001B[38;5;129;01mnot\u001B[39;00m \u001B[38;5;241m0\u001B[39m \u001B[38;5;241m<\u001B[39m conf_level \u001B[38;5;241m<\u001B[39m \u001B[38;5;241m1\u001B[39m:\n\u001B[0;32m    126\u001B[0m     \u001B[38;5;28;01mraise\u001B[39;00m \u001B[38;5;167;01mRuntimeError\u001B[39;00m(\u001B[38;5;124m\"\u001B[39m\u001B[38;5;124mConfidence level must be between 0-1.\u001B[39m\u001B[38;5;124m\"\u001B[39m)\n",
      "\u001B[1;31mRuntimeError\u001B[0m: \n        Incorrect number of samples in model output file.\n        Confirm that calc_second_order matches option used during sampling."
     ]
    }
   ],
   "source": [
    "\n",
    "Si = sobol.analyze(problem, Y_valid, print_to_console=True)"
   ],
   "metadata": {
    "collapsed": false,
    "ExecuteTime": {
     "end_time": "2024-09-18T23:11:56.003012900Z",
     "start_time": "2024-09-18T23:11:55.570825200Z"
    }
   },
   "id": "beade2e350b6b752",
   "execution_count": 18
  },
  {
   "cell_type": "code",
   "outputs": [],
   "source": [
    "categories = [r'$L^{-}$',\n",
    "              r'$L^{+}$',\n",
    "              r'$L^{s}$',\n",
    "              r'$\\varepsilon_s^{-}$',\n",
    "              r'$\\varepsilon_s^{+}$',\n",
    "              r'$R_p^{-}$',\n",
    "              r'$R_p^{+}$',\n",
    "              r'$c_{e, 0}$',\n",
    "              r'$\\sigma_s^{-}$',\n",
    "              r'$\\sigma_s^{+}$',\n",
    "              r'$b^{-}$',\n",
    "              r'$b^{+}$',\n",
    "              r'$b^{s}$',\n",
    "              r'$c_{s, \\text { max }}^{-}$',\n",
    "              r'$c_{s, \\text { max }}^{+}$',\n",
    "              r'$L_{E}$',\n",
    "              r'$W_{E}$',\n",
    "              r'$C_{dl}^{-}$',\n",
    "              r'$C_{dl}^{+}$',\n",
    "              r'$\\varepsilon_e^{-}$',\n",
    "              r'$\\varepsilon_e^{+}$'\n",
    "              ]"
   ],
   "metadata": {
    "collapsed": false,
    "ExecuteTime": {
     "start_time": "2024-09-18T23:11:56.005006900Z"
    }
   },
   "id": "556238c51c4f088f"
  },
  {
   "cell_type": "code",
   "outputs": [],
   "source": [
    "\n",
    "params = categories\n",
    "# Total sensitivity index\n",
    "plt.figure(figsize=(10, 5))\n",
    "plt.bar(params, Si['ST'], color='lightcoral')\n",
    "plt.title('Total Sensitivity Index (ST)')\n",
    "plt.xlabel('Parameters')\n",
    "plt.ylabel('Sensitivity Index')\n",
    "plt.xticks(rotation=90)  # Rotate the x-axis labels by 90 degrees\n",
    "plt.show()"
   ],
   "metadata": {
    "collapsed": false,
    "ExecuteTime": {
     "start_time": "2024-09-18T23:11:56.007029300Z"
    }
   },
   "id": "40699f5275025571",
   "execution_count": null
  },
  {
   "cell_type": "code",
   "outputs": [],
   "source": [],
   "metadata": {
    "collapsed": false
   },
   "id": "ffa892bb46aa934c"
  }
 ],
 "metadata": {
  "kernelspec": {
   "display_name": "Python 3",
   "language": "python",
   "name": "python3"
  },
  "language_info": {
   "codemirror_mode": {
    "name": "ipython",
    "version": 2
   },
   "file_extension": ".py",
   "mimetype": "text/x-python",
   "name": "python",
   "nbconvert_exporter": "python",
   "pygments_lexer": "ipython2",
   "version": "2.7.6"
  }
 },
 "nbformat": 4,
 "nbformat_minor": 5
}
