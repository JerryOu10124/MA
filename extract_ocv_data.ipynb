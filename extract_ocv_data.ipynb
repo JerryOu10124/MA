{
 "cells": [
  {
   "metadata": {
    "ExecuteTime": {
     "end_time": "2024-06-02T14:39:53.327781Z",
     "start_time": "2024-06-02T14:39:52.528402Z"
    }
   },
   "cell_type": "code",
   "source": "import pandas as pd",
   "id": "25b303d524f49153",
   "outputs": [],
   "execution_count": 1
  },
  {
   "metadata": {
    "ExecuteTime": {
     "end_time": "2024-06-02T14:41:30.953449Z",
     "start_time": "2024-06-02T14:41:26.698829Z"
    }
   },
   "cell_type": "code",
   "source": [
    "\n",
    "def extract_and_save_values_by_stepid(input_file_path, stepid_value, output_file_path):\n",
    "    # 读取CSV文件到DataFrame中\n",
    "    df = pd.read_csv(input_file_path)\n",
    "\n",
    "    # 通过StepID列提取特定值的数据，并只选择\"Value\"列\n",
    "    extracted_values = df[df['StepID'] == stepid_value][['StepID', 'Voltage[V]', 'Testtime [s]']]\n",
    "\n",
    "    # 将提取到的数据保存到新的CSV文件\n",
    "    extracted_values.to_csv(output_file_path, index=False)\n",
    "\n",
    "\n",
    "# 提取步骤8的ocv\n",
    "input_file_path = '20231102_AM23NMC00007_CU.csv'\n",
    "stepid_value = 8\n",
    "output_file_path = 'data_step8_voltage.csv'\n",
    "extract_and_save_values_by_stepid(input_file_path, stepid_value, output_file_path)\n",
    "\n",
    "print(f\"Data saved to {output_file_path}\")\n"
   ],
   "id": "16bd70a18e0ff362",
   "outputs": [
    {
     "name": "stdout",
     "output_type": "stream",
     "text": [
      "Data saved to data_step8_voltage.csv\n"
     ]
    }
   ],
   "execution_count": 3
  },
  {
   "metadata": {
    "ExecuteTime": {
     "end_time": "2024-06-02T14:41:51.199819Z",
     "start_time": "2024-06-02T14:41:51.176096Z"
    }
   },
   "cell_type": "code",
   "source": [
    "df_test = pd.read_csv('data_step8_voltage.csv')\n",
    "print(df_test.shape[0])"
   ],
   "id": "7ddf8ae992fbb81a",
   "outputs": [
    {
     "name": "stdout",
     "output_type": "stream",
     "text": [
      "44403\n"
     ]
    }
   ],
   "execution_count": 4
  }
 ],
 "metadata": {
  "kernelspec": {
   "display_name": "Python 3",
   "language": "python",
   "name": "python3"
  },
  "language_info": {
   "codemirror_mode": {
    "name": "ipython",
    "version": 2
   },
   "file_extension": ".py",
   "mimetype": "text/x-python",
   "name": "python",
   "nbconvert_exporter": "python",
   "pygments_lexer": "ipython2",
   "version": "2.7.6"
  }
 },
 "nbformat": 4,
 "nbformat_minor": 5
}
